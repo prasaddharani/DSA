{
 "cells": [
  {
   "cell_type": "markdown",
   "metadata": {},
   "source": [
    "### Stack"
   ]
  },
  {
   "cell_type": "code",
   "execution_count": 18,
   "metadata": {},
   "outputs": [
    {
     "data": {
      "text/plain": [
       "False"
      ]
     },
     "execution_count": 18,
     "metadata": {},
     "output_type": "execute_result"
    }
   ],
   "source": [
    "## Valid Parenthesis\n",
    "''' \n",
    "Given a string s containing just the characters '(', ')', '{', '}', '[' and ']', determine if the input string is valid.\n",
    "\n",
    "An input string is valid if:\n",
    "\n",
    "Open brackets must be closed by the same type of brackets.\n",
    "Open brackets must be closed in the correct order.\n",
    "Every close bracket has a corresponding open bracket of the same type.\n",
    " \n",
    "\n",
    "Example 1:\n",
    "\n",
    "Input: s = \"()\"\n",
    "\n",
    "Output: true\n",
    "\n",
    "Example 2:\n",
    "\n",
    "Input: s = \"()[]{}\"\n",
    "\n",
    "Output: true\n",
    "\n",
    "Example 3:\n",
    "\n",
    "Input: s = \"(]\"\n",
    "\n",
    "Output: false\n",
    "\n",
    "Example 4:\n",
    "\n",
    "Input: s = \"([])\"\n",
    "\n",
    "Output: true\n",
    "'''\n",
    "\n",
    "class Solution(object):\n",
    "    def isValid(self, s):\n",
    "        \"\"\"\n",
    "        :type s: str\n",
    "        :rtype: bool\n",
    "        \"\"\"\n",
    "        stack = []\n",
    "        matching = {')': '(', ']': '[', '}': '{'}\n",
    "\n",
    "        for char in s:\n",
    "            if char in \"([{\":\n",
    "                stack.append(char)\n",
    "            elif char in \")]}\":\n",
    "                if not stack or stack[-1] != matching[char]:\n",
    "                    return False\n",
    "                stack.pop()\n",
    "\n",
    "        return len(stack) == 0\n",
    "    \n",
    "solution = Solution()\n",
    "solution.isValid(\"(]\")\n",
    "    "
   ]
  },
  {
   "cell_type": "code",
   "execution_count": 28,
   "metadata": {},
   "outputs": [],
   "source": [
    "### Min stack\n",
    "\n",
    "class MinStack(object):\n",
    "\n",
    "    def __init__(self):\n",
    "        self.stack = []\n",
    "        self.min_stack = []\n",
    "        \n",
    "\n",
    "    def push(self, val):\n",
    "        \"\"\"\n",
    "        :type val: int\n",
    "        :rtype: None\n",
    "        \"\"\"\n",
    "        self.stack.append(val)\n",
    "        if len(self.min_stack) == 0 or val <= self.min_stack[-1]:\n",
    "            self.min_stack.append(val)\n",
    "        \n",
    "\n",
    "    def pop(self):\n",
    "        \"\"\"\n",
    "        :rtype: None\n",
    "        \"\"\"\n",
    "        temp = self.min_stack[-1]\n",
    "        if temp == self.stack.pop():\n",
    "            self.min_stack.pop()\n",
    "        \n",
    "\n",
    "    def top(self):\n",
    "        \"\"\"\n",
    "        :rtype: int\n",
    "        \"\"\"\n",
    "        return self.stack[-1]\n",
    "        \n",
    "\n",
    "    def getMin(self):\n",
    "        \"\"\"\n",
    "        :rtype: int\n",
    "        \"\"\"\n",
    "        return self.min_stack[-1]\n",
    "        \n",
    "\n",
    "\n",
    "# Your MinStack object will be instantiated and called as such:\n",
    "obj = MinStack()\n",
    "obj.push(9)\n",
    "obj.push(10)\n",
    "obj.push(8)\n",
    "obj.pop()\n",
    "param_3 = obj.top()\n",
    "param_4 = obj.getMin()"
   ]
  },
  {
   "cell_type": "code",
   "execution_count": 59,
   "metadata": {},
   "outputs": [
    {
     "data": {
      "text/plain": [
       "'abc'"
      ]
     },
     "execution_count": 59,
     "metadata": {},
     "output_type": "execute_result"
    }
   ],
   "source": [
    "### Remove duplicate latters\n",
    "class Solution(object):\n",
    "    def removeDuplicateLetters(self, s):\n",
    "        \"\"\"\n",
    "        :type s: str\n",
    "        :rtype: str\n",
    "        \"\"\"\n",
    "        set_ds = set()\n",
    "        hash_map = {}\n",
    "        stack = []\n",
    "        for i in range(len(s)):\n",
    "            hash_map[s[i]] = i \n",
    "\n",
    "        for i, char in enumerate(s):\n",
    "            if char in set_ds:\n",
    "                continue\n",
    "            else:\n",
    "                while len(stack) > 0 and stack[-1] > char and hash_map[stack[-1]] > i:\n",
    "                    set_ds.remove(stack[-1])\n",
    "                    stack.pop()\n",
    "                stack.append(char)\n",
    "                set_ds.add(char)\n",
    "        return \"\".join(stack)\n",
    "\n",
    "solution = Solution()\n",
    "solution.removeDuplicateLetters('bcabc')"
   ]
  },
  {
   "cell_type": "markdown",
   "metadata": {},
   "source": [
    "1047. Remove All Adjacent Duplicates In String"
   ]
  },
  {
   "cell_type": "code",
   "execution_count": 60,
   "metadata": {},
   "outputs": [
    {
     "data": {
      "text/plain": [
       "'ca'"
      ]
     },
     "execution_count": 60,
     "metadata": {},
     "output_type": "execute_result"
    }
   ],
   "source": [
    "'''\n",
    "Input: s = \"abbaca\"\n",
    "Output: \"ca\"\n",
    "Explanation: \n",
    "For example, in \"abbaca\" we could remove \"bb\" since the letters are adjacent and equal, and this is the only possible move.  \n",
    "The result of this move is that the string is \"aaca\", of which only \"aa\" is possible, so the final string is \"ca\".\n",
    "'''\n",
    "\n",
    "class Solution(object):\n",
    "    def removeDuplaicates(self, s):\n",
    "        \"\"\"\n",
    "        :type s: str\n",
    "        :rtype: str\n",
    "        \"\"\"\n",
    "        stack = []\n",
    "        for char in s:\n",
    "            if stack and stack[-1] == char:\n",
    "                stack.pop()\n",
    "            else:\n",
    "                stack.append(char)\n",
    "        return \"\".join(stack)\n",
    "    \n",
    "solution = Solution()\n",
    "solution.removeDuplaicates('abbaca')\n",
    "\n",
    "        "
   ]
  },
  {
   "cell_type": "markdown",
   "metadata": {},
   "source": [
    "1209. Remove All Adjacent Duplicates in String II\n"
   ]
  },
  {
   "cell_type": "code",
   "execution_count": 68,
   "metadata": {},
   "outputs": [
    {
     "data": {
      "text/plain": [
       "'aa'"
      ]
     },
     "execution_count": 68,
     "metadata": {},
     "output_type": "execute_result"
    }
   ],
   "source": [
    "''' \n",
    "Input: s = \"deeedbbcccbdaa\", k = 3\n",
    "Output: \"aa\"\n",
    "Explanation: \n",
    "First delete \"eee\" and \"ccc\", get \"ddbbbdaa\"\n",
    "Then delete \"bbb\", get \"dddaa\"\n",
    "Finally delete \"ddd\", get \"aa\"\n",
    "\n",
    "'''\n",
    "class Solution(object):\n",
    "    def removeDuplicates(self, s, k):\n",
    "        \"\"\"\n",
    "        :type s: str\n",
    "        :type k: int\n",
    "        :rtype: str\n",
    "        \"\"\"\n",
    "        stack = []\n",
    "        for char in s:\n",
    "            if stack and stack[-1][0] == char:\n",
    "                stack[-1][1] += 1\n",
    "            else:\n",
    "                stack.append([char, 1])\n",
    "\n",
    "            if stack[-1][1] == k:\n",
    "                stack.pop()\n",
    "        result = ''\n",
    "        for i in stack:\n",
    "            result += i[0] * i[1]\n",
    "        return result\n",
    "    \n",
    "\n",
    "solution = Solution()\n",
    "solution.removeDuplicates('deeedbbcccbdaa', 3)\n"
   ]
  },
  {
   "cell_type": "markdown",
   "metadata": {},
   "source": [
    "2390. Removing Stars From a String"
   ]
  },
  {
   "cell_type": "code",
   "execution_count": 1,
   "metadata": {},
   "outputs": [
    {
     "data": {
      "text/plain": [
       "'lecoe'"
      ]
     },
     "execution_count": 1,
     "metadata": {},
     "output_type": "execute_result"
    }
   ],
   "source": [
    "'''  \n",
    "Input: s = \"leet**cod*e\"\n",
    "Output: \"lecoe\"\n",
    "Explanation: Performing the removals from left to right:\n",
    "- The closest character to the 1st star is 't' in \"leet**cod*e\". s becomes \"lee*cod*e\".\n",
    "- The closest character to the 2nd star is 'e' in \"lee*cod*e\". s becomes \"lecod*e\".\n",
    "- The closest character to the 3rd star is 'd' in \"lecod*e\". s becomes \"lecoe\".\n",
    "There are no more stars, so we return \"lecoe\".\n",
    "'''\n",
    "\n",
    "class Solution(object):\n",
    "    def removeStars(self, s):\n",
    "        \"\"\"\n",
    "        :type s: str\n",
    "        :rtype: str\n",
    "        \"\"\"\n",
    "        stack = []\n",
    "        for char in s:\n",
    "            if stack and char == '*':\n",
    "                stack.pop()\n",
    "            else:\n",
    "                stack.append(char)\n",
    "        return \"\".join(stack)\n",
    "    \n",
    "solution = Solution()\n",
    "solution.removeStars('leet**cod*e')\n"
   ]
  },
  {
   "cell_type": "markdown",
   "metadata": {},
   "source": [
    "150. Evaluate Reverse Polish Notation"
   ]
  },
  {
   "cell_type": "code",
   "execution_count": 14,
   "metadata": {},
   "outputs": [
    {
     "data": {
      "text/plain": [
       "6"
      ]
     },
     "execution_count": 14,
     "metadata": {},
     "output_type": "execute_result"
    }
   ],
   "source": [
    "'''  \n",
    "Example 1:\n",
    "\n",
    "Input: tokens = [\"2\",\"1\",\"+\",\"3\",\"*\"]\n",
    "Output: 9\n",
    "Explanation: ((2 + 1) * 3) = 9\n",
    "'''\n",
    "\n",
    "class Solution(object):\n",
    "    def evalRPN(self, tokens):\n",
    "        \"\"\"\n",
    "        :type tokens: List[str]\n",
    "        :rtype: int\n",
    "        \"\"\"\n",
    "        stack = []\n",
    "        for token in tokens:\n",
    "            if token in '+-*/':\n",
    "                m = int(stack.pop())\n",
    "                n = int(stack.pop())\n",
    "                if token == '+':\n",
    "                    stack.append(n+m)\n",
    "                elif token == '-':\n",
    "                    stack.append(n-m)\n",
    "                elif token == '*':\n",
    "                    stack.append(n*m)\n",
    "                elif token == '/':\n",
    "                    stack.append(int(n / m))\n",
    "            else:\n",
    "                stack.append(int(token))\n",
    "        return stack[0]\n",
    "    \n",
    "solution = Solution()\n",
    "solution.evalRPN([\"4\",\"13\",\"5\",\"/\",\"+\"])    "
   ]
  },
  {
   "cell_type": "markdown",
   "metadata": {},
   "source": [
    "227. Basic Calculator II"
   ]
  },
  {
   "cell_type": "code",
   "execution_count": 27,
   "metadata": {},
   "outputs": [
    {
     "data": {
      "text/plain": [
       "7"
      ]
     },
     "execution_count": 27,
     "metadata": {},
     "output_type": "execute_result"
    }
   ],
   "source": [
    "'''\n",
    "Example 1:\n",
    "\n",
    "Input: s = \"3+2*2\"\n",
    "Output: 7\n",
    "\n",
    "'''\n",
    "class Solution:\n",
    "    def calculate(self, s: str) -> int:\n",
    "        num = 0\n",
    "        sign = '+'\n",
    "        stack = []\n",
    "        for i, char in enumerate(s):\n",
    "            if char.isdigit():\n",
    "                num = (num * 10) + int(char)\n",
    "            if (not char.isdigit()) and char != ' ' or i == len(s) - 1:\n",
    "                if sign == '+':\n",
    "                    stack.append(num)\n",
    "                elif sign == '-':\n",
    "                    stack.append(-num)\n",
    "                elif sign == '*':\n",
    "                    stack.append(num * stack.pop())\n",
    "                elif sign == '/':\n",
    "                    stack.append(int(stack.pop() / num))\n",
    "                sign = char\n",
    "                num = 0\n",
    "        return sum(stack)\n",
    "    \n",
    "\n",
    "solution = Solution()\n",
    "solution.calculate('3+2*2')\n"
   ]
  },
  {
   "cell_type": "markdown",
   "metadata": {},
   "source": [
    "32. Longest Valid Parentheses"
   ]
  },
  {
   "cell_type": "code",
   "execution_count": 28,
   "metadata": {},
   "outputs": [
    {
     "data": {
      "text/plain": [
       "2"
      ]
     },
     "execution_count": 28,
     "metadata": {},
     "output_type": "execute_result"
    }
   ],
   "source": [
    "''' \n",
    "Input: s = \"(()\"\n",
    "Output: 2\n",
    "Explanation: The longest valid parentheses substring is \"()\".\n",
    "'''\n",
    "\n",
    "class Solution:\n",
    "    def longestValidParentheses(self, s: str) -> int:\n",
    "        stack = [-1]\n",
    "        max_count = 0\n",
    "        for i, char in enumerate(s):\n",
    "            if char == '(':\n",
    "                stack.append(i)\n",
    "            else:\n",
    "                stack.pop()\n",
    "                if not stack:\n",
    "                    stack.append(i)\n",
    "                else:\n",
    "                    max_count = max(max_count, i - stack[-1])\n",
    "        return max_count\n",
    "\n",
    "solution = Solution()\n",
    "solution.longestValidParentheses(\"(()\")"
   ]
  },
  {
   "cell_type": "code",
   "execution_count": null,
   "metadata": {},
   "outputs": [],
   "source": []
  },
  {
   "cell_type": "code",
   "execution_count": null,
   "metadata": {},
   "outputs": [],
   "source": []
  },
  {
   "cell_type": "code",
   "execution_count": null,
   "metadata": {},
   "outputs": [],
   "source": []
  },
  {
   "cell_type": "code",
   "execution_count": null,
   "metadata": {},
   "outputs": [],
   "source": []
  }
 ],
 "metadata": {
  "kernelspec": {
   "display_name": "Python 3",
   "language": "python",
   "name": "python3"
  },
  "language_info": {
   "codemirror_mode": {
    "name": "ipython",
    "version": 3
   },
   "file_extension": ".py",
   "mimetype": "text/x-python",
   "name": "python",
   "nbconvert_exporter": "python",
   "pygments_lexer": "ipython3",
   "version": "3.13.1"
  }
 },
 "nbformat": 4,
 "nbformat_minor": 2
}
