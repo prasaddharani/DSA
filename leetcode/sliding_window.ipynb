{
 "cells": [
  {
   "cell_type": "markdown",
   "metadata": {},
   "source": [
    "### Fixed Size Sliding Window "
   ]
  },
  {
   "cell_type": "markdown",
   "metadata": {},
   "source": [
    "438. Find All Anagrams in a String"
   ]
  },
  {
   "cell_type": "code",
   "execution_count": null,
   "metadata": {},
   "outputs": [
    {
     "data": {
      "text/plain": [
       "[0, 6]"
      ]
     },
     "execution_count": 7,
     "metadata": {},
     "output_type": "execute_result"
    }
   ],
   "source": [
    "''' \n",
    "Input: s = \"cbaebabacd\", p = \"abc\"\n",
    "Output: [0,6]\n",
    "Explanation:\n",
    "The substring with start index = 0 is \"cba\", which is an anagram of \"abc\".\n",
    "The substring with start index = 6 is \"bac\", which is an anagram of \"abc\".\n",
    "'''\n",
    "from typing import List \n",
    "class Solution:\n",
    "    def findAnagrams(self, s: str, p: str) -> List[int]:\n",
    "        if len(p) > len(s):\n",
    "            return []\n",
    "        s_count  = {}\n",
    "        p_count = {}\n",
    "        for i in range(len(p)):\n",
    "            s_count[s[i]] = s_count.get(s[i], 0) + 1\n",
    "            p_count[p[i]] = p_count.get(p[i], 0) + 1\n",
    "        res = [0] if s_count == p_count else []\n",
    "        l = 0\n",
    "        for r in range(len(p), len(s)):\n",
    "            s_count[s[r]] = s_count.get(s[r], 0) + 1\n",
    "            s_count[s[l]] = s_count.get(s[l]) - 1\n",
    "            if s_count[s[l]] == 0:\n",
    "                s_count.pop(s[l])\n",
    "            l += 1\n",
    "            if s_count == p_count:\n",
    "                res.append(l)\n",
    "        return res \n",
    "    \n",
    "solution = Solution()\n",
    "solution.findAnagrams(\"cbaebabacd\", \"abc\")\n",
    "    "
   ]
  },
  {
   "cell_type": "markdown",
   "metadata": {},
   "source": [
    "567. Permutation in String"
   ]
  },
  {
   "cell_type": "code",
   "execution_count": 12,
   "metadata": {},
   "outputs": [
    {
     "data": {
      "text/plain": [
       "True"
      ]
     },
     "execution_count": 12,
     "metadata": {},
     "output_type": "execute_result"
    }
   ],
   "source": [
    "''' \n",
    "Input: s1 = \"ab\", s2 = \"eidbaooo\"\n",
    "Output: true\n",
    "Explanation: s2 contains one permutation of s1 (\"ba\").\n",
    "'''\n",
    "\n",
    "class Solution:\n",
    "    def checkInclusion(self, s1: str, s2: str) -> bool:\n",
    "        if len(s1) > len(s2):\n",
    "            return False \n",
    "        s1_map, s2_map = {}, {}\n",
    "        for i in range(len(s1)):\n",
    "            s1_map[s1[i]] = s1_map.get(s1[i], 0) + 1 \n",
    "            s2_map[s2[i]] = s2_map.get(s2[i], 0) + 1\n",
    "        \n",
    "        if s1_map == s2_map: return True \n",
    "\n",
    "        l = 0 \n",
    "        for r in range(len(s1), len(s2)):\n",
    "            s2_map[s2[r]] = s2_map.get(s2[r], 0) + 1 \n",
    "            s2_map[s2[l]] = s2_map.get(s2[l], 0) - 1 \n",
    "            if s2_map[s2[l]] == 0:\n",
    "                s2_map.pop(s2[l])\n",
    "            l += 1\n",
    "            if s1_map == s2_map:\n",
    "                return True \n",
    "        return False \n",
    "    \n",
    "solution = Solution()\n",
    "solution.checkInclusion(\"ab\", \"eidbaooo\")"
   ]
  },
  {
   "cell_type": "markdown",
   "metadata": {},
   "source": [
    "### Dynamic Size Sliding Window"
   ]
  },
  {
   "cell_type": "markdown",
   "metadata": {},
   "source": [
    "3. Longest Substring Without Repeating Characters"
   ]
  },
  {
   "cell_type": "code",
   "execution_count": 15,
   "metadata": {},
   "outputs": [
    {
     "data": {
      "text/plain": [
       "3"
      ]
     },
     "execution_count": 15,
     "metadata": {},
     "output_type": "execute_result"
    }
   ],
   "source": [
    "''' \n",
    "Input: s = \"abcabcbb\"\n",
    "Output: 3\n",
    "Explanation: The answer is \"abc\", with the length of 3.\n",
    "'''\n",
    "\n",
    "class Solution:\n",
    "    def lengthOfLongestSubstring(self, s: str) -> int:\n",
    "        res = 0 \n",
    "        s_map = {}\n",
    "        l = 0 \n",
    "        for r in range(len(s)):\n",
    "            while s[r] in s_map:\n",
    "                s_map.pop(s[l])\n",
    "                l += 1\n",
    "            s_map[s[r]] = 1\n",
    "            res = max(res, r - l + 1)\n",
    "        return res \n",
    "    \n",
    "solution = Solution()\n",
    "solution.lengthOfLongestSubstring(\"abcabcbb\")\n"
   ]
  },
  {
   "cell_type": "markdown",
   "metadata": {},
   "source": [
    "76. Minimum Window Substring"
   ]
  },
  {
   "cell_type": "code",
   "execution_count": 31,
   "metadata": {},
   "outputs": [
    {
     "data": {
      "text/plain": [
       "'BANC'"
      ]
     },
     "execution_count": 31,
     "metadata": {},
     "output_type": "execute_result"
    }
   ],
   "source": [
    "''' \n",
    "Input: s = \"ADOBECODEBANC\", t = \"ABC\"\n",
    "Output: \"BANC\"\n",
    "Explanation: The minimum window substring \"BANC\" includes 'A', 'B', and 'C' from string t.\n",
    "'''\n",
    "class Solution:\n",
    "    def minWindow(self, s: str, t: str) -> str:\n",
    "        if len(t) > len(s):\n",
    "            return \"\"\n",
    "        s_map, t_map = {}, {}\n",
    "        for c in t:\n",
    "            t_map[c] = t_map.get(c, 0) + 1\n",
    "        res, res_len = [-1, -1], float('infinity')\n",
    "        have, need = 0, len(t_map)\n",
    "        l = 0\n",
    "        for r in range(len(s)):\n",
    "            c = s[r]\n",
    "            s_map[c] = s_map.get(c, 0) + 1 \n",
    "            if c in t_map and s_map[c] == t_map[c]:\n",
    "                have += 1\n",
    "            while have == need:\n",
    "                if res_len > r - l + 1:\n",
    "                    res_len = r - l + 1\n",
    "                    res = [l, r]\n",
    "                s_map[s[l]] -= 1\n",
    "                if s[l] in t_map and s_map[s[l]] < t_map[s[l]]:\n",
    "                    have -= 1 \n",
    "                l += 1 \n",
    "        l, r = res \n",
    "        return s[l:r+1] if res_len != float('infinity') else \"\"\n",
    "\n",
    "solution = Solution()\n",
    "solution.minWindow(\"ADOBECODEBANC\", \"ABC\")\n"
   ]
  },
  {
   "cell_type": "code",
   "execution_count": null,
   "metadata": {},
   "outputs": [],
   "source": []
  },
  {
   "cell_type": "code",
   "execution_count": null,
   "metadata": {},
   "outputs": [],
   "source": []
  }
 ],
 "metadata": {
  "kernelspec": {
   "display_name": "Python 3",
   "language": "python",
   "name": "python3"
  },
  "language_info": {
   "codemirror_mode": {
    "name": "ipython",
    "version": 3
   },
   "file_extension": ".py",
   "mimetype": "text/x-python",
   "name": "python",
   "nbconvert_exporter": "python",
   "pygments_lexer": "ipython3",
   "version": "3.12.6"
  }
 },
 "nbformat": 4,
 "nbformat_minor": 2
}
