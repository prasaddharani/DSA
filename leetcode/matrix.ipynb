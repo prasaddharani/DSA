{
 "cells": [
  {
   "cell_type": "markdown",
   "metadata": {},
   "source": [
    "54. Spiral Matrix"
   ]
  },
  {
   "cell_type": "code",
   "execution_count": 15,
   "metadata": {},
   "outputs": [
    {
     "data": {
      "text/plain": [
       "[1, 2, 3, 4, 8, 12, 11, 10, 9, 5, 6, 7]"
      ]
     },
     "execution_count": 15,
     "metadata": {},
     "output_type": "execute_result"
    }
   ],
   "source": [
    "''' \n",
    "Input: matrix = [[1,2,3],[4,5,6],[7,8,9]]\n",
    "Output: [1,2,3,6,9,8,7,4,5]\n",
    "'''\n",
    "from typing import List\n",
    "\n",
    "class Solution:\n",
    "    def spiralOrder(self, matrix: List[List[int]]) -> List[int]:\n",
    "        top, bottom = 0, len(matrix)\n",
    "        left, right = 0, len(matrix[0])\n",
    "        res = []\n",
    "\n",
    "        while top < bottom and left < right:\n",
    "            # Move from top left to top right \n",
    "            for i in range(left, right):\n",
    "                res.append(matrix[top][i])\n",
    "            top += 1\n",
    "\n",
    "            # Move from top right till bottom end \n",
    "            for i in range(top, bottom):\n",
    "                res.append(matrix[i][right -1])\n",
    "            right -= 1 \n",
    "\n",
    "            if not (top < bottom and left < right):\n",
    "                break\n",
    "\n",
    "            # Move from bottom right to bottom left \n",
    "            for i in range(right - 1, left - 1, -1):\n",
    "                res.append(matrix[bottom - 1][i])\n",
    "            bottom -= 1 \n",
    "\n",
    "            # Move from left bottom to left top \n",
    "            for i in range(bottom - 1, top - 1, -1):\n",
    "                res.append(matrix[i][left])\n",
    "            left += 1\n",
    "        return res  \n",
    "\n",
    "solution = Solution()\n",
    "solution.spiralOrder([[1,2,3,4],[5,6,7,8],[9,10,11,12]])\n"
   ]
  },
  {
   "cell_type": "markdown",
   "metadata": {},
   "source": [
    "48. Rotate Image"
   ]
  },
  {
   "cell_type": "code",
   "execution_count": 28,
   "metadata": {},
   "outputs": [
    {
     "data": {
      "text/plain": [
       "[[16, 12, 14, 15], [7, 6, 3, 13], [10, 8, 4, 2], [11, 9, 1, 5]]"
      ]
     },
     "execution_count": 28,
     "metadata": {},
     "output_type": "execute_result"
    }
   ],
   "source": [
    "''' \n",
    "Input: matrix = [[1,2,3],[4,5,6],[7,8,9]]\n",
    "Output: [[7,4,1],[8,5,2],[9,6,3]]\n",
    "'''\n",
    "\n",
    "class Solution:\n",
    "    def rotate(self, matrix: List[List[int]]) -> None:\n",
    "        left, right = 0, len(matrix) - 1\n",
    "        while left < right:\n",
    "            for i in range(right - left):\n",
    "                top, bottom = left, right\n",
    "                # Store top left value in temp to avoid data lost while swapping\n",
    "                top_left = matrix[top][left + i]\n",
    "\n",
    "                # Move bottom left value to top left \n",
    "                matrix[top][left + i] = matrix[bottom - i][left]\n",
    "\n",
    "                # Move bottom right to bottom left \n",
    "                matrix[bottom - i][left] = matrix[bottom][right - i]\n",
    "\n",
    "                # Move top right to bottom right\n",
    "                matrix[bottom][right - i] = matrix[top + i][right]\n",
    "\n",
    "                # Move top saved left to top right \n",
    "                matrix[top + i][right] = top_left \n",
    "                #print(matrix)\n",
    "\n",
    "            left += 1\n",
    "            right -= 1\n",
    "        return matrix \n",
    "    \n",
    "solution = Solution()\n",
    "solution.rotate([[1,2,3],[4,5,6],[7,8,9]])  # For loop is to go element by element within that layer\n",
    "solution.rotate([[15,13,2,5],[14,3,4,1],[12,6,8,9],[16,7,10,11]]) # while loop is for going layer by layer"
   ]
  },
  {
   "cell_type": "markdown",
   "metadata": {},
   "source": [
    "73. Set Matrix Zeroes"
   ]
  },
  {
   "cell_type": "code",
   "execution_count": 41,
   "metadata": {},
   "outputs": [
    {
     "data": {
      "text/plain": [
       "[[1, 0, 1], [0, 0, 0], [1, 0, 1]]"
      ]
     },
     "execution_count": 41,
     "metadata": {},
     "output_type": "execute_result"
    }
   ],
   "source": [
    "''' \n",
    "Input: matrix = [[1,1,1],[1,0,1],[1,1,1]]\n",
    "Output: [[1,0,1],[0,0,0],[1,0,1]]\n",
    "'''\n",
    "\n",
    "class Solution:\n",
    "    def setZeroes(self, matrix: List[List[int]]) -> None:\n",
    "        \"\"\"\n",
    "        Do not return anything, modify matrix in-place instead.\n",
    "        \"\"\"\n",
    "        row, col = len(matrix), len(matrix[0])\n",
    "        first_row, first_col = False, False\n",
    "        for i in range(row):\n",
    "            for j in range(col):\n",
    "                if matrix[i][j] == 0:\n",
    "                    if i == 0: \n",
    "                        first_row = True \n",
    "                    if j == 0: \n",
    "                        first_col = True \n",
    "                    matrix[0][j] = 0\n",
    "                    matrix[i][0] = 0 \n",
    "\n",
    "        for i in range(1, row):\n",
    "            for j in range(1, col):\n",
    "                if matrix[0][j] == 0 or matrix[i][0] == 0:\n",
    "                    matrix[i][j] = 0 \n",
    "\n",
    "        if first_row:\n",
    "            for j in range(col):\n",
    "                matrix[0][j] = 0 \n",
    "        \n",
    "        if first_col:\n",
    "            for i in range(row):\n",
    "                matrix[i][0] = 0 \n",
    "\n",
    "        return matrix\n",
    "\n",
    "solution = Solution()\n",
    "solution.setZeroes([[1,1,1],[1,0,1],[1,1,1]])\n",
    "\n",
    "                "
   ]
  },
  {
   "cell_type": "code",
   "execution_count": null,
   "metadata": {},
   "outputs": [],
   "source": []
  }
 ],
 "metadata": {
  "kernelspec": {
   "display_name": "Python 3",
   "language": "python",
   "name": "python3"
  },
  "language_info": {
   "codemirror_mode": {
    "name": "ipython",
    "version": 3
   },
   "file_extension": ".py",
   "mimetype": "text/x-python",
   "name": "python",
   "nbconvert_exporter": "python",
   "pygments_lexer": "ipython3",
   "version": "3.12.6"
  }
 },
 "nbformat": 4,
 "nbformat_minor": 2
}
