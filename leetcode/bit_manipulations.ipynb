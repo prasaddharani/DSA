{
 "cells": [
  {
   "cell_type": "markdown",
   "metadata": {},
   "source": [
    "136. Single Number"
   ]
  },
  {
   "cell_type": "code",
   "execution_count": 3,
   "metadata": {},
   "outputs": [
    {
     "data": {
      "text/plain": [
       "4"
      ]
     },
     "execution_count": 3,
     "metadata": {},
     "output_type": "execute_result"
    }
   ],
   "source": [
    "''' \n",
    "Example 1:\n",
    "\n",
    "Input: nums = [2,2,1]\n",
    "\n",
    "Output: 1\n",
    "\n",
    "Example 2:\n",
    "\n",
    "Input: nums = [4,1,2,1,2]\n",
    "\n",
    "Output: 4\n",
    "'''\n",
    "from typing import List, Optional\n",
    "\n",
    "class Solution:\n",
    "    def singleNumber(self, nums: List[int]) -> int:\n",
    "        res = 0\n",
    "        for num in nums:\n",
    "            res = res ^ num \n",
    "        return res \n",
    "\n",
    "solution = Solution()\n",
    "solution.singleNumber([4,1,2,1,2])\n",
    "        "
   ]
  },
  {
   "cell_type": "markdown",
   "metadata": {},
   "source": [
    "191. Number of 1 Bits"
   ]
  },
  {
   "cell_type": "markdown",
   "metadata": {},
   "source": [
    "Brian Kernighan’s Algorithm"
   ]
  },
  {
   "cell_type": "code",
   "execution_count": 7,
   "metadata": {},
   "outputs": [
    {
     "data": {
      "text/plain": [
       "2"
      ]
     },
     "execution_count": 7,
     "metadata": {},
     "output_type": "execute_result"
    }
   ],
   "source": [
    "\n",
    "'''\n",
    "n = 12 (1100)\n",
    "\n",
    "step-1: \n",
    "n & (n - 1)\n",
    "1100 & 1011 = 1000\n",
    "count = 1\n",
    "\n",
    "step-2:\n",
    "n = 1000\n",
    "n - 1 = 0111\n",
    "n = n & (n - 1) = 0000\n",
    "count = 2\n",
    "'''\n",
    "class Solution:\n",
    "    def hammingWeight(self, n: int) -> int:\n",
    "        count = 0\n",
    "        while n:\n",
    "            n = n & (n - 1)\n",
    "            count += 1\n",
    "        return count \n",
    "    \n",
    "solution = Solution()\n",
    "solution.hammingWeight(12)\n"
   ]
  },
  {
   "cell_type": "markdown",
   "metadata": {},
   "source": [
    "338. Counting Bits"
   ]
  },
  {
   "cell_type": "code",
   "execution_count": 13,
   "metadata": {},
   "outputs": [
    {
     "data": {
      "text/plain": [
       "[0, 1, 1, 2, 1, 2]"
      ]
     },
     "execution_count": 13,
     "metadata": {},
     "output_type": "execute_result"
    }
   ],
   "source": [
    "''' \n",
    "Input: n = 5\n",
    "Output: [0,1,1,2,1,2]\n",
    "Explanation:\n",
    "0 --> 0\n",
    "1 --> 1\n",
    "2 --> 10\n",
    "3 --> 11\n",
    "4 --> 100\n",
    "5 --> 101\n",
    "'''\n",
    "\n",
    "class Solution:\n",
    "    def countBits(self, n: int) -> List[int]:\n",
    "        dp = [0] * (n + 1)\n",
    "        for i in range(1, n + 1):\n",
    "            dp[i] = dp[i >> 1] + (i & 1)\n",
    "        return dp \n",
    "\n",
    "    \n",
    "solution = Solution()\n",
    "solution.countBits(5)"
   ]
  },
  {
   "cell_type": "markdown",
   "metadata": {},
   "source": [
    "190. Reverse Bits"
   ]
  },
  {
   "cell_type": "code",
   "execution_count": 19,
   "metadata": {},
   "outputs": [
    {
     "data": {
      "text/plain": [
       "964176192"
      ]
     },
     "execution_count": 19,
     "metadata": {},
     "output_type": "execute_result"
    }
   ],
   "source": [
    "''' \n",
    "Input: n = 00000010100101000001111010011100\n",
    "Output:    964176192 (00111001011110000010100101000000)\n",
    "Explanation: The input binary string 00000010100101000001111010011100 represents the unsigned integer 43261596, so return 964176192 which its binary representation is 00111001011110000010100101000000.\n",
    "'''\n",
    "\n",
    "class Solution:\n",
    "    def reverseBits(self, n: int) -> int:\n",
    "        res = 0 \n",
    "        for i in range(32):\n",
    "            bit = (n >> i) & 1\n",
    "            res = res | bit << (31 - i)\n",
    "        return res \n",
    "    \n",
    "solution = Solution()\n",
    "solution.reverseBits(43261596)"
   ]
  },
  {
   "cell_type": "code",
   "execution_count": 20,
   "metadata": {},
   "outputs": [
    {
     "name": "stdout",
     "output_type": "stream",
     "text": [
      "Binary '1011' to integer: 11\n",
      "Integer 11 to binary: 1011\n"
     ]
    }
   ],
   "source": [
    "def bin_to_int(binary_str: str) -> int:\n",
    "    \"\"\"\n",
    "    Converts a binary string to an integer.\n",
    "    Example: '1011' returns 11.\n",
    "    \"\"\"\n",
    "    return int(binary_str, 2)\n",
    "\n",
    "def int_to_bin(n: int) -> str:\n",
    "    \"\"\"\n",
    "    Converts an integer to a binary string without the '0b' prefix.\n",
    "    Example: 11 returns '1011'.\n",
    "    \"\"\"\n",
    "    return bin(n)[2:]\n",
    "\n",
    "# Example usage:\n",
    "binary_str = \"1011\"\n",
    "converted_int = bin_to_int(binary_str)\n",
    "print(f\"Binary '{binary_str}' to integer:\", converted_int)\n",
    "\n",
    "integer_number = 11\n",
    "converted_binary = int_to_bin(integer_number)\n",
    "print(f\"Integer {integer_number} to binary:\", converted_binary)"
   ]
  },
  {
   "cell_type": "code",
   "execution_count": null,
   "metadata": {},
   "outputs": [],
   "source": []
  },
  {
   "cell_type": "markdown",
   "metadata": {},
   "source": [
    "201. Bitwise AND of Numbers Range"
   ]
  },
  {
   "cell_type": "code",
   "execution_count": 32,
   "metadata": {},
   "outputs": [
    {
     "data": {
      "text/plain": [
       "24"
      ]
     },
     "execution_count": 32,
     "metadata": {},
     "output_type": "execute_result"
    }
   ],
   "source": [
    "''' \n",
    "\n",
    "26 → 11010\n",
    "27 → 11011\n",
    "28 → 11100\n",
    "29 → 11101\n",
    "30 → 11110\n",
    "\n",
    "If you AND all of these, bits that change at any position will become 0 in the result.\n",
    "\n",
    "So instead of ANDing all, we’ll find the common prefix in binary using right shifts.\n",
    "\n",
    "left  = 26 → 11010\n",
    "right = 30 → 11110\n",
    "shift = 0\n",
    "\n",
    "Step-1:\n",
    "left  = 11010 → 1101 (13)\n",
    "right = 11110 → 1111 (15)\n",
    "shift = 1\n",
    "\n",
    "Step-2:\n",
    "left  = 1101 → 110 (6)\n",
    "right = 1111 → 111 (7)\n",
    "shift = 2\n",
    "\n",
    "Step-3:\n",
    "left  = 110 → 11 (3)\n",
    "right = 111 → 11 (3)\n",
    "shift = 3\n",
    "\n",
    "Finally:\n",
    "Now shift back the common prefix:\n",
    "left << shift = 3 << 3 = 3 * 8 = 24\n",
    "Binary: 00011 << 3 → 11000\n",
    "\n",
    "'''\n",
    "\n",
    "class Solution:\n",
    "    def rangeBitwiseAnd(self, left: int, right: int) -> int:\n",
    "        shift = 0\n",
    "        while left != right:\n",
    "            left = left >> 1\n",
    "            right = right >> 1\n",
    "            shift += 1\n",
    "        return left << shift\n",
    "    \n",
    "solution = Solution()\n",
    "solution.rangeBitwiseAnd(26, 30)\n",
    "    \n",
    "\n"
   ]
  },
  {
   "cell_type": "code",
   "execution_count": null,
   "metadata": {},
   "outputs": [],
   "source": []
  }
 ],
 "metadata": {
  "kernelspec": {
   "display_name": "Python 3",
   "language": "python",
   "name": "python3"
  },
  "language_info": {
   "codemirror_mode": {
    "name": "ipython",
    "version": 3
   },
   "file_extension": ".py",
   "mimetype": "text/x-python",
   "name": "python",
   "nbconvert_exporter": "python",
   "pygments_lexer": "ipython3",
   "version": "3.12.6"
  }
 },
 "nbformat": 4,
 "nbformat_minor": 2
}
