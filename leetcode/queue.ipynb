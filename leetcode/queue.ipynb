{
 "cells": [
  {
   "cell_type": "markdown",
   "metadata": {},
   "source": [
    "933. Number of Recent Calls"
   ]
  },
  {
   "cell_type": "code",
   "execution_count": 11,
   "metadata": {},
   "outputs": [
    {
     "data": {
      "text/plain": [
       "3"
      ]
     },
     "execution_count": 11,
     "metadata": {},
     "output_type": "execute_result"
    }
   ],
   "source": [
    "''' \n",
    "Input\n",
    "[\"RecentCounter\", \"ping\", \"ping\", \"ping\", \"ping\"]\n",
    "[[], [1], [100], [3001], [3002]]\n",
    "Output\n",
    "[null, 1, 2, 3, 3]\n",
    "\n",
    "Explanation\n",
    "RecentCounter recentCounter = new RecentCounter();\n",
    "recentCounter.ping(1);     // requests = [1], range is [-2999,1], return 1\n",
    "recentCounter.ping(100);   // requests = [1, 100], range is [-2900,100], return 2\n",
    "recentCounter.ping(3001);  // requests = [1, 100, 3001], range is [1,3001], return 3\n",
    "recentCounter.ping(3002);  // requests = [1, 100, 3001, 3002], range is [2,3002], return 3\n",
    "'''\n",
    "from collections import deque\n",
    "\n",
    "from collections import deque\n",
    "\n",
    "class RecentCounter(object):\n",
    "\n",
    "    def __init__(self):\n",
    "        # Initialize a queue to keep track of ping times\n",
    "        self.queue = deque()\n",
    "    \n",
    "    def ping(self, t):\n",
    "        \"\"\"\n",
    "        Records a new ping at time t, and returns the number of pings \n",
    "        that occurred in the last 3000 milliseconds (inclusive).\n",
    "        \n",
    "        :type t: int\n",
    "        :rtype: int\n",
    "        \"\"\"\n",
    "        # Add the current ping time to the queue\n",
    "        self.queue.append(t)\n",
    "\n",
    "        # Remove ping times that are older than t - 3000 milliseconds\n",
    "        while self.queue and t - self.queue[0] > 3000:\n",
    "            self.queue.popleft()\n",
    "\n",
    "        # The length of the queue now represents the number of recent pings\n",
    "        return len(self.queue)\n",
    "\n",
    "\n",
    "# without built in deque \n",
    "class RecentCounter:\n",
    "    def __init__(self):\n",
    "        self.queue = []\n",
    "        self.start = 0 \n",
    "\n",
    "    def ping(self, t):\n",
    "        self.queue.append(t)\n",
    "        while self.queue[self.start] < t - 3000:\n",
    "            self.start += 1\n",
    "        return len(self.queue) - self.start\n",
    "\n",
    "\n",
    "# Your RecentCounter object will be instantiated and called as such:\n",
    "obj = RecentCounter()\n",
    "obj.ping(1)\n",
    "obj.ping(100)\n",
    "obj.ping(3001)\n",
    "obj.ping(3002)"
   ]
  },
  {
   "cell_type": "markdown",
   "metadata": {},
   "source": [
    "2073. Time Needed to Buy Tickets"
   ]
  },
  {
   "cell_type": "code",
   "execution_count": 15,
   "metadata": {},
   "outputs": [
    {
     "data": {
      "text/plain": [
       "6"
      ]
     },
     "execution_count": 15,
     "metadata": {},
     "output_type": "execute_result"
    }
   ],
   "source": [
    "''' \n",
    "Input: tickets = [2,3,2], k = 2\n",
    "\n",
    "Output: 6\n",
    "\n",
    "Explanation:\n",
    "\n",
    "The queue starts as [2,3,2], where the kth person is underlined.\n",
    "After the person at the front has bought a ticket, the queue becomes [3,2,1] at 1 second.\n",
    "Continuing this process, the queue becomes [2,1,2] at 2 seconds.\n",
    "Continuing this process, the queue becomes [1,2,1] at 3 seconds.\n",
    "Continuing this process, the queue becomes [2,1] at 4 seconds. Note: the person at the front left the queue.\n",
    "Continuing this process, the queue becomes [1,1] at 5 seconds.\n",
    "Continuing this process, the queue becomes [1] at 6 seconds. The kth person has bought all their tickets, so return 6.\n",
    "'''\n",
    "\n",
    "from collections import deque\n",
    "from typing import List\n",
    "\n",
    "class Solution:\n",
    "    # Using deque for efficient popping from the front\n",
    "    def timeRequiredToBuy(self, tickets: List[int], k: int) -> int:\n",
    "        # Create a queue with (index, ticket count) pairs\n",
    "        queue = deque([(i, ticket) for i, ticket in enumerate(tickets)])\n",
    "        time = 0\n",
    "\n",
    "        while queue:\n",
    "            i, ticket = queue.popleft()  # Person at front buys one ticket\n",
    "            time += 1\n",
    "            ticket -= 1  # Reduce their remaining ticket count\n",
    "\n",
    "            # If this was person k and they just finished buying, return time\n",
    "            if ticket == 0 and i == k:\n",
    "                return time\n",
    "            \n",
    "            # If they still need more tickets, re-add them to the end of the queue\n",
    "            if ticket != 0:\n",
    "                queue.append((i, ticket))\n",
    "\n",
    "    # Same logic as above, but without using deque (less efficient because pop(0) is O(n))\n",
    "    def timeRequiredToBuyWithoutDeque(self, tickets: List[int], k: int) -> int:\n",
    "        queue = [(i, ticket) for i, ticket in enumerate(tickets)]\n",
    "        time = 0\n",
    "\n",
    "        while queue:\n",
    "            i, ticket = queue.pop(0)  # Pop first person (O(n) operation)\n",
    "            time += 1\n",
    "            ticket -= 1\n",
    "\n",
    "            # If it's person k and they're done, return total time\n",
    "            if ticket == 0 and i == k:\n",
    "                return time\n",
    "\n",
    "            # Otherwise, re-add to the end if they still have tickets to buy\n",
    "            if ticket != 0:\n",
    "                queue.append((i, ticket))\n",
    "\n",
    "    # Optimized version: simulate without queue using pure math\n",
    "    def timeRequiredToBuyWithoutQueueConcept(self, tickets: List[int], k: int) -> int:\n",
    "        res = 0 \n",
    "        for i in range(len(tickets)):\n",
    "            if i <= k:\n",
    "                # People before or at k can buy up to k's total tickets\n",
    "                res += min(tickets[i], tickets[k])\n",
    "            else:\n",
    "                # People after k will miss the final round (when k finishes), so max they get is one less\n",
    "                res += min(tickets[i], tickets[k] - 1)\n",
    "        return res\n",
    "            \n",
    "\n",
    "\n",
    "solution = Solution()\n",
    "solution.timeRequiredToBuyWithoutQueueConcept([2,3,2], 2)"
   ]
  },
  {
   "cell_type": "markdown",
   "metadata": {},
   "source": [
    "950. Reveal Cards In Increasing Order"
   ]
  },
  {
   "cell_type": "code",
   "execution_count": 21,
   "metadata": {},
   "outputs": [
    {
     "data": {
      "text/plain": [
       "[2, 13, 3, 11, 5, 17, 7]"
      ]
     },
     "execution_count": 21,
     "metadata": {},
     "output_type": "execute_result"
    }
   ],
   "source": [
    "''' \n",
    "Input: deck = [17,13,11,2,3,5,7]\n",
    "Output: [2,13,3,11,5,17,7]\n",
    "Explanation: \n",
    "We get the deck in the order [17,13,11,2,3,5,7] (this order does not matter), and reorder it.\n",
    "After reordering, the deck starts as [2,13,3,11,5,17,7], where 2 is the top of the deck.\n",
    "We reveal 2, and move 13 to the bottom.  The deck is now [3,11,5,17,7,13].\n",
    "We reveal 3, and move 11 to the bottom.  The deck is now [5,17,7,13,11].\n",
    "We reveal 5, and move 17 to the bottom.  The deck is now [7,13,11,17].\n",
    "We reveal 7, and move 13 to the bottom.  The deck is now [11,17,13].\n",
    "We reveal 11, and move 17 to the bottom.  The deck is now [13,17].\n",
    "We reveal 13, and move 17 to the bottom.  The deck is now [17].\n",
    "We reveal 17.\n",
    "Since all the cards revealed are in increasing order, the answer is correct.\n",
    "'''\n",
    "\n",
    "from collections import deque\n",
    "from typing import List\n",
    "\n",
    "class Solution:\n",
    "    def deckRevealedIncreasing(self, deck: List[int]) -> List[int]:\n",
    "        # Step 1: Sort the deck to reveal cards in increasing order\n",
    "        deck.sort()\n",
    "        \n",
    "        # Step 2: Initialize the result list with placeholders (0s)\n",
    "        res = [0] * len(deck)\n",
    "        \n",
    "        # Step 3: Initialize a queue of indices [0, 1, 2, ..., n-1]\n",
    "        # This queue simulates the positions in the final result\n",
    "        queue = deque([i for i in range(len(deck))])\n",
    "\n",
    "        # Step 4: For each card in the sorted deck (smallest to largest)\n",
    "        for n in deck:\n",
    "            # Pop the index from the front — this is where the current card goes\n",
    "            i = queue.popleft()\n",
    "            res[i] = n  # Place the card at this position\n",
    "\n",
    "            # If there are still positions left in the queue,\n",
    "            # simulate the \"reveal one, move next to bottom\" step\n",
    "            if queue:\n",
    "                queue.append(queue.popleft())  # Move the next index to the back\n",
    "\n",
    "        # Step 5: Return the final order of the deck\n",
    "        return res\n",
    "\n",
    "    \n",
    "solution = Solution()\n",
    "solution.deckRevealedIncreasing([17,13,11,2,3,5,7])"
   ]
  },
  {
   "cell_type": "code",
   "execution_count": null,
   "metadata": {},
   "outputs": [],
   "source": []
  }
 ],
 "metadata": {
  "kernelspec": {
   "display_name": "Python 3",
   "language": "python",
   "name": "python3"
  },
  "language_info": {
   "codemirror_mode": {
    "name": "ipython",
    "version": 3
   },
   "file_extension": ".py",
   "mimetype": "text/x-python",
   "name": "python",
   "nbconvert_exporter": "python",
   "pygments_lexer": "ipython3",
   "version": "3.12.6"
  }
 },
 "nbformat": 4,
 "nbformat_minor": 2
}
