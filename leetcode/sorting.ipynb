{
 "cells": [
  {
   "cell_type": "markdown",
   "id": "fa2049f7",
   "metadata": {},
   "source": [
    "### Bucket Sort"
   ]
  },
  {
   "cell_type": "markdown",
   "id": "2771e2f3",
   "metadata": {},
   "source": [
    "347. Top K Frequent Elements"
   ]
  },
  {
   "cell_type": "code",
   "execution_count": 27,
   "id": "0c61a2a5",
   "metadata": {},
   "outputs": [
    {
     "data": {
      "text/plain": [
       "[1, 2]"
      ]
     },
     "execution_count": 27,
     "metadata": {},
     "output_type": "execute_result"
    }
   ],
   "source": [
    "''' \n",
    "Input: nums = [1,1,1,2,2,3], k = 2\n",
    "Output: [1,2]\n",
    "'''\n",
    "\n",
    "from typing import List, Optional\n",
    "\n",
    "class Solution:\n",
    "    def topKFrequent(self, nums: List[int], k: int) -> List[int]:\n",
    "        n = len(nums)\n",
    "        buckets = [[] for _ in range(n + 1)]\n",
    "        nums_count = {}\n",
    "        res = []\n",
    "        for num in nums:\n",
    "            nums_count[num] = nums_count.get(num, 0) + 1\n",
    "        for key, value in nums_count.items():\n",
    "            buckets[value].append(key)\n",
    "        \n",
    "        for i in range(len(buckets) - 1, -1, -1):\n",
    "            for element in buckets[i]:\n",
    "                res.append(element)\n",
    "                if len(res) == k:\n",
    "                    return res \n",
    "\n",
    "solution = Solution()\n",
    "solution.topKFrequent([1,1,1,2,2,3], 2)"
   ]
  },
  {
   "cell_type": "markdown",
   "id": "58c1885f",
   "metadata": {},
   "source": [
    "692. Top K Frequent Words"
   ]
  },
  {
   "cell_type": "code",
   "execution_count": 26,
   "id": "b5e17a62",
   "metadata": {},
   "outputs": [
    {
     "data": {
      "text/plain": [
       "['i', 'love']"
      ]
     },
     "execution_count": 26,
     "metadata": {},
     "output_type": "execute_result"
    }
   ],
   "source": [
    "''' \n",
    "Input: words = [\"i\",\"love\",\"leetcode\",\"i\",\"love\",\"coding\"], k = 2\n",
    "Output: [\"i\",\"love\"]\n",
    "Explanation: \"i\" and \"love\" are the two most frequent words.\n",
    "Note that \"i\" comes before \"love\" due to a lower alphabetical order.\n",
    "'''\n",
    "\n",
    "class Solution:\n",
    "    def topKFrequent(self, words: List[str], k: int) -> List[str]:\n",
    "        words_count = {}\n",
    "        for word in words:\n",
    "            words_count[word] = words_count.get(word, 0) + 1 \n",
    "        n = len(words)\n",
    "        buckets = [[] for _ in range(n + 1)]\n",
    "        res = []\n",
    "\n",
    "        for key, value in words_count.items():\n",
    "            buckets[value].append(key)\n",
    "\n",
    "        for i in range(len(buckets) - 1, -1 , -1):\n",
    "            buckets[i].sort()\n",
    "            for word in buckets[i]:\n",
    "                res.append(word)\n",
    "                if len(res) == k:\n",
    "                    return res \n",
    "\n",
    "solution = Solution()\n",
    "solution.topKFrequent([\"i\",\"love\",\"leetcode\",\"i\",\"love\",\"coding\"], 2)"
   ]
  },
  {
   "cell_type": "code",
   "execution_count": null,
   "id": "29e6bfb6",
   "metadata": {},
   "outputs": [],
   "source": []
  },
  {
   "cell_type": "code",
   "execution_count": null,
   "id": "7cc1d307",
   "metadata": {},
   "outputs": [],
   "source": []
  },
  {
   "cell_type": "code",
   "execution_count": null,
   "id": "763427c7",
   "metadata": {},
   "outputs": [],
   "source": []
  },
  {
   "cell_type": "code",
   "execution_count": null,
   "id": "2538f8c2",
   "metadata": {},
   "outputs": [],
   "source": []
  }
 ],
 "metadata": {
  "kernelspec": {
   "display_name": "Python 3",
   "language": "python",
   "name": "python3"
  },
  "language_info": {
   "codemirror_mode": {
    "name": "ipython",
    "version": 3
   },
   "file_extension": ".py",
   "mimetype": "text/x-python",
   "name": "python",
   "nbconvert_exporter": "python",
   "pygments_lexer": "ipython3",
   "version": "3.12.6"
  }
 },
 "nbformat": 4,
 "nbformat_minor": 5
}
