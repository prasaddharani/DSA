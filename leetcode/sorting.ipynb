{
 "cells": [
  {
   "cell_type": "markdown",
   "id": "fa2049f7",
   "metadata": {},
   "source": [
    "### Bucket Sort"
   ]
  },
  {
   "cell_type": "markdown",
   "id": "2771e2f3",
   "metadata": {},
   "source": [
    "347. Top K Frequent Elements"
   ]
  },
  {
   "cell_type": "code",
   "execution_count": 27,
   "id": "0c61a2a5",
   "metadata": {},
   "outputs": [
    {
     "data": {
      "text/plain": [
       "[1, 2]"
      ]
     },
     "execution_count": 27,
     "metadata": {},
     "output_type": "execute_result"
    }
   ],
   "source": [
    "''' \n",
    "Input: nums = [1,1,1,2,2,3], k = 2\n",
    "Output: [1,2]\n",
    "'''\n",
    "\n",
    "from typing import List, Optional\n",
    "\n",
    "class Solution:\n",
    "    def topKFrequent(self, nums: List[int], k: int) -> List[int]:\n",
    "        n = len(nums)\n",
    "        buckets = [[] for _ in range(n + 1)]\n",
    "        nums_count = {}\n",
    "        res = []\n",
    "        for num in nums:\n",
    "            nums_count[num] = nums_count.get(num, 0) + 1\n",
    "        for key, value in nums_count.items():\n",
    "            buckets[value].append(key)\n",
    "        \n",
    "        for i in range(len(buckets) - 1, -1, -1):\n",
    "            for element in buckets[i]:\n",
    "                res.append(element)\n",
    "                if len(res) == k:\n",
    "                    return res \n",
    "\n",
    "solution = Solution()\n",
    "solution.topKFrequent([1,1,1,2,2,3], 2)"
   ]
  },
  {
   "cell_type": "markdown",
   "id": "58c1885f",
   "metadata": {},
   "source": [
    "692. Top K Frequent Words"
   ]
  },
  {
   "cell_type": "code",
   "execution_count": 26,
   "id": "b5e17a62",
   "metadata": {},
   "outputs": [
    {
     "data": {
      "text/plain": [
       "['i', 'love']"
      ]
     },
     "execution_count": 26,
     "metadata": {},
     "output_type": "execute_result"
    }
   ],
   "source": [
    "''' \n",
    "Input: words = [\"i\",\"love\",\"leetcode\",\"i\",\"love\",\"coding\"], k = 2\n",
    "Output: [\"i\",\"love\"]\n",
    "Explanation: \"i\" and \"love\" are the two most frequent words.\n",
    "Note that \"i\" comes before \"love\" due to a lower alphabetical order.\n",
    "'''\n",
    "\n",
    "class Solution:\n",
    "    def topKFrequent(self, words: List[str], k: int) -> List[str]:\n",
    "        words_count = {}\n",
    "        for word in words:\n",
    "            words_count[word] = words_count.get(word, 0) + 1 \n",
    "        n = len(words)\n",
    "        buckets = [[] for _ in range(n + 1)]\n",
    "        res = []\n",
    "\n",
    "        for key, value in words_count.items():\n",
    "            buckets[value].append(key)\n",
    "\n",
    "        for i in range(len(buckets) - 1, -1 , -1):\n",
    "            buckets[i].sort()\n",
    "            for word in buckets[i]:\n",
    "                res.append(word)\n",
    "                if len(res) == k:\n",
    "                    return res \n",
    "\n",
    "solution = Solution()\n",
    "solution.topKFrequent([\"i\",\"love\",\"leetcode\",\"i\",\"love\",\"coding\"], 2)"
   ]
  },
  {
   "cell_type": "markdown",
   "id": "53bbb523",
   "metadata": {},
   "source": [
    "### Recursions"
   ]
  },
  {
   "cell_type": "markdown",
   "id": "53929bac",
   "metadata": {},
   "source": [
    "21. Merge Two Sorted Lists"
   ]
  },
  {
   "cell_type": "code",
   "execution_count": 32,
   "id": "29e6bfb6",
   "metadata": {},
   "outputs": [
    {
     "name": "stdout",
     "output_type": "stream",
     "text": [
      "1\n",
      "2\n",
      "3\n",
      "4\n",
      "5\n",
      "6\n"
     ]
    }
   ],
   "source": [
    "class ListNode:\n",
    "    def __init__(self, val=0, next=None):\n",
    "        self.val = val\n",
    "        self.next = next\n",
    "class Solution:\n",
    "    def mergeTwoLists(self, list1: Optional[ListNode], list2: Optional[ListNode]) -> Optional[ListNode]:\n",
    "        if not list1 or not list2:\n",
    "            return list1 if list1 else list2 \n",
    "        \n",
    "        if list1.val > list2.val:\n",
    "            list1, list2 = list2, list1\n",
    "\n",
    "        list1.next = self.mergeTwoLists(list1.next, list2)\n",
    "        return list1\n",
    "\n",
    "    def mergeTwoListsWithoutRecursion(self, list1: Optional[ListNode], list2: Optional[ListNode]) -> Optional[ListNode]:\n",
    "        dummy = ListNode()\n",
    "        curr = dummy \n",
    "        while list1 and list2:\n",
    "            if list1.val < list2.val:\n",
    "                curr.next = list1 \n",
    "                list1 = list1.next \n",
    "            else:\n",
    "                curr.next = list2 \n",
    "                list2 = list2.next \n",
    "            curr = curr.next \n",
    "        \n",
    "        if list1:\n",
    "            curr.next = list1 \n",
    "        \n",
    "        if list2:\n",
    "            curr.next = list2 \n",
    "        return dummy.next\n",
    "\n",
    "    def print_list(self, list1):\n",
    "        temp = list1 \n",
    "        while temp:\n",
    "            print(temp.val)\n",
    "            temp = temp.next\n",
    "\n",
    "solution = Solution()\n",
    "res = solution.mergeTwoListsWithoutRecursion(ListNode(2, ListNode(4, ListNode(5))), ListNode(1, ListNode(3, ListNode(6))))\n",
    "solution.print_list(res)"
   ]
  },
  {
   "cell_type": "markdown",
   "id": "5800b9da",
   "metadata": {},
   "source": [
    "394. Decode String"
   ]
  },
  {
   "cell_type": "code",
   "execution_count": 36,
   "id": "7cc1d307",
   "metadata": {},
   "outputs": [
    {
     "data": {
      "text/plain": [
       "'aaabcbc'"
      ]
     },
     "execution_count": 36,
     "metadata": {},
     "output_type": "execute_result"
    }
   ],
   "source": [
    "''' \n",
    "Input: s = \"3[a]2[bc]\"\n",
    "Output: \"aaabcbc\"\n",
    "'''\n",
    "\n",
    "class Solution:\n",
    "    def decodeString(self, s: str) -> str:\n",
    "        stack = []\n",
    "        for c in s:\n",
    "            if c != ']':\n",
    "                stack.append(c)\n",
    "            else:\n",
    "                substr = \"\"\n",
    "                k = \"\"\n",
    "                while stack and stack[-1] != '[':\n",
    "                    substr = stack.pop() + substr\n",
    "                stack.pop()\n",
    "                \n",
    "                \n",
    "                while stack and stack[-1].isdigit():\n",
    "                    k = stack.pop() + k\n",
    "\n",
    "                stack.append(int(k) * substr)\n",
    "        return \"\".join(stack)\n",
    "\n",
    "solution = Solution()\n",
    "solution.decodeString(\"3[a]2[bc]\")"
   ]
  },
  {
   "cell_type": "code",
   "execution_count": null,
   "id": "763427c7",
   "metadata": {},
   "outputs": [],
   "source": []
  },
  {
   "cell_type": "code",
   "execution_count": null,
   "id": "2538f8c2",
   "metadata": {},
   "outputs": [],
   "source": []
  }
 ],
 "metadata": {
  "kernelspec": {
   "display_name": "Python 3",
   "language": "python",
   "name": "python3"
  },
  "language_info": {
   "codemirror_mode": {
    "name": "ipython",
    "version": 3
   },
   "file_extension": ".py",
   "mimetype": "text/x-python",
   "name": "python",
   "nbconvert_exporter": "python",
   "pygments_lexer": "ipython3",
   "version": "3.12.6"
  }
 },
 "nbformat": 4,
 "nbformat_minor": 5
}
