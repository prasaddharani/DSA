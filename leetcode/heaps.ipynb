{
 "cells": [
  {
   "cell_type": "markdown",
   "id": "64a2d4f5",
   "metadata": {},
   "source": [
    "### Heaps"
   ]
  },
  {
   "cell_type": "markdown",
   "id": "541d882f",
   "metadata": {},
   "source": [
    "1642. Furthest Building You Can Reach"
   ]
  },
  {
   "cell_type": "code",
   "execution_count": 2,
   "id": "a0b4fa73",
   "metadata": {},
   "outputs": [],
   "source": [
    "''' \n",
    "Input: heights = [4,2,7,6,9,14,12], bricks = 5, ladders = 1\n",
    "Output: 4\n",
    "Explanation: Starting at building 0, you can follow these steps:\n",
    "- Go to building 1 without using ladders nor bricks since 4 >= 2.\n",
    "- Go to building 2 using 5 bricks. You must use either bricks or ladders because 2 < 7.\n",
    "- Go to building 3 without using ladders nor bricks since 7 >= 6.\n",
    "- Go to building 4 using your only ladder. You must use either bricks or ladders because 6 < 9.\n",
    "It is impossible to go beyond building 4 because you do not have any more bricks or ladders.\n",
    "'''\n",
    "import heapq\n",
    "\n",
    "class Solution:\n",
    "\n",
    "    def furthestBuilding(self, heights, bricks, ladders):\n",
    "        min_heap = []\n",
    "\n",
    "        for i in range(len(heights) - 1):\n",
    "            diff = heights[i + 1] - heights[i]\n",
    "\n",
    "            if diff > 0:\n",
    "                heapq.heappush(min_heap, diff)\n",
    "\n",
    "            if len(min_heap) > ladders:\n",
    "                bricks -= heapq.heappop(min_heap)\n",
    "\n",
    "            if bricks < 0:\n",
    "                return i\n",
    "\n",
    "        return len(heights) - 1\n",
    "\n"
   ]
  },
  {
   "cell_type": "markdown",
   "id": "61d2b9a8",
   "metadata": {},
   "source": [
    "Step-by-step Walkthrough:\n",
    "i = 0:\n",
    "heights[0] = 4 → heights[1] = 2\n",
    "No climb (going downhill), so we move freely.\n",
    "\n",
    "i = 1:\n",
    "heights[1] = 2 → heights[2] = 7\n",
    "Climb = 5\n",
    "\n",
    "Push 5 to min_heap: min_heap = [5]\n",
    "\n",
    "Size of heap = 1 → within ladder limit → no action needed yet\n",
    "\n",
    "i = 2:\n",
    "heights[2] = 7 → heights[3] = 6\n",
    "No climb, move freely.\n",
    "\n",
    "i = 3:\n",
    "heights[3] = 6 → heights[4] = 9\n",
    "Climb = 3\n",
    "\n",
    "Push 3 to heap → min_heap = [3, 5]\n",
    "\n",
    "Heap size = 2 → exceeds 1 ladder\n",
    "→ Use bricks for smallest climb:\n",
    "\n",
    "Pop 3 → bricks = 5 - 3 = 2\n",
    "\n",
    "min_heap = [5]\n",
    "\n",
    "i = 4:\n",
    "heights[4] = 9 → heights[5] = 14\n",
    "Climb = 5\n",
    "\n",
    "Push 5 → min_heap = [5, 5]\n",
    "\n",
    "Heap size = 2 → exceeds 1 ladder\n",
    "→ Use bricks for smallest climb (5)\n",
    "\n",
    "Pop 5 → bricks = 2 - 5 = -3\n",
    "\n",
    "Bricks are negative → we can’t continue\n",
    "\n",
    "Result:\n",
    "We return the index before failure → i = 4\n",
    "So, furthest building = 4"
   ]
  },
  {
   "cell_type": "code",
   "execution_count": null,
   "id": "e35a25bd",
   "metadata": {},
   "outputs": [],
   "source": []
  },
  {
   "cell_type": "markdown",
   "id": "3a3783a5",
   "metadata": {},
   "source": [
    "1834. Single-Threaded CPU"
   ]
  },
  {
   "cell_type": "code",
   "execution_count": 4,
   "id": "35269dc5",
   "metadata": {},
   "outputs": [
    {
     "data": {
      "text/plain": [
       "\" \\nStep-by-step Simulation:\\n1. time = 0\\nNo task has arrived yet (enqueueTime > time)\\n\\nSo we jump to next task's time: time = 1\\n\\n2. time = 1\\nTask 0 has arrived → Push (2, 0) into heap\\n\\nHeap: [(2, 0)]\\n\\nPop task (2, 0) → run it\\n\\ntime += 2 → time = 3\\n\\nres = [0]\\n\\n3. time = 3\\nTask 1 ([2,4]) and Task 2 ([3,2]) have arrived\\n\\nPush (4, 1) and (2, 2) into heap\\n\\nHeap: [(2, 2), (4, 1)]\\n\\nPop (2, 2) → run it\\n\\ntime += 2 → time = 5\\n\\nres = [0, 2]\\n\\n4. time = 5\\nTask 3 ([4,1]) has arrived\\n\\nPush (1, 3) into heap\\n\\nHeap: [(1, 3), (4, 1)]\\n\\nPop (1, 3) → run it\\n\\ntime += 1 → time = 6\\n\\nres = [0, 2, 3]\\n\\n5. time = 6\\nHeap has (4, 1)\\n\\nPop (4, 1) → run it\\n\\ntime += 4 → time = 10\\n\\nres = [0, 2, 3, 1]\\n\""
      ]
     },
     "execution_count": 4,
     "metadata": {},
     "output_type": "execute_result"
    }
   ],
   "source": [
    "''' \n",
    "Step-by-step Simulation:\n",
    "1. time = 0\n",
    "No task has arrived yet (enqueueTime > time)\n",
    "\n",
    "So we jump to next task's time: time = 1\n",
    "\n",
    "2. time = 1\n",
    "Task 0 has arrived → Push (2, 0) into heap\n",
    "\n",
    "Heap: [(2, 0)]\n",
    "\n",
    "Pop task (2, 0) → run it\n",
    "\n",
    "time += 2 → time = 3\n",
    "\n",
    "res = [0]\n",
    "\n",
    "3. time = 3\n",
    "Task 1 ([2,4]) and Task 2 ([3,2]) have arrived\n",
    "\n",
    "Push (4, 1) and (2, 2) into heap\n",
    "\n",
    "Heap: [(2, 2), (4, 1)]\n",
    "\n",
    "Pop (2, 2) → run it\n",
    "\n",
    "time += 2 → time = 5\n",
    "\n",
    "res = [0, 2]\n",
    "\n",
    "4. time = 5\n",
    "Task 3 ([4,1]) has arrived\n",
    "\n",
    "Push (1, 3) into heap\n",
    "\n",
    "Heap: [(1, 3), (4, 1)]\n",
    "\n",
    "Pop (1, 3) → run it\n",
    "\n",
    "time += 1 → time = 6\n",
    "\n",
    "res = [0, 2, 3]\n",
    "\n",
    "5. time = 6\n",
    "Heap has (4, 1)\n",
    "\n",
    "Pop (4, 1) → run it\n",
    "\n",
    "time += 4 → time = 10\n",
    "\n",
    "res = [0, 2, 3, 1]\n",
    "'''"
   ]
  },
  {
   "cell_type": "code",
   "execution_count": 3,
   "id": "0fc12f42",
   "metadata": {},
   "outputs": [
    {
     "data": {
      "text/plain": [
       "[0, 2, 3, 1]"
      ]
     },
     "execution_count": 3,
     "metadata": {},
     "output_type": "execute_result"
    }
   ],
   "source": [
    "''' \n",
    "Input: tasks = [[1,2],[2,4],[3,2],[4,1]]\n",
    "Output: [0,2,3,1]\n",
    "Explanation: The events go as follows: \n",
    "- At time = 1, task 0 is available to process. Available tasks = {0}.\n",
    "- Also at time = 1, the idle CPU starts processing task 0. Available tasks = {}.\n",
    "- At time = 2, task 1 is available to process. Available tasks = {1}.\n",
    "- At time = 3, task 2 is available to process. Available tasks = {1, 2}.\n",
    "- Also at time = 3, the CPU finishes task 0 and starts processing task 2 as it is the shortest. Available tasks = {1}.\n",
    "- At time = 4, task 3 is available to process. Available tasks = {1, 3}.\n",
    "- At time = 5, the CPU finishes task 2 and starts processing task 3 as it is the shortest. Available tasks = {1}.\n",
    "- At time = 6, the CPU finishes task 3 and starts processing task 1. Available tasks = {}.\n",
    "- At time = 10, the CPU finishes task 1 and becomes idle.\n",
    "'''\n",
    "\n",
    "import heapq\n",
    "\n",
    "class Solution:\n",
    "    def getOrder(self, tasks):\n",
    "        # Add original indices and sort by enqueueTime\n",
    "        tasks = sorted([(et, pt, i) for i, (et, pt) in enumerate(tasks)])\n",
    "        \n",
    "        res = []\n",
    "        min_heap = []\n",
    "        time = 0\n",
    "        i = 0  # Pointer to track tasks\n",
    "\n",
    "        while i < len(tasks) or min_heap:\n",
    "            # Load all tasks that have arrived by current time\n",
    "            while i < len(tasks) and tasks[i][0] <= time:\n",
    "                enqueue, process, idx = tasks[i]\n",
    "                heapq.heappush(min_heap, (process, idx))\n",
    "                i += 1\n",
    "\n",
    "            if min_heap:\n",
    "                process, idx = heapq.heappop(min_heap)\n",
    "                time += process\n",
    "                res.append(idx)\n",
    "            else:\n",
    "                # If CPU idle, jump to next task's enqueueTime\n",
    "                time = tasks[i][0]\n",
    "\n",
    "        return res\n",
    "\n",
    "\n",
    "\n",
    "solution = Solution()\n",
    "solution.getOrder([[1,2],[2,4],[3,2],[4,1]])"
   ]
  },
  {
   "cell_type": "markdown",
   "id": "d194dae2",
   "metadata": {},
   "source": [
    "### Two Heaps"
   ]
  },
  {
   "cell_type": "markdown",
   "id": "96a3a4c3",
   "metadata": {},
   "source": [
    "295. Find Median from Data Stream"
   ]
  },
  {
   "cell_type": "code",
   "execution_count": 5,
   "id": "11019af8",
   "metadata": {},
   "outputs": [
    {
     "data": {
      "text/plain": [
       "3"
      ]
     },
     "execution_count": 5,
     "metadata": {},
     "output_type": "execute_result"
    }
   ],
   "source": [
    "''' \n",
    "Input\n",
    "[\"MedianFinder\", \"addNum\", \"addNum\", \"findMedian\", \"addNum\", \"findMedian\"]\n",
    "[[], [1], [2], [], [3], []]\n",
    "Output\n",
    "[null, null, null, 1.5, null, 2.0]\n",
    "\n",
    "Explanation\n",
    "MedianFinder medianFinder = new MedianFinder();\n",
    "medianFinder.addNum(1);    // arr = [1]\n",
    "medianFinder.addNum(2);    // arr = [1, 2]\n",
    "medianFinder.findMedian(); // return 1.5 (i.e., (1 + 2) / 2)\n",
    "medianFinder.addNum(3);    // arr[1, 2, 3]\n",
    "medianFinder.findMedian(); // return 2.0\n",
    "'''\n",
    "\n",
    "''' \n",
    "Input\n",
    "[\"MedianFinder\", \"addNum\", \"addNum\", \"findMedian\", \"addNum\", \"findMedian\"]\n",
    "[[], [1], [2], [], [3], []]\n",
    "Output\n",
    "[null, null, null, 1.5, null, 2.0]\n",
    "\n",
    "Explanation\n",
    "MedianFinder medianFinder = new MedianFinder();\n",
    "medianFinder.addNum(1);    // arr = [1]\n",
    "medianFinder.addNum(2);    // arr = [1, 2]\n",
    "medianFinder.findMedian(); // return 1.5 (i.e., (1 + 2) / 2)\n",
    "medianFinder.addNum(3);    // arr[1, 2, 3]\n",
    "medianFinder.findMedian(); // return 2.0\n",
    "'''\n",
    "\n",
    "import heapq\n",
    "\n",
    "import heapq\n",
    "\n",
    "class MedianFinder:\n",
    "\n",
    "    def __init__(self):\n",
    "        # Max heap to store the smaller half of the numbers (invert sign to simulate max heap using min heap)\n",
    "        self.small = []\n",
    "        # Min heap to store the larger half of the numbers\n",
    "        self.large = []\n",
    "\n",
    "    def addNum(self, num: int) -> None:\n",
    "        # Step 1: Add the number to max heap (invert sign to simulate max heap)\n",
    "        heapq.heappush(self.small, -1 * num)\n",
    "\n",
    "        # Step 2: Ensure all elements in 'small' are <= elements in 'large'\n",
    "        # If the largest of 'small' is greater than the smallest of 'large', move the element\n",
    "        if self.small and self.large and (-1 * self.small[0] > self.large[0]):\n",
    "            heapq.heappush(self.large, -1 * heapq.heappop(self.small))\n",
    "\n",
    "        # Step 3: Balance the sizes of the two heaps so that their sizes differ by at most 1\n",
    "        if len(self.small) > len(self.large) + 1:\n",
    "            heapq.heappush(self.large, -1 * heapq.heappop(self.small))\n",
    "\n",
    "        if len(self.large) > len(self.small) + 1:\n",
    "            heapq.heappush(self.small, -1 * heapq.heappop(self.large))\n",
    "\n",
    "    def findMedian(self) -> float:\n",
    "        # If 'small' has more elements, median is top of max heap\n",
    "        if len(self.small) > len(self.large):\n",
    "            return -1 * self.small[0]\n",
    "\n",
    "        # If 'large' has more elements, median is top of min heap\n",
    "        if len(self.large) > len(self.small):\n",
    "            return self.large[0]\n",
    "\n",
    "        # If both heaps are equal in size, median is the average of both tops\n",
    "        return ((-1 * self.small[0]) + self.large[0]) / 2\n",
    "\n",
    "\n",
    "# Your MedianFinder object will be instantiated and called as such:\n",
    "obj = MedianFinder()\n",
    "obj.addNum(1)\n",
    "obj.addNum(2)\n",
    "obj.addNum(5)\n",
    "obj.addNum(3)\n",
    "obj.addNum(4)\n",
    "obj.findMedian()\n",
    "#obj.large\n",
    "\n",
    "\n",
    "# Your MedianFinder object will be instantiated and called as such:\n",
    "# obj = MedianFinder()\n",
    "# obj.addNum(num)\n",
    "# param_2 = obj.findMedian()"
   ]
  },
  {
   "cell_type": "markdown",
   "id": "69d60e08",
   "metadata": {},
   "source": [
    "### Top-K Elements"
   ]
  },
  {
   "cell_type": "markdown",
   "id": "a27467d6",
   "metadata": {},
   "source": [
    "703. Kth Largest Element in a Stream"
   ]
  },
  {
   "cell_type": "code",
   "execution_count": 15,
   "id": "2190fcb0",
   "metadata": {},
   "outputs": [
    {
     "data": {
      "text/plain": [
       "5"
      ]
     },
     "execution_count": 15,
     "metadata": {},
     "output_type": "execute_result"
    }
   ],
   "source": [
    "''' \n",
    "Input:\n",
    "[\"KthLargest\", \"add\", \"add\", \"add\", \"add\", \"add\"]\n",
    "[[3, [4, 5, 8, 2]], [3], [5], [10], [9], [4]]\n",
    "\n",
    "Output: [null, 4, 5, 5, 8, 8]\n",
    "\n",
    "Explanation:\n",
    "\n",
    "KthLargest kthLargest = new KthLargest(3, [4, 5, 8, 2]);\n",
    "kthLargest.add(3); // return 4\n",
    "kthLargest.add(5); // return 5\n",
    "kthLargest.add(10); // return 5\n",
    "kthLargest.add(9); // return 8\n",
    "kthLargest.add(4); // return 8\n",
    "'''\n",
    "from typing import List\n",
    "import heapq\n",
    "\n",
    "class KthLargest:\n",
    "\n",
    "    def __init__(self, k: int, nums: List[int]):\n",
    "        self.minHeap, self.k = nums, k\n",
    "        heapq.heapify(self.minHeap)\n",
    "        while len(self.minHeap) > self.k:\n",
    "            heapq.heappop(self.minHeap)\n",
    "\n",
    "    def add(self, val: int) -> int:\n",
    "        heapq.heappush(self.minHeap, val)\n",
    "        if len(self.minHeap) > self.k:\n",
    "            heapq.heappop(self.minHeap)\n",
    "        return self.minHeap[0]\n",
    "\n",
    "\n",
    "solution = KthLargest(3, [4, 5, 8, 2])\n",
    "solution.add(3)\n",
    "solution.add(5)"
   ]
  },
  {
   "cell_type": "markdown",
   "id": "b8fd6ae4",
   "metadata": {},
   "source": [
    "347. Top K Frequent Elements"
   ]
  },
  {
   "cell_type": "code",
   "execution_count": 22,
   "id": "394970d4",
   "metadata": {},
   "outputs": [
    {
     "data": {
      "text/plain": [
       "[2, 1]"
      ]
     },
     "execution_count": 22,
     "metadata": {},
     "output_type": "execute_result"
    }
   ],
   "source": [
    "''' \n",
    "Input: nums = [1,1,1,2,2,3], k = 2\n",
    "Output: [1,2]\n",
    "'''\n",
    "import heapq\n",
    "from collections import Counter\n",
    "\n",
    "class Solution:\n",
    "    def topKFrequent(self, nums, k):\n",
    "        freq_map = Counter(nums)  # Count frequencies\n",
    "        min_heap = []\n",
    "\n",
    "        for num, freq in freq_map.items():\n",
    "            heapq.heappush(min_heap, (freq, num))\n",
    "\n",
    "            if len(min_heap) > k:\n",
    "                heapq.heappop(min_heap)\n",
    "\n",
    "        return [num for freq, num in min_heap]\n",
    "\n",
    "\n",
    "solution = Solution()\n",
    "solution.topKFrequent([1,1,1,2,2,3], 2)"
   ]
  },
  {
   "cell_type": "markdown",
   "id": "1d8e5769",
   "metadata": {},
   "source": [
    "973. K Closest Points to Origin"
   ]
  },
  {
   "cell_type": "code",
   "execution_count": 28,
   "id": "5b6d0b1f",
   "metadata": {},
   "outputs": [
    {
     "data": {
      "text/plain": [
       "[[-2, 2]]"
      ]
     },
     "execution_count": 28,
     "metadata": {},
     "output_type": "execute_result"
    }
   ],
   "source": [
    "''' \n",
    "Input: points = [[1,3],[-2,2]], k = 1\n",
    "Output: [[-2,2]]\n",
    "Explanation:\n",
    "The distance between (1, 3) and the origin is sqrt(10).\n",
    "The distance between (-2, 2) and the origin is sqrt(8).\n",
    "Since sqrt(8) < sqrt(10), (-2, 2) is closer to the origin.\n",
    "We only want the closest k = 1 points from the origin, so the answer is just [[-2,2]].\n",
    "'''\n",
    "\n",
    "class Solution:\n",
    "    def kClosest(self, points: List[List[int]], k: int) -> List[List[int]]:\n",
    "        min_heap = []\n",
    "        res = []\n",
    "\n",
    "        for x, y in points:\n",
    "            dist = x * x + y * y\n",
    "            heapq.heappush(min_heap, [dist, x, y])\n",
    "        \n",
    "        while k > 0:\n",
    "            dist, x, y = heapq.heappop(min_heap)\n",
    "            res.append([x, y])\n",
    "            k -= 1\n",
    "        \n",
    "        return res\n",
    "\n",
    "solution = Solution()\n",
    "solution.kClosest([[1,3],[-2,2]], 1)\n",
    "\n"
   ]
  },
  {
   "cell_type": "code",
   "execution_count": null,
   "id": "19709c4a",
   "metadata": {},
   "outputs": [],
   "source": []
  }
 ],
 "metadata": {
  "kernelspec": {
   "display_name": "Python 3",
   "language": "python",
   "name": "python3"
  },
  "language_info": {
   "codemirror_mode": {
    "name": "ipython",
    "version": 3
   },
   "file_extension": ".py",
   "mimetype": "text/x-python",
   "name": "python",
   "nbconvert_exporter": "python",
   "pygments_lexer": "ipython3",
   "version": "3.12.6"
  }
 },
 "nbformat": 4,
 "nbformat_minor": 5
}
