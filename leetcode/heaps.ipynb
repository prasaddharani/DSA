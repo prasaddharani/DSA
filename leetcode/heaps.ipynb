{
 "cells": [
  {
   "cell_type": "markdown",
   "id": "64a2d4f5",
   "metadata": {},
   "source": [
    "### Heaps"
   ]
  },
  {
   "cell_type": "markdown",
   "id": "541d882f",
   "metadata": {},
   "source": [
    "1642. Furthest Building You Can Reach"
   ]
  },
  {
   "cell_type": "code",
   "execution_count": 2,
   "id": "a0b4fa73",
   "metadata": {},
   "outputs": [],
   "source": [
    "''' \n",
    "Input: heights = [4,2,7,6,9,14,12], bricks = 5, ladders = 1\n",
    "Output: 4\n",
    "Explanation: Starting at building 0, you can follow these steps:\n",
    "- Go to building 1 without using ladders nor bricks since 4 >= 2.\n",
    "- Go to building 2 using 5 bricks. You must use either bricks or ladders because 2 < 7.\n",
    "- Go to building 3 without using ladders nor bricks since 7 >= 6.\n",
    "- Go to building 4 using your only ladder. You must use either bricks or ladders because 6 < 9.\n",
    "It is impossible to go beyond building 4 because you do not have any more bricks or ladders.\n",
    "'''\n",
    "import heapq\n",
    "\n",
    "class Solution:\n",
    "\n",
    "    def furthestBuilding(self, heights, bricks, ladders):\n",
    "        min_heap = []\n",
    "\n",
    "        for i in range(len(heights) - 1):\n",
    "            diff = heights[i + 1] - heights[i]\n",
    "\n",
    "            if diff > 0:\n",
    "                heapq.heappush(min_heap, diff)\n",
    "\n",
    "            if len(min_heap) > ladders:\n",
    "                bricks -= heapq.heappop(min_heap)\n",
    "\n",
    "            if bricks < 0:\n",
    "                return i\n",
    "\n",
    "        return len(heights) - 1\n",
    "\n"
   ]
  },
  {
   "cell_type": "markdown",
   "id": "61d2b9a8",
   "metadata": {},
   "source": [
    "Step-by-step Walkthrough:\n",
    "i = 0:\n",
    "heights[0] = 4 → heights[1] = 2\n",
    "No climb (going downhill), so we move freely.\n",
    "\n",
    "i = 1:\n",
    "heights[1] = 2 → heights[2] = 7\n",
    "Climb = 5\n",
    "\n",
    "Push 5 to min_heap: min_heap = [5]\n",
    "\n",
    "Size of heap = 1 → within ladder limit → no action needed yet\n",
    "\n",
    "i = 2:\n",
    "heights[2] = 7 → heights[3] = 6\n",
    "No climb, move freely.\n",
    "\n",
    "i = 3:\n",
    "heights[3] = 6 → heights[4] = 9\n",
    "Climb = 3\n",
    "\n",
    "Push 3 to heap → min_heap = [3, 5]\n",
    "\n",
    "Heap size = 2 → exceeds 1 ladder\n",
    "→ Use bricks for smallest climb:\n",
    "\n",
    "Pop 3 → bricks = 5 - 3 = 2\n",
    "\n",
    "min_heap = [5]\n",
    "\n",
    "i = 4:\n",
    "heights[4] = 9 → heights[5] = 14\n",
    "Climb = 5\n",
    "\n",
    "Push 5 → min_heap = [5, 5]\n",
    "\n",
    "Heap size = 2 → exceeds 1 ladder\n",
    "→ Use bricks for smallest climb (5)\n",
    "\n",
    "Pop 5 → bricks = 2 - 5 = -3\n",
    "\n",
    "Bricks are negative → we can’t continue\n",
    "\n",
    "Result:\n",
    "We return the index before failure → i = 4\n",
    "So, furthest building = 4"
   ]
  },
  {
   "cell_type": "code",
   "execution_count": null,
   "id": "e35a25bd",
   "metadata": {},
   "outputs": [],
   "source": []
  },
  {
   "cell_type": "markdown",
   "id": "3a3783a5",
   "metadata": {},
   "source": [
    "1834. Single-Threaded CPU"
   ]
  },
  {
   "cell_type": "code",
   "execution_count": 4,
   "id": "35269dc5",
   "metadata": {},
   "outputs": [
    {
     "data": {
      "text/plain": [
       "\" \\nStep-by-step Simulation:\\n1. time = 0\\nNo task has arrived yet (enqueueTime > time)\\n\\nSo we jump to next task's time: time = 1\\n\\n2. time = 1\\nTask 0 has arrived → Push (2, 0) into heap\\n\\nHeap: [(2, 0)]\\n\\nPop task (2, 0) → run it\\n\\ntime += 2 → time = 3\\n\\nres = [0]\\n\\n3. time = 3\\nTask 1 ([2,4]) and Task 2 ([3,2]) have arrived\\n\\nPush (4, 1) and (2, 2) into heap\\n\\nHeap: [(2, 2), (4, 1)]\\n\\nPop (2, 2) → run it\\n\\ntime += 2 → time = 5\\n\\nres = [0, 2]\\n\\n4. time = 5\\nTask 3 ([4,1]) has arrived\\n\\nPush (1, 3) into heap\\n\\nHeap: [(1, 3), (4, 1)]\\n\\nPop (1, 3) → run it\\n\\ntime += 1 → time = 6\\n\\nres = [0, 2, 3]\\n\\n5. time = 6\\nHeap has (4, 1)\\n\\nPop (4, 1) → run it\\n\\ntime += 4 → time = 10\\n\\nres = [0, 2, 3, 1]\\n\""
      ]
     },
     "execution_count": 4,
     "metadata": {},
     "output_type": "execute_result"
    }
   ],
   "source": [
    "''' \n",
    "Step-by-step Simulation:\n",
    "1. time = 0\n",
    "No task has arrived yet (enqueueTime > time)\n",
    "\n",
    "So we jump to next task's time: time = 1\n",
    "\n",
    "2. time = 1\n",
    "Task 0 has arrived → Push (2, 0) into heap\n",
    "\n",
    "Heap: [(2, 0)]\n",
    "\n",
    "Pop task (2, 0) → run it\n",
    "\n",
    "time += 2 → time = 3\n",
    "\n",
    "res = [0]\n",
    "\n",
    "3. time = 3\n",
    "Task 1 ([2,4]) and Task 2 ([3,2]) have arrived\n",
    "\n",
    "Push (4, 1) and (2, 2) into heap\n",
    "\n",
    "Heap: [(2, 2), (4, 1)]\n",
    "\n",
    "Pop (2, 2) → run it\n",
    "\n",
    "time += 2 → time = 5\n",
    "\n",
    "res = [0, 2]\n",
    "\n",
    "4. time = 5\n",
    "Task 3 ([4,1]) has arrived\n",
    "\n",
    "Push (1, 3) into heap\n",
    "\n",
    "Heap: [(1, 3), (4, 1)]\n",
    "\n",
    "Pop (1, 3) → run it\n",
    "\n",
    "time += 1 → time = 6\n",
    "\n",
    "res = [0, 2, 3]\n",
    "\n",
    "5. time = 6\n",
    "Heap has (4, 1)\n",
    "\n",
    "Pop (4, 1) → run it\n",
    "\n",
    "time += 4 → time = 10\n",
    "\n",
    "res = [0, 2, 3, 1]\n",
    "'''"
   ]
  },
  {
   "cell_type": "code",
   "execution_count": 3,
   "id": "0fc12f42",
   "metadata": {},
   "outputs": [
    {
     "data": {
      "text/plain": [
       "[0, 2, 3, 1]"
      ]
     },
     "execution_count": 3,
     "metadata": {},
     "output_type": "execute_result"
    }
   ],
   "source": [
    "''' \n",
    "Input: tasks = [[1,2],[2,4],[3,2],[4,1]]\n",
    "Output: [0,2,3,1]\n",
    "Explanation: The events go as follows: \n",
    "- At time = 1, task 0 is available to process. Available tasks = {0}.\n",
    "- Also at time = 1, the idle CPU starts processing task 0. Available tasks = {}.\n",
    "- At time = 2, task 1 is available to process. Available tasks = {1}.\n",
    "- At time = 3, task 2 is available to process. Available tasks = {1, 2}.\n",
    "- Also at time = 3, the CPU finishes task 0 and starts processing task 2 as it is the shortest. Available tasks = {1}.\n",
    "- At time = 4, task 3 is available to process. Available tasks = {1, 3}.\n",
    "- At time = 5, the CPU finishes task 2 and starts processing task 3 as it is the shortest. Available tasks = {1}.\n",
    "- At time = 6, the CPU finishes task 3 and starts processing task 1. Available tasks = {}.\n",
    "- At time = 10, the CPU finishes task 1 and becomes idle.\n",
    "'''\n",
    "\n",
    "import heapq\n",
    "\n",
    "class Solution:\n",
    "    def getOrder(self, tasks):\n",
    "        # Add original indices and sort by enqueueTime\n",
    "        tasks = sorted([(et, pt, i) for i, (et, pt) in enumerate(tasks)])\n",
    "        \n",
    "        res = []\n",
    "        min_heap = []\n",
    "        time = 0\n",
    "        i = 0  # Pointer to track tasks\n",
    "\n",
    "        while i < len(tasks) or min_heap:\n",
    "            # Load all tasks that have arrived by current time\n",
    "            while i < len(tasks) and tasks[i][0] <= time:\n",
    "                enqueue, process, idx = tasks[i]\n",
    "                heapq.heappush(min_heap, (process, idx))\n",
    "                i += 1\n",
    "\n",
    "            if min_heap:\n",
    "                process, idx = heapq.heappop(min_heap)\n",
    "                time += process\n",
    "                res.append(idx)\n",
    "            else:\n",
    "                # If CPU idle, jump to next task's enqueueTime\n",
    "                time = tasks[i][0]\n",
    "\n",
    "        return res\n",
    "\n",
    "\n",
    "\n",
    "solution = Solution()\n",
    "solution.getOrder([[1,2],[2,4],[3,2],[4,1]])"
   ]
  },
  {
   "cell_type": "code",
   "execution_count": null,
   "id": "11019af8",
   "metadata": {},
   "outputs": [],
   "source": []
  },
  {
   "cell_type": "code",
   "execution_count": null,
   "id": "2190fcb0",
   "metadata": {},
   "outputs": [],
   "source": []
  },
  {
   "cell_type": "code",
   "execution_count": null,
   "id": "394970d4",
   "metadata": {},
   "outputs": [],
   "source": []
  },
  {
   "cell_type": "code",
   "execution_count": null,
   "id": "5b6d0b1f",
   "metadata": {},
   "outputs": [],
   "source": []
  }
 ],
 "metadata": {
  "kernelspec": {
   "display_name": "Python 3",
   "language": "python",
   "name": "python3"
  },
  "language_info": {
   "codemirror_mode": {
    "name": "ipython",
    "version": 3
   },
   "file_extension": ".py",
   "mimetype": "text/x-python",
   "name": "python",
   "nbconvert_exporter": "python",
   "pygments_lexer": "ipython3",
   "version": "3.12.6"
  }
 },
 "nbformat": 4,
 "nbformat_minor": 5
}
