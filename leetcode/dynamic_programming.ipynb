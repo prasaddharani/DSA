{
 "cells": [
  {
   "cell_type": "markdown",
   "id": "62b856d3",
   "metadata": {},
   "source": [
    "### 1-D DP"
   ]
  },
  {
   "cell_type": "markdown",
   "id": "b6b13faa",
   "metadata": {},
   "source": [
    "198. House Robber"
   ]
  },
  {
   "cell_type": "code",
   "execution_count": 6,
   "id": "91816db0",
   "metadata": {},
   "outputs": [
    {
     "data": {
      "text/plain": [
       "4"
      ]
     },
     "execution_count": 6,
     "metadata": {},
     "output_type": "execute_result"
    }
   ],
   "source": [
    "'''\n",
    "Example 1:\n",
    "\n",
    "Input: nums = [1,2,3,1]\n",
    "Output: 4\n",
    "Explanation: Rob house 1 (money = 1) and then rob house 3 (money = 3).\n",
    "Total amount you can rob = 1 + 3 = 4.\n",
    "'''\n",
    "from typing import List \n",
    "\n",
    "class Solution:\n",
    "    def rob(self, nums: List[int]) -> int:\n",
    "        if len(nums) < 2:\n",
    "            return nums[0]\n",
    "        dp = [0] * (len(nums))\n",
    "\n",
    "        dp[0] = nums[0]\n",
    "        dp[1] = max(nums[0], nums[1])\n",
    "\n",
    "        for i in range(2, len(nums)):\n",
    "            dp[i] = max(dp[i-2] + nums[i], dp[i-1])\n",
    "        return dp[len(nums) - 1] \n",
    "\n",
    "solution = Solution()\n",
    "solution.rob([1,2,3,1])"
   ]
  },
  {
   "cell_type": "markdown",
   "id": "3a93bb9f",
   "metadata": {},
   "source": [
    "213. House Robber II"
   ]
  },
  {
   "cell_type": "code",
   "execution_count": 12,
   "id": "a9ad55f5",
   "metadata": {},
   "outputs": [
    {
     "data": {
      "text/plain": [
       "3"
      ]
     },
     "execution_count": 12,
     "metadata": {},
     "output_type": "execute_result"
    }
   ],
   "source": [
    "''' \n",
    "Input: nums = [2,3,2]\n",
    "Output: 3\n",
    "Explanation: You cannot rob house 1 (money = 2) and then rob house 3 (money = 2), because they are adjacent houses.\n",
    "'''\n",
    "\n",
    "class Solution:\n",
    "    def rob(self, nums: List[int]) -> int:\n",
    "        if len(nums) < 2:\n",
    "            return nums[0]\n",
    "        exclude_first_index = self.rob_helper(nums[1:])\n",
    "        exclude_last_index = self.rob_helper(nums[:len(nums) - 1])\n",
    "        return max(exclude_first_index, exclude_last_index)\n",
    "\n",
    "    def rob_helper(self, nums):\n",
    "        if len(nums) < 2:\n",
    "            return nums[0]\n",
    "        dp = [0] * len(nums)\n",
    "        dp[0] = nums[0]\n",
    "        dp[1] = max(nums[0], nums[1])\n",
    "        for i in range(2, len(nums)):\n",
    "            dp[i] = max(dp[i - 1], dp[i - 2] + nums[i])\n",
    "        return dp[-1]\n",
    "\n",
    "\n",
    "solution = Solution()\n",
    "solution.rob([2, 3, 2])\n"
   ]
  },
  {
   "cell_type": "code",
   "execution_count": null,
   "id": "c0ae4839",
   "metadata": {},
   "outputs": [],
   "source": []
  },
  {
   "cell_type": "code",
   "execution_count": null,
   "id": "3120de7f",
   "metadata": {},
   "outputs": [],
   "source": []
  }
 ],
 "metadata": {
  "kernelspec": {
   "display_name": "Python 3",
   "language": "python",
   "name": "python3"
  },
  "language_info": {
   "codemirror_mode": {
    "name": "ipython",
    "version": 3
   },
   "file_extension": ".py",
   "mimetype": "text/x-python",
   "name": "python",
   "nbconvert_exporter": "python",
   "pygments_lexer": "ipython3",
   "version": "3.12.6"
  }
 },
 "nbformat": 4,
 "nbformat_minor": 5
}
