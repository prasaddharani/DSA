{
 "cells": [
  {
   "cell_type": "markdown",
   "id": "62b856d3",
   "metadata": {},
   "source": [
    "### 1-D DP"
   ]
  },
  {
   "cell_type": "markdown",
   "id": "b6b13faa",
   "metadata": {},
   "source": [
    "198. House Robber"
   ]
  },
  {
   "cell_type": "code",
   "execution_count": 2,
   "id": "91816db0",
   "metadata": {},
   "outputs": [
    {
     "data": {
      "text/plain": [
       "4"
      ]
     },
     "execution_count": 2,
     "metadata": {},
     "output_type": "execute_result"
    }
   ],
   "source": [
    "'''\n",
    "Example 1:\n",
    "\n",
    "Input: nums = [1,2,3,1]\n",
    "Output: 4\n",
    "Explanation: Rob house 1 (money = 1) and then rob house 3 (money = 3).\n",
    "Total amount you can rob = 1 + 3 = 4.\n",
    "'''\n",
    "from typing import List \n",
    "\n",
    "class Solution:\n",
    "    def rob(self, nums: List[int]) -> int:\n",
    "        if len(nums) < 2:\n",
    "            return nums[0]\n",
    "        dp = [0] * (len(nums))\n",
    "\n",
    "        dp[0] = nums[0]\n",
    "        dp[1] = max(nums[0], nums[1])\n",
    "\n",
    "        for i in range(2, len(nums)):\n",
    "            dp[i] = max(dp[i-2] + nums[i], dp[i-1])\n",
    "        return dp[len(nums) - 1] \n",
    "\n",
    "solution = Solution()\n",
    "solution.rob([1,2,3,1])"
   ]
  },
  {
   "cell_type": "markdown",
   "id": "3a93bb9f",
   "metadata": {},
   "source": [
    "213. House Robber II"
   ]
  },
  {
   "cell_type": "code",
   "execution_count": 3,
   "id": "a9ad55f5",
   "metadata": {},
   "outputs": [
    {
     "data": {
      "text/plain": [
       "3"
      ]
     },
     "execution_count": 3,
     "metadata": {},
     "output_type": "execute_result"
    }
   ],
   "source": [
    "''' \n",
    "Input: nums = [2,3,2]\n",
    "Output: 3\n",
    "Explanation: You cannot rob house 1 (money = 2) and then rob house 3 (money = 2), because they are adjacent houses.\n",
    "'''\n",
    "\n",
    "class Solution:\n",
    "    def rob(self, nums: List[int]) -> int:\n",
    "        if len(nums) < 2:\n",
    "            return nums[0]\n",
    "        exclude_first_index = self.rob_helper(nums[1:])\n",
    "        exclude_last_index = self.rob_helper(nums[:len(nums) - 1])\n",
    "        return max(exclude_first_index, exclude_last_index)\n",
    "\n",
    "    def rob_helper(self, nums):\n",
    "        if len(nums) < 2:\n",
    "            return nums[0]\n",
    "        dp = [0] * len(nums)\n",
    "        dp[0] = nums[0]\n",
    "        dp[1] = max(nums[0], nums[1])\n",
    "        for i in range(2, len(nums)):\n",
    "            dp[i] = max(dp[i - 1], dp[i - 2] + nums[i])\n",
    "        return dp[-1]\n",
    "\n",
    "\n",
    "solution = Solution()\n",
    "solution.rob([2, 3, 2])\n"
   ]
  },
  {
   "cell_type": "markdown",
   "id": "e73fad92",
   "metadata": {},
   "source": [
    "### Knapsack Problem"
   ]
  },
  {
   "cell_type": "markdown",
   "id": "34eca8e4",
   "metadata": {},
   "source": [
    "416. Partition Equal Subset Sum"
   ]
  },
  {
   "cell_type": "code",
   "execution_count": 4,
   "id": "c0ae4839",
   "metadata": {},
   "outputs": [
    {
     "data": {
      "text/plain": [
       "\" \\n# 🧠 Partition Equal Subset Sum – Cheat Sheet\\n\\n## 🔍 Problem\\nGiven a list of **positive integers**, determine if it can be **partitioned into two subsets** such that the **sum of elements in both subsets is equal**.\\n\\n---\\n\\n## 🎯 Key Insight\\n\\n- If total sum is **odd** → can't be split equally → return `False`\\n- If even → find if **any subset sums to total // 2**\\n- Reduces to: **Subset Sum to Target Problem**\\n\\n---\\n\\n## ✅ Steps to Solve\\n\\n1. Calculate total sum\\n2. If total is odd → return `False`\\n3. Set `target = total // 2`\\n4. Use **1D DP array**:\\n   - `dp[i]` = `True` if sum `i` can be formed from any subset\\n   - Start with `dp[0] = True` (empty subset makes sum 0)\\n\\n---\\n\\n## 💻 Python Code\\n\\n```python\\ndef canPartition(nums):\\n    total = sum(nums)\\n    if total % 2 != 0:\\n        return False\\n\\n    target = total // 2\\n    dp = [False] * (target + 1)\\n    dp[0] = True  # Empty subset makes sum 0\\n\\n    for num in nums:\\n        for i in range(target, num - 1, -1):\\n            dp[i] = dp[i] or dp[i - num]\\n\\n    return dp[target]\\n\\n\""
      ]
     },
     "execution_count": 4,
     "metadata": {},
     "output_type": "execute_result"
    }
   ],
   "source": [
    "''' \n",
    "# 🧠 Partition Equal Subset Sum – Cheat Sheet\n",
    "\n",
    "## 🔍 Problem\n",
    "Given a list of **positive integers**, determine if it can be **partitioned into two subsets** such that the **sum of elements in both subsets is equal**.\n",
    "\n",
    "---\n",
    "\n",
    "## 🎯 Key Insight\n",
    "\n",
    "- If total sum is **odd** → can't be split equally → return `False`\n",
    "- If even → find if **any subset sums to total // 2**\n",
    "- Reduces to: **Subset Sum to Target Problem**\n",
    "\n",
    "---\n",
    "\n",
    "## ✅ Steps to Solve\n",
    "\n",
    "1. Calculate total sum\n",
    "2. If total is odd → return `False`\n",
    "3. Set `target = total // 2`\n",
    "4. Use **1D DP array**:\n",
    "   - `dp[i]` = `True` if sum `i` can be formed from any subset\n",
    "   - Start with `dp[0] = True` (empty subset makes sum 0)\n",
    "\n",
    "---\n",
    "\n",
    "## 💻 Python Code\n",
    "\n",
    "```python\n",
    "def canPartition(nums):\n",
    "    total = sum(nums)\n",
    "    if total % 2 != 0:\n",
    "        return False\n",
    "\n",
    "    target = total // 2\n",
    "    dp = [False] * (target + 1)\n",
    "    dp[0] = True  # Empty subset makes sum 0\n",
    "\n",
    "    for num in nums:\n",
    "        for i in range(target, num - 1, -1):\n",
    "            dp[i] = dp[i] or dp[i - num]\n",
    "\n",
    "    return dp[target]\n",
    "\n",
    "'''\n",
    "\n"
   ]
  },
  {
   "cell_type": "code",
   "execution_count": 9,
   "id": "3120de7f",
   "metadata": {},
   "outputs": [
    {
     "data": {
      "text/plain": [
       "True"
      ]
     },
     "execution_count": 9,
     "metadata": {},
     "output_type": "execute_result"
    }
   ],
   "source": [
    "''' \n",
    "Input: nums = [1,5,11,5]\n",
    "Output: true\n",
    "Explanation: The array can be partitioned as [1, 5, 5] and [11].\n",
    "'''\n",
    "\n",
    "class Solution:\n",
    "    def canPartition(self, nums):\n",
    "        # Step 1: Calculate total sum of all elements\n",
    "        total = sum(nums)\n",
    "\n",
    "        # Step 2: If total sum is odd, we can't split it equally into two subsets\n",
    "        if total % 2 != 0:\n",
    "            return False\n",
    "\n",
    "        # Step 3: Target sum for each subset\n",
    "        target = total // 2\n",
    "\n",
    "        # Step 4: Create a DP array where dp[i] means \n",
    "        # \"Can we form sum i using some subset of the elements?\"\n",
    "        dp = [False] * (target + 1)\n",
    "\n",
    "        # Base case: A sum of 0 is always possible (using an empty subset)\n",
    "        dp[0] = True\n",
    "\n",
    "        # Step 5: Process each number in the input list\n",
    "        for num in nums:\n",
    "            # Traverse the dp array from right to left to avoid using the same number twice\n",
    "            for i in range(target, num - 1, -1):\n",
    "                # If we could form (i - num) before, now we can form i by adding num\n",
    "                dp[i] = dp[i] or dp[i - num]\n",
    "\n",
    "        # Step 6: Final answer — can we form the target sum?\n",
    "        return dp[target]\n",
    "\n",
    "\n",
    "    \n",
    "solution = Solution()\n",
    "solution.canPartition([1, 5, 11, 5])"
   ]
  },
  {
   "cell_type": "markdown",
   "id": "19d47b13",
   "metadata": {},
   "source": [
    "### Unbound Knapsack DP"
   ]
  },
  {
   "cell_type": "markdown",
   "id": "a1e04161",
   "metadata": {},
   "source": [
    "322. Coin Change"
   ]
  },
  {
   "cell_type": "code",
   "execution_count": 12,
   "id": "879bc9c4",
   "metadata": {},
   "outputs": [
    {
     "data": {
      "text/plain": [
       "3"
      ]
     },
     "execution_count": 12,
     "metadata": {},
     "output_type": "execute_result"
    }
   ],
   "source": [
    "''' \n",
    "Input: coins = [1,2,5], amount = 11\n",
    "Output: 3\n",
    "Explanation: 11 = 5 + 5 + 1\n",
    "'''\n",
    "\n",
    "class Solution:\n",
    "    def coinChange(self, coins: List[int], amount: int) -> int:\n",
    "        if amount < 0:\n",
    "            return 0 \n",
    "        \n",
    "        dp = [float('inf')] * (amount + 1)\n",
    "        dp[0] = 0\n",
    "        \n",
    "        for i in range(1, amount + 1):\n",
    "            for coin in coins:\n",
    "                if coin <= i and dp[i - coin] != float('inf'):\n",
    "                    dp[i] = min(dp[i], 1 + dp[i - coin])\n",
    "        return dp[amount]\n",
    "\n",
    "solution = Solution()\n",
    "solution.coinChange([1, 2, 5], 11)"
   ]
  },
  {
   "cell_type": "markdown",
   "id": "cf8d188b",
   "metadata": {},
   "source": [
    "### Longest Increasing subsequence DP"
   ]
  },
  {
   "cell_type": "markdown",
   "id": "58a43f05",
   "metadata": {},
   "source": [
    "300. Longest Increasing Subsequence"
   ]
  },
  {
   "cell_type": "code",
   "execution_count": 17,
   "id": "6a65afbe",
   "metadata": {},
   "outputs": [
    {
     "data": {
      "text/plain": [
       "4"
      ]
     },
     "execution_count": 17,
     "metadata": {},
     "output_type": "execute_result"
    }
   ],
   "source": [
    "''' \n",
    "Input: nums = [10,9,2,5,3,7,101,18]\n",
    "Output: 4\n",
    "Explanation: The longest increasing subsequence is [2,3,7,101], therefore the length is 4.\n",
    "'''\n",
    "\n",
    "class Solution:\n",
    "    def lengthOfLIS(self, nums: List[int]) -> int:\n",
    "        # Step 1: Initialize DP array where dp[i] represents the length of the\n",
    "        # Longest Increasing Subsequence ending at index i.\n",
    "        dp = [1] * len(nums)  # Every element is at least a subsequence of length 1\n",
    "\n",
    "        # Step 2: Loop over each element starting from the second\n",
    "        for i in range(1, len(nums)):\n",
    "            # Check all previous elements before index i\n",
    "            for j in range(i):\n",
    "                # If nums[j] is less than nums[i], we can extend the increasing subsequence\n",
    "                if nums[j] < nums[i] and dp[j] >= dp[i]:\n",
    "                    # Update dp[i] to be the length of LIS ending at j plus 1 (include nums[i])\n",
    "                    dp[i] = dp[j] + 1\n",
    "\n",
    "        # Step 3: The maximum value in dp[] is the length of the longest increasing subsequence\n",
    "        return max(dp)\n",
    "\n",
    "    \n",
    "solution = Solution()\n",
    "solution.lengthOfLIS([10,9,2,5,3,7,101,18])"
   ]
  },
  {
   "cell_type": "code",
   "execution_count": null,
   "id": "45a88042",
   "metadata": {},
   "outputs": [],
   "source": []
  },
  {
   "cell_type": "code",
   "execution_count": null,
   "id": "cc7a311e",
   "metadata": {},
   "outputs": [],
   "source": []
  },
  {
   "cell_type": "code",
   "execution_count": null,
   "id": "5bce4b8e",
   "metadata": {},
   "outputs": [],
   "source": []
  },
  {
   "cell_type": "code",
   "execution_count": null,
   "id": "36d5e522",
   "metadata": {},
   "outputs": [],
   "source": []
  }
 ],
 "metadata": {
  "kernelspec": {
   "display_name": "Python 3",
   "language": "python",
   "name": "python3"
  },
  "language_info": {
   "codemirror_mode": {
    "name": "ipython",
    "version": 3
   },
   "file_extension": ".py",
   "mimetype": "text/x-python",
   "name": "python",
   "nbconvert_exporter": "python",
   "pygments_lexer": "ipython3",
   "version": "3.12.6"
  }
 },
 "nbformat": 4,
 "nbformat_minor": 5
}
