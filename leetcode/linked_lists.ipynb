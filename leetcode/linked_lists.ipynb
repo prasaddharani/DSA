{
 "cells": [
  {
   "cell_type": "markdown",
   "metadata": {},
   "source": [
    "### Linked List"
   ]
  },
  {
   "cell_type": "markdown",
   "metadata": {},
   "source": [
    "160. Intersection of Two Linked Lists"
   ]
  },
  {
   "cell_type": "code",
   "execution_count": 18,
   "metadata": {},
   "outputs": [
    {
     "data": {
      "text/plain": [
       "8"
      ]
     },
     "execution_count": 18,
     "metadata": {},
     "output_type": "execute_result"
    }
   ],
   "source": [
    "''' \n",
    "Input: intersectVal = 8, listA = [4,1,8,4,5], listB = [5,6,1,8,4,5], skipA = 2, skipB = 3\n",
    "Output: Intersected at '8'\n",
    "'''\n",
    "from typing import List, Optional\n",
    "\n",
    "# Definition for singly-linked list.\n",
    "class ListNode:\n",
    "    def __init__(self, x, next = None):\n",
    "        self.val = x\n",
    "        self.next = next\n",
    "\n",
    "class Solution:\n",
    "    def getIntersectionNode(self, headA: ListNode, headB: ListNode) -> Optional[ListNode]:\n",
    "        l1 = headA\n",
    "        l2 = headB \n",
    "        while l1 != l2:\n",
    "            l1 = l1.next if l1 else headB\n",
    "            l2 = l2.next if l2 else headA\n",
    "        return l1\n",
    "\n",
    "solution = Solution()\n",
    "# Create the shared part of the list.\n",
    "shared = ListNode(8, ListNode(4, ListNode(5)))\n",
    "\n",
    "# Build listA and listB so that they converge at 'shared'\n",
    "listA = ListNode(4, ListNode(1, shared))\n",
    "listB = ListNode(5, ListNode(6, ListNode(1, shared)))\n",
    "solution.getIntersectionNode(listA, listB).val"
   ]
  },
  {
   "cell_type": "markdown",
   "metadata": {},
   "source": [
    "19. Remove Nth Node From End of List"
   ]
  },
  {
   "cell_type": "code",
   "execution_count": 52,
   "metadata": {},
   "outputs": [],
   "source": [
    "''' \n",
    "Input: head = [1,2,3,4,5], n = 2\n",
    "Output: [1,2,3,5]\n",
    "'''\n",
    "\n",
    "class ListNode:\n",
    "    def __init__(self, val=0, next=None):\n",
    "        self.val = val\n",
    "        self.next = next\n",
    "class Solution:\n",
    "    def removeNthFromEnd(self, head, n):\n",
    "        dummy = ListNode(0, head)\n",
    "        fast = slow = dummy\n",
    "\n",
    "        # Move fast pointer n + 1 steps ahead to reach one node before target\n",
    "        for _ in range(n + 1):\n",
    "            if fast:\n",
    "                fast = fast.next\n",
    "            else:\n",
    "                return head  # n is larger than the list length\n",
    "\n",
    "        # Move both pointers until fast reaches the end\n",
    "        while fast:\n",
    "            fast = fast.next\n",
    "            slow = slow.next\n",
    "\n",
    "        # Remove the nth node\n",
    "        if slow.next:\n",
    "            slow.next = slow.next.next\n",
    "\n",
    "        return dummy.next\n",
    "    \n",
    "solution = Solution()\n",
    "res = solution.removeNthFromEnd(ListNode(1, ListNode(2, ListNode(3, ListNode(4, ListNode(5))))), 5)"
   ]
  },
  {
   "cell_type": "code",
   "execution_count": 56,
   "metadata": {},
   "outputs": [],
   "source": [
    "def print_list(head): \n",
    "    temp = head \n",
    "    while temp:\n",
    "        print(temp.val)\n",
    "        temp = temp.next\n",
    "    "
   ]
  },
  {
   "cell_type": "markdown",
   "metadata": {},
   "source": [
    "24. Swap Nodes in Pairs"
   ]
  },
  {
   "cell_type": "code",
   "execution_count": 64,
   "metadata": {},
   "outputs": [
    {
     "name": "stdout",
     "output_type": "stream",
     "text": [
      "2\n",
      "1\n",
      "4\n",
      "3\n"
     ]
    }
   ],
   "source": [
    "''' \n",
    "Input: head = [1,2,3,4]\n",
    "\n",
    "Output: [2,1,4,3]\n",
    "'''\n",
    "\n",
    "class ListNode:\n",
    "    def __init__(self, val=0, next=None):\n",
    "        self.val = val\n",
    "        self.next = next\n",
    "class Solution:\n",
    "    def swapPairs(self, head: Optional[ListNode]) -> Optional[ListNode]:\n",
    "        # Dummy node to simplify edge cases (like swapping the first two nodes)\n",
    "        dummy = ListNode(0, head)\n",
    "        \n",
    "        # 'prev' tracks the last node of the previous swapped pair\n",
    "        prev = dummy\n",
    "        cur = head  # current node we're processing\n",
    "\n",
    "        while cur and cur.next:\n",
    "            first = cur               # First node of the pair\n",
    "            second = cur.next         # Second node of the pair\n",
    "\n",
    "            # --- Swap the pair ---\n",
    "            first.next = second.next  # Link first node to the node after the second\n",
    "            prev.next = second        # Link previous part to the second node\n",
    "            second.next = first       # Complete the swap: second -> first\n",
    "\n",
    "            # --- Move to the next pair ---\n",
    "            prev = first              # 'first' is now the tail of the swapped pair\n",
    "            cur = first.next          # Move to the next pair\n",
    "\n",
    "        # Return the new head (dummy.next points to the possibly new head)\n",
    "        return dummy.next\n",
    "\n",
    "    \n",
    "solution = Solution()\n",
    "res = solution.swapPairs(ListNode(1, ListNode(2, ListNode(3, ListNode(4)))))\n",
    "print_list(res)\n"
   ]
  },
  {
   "cell_type": "markdown",
   "metadata": {},
   "source": [
    "61. Rotate List"
   ]
  },
  {
   "cell_type": "code",
   "execution_count": 75,
   "metadata": {},
   "outputs": [
    {
     "name": "stdout",
     "output_type": "stream",
     "text": [
      "4\n",
      "5\n",
      "1\n",
      "2\n",
      "3\n"
     ]
    }
   ],
   "source": [
    "''' \n",
    "Input: head = [1,2,3,4,5], k = 2\n",
    "Output: [4,5,1,2,3]\n",
    "'''\n",
    "\n",
    "class ListNode:\n",
    "    def __init__(self, val=0, next=None):\n",
    "        self.val = val\n",
    "        self.next = next\n",
    "class Solution:\n",
    "    def rotateRight(self, head: Optional[ListNode], k: int) -> Optional[ListNode]:\n",
    "        # Edge case: if list is empty or has only one node, or no rotation is needed\n",
    "        if not head or not head.next or k == 0:\n",
    "            return head\n",
    "\n",
    "        # Step 1: Find the length of the list and the tail node\n",
    "        length = 1\n",
    "        tail = head\n",
    "        while tail.next:\n",
    "            tail = tail.next\n",
    "            length += 1\n",
    "\n",
    "        # Step 2: Normalize k (if k > length, rotating k times is the same as k % length)\n",
    "        k %= length\n",
    "        if k == 0:\n",
    "            return head  # No rotation needed\n",
    "\n",
    "        # Step 3: Find the new tail (at position length - k - 1)\n",
    "        new_tail = head\n",
    "        for _ in range(length - k - 1):\n",
    "            new_tail = new_tail.next\n",
    "\n",
    "        # Step 4: Set the new head, break the link, and connect old tail to original head\n",
    "        new_head = new_tail.next\n",
    "        new_tail.next = None\n",
    "        tail.next = head  # Make it circular and then break it at new_tail\n",
    "\n",
    "        return new_head\n",
    "\n",
    "\n",
    "solution = Solution()\n",
    "res = solution.rotateRight(ListNode(1, ListNode(2, ListNode(3, ListNode(4, ListNode(5))))), 2)\n",
    "print_list(res)"
   ]
  },
  {
   "cell_type": "markdown",
   "metadata": {},
   "source": [
    "2. Add Two Numbers"
   ]
  },
  {
   "cell_type": "code",
   "execution_count": 87,
   "metadata": {},
   "outputs": [
    {
     "name": "stdout",
     "output_type": "stream",
     "text": [
      "7\n",
      "0\n",
      "8\n"
     ]
    }
   ],
   "source": [
    "''' \n",
    "Input: l1 = [2,4,3], l2 = [5,6,4]\n",
    "Output: [7,0,8]\n",
    "Explanation: 342 + 465 = 807.\n",
    "'''\n",
    "\n",
    "class ListNode:\n",
    "    def __init__(self, val=0, next=None):\n",
    "        self.val = val\n",
    "        self.next = next\n",
    "class Solution:\n",
    "    def addTwoNumbers(self, l1: Optional[ListNode], l2: Optional[ListNode]) -> Optional[ListNode]:\n",
    "        dummy = ListNode(0)\n",
    "        curr = dummy \n",
    "        carry = 0\n",
    "        while l1 or l2 or carry:\n",
    "            val1 = l1.val if l1 else 0 \n",
    "            val2 = l2.val if l2 else 0 \n",
    "\n",
    "            val = val1 + val2 + carry \n",
    "            carry = val // 10 \n",
    "            val = val % 10\n",
    "            \n",
    "            curr.next = ListNode(val)\n",
    "\n",
    "            curr = curr.next\n",
    "            l1 = l1.next if l1 else None \n",
    "            l2 = l2.next if l2 else None\n",
    "        return dummy.next \n",
    "\n",
    "solution = Solution()\n",
    "res = solution.addTwoNumbers(ListNode(2, ListNode(4, ListNode(3))), ListNode(5, ListNode(6, ListNode(4))))\n",
    "print_list(res)\n",
    "\n"
   ]
  },
  {
   "cell_type": "code",
   "execution_count": null,
   "metadata": {},
   "outputs": [],
   "source": []
  },
  {
   "cell_type": "markdown",
   "metadata": {},
   "source": [
    "### Fast and Slow pointers"
   ]
  },
  {
   "cell_type": "markdown",
   "metadata": {},
   "source": [
    "876. Middle of the Linked List"
   ]
  },
  {
   "cell_type": "code",
   "execution_count": 90,
   "metadata": {},
   "outputs": [
    {
     "data": {
      "text/plain": [
       "3"
      ]
     },
     "execution_count": 90,
     "metadata": {},
     "output_type": "execute_result"
    }
   ],
   "source": [
    "''' \n",
    "Input: head = [1,2,3,4,5]\n",
    "Output: [3,4,5]\n",
    "Explanation: The middle node of the list is node 3.\n",
    "'''\n",
    "\n",
    "class ListNode:\n",
    "    def __init__(self, val=0, next=None):\n",
    "        self.val = val\n",
    "        self.next = next\n",
    "class Solution:\n",
    "    def middleNode(self, head: Optional[ListNode]) -> Optional[ListNode]:\n",
    "        slow = fast = head \n",
    "        while fast and fast.next:\n",
    "            slow = slow.next \n",
    "            fast = fast.next.next \n",
    "        return slow \n",
    "\n",
    "solution = Solution()\n",
    "solution.middleNode(ListNode(1, ListNode(2, ListNode(3, ListNode(4, ListNode(5)))))).val"
   ]
  },
  {
   "cell_type": "markdown",
   "metadata": {},
   "source": [
    "142. Linked List Cycle II"
   ]
  },
  {
   "cell_type": "code",
   "execution_count": 98,
   "metadata": {},
   "outputs": [
    {
     "name": "stdout",
     "output_type": "stream",
     "text": [
      "2\n"
     ]
    }
   ],
   "source": [
    "''' \n",
    "Input: head = [3,2,0,-4], pos = 1\n",
    "Output: tail connects to node index 1\n",
    "Explanation: There is a cycle in the linked list, where tail connects to the second node.\n",
    "'''\n",
    "\n",
    "class ListNode:\n",
    "    def __init__(self, x, next = None):\n",
    "        self.val = x\n",
    "        self.next = next\n",
    "\n",
    "class Solution:\n",
    "    def detectCycle(self, head: Optional[ListNode]) -> Optional[ListNode]:\n",
    "        # Initialize two pointers (slow and fast) starting at the head\n",
    "        slow = fast = head\n",
    "\n",
    "        # Step 1: Use Floyd's Tortoise and Hare to detect if a cycle exists\n",
    "        while fast and fast.next:\n",
    "            slow = slow.next         # Move slow by 1\n",
    "            fast = fast.next.next    # Move fast by 2\n",
    "\n",
    "            # A meeting point means a cycle exists\n",
    "            if slow == fast:\n",
    "                break\n",
    "        else:\n",
    "            # If no cycle, return None\n",
    "            return None\n",
    "\n",
    "        # Step 2: Reset fast to head and move both pointers at the same pace\n",
    "        fast = head\n",
    "        while fast != slow:\n",
    "            slow = slow.next\n",
    "            fast = fast.next\n",
    "\n",
    "        # Both pointers now meet at the start of the cycle\n",
    "        return slow\n",
    "\n",
    "    \n",
    "# Define nodes\n",
    "node4 = ListNode(-4)\n",
    "node3 = ListNode(0, node4)\n",
    "node2 = ListNode(2, node3)\n",
    "node1 = ListNode(3, node2)\n",
    "\n",
    "# Create the cycle: last node points back to node2\n",
    "node4.next = node2\n",
    "\n",
    "# Now test\n",
    "solution = Solution()\n",
    "cycle_start = solution.detectCycle(node1)\n",
    "print(cycle_start.val if cycle_start else None)\n"
   ]
  },
  {
   "cell_type": "markdown",
   "metadata": {},
   "source": [
    "### LinkedList In-place Reversal"
   ]
  },
  {
   "cell_type": "markdown",
   "metadata": {},
   "source": [
    "206. Reverse Linked List"
   ]
  },
  {
   "cell_type": "code",
   "execution_count": 105,
   "metadata": {},
   "outputs": [
    {
     "name": "stdout",
     "output_type": "stream",
     "text": [
      "5\n",
      "4\n",
      "3\n",
      "2\n",
      "1\n"
     ]
    }
   ],
   "source": [
    "''' \n",
    "Input: head = [1,2,3,4,5]\n",
    "Output: [5,4,3,2,1]\n",
    "'''\n",
    "\n",
    "class ListNode:\n",
    "    def __init__(self, val=0, next=None):\n",
    "        self.val = val\n",
    "        self.next = next\n",
    "class Solution:\n",
    "    def reverseList(self, head: Optional[ListNode]) -> Optional[ListNode]:\n",
    "        prev = None \n",
    "        cur = head \n",
    "        while cur:\n",
    "            temp = cur.next      # Save next node before modifying cur.next\n",
    "            cur.next = prev    # Reverse the link\n",
    "            prev = cur         # Move before pointer to current node\n",
    "            cur = temp           # Move to the next node\n",
    "        return prev  # 'before' now is the head of the reversed list\n",
    "    \n",
    "solution = Solution()\n",
    "res = solution.reverseList(ListNode(1, ListNode(2, ListNode(3, ListNode(4, ListNode(5))))))\n",
    "print_list(res)"
   ]
  },
  {
   "cell_type": "markdown",
   "metadata": {},
   "source": [
    "25. Reverse Nodes in k-Group"
   ]
  },
  {
   "cell_type": "code",
   "execution_count": 112,
   "metadata": {},
   "outputs": [
    {
     "name": "stdout",
     "output_type": "stream",
     "text": [
      "2\n",
      "1\n",
      "4\n",
      "3\n",
      "5\n"
     ]
    }
   ],
   "source": [
    "''' \n",
    "Input: head = [1,2,3,4,5], k = 2\n",
    "Output: [2,1,4,3,5]\n",
    "'''\n",
    "\n",
    "class ListNode:\n",
    "    def __init__(self, val=0, next=None):\n",
    "        self.val = val\n",
    "        self.next = next\n",
    "class Solution:\n",
    "    def reverseKGroup(self, head, k):\n",
    "        # Helper function to get the k-th node from the current node\n",
    "        def get_kth_node(curr, k):\n",
    "            while curr and k > 0:\n",
    "                curr = curr.next\n",
    "                k -= 1\n",
    "            return curr  # Returns the k-th node or None if not enough nodes\n",
    "\n",
    "        # Dummy node simplifies edge cases and helps manage the head\n",
    "        dummy = ListNode(0)\n",
    "        dummy.next = head\n",
    "        group_prev = dummy  # This will always point to the node before the current group\n",
    "\n",
    "        while True:\n",
    "            # Step 1: Find the k-th node ahead of group_prev\n",
    "            kth = get_kth_node(group_prev, k)\n",
    "            if not kth:\n",
    "                break  # Not enough nodes to reverse, break out of loop\n",
    "\n",
    "            group_next = kth.next  # Node after the k-group\n",
    "\n",
    "            # Step 2: Reverse the group\n",
    "            prev = group_next  # Start with the node after the group\n",
    "            curr = group_prev.next  # First node in the current group\n",
    "\n",
    "            # Reverse the k nodes\n",
    "            while curr != group_next:\n",
    "                tmp = curr.next       # Temporarily store the next node\n",
    "                curr.next = prev      # Reverse the pointer\n",
    "                prev = curr           # Move prev forward\n",
    "                curr = tmp            # Move curr forward\n",
    "\n",
    "            # Step 3: Reconnect the reversed group back to the list\n",
    "            tmp = group_prev.next         # This is the original head of the group, now the tail\n",
    "            group_prev.next = kth         # Link the node before the group to the new head\n",
    "            group_prev = tmp              # Move group_prev to the end of the reversed group\n",
    "\n",
    "        # Return the new head of the list\n",
    "        return dummy.next\n",
    "\n",
    "    \n",
    "solution = Solution()\n",
    "res = solution.reverseKGroup(ListNode(1, ListNode(2, ListNode(3, ListNode(4, ListNode(5))))), 2)\n",
    "print_list(res)\n",
    "\n"
   ]
  },
  {
   "cell_type": "markdown",
   "metadata": {},
   "source": [
    "### K - Way Merge"
   ]
  },
  {
   "cell_type": "markdown",
   "metadata": {},
   "source": [
    "23. Merge k Sorted Lists"
   ]
  },
  {
   "cell_type": "code",
   "execution_count": 6,
   "metadata": {},
   "outputs": [
    {
     "name": "stdout",
     "output_type": "stream",
     "text": [
      "[1, 1, 2, 3, 4, 4, 5, 6]\n"
     ]
    }
   ],
   "source": [
    "''' \n",
    "Input: lists = [[1,4,5],[1,3,4],[2,6]]\n",
    "Output: [1,1,2,3,4,4,5,6]\n",
    "Explanation: The linked-lists are:\n",
    "[\n",
    "  1->4->5,\n",
    "  1->3->4,\n",
    "  2->6\n",
    "]\n",
    "merging them into one sorted list:\n",
    "1->1->2->3->4->4->5->6\n",
    "'''\n",
    "\n",
    "from typing import List, Optional\n",
    "\n",
    "class ListNode:\n",
    "    def __init__(self, val=0, next=None):\n",
    "        self.val = val\n",
    "        self.next = next\n",
    "class Solution:\n",
    "    def mergeKLists(self, lists: List[Optional[ListNode]]) -> Optional[ListNode]:\n",
    "        if not lists or len(lists) == 0:\n",
    "            return None  \n",
    "        \n",
    "        while len(lists) > 1:\n",
    "            merged_lists = []\n",
    "            for i in range(0, len(lists), 2):\n",
    "                l1 = lists[i]\n",
    "                l2 = lists[i + 1] if (i + 1) < len(lists) else None \n",
    "                merged_lists.append(self.merge_list(l1 , l2))\n",
    "            lists = merged_lists\n",
    "        return lists[0]\n",
    "\n",
    "    def merge_list(self, l1, l2):\n",
    "        dummy = ListNode()\n",
    "        curr = dummy \n",
    "        while l1 and l2:\n",
    "            if l1.val < l2.val:\n",
    "                curr.next = l1 \n",
    "                l1 = l1.next \n",
    "            else:\n",
    "                curr.next = l2 \n",
    "                l2 = l2.next \n",
    "            curr = curr.next \n",
    "        \n",
    "        if l1:\n",
    "            curr.next = l1 \n",
    "        \n",
    "        if l2:\n",
    "            curr.next = l2 \n",
    "        \n",
    "        return dummy.next\n",
    "    \n",
    "\n",
    "def build_linked_list(arr):\n",
    "    dummy = ListNode()\n",
    "    curr = dummy\n",
    "    for num in arr:\n",
    "        curr.next = ListNode(num)\n",
    "        curr = curr.next\n",
    "    return dummy.next\n",
    "\n",
    "def print_linked_list(head):\n",
    "    result = []\n",
    "    while head:\n",
    "        result.append(head.val)\n",
    "        head = head.next\n",
    "    print(result)\n",
    "\n",
    "\n",
    "lists = [[1,4,5],[1,3,4],[2,6]]\n",
    "linked_lists = [build_linked_list(lst) for lst in lists]\n",
    "\n",
    "solution = Solution()\n",
    "merged_head = solution.mergeKLists(linked_lists)\n",
    "print_linked_list(merged_head)  # Output should be [1,1,2,3,4,4,5,6]"
   ]
  },
  {
   "cell_type": "code",
   "execution_count": null,
   "metadata": {},
   "outputs": [],
   "source": []
  }
 ],
 "metadata": {
  "kernelspec": {
   "display_name": "Python 3",
   "language": "python",
   "name": "python3"
  },
  "language_info": {
   "codemirror_mode": {
    "name": "ipython",
    "version": 3
   },
   "file_extension": ".py",
   "mimetype": "text/x-python",
   "name": "python",
   "nbconvert_exporter": "python",
   "pygments_lexer": "ipython3",
   "version": "3.12.6"
  }
 },
 "nbformat": 4,
 "nbformat_minor": 2
}
