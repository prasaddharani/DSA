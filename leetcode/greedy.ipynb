{
 "cells": [
  {
   "cell_type": "markdown",
   "id": "ed08c363",
   "metadata": {},
   "source": [
    "55. Jump Game"
   ]
  },
  {
   "cell_type": "code",
   "execution_count": 2,
   "id": "9e1f2fa2",
   "metadata": {},
   "outputs": [
    {
     "data": {
      "text/plain": [
       "True"
      ]
     },
     "execution_count": 2,
     "metadata": {},
     "output_type": "execute_result"
    }
   ],
   "source": [
    "''' \n",
    "Input: nums = [2,3,1,1,4]\n",
    "Output: true\n",
    "Explanation: Jump 1 step from index 0 to 1, then 3 steps to the last index.\n",
    "'''\n",
    "\n",
    "from typing import List\n",
    "\n",
    "class Solution:\n",
    "    def canJump(self, nums: List[int]) -> bool:\n",
    "        max_reach = 0 \n",
    "        for i in range(len(nums)):\n",
    "\n",
    "            if i > max_reach:\n",
    "                return False\n",
    "\n",
    "            max_reach = max(max_reach, i + nums[i])\n",
    "            \n",
    "            if max_reach >= len(nums) - 1:\n",
    "                return True \n",
    "        return True \n",
    "\n",
    "solution = Solution()\n",
    "solution.canJump([2,3,1,1,4])"
   ]
  },
  {
   "cell_type": "markdown",
   "id": "b7bf1e40",
   "metadata": {},
   "source": [
    "45. Jump Game II"
   ]
  },
  {
   "cell_type": "code",
   "execution_count": 5,
   "id": "7d38040f",
   "metadata": {},
   "outputs": [
    {
     "data": {
      "text/plain": [
       "0"
      ]
     },
     "execution_count": 5,
     "metadata": {},
     "output_type": "execute_result"
    }
   ],
   "source": [
    "''' \n",
    "Input: nums = [2,3,1,1,4]\n",
    "Output: 2\n",
    "Explanation: The minimum number of jumps to reach the last index is 2. Jump 1 step from index 0 to 1, then 3 steps to the last index.\n",
    "'''\n",
    "from typing import List \n",
    "\n",
    "class Solution:\n",
    "    def jump(self, nums: List[int]) -> int:\n",
    "        max_reach = 0\n",
    "        jumps = 0\n",
    "        current_jump_end = 0 \n",
    "        for i in range(len(nums) - 1):\n",
    "            max_reach = max(max_reach, i + nums[i])\n",
    "            if current_jump_end == i:\n",
    "                jumps += 1\n",
    "                current_jump_end = max_reach \n",
    "\n",
    "            if current_jump_end >= len(nums) - 1:\n",
    "                return jumps\n",
    "        return jumps \n",
    "\n",
    "solution = Solution()\n",
    "solution.jump([0])"
   ]
  },
  {
   "cell_type": "code",
   "execution_count": null,
   "id": "e877e6e9",
   "metadata": {},
   "outputs": [],
   "source": []
  },
  {
   "cell_type": "code",
   "execution_count": null,
   "id": "ad96b774",
   "metadata": {},
   "outputs": [],
   "source": []
  },
  {
   "cell_type": "code",
   "execution_count": null,
   "id": "ddc5121e",
   "metadata": {},
   "outputs": [],
   "source": []
  },
  {
   "cell_type": "code",
   "execution_count": null,
   "id": "064982b3",
   "metadata": {},
   "outputs": [],
   "source": []
  }
 ],
 "metadata": {
  "kernelspec": {
   "display_name": "Python 3",
   "language": "python",
   "name": "python3"
  },
  "language_info": {
   "codemirror_mode": {
    "name": "ipython",
    "version": 3
   },
   "file_extension": ".py",
   "mimetype": "text/x-python",
   "name": "python",
   "nbconvert_exporter": "python",
   "pygments_lexer": "ipython3",
   "version": "3.12.6"
  }
 },
 "nbformat": 4,
 "nbformat_minor": 5
}
