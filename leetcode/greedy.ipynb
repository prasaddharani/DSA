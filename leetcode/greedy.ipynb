{
 "cells": [
  {
   "cell_type": "markdown",
   "id": "ed08c363",
   "metadata": {},
   "source": [
    "55. Jump Game"
   ]
  },
  {
   "cell_type": "code",
   "execution_count": 2,
   "id": "9e1f2fa2",
   "metadata": {},
   "outputs": [
    {
     "data": {
      "text/plain": [
       "True"
      ]
     },
     "execution_count": 2,
     "metadata": {},
     "output_type": "execute_result"
    }
   ],
   "source": [
    "''' \n",
    "Input: nums = [2,3,1,1,4]\n",
    "Output: true\n",
    "Explanation: Jump 1 step from index 0 to 1, then 3 steps to the last index.\n",
    "'''\n",
    "\n",
    "from typing import List\n",
    "\n",
    "class Solution:\n",
    "    def canJump(self, nums: List[int]) -> bool:\n",
    "        max_reach = 0 \n",
    "        for i in range(len(nums)):\n",
    "\n",
    "            if i > max_reach:\n",
    "                return False\n",
    "\n",
    "            max_reach = max(max_reach, i + nums[i])\n",
    "            \n",
    "            if max_reach >= len(nums) - 1:\n",
    "                return True \n",
    "        return True \n",
    "\n",
    "solution = Solution()\n",
    "solution.canJump([2,3,1,1,4])"
   ]
  },
  {
   "cell_type": "markdown",
   "id": "b7bf1e40",
   "metadata": {},
   "source": [
    "45. Jump Game II"
   ]
  },
  {
   "cell_type": "code",
   "execution_count": 5,
   "id": "7d38040f",
   "metadata": {},
   "outputs": [
    {
     "data": {
      "text/plain": [
       "0"
      ]
     },
     "execution_count": 5,
     "metadata": {},
     "output_type": "execute_result"
    }
   ],
   "source": [
    "''' \n",
    "Input: nums = [2,3,1,1,4]\n",
    "Output: 2\n",
    "Explanation: The minimum number of jumps to reach the last index is 2. Jump 1 step from index 0 to 1, then 3 steps to the last index.\n",
    "'''\n",
    "from typing import List \n",
    "\n",
    "class Solution:\n",
    "    def jump(self, nums: List[int]) -> int:\n",
    "        max_reach = 0\n",
    "        jumps = 0\n",
    "        current_jump_end = 0 \n",
    "        for i in range(len(nums) - 1):\n",
    "            max_reach = max(max_reach, i + nums[i])\n",
    "            if current_jump_end == i:\n",
    "                jumps += 1\n",
    "                current_jump_end = max_reach \n",
    "\n",
    "            if current_jump_end >= len(nums) - 1:\n",
    "                return jumps\n",
    "        return jumps \n",
    "\n",
    "solution = Solution()\n",
    "solution.jump([0])"
   ]
  },
  {
   "cell_type": "markdown",
   "id": "833b7af6",
   "metadata": {},
   "source": [
    "134. Gas Station"
   ]
  },
  {
   "cell_type": "code",
   "execution_count": 19,
   "id": "e877e6e9",
   "metadata": {},
   "outputs": [
    {
     "data": {
      "text/plain": [
       "3"
      ]
     },
     "execution_count": 19,
     "metadata": {},
     "output_type": "execute_result"
    }
   ],
   "source": [
    "''' \n",
    "Input: gas = [1,2,3,4,5], cost = [3,4,5,1,2]\n",
    "Output: 3\n",
    "Explanation:\n",
    "Start at station 3 (index 3) and fill up with 4 unit of gas. Your tank = 0 + 4 = 4\n",
    "Travel to station 4. Your tank = 4 - 1 + 5 = 8\n",
    "Travel to station 0. Your tank = 8 - 2 + 1 = 7\n",
    "Travel to station 1. Your tank = 7 - 3 + 2 = 6\n",
    "Travel to station 2. Your tank = 6 - 4 + 3 = 5\n",
    "Travel to station 3. The cost is 5. Your gas is just enough to travel back to station 3.\n",
    "Therefore, return 3 as the starting index.\n",
    "'''\n",
    "\n",
    "class Solution:\n",
    "    def canCompleteCircuit(self, gas: List[int], cost: List[int]) -> int:\n",
    "    # Early exit check: if total gas is less than total cost, it's impossible to complete the circuit.\n",
    "    # Note: This requires two full passes — one for sum(gas), one for sum(cost) — which is slightly less efficient\n",
    "    # than the single-pass alternative.\n",
    "        if sum(cost) > sum(gas):\n",
    "            return -1\n",
    "\n",
    "        total_gas = 0        # Tracks net gas from the current candidate start station\n",
    "        start_station = 0    # Index of the candidate starting station\n",
    "\n",
    "        # Traverse the stations once\n",
    "        for i in range(len(gas)):\n",
    "            total_gas += gas[i] - cost[i]  # Accumulate net gas at station i\n",
    "\n",
    "            # If total_gas drops below 0, current start_station is invalid\n",
    "            if total_gas < 0:\n",
    "                total_gas = 0              # Reset net gas\n",
    "                start_station = i + 1      # Try next station as a new candidate\n",
    "\n",
    "        return start_station\n",
    "\n",
    "    \n",
    "    def canCompleteCircuit(self, gas: List[int], cost: List[int]) -> int:\n",
    "        total_gas = 0        # Tracks total net gas across the entire circuit\n",
    "        current_gas = 0      # Tracks net gas from current start_station\n",
    "        start_station = 0    # Index of the candidate starting gas station\n",
    "\n",
    "        for i in range(len(gas)):\n",
    "            balance = gas[i] - cost[i]  # Net gas gain/loss at station i\n",
    "            total_gas += balance        # Update total net gas\n",
    "            current_gas += balance      # Update current journey's net gas\n",
    "\n",
    "            # If current gas becomes negative, can't reach station i+1\n",
    "            if current_gas < 0:\n",
    "                current_gas = 0         # Reset current gas\n",
    "                start_station = i + 1   # Try next station as a new start\n",
    "\n",
    "        # If total gas is negative, it's impossible to complete the circuit\n",
    "        return start_station if total_gas >= 0 else -1\n",
    "\n",
    "\n",
    "solution = Solution()\n",
    "solution.canCompleteCircuit([1,2,3,4,5], [3,4,5,1,2]) "
   ]
  },
  {
   "cell_type": "markdown",
   "id": "0ebba3ca",
   "metadata": {},
   "source": [
    "621. Task Scheduler"
   ]
  },
  {
   "cell_type": "code",
   "execution_count": 27,
   "id": "ad96b774",
   "metadata": {},
   "outputs": [
    {
     "data": {
      "text/plain": [
       "8"
      ]
     },
     "execution_count": 27,
     "metadata": {},
     "output_type": "execute_result"
    }
   ],
   "source": [
    "''' \n",
    "Input: tasks = [\"A\",\"A\",\"A\",\"B\",\"B\",\"B\"], n = 2\n",
    "\n",
    "Output: 8\n",
    "\n",
    "Explanation: A possible sequence is: A -> B -> idle -> A -> B -> idle -> A -> B.\n",
    "\n",
    "After completing task A, you must wait two intervals before doing A again. The same applies to task B. In the 3rd interval, neither A nor B can be done, so you idle. By the 4th interval, you can do A again as 2 intervals have passed.\n",
    "'''\n",
    "\n",
    "from collections import Counter\n",
    "from collections import deque \n",
    "import heapq\n",
    "\n",
    "class Solution:\n",
    "    def leastInterval(self, tasks: List[str], n: int) -> int:\n",
    "        # Count the frequency of each task\n",
    "        counter = Counter(tasks)\n",
    "        \n",
    "        # Max-heap to store tasks by frequency (using negatives for max behavior with min-heap)\n",
    "        max_heap = [-cnt for cnt in counter.values()]\n",
    "        heapq.heapify(max_heap)\n",
    "        \n",
    "        # Queue to store tasks that are in the cooldown period: [remaining_count, available_time]\n",
    "        queue = deque()\n",
    "        \n",
    "        time = 0  # Simulated clock\n",
    "\n",
    "        # Loop until all tasks are done (heap empty) and cooldown queue is empty\n",
    "        while max_heap or queue:\n",
    "            time += 1  # Increment time at each step\n",
    "\n",
    "            if max_heap:\n",
    "                # Pop the most frequent task (inverted to positive)\n",
    "                cnt = 1 + heapq.heappop(max_heap)  # Add 1 since cnt is negative\n",
    "                if cnt:  # If there are more instances of the task left\n",
    "                    # Append task to cooldown queue with its next valid time (current time + n)\n",
    "                    queue.append([cnt, time + n])\n",
    "\n",
    "            # Check if the front of the cooldown queue can be re-added to heap\n",
    "            if queue and queue[0][1] <= time:\n",
    "                heapq.heappush(max_heap, queue.popleft()[0])\n",
    "\n",
    "        return time  # Total time to finish all tasks with cooldown\n",
    "\n",
    "    \n",
    "solution = Solution()\n",
    "solution.leastInterval([\"A\",\"A\",\"A\",\"B\",\"B\",\"B\"], 2)\n",
    "\n"
   ]
  },
  {
   "cell_type": "code",
   "execution_count": null,
   "id": "ddc5121e",
   "metadata": {},
   "outputs": [],
   "source": []
  },
  {
   "cell_type": "code",
   "execution_count": null,
   "id": "064982b3",
   "metadata": {},
   "outputs": [],
   "source": []
  }
 ],
 "metadata": {
  "kernelspec": {
   "display_name": "Python 3",
   "language": "python",
   "name": "python3"
  },
  "language_info": {
   "codemirror_mode": {
    "name": "ipython",
    "version": 3
   },
   "file_extension": ".py",
   "mimetype": "text/x-python",
   "name": "python",
   "nbconvert_exporter": "python",
   "pygments_lexer": "ipython3",
   "version": "3.12.6"
  }
 },
 "nbformat": 4,
 "nbformat_minor": 5
}
