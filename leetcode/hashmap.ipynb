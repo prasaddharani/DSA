{
 "cells": [
  {
   "cell_type": "markdown",
   "metadata": {},
   "source": [
    "706. Design HashMap"
   ]
  },
  {
   "cell_type": "code",
   "execution_count": 5,
   "metadata": {},
   "outputs": [
    {
     "data": {
      "text/plain": [
       "'Dharani'"
      ]
     },
     "execution_count": 5,
     "metadata": {},
     "output_type": "execute_result"
    }
   ],
   "source": [
    "''' \n",
    "Input\n",
    "[\"MyHashMap\", \"put\", \"put\", \"get\", \"get\", \"put\", \"get\", \"remove\", \"get\"]\n",
    "[[], [1, 1], [2, 2], [1], [3], [2, 1], [2], [2], [2]]\n",
    "Output\n",
    "[null, null, null, 1, -1, null, 1, null, -1]\n",
    "\n",
    "'''\n",
    "\n",
    "class ListNode:\n",
    "    def __init__(self, key = -1, value = -1, next = None):\n",
    "        self.key = key\n",
    "        self.value = value \n",
    "        self.next = next \n",
    "\n",
    "class MyHashMap(object):\n",
    "\n",
    "    def __init__(self):\n",
    "        self.hash_map = [ListNode() for _ in range(1000)]\n",
    "    \n",
    "    def _hash(self, key):\n",
    "        return key % len(self.hash_map)\n",
    "\n",
    "    def put(self, key, value):\n",
    "        \"\"\"\n",
    "        :type key: int\n",
    "        :type value: int\n",
    "        :rtype: None\n",
    "        \"\"\"\n",
    "        cur = self.hash_map[self._hash(key)]\n",
    "        while cur.next:\n",
    "            if cur.next.key == key:\n",
    "                cur.next.value = value \n",
    "                return \n",
    "            cur = cur.next \n",
    "        cur.next = ListNode(key, value)\n",
    "        \n",
    "\n",
    "    def get(self, key):\n",
    "        \"\"\"\n",
    "        :type key: int\n",
    "        :rtype: int\n",
    "        \"\"\"\n",
    "        cur = self.hash_map[self._hash(key)].next\n",
    "        while cur:\n",
    "            if cur.key == key:\n",
    "                return cur.value \n",
    "            cur = cur.next \n",
    "        return -1 \n",
    "        \n",
    "        \n",
    "\n",
    "    def remove(self, key):\n",
    "        \"\"\"\n",
    "        :type key: int\n",
    "        :rtype: None\n",
    "        \"\"\"\n",
    "        cur = self.hash_map[self._hash(key)]\n",
    "        while cur and cur.next:\n",
    "            if cur.next.key == key:\n",
    "                cur.next = cur.next.next \n",
    "                return\n",
    "            cur = cur.next \n",
    "\n",
    "solution = MyHashMap()\n",
    "solution.put(1, 'Dharani')\n",
    "solution.put(2, 25)\n",
    "solution.remove(2)\n",
    "solution.get(1)"
   ]
  },
  {
   "cell_type": "markdown",
   "metadata": {},
   "source": [
    "1189. Maximum Number of Balloons"
   ]
  },
  {
   "cell_type": "code",
   "execution_count": 7,
   "metadata": {},
   "outputs": [
    {
     "data": {
      "text/plain": [
       "2"
      ]
     },
     "execution_count": 7,
     "metadata": {},
     "output_type": "execute_result"
    }
   ],
   "source": [
    "''' \n",
    "Input: text = \"loonbalxballpoon\"\n",
    "Output: 2\n",
    "'''\n",
    "\n",
    "from collections import Counter\n",
    "class Solution:\n",
    "    def maxNumberOfBalloons(self, text: str) -> int:\n",
    "        balloon = Counter('balloon')\n",
    "        text_counter = Counter(text)\n",
    "        res = len(text)\n",
    "        for char in 'balloon':\n",
    "            res = min(res, text_counter[char]//balloon[char])\n",
    "        return res \n",
    "    \n",
    "solution = Solution()\n",
    "solution.maxNumberOfBalloons('loonbalxballpoon')\n"
   ]
  },
  {
   "cell_type": "markdown",
   "metadata": {},
   "source": [
    "1512. Number of Good Pairs"
   ]
  },
  {
   "cell_type": "code",
   "execution_count": 10,
   "metadata": {},
   "outputs": [
    {
     "data": {
      "text/plain": [
       "6"
      ]
     },
     "execution_count": 10,
     "metadata": {},
     "output_type": "execute_result"
    }
   ],
   "source": [
    "''' \n",
    "Input: nums = [1,2,3,1,1,3]\n",
    "Output: 4\n",
    "Explanation: There are 4 good pairs (0,3), (0,4), (3,4), (2,5) 0-indexed.\n",
    "\n",
    "A pair (i, j) is called good if nums[i] == nums[j] and i < j.\n",
    "'''\n",
    "from typing import List \n",
    "\n",
    "class Solution:\n",
    "    def numIdenticalPairs(self, nums: List[int]) -> int:\n",
    "        hash_map = {}\n",
    "        res = 0\n",
    "        for num in nums:\n",
    "            if num in hash_map:\n",
    "                res += hash_map[num]\n",
    "                hash_map[num] += 1 \n",
    "            else:\n",
    "                hash_map[num] = 1\n",
    "        return res \n",
    "    \n",
    "solution = Solution()\n",
    "solution.numIdenticalPairs([1, 1, 1, 1])\n"
   ]
  },
  {
   "cell_type": "code",
   "execution_count": null,
   "metadata": {},
   "outputs": [],
   "source": []
  },
  {
   "cell_type": "code",
   "execution_count": null,
   "metadata": {},
   "outputs": [],
   "source": []
  }
 ],
 "metadata": {
  "kernelspec": {
   "display_name": "Python 3",
   "language": "python",
   "name": "python3"
  },
  "language_info": {
   "codemirror_mode": {
    "name": "ipython",
    "version": 3
   },
   "file_extension": ".py",
   "mimetype": "text/x-python",
   "name": "python",
   "nbconvert_exporter": "python",
   "pygments_lexer": "ipython3",
   "version": "3.12.6"
  }
 },
 "nbformat": 4,
 "nbformat_minor": 2
}
