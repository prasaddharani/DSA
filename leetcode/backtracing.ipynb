{
 "cells": [
  {
   "cell_type": "markdown",
   "id": "d2ea0c5d",
   "metadata": {},
   "source": [
    "22. Generate Parentheses"
   ]
  },
  {
   "cell_type": "code",
   "execution_count": 6,
   "id": "600fdc53",
   "metadata": {},
   "outputs": [
    {
     "data": {
      "text/plain": [
       "['((()))', '(()())', '(())()', '()(())', '()()()']"
      ]
     },
     "execution_count": 6,
     "metadata": {},
     "output_type": "execute_result"
    }
   ],
   "source": [
    "''' \n",
    "Input: n = 3\n",
    "Output: [\"((()))\",\"(()())\",\"(())()\",\"()(())\",\"()()()\"]\n",
    "'''\n",
    "\n",
    "from typing import List\n",
    "\n",
    "class Solution:\n",
    "    def generateParenthesis(self, n: int) -> List[str]:\n",
    "        # only add open paranthesis If open count <= n \n",
    "        # only add closed paranthesis if closed count < closed \n",
    "        # Base case: If both open and closed == n \n",
    "        res = []\n",
    "        def backtrack(open_count, closed_Count, path):\n",
    "            if open_count == closed_Count == n:\n",
    "                return res.append(\"\".join(path))\n",
    "            \n",
    "            if open_count < n:\n",
    "                path.append('(')\n",
    "                backtrack(open_count + 1, closed_Count, path)\n",
    "                path.pop()\n",
    "\n",
    "            if closed_Count < open_count:\n",
    "                path.append(')')\n",
    "                backtrack(open_count, closed_Count + 1, path)\n",
    "                path.pop()\n",
    "        backtrack(0, 0, [])\n",
    "\n",
    "        return res\n",
    "solution = Solution()\n",
    "solution.generateParenthesis(3)"
   ]
  },
  {
   "cell_type": "markdown",
   "id": "8a57c210",
   "metadata": {},
   "source": [
    "46. Permutations"
   ]
  },
  {
   "cell_type": "code",
   "execution_count": 17,
   "id": "338146af",
   "metadata": {},
   "outputs": [
    {
     "data": {
      "text/plain": [
       "[[1, 2, 3], [1, 3, 2], [2, 1, 3], [2, 3, 1], [3, 1, 2], [3, 2, 1]]"
      ]
     },
     "execution_count": 17,
     "metadata": {},
     "output_type": "execute_result"
    }
   ],
   "source": [
    "''' \n",
    "Input: nums = [1,2,3]\n",
    "Output: [[1,2,3],[1,3,2],[2,1,3],[2,3,1],[3,1,2],[3,2,1]]\n",
    "'''\n",
    "\n",
    "class Solution:\n",
    "    def permutations(self, nums: List[int]) -> List[int]:\n",
    "        res = []\n",
    "        n = len(nums)\n",
    "        def backtrack(path, used):\n",
    "            if len(path) == n:\n",
    "                res.append(path[:])\n",
    "                return\n",
    "            \n",
    "            for i in range(len(nums)):\n",
    "                if used[i]:\n",
    "                    continue\n",
    "\n",
    "                used[i] = True\n",
    "                path.append(nums[i])\n",
    "                backtrack(path, used)\n",
    "                path.pop()\n",
    "                used[i] = False\n",
    "                \n",
    "        backtrack([], [False] * n)\n",
    "        return res \n",
    "\n",
    "solution = Solution()\n",
    "solution.permutations([1, 2, 3])"
   ]
  },
  {
   "cell_type": "markdown",
   "id": "b2f81017",
   "metadata": {},
   "source": [
    "78. Subsets"
   ]
  },
  {
   "cell_type": "code",
   "execution_count": 25,
   "metadata": {},
   "outputs": [
    {
     "data": {
      "text/plain": [
       "[[], [1], [1, 2], [1, 2, 3], [1, 3], [2], [2, 3], [3]]"
      ]
     },
     "execution_count": 25,
     "metadata": {},
     "output_type": "execute_result"
    }
   ],
   "source": [
    "''' \n",
    "Input: nums = [1,2,3]\n",
    "Output: [[],[1],[2],[1,2],[3],[1,3],[2,3],[1,2,3]]\n",
    "'''\n",
    "\n",
    "class Solution:\n",
    "    def subsets(self, nums: List[int]) -> List[int]:\n",
    "        res = []\n",
    "        def backtrack(start, path):\n",
    "            res.append(path[:])\n",
    "\n",
    "            for i in range(start, len(nums)):\n",
    "                path.append(nums[i])\n",
    "                backtrack(i + 1, path)\n",
    "                path.pop()\n",
    "        backtrack(0, [])\n",
    "        return res\n",
    "    \n",
    "solution = Solution()\n",
    "solution.subsets([1, 2, 3])\n"
   ]
  },
  {
   "cell_type": "markdown",
   "id": "a7addd07",
   "metadata": {},
   "source": [
    "131. Palindrome Partitioning"
   ]
  },
  {
   "cell_type": "code",
   "execution_count": 36,
   "id": "4b655bf8",
   "metadata": {},
   "outputs": [
    {
     "data": {
      "text/plain": [
       "[['a', 'a', 'b'], ['aa', 'b']]"
      ]
     },
     "execution_count": 36,
     "metadata": {},
     "output_type": "execute_result"
    }
   ],
   "source": [
    "''' \n",
    "Input: s = \"aab\"\n",
    "Output: [[\"a\",\"a\",\"b\"],[\"aa\",\"b\"]]\n",
    "'''\n",
    "\n",
    "class Solution:\n",
    "    def partition(self, s: str) -> List[List[str]]:\n",
    "        def is_palindrome(substring):\n",
    "            return substring == substring[::-1]\n",
    "        result = []\n",
    "        def backtrack(start, path):\n",
    "            if start == len(s):\n",
    "                result.append(path[:])\n",
    "                return \n",
    "            \n",
    "            for end in range(start, len(s)):\n",
    "                if is_palindrome(s[start:end+1]):\n",
    "                    path.append(s[start:end+1])\n",
    "                    backtrack(end + 1, path)\n",
    "                    path.pop()\n",
    "        backtrack(0, [])\n",
    "        return result\n",
    "    \n",
    "solution = Solution()\n",
    "solution.partition(\"aab\")"
   ]
  },
  {
   "cell_type": "code",
   "execution_count": null,
   "id": "4cdd5731",
   "metadata": {},
   "outputs": [],
   "source": []
  }
 ],
 "metadata": {
  "kernelspec": {
   "display_name": "Python 3",
   "language": "python",
   "name": "python3"
  },
  "language_info": {
   "codemirror_mode": {
    "name": "ipython",
    "version": 3
   },
   "file_extension": ".py",
   "mimetype": "text/x-python",
   "name": "python",
   "nbconvert_exporter": "python",
   "pygments_lexer": "ipython3",
   "version": "3.12.6"
  }
 },
 "nbformat": 4,
 "nbformat_minor": 5
}
