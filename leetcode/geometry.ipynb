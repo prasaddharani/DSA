{
 "cells": [
  {
   "cell_type": "markdown",
   "id": "7e686593",
   "metadata": {},
   "source": [
    "7. Reverse Integer"
   ]
  },
  {
   "cell_type": "code",
   "execution_count": null,
   "id": "a5412b59",
   "metadata": {},
   "outputs": [
    {
     "data": {
      "text/plain": [
       "-321"
      ]
     },
     "execution_count": 4,
     "metadata": {},
     "output_type": "execute_result"
    }
   ],
   "source": [
    "'''\n",
    "Input: x = 123\n",
    "Output: 321\n",
    "\n",
    "Given a signed 32-bit integer x, return x with its digits reversed. If reversing x causes the value to go outside the signed 32-bit integer range [-231, 231 - 1], then return 0.\n",
    "'''\n",
    "\n",
    "class Solution:\n",
    "    def reverse(self, x: int) -> int:\n",
    "        rev = 0\n",
    "        MAX_INT = 2 ** 31 - 1\n",
    "        sign = -1 if x < 0 else 1\n",
    "        x = abs(x)\n",
    "        while x != 0:\n",
    "            rem = x % 10\n",
    "            if rev > MAX_INT // 10: # rev * 10 + digit <= 2147483647 => rev > MAX_INT // 10\n",
    "                return 0\n",
    "            rev = rev * 10 + rem \n",
    "            x = x // 10 \n",
    "        return rev * sign\n",
    "\n",
    "solution = Solution()\n",
    "solution.reverse(-123)\n",
    "\n"
   ]
  },
  {
   "cell_type": "markdown",
   "id": "050db443",
   "metadata": {},
   "source": [
    "149. Max Points on a Line"
   ]
  },
  {
   "cell_type": "code",
   "execution_count": 6,
   "id": "7bf510da",
   "metadata": {},
   "outputs": [],
   "source": [
    "''' \n",
    "\n",
    "Given an array of points where points[i] = [xi, yi] represents a point on the X-Y plane, \n",
    "return the maximum number of points that lie on the same straight line.\n",
    "\n",
    "Input: points = [[1,1],[3,2],[5,3],[4,1],[2,3],[1,4]]\n",
    "Output: 4\n",
    "'''\n",
    "from typing import List\n",
    "from collections import defaultdict\n",
    "from math import gcd\n",
    "\n",
    "class Solution:\n",
    "    def maxPoints(self, points: List[List[int]]) -> int:\n",
    "        n = len(points)\n",
    "        res = 1\n",
    "        for i in range(n):\n",
    "            p1 = points[i]\n",
    "            count = defaultdict(int)\n",
    "            same = 0\n",
    "            cur_max = 0\n",
    "            for j in range(i + 1, n):\n",
    "                p2 = points[j]\n",
    "                dx = p2[0] - p1[0]\n",
    "                dy = p2[1] - p1[1]\n",
    "                if dx == 0 and dy == 0:\n",
    "                    same += 1\n",
    "                    continue\n",
    "                g = gcd(dx, dy)\n",
    "                slope = (dy // g, dx // g)\n",
    "                count[slope] += 1\n",
    "                cur_max = max(cur_max, count[slope])\n",
    "            res = max(res, cur_max + same + 1)\n",
    "        return res\n"
   ]
  },
  {
   "cell_type": "code",
   "execution_count": null,
   "id": "f97d9681",
   "metadata": {},
   "outputs": [],
   "source": []
  },
  {
   "cell_type": "code",
   "execution_count": null,
   "id": "289f99ab",
   "metadata": {},
   "outputs": [],
   "source": []
  }
 ],
 "metadata": {
  "kernelspec": {
   "display_name": "Python 3",
   "language": "python",
   "name": "python3"
  },
  "language_info": {
   "codemirror_mode": {
    "name": "ipython",
    "version": 3
   },
   "file_extension": ".py",
   "mimetype": "text/x-python",
   "name": "python",
   "nbconvert_exporter": "python",
   "pygments_lexer": "ipython3",
   "version": "3.12.6"
  }
 },
 "nbformat": 4,
 "nbformat_minor": 5
}
