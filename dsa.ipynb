{
 "cells": [
  {
   "cell_type": "markdown",
   "metadata": {},
   "source": [
    "### Stack Using Linked List"
   ]
  },
  {
   "cell_type": "code",
   "execution_count": 5,
   "metadata": {},
   "outputs": [
    {
     "name": "stdout",
     "output_type": "stream",
     "text": [
      "3\n",
      "2\n",
      "1\n",
      "Popped item is:  3\n",
      "2\n",
      "1\n"
     ]
    }
   ],
   "source": [
    "class Node:\n",
    "    def __init__(self, value):\n",
    "        self.value = value \n",
    "        self.next = None\n",
    "\n",
    "class Stack:\n",
    "    def __init__(self, value):\n",
    "        self.top = Node(value)\n",
    "        self.height = 1\n",
    "\n",
    "    def print_stack(self):\n",
    "        temp = self.top\n",
    "        while temp:\n",
    "            print(temp.value)\n",
    "            temp = temp.next\n",
    "\n",
    "    def push(self, value):\n",
    "        new_node = Node(value)\n",
    "        if self.height == 0:\n",
    "            self.top = new_node\n",
    "        else:\n",
    "            new_node.next = self.top\n",
    "            self.top = new_node\n",
    "        self.height += 1\n",
    "\n",
    "    def pop(self):\n",
    "        if self.height == 0:\n",
    "            return None\n",
    "        temp = self.top \n",
    "        self.top = temp.next \n",
    "        self.height -= 1\n",
    "        temp.next = None \n",
    "        return temp\n",
    "\n",
    "\n",
    "stack = Stack(1)\n",
    "stack.push(2)\n",
    "stack.push(3)\n",
    "stack.print_stack()\n",
    "\n",
    "print('Popped item is: ', stack.pop().value)\n",
    "stack.print_stack()\n",
    "        \n"
   ]
  },
  {
   "cell_type": "markdown",
   "metadata": {},
   "source": [
    "### Queue using Linked List"
   ]
  },
  {
   "cell_type": "code",
   "execution_count": 17,
   "metadata": {},
   "outputs": [
    {
     "name": "stdout",
     "output_type": "stream",
     "text": [
      "1\n",
      "2\n",
      "3\n",
      "Removed item from queue:  1\n",
      "2\n",
      "3\n"
     ]
    }
   ],
   "source": [
    "class Node:\n",
    "    def __init__(self, value):\n",
    "        self.value = value\n",
    "        self.next = None \n",
    "\n",
    "class Queue:\n",
    "    def __init__(self, value):\n",
    "        new_node = Node(value)\n",
    "        self.first = new_node\n",
    "        self.last = new_node \n",
    "        self.length = 1\n",
    "\n",
    "    def print_queue(self):\n",
    "        temp = self.first \n",
    "        while temp:\n",
    "            print(temp.value)\n",
    "            temp = temp.next\n",
    "\n",
    "    def enque(self, value):\n",
    "        new_node = Node(value)\n",
    "        if self.length == 0:\n",
    "            self.first = new_node\n",
    "            self.last = new_node\n",
    "        else:\n",
    "            self.last.next = new_node\n",
    "            self.last = new_node\n",
    "        self.length += 1\n",
    "\n",
    "    def deque(self):\n",
    "        if self.length == 0:\n",
    "            return None \n",
    "        temp = self.first \n",
    "        if self.length == 1:\n",
    "            self.first = None\n",
    "            self.last = None \n",
    "        else:\n",
    "            self.first = temp.next\n",
    "        self.length -= 1\n",
    "        temp.next = None \n",
    "        self.length -= 1\n",
    "        return temp\n",
    "    \n",
    "\n",
    "queue = Queue(1)\n",
    "queue.enque(2)\n",
    "queue.enque(3)\n",
    "queue.print_queue()\n",
    "print('Removed item from queue: ', queue.deque().value)\n",
    "queue.print_queue()"
   ]
  },
  {
   "cell_type": "markdown",
   "metadata": {},
   "source": [
    "496. Next Greater Element I"
   ]
  },
  {
   "cell_type": "code",
   "execution_count": 12,
   "metadata": {},
   "outputs": [
    {
     "data": {
      "text/plain": [
       "[-1, 3, -1]"
      ]
     },
     "execution_count": 12,
     "metadata": {},
     "output_type": "execute_result"
    }
   ],
   "source": [
    "'''  \n",
    "Input: nums1 = [4,1,2], nums2 = [1,3,4,2]\n",
    "Output: [-1,3,-1]\n",
    "Explanation: The next greater element for each value of nums1 is as follows:\n",
    "- 4 is underlined in nums2 = [1,3,4,2]. There is no next greater element, so the answer is -1.\n",
    "- 1 is underlined in nums2 = [1,3,4,2]. The next greater element is 3.\n",
    "- 2 is underlined in nums2 = [1,3,4,2]. There is no next greater element, so the answer is -1.\n",
    "'''\n",
    "\n",
    "\n",
    "from typing import List\n",
    "\n",
    "\n",
    "class Solution:\n",
    "    def nextGreaterElement(self, nums1: List[int], nums2: List[int]) -> List[int]:\n",
    "        hash_map = {}\n",
    "        stack = []\n",
    "        for num in nums2:\n",
    "            while stack and stack[-1] < num:\n",
    "                hash_map[stack.pop()] = num\n",
    "            stack.append(num)\n",
    "        return [hash_map.get(n, -1) for n in nums1]\n",
    "\n",
    "solution = Solution()\n",
    "solution.nextGreaterElement([4,1,2], [1, 3, 4, 2])\n",
    "\n"
   ]
  },
  {
   "cell_type": "markdown",
   "metadata": {},
   "source": [
    "Daily Temperatures"
   ]
  },
  {
   "cell_type": "code",
   "execution_count": 26,
   "metadata": {},
   "outputs": [
    {
     "name": "stdout",
     "output_type": "stream",
     "text": [
      "[0]\n",
      "[1]\n",
      "[2]\n",
      "[2, 3]\n",
      "[2, 3, 4]\n",
      "[2, 5]\n",
      "[6]\n",
      "[6, 7]\n"
     ]
    },
    {
     "data": {
      "text/plain": [
       "[1, 1, 4, 2, 1, 1, 0, 0]"
      ]
     },
     "execution_count": 26,
     "metadata": {},
     "output_type": "execute_result"
    }
   ],
   "source": [
    "'''  \n",
    "Input: temperatures = [73,74,75,71,69,72,76,73]\n",
    "Output: [1,1,4,2,1,1,0,0]\n",
    "\n",
    "'''\n",
    "\n",
    "class Solution:\n",
    "    def dailyTemperatures(self, temperatures: List[int]) -> List[int]:\n",
    "        stack = []\n",
    "        res = [0] * len(temperatures)\n",
    "        for i in range(len(temperatures) - 1, -1, -1):\n",
    "            while stack and stack[-1][0] < temperatures[i]:\n",
    "                stack.pop()\n",
    "            if stack:\n",
    "                res[i] = stack[-1][1] - i \n",
    "            stack.append([temperatures[i], i])\n",
    "        return res \n",
    "    \n",
    "    def dailyTemperatures1(self, temperatures: List[int]) -> List[int]:\n",
    "        stack = []\n",
    "        res = [0] * len(temperatures)\n",
    "        for i in range(len(temperatures)):\n",
    "            while stack and temperatures[stack[-1]] < temperatures[i]:\n",
    "                prev_index = stack.pop()\n",
    "                res[prev_index] = i - prev_index \n",
    "            stack.append(i)\n",
    "        return res\n",
    "    \n",
    "solution = Solution()\n",
    "solution.dailyTemperatures1([73,74,75,71,69,72,76,73])\n",
    "        "
   ]
  },
  {
   "cell_type": "markdown",
   "metadata": {},
   "source": [
    "901. Online Stock Span"
   ]
  },
  {
   "cell_type": "code",
   "execution_count": 34,
   "metadata": {},
   "outputs": [
    {
     "data": {
      "text/plain": [
       "4"
      ]
     },
     "execution_count": 34,
     "metadata": {},
     "output_type": "execute_result"
    }
   ],
   "source": [
    "''' \n",
    "Input\n",
    "[\"StockSpanner\", \"next\", \"next\", \"next\", \"next\", \"next\", \"next\", \"next\"]\n",
    "[[], [100], [80], [60], [70], [60], [75], [85]]\n",
    "Output\n",
    "[null, 1, 1, 1, 2, 1, 4, 6]\n",
    "'''\n",
    "\n",
    "class StockSpanner:\n",
    "\n",
    "    def __init__(self):\n",
    "        self.stack = []\n",
    "        \n",
    "\n",
    "    def next(self, price: int) -> int:\n",
    "        span = 1\n",
    "        while self.stack and self.stack[-1][0] <= price:\n",
    "            span += self.stack[-1][1]\n",
    "            self.stack.pop()\n",
    "        self.stack.append((price, span))\n",
    "        return span\n",
    "\n",
    "        \n",
    "\n",
    "\n",
    "# Your StockSpanner object will be instantiated and called as such:\n",
    "obj = StockSpanner()\n",
    "param_1 = obj.next(100)\n",
    "param_2 = obj.next(80)\n",
    "param_3 = obj.next(60)\n",
    "param_4 = obj.next(70)\n",
    "param_5 = obj.next(60)\n",
    "param_6 = obj.next(75)\n",
    "param_6"
   ]
  },
  {
   "cell_type": "markdown",
   "metadata": {},
   "source": [
    "456. 132 Pattern"
   ]
  },
  {
   "cell_type": "code",
   "execution_count": 57,
   "metadata": {},
   "outputs": [
    {
     "data": {
      "text/plain": [
       "True"
      ]
     },
     "execution_count": 57,
     "metadata": {},
     "output_type": "execute_result"
    }
   ],
   "source": [
    "''' \n",
    "Example 1:\n",
    "\n",
    "Input: nums = [1,2,3,4]\n",
    "Output: false\n",
    "Explanation: There is no 132 pattern in the sequence.\n",
    "'''\n",
    "\n",
    "class Solution:\n",
    "    def find132pattern(self, nums: List[int]) -> bool:\n",
    "        j = float(-1)\n",
    "        stack = []\n",
    "        for i in range(len(nums) - 1, -1, -1):\n",
    "            if nums[i] < j:\n",
    "                return True \n",
    "            while stack and stack[-1] < nums[i]:\n",
    "                j = stack.pop()\n",
    "            stack.append(nums[i])\n",
    "        return False \n",
    "\n",
    "solution = Solution()\n",
    "solution.find132pattern([1, 2, 4, 3])\n",
    "         "
   ]
  },
  {
   "cell_type": "markdown",
   "metadata": {},
   "source": [
    "1944. Number of Visible People in a Queue"
   ]
  },
  {
   "cell_type": "code",
   "execution_count": 59,
   "metadata": {},
   "outputs": [
    {
     "data": {
      "text/plain": [
       "[3, 1, 2, 1, 1, 0]"
      ]
     },
     "execution_count": 59,
     "metadata": {},
     "output_type": "execute_result"
    }
   ],
   "source": [
    "''' \n",
    "Input: heights = [10,6,8,5,11,9]\n",
    "Output: [3,1,2,1,1,0]\n",
    "Explanation:\n",
    "Person 0 can see person 1, 2, and 4.\n",
    "Person 1 can see person 2.\n",
    "Person 2 can see person 3 and 4.\n",
    "Person 3 can see person 4.\n",
    "Person 4 can see person 5.\n",
    "Person 5 can see no one since nobody is to the right of them.\n",
    "'''\n",
    "class Solution:\n",
    "    def canSeePersonsCount(self, heights: List[int]) -> List[int]:\n",
    "         stack = []\n",
    "         res = [0] * len(heights)\n",
    "         for i in range(len(heights) - 1, -1, -1):\n",
    "            count = 0\n",
    "            while stack and stack[-1] < heights[i]:\n",
    "                count += 1\n",
    "                stack.pop()\n",
    "            if stack:\n",
    "                count += 1 \n",
    "            stack.append(heights[i])\n",
    "            res[i] = count \n",
    "         return res\n",
    "    \n",
    "solution = Solution()\n",
    "solution.canSeePersonsCount([10,6,8,5,11,9])\n",
    "            \n",
    "                   "
   ]
  },
  {
   "cell_type": "markdown",
   "metadata": {},
   "source": [
    "84. Largest Rectangle in Histogram"
   ]
  },
  {
   "cell_type": "code",
   "execution_count": 70,
   "metadata": {},
   "outputs": [
    {
     "data": {
      "text/plain": [
       "10"
      ]
     },
     "execution_count": 70,
     "metadata": {},
     "output_type": "execute_result"
    }
   ],
   "source": [
    "'''  \n",
    "Input: heights = [2,1,5,6,2,3]\n",
    "Output: 10\n",
    "Explanation: The above is a histogram where width of each bar is 1.\n",
    "The largest rectangle is shown in the red area, which has an area = 10 units.\n",
    "'''\n",
    "class Solution:\n",
    "    def largestRectangleArea(self, heights: List[int]) -> int:\n",
    "        stack = []\n",
    "        max_area = 0\n",
    "        n = len(heights)\n",
    "        for i in range(n + 1):\n",
    "            h = heights[i] if i < n else 0\n",
    "            while stack and heights[stack[-1]] > h:\n",
    "                pop_index = stack.pop()\n",
    "                height = heights[pop_index]\n",
    "                if stack:\n",
    "                    width = i - stack[-1] - 1 \n",
    "                else:\n",
    "                    width = i \n",
    "                max_area = max(max_area, width * height)\n",
    "            stack.append(i)\n",
    "        return max_area \n",
    "    \n",
    "solution = Solution()\n",
    "solution.largestRectangleArea([2,1,5,6,2,3])\n",
    "\n",
    "        "
   ]
  },
  {
   "cell_type": "code",
   "execution_count": null,
   "metadata": {},
   "outputs": [],
   "source": []
  },
  {
   "cell_type": "code",
   "execution_count": null,
   "metadata": {},
   "outputs": [],
   "source": []
  },
  {
   "cell_type": "code",
   "execution_count": 80,
   "metadata": {},
   "outputs": [
    {
     "data": {
      "text/plain": [
       "2"
      ]
     },
     "execution_count": 80,
     "metadata": {},
     "output_type": "execute_result"
    }
   ],
   "source": [
    "from collections import deque\n",
    "\n",
    "class RecentCounter:\n",
    "\n",
    "    # def __init__(self):\n",
    "    #     self.queue = deque()\n",
    "        \n",
    "\n",
    "    # def ping(self, t: int) -> int:\n",
    "    #     self.queue.append(t)\n",
    "    #     while self.queue and self.queue[0] < (t - 3000):\n",
    "    #         self.queue.popleft()\n",
    "    #     return len(self.queue)\n",
    "\n",
    "    def __init__(self):\n",
    "        self.queue = []\n",
    "        self.start = 0 \n",
    "\n",
    "    def ping(self, t):\n",
    "        self.queue.append(t)\n",
    "        while self.queue[self.start] < t - 3000:\n",
    "            self.start += 1\n",
    "\n",
    "        return len(self.queue) - self.start\n",
    "        \n",
    "\n",
    "\n",
    "#Your RecentCounter object will be instantiated and called as such:\n",
    "obj = RecentCounter()\n",
    "param_1 = obj.ping(1)\n",
    "param_2 = obj.ping(30)\n",
    "param_2"
   ]
  },
  {
   "cell_type": "markdown",
   "metadata": {},
   "source": [
    "2073. Time Needed to Buy Tickets"
   ]
  },
  {
   "cell_type": "code",
   "execution_count": 94,
   "metadata": {},
   "outputs": [
    {
     "data": {
      "text/plain": [
       "6"
      ]
     },
     "execution_count": 94,
     "metadata": {},
     "output_type": "execute_result"
    }
   ],
   "source": [
    "''' \n",
    "Example 1:\n",
    "\n",
    "Input: tickets = [2,3,2], k = 2\n",
    "\n",
    "Output: 6\n",
    "\n",
    "Explanation:\n",
    "\n",
    "The queue starts as [2,3,2], where the kth person is underlined.\n",
    "After the person at the front has bought a ticket, the queue becomes [3,2,1] at 1 second.\n",
    "Continuing this process, the queue becomes [2,1,2] at 2 seconds.\n",
    "Continuing this process, the queue becomes [1,2,1] at 3 seconds.\n",
    "Continuing this process, the queue becomes [2,1] at 4 seconds. Note: the person at the front left the queue.\n",
    "Continuing this process, the queue becomes [1,1] at 5 seconds.\n",
    "Continuing this process, the queue becomes [1] at 6 seconds. The kth person has bought all their tickets, so return 6.\n",
    "'''\n",
    "from collections import deque\n",
    "class Solution:\n",
    "    def timeRequiredToBuy(self, tickets: List[int], k: int) -> int:\n",
    "        queue = deque([(i, t) for i, t in enumerate(tickets)])\n",
    "        result = 0\n",
    "        while len(queue) > 0:\n",
    "            i, t = queue.popleft()\n",
    "            result += 1\n",
    "            t -= 1\n",
    "            if t != 0:\n",
    "                queue.append((i, t))\n",
    "            if t == 0 and i == k:\n",
    "                return result\n",
    "            \n",
    "    def timeRequiredToBuyWithoutQueue(self, tickets: List[int], k: int) -> int:\n",
    "        queue = [(i, t) for i, t in enumerate(tickets)]\n",
    "        result = 0\n",
    "        while len(queue) > 0:\n",
    "            i, t = queue.pop(0)\n",
    "            result += 1\n",
    "            t -= 1\n",
    "            if t != 0:\n",
    "                queue.append((i, t))\n",
    "            if t == 0 and i == k:\n",
    "                return result\n",
    "            \n",
    "    def timeRequiredToBuy1(self, tickets: List[int], k: int) -> int:\n",
    "        result = 0\n",
    "        for i, t in enumerate(tickets):\n",
    "            if i <= k:\n",
    "                result += min(tickets[i], tickets[k])\n",
    "            else:\n",
    "                result += min(tickets[i], tickets[k] - 1)\n",
    "        return result\n",
    "        \n",
    "solution = Solution()\n",
    "solution.timeRequiredToBuy1([2, 3, 2], 2)\n"
   ]
  },
  {
   "cell_type": "markdown",
   "metadata": {},
   "source": [
    "950. Reveal Cards In Increasing Order"
   ]
  },
  {
   "cell_type": "code",
   "execution_count": null,
   "metadata": {},
   "outputs": [
    {
     "data": {
      "text/plain": [
       "[2, 13, 3, 11, 5, 17, 7]"
      ]
     },
     "execution_count": 97,
     "metadata": {},
     "output_type": "execute_result"
    }
   ],
   "source": [
    "''' \n",
    "Input: deck = [17,13,11,2,3,5,7]\n",
    "Output: [2,13,3,11,5,17,7]\n",
    "Explanation: \n",
    "We get the deck in the order [17,13,11,2,3,5,7] (this order does not matter), and reorder it.\n",
    "After reordering, the deck starts as [2,13,3,11,5,17,7], where 2 is the top of the deck.\n",
    "We reveal 2, and move 13 to the bottom.  The deck is now [3,11,5,17,7,13].\n",
    "We reveal 3, and move 11 to the bottom.  The deck is now [5,17,7,13,11].\n",
    "We reveal 5, and move 17 to the bottom.  The deck is now [7,13,11,17].\n",
    "We reveal 7, and move 13 to the bottom.  The deck is now [11,17,13].\n",
    "We reveal 11, and move 17 to the bottom.  The deck is now [13,17].\n",
    "We reveal 13, and move 17 to the bottom.  The deck is now [17].\n",
    "We reveal 17.\n",
    "Since all the cards revealed are in increasing order, the answer is correct.\n",
    "'''\n",
    "from collections import deque\n",
    "\n",
    "class Solution:\n",
    "    def deckRevealedIncreasing(self, deck: List[int]) -> List[int]:\n",
    "        deck.sort()\n",
    "        res = [0] * len(deck)\n",
    "        queue = [i for i in range(len(deck))]\n",
    "        for n in deck:\n",
    "            i = queue.pop(0)\n",
    "            res[i] = n\n",
    "            if queue:\n",
    "                queue.append(queue.pop(0))\n",
    "        return res \n",
    "    \n",
    "solution = Solution()\n",
    "solution.deckRevealedIncreasing([17,13,11,2,3,5,7])"
   ]
  },
  {
   "cell_type": "markdown",
   "metadata": {},
   "source": [
    "239. Sliding Window Maximum"
   ]
  },
  {
   "cell_type": "code",
   "execution_count": null,
   "metadata": {},
   "outputs": [
    {
     "name": "stdout",
     "output_type": "stream",
     "text": [
      "2\n",
      "3\n",
      "4\n",
      "5\n",
      "6\n",
      "7\n"
     ]
    },
    {
     "data": {
      "text/plain": [
       "[3, 3, 5, 5, 6, 7]"
      ]
     },
     "execution_count": 6,
     "metadata": {},
     "output_type": "execute_result"
    }
   ],
   "source": [
    "''' \n",
    "You are given an array of integers nums, there is a sliding window of size k which is moving from the very left of the array to the very right. You can only see the k numbers in the window. Each time the sliding window moves right by one position.\n",
    "\n",
    "Return the max sliding window.\n",
    "\n",
    "'''\n",
    "from collections import deque\n",
    "from typing import List\n",
    "\n",
    "class Solution:\n",
    "    def maxSlidingWindow(self, nums: List[int], k: int) -> List[int]:\n",
    "        queue = deque()\n",
    "        res = []\n",
    "        for i in range(len(nums)):\n",
    "            if queue and queue[0] < i - k + 1:\n",
    "                queue.popleft()\n",
    "            while queue and nums[queue[-1]] < nums[i]:\n",
    "                queue.pop()\n",
    "            queue.append(i)\n",
    "\n",
    "            if i >= k - 1:\n",
    "                res.append(nums[queue[0]])\n",
    "        return res \n",
    "solution = Solution()\n",
    "solution.maxSlidingWindow([1,3,-1,-3,5,3,6,7], 3)\n",
    "        "
   ]
  },
  {
   "cell_type": "markdown",
   "metadata": {},
   "source": [
    "1438. Longest Continuous Subarray With Absolute Diff Less Than or Equal to Limit"
   ]
  },
  {
   "cell_type": "code",
   "execution_count": 9,
   "metadata": {},
   "outputs": [
    {
     "data": {
      "text/plain": [
       "4"
      ]
     },
     "execution_count": 9,
     "metadata": {},
     "output_type": "execute_result"
    }
   ],
   "source": [
    "'''  \n",
    "Input: nums = [8,2,4,7], limit = 4\n",
    "Output: 2 \n",
    "Explanation: All subarrays are: \n",
    "[8] with maximum absolute diff |8-8| = 0 <= 4.\n",
    "[8,2] with maximum absolute diff |8-2| = 6 > 4. \n",
    "[8,2,4] with maximum absolute diff |8-2| = 6 > 4.\n",
    "[8,2,4,7] with maximum absolute diff |8-2| = 6 > 4.\n",
    "[2] with maximum absolute diff |2-2| = 0 <= 4.\n",
    "[2,4] with maximum absolute diff |2-4| = 2 <= 4.\n",
    "[2,4,7] with maximum absolute diff |2-7| = 5 > 4.\n",
    "[4] with maximum absolute diff |4-4| = 0 <= 4.\n",
    "[4,7] with maximum absolute diff |4-7| = 3 <= 4.\n",
    "[7] with maximum absolute diff |7-7| = 0 <= 4. \n",
    "Therefore, the size of the longest subarray is 2.\n",
    "'''\n",
    "from collections import deque\n",
    "\n",
    "class Solution:\n",
    "    def longestSubarray(self, nums: List[int], limit: int) -> int:\n",
    "        max_queue = deque()\n",
    "        min_queue = deque()\n",
    "        max_res = 0\n",
    "        left = 0\n",
    "        for right in range(len(nums)):\n",
    "            while max_queue and nums[max_queue[-1]] < nums[right]:\n",
    "                max_queue.pop()\n",
    "            max_queue.append(right)\n",
    "            \n",
    "            while min_queue and nums[min_queue[-1]] > nums[right]:\n",
    "                min_queue.pop()\n",
    "            min_queue.append(right)\n",
    "\n",
    "            while nums[max_queue[0]] - nums[min_queue[0]] > limit:\n",
    "                left += 1\n",
    "                if max_queue[0] < left:\n",
    "                    max_queue.popleft()\n",
    "                if min_queue[0] < left:\n",
    "                    min_queue.popleft()\n",
    "            max_res = max(max_res, right - left + 1)\n",
    "        return max_res\n",
    "    \n",
    "solution = Solution()\n",
    "solution.longestSubarray([10,1,2,4,7,2], 5)\n",
    "                "
   ]
  },
  {
   "cell_type": "markdown",
   "metadata": {},
   "source": [
    "1696. Jump Game VI"
   ]
  },
  {
   "cell_type": "code",
   "execution_count": 16,
   "metadata": {},
   "outputs": [
    {
     "name": "stdout",
     "output_type": "stream",
     "text": [
      "-1   1\n",
      "-2   1\n",
      "4   0\n",
      "-7   4\n",
      "3   4\n"
     ]
    },
    {
     "data": {
      "text/plain": [
       "7"
      ]
     },
     "execution_count": 16,
     "metadata": {},
     "output_type": "execute_result"
    }
   ],
   "source": [
    "'''\n",
    "Input: nums = [1,-1,-2,4,-7,3], k = 2\n",
    "Output: 7\n",
    "Explanation: You can choose your jumps forming the subsequence [1,-1,4,3] (underlined above). The sum is 7.\n",
    "'''\n",
    "from collections import deque\n",
    "\n",
    "class Solution:\n",
    "    def maxResult(self, nums: List[int], k: int) -> int:\n",
    "        queue = deque([0])\n",
    "        for i in range(1, len(nums)):\n",
    "            \n",
    "            print(nums[i] , ' ', nums[queue[0]])\n",
    "\n",
    "            nums[i] = nums[i] + nums[queue[0]]\n",
    "\n",
    "            if queue and queue[0] < i - k + 1:\n",
    "                queue.popleft()\n",
    "            \n",
    "\n",
    "            while queue and nums[i] >= nums[queue[-1]]:\n",
    "                queue.pop()\n",
    "            queue.append(i)\n",
    "        return nums[-1]\n",
    "    \n",
    "solution = Solution()\n",
    "solution.maxResult([1,-1,-2,4,-7,3], 2)\n",
    "        "
   ]
  },
  {
   "cell_type": "markdown",
   "metadata": {},
   "source": [
    "283. Move Zeroes"
   ]
  },
  {
   "cell_type": "code",
   "execution_count": 25,
   "metadata": {},
   "outputs": [
    {
     "data": {
      "text/plain": [
       "[1, 1, 0]"
      ]
     },
     "execution_count": 25,
     "metadata": {},
     "output_type": "execute_result"
    }
   ],
   "source": [
    "'''  \n",
    "Given an integer array nums, move all 0's to the end of it while maintaining the relative order of the non-zero elements.\n",
    "\n",
    "Note that you must do this in-place without making a copy of the array.\n",
    "Example 1:\n",
    "\n",
    "Input: nums = [0,1,0,3,12]\n",
    "Output: [1,3,12,0,0]\n",
    "'''\n",
    "\n",
    "class Solution:\n",
    "    def moveZeroes(self, nums: List[int]) -> None:\n",
    "        \"\"\"\n",
    "        Do not return anything, modify nums in-place instead.\n",
    "        \"\"\"\n",
    "        left = 0\n",
    "        for right in range(len(nums)):\n",
    "            if nums[left] == 0 and nums[right] !=0:\n",
    "                nums[left], nums[right] = nums[right], nums[left]\n",
    "\n",
    "            if nums[left] !=0:\n",
    "                left += 1\n",
    "        return nums\n",
    "\n",
    "solution = Solution()\n",
    "solution.moveZeroes([1, 0, 1])\n",
    "        "
   ]
  },
  {
   "cell_type": "markdown",
   "metadata": {},
   "source": [
    "169. Majority Element"
   ]
  },
  {
   "cell_type": "code",
   "execution_count": 42,
   "metadata": {},
   "outputs": [
    {
     "data": {
      "text/plain": [
       "2"
      ]
     },
     "execution_count": 42,
     "metadata": {},
     "output_type": "execute_result"
    }
   ],
   "source": [
    "class Solution:\n",
    "    def majorityElement(self, nums: List[int]) -> int:\n",
    "        hash_map = {}\n",
    "        for num in nums:\n",
    "            if num in hash_map:\n",
    "                hash_map[num] += 1\n",
    "            else:\n",
    "                hash_map[num] = 1\n",
    "        m = len(nums) // 2\n",
    "        for key, value in hash_map.items():\n",
    "            if value > m:\n",
    "                return key\n",
    "\n",
    "            \n",
    "solution = Solution()\n",
    "solution.majorityElement([2,2,1,1,1,2,2])"
   ]
  },
  {
   "cell_type": "markdown",
   "metadata": {},
   "source": [
    "26. Remove Duplicates from Sorted Array"
   ]
  },
  {
   "cell_type": "code",
   "execution_count": 53,
   "metadata": {},
   "outputs": [
    {
     "data": {
      "text/plain": [
       "5"
      ]
     },
     "execution_count": 53,
     "metadata": {},
     "output_type": "execute_result"
    }
   ],
   "source": [
    "''' \n",
    "Example 1:\n",
    "\n",
    "Input: nums = [1,1,2]\n",
    "Output: 2, nums = [1,2,_]\n",
    "Explanation: Your function should return k = 2, with the first two elements of nums being 1 and 2 respectively.\n",
    "It does not matter what you leave beyond the returned k (hence they are underscores).\n",
    "\n",
    "'''\n",
    "\n",
    "class Solution:\n",
    "    def removeDuplicates(self, nums: List[int]) -> int:\n",
    "        left = 0\n",
    "        for right in range(1, len(nums)):\n",
    "            if nums[left] != nums[right]:\n",
    "                nums[left+1], nums[right] = nums[right], nums[left+1]\n",
    "                left += 1\n",
    "        return left + 1\n",
    "\n",
    "solution = Solution()\n",
    "solution.removeDuplicates([0,0,1,1,1,2,2,3,3,4])"
   ]
  },
  {
   "cell_type": "markdown",
   "metadata": {},
   "source": [
    "121. Best Time to Buy and Sell Stock"
   ]
  },
  {
   "cell_type": "code",
   "execution_count": 54,
   "metadata": {},
   "outputs": [
    {
     "data": {
      "text/plain": [
       "5"
      ]
     },
     "execution_count": 54,
     "metadata": {},
     "output_type": "execute_result"
    }
   ],
   "source": [
    "''' \n",
    "Example 1:\n",
    "\n",
    "Input: prices = [7,1,5,3,6,4]\n",
    "Output: 5\n",
    "Explanation: Buy on day 2 (price = 1) and sell on day 5 (price = 6), profit = 6-1 = 5.\n",
    "Note that buying on day 2 and selling on day 1 is not allowed because you must buy before you sell.\n",
    "'''\n",
    "\n",
    "class Solution:\n",
    "    def maxProfit(self, prices: List[int]) -> int:\n",
    "        left = 0 \n",
    "        max_profit = 0\n",
    "        for right in range(1, len(prices)):\n",
    "            if prices[right] < prices[left]:\n",
    "                left = right \n",
    "            else:\n",
    "                max_profit = max(max_profit, prices[right] - prices[left])\n",
    "        return max_profit\n",
    "    \n",
    "solution = Solution()\n",
    "solution.maxProfit([7, 1, 5, 3, 6, 4])\n",
    "\n",
    "\n"
   ]
  },
  {
   "cell_type": "markdown",
   "metadata": {},
   "source": [
    "189. Rotate Array"
   ]
  },
  {
   "cell_type": "code",
   "execution_count": null,
   "metadata": {},
   "outputs": [
    {
     "name": "stdout",
     "output_type": "stream",
     "text": [
      "3\n",
      "[5, 6, 7, 1, 2, 3, 4]\n"
     ]
    }
   ],
   "source": [
    "''' \n",
    "Example 1:\n",
    "\n",
    "Input: nums = [1,2,3,4,5,6,7], k = 3\n",
    "Output: [5,6,7,1,2,3,4]\n",
    "Explanation:\n",
    "rotate 1 steps to the right: [7,1,2,3,4,5,6]\n",
    "rotate 2 steps to the right: [6,7,1,2,3,4,5]\n",
    "rotate 3 steps to the right: [5,6,7,1,2,3,4]\n",
    "'''\n",
    "\n",
    "class Solution:\n",
    "    def rotate(self, nums: List[int], k: int) -> None:\n",
    "        \"\"\"\n",
    "        Do not return anything, modify nums in-place instead.\n",
    "        \"\"\"\n",
    "        n = len(nums)\n",
    "        k = k % n\n",
    "        if k == 0:\n",
    "            return \n",
    "        temp = nums[-k:]\n",
    "        nums[k:] = nums[:-k]\n",
    "        nums[:k] = temp\n",
    "\n",
    "solution = Solution()\n",
    "solution.rotate([1,  2, 3, 4, 5, 6, 7], 3)\n",
    "\n",
    "        "
   ]
  },
  {
   "cell_type": "markdown",
   "metadata": {},
   "source": [
    "238. Product of Array Except Self"
   ]
  },
  {
   "cell_type": "code",
   "execution_count": null,
   "metadata": {},
   "outputs": [
    {
     "data": {
      "text/plain": [
       "[24, 12, 8, 6]"
      ]
     },
     "execution_count": 95,
     "metadata": {},
     "output_type": "execute_result"
    }
   ],
   "source": [
    "''' \n",
    "Example 1:\n",
    "\n",
    "Input: nums = [1,2,3,4]\n",
    "Output: [24,12,8,6]\n",
    "\n",
    "'''\n",
    "\n",
    "class Solution:\n",
    "    def productExceptSelf(self, nums: List[int]) -> List[int]:\n",
    "        prefix = [1] * len(nums)\n",
    "        prefix[0] = 1\n",
    "        res = [1] * len(nums)\n",
    "\n",
    "        for i in range(1, len(nums)):\n",
    "            prefix[i] = prefix[i - 1] * nums[i - 1]\n",
    "\n",
    "        suffix = [1] * len(nums)\n",
    "        suffix[len(nums) - 1] = 1\n",
    "        for i in range(len(nums) - 2, -1, -1):\n",
    "            suffix[i] = suffix[i + 1] * nums[i + 1]\n",
    "\n",
    "        for i in range(len(nums)):\n",
    "            res[i] = prefix[i] * suffix[i]\n",
    "\n",
    "        return res\n",
    "    \n",
    "    def productExceptSelf1(self, nums: List[int]) -> List[int]:\n",
    "        res = [1] * len(nums)\n",
    "        res[0] = 1\n",
    "\n",
    "        for i in range(1, len(nums)):\n",
    "            res[i] = res[i - 1] * nums[i - 1]\n",
    "        prod = 1\n",
    "        for i in range(len(nums) -1, -1, -1): \n",
    "            res[i] *= prod\n",
    "            prod *= nums[i]\n",
    "        return res\n",
    "solution = Solution()\n",
    "solution.productExceptSelf1([1, 2, 3, 4])\n",
    "\n",
    "        \n"
   ]
  },
  {
   "cell_type": "markdown",
   "metadata": {},
   "source": [
    "2348. Number of Zero-Filled Subarrays"
   ]
  },
  {
   "cell_type": "code",
   "execution_count": 96,
   "metadata": {},
   "outputs": [
    {
     "data": {
      "text/plain": [
       "6"
      ]
     },
     "execution_count": 96,
     "metadata": {},
     "output_type": "execute_result"
    }
   ],
   "source": [
    "''' \n",
    "Example 1:\n",
    "\n",
    "Input: nums = [1,3,0,0,2,0,0,4]\n",
    "Output: 6\n",
    "Explanation: \n",
    "There are 4 occurrences of [0] as a subarray.\n",
    "There are 2 occurrences of [0,0] as a subarray.\n",
    "There is no occurrence of a subarray with a size more than 2 filled with 0. Therefore, we return 6.\n",
    "\n",
    "'''\n",
    "\n",
    "class Solution:\n",
    "    def zeroFilledSubarray(self, nums: List[int]) -> int:\n",
    "        count = 0\n",
    "        res = 0\n",
    "        for num in nums:\n",
    "            if num == 0:\n",
    "                count += 1\n",
    "            else:\n",
    "                count = 0\n",
    "            res += count \n",
    "        return res \n",
    "    \n",
    "solution = Solution()\n",
    "solution.zeroFilledSubarray([1,3,0,0,2,0,0,4])\n",
    "\n"
   ]
  },
  {
   "cell_type": "markdown",
   "metadata": {},
   "source": [
    "334. Increasing Triplet Subsequence"
   ]
  },
  {
   "cell_type": "code",
   "execution_count": 114,
   "metadata": {},
   "outputs": [
    {
     "data": {
      "text/plain": [
       "True"
      ]
     },
     "execution_count": 114,
     "metadata": {},
     "output_type": "execute_result"
    }
   ],
   "source": [
    "''' \n",
    "Example 1:\n",
    "\n",
    "Input: nums = [1,2,3,4,5]\n",
    "Output: true\n",
    "Explanation: Any triplet where i < j < k is valid.\n",
    "'''\n",
    "\n",
    "class Solution:\n",
    "    def increasingTriplet(self, nums: List[int]) -> bool:\n",
    "        i = float('inf')\n",
    "        j = float('inf')\n",
    "        for num in nums:\n",
    "            if num <= i:\n",
    "                i = num \n",
    "            elif num <= j:\n",
    "                j = num \n",
    "            else:\n",
    "                return True\n",
    "        return False \n",
    "    \n",
    "\n",
    "solution = Solution()\n",
    "solution.increasingTriplet([1, 2, 3])"
   ]
  },
  {
   "cell_type": "markdown",
   "metadata": {},
   "source": [
    "122. Best Time to Buy and Sell Stock II"
   ]
  },
  {
   "cell_type": "code",
   "execution_count": 116,
   "metadata": {},
   "outputs": [
    {
     "data": {
      "text/plain": [
       "7"
      ]
     },
     "execution_count": 116,
     "metadata": {},
     "output_type": "execute_result"
    }
   ],
   "source": [
    "''' \n",
    "Example 1:\n",
    "\n",
    "Input: prices = [7,1,5,3,6,4]\n",
    "Output: 7\n",
    "Explanation: Buy on day 2 (price = 1) and sell on day 3 (price = 5), profit = 5-1 = 4.\n",
    "Then buy on day 4 (price = 3) and sell on day 5 (price = 6), profit = 6-3 = 3.\n",
    "Total profit is 4 + 3 = 7.\n",
    "\n",
    "'''\n",
    "\n",
    "class Solution:\n",
    "    def maxProfit(self, prices: List[int]) -> int:\n",
    "        profit = 0\n",
    "        for i in range(1, len(prices)):\n",
    "            if prices[i] > prices[i - 1]:\n",
    "                profit += (prices[i] - prices[i-1])\n",
    "        return profit \n",
    "    \n",
    "solution = Solution()\n",
    "solution.maxProfit([7,1,5,3,6,4])"
   ]
  },
  {
   "cell_type": "markdown",
   "metadata": {},
   "source": [
    "41. First Missing Positive"
   ]
  },
  {
   "cell_type": "code",
   "execution_count": 139,
   "metadata": {},
   "outputs": [
    {
     "name": "stdout",
     "output_type": "stream",
     "text": [
      "[-1, -2, 0]\n"
     ]
    },
    {
     "data": {
      "text/plain": [
       "3"
      ]
     },
     "execution_count": 139,
     "metadata": {},
     "output_type": "execute_result"
    }
   ],
   "source": [
    "''' \n",
    "Example 1:\n",
    "\n",
    "Input: nums = [1,2,0]\n",
    "Output: 3\n",
    "Explanation: The numbers in the range [1,2] are all in the array.\n",
    "'''\n",
    "\n",
    "class Solution:\n",
    "    def firstMissingPositive(self, nums: List[int]) -> int:\n",
    "        if len(nums) == 0:\n",
    "            return 1 \n",
    "        n = len(nums)\n",
    "        for i in range(n):\n",
    "            if nums[i] < 0:\n",
    "                nums[i] = 0\n",
    "\n",
    "        for i in range(n):\n",
    "            val = abs(nums[i])\n",
    "            if 1 <= val <= n + 1:\n",
    "                if nums[val - 1] > 0:\n",
    "                    nums[val - 1] *= -1 \n",
    "                elif nums[val - 1] == 0:\n",
    "                    nums[val - 1] = -1 * (n + 1)\n",
    "        print(nums)\n",
    "        for i in range(1, n+1):\n",
    "            if nums[i - 1] >= 0:\n",
    "                return i \n",
    "        return n + 1     \n",
    "\n",
    "\n",
    "\n",
    "\n",
    "solution = Solution()\n",
    "solution.firstMissingPositive([1,2,0])\n",
    "        \n"
   ]
  },
  {
   "cell_type": "markdown",
   "metadata": {},
   "source": [
    "392. Is Subsequence"
   ]
  },
  {
   "cell_type": "code",
   "execution_count": 147,
   "metadata": {},
   "outputs": [
    {
     "data": {
      "text/plain": [
       "False"
      ]
     },
     "execution_count": 147,
     "metadata": {},
     "output_type": "execute_result"
    }
   ],
   "source": [
    "''' \n",
    "Example 1:\n",
    "\n",
    "Input: s = \"abc\", t = \"ahbgdc\"\n",
    "Output: true\n",
    "Example 2:\n",
    "\n",
    "Input: s = \"axc\", t = \"ahbgdc\"\n",
    "Output: false\n",
    "'''\n",
    "\n",
    "class Solution:\n",
    "    def isSubsequence(self, s: str, t: str) -> bool:\n",
    "        left = 0\n",
    "        if len(s) > len(t):\n",
    "            return False\n",
    "        if len(s) == 0:\n",
    "            return True\n",
    "        for char in t:\n",
    "            if s[left] == char:\n",
    "                left += 1\n",
    "            if left == len(s):\n",
    "                return True \n",
    "        return False\n",
    "    \n",
    "solution = Solution()\n",
    "solution.isSubsequence(\"axc\", \"ahbgdc\")"
   ]
  },
  {
   "cell_type": "markdown",
   "metadata": {},
   "source": [
    "14. Longest Common Prefix"
   ]
  },
  {
   "cell_type": "code",
   "execution_count": 154,
   "metadata": {},
   "outputs": [
    {
     "data": {
      "text/plain": [
       "'fl'"
      ]
     },
     "execution_count": 154,
     "metadata": {},
     "output_type": "execute_result"
    }
   ],
   "source": [
    "'''\n",
    "Example 1:\n",
    "\n",
    "Input: strs = [\"flower\",\"flow\",\"flight\"]\n",
    "Output: \"fl\"\n",
    "'''\n",
    "\n",
    "class Solution:\n",
    "    def longestCommonPrefix(self, strs: List[str]) -> str:\n",
    "        strs = sorted(strs)\n",
    "        min_len = min(len(strs[0]), len(strs[-1]))\n",
    "        res = \"\"\n",
    "        for i in range(min_len):\n",
    "            if strs[0][i] == strs[-1][i]:\n",
    "                res += strs[0][i]\n",
    "            else:\n",
    "                return res\n",
    "        return res\n",
    "                 \n",
    "\n",
    "\n",
    "solution = Solution()\n",
    "solution.longestCommonPrefix([\"flower\",\"flow\",\"flight\"])"
   ]
  },
  {
   "cell_type": "markdown",
   "metadata": {},
   "source": [
    "125. Valid Palindrome"
   ]
  },
  {
   "cell_type": "code",
   "execution_count": 188,
   "metadata": {},
   "outputs": [
    {
     "data": {
      "text/plain": [
       "True"
      ]
     },
     "execution_count": 188,
     "metadata": {},
     "output_type": "execute_result"
    }
   ],
   "source": [
    "'''\n",
    "Example 1:\n",
    "\n",
    "Input: s = \"A man, a plan, a canal: Panama\"\n",
    "Output: true\n",
    "Explanation: \"amanaplanacanalpanama\" is a palindrome.\n",
    "'''\n",
    "\n",
    "class Solution:\n",
    "    def isPalindrome(self, s: str) -> bool:\n",
    "\n",
    "        def is_alpha_numeris(char):\n",
    "            if char.isdigit():\n",
    "                return True\n",
    "            ord_val = ord(char)\n",
    "            if ((ord_val >= 65 and ord_val <= 90) or (ord_val >=97 and ord_val <= 122)):\n",
    "                return True\n",
    "            return False\n",
    "        s = s.lower()\n",
    "        left = 0\n",
    "        right = len(s) - 1 \n",
    "        print(s)\n",
    "        while left < right: \n",
    "            if not is_alpha_numeris(s[left]):\n",
    "                left += 1 \n",
    "            elif not is_alpha_numeris(s[right]):\n",
    "                right -= 1\n",
    "            elif s[left] != s[right]:\n",
    "                return False\n",
    "            else:\n",
    "                left += 1\n",
    "                right -= 1\n",
    "        return True\n",
    "\n",
    "class Solution:\n",
    "    def isPalindrome(self, s: str) -> bool:\n",
    "        i, j = 0, len(s) - 1\n",
    "        while i < j:\n",
    "            while i < j and not s[i].isalnum(): i += 1\n",
    "            while i < j and not s[j].isalnum(): j -= 1\n",
    "\n",
    "            if s[i].lower() != s[j].lower(): return False\n",
    "            i += 1\n",
    "            j -= 1\n",
    "\n",
    "        return True\n",
    "\n",
    "\n",
    "\n",
    "solution = Solution()\n",
    "solution.isPalindrome(\"A man, a plan, a canal: Panama\")"
   ]
  },
  {
   "cell_type": "markdown",
   "metadata": {},
   "source": [
    "151. Reverse Words in a String"
   ]
  },
  {
   "cell_type": "code",
   "execution_count": 196,
   "metadata": {},
   "outputs": [
    {
     "data": {
      "text/plain": [
       "'the sky is blue'"
      ]
     },
     "execution_count": 196,
     "metadata": {},
     "output_type": "execute_result"
    }
   ],
   "source": [
    "'''\n",
    "Example 1:\n",
    "\n",
    "Input: s = \"the sky is blue\"\n",
    "Output: \"blue is sky the\"\n",
    "Example 2:\n",
    "\n",
    "Input: s = \"  hello world  \"\n",
    "Output: \"world hello\"\n",
    "'''\n",
    "\n",
    "class Solution:\n",
    "    def reverseWords(self, s: str) -> str:\n",
    "        list = s.split()\n",
    "        res = []\n",
    "        for i in range(len(list) - 1, -1, -1):\n",
    "            res.append(list[i])\n",
    "        return \" \".join(res)\n",
    "\n",
    "solution = Solution()\n",
    "solution.reverseWords(\"blue is sky the\")"
   ]
  },
  {
   "cell_type": "markdown",
   "metadata": {},
   "source": [
    "6. Zigzag Conversion"
   ]
  },
  {
   "cell_type": "code",
   "execution_count": 199,
   "metadata": {},
   "outputs": [
    {
     "data": {
      "text/plain": [
       "'PINALSIGYAHRPI'"
      ]
     },
     "execution_count": 199,
     "metadata": {},
     "output_type": "execute_result"
    }
   ],
   "source": [
    "'''\n",
    "Example 1:\n",
    "\n",
    "Input: s = \"PAYPALISHIRING\", numRows = 3\n",
    "Output: \"PAHNAPLSIIGYIR\"\n",
    "Example 2:\n",
    "\n",
    "Input: s = \"PAYPALISHIRING\", numRows = 4\n",
    "Output: \"PINALSIGYAHRPI\"\n",
    "Explanation:\n",
    "P     I    N\n",
    "A   L S  I G\n",
    "Y A   H R\n",
    "P     I\n",
    "'''\n",
    "\n",
    "class Solution:\n",
    "    def convert(self, s: str, numRows: int) -> str:\n",
    "        if numRows == 1 or numRows >= len(s):\n",
    "            return s \n",
    "        rows = [\"\"] * numRows \n",
    "        row, step = 0, 1 \n",
    "        for char in s:\n",
    "            rows[row] += char \n",
    "            if row == 0:\n",
    "                step = 1\n",
    "            elif row == numRows - 1:\n",
    "                step = -1\n",
    "            row += step\n",
    "        return \"\".join(rows)\n",
    "    \n",
    "solution = Solution()\n",
    "solution.convert(\"PAYPALISHIRING\", 4)\n"
   ]
  },
  {
   "cell_type": "code",
   "execution_count": null,
   "metadata": {},
   "outputs": [],
   "source": []
  }
 ],
 "metadata": {
  "kernelspec": {
   "display_name": "Python 3",
   "language": "python",
   "name": "python3"
  },
  "language_info": {
   "codemirror_mode": {
    "name": "ipython",
    "version": 3
   },
   "file_extension": ".py",
   "mimetype": "text/x-python",
   "name": "python",
   "nbconvert_exporter": "python",
   "pygments_lexer": "ipython3",
   "version": "3.13.1"
  }
 },
 "nbformat": 4,
 "nbformat_minor": 2
}
