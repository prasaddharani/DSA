{
 "cells": [
  {
   "cell_type": "markdown",
   "metadata": {},
   "source": [
    "### Stack Using Linked List"
   ]
  },
  {
   "cell_type": "code",
   "execution_count": 5,
   "metadata": {},
   "outputs": [
    {
     "name": "stdout",
     "output_type": "stream",
     "text": [
      "3\n",
      "2\n",
      "1\n",
      "Popped item is:  3\n",
      "2\n",
      "1\n"
     ]
    }
   ],
   "source": [
    "class Node:\n",
    "    def __init__(self, value):\n",
    "        self.value = value \n",
    "        self.next = None\n",
    "\n",
    "class Stack:\n",
    "    def __init__(self, value):\n",
    "        self.top = Node(value)\n",
    "        self.height = 1\n",
    "\n",
    "    def print_stack(self):\n",
    "        temp = self.top\n",
    "        while temp:\n",
    "            print(temp.value)\n",
    "            temp = temp.next\n",
    "\n",
    "    def push(self, value):\n",
    "        new_node = Node(value)\n",
    "        if self.height == 0:\n",
    "            self.top = new_node\n",
    "        else:\n",
    "            new_node.next = self.top\n",
    "            self.top = new_node\n",
    "        self.height += 1\n",
    "\n",
    "    def pop(self):\n",
    "        if self.height == 0:\n",
    "            return None\n",
    "        temp = self.top \n",
    "        self.top = temp.next \n",
    "        self.height -= 1\n",
    "        temp.next = None \n",
    "        return temp\n",
    "\n",
    "\n",
    "stack = Stack(1)\n",
    "stack.push(2)\n",
    "stack.push(3)\n",
    "stack.print_stack()\n",
    "\n",
    "print('Popped item is: ', stack.pop().value)\n",
    "stack.print_stack()\n",
    "        \n"
   ]
  },
  {
   "cell_type": "markdown",
   "metadata": {},
   "source": [
    "### Queue using Linked List"
   ]
  },
  {
   "cell_type": "code",
   "execution_count": 17,
   "metadata": {},
   "outputs": [
    {
     "name": "stdout",
     "output_type": "stream",
     "text": [
      "1\n",
      "2\n",
      "3\n",
      "Removed item from queue:  1\n",
      "2\n",
      "3\n"
     ]
    }
   ],
   "source": [
    "class Node:\n",
    "    def __init__(self, value):\n",
    "        self.value = value\n",
    "        self.next = None \n",
    "\n",
    "class Queue:\n",
    "    def __init__(self, value):\n",
    "        new_node = Node(value)\n",
    "        self.first = new_node\n",
    "        self.last = new_node \n",
    "        self.length = 1\n",
    "\n",
    "    def print_queue(self):\n",
    "        temp = self.first \n",
    "        while temp:\n",
    "            print(temp.value)\n",
    "            temp = temp.next\n",
    "\n",
    "    def enque(self, value):\n",
    "        new_node = Node(value)\n",
    "        if self.length == 0:\n",
    "            self.first = new_node\n",
    "            self.last = new_node\n",
    "        else:\n",
    "            self.last.next = new_node\n",
    "            self.last = new_node\n",
    "        self.length += 1\n",
    "\n",
    "    def deque(self):\n",
    "        if self.length == 0:\n",
    "            return None \n",
    "        temp = self.first \n",
    "        if self.length == 1:\n",
    "            self.first = None\n",
    "            self.last = None \n",
    "        else:\n",
    "            self.first = temp.next\n",
    "        self.length -= 1\n",
    "        temp.next = None \n",
    "        self.length -= 1\n",
    "        return temp\n",
    "    \n",
    "\n",
    "queue = Queue(1)\n",
    "queue.enque(2)\n",
    "queue.enque(3)\n",
    "queue.print_queue()\n",
    "print('Removed item from queue: ', queue.deque().value)\n",
    "queue.print_queue()"
   ]
  },
  {
   "cell_type": "markdown",
   "metadata": {},
   "source": [
    "496. Next Greater Element I"
   ]
  },
  {
   "cell_type": "code",
   "execution_count": 12,
   "metadata": {},
   "outputs": [
    {
     "data": {
      "text/plain": [
       "[-1, 3, -1]"
      ]
     },
     "execution_count": 12,
     "metadata": {},
     "output_type": "execute_result"
    }
   ],
   "source": [
    "'''  \n",
    "Input: nums1 = [4,1,2], nums2 = [1,3,4,2]\n",
    "Output: [-1,3,-1]\n",
    "Explanation: The next greater element for each value of nums1 is as follows:\n",
    "- 4 is underlined in nums2 = [1,3,4,2]. There is no next greater element, so the answer is -1.\n",
    "- 1 is underlined in nums2 = [1,3,4,2]. The next greater element is 3.\n",
    "- 2 is underlined in nums2 = [1,3,4,2]. There is no next greater element, so the answer is -1.\n",
    "'''\n",
    "\n",
    "\n",
    "from typing import List\n",
    "\n",
    "\n",
    "class Solution:\n",
    "    def nextGreaterElement(self, nums1: List[int], nums2: List[int]) -> List[int]:\n",
    "        hash_map = {}\n",
    "        stack = []\n",
    "        for num in nums2:\n",
    "            while stack and stack[-1] < num:\n",
    "                hash_map[stack.pop()] = num\n",
    "            stack.append(num)\n",
    "        return [hash_map.get(n, -1) for n in nums1]\n",
    "\n",
    "solution = Solution()\n",
    "solution.nextGreaterElement([4,1,2], [1, 3, 4, 2])\n",
    "\n"
   ]
  },
  {
   "cell_type": "markdown",
   "metadata": {},
   "source": [
    "Daily Temperatures"
   ]
  },
  {
   "cell_type": "code",
   "execution_count": 26,
   "metadata": {},
   "outputs": [
    {
     "name": "stdout",
     "output_type": "stream",
     "text": [
      "[0]\n",
      "[1]\n",
      "[2]\n",
      "[2, 3]\n",
      "[2, 3, 4]\n",
      "[2, 5]\n",
      "[6]\n",
      "[6, 7]\n"
     ]
    },
    {
     "data": {
      "text/plain": [
       "[1, 1, 4, 2, 1, 1, 0, 0]"
      ]
     },
     "execution_count": 26,
     "metadata": {},
     "output_type": "execute_result"
    }
   ],
   "source": [
    "'''  \n",
    "Input: temperatures = [73,74,75,71,69,72,76,73]\n",
    "Output: [1,1,4,2,1,1,0,0]\n",
    "\n",
    "'''\n",
    "\n",
    "class Solution:\n",
    "    def dailyTemperatures(self, temperatures: List[int]) -> List[int]:\n",
    "        stack = []\n",
    "        res = [0] * len(temperatures)\n",
    "        for i in range(len(temperatures) - 1, -1, -1):\n",
    "            while stack and stack[-1][0] < temperatures[i]:\n",
    "                stack.pop()\n",
    "            if stack:\n",
    "                res[i] = stack[-1][1] - i \n",
    "            stack.append([temperatures[i], i])\n",
    "        return res \n",
    "    \n",
    "    def dailyTemperatures1(self, temperatures: List[int]) -> List[int]:\n",
    "        stack = []\n",
    "        res = [0] * len(temperatures)\n",
    "        for i in range(len(temperatures)):\n",
    "            while stack and temperatures[stack[-1]] < temperatures[i]:\n",
    "                prev_index = stack.pop()\n",
    "                res[prev_index] = i - prev_index \n",
    "            stack.append(i)\n",
    "        return res\n",
    "    \n",
    "solution = Solution()\n",
    "solution.dailyTemperatures1([73,74,75,71,69,72,76,73])\n",
    "        "
   ]
  },
  {
   "cell_type": "markdown",
   "metadata": {},
   "source": [
    "901. Online Stock Span"
   ]
  },
  {
   "cell_type": "code",
   "execution_count": 34,
   "metadata": {},
   "outputs": [
    {
     "data": {
      "text/plain": [
       "4"
      ]
     },
     "execution_count": 34,
     "metadata": {},
     "output_type": "execute_result"
    }
   ],
   "source": [
    "''' \n",
    "Input\n",
    "[\"StockSpanner\", \"next\", \"next\", \"next\", \"next\", \"next\", \"next\", \"next\"]\n",
    "[[], [100], [80], [60], [70], [60], [75], [85]]\n",
    "Output\n",
    "[null, 1, 1, 1, 2, 1, 4, 6]\n",
    "'''\n",
    "\n",
    "class StockSpanner:\n",
    "\n",
    "    def __init__(self):\n",
    "        self.stack = []\n",
    "        \n",
    "\n",
    "    def next(self, price: int) -> int:\n",
    "        span = 1\n",
    "        while self.stack and self.stack[-1][0] <= price:\n",
    "            span += self.stack[-1][1]\n",
    "            self.stack.pop()\n",
    "        self.stack.append((price, span))\n",
    "        return span\n",
    "\n",
    "        \n",
    "\n",
    "\n",
    "# Your StockSpanner object will be instantiated and called as such:\n",
    "obj = StockSpanner()\n",
    "param_1 = obj.next(100)\n",
    "param_2 = obj.next(80)\n",
    "param_3 = obj.next(60)\n",
    "param_4 = obj.next(70)\n",
    "param_5 = obj.next(60)\n",
    "param_6 = obj.next(75)\n",
    "param_6"
   ]
  },
  {
   "cell_type": "markdown",
   "metadata": {},
   "source": [
    "456. 132 Pattern"
   ]
  },
  {
   "cell_type": "code",
   "execution_count": 57,
   "metadata": {},
   "outputs": [
    {
     "data": {
      "text/plain": [
       "True"
      ]
     },
     "execution_count": 57,
     "metadata": {},
     "output_type": "execute_result"
    }
   ],
   "source": [
    "''' \n",
    "Example 1:\n",
    "\n",
    "Input: nums = [1,2,3,4]\n",
    "Output: false\n",
    "Explanation: There is no 132 pattern in the sequence.\n",
    "'''\n",
    "\n",
    "class Solution:\n",
    "    def find132pattern(self, nums: List[int]) -> bool:\n",
    "        j = float(-1)\n",
    "        stack = []\n",
    "        for i in range(len(nums) - 1, -1, -1):\n",
    "            if nums[i] < j:\n",
    "                return True \n",
    "            while stack and stack[-1] < nums[i]:\n",
    "                j = stack.pop()\n",
    "            stack.append(nums[i])\n",
    "        return False \n",
    "\n",
    "solution = Solution()\n",
    "solution.find132pattern([1, 2, 4, 3])\n",
    "         "
   ]
  },
  {
   "cell_type": "markdown",
   "metadata": {},
   "source": [
    "1944. Number of Visible People in a Queue"
   ]
  },
  {
   "cell_type": "code",
   "execution_count": 59,
   "metadata": {},
   "outputs": [
    {
     "data": {
      "text/plain": [
       "[3, 1, 2, 1, 1, 0]"
      ]
     },
     "execution_count": 59,
     "metadata": {},
     "output_type": "execute_result"
    }
   ],
   "source": [
    "''' \n",
    "Input: heights = [10,6,8,5,11,9]\n",
    "Output: [3,1,2,1,1,0]\n",
    "Explanation:\n",
    "Person 0 can see person 1, 2, and 4.\n",
    "Person 1 can see person 2.\n",
    "Person 2 can see person 3 and 4.\n",
    "Person 3 can see person 4.\n",
    "Person 4 can see person 5.\n",
    "Person 5 can see no one since nobody is to the right of them.\n",
    "'''\n",
    "class Solution:\n",
    "    def canSeePersonsCount(self, heights: List[int]) -> List[int]:\n",
    "         stack = []\n",
    "         res = [0] * len(heights)\n",
    "         for i in range(len(heights) - 1, -1, -1):\n",
    "            count = 0\n",
    "            while stack and stack[-1] < heights[i]:\n",
    "                count += 1\n",
    "                stack.pop()\n",
    "            if stack:\n",
    "                count += 1 \n",
    "            stack.append(heights[i])\n",
    "            res[i] = count \n",
    "         return res\n",
    "    \n",
    "solution = Solution()\n",
    "solution.canSeePersonsCount([10,6,8,5,11,9])\n",
    "            \n",
    "                   "
   ]
  },
  {
   "cell_type": "markdown",
   "metadata": {},
   "source": [
    "84. Largest Rectangle in Histogram"
   ]
  },
  {
   "cell_type": "code",
   "execution_count": 70,
   "metadata": {},
   "outputs": [
    {
     "data": {
      "text/plain": [
       "10"
      ]
     },
     "execution_count": 70,
     "metadata": {},
     "output_type": "execute_result"
    }
   ],
   "source": [
    "'''  \n",
    "Input: heights = [2,1,5,6,2,3]\n",
    "Output: 10\n",
    "Explanation: The above is a histogram where width of each bar is 1.\n",
    "The largest rectangle is shown in the red area, which has an area = 10 units.\n",
    "'''\n",
    "class Solution:\n",
    "    def largestRectangleArea(self, heights: List[int]) -> int:\n",
    "        stack = []\n",
    "        max_area = 0\n",
    "        n = len(heights)\n",
    "        for i in range(n + 1):\n",
    "            h = heights[i] if i < n else 0\n",
    "            while stack and heights[stack[-1]] > h:\n",
    "                pop_index = stack.pop()\n",
    "                height = heights[pop_index]\n",
    "                if stack:\n",
    "                    width = i - stack[-1] - 1 \n",
    "                else:\n",
    "                    width = i \n",
    "                max_area = max(max_area, width * height)\n",
    "            stack.append(i)\n",
    "        return max_area \n",
    "    \n",
    "solution = Solution()\n",
    "solution.largestRectangleArea([2,1,5,6,2,3])\n",
    "\n",
    "        "
   ]
  },
  {
   "cell_type": "code",
   "execution_count": null,
   "metadata": {},
   "outputs": [],
   "source": []
  },
  {
   "cell_type": "code",
   "execution_count": null,
   "metadata": {},
   "outputs": [],
   "source": []
  },
  {
   "cell_type": "code",
   "execution_count": 80,
   "metadata": {},
   "outputs": [
    {
     "data": {
      "text/plain": [
       "2"
      ]
     },
     "execution_count": 80,
     "metadata": {},
     "output_type": "execute_result"
    }
   ],
   "source": [
    "from collections import deque\n",
    "\n",
    "class RecentCounter:\n",
    "\n",
    "    # def __init__(self):\n",
    "    #     self.queue = deque()\n",
    "        \n",
    "\n",
    "    # def ping(self, t: int) -> int:\n",
    "    #     self.queue.append(t)\n",
    "    #     while self.queue and self.queue[0] < (t - 3000):\n",
    "    #         self.queue.popleft()\n",
    "    #     return len(self.queue)\n",
    "\n",
    "    def __init__(self):\n",
    "        self.queue = []\n",
    "        self.start = 0 \n",
    "\n",
    "    def ping(self, t):\n",
    "        self.queue.append(t)\n",
    "        while self.queue[self.start] < t - 3000:\n",
    "            self.start += 1\n",
    "\n",
    "        return len(self.queue) - self.start\n",
    "        \n",
    "\n",
    "\n",
    "#Your RecentCounter object will be instantiated and called as such:\n",
    "obj = RecentCounter()\n",
    "param_1 = obj.ping(1)\n",
    "param_2 = obj.ping(30)\n",
    "param_2"
   ]
  },
  {
   "cell_type": "markdown",
   "metadata": {},
   "source": [
    "2073. Time Needed to Buy Tickets"
   ]
  },
  {
   "cell_type": "code",
   "execution_count": 94,
   "metadata": {},
   "outputs": [
    {
     "data": {
      "text/plain": [
       "6"
      ]
     },
     "execution_count": 94,
     "metadata": {},
     "output_type": "execute_result"
    }
   ],
   "source": [
    "''' \n",
    "Example 1:\n",
    "\n",
    "Input: tickets = [2,3,2], k = 2\n",
    "\n",
    "Output: 6\n",
    "\n",
    "Explanation:\n",
    "\n",
    "The queue starts as [2,3,2], where the kth person is underlined.\n",
    "After the person at the front has bought a ticket, the queue becomes [3,2,1] at 1 second.\n",
    "Continuing this process, the queue becomes [2,1,2] at 2 seconds.\n",
    "Continuing this process, the queue becomes [1,2,1] at 3 seconds.\n",
    "Continuing this process, the queue becomes [2,1] at 4 seconds. Note: the person at the front left the queue.\n",
    "Continuing this process, the queue becomes [1,1] at 5 seconds.\n",
    "Continuing this process, the queue becomes [1] at 6 seconds. The kth person has bought all their tickets, so return 6.\n",
    "'''\n",
    "from collections import deque\n",
    "class Solution:\n",
    "    def timeRequiredToBuy(self, tickets: List[int], k: int) -> int:\n",
    "        queue = deque([(i, t) for i, t in enumerate(tickets)])\n",
    "        result = 0\n",
    "        while len(queue) > 0:\n",
    "            i, t = queue.popleft()\n",
    "            result += 1\n",
    "            t -= 1\n",
    "            if t != 0:\n",
    "                queue.append((i, t))\n",
    "            if t == 0 and i == k:\n",
    "                return result\n",
    "            \n",
    "    def timeRequiredToBuyWithoutQueue(self, tickets: List[int], k: int) -> int:\n",
    "        queue = [(i, t) for i, t in enumerate(tickets)]\n",
    "        result = 0\n",
    "        while len(queue) > 0:\n",
    "            i, t = queue.pop(0)\n",
    "            result += 1\n",
    "            t -= 1\n",
    "            if t != 0:\n",
    "                queue.append((i, t))\n",
    "            if t == 0 and i == k:\n",
    "                return result\n",
    "            \n",
    "    def timeRequiredToBuy1(self, tickets: List[int], k: int) -> int:\n",
    "        result = 0\n",
    "        for i, t in enumerate(tickets):\n",
    "            if i <= k:\n",
    "                result += min(tickets[i], tickets[k])\n",
    "            else:\n",
    "                result += min(tickets[i], tickets[k] - 1)\n",
    "        return result\n",
    "        \n",
    "solution = Solution()\n",
    "solution.timeRequiredToBuy1([2, 3, 2], 2)\n"
   ]
  },
  {
   "cell_type": "markdown",
   "metadata": {},
   "source": [
    "950. Reveal Cards In Increasing Order"
   ]
  },
  {
   "cell_type": "code",
   "execution_count": null,
   "metadata": {},
   "outputs": [
    {
     "data": {
      "text/plain": [
       "[2, 13, 3, 11, 5, 17, 7]"
      ]
     },
     "execution_count": 97,
     "metadata": {},
     "output_type": "execute_result"
    }
   ],
   "source": [
    "''' \n",
    "Input: deck = [17,13,11,2,3,5,7]\n",
    "Output: [2,13,3,11,5,17,7]\n",
    "Explanation: \n",
    "We get the deck in the order [17,13,11,2,3,5,7] (this order does not matter), and reorder it.\n",
    "After reordering, the deck starts as [2,13,3,11,5,17,7], where 2 is the top of the deck.\n",
    "We reveal 2, and move 13 to the bottom.  The deck is now [3,11,5,17,7,13].\n",
    "We reveal 3, and move 11 to the bottom.  The deck is now [5,17,7,13,11].\n",
    "We reveal 5, and move 17 to the bottom.  The deck is now [7,13,11,17].\n",
    "We reveal 7, and move 13 to the bottom.  The deck is now [11,17,13].\n",
    "We reveal 11, and move 17 to the bottom.  The deck is now [13,17].\n",
    "We reveal 13, and move 17 to the bottom.  The deck is now [17].\n",
    "We reveal 17.\n",
    "Since all the cards revealed are in increasing order, the answer is correct.\n",
    "'''\n",
    "from collections import deque\n",
    "\n",
    "class Solution:\n",
    "    def deckRevealedIncreasing(self, deck: List[int]) -> List[int]:\n",
    "        deck.sort()\n",
    "        res = [0] * len(deck)\n",
    "        queue = [i for i in range(len(deck))]\n",
    "        for n in deck:\n",
    "            i = queue.pop(0)\n",
    "            res[i] = n\n",
    "            if queue:\n",
    "                queue.append(queue.pop(0))\n",
    "        return res \n",
    "    \n",
    "solution = Solution()\n",
    "solution.deckRevealedIncreasing([17,13,11,2,3,5,7])"
   ]
  },
  {
   "cell_type": "markdown",
   "metadata": {},
   "source": [
    "239. Sliding Window Maximum"
   ]
  },
  {
   "cell_type": "code",
   "execution_count": null,
   "metadata": {},
   "outputs": [
    {
     "name": "stdout",
     "output_type": "stream",
     "text": [
      "2\n",
      "3\n",
      "4\n",
      "5\n",
      "6\n",
      "7\n"
     ]
    },
    {
     "data": {
      "text/plain": [
       "[3, 3, 5, 5, 6, 7]"
      ]
     },
     "execution_count": 6,
     "metadata": {},
     "output_type": "execute_result"
    }
   ],
   "source": [
    "''' \n",
    "You are given an array of integers nums, there is a sliding window of size k which is moving from the very left of the array to the very right. You can only see the k numbers in the window. Each time the sliding window moves right by one position.\n",
    "\n",
    "Return the max sliding window.\n",
    "\n",
    "'''\n",
    "from collections import deque\n",
    "from typing import List\n",
    "\n",
    "class Solution:\n",
    "    def maxSlidingWindow(self, nums: List[int], k: int) -> List[int]:\n",
    "        queue = deque()\n",
    "        res = []\n",
    "        for i in range(len(nums)):\n",
    "            if queue and queue[0] < i - k + 1:\n",
    "                queue.popleft()\n",
    "            while queue and nums[queue[-1]] < nums[i]:\n",
    "                queue.pop()\n",
    "            queue.append(i)\n",
    "\n",
    "            if i >= k - 1:\n",
    "                res.append(nums[queue[0]])\n",
    "        return res \n",
    "solution = Solution()\n",
    "solution.maxSlidingWindow([1,3,-1,-3,5,3,6,7], 3)\n",
    "        "
   ]
  },
  {
   "cell_type": "markdown",
   "metadata": {},
   "source": [
    "1438. Longest Continuous Subarray With Absolute Diff Less Than or Equal to Limit"
   ]
  },
  {
   "cell_type": "code",
   "execution_count": 9,
   "metadata": {},
   "outputs": [
    {
     "data": {
      "text/plain": [
       "4"
      ]
     },
     "execution_count": 9,
     "metadata": {},
     "output_type": "execute_result"
    }
   ],
   "source": [
    "'''  \n",
    "Input: nums = [8,2,4,7], limit = 4\n",
    "Output: 2 \n",
    "Explanation: All subarrays are: \n",
    "[8] with maximum absolute diff |8-8| = 0 <= 4.\n",
    "[8,2] with maximum absolute diff |8-2| = 6 > 4. \n",
    "[8,2,4] with maximum absolute diff |8-2| = 6 > 4.\n",
    "[8,2,4,7] with maximum absolute diff |8-2| = 6 > 4.\n",
    "[2] with maximum absolute diff |2-2| = 0 <= 4.\n",
    "[2,4] with maximum absolute diff |2-4| = 2 <= 4.\n",
    "[2,4,7] with maximum absolute diff |2-7| = 5 > 4.\n",
    "[4] with maximum absolute diff |4-4| = 0 <= 4.\n",
    "[4,7] with maximum absolute diff |4-7| = 3 <= 4.\n",
    "[7] with maximum absolute diff |7-7| = 0 <= 4. \n",
    "Therefore, the size of the longest subarray is 2.\n",
    "'''\n",
    "from collections import deque\n",
    "\n",
    "class Solution:\n",
    "    def longestSubarray(self, nums: List[int], limit: int) -> int:\n",
    "        max_queue = deque()\n",
    "        min_queue = deque()\n",
    "        max_res = 0\n",
    "        left = 0\n",
    "        for right in range(len(nums)):\n",
    "            while max_queue and nums[max_queue[-1]] < nums[right]:\n",
    "                max_queue.pop()\n",
    "            max_queue.append(right)\n",
    "            \n",
    "            while min_queue and nums[min_queue[-1]] > nums[right]:\n",
    "                min_queue.pop()\n",
    "            min_queue.append(right)\n",
    "\n",
    "            while nums[max_queue[0]] - nums[min_queue[0]] > limit:\n",
    "                left += 1\n",
    "                if max_queue[0] < left:\n",
    "                    max_queue.popleft()\n",
    "                if min_queue[0] < left:\n",
    "                    min_queue.popleft()\n",
    "            max_res = max(max_res, right - left + 1)\n",
    "        return max_res\n",
    "    \n",
    "solution = Solution()\n",
    "solution.longestSubarray([10,1,2,4,7,2], 5)\n",
    "                "
   ]
  },
  {
   "cell_type": "markdown",
   "metadata": {},
   "source": [
    "1696. Jump Game VI"
   ]
  },
  {
   "cell_type": "code",
   "execution_count": 16,
   "metadata": {},
   "outputs": [
    {
     "name": "stdout",
     "output_type": "stream",
     "text": [
      "-1   1\n",
      "-2   1\n",
      "4   0\n",
      "-7   4\n",
      "3   4\n"
     ]
    },
    {
     "data": {
      "text/plain": [
       "7"
      ]
     },
     "execution_count": 16,
     "metadata": {},
     "output_type": "execute_result"
    }
   ],
   "source": [
    "'''\n",
    "Input: nums = [1,-1,-2,4,-7,3], k = 2\n",
    "Output: 7\n",
    "Explanation: You can choose your jumps forming the subsequence [1,-1,4,3] (underlined above). The sum is 7.\n",
    "'''\n",
    "from collections import deque\n",
    "\n",
    "class Solution:\n",
    "    def maxResult(self, nums: List[int], k: int) -> int:\n",
    "        queue = deque([0])\n",
    "        for i in range(1, len(nums)):\n",
    "            \n",
    "            print(nums[i] , ' ', nums[queue[0]])\n",
    "\n",
    "            nums[i] = nums[i] + nums[queue[0]]\n",
    "\n",
    "            if queue and queue[0] < i - k + 1:\n",
    "                queue.popleft()\n",
    "            \n",
    "\n",
    "            while queue and nums[i] >= nums[queue[-1]]:\n",
    "                queue.pop()\n",
    "            queue.append(i)\n",
    "        return nums[-1]\n",
    "    \n",
    "solution = Solution()\n",
    "solution.maxResult([1,-1,-2,4,-7,3], 2)\n",
    "        "
   ]
  },
  {
   "cell_type": "markdown",
   "metadata": {},
   "source": [
    "283. Move Zeroes"
   ]
  },
  {
   "cell_type": "code",
   "execution_count": 25,
   "metadata": {},
   "outputs": [
    {
     "data": {
      "text/plain": [
       "[1, 1, 0]"
      ]
     },
     "execution_count": 25,
     "metadata": {},
     "output_type": "execute_result"
    }
   ],
   "source": [
    "'''  \n",
    "Given an integer array nums, move all 0's to the end of it while maintaining the relative order of the non-zero elements.\n",
    "\n",
    "Note that you must do this in-place without making a copy of the array.\n",
    "Example 1:\n",
    "\n",
    "Input: nums = [0,1,0,3,12]\n",
    "Output: [1,3,12,0,0]\n",
    "'''\n",
    "\n",
    "class Solution:\n",
    "    def moveZeroes(self, nums: List[int]) -> None:\n",
    "        \"\"\"\n",
    "        Do not return anything, modify nums in-place instead.\n",
    "        \"\"\"\n",
    "        left = 0\n",
    "        for right in range(len(nums)):\n",
    "            if nums[left] == 0 and nums[right] !=0:\n",
    "                nums[left], nums[right] = nums[right], nums[left]\n",
    "\n",
    "            if nums[left] !=0:\n",
    "                left += 1\n",
    "        return nums\n",
    "\n",
    "solution = Solution()\n",
    "solution.moveZeroes([1, 0, 1])\n",
    "        "
   ]
  },
  {
   "cell_type": "markdown",
   "metadata": {},
   "source": [
    "169. Majority Element"
   ]
  },
  {
   "cell_type": "code",
   "execution_count": 42,
   "metadata": {},
   "outputs": [
    {
     "data": {
      "text/plain": [
       "2"
      ]
     },
     "execution_count": 42,
     "metadata": {},
     "output_type": "execute_result"
    }
   ],
   "source": [
    "class Solution:\n",
    "    def majorityElement(self, nums: List[int]) -> int:\n",
    "        hash_map = {}\n",
    "        for num in nums:\n",
    "            if num in hash_map:\n",
    "                hash_map[num] += 1\n",
    "            else:\n",
    "                hash_map[num] = 1\n",
    "        m = len(nums) // 2\n",
    "        for key, value in hash_map.items():\n",
    "            if value > m:\n",
    "                return key\n",
    "\n",
    "            \n",
    "solution = Solution()\n",
    "solution.majorityElement([2,2,1,1,1,2,2])"
   ]
  },
  {
   "cell_type": "markdown",
   "metadata": {},
   "source": [
    "26. Remove Duplicates from Sorted Array"
   ]
  },
  {
   "cell_type": "code",
   "execution_count": 53,
   "metadata": {},
   "outputs": [
    {
     "data": {
      "text/plain": [
       "5"
      ]
     },
     "execution_count": 53,
     "metadata": {},
     "output_type": "execute_result"
    }
   ],
   "source": [
    "''' \n",
    "Example 1:\n",
    "\n",
    "Input: nums = [1,1,2]\n",
    "Output: 2, nums = [1,2,_]\n",
    "Explanation: Your function should return k = 2, with the first two elements of nums being 1 and 2 respectively.\n",
    "It does not matter what you leave beyond the returned k (hence they are underscores).\n",
    "\n",
    "'''\n",
    "\n",
    "class Solution:\n",
    "    def removeDuplicates(self, nums: List[int]) -> int:\n",
    "        left = 0\n",
    "        for right in range(1, len(nums)):\n",
    "            if nums[left] != nums[right]:\n",
    "                nums[left+1], nums[right] = nums[right], nums[left+1]\n",
    "                left += 1\n",
    "        return left + 1\n",
    "\n",
    "solution = Solution()\n",
    "solution.removeDuplicates([0,0,1,1,1,2,2,3,3,4])"
   ]
  },
  {
   "cell_type": "markdown",
   "metadata": {},
   "source": [
    "121. Best Time to Buy and Sell Stock"
   ]
  },
  {
   "cell_type": "code",
   "execution_count": 54,
   "metadata": {},
   "outputs": [
    {
     "data": {
      "text/plain": [
       "5"
      ]
     },
     "execution_count": 54,
     "metadata": {},
     "output_type": "execute_result"
    }
   ],
   "source": [
    "''' \n",
    "Example 1:\n",
    "\n",
    "Input: prices = [7,1,5,3,6,4]\n",
    "Output: 5\n",
    "Explanation: Buy on day 2 (price = 1) and sell on day 5 (price = 6), profit = 6-1 = 5.\n",
    "Note that buying on day 2 and selling on day 1 is not allowed because you must buy before you sell.\n",
    "'''\n",
    "\n",
    "class Solution:\n",
    "    def maxProfit(self, prices: List[int]) -> int:\n",
    "        left = 0 \n",
    "        max_profit = 0\n",
    "        for right in range(1, len(prices)):\n",
    "            if prices[right] < prices[left]:\n",
    "                left = right \n",
    "            else:\n",
    "                max_profit = max(max_profit, prices[right] - prices[left])\n",
    "        return max_profit\n",
    "    \n",
    "solution = Solution()\n",
    "solution.maxProfit([7, 1, 5, 3, 6, 4])\n",
    "\n",
    "\n"
   ]
  },
  {
   "cell_type": "markdown",
   "metadata": {},
   "source": [
    "189. Rotate Array"
   ]
  },
  {
   "cell_type": "code",
   "execution_count": null,
   "metadata": {},
   "outputs": [
    {
     "name": "stdout",
     "output_type": "stream",
     "text": [
      "3\n",
      "[5, 6, 7, 1, 2, 3, 4]\n"
     ]
    }
   ],
   "source": [
    "''' \n",
    "Example 1:\n",
    "\n",
    "Input: nums = [1,2,3,4,5,6,7], k = 3\n",
    "Output: [5,6,7,1,2,3,4]\n",
    "Explanation:\n",
    "rotate 1 steps to the right: [7,1,2,3,4,5,6]\n",
    "rotate 2 steps to the right: [6,7,1,2,3,4,5]\n",
    "rotate 3 steps to the right: [5,6,7,1,2,3,4]\n",
    "'''\n",
    "\n",
    "class Solution:\n",
    "    def rotate(self, nums: List[int], k: int) -> None:\n",
    "        \"\"\"\n",
    "        Do not return anything, modify nums in-place instead.\n",
    "        \"\"\"\n",
    "        n = len(nums)\n",
    "        k = k % n\n",
    "        if k == 0:\n",
    "            return \n",
    "        temp = nums[-k:]\n",
    "        nums[k:] = nums[:-k]\n",
    "        nums[:k] = temp\n",
    "\n",
    "solution = Solution()\n",
    "solution.rotate([1,  2, 3, 4, 5, 6, 7], 3)\n",
    "\n",
    "        "
   ]
  },
  {
   "cell_type": "markdown",
   "metadata": {},
   "source": [
    "238. Product of Array Except Self"
   ]
  },
  {
   "cell_type": "code",
   "execution_count": null,
   "metadata": {},
   "outputs": [
    {
     "data": {
      "text/plain": [
       "[24, 12, 8, 6]"
      ]
     },
     "execution_count": 95,
     "metadata": {},
     "output_type": "execute_result"
    }
   ],
   "source": [
    "''' \n",
    "Example 1:\n",
    "\n",
    "Input: nums = [1,2,3,4]\n",
    "Output: [24,12,8,6]\n",
    "\n",
    "'''\n",
    "\n",
    "class Solution:\n",
    "    def productExceptSelf(self, nums: List[int]) -> List[int]:\n",
    "        prefix = [1] * len(nums)\n",
    "        prefix[0] = 1\n",
    "        res = [1] * len(nums)\n",
    "\n",
    "        for i in range(1, len(nums)):\n",
    "            prefix[i] = prefix[i - 1] * nums[i - 1]\n",
    "\n",
    "        suffix = [1] * len(nums)\n",
    "        suffix[len(nums) - 1] = 1\n",
    "        for i in range(len(nums) - 2, -1, -1):\n",
    "            suffix[i] = suffix[i + 1] * nums[i + 1]\n",
    "\n",
    "        for i in range(len(nums)):\n",
    "            res[i] = prefix[i] * suffix[i]\n",
    "\n",
    "        return res\n",
    "    \n",
    "    def productExceptSelf1(self, nums: List[int]) -> List[int]:\n",
    "        res = [1] * len(nums)\n",
    "        res[0] = 1\n",
    "\n",
    "        for i in range(1, len(nums)):\n",
    "            res[i] = res[i - 1] * nums[i - 1]\n",
    "        prod = 1\n",
    "        for i in range(len(nums) -1, -1, -1): \n",
    "            res[i] *= prod\n",
    "            prod *= nums[i]\n",
    "        return res\n",
    "solution = Solution()\n",
    "solution.productExceptSelf1([1, 2, 3, 4])\n",
    "\n",
    "        \n"
   ]
  },
  {
   "cell_type": "markdown",
   "metadata": {},
   "source": [
    "2348. Number of Zero-Filled Subarrays"
   ]
  },
  {
   "cell_type": "code",
   "execution_count": 96,
   "metadata": {},
   "outputs": [
    {
     "data": {
      "text/plain": [
       "6"
      ]
     },
     "execution_count": 96,
     "metadata": {},
     "output_type": "execute_result"
    }
   ],
   "source": [
    "''' \n",
    "Example 1:\n",
    "\n",
    "Input: nums = [1,3,0,0,2,0,0,4]\n",
    "Output: 6\n",
    "Explanation: \n",
    "There are 4 occurrences of [0] as a subarray.\n",
    "There are 2 occurrences of [0,0] as a subarray.\n",
    "There is no occurrence of a subarray with a size more than 2 filled with 0. Therefore, we return 6.\n",
    "\n",
    "'''\n",
    "\n",
    "class Solution:\n",
    "    def zeroFilledSubarray(self, nums: List[int]) -> int:\n",
    "        count = 0\n",
    "        res = 0\n",
    "        for num in nums:\n",
    "            if num == 0:\n",
    "                count += 1\n",
    "            else:\n",
    "                count = 0\n",
    "            res += count \n",
    "        return res \n",
    "    \n",
    "solution = Solution()\n",
    "solution.zeroFilledSubarray([1,3,0,0,2,0,0,4])\n",
    "\n"
   ]
  },
  {
   "cell_type": "markdown",
   "metadata": {},
   "source": [
    "334. Increasing Triplet Subsequence"
   ]
  },
  {
   "cell_type": "code",
   "execution_count": 114,
   "metadata": {},
   "outputs": [
    {
     "data": {
      "text/plain": [
       "True"
      ]
     },
     "execution_count": 114,
     "metadata": {},
     "output_type": "execute_result"
    }
   ],
   "source": [
    "''' \n",
    "Example 1:\n",
    "\n",
    "Input: nums = [1,2,3,4,5]\n",
    "Output: true\n",
    "Explanation: Any triplet where i < j < k is valid.\n",
    "'''\n",
    "\n",
    "class Solution:\n",
    "    def increasingTriplet(self, nums: List[int]) -> bool:\n",
    "        i = float('inf')\n",
    "        j = float('inf')\n",
    "        for num in nums:\n",
    "            if num <= i:\n",
    "                i = num \n",
    "            elif num <= j:\n",
    "                j = num \n",
    "            else:\n",
    "                return True\n",
    "        return False \n",
    "    \n",
    "\n",
    "solution = Solution()\n",
    "solution.increasingTriplet([1, 2, 3])"
   ]
  },
  {
   "cell_type": "markdown",
   "metadata": {},
   "source": [
    "122. Best Time to Buy and Sell Stock II"
   ]
  },
  {
   "cell_type": "code",
   "execution_count": 116,
   "metadata": {},
   "outputs": [
    {
     "data": {
      "text/plain": [
       "7"
      ]
     },
     "execution_count": 116,
     "metadata": {},
     "output_type": "execute_result"
    }
   ],
   "source": [
    "''' \n",
    "Example 1:\n",
    "\n",
    "Input: prices = [7,1,5,3,6,4]\n",
    "Output: 7\n",
    "Explanation: Buy on day 2 (price = 1) and sell on day 3 (price = 5), profit = 5-1 = 4.\n",
    "Then buy on day 4 (price = 3) and sell on day 5 (price = 6), profit = 6-3 = 3.\n",
    "Total profit is 4 + 3 = 7.\n",
    "\n",
    "'''\n",
    "\n",
    "class Solution:\n",
    "    def maxProfit(self, prices: List[int]) -> int:\n",
    "        profit = 0\n",
    "        for i in range(1, len(prices)):\n",
    "            if prices[i] > prices[i - 1]:\n",
    "                profit += (prices[i] - prices[i-1])\n",
    "        return profit \n",
    "    \n",
    "solution = Solution()\n",
    "solution.maxProfit([7,1,5,3,6,4])"
   ]
  },
  {
   "cell_type": "markdown",
   "metadata": {},
   "source": [
    "41. First Missing Positive"
   ]
  },
  {
   "cell_type": "code",
   "execution_count": 139,
   "metadata": {},
   "outputs": [
    {
     "name": "stdout",
     "output_type": "stream",
     "text": [
      "[-1, -2, 0]\n"
     ]
    },
    {
     "data": {
      "text/plain": [
       "3"
      ]
     },
     "execution_count": 139,
     "metadata": {},
     "output_type": "execute_result"
    }
   ],
   "source": [
    "''' \n",
    "Example 1:\n",
    "\n",
    "Input: nums = [1,2,0]\n",
    "Output: 3\n",
    "Explanation: The numbers in the range [1,2] are all in the array.\n",
    "'''\n",
    "\n",
    "class Solution:\n",
    "    def firstMissingPositive(self, nums: List[int]) -> int:\n",
    "        if len(nums) == 0:\n",
    "            return 1 \n",
    "        n = len(nums)\n",
    "        for i in range(n):\n",
    "            if nums[i] < 0:\n",
    "                nums[i] = 0\n",
    "\n",
    "        for i in range(n):\n",
    "            val = abs(nums[i])\n",
    "            if 1 <= val <= n + 1:\n",
    "                if nums[val - 1] > 0:\n",
    "                    nums[val - 1] *= -1 \n",
    "                elif nums[val - 1] == 0:\n",
    "                    nums[val - 1] = -1 * (n + 1)\n",
    "        print(nums)\n",
    "        for i in range(1, n+1):\n",
    "            if nums[i - 1] >= 0:\n",
    "                return i \n",
    "        return n + 1     \n",
    "\n",
    "\n",
    "\n",
    "\n",
    "solution = Solution()\n",
    "solution.firstMissingPositive([1,2,0])\n",
    "        \n"
   ]
  },
  {
   "cell_type": "markdown",
   "metadata": {},
   "source": [
    "392. Is Subsequence"
   ]
  },
  {
   "cell_type": "code",
   "execution_count": 147,
   "metadata": {},
   "outputs": [
    {
     "data": {
      "text/plain": [
       "False"
      ]
     },
     "execution_count": 147,
     "metadata": {},
     "output_type": "execute_result"
    }
   ],
   "source": [
    "''' \n",
    "Example 1:\n",
    "\n",
    "Input: s = \"abc\", t = \"ahbgdc\"\n",
    "Output: true\n",
    "Example 2:\n",
    "\n",
    "Input: s = \"axc\", t = \"ahbgdc\"\n",
    "Output: false\n",
    "'''\n",
    "\n",
    "class Solution:\n",
    "    def isSubsequence(self, s: str, t: str) -> bool:\n",
    "        left = 0\n",
    "        if len(s) > len(t):\n",
    "            return False\n",
    "        if len(s) == 0:\n",
    "            return True\n",
    "        for char in t:\n",
    "            if s[left] == char:\n",
    "                left += 1\n",
    "            if left == len(s):\n",
    "                return True \n",
    "        return False\n",
    "    \n",
    "solution = Solution()\n",
    "solution.isSubsequence(\"axc\", \"ahbgdc\")"
   ]
  },
  {
   "cell_type": "markdown",
   "metadata": {},
   "source": [
    "14. Longest Common Prefix"
   ]
  },
  {
   "cell_type": "code",
   "execution_count": 154,
   "metadata": {},
   "outputs": [
    {
     "data": {
      "text/plain": [
       "'fl'"
      ]
     },
     "execution_count": 154,
     "metadata": {},
     "output_type": "execute_result"
    }
   ],
   "source": [
    "'''\n",
    "Example 1:\n",
    "\n",
    "Input: strs = [\"flower\",\"flow\",\"flight\"]\n",
    "Output: \"fl\"\n",
    "'''\n",
    "\n",
    "class Solution:\n",
    "    def longestCommonPrefix(self, strs: List[str]) -> str:\n",
    "        strs = sorted(strs)\n",
    "        min_len = min(len(strs[0]), len(strs[-1]))\n",
    "        res = \"\"\n",
    "        for i in range(min_len):\n",
    "            if strs[0][i] == strs[-1][i]:\n",
    "                res += strs[0][i]\n",
    "            else:\n",
    "                return res\n",
    "        return res\n",
    "                 \n",
    "\n",
    "\n",
    "solution = Solution()\n",
    "solution.longestCommonPrefix([\"flower\",\"flow\",\"flight\"])"
   ]
  },
  {
   "cell_type": "markdown",
   "metadata": {},
   "source": [
    "125. Valid Palindrome"
   ]
  },
  {
   "cell_type": "code",
   "execution_count": 188,
   "metadata": {},
   "outputs": [
    {
     "data": {
      "text/plain": [
       "True"
      ]
     },
     "execution_count": 188,
     "metadata": {},
     "output_type": "execute_result"
    }
   ],
   "source": [
    "'''\n",
    "Example 1:\n",
    "\n",
    "Input: s = \"A man, a plan, a canal: Panama\"\n",
    "Output: true\n",
    "Explanation: \"amanaplanacanalpanama\" is a palindrome.\n",
    "'''\n",
    "\n",
    "class Solution:\n",
    "    def isPalindrome(self, s: str) -> bool:\n",
    "\n",
    "        def is_alpha_numeris(char):\n",
    "            if char.isdigit():\n",
    "                return True\n",
    "            ord_val = ord(char)\n",
    "            if ((ord_val >= 65 and ord_val <= 90) or (ord_val >=97 and ord_val <= 122)):\n",
    "                return True\n",
    "            return False\n",
    "        s = s.lower()\n",
    "        left = 0\n",
    "        right = len(s) - 1 \n",
    "        print(s)\n",
    "        while left < right: \n",
    "            if not is_alpha_numeris(s[left]):\n",
    "                left += 1 \n",
    "            elif not is_alpha_numeris(s[right]):\n",
    "                right -= 1\n",
    "            elif s[left] != s[right]:\n",
    "                return False\n",
    "            else:\n",
    "                left += 1\n",
    "                right -= 1\n",
    "        return True\n",
    "\n",
    "class Solution:\n",
    "    def isPalindrome(self, s: str) -> bool:\n",
    "        i, j = 0, len(s) - 1\n",
    "        while i < j:\n",
    "            while i < j and not s[i].isalnum(): i += 1\n",
    "            while i < j and not s[j].isalnum(): j -= 1\n",
    "\n",
    "            if s[i].lower() != s[j].lower(): return False\n",
    "            i += 1\n",
    "            j -= 1\n",
    "\n",
    "        return True\n",
    "\n",
    "\n",
    "\n",
    "solution = Solution()\n",
    "solution.isPalindrome(\"A man, a plan, a canal: Panama\")"
   ]
  },
  {
   "cell_type": "markdown",
   "metadata": {},
   "source": [
    "151. Reverse Words in a String"
   ]
  },
  {
   "cell_type": "code",
   "execution_count": 196,
   "metadata": {},
   "outputs": [
    {
     "data": {
      "text/plain": [
       "'the sky is blue'"
      ]
     },
     "execution_count": 196,
     "metadata": {},
     "output_type": "execute_result"
    }
   ],
   "source": [
    "'''\n",
    "Example 1:\n",
    "\n",
    "Input: s = \"the sky is blue\"\n",
    "Output: \"blue is sky the\"\n",
    "Example 2:\n",
    "\n",
    "Input: s = \"  hello world  \"\n",
    "Output: \"world hello\"\n",
    "'''\n",
    "\n",
    "class Solution:\n",
    "    def reverseWords(self, s: str) -> str:\n",
    "        list = s.split()\n",
    "        res = []\n",
    "        for i in range(len(list) - 1, -1, -1):\n",
    "            res.append(list[i])\n",
    "        return \" \".join(res)\n",
    "\n",
    "solution = Solution()\n",
    "solution.reverseWords(\"blue is sky the\")"
   ]
  },
  {
   "cell_type": "markdown",
   "metadata": {},
   "source": [
    "6. Zigzag Conversion"
   ]
  },
  {
   "cell_type": "code",
   "execution_count": 199,
   "metadata": {},
   "outputs": [
    {
     "data": {
      "text/plain": [
       "'PINALSIGYAHRPI'"
      ]
     },
     "execution_count": 199,
     "metadata": {},
     "output_type": "execute_result"
    }
   ],
   "source": [
    "'''\n",
    "Example 1:\n",
    "\n",
    "Input: s = \"PAYPALISHIRING\", numRows = 3\n",
    "Output: \"PAHNAPLSIIGYIR\"\n",
    "Example 2:\n",
    "\n",
    "Input: s = \"PAYPALISHIRING\", numRows = 4\n",
    "Output: \"PINALSIGYAHRPI\"\n",
    "Explanation:\n",
    "P     I    N\n",
    "A   L S  I G\n",
    "Y A   H R\n",
    "P     I\n",
    "'''\n",
    "\n",
    "class Solution:\n",
    "    def convert(self, s: str, numRows: int) -> str:\n",
    "        if numRows == 1 or numRows >= len(s):\n",
    "            return s \n",
    "        rows = [\"\"] * numRows \n",
    "        row, step = 0, 1 \n",
    "        for char in s:\n",
    "            rows[row] += char \n",
    "            if row == 0:\n",
    "                step = 1\n",
    "            elif row == numRows - 1:\n",
    "                step = -1\n",
    "            row += step\n",
    "        return \"\".join(rows)\n",
    "    \n",
    "solution = Solution()\n",
    "solution.convert(\"PAYPALISHIRING\", 4)\n"
   ]
  },
  {
   "cell_type": "markdown",
   "metadata": {},
   "source": [
    "##### HashMap Prpblems"
   ]
  },
  {
   "cell_type": "markdown",
   "metadata": {},
   "source": [
    "1189. Maximum Number of Balloons"
   ]
  },
  {
   "cell_type": "code",
   "execution_count": 11,
   "metadata": {},
   "outputs": [
    {
     "data": {
      "text/plain": [
       "0"
      ]
     },
     "execution_count": 11,
     "metadata": {},
     "output_type": "execute_result"
    }
   ],
   "source": [
    "''' \n",
    "Example 1:\n",
    "\n",
    "\n",
    "\n",
    "Input: text = \"nlaebolko\"\n",
    "Output: 1\n",
    "'''\n",
    "from collections import Counter\n",
    "class Solution:\n",
    "    def maxNumberOfBalloons(self, text: str) -> int:\n",
    "        balloon = Counter('balloon')\n",
    "        textCounter = Counter(text)\n",
    "        res = len(text)\n",
    "        for c in balloon:\n",
    "            res = min(res, textCounter[c] // balloon[c])\n",
    "        return res\n",
    "    \n",
    "solution = Solution()\n",
    "solution.maxNumberOfBalloons('lloo')\n",
    "\n",
    "\n",
    "        "
   ]
  },
  {
   "cell_type": "code",
   "execution_count": 12,
   "metadata": {},
   "outputs": [],
   "source": [
    "class ListNode:\n",
    "    def __init__(self, key=-1, val=-1, next=None):\n",
    "        self.key = key \n",
    "        self.val = val\n",
    "        self.next = next\n",
    "\n",
    "class MyHashMap:\n",
    "\n",
    "    def __init__(self):\n",
    "        self.hash_map = [ListNode() for _ in range(1000)]\n",
    "\n",
    "    def hash(self, key):\n",
    "        return key % len(self.hash_map)\n",
    "        \n",
    "\n",
    "    def put(self, key: int, value: int) -> None:\n",
    "        cur = self.hash_map[self.hash(key)]\n",
    "        while cur.next:\n",
    "            if cur.next.key == key:\n",
    "                cur.next.val = value\n",
    "                return \n",
    "            cur = cur.next\n",
    "        cur.next = ListNode(key, value)\n",
    "        \n",
    "        \n",
    "\n",
    "    def get(self, key: int) -> int:\n",
    "        cur = self.hash_map[self.hash(key)].next\n",
    "        while cur:\n",
    "            if cur.key == key:\n",
    "                return cur.val \n",
    "            cur = cur.next \n",
    "        return -1\n",
    "        \n",
    "\n",
    "    def remove(self, key: int) -> None:\n",
    "        cur = self.hash_map[self.hash(key)]\n",
    "        while cur and cur.next:\n",
    "            if cur.next.key == key:\n",
    "                cur.next = cur.next.next \n",
    "                return \n",
    "            cur = cur.next \n",
    "        \n",
    "\n",
    "\n",
    "# Your MyHashMap object will be instantiated and called as such:\n",
    "# obj = MyHashMap()\n",
    "# obj.put(key,value)\n",
    "# param_2 = obj.get(key)\n",
    "# obj.remove(key)"
   ]
  },
  {
   "cell_type": "code",
   "execution_count": null,
   "metadata": {},
   "outputs": [
    {
     "ename": "SyntaxError",
     "evalue": "invalid syntax (3344457407.py, line 1)",
     "output_type": "error",
     "traceback": [
      "\u001b[1;36m  Cell \u001b[1;32mIn[13], line 1\u001b[1;36m\u001b[0m\n\u001b[1;33m    1512. Number of Good Pairs\u001b[0m\n\u001b[1;37m          ^\u001b[0m\n\u001b[1;31mSyntaxError\u001b[0m\u001b[1;31m:\u001b[0m invalid syntax\n"
     ]
    }
   ],
   "source": []
  },
  {
   "cell_type": "markdown",
   "metadata": {},
   "source": [
    "1512. Number of Good Pairs"
   ]
  },
  {
   "cell_type": "code",
   "execution_count": 18,
   "metadata": {},
   "outputs": [
    {
     "data": {
      "text/plain": [
       "4"
      ]
     },
     "execution_count": 18,
     "metadata": {},
     "output_type": "execute_result"
    }
   ],
   "source": [
    "''' \n",
    "Given an array of integers nums, return the number of good pairs.\n",
    "\n",
    "A pair (i, j) is called good if nums[i] == nums[j] and i < j.\n",
    "\n",
    " \n",
    "\n",
    "Example 1:\n",
    "\n",
    "Input: nums = [1,2,3,1,1,3]\n",
    "Output: 4\n",
    "Explanation: There are 4 good pairs (0,3), (0,4), (3,4), (2,5) 0-indexed.\n",
    "'''\n",
    "\n",
    "from collections import Counter\n",
    "from typing import List\n",
    "\n",
    "class Solution:\n",
    "    def numIdenticalPairs(self, nums: List[int]) -> int:\n",
    "        hash_map = Counter(nums)\n",
    "        res = 0\n",
    "        for _, value in hash_map.items():\n",
    "            count = value * (value - 1) // 2\n",
    "            res = res + count \n",
    "        return res \n",
    "    \n",
    "    def numIdenticalPairs(self, nums: List[int]) -> int:\n",
    "        hash_map = {}\n",
    "        res = 0\n",
    "        for num in nums:\n",
    "            if num in hash_map:\n",
    "                res = res + hash_map[num]\n",
    "                hash_map[num] = hash_map[num] + 1\n",
    "            else:\n",
    "                hash_map[num] = 1\n",
    "        return res\n",
    "    \n",
    "\n",
    "solution = Solution()\n",
    "solution.numIdenticalPairs([1,2,3,1,1,3])\n",
    "            \n",
    "\n",
    "        "
   ]
  },
  {
   "cell_type": "markdown",
   "metadata": {},
   "source": [
    "205. Isomorphic Strings"
   ]
  },
  {
   "cell_type": "code",
   "execution_count": null,
   "metadata": {},
   "outputs": [
    {
     "data": {
      "text/plain": [
       "True"
      ]
     },
     "execution_count": 21,
     "metadata": {},
     "output_type": "execute_result"
    }
   ],
   "source": [
    "''' \n",
    "Two strings s and t are isomorphic if the characters in s can be replaced to get t.\n",
    "\n",
    "All occurrences of a character must be replaced with another character while preserving the order of characters. No two characters may map to the same character, but a character may map to itself.\n",
    "\n",
    " \n",
    "\n",
    "Example 1:\n",
    "\n",
    "Input: s = \"egg\", t = \"add\"\n",
    "\n",
    "Output: true\n",
    "'''\n",
    "\n",
    "class Solution:\n",
    "    def isIsomorphic(self, s: str, t: str) -> bool:\n",
    "        mapST, mapTS = {}, {}\n",
    "        for i in range(len(s)):\n",
    "            c1, c2 = s[i], t[i]\n",
    "            if (c1 in mapST and mapST[c1] != c2) or (c2 in mapTS and mapTS[c2] != c1):\n",
    "                return False \n",
    "            mapST[c1] = c2 \n",
    "            mapTS[c2] = c1 \n",
    "        return True \n",
    "    \n",
    "    def isIsomorphic(self, s: str, t: str) -> bool:\n",
    "        mapST, mapTS = {}, {}\n",
    "        for c1, c2 in zip(s, t):\n",
    "            if (c1 in mapST and mapST[c1] != c2) or (c2 in mapTS and mapTS[c2] != c1):\n",
    "                return False \n",
    "            mapST[c1] = c2 \n",
    "            mapTS[c2] = c1 \n",
    "        return True \n",
    "    \n",
    "solution = Solution()\n",
    "solution.isIsomorphic('egg', 'add')"
   ]
  },
  {
   "cell_type": "markdown",
   "metadata": {},
   "source": [
    "383. Ransom Note"
   ]
  },
  {
   "cell_type": "code",
   "execution_count": 24,
   "metadata": {},
   "outputs": [
    {
     "data": {
      "text/plain": [
       "True"
      ]
     },
     "execution_count": 24,
     "metadata": {},
     "output_type": "execute_result"
    }
   ],
   "source": [
    "''' \n",
    "Given two strings ransomNote and magazine, return true if ransomNote can be constructed by using the letters from magazine and false otherwise.\n",
    "\n",
    "Each letter in magazine can only be used once in ransomNote.\n",
    "\n",
    " \n",
    "\n",
    "Example 1:\n",
    "\n",
    "Input: ransomNote = \"a\", magazine = \"b\"\n",
    "Output: false\n",
    "'''\n",
    "\n",
    "from collections import Counter\n",
    "class Solution:\n",
    "    def canConstruct(self, ransomNote: str, magazine: str) -> bool:\n",
    "        ransomCounter = Counter(ransomNote) \n",
    "        magazineCounter = Counter(magazine)\n",
    "        for key, value in ransomCounter.items():\n",
    "            if key in magazineCounter and magazineCounter[key] >= ransomCounter[key]:\n",
    "                continue \n",
    "            else:\n",
    "                return False \n",
    "        return True \n",
    "solution = Solution()\n",
    "solution.canConstruct('aa', 'aab')"
   ]
  },
  {
   "cell_type": "markdown",
   "metadata": {},
   "source": [
    "219. Contains Duplicate II"
   ]
  },
  {
   "cell_type": "code",
   "execution_count": 28,
   "metadata": {},
   "outputs": [
    {
     "data": {
      "text/plain": [
       "False"
      ]
     },
     "execution_count": 28,
     "metadata": {},
     "output_type": "execute_result"
    }
   ],
   "source": [
    "''' \n",
    "Given an integer array nums and an integer k, return true if there are two distinct indices i and j in the array such that nums[i] == nums[j] and abs(i - j) <= k.\n",
    "\n",
    " \n",
    "\n",
    "Example 1:\n",
    "\n",
    "Input: nums = [1,2,3,1], k = 3\n",
    "Output: true\n",
    "'''\n",
    "\n",
    "class Solution:\n",
    "    def containsNearbyDuplicate(self, nums: List[int], k: int) -> bool:\n",
    "        hash_map = {}\n",
    "        for i, num in enumerate(nums):\n",
    "            if num in hash_map and i - hash_map[num] <= k:\n",
    "                print(num)\n",
    "                return True\n",
    "            else:\n",
    "                hash_map[num] = i \n",
    "        return False \n",
    "    \n",
    "\n",
    "solution = Solution()\n",
    "solution.containsNearbyDuplicate([1,2,3,1,2,3], 2)\n"
   ]
  },
  {
   "cell_type": "markdown",
   "metadata": {},
   "source": [
    "49. Group Anagrams"
   ]
  },
  {
   "cell_type": "code",
   "execution_count": 40,
   "metadata": {},
   "outputs": [
    {
     "data": {
      "text/plain": [
       "[['eat', 'tea', 'ate'], ['tan', 'nat'], ['bat']]"
      ]
     },
     "execution_count": 40,
     "metadata": {},
     "output_type": "execute_result"
    }
   ],
   "source": [
    "''' \n",
    "Given an array of strings strs, group the \n",
    "anagrams\n",
    " together. You can return the answer in any order.\n",
    "\n",
    " \n",
    "\n",
    "Example 1:\n",
    "\n",
    "Input: strs = [\"eat\",\"tea\",\"tan\",\"ate\",\"nat\",\"bat\"]\n",
    "\n",
    "Output: [[\"bat\"],[\"nat\",\"tan\"],[\"ate\",\"eat\",\"tea\"]]\n",
    "\n",
    "Explanation:\n",
    "\n",
    "There is no string in strs that can be rearranged to form \"bat\".\n",
    "The strings \"nat\" and \"tan\" are anagrams as they can be rearranged to form each other.\n",
    "The strings \"ate\", \"eat\", and \"tea\" are anagrams as they can be rearranged to form each other.\n",
    "\n",
    "'''\n",
    "\n",
    "class Solution:\n",
    "    def sort(self, string):\n",
    "        return \"\".join(sorted(string))\n",
    "    def groupAnagrams(self, strs: List[str]) -> List[List[str]]:\n",
    "        hash_map = {}\n",
    "        for string in strs:\n",
    "            sorted_string = self.sort(string)\n",
    "            if sorted_string in hash_map:\n",
    "                hash_map.get(sorted_string).append(string)\n",
    "            else:\n",
    "                hash_map[sorted_string] = [string]\n",
    "        return [i for i in hash_map.values()]\n",
    "    \n",
    "solution = Solution()\n",
    "solution.groupAnagrams([\"eat\",\"tea\",\"tan\",\"ate\",\"nat\",\"bat\"])\n"
   ]
  },
  {
   "cell_type": "markdown",
   "metadata": {},
   "source": [
    "535. Encode and Decode TinyURL"
   ]
  },
  {
   "cell_type": "code",
   "execution_count": 43,
   "metadata": {},
   "outputs": [
    {
     "data": {
      "text/plain": [
       "'https://leetcode.com/problems/design-tinyurl'"
      ]
     },
     "execution_count": 43,
     "metadata": {},
     "output_type": "execute_result"
    }
   ],
   "source": [
    "'''\n",
    "Example 1:\n",
    "\n",
    "Input: url = \"https://leetcode.com/problems/design-tinyurl\"\n",
    "Output: \"https://leetcode.com/problems/design-tinyurl\"\n",
    "\n",
    "Explanation:\n",
    "Solution obj = new Solution();\n",
    "string tiny = obj.encode(url); // returns the encoded tiny url.\n",
    "string ans = obj.decode(tiny); // returns the original url after decoding it.\n",
    "\n",
    "'''\n",
    "\n",
    "class Codec:\n",
    "\n",
    "    def __init__(self):\n",
    "        self.encode_map = {}\n",
    "        self.decode_map = {}\n",
    "        self.base = 'http://tinyurl.com/'\n",
    "\n",
    "    def encode(self, longUrl: str) -> str:\n",
    "        \"\"\"Encodes a URL to a shortened URL.\n",
    "        \"\"\"\n",
    "        if longUrl not in self.encode_map:\n",
    "            tiny_url = self.base + str(len(self.encode_map) + 1)\n",
    "            self.encode_map[longUrl] = tiny_url\n",
    "            self.decode_map[tiny_url] = longUrl\n",
    "        return self.encode_map[longUrl]\n",
    "\n",
    "        \n",
    "\n",
    "    def decode(self, shortUrl: str) -> str:\n",
    "        \"\"\"Decodes a shortened URL to its original URL.\n",
    "        \"\"\"\n",
    "        return self.decode_map[shortUrl]\n",
    "        \n",
    "\n",
    "# Your Codec object will be instantiated and called as such:\n",
    "codec = Codec()\n",
    "codec.decode(codec.encode('https://leetcode.com/problems/design-tinyurl'))"
   ]
  },
  {
   "cell_type": "markdown",
   "metadata": {},
   "source": [
    "767. Reorganize String"
   ]
  },
  {
   "cell_type": "code",
   "execution_count": 58,
   "metadata": {},
   "outputs": [
    {
     "data": {
      "text/plain": [
       "'aba'"
      ]
     },
     "execution_count": 58,
     "metadata": {},
     "output_type": "execute_result"
    }
   ],
   "source": [
    "''' \n",
    "Example 1:\n",
    "\n",
    "Input: s = \"aab\"\n",
    "Output: \"aba\"\n",
    "'''\n",
    "import heapq\n",
    "from collections import Counter\n",
    "class Solution:\n",
    "    def reorganizeString(self, s: str) -> str:\n",
    "        counter = Counter(s)\n",
    "        maxHeap = [[-cnt, char] for char, cnt in counter.items()]\n",
    "        heapq.heapify(maxHeap)\n",
    "        prev = None\n",
    "        res = \"\"\n",
    "        while maxHeap or prev:\n",
    "            if prev and not maxHeap:\n",
    "                return \"\"\n",
    "            cnt, char = heapq.heappop(maxHeap)\n",
    "            res += char \n",
    "            cnt += 1\n",
    "            if prev:\n",
    "                heapq.heappush(maxHeap, prev)\n",
    "                prev = None\n",
    "            if cnt != 0:\n",
    "                prev = [cnt, char]\n",
    "\n",
    "        return res\n",
    "        \n",
    "solution = Solution()\n",
    "solution.reorganizeString(\"aba\")"
   ]
  },
  {
   "cell_type": "markdown",
   "metadata": {},
   "source": [
    "128. Longest Consecutive Sequence"
   ]
  },
  {
   "cell_type": "code",
   "execution_count": 64,
   "metadata": {},
   "outputs": [
    {
     "data": {
      "text/plain": [
       "9"
      ]
     },
     "execution_count": 64,
     "metadata": {},
     "output_type": "execute_result"
    }
   ],
   "source": [
    "'''\n",
    "Example 1:\n",
    "\n",
    "Input: nums = [100,4,200,1,3,2]\n",
    "Output: 4\n",
    "Explanation: The longest consecutive elements sequence is [1, 2, 3, 4]. Therefore its length is 4.\n",
    "'''\n",
    "\n",
    "class Solution:\n",
    "    def longestConsecutive(self, nums: List[int]) -> int:\n",
    "        numSet = set(nums)\n",
    "        longest = 0 \n",
    "        for num in numSet:\n",
    "            if (num - 1) not in numSet:\n",
    "                length = 0\n",
    "                while (num + length) in numSet:\n",
    "                    length += 1 \n",
    "                longest = max(longest, length)\n",
    "        return longest \n",
    "    \n",
    "solution = Solution()\n",
    "solution.longestConsecutive([0,3,7,2,5,8,4,6,0,1])"
   ]
  },
  {
   "cell_type": "markdown",
   "metadata": {},
   "source": [
    "659. Split Array into Consecutive Subsequences"
   ]
  },
  {
   "cell_type": "code",
   "execution_count": 80,
   "metadata": {},
   "outputs": [
    {
     "data": {
      "text/plain": [
       "True"
      ]
     },
     "execution_count": 80,
     "metadata": {},
     "output_type": "execute_result"
    }
   ],
   "source": [
    "''' \n",
    "Example 1:\n",
    "\n",
    "Input: nums = [1,2,3,3,4,5]\n",
    "Output: true\n",
    "Explanation: nums can be split into the following subsequences:\n",
    "[1,2,3,3,4,5] --> 1, 2, 3\n",
    "[1,2,3,3,4,5] --> 3, 4, 5\n",
    "'''\n",
    "from collections import Counter\n",
    "class Solution:\n",
    "    def isPossible(self, nums):\n",
    "        freq = Counter(nums)  # Frequency of each number\n",
    "        need = Counter()      # Tracks end of subsequences\n",
    "        \n",
    "        for num in nums:\n",
    "            if freq[num] == 0:\n",
    "                continue\n",
    "            \n",
    "            # If num can extend an existing sequence\n",
    "            if need[num] > 0:\n",
    "                need[num] -= 1\n",
    "                need[num + 1] += 1  # Extend sequence\n",
    "            \n",
    "            # If num can start a new sequence\n",
    "            elif freq[num + 1] > 0 and freq[num + 2] > 0:\n",
    "                \n",
    "                freq[num + 1] -= 1\n",
    "                freq[num + 2] -= 1\n",
    "                need[num + 3] += 1  # New sequence ending at num+3\n",
    "            \n",
    "            else:\n",
    "                return False  # Cannot form valid subsequence\n",
    "            freq[num] -= 1  # Mark this num as used\n",
    "        return True\n",
    "\n",
    "\n",
    "solution = Solution()\n",
    "solution.isPossible([1,2,3,4, 5, 6])\n"
   ]
  },
  {
   "cell_type": "markdown",
   "metadata": {},
   "source": [
    "### Two Pointers"
   ]
  },
  {
   "cell_type": "markdown",
   "metadata": {},
   "source": [
    "167. Two Sum II - Input Array Is Sorted"
   ]
  },
  {
   "cell_type": "code",
   "execution_count": 83,
   "metadata": {},
   "outputs": [
    {
     "data": {
      "text/plain": [
       "[1, 2]"
      ]
     },
     "execution_count": 83,
     "metadata": {},
     "output_type": "execute_result"
    }
   ],
   "source": [
    "'''\n",
    "Example 1:\n",
    "\n",
    "Input: numbers = [2,7,11,15], target = 9\n",
    "Output: [1,2]\n",
    "Explanation: The sum of 2 and 7 is 9. Therefore, index1 = 1, index2 = 2. We return [1, 2].\n",
    "\n",
    "'''\n",
    "class Solution:\n",
    "    def twoSum(self, numbers: List[int], target: int) -> List[int]:\n",
    "        left = 0\n",
    "        right = len(numbers) - 1\n",
    "        while left < right:\n",
    "            sum = numbers[left] + numbers[right]\n",
    "            if sum == target:\n",
    "                return [left + 1, right + 1]\n",
    "            elif sum < target:\n",
    "                left += 1 \n",
    "            else:\n",
    "                right -= 1 \n",
    "        return [-1, -1]\n",
    "    \n",
    "\n",
    "solution = Solution()\n",
    "solution.twoSum([2, 7, 11, 15], 9)\n"
   ]
  },
  {
   "cell_type": "markdown",
   "metadata": {},
   "source": [
    "11. Container With Most Water"
   ]
  },
  {
   "cell_type": "code",
   "execution_count": 92,
   "metadata": {},
   "outputs": [
    {
     "data": {
      "text/plain": [
       "49"
      ]
     },
     "execution_count": 92,
     "metadata": {},
     "output_type": "execute_result"
    }
   ],
   "source": [
    "''' \n",
    "Input: height = [1,8,6,2,5,4,8,3,7]\n",
    "Output: 49\n",
    "Explanation: The above vertical lines are represented by array [1,8,6,2,5,4,8,3,7]. In this case, the max area of water (blue section) the container can contain is 49.\n",
    "'''\n",
    "\n",
    "class Solution:\n",
    "    def maxArea(self, height: List[int]) -> int:\n",
    "        left = 0 \n",
    "        right = len(height) - 1\n",
    "        max_container = 0\n",
    "        while left < right:\n",
    "            max_container = max(max_container, (right - left) * min(height[left], height[right]))\n",
    "            if height[left] > height[right]:\n",
    "                right -= 1 \n",
    "            else:\n",
    "                left += 1\n",
    "            \n",
    "        return max_container\n",
    "    \n",
    "\n",
    "solution = Solution()\n",
    "solution.maxArea([1,8,6,2,5,4,8,3,7])\n"
   ]
  },
  {
   "cell_type": "markdown",
   "metadata": {},
   "source": [
    "88. Merge Sorted Array\n"
   ]
  },
  {
   "cell_type": "code",
   "execution_count": 108,
   "metadata": {},
   "outputs": [
    {
     "data": {
      "text/plain": [
       "[1, 2]"
      ]
     },
     "execution_count": 108,
     "metadata": {},
     "output_type": "execute_result"
    }
   ],
   "source": [
    "''' \n",
    "Example 1:\n",
    "\n",
    "Input: nums1 = [1,2,3,0,0,0], m = 3, nums2 = [2,5,6], n = 3\n",
    "Output: [1,2,2,3,5,6]\n",
    "Explanation: The arrays we are merging are [1,2,3] and [2,5,6].\n",
    "The result of the merge is [1,2,2,3,5,6] with the underlined elements coming from nums1.\n",
    "\n",
    "'''\n",
    "\n",
    "class Solution:\n",
    "    def merge(self, nums1: List[int], m: int, nums2: List[int], n: int) -> None:\n",
    "        \"\"\"\n",
    "        Do not return anything, modify nums1 in-place instead.\n",
    "        \"\"\"\n",
    "        r = m + n - 1\n",
    "        while m > 0 and n > 0:\n",
    "            if nums1[m-1] < nums2[n-1]:\n",
    "                nums1[r] = nums2[n-1]\n",
    "                n -= 1\n",
    "            else:\n",
    "                nums1[r] = nums1[m-1]\n",
    "                m -= 1\n",
    "            r -= 1\n",
    "\n",
    "        while n > 0:\n",
    "            nums1[r] = nums2[n - 1]\n",
    "            n, r = n-1, r-1\n",
    "        return nums1 \n",
    "    \n",
    "solution = Solution()\n",
    "solution.merge([2, 0], 1, [1], 1)\n",
    "\n",
    "\n"
   ]
  },
  {
   "cell_type": "markdown",
   "metadata": {},
   "source": [
    "15. 3Sum"
   ]
  },
  {
   "cell_type": "code",
   "execution_count": 124,
   "metadata": {},
   "outputs": [
    {
     "data": {
      "text/plain": [
       "[[-1, 0, 1], [-1, -1, 2]]"
      ]
     },
     "execution_count": 124,
     "metadata": {},
     "output_type": "execute_result"
    }
   ],
   "source": [
    "''' \n",
    "Input: nums = [-1,0,1,2,-1,-4]\n",
    "Output: [[-1,-1,2],[-1,0,1]]\n",
    "Explanation: \n",
    "nums[0] + nums[1] + nums[2] = (-1) + 0 + 1 = 0.\n",
    "nums[1] + nums[2] + nums[4] = 0 + 1 + (-1) = 0.\n",
    "nums[0] + nums[3] + nums[4] = (-1) + 2 + (-1) = 0.\n",
    "The distinct triplets are [-1,0,1] and [-1,-1,2].\n",
    "Notice that the order of the output and the order of the triplets does not matter.\n",
    "\n",
    "'''\n",
    "class Solution:\n",
    "    def threeSum(self, nums: List[int]) -> List[List[int]]:\n",
    "        result_set = []\n",
    "        nums.sort()\n",
    "        for start in range(len(nums) - 2):\n",
    "            if start>0 and nums[start]==nums[start-1]:\n",
    "                continue\n",
    "            left = start + 1\n",
    "            right = len(nums) - 1 \n",
    "            while left < right:\n",
    "                current_sum = nums[start] + nums[left] + nums[right]\n",
    "                if current_sum == 0:\n",
    "                    result_set.append([nums[start], nums[left], nums[right]])\n",
    "                    left += 1\n",
    "                    right -= 1\n",
    "                elif current_sum > 0:\n",
    "                    right -= 1\n",
    "                else:\n",
    "                    left += 1\n",
    "        return  [list(li) for li in {tuple(arr) for arr in result_set}]\n",
    "    \n",
    "solution = Solution()\n",
    "solution.threeSum([-1,0,1,2,-1,-4])"
   ]
  },
  {
   "cell_type": "markdown",
   "metadata": {},
   "source": [
    "42. Trapping Rain Water"
   ]
  },
  {
   "cell_type": "code",
   "execution_count": 132,
   "metadata": {},
   "outputs": [
    {
     "data": {
      "text/plain": [
       "6"
      ]
     },
     "execution_count": 132,
     "metadata": {},
     "output_type": "execute_result"
    }
   ],
   "source": [
    "''' \n",
    "Input: height = [0,1,0,2,1,0,1,3,2,1,2,1]\n",
    "Output: 6\n",
    "Explanation: The above elevation map (black section) is represented by array [0,1,0,2,1,0,1,3,2,1,2,1]. In this case, 6 units of rain water (blue section) are being trapped.\n",
    "Formula: sum(min(max_l, max_r) - height[i])\n",
    "'''\n",
    "\n",
    "class Solution:\n",
    "    def trap(self, height: List[int]) -> int:\n",
    "        left = 0 \n",
    "        right = len(height) - 1\n",
    "        result = 0 \n",
    "        \n",
    "        max_l, max_r = height[left], height[right]\n",
    "        while left < right:\n",
    "            if max_l < max_r:\n",
    "                left += 1\n",
    "                max_l = max(max_l, height[left])\n",
    "                trap = max_l - height[left]\n",
    "                result += trap\n",
    "            else:\n",
    "                right -= 1 \n",
    "                max_r = max(max_r, height[right]) \n",
    "                trap = max_r - height[right]\n",
    "                result += trap\n",
    "        return result \n",
    "    \n",
    "solution = Solution()\n",
    "solution.trap([0,1,0,2,1,0,1,3,2,1,2,1])\n",
    "\n"
   ]
  },
  {
   "cell_type": "markdown",
   "metadata": {},
   "source": [
    "### Prefix Sum"
   ]
  },
  {
   "cell_type": "markdown",
   "metadata": {},
   "source": [
    "303. Range Sum Query - Immutable"
   ]
  },
  {
   "cell_type": "code",
   "execution_count": 133,
   "metadata": {},
   "outputs": [],
   "source": [
    "''' \n",
    "Example 1:\n",
    "\n",
    "Input\n",
    "[\"NumArray\", \"sumRange\", \"sumRange\", \"sumRange\"]\n",
    "[[[-2, 0, 3, -5, 2, -1]], [0, 2], [2, 5], [0, 5]]\n",
    "Output\n",
    "[null, 1, -1, -3]\n",
    "'''\n",
    "class NumArray:\n",
    "\n",
    "    def __init__(self, nums: List[int]):\n",
    "        self.prefix = []\n",
    "        count = 0\n",
    "        for num in nums:\n",
    "            count += num \n",
    "            self.prefix.append(count)\n",
    "\n",
    "        \n",
    "\n",
    "    def sumRange(self, left: int, right: int) -> int:\n",
    "        right_sum = self.prefix[right]\n",
    "        left_sum = self.prefix[left - 1] if left > 0 else 0\n",
    "        return right_sum - left_sum\n",
    "        \n",
    "\n",
    "\n",
    "# Your NumArray object will be instantiated and called as such:\n",
    "# obj = NumArray(nums)\n",
    "# param_1 = obj.sumRange(left,right)\n"
   ]
  },
  {
   "cell_type": "markdown",
   "metadata": {},
   "source": [
    "560. Subarray Sum Equals K"
   ]
  },
  {
   "cell_type": "code",
   "execution_count": 137,
   "metadata": {},
   "outputs": [
    {
     "data": {
      "text/plain": [
       "2"
      ]
     },
     "execution_count": 137,
     "metadata": {},
     "output_type": "execute_result"
    }
   ],
   "source": [
    "''' \n",
    "Example 1:\n",
    "\n",
    "Input: nums = [1,1,1], k = 2\n",
    "Output: 2\n",
    "'''\n",
    "\n",
    "class Solution:\n",
    "    def subarraySum(self, nums: List[int], k: int) -> int:\n",
    "        count = 0 \n",
    "        prefix_sum = 0\n",
    "        prefix_map = {0 : 1}\n",
    "        for num in nums:\n",
    "            prefix_sum += num \n",
    "            if (prefix_sum - k) in prefix_map:\n",
    "                count += prefix_map[prefix_sum - k]\n",
    "            prefix_map[prefix_sum] = prefix_map.get(prefix_sum, 0) + 1\n",
    "        return count \n",
    "    \n",
    "solution = Solution()\n",
    "solution.subarraySum([1, 1, 1], 2)\n"
   ]
  },
  {
   "cell_type": "markdown",
   "metadata": {},
   "source": [
    "525. Contiguous Array"
   ]
  },
  {
   "cell_type": "code",
   "execution_count": 142,
   "metadata": {},
   "outputs": [
    {
     "data": {
      "text/plain": [
       "2"
      ]
     },
     "execution_count": 142,
     "metadata": {},
     "output_type": "execute_result"
    }
   ],
   "source": [
    "'''\n",
    "Input: nums = [0,1]\n",
    "Output: 2\n",
    "Explanation: [0, 1] is the longest contiguous subarray with an equal number of 0 and 1.\n",
    "\n",
    "'''\n",
    "\n",
    "class Solution:\n",
    "    def findMaxLength(self, nums):\n",
    "        prefix_sum = 0\n",
    "        max_length = 0\n",
    "        index_map = {0: -1}  # Initialize with {0: -1} to handle full array cases\n",
    "\n",
    "        for i, num in enumerate(nums):\n",
    "            prefix_sum += 1 if num == 1 else -1  # Convert 0s to -1s\n",
    "\n",
    "            # If prefix_sum has been seen before, calculate subarray length\n",
    "            if prefix_sum in index_map:\n",
    "                max_length = max(max_length, i - index_map[prefix_sum])\n",
    "            else:\n",
    "                # Store the first occurrence of this prefix_sum\n",
    "                index_map[prefix_sum] = i  \n",
    "\n",
    "        return max_length\n",
    "\n",
    "    \n",
    "solution = Solution()\n",
    "solution.findMaxLength([0, 1])\n"
   ]
  },
  {
   "cell_type": "markdown",
   "metadata": {},
   "source": [
    "### Sliding Window Fixed Size"
   ]
  },
  {
   "cell_type": "markdown",
   "metadata": {},
   "source": [
    "438. Find All Anagrams in a String"
   ]
  },
  {
   "cell_type": "code",
   "execution_count": 154,
   "metadata": {},
   "outputs": [
    {
     "data": {
      "text/plain": [
       "[0, 6]"
      ]
     },
     "execution_count": 154,
     "metadata": {},
     "output_type": "execute_result"
    }
   ],
   "source": [
    "''' \n",
    "Input: s = \"cbaebabacd\", p = \"abc\"\n",
    "Output: [0,6]\n",
    "Explanation:\n",
    "The substring with start index = 0 is \"cba\", which is an anagram of \"abc\".\n",
    "The substring with start index = 6 is \"bac\", which is an anagram of \"abc\".\n",
    "\n",
    "'''\n",
    "\n",
    "class Solution:\n",
    "    def findAnagrams(self, s: str, p: str) -> List[int]:\n",
    "        if len(p) > len(s): return []\n",
    "        s_count, p_count = {}, {}\n",
    "        res = []\n",
    "        for i in range(len(p)):\n",
    "            p_count[p[i]] = p_count.get(p[i], 0) + 1\n",
    "            s_count[s[i]] = s_count.get(s[i], 0) + 1\n",
    "        res = [0] if p_count == s_count else []\n",
    "        l = 0 \n",
    "        for r in range(len(p), len(s)):\n",
    "            s_count[s[r]] = s_count.get(s[r], 0) + 1 \n",
    "            s_count[s[l]] -= 1\n",
    "            if s_count[s[l]] == 0:\n",
    "                s_count.pop(s[l])\n",
    "            l += 1\n",
    "            if s_count == p_count:\n",
    "                res.append(l)\n",
    "        return res \n",
    "    \n",
    "solution = Solution()\n",
    "solution.findAnagrams(\"cbaebabacd\", \"abc\")\n"
   ]
  },
  {
   "cell_type": "markdown",
   "metadata": {},
   "source": [
    "567. Permutation in String"
   ]
  },
  {
   "cell_type": "code",
   "execution_count": null,
   "metadata": {},
   "outputs": [
    {
     "data": {
      "text/plain": [
       "False"
      ]
     },
     "execution_count": 156,
     "metadata": {},
     "output_type": "execute_result"
    }
   ],
   "source": [
    "''' \n",
    "Input: s1 = \"ab\", s2 = \"eidbaooo\"\n",
    "Output: true\n",
    "Explanation: s2 contains one permutation of s1 (\"ba\").\n",
    "\n",
    "'''\n",
    "\n",
    "class Solution:\n",
    "    def checkInclusion(self, s1: str, s2: str) -> bool:\n",
    "        if len(s1) > len(s2): return False\n",
    "        s1_map = {}\n",
    "        s2_map = {}\n",
    "        for i in range(len(s1)):\n",
    "            s1_map[s1[i]] = s1_map.get(s1[i], 0) + 1\n",
    "            s2_map[s2[i]] = s2_map.get(s2[i], 0) + 1\n",
    "        if s1_map == s2_map:\n",
    "            return True\n",
    "        left = 0\n",
    "        for right in range(len(s1), len(s2)):\n",
    "            s2_map[s2[left]] -= 1\n",
    "            if s2_map[s2[left]] == 0:\n",
    "                s2_map.pop(s2[left])\n",
    "            left += 1\n",
    "            s2_map[s2[right]] = s2_map.get(s2[right], 0) + 1\n",
    "            if s1_map == s2_map:\n",
    "                return True \n",
    "        return False \n",
    "    \n",
    "solution = Solution()\n",
    "solution.checkInclusion(\"ab\", \"eidbaooo\")\n"
   ]
  },
  {
   "cell_type": "markdown",
   "metadata": {},
   "source": [
    "### Sliding Window Dynamic Size"
   ]
  },
  {
   "cell_type": "markdown",
   "metadata": {},
   "source": [
    "3. Longest Substring Without Repeating Characters"
   ]
  },
  {
   "cell_type": "code",
   "execution_count": 169,
   "metadata": {},
   "outputs": [
    {
     "data": {
      "text/plain": [
       "3"
      ]
     },
     "execution_count": 169,
     "metadata": {},
     "output_type": "execute_result"
    }
   ],
   "source": [
    "''' \n",
    "Input: s = \"abcabcbb\"\n",
    "Output: 3\n",
    "Explanation: The answer is \"abc\", with the length of 3.\n",
    "\n",
    "'''\n",
    "\n",
    "class Solution:\n",
    "    def lengthOfLongestSubstring(self, s: str) -> int:\n",
    "        res = 0 \n",
    "        left = 0\n",
    "        s_map = {}\n",
    "        for right in range(len(s)):\n",
    "            while s[right] in s_map:\n",
    "                s_map.pop(s[left])\n",
    "                left += 1\n",
    "            s_map[s[right]] = 1\n",
    "            res = max(res, right - left + 1)\n",
    "        return res \n",
    "    \n",
    "solution = Solution()\n",
    "solution.lengthOfLongestSubstring(\"pwwkew\")"
   ]
  },
  {
   "cell_type": "markdown",
   "metadata": {},
   "source": [
    "76. Minimum Window Substring"
   ]
  },
  {
   "cell_type": "code",
   "execution_count": 172,
   "metadata": {},
   "outputs": [
    {
     "data": {
      "text/plain": [
       "'BANC'"
      ]
     },
     "execution_count": 172,
     "metadata": {},
     "output_type": "execute_result"
    }
   ],
   "source": [
    "''' \n",
    "Input: s = \"ADOBECODEBANC\", t = \"ABC\"\n",
    "Output: \"BANC\"\n",
    "Explanation: The minimum window substring \"BANC\" includes 'A', 'B', and 'C' from string t.\n",
    "\n",
    "'''\n",
    "\n",
    "class Solution:\n",
    "    def minWindow(self, s: str, t: str) -> str:\n",
    "        t_map = {}\n",
    "        s_map = {}\n",
    "        \n",
    "        for c in t:\n",
    "            t_map[c] = t_map.get(c, 0) + 1\n",
    "\n",
    "        have, need = 0, len(t_map)\n",
    "        res, res_len = [-1, -1], float('inf')\n",
    "        l = 0\n",
    "        for r in range(len(s)):\n",
    "            c = s[r]\n",
    "            s_map[c] = s_map.get(c, 0) + 1\n",
    "            if c in t_map and t_map[c] == s_map[c]:\n",
    "                have += 1\n",
    "            while have == need:\n",
    "                if r - l + 1 < res_len:\n",
    "                    res_len = r - l + 1 \n",
    "                    res = [l, r]\n",
    "                s_map[s[l]] -= 1\n",
    "                if s[l] in t_map and s_map[s[l]] < t_map[s[l]]:\n",
    "                    have -= 1\n",
    "                l += 1\n",
    "        l, r = res\n",
    "        return s[l:r+1] if res_len != float('inf') else \"\"\n",
    "\n",
    "solution = Solution()\n",
    "solution.minWindow(\"ADOBECODEBANC\", \"ABC\")"
   ]
  },
  {
   "cell_type": "code",
   "execution_count": null,
   "metadata": {},
   "outputs": [],
   "source": []
  },
  {
   "cell_type": "markdown",
   "metadata": {},
   "source": [
    "### Kadane's Algorithm"
   ]
  },
  {
   "cell_type": "markdown",
   "metadata": {},
   "source": [
    "53. Maximum Subarray"
   ]
  },
  {
   "cell_type": "code",
   "execution_count": 158,
   "metadata": {},
   "outputs": [
    {
     "data": {
      "text/plain": [
       "6"
      ]
     },
     "execution_count": 158,
     "metadata": {},
     "output_type": "execute_result"
    }
   ],
   "source": [
    "''' \n",
    "Input: nums = [-2,1,-3,4,-1,2,1,-5,4]\n",
    "Output: 6\n",
    "Explanation: The subarray [4,-1,2,1] has the largest sum 6.\n",
    "\n",
    "'''\n",
    "\n",
    "class Solution:\n",
    "    def maxSubArray(self, nums: List[int]) -> int:\n",
    "        current_sum = float('-inf') \n",
    "        max_sum = float('-inf') \n",
    "        for num in nums:\n",
    "            current_sum = max(num, current_sum + num)\n",
    "            max_sum = max(max_sum, current_sum)\n",
    "        return max_sum \n",
    "    \n",
    "solution = Solution()\n",
    "solution.maxSubArray([-2,1,-3,4,-1,2,1,-5,4])"
   ]
  },
  {
   "cell_type": "markdown",
   "metadata": {},
   "source": [
    "152. Maximum Product Subarray"
   ]
  },
  {
   "cell_type": "code",
   "execution_count": 161,
   "metadata": {},
   "outputs": [
    {
     "data": {
      "text/plain": [
       "6"
      ]
     },
     "execution_count": 161,
     "metadata": {},
     "output_type": "execute_result"
    }
   ],
   "source": [
    "''' \n",
    "Input: nums = [2,3,-2,4]\n",
    "Output: 6\n",
    "Explanation: [2,3] has the largest product 6.\n",
    "\n",
    "'''\n",
    "\n",
    "class Solution:\n",
    "    def maxProduct(self, nums: List[int]) -> int:\n",
    "        prefix_prod = 1\n",
    "        suffix_prod = 1 \n",
    "        max_prod = float('-inf')\n",
    "        for i in range(len(nums)):\n",
    "            prefix_prod = 1 if prefix_prod == 0 else prefix_prod \n",
    "            suffix_prod = 1 if suffix_prod == 0 else suffix_prod \n",
    "\n",
    "            prefix_prod *= nums[i]\n",
    "            suffix_prod *= nums[len(nums) - i - 1]\n",
    "            max_prod = max(max_prod, max(prefix_prod, suffix_prod))\n",
    "        return max_prod  \n",
    "    \n",
    "solution = Solution()\n",
    "solution.maxProduct([2, 3, -2, 4])\n"
   ]
  },
  {
   "cell_type": "code",
   "execution_count": null,
   "metadata": {},
   "outputs": [],
   "source": []
  },
  {
   "cell_type": "markdown",
   "metadata": {},
   "source": [
    "### Linked List"
   ]
  },
  {
   "cell_type": "markdown",
   "metadata": {},
   "source": [
    "160. Intersection of Two Linked Lists"
   ]
  },
  {
   "cell_type": "code",
   "execution_count": 174,
   "metadata": {},
   "outputs": [],
   "source": [
    "'''\n",
    "Given the heads of two singly linked-lists headA and headB, return the node at which the two lists intersect. If the two linked lists have no intersection at all, return null.\n",
    "\n",
    "For example, the following two linked lists begin to intersect at node c1:\n",
    "\n",
    "\n",
    "The test cases are generated such that there are no cycles anywhere in the entire linked structure. \n",
    "'''\n",
    "# Definition for singly-linked list.\n",
    "# class ListNode:\n",
    "#     def __init__(self, x):\n",
    "#         self.val = x\n",
    "#         self.next = None\n",
    "from typing import Optional\n",
    "class Solution:\n",
    "    def getIntersectionNode(self, headA: ListNode, headB: ListNode) -> Optional[ListNode]:\n",
    "        l1 = headA\n",
    "        l2 = headB \n",
    "        while l1 != l2:\n",
    "            l1 = l1.next if l1 else headB\n",
    "            l2 = l2.next if l2 else headA \n",
    "        return l1"
   ]
  },
  {
   "cell_type": "markdown",
   "metadata": {},
   "source": [
    "19. Remove Nth Node From End of List"
   ]
  },
  {
   "cell_type": "code",
   "execution_count": null,
   "metadata": {},
   "outputs": [],
   "source": [
    "''' \n",
    "Input: head = [1,2,3,4,5], n = 2\n",
    "Output: [1,2,3,5]\n",
    "\n",
    "'''\n",
    "\n",
    "# Definition for singly-linked list.\n",
    "class ListNode:\n",
    "    def __init__(self, val=0, next=None):\n",
    "        self.val = val\n",
    "        self.next = next\n",
    "class Solution:\n",
    "    def removeNthFromEnd(self, head: Optional[ListNode], n: int) -> Optional[ListNode]:\n",
    "        dummy = ListNode(0, head)\n",
    "        left = dummy\n",
    "        right = head \n",
    "        while n > 0 and right:\n",
    "            right = right.next\n",
    "            n -= 1\n",
    "\n",
    "        while right:\n",
    "            left = left.next \n",
    "            right = right.next \n",
    "        \n",
    "        left.next = left.next.next \n",
    "        return dummy.next"
   ]
  },
  {
   "cell_type": "markdown",
   "metadata": {},
   "source": [
    "24. Swap Nodes in Pairs"
   ]
  },
  {
   "cell_type": "code",
   "execution_count": 176,
   "metadata": {},
   "outputs": [],
   "source": [
    "'''\n",
    "Input: head = [1,2,3,4]\n",
    "\n",
    "Output: [2,1,4,3]\n",
    "'''\n",
    "\n",
    "# Definition for singly-linked list.\n",
    "# class ListNode:\n",
    "#     def __init__(self, val=0, next=None):\n",
    "#         self.val = val\n",
    "#         self.next = next\n",
    "class Solution:\n",
    "    def swapPairs(self, head: Optional[ListNode]) -> Optional[ListNode]:\n",
    "        dummy = ListNode(0, head)\n",
    "\n",
    "        prev, curr = dummy, head \n",
    "        while curr and curr.next:\n",
    "            next_pair = curr.next.next \n",
    "            second = curr.next \n",
    "\n",
    "            second.next = curr\n",
    "            curr.next = next_pair\n",
    "            prev.next = second \n",
    "\n",
    "            prev = curr \n",
    "            curr = next_pair\n",
    "\n",
    "        return dummy.next \n",
    "        \n",
    "            "
   ]
  },
  {
   "cell_type": "markdown",
   "metadata": {},
   "source": [
    "61. Rotate List"
   ]
  },
  {
   "cell_type": "code",
   "execution_count": 197,
   "metadata": {},
   "outputs": [
    {
     "data": {
      "text/plain": [
       "<__main__.ListNode at 0x14b8e9a6ad0>"
      ]
     },
     "execution_count": 197,
     "metadata": {},
     "output_type": "execute_result"
    }
   ],
   "source": [
    "''' \n",
    "Input: head = [1,2,3,4,5], k = 2\n",
    "Output: [4,5,1,2,3]\n",
    "'''\n",
    "\n",
    "# Definition for singly-linked list.\n",
    "class ListNode:\n",
    "    def __init__(self, val=0, next=None):\n",
    "        self.val = val\n",
    "        self.next = next\n",
    "class Solution:\n",
    "    def rotateRight(self, head: Optional[ListNode], k: int) -> Optional[ListNode]:\n",
    "        tail = head \n",
    "        length = 1 \n",
    "        while tail.next:\n",
    "            tail = tail.next \n",
    "            length += 1 \n",
    "\n",
    "        k = k % length\n",
    "        if k == 0:\n",
    "            return head\n",
    "        curr = head \n",
    "        for i in range(length - k - 1):\n",
    "            curr = curr.next\n",
    "        newHead = curr.next \n",
    "        curr.next = None\n",
    "        # while head:\n",
    "        #     print(head.val)\n",
    "        #     head = head.next\n",
    "        tail.next = head\n",
    "        # while newHead:\n",
    "        #     print(newHead.val)\n",
    "        #     newHead = newHead.next\n",
    "        return newHead\n",
    "\n",
    "\n",
    "solution = Solution()\n",
    "head = ListNode(1, ListNode(2, ListNode(3, ListNode(4, ListNode(5)))))\n",
    "solution.rotateRight(head, 2)\n"
   ]
  },
  {
   "cell_type": "markdown",
   "metadata": {},
   "source": [
    "2. Add Two Numbers"
   ]
  },
  {
   "cell_type": "code",
   "execution_count": 198,
   "metadata": {},
   "outputs": [],
   "source": [
    "''' \n",
    "Input: l1 = [2,4,3], l2 = [5,6,4]\n",
    "Output: [7,0,8]\n",
    "Explanation: 342 + 465 = 807.\n",
    "'''\n",
    "# Definition for singly-linked list.\n",
    "# class ListNode:\n",
    "#     def __init__(self, val=0, next=None):\n",
    "#         self.val = val\n",
    "#         self.next = next\n",
    "class Solution:\n",
    "    def addTwoNumbers(self, l1: Optional[ListNode], l2: Optional[ListNode]) -> Optional[ListNode]:\n",
    "        dummy = ListNode(0)\n",
    "        curr = dummy \n",
    "        carry = 0\n",
    "        while l1 or l2 or carry:\n",
    "            val1 = l1.val if l1 else 0 \n",
    "            val2 = l2.val if l2 else 0 \n",
    "\n",
    "            val = val1 + val2 + carry \n",
    "            carry = val // 10 \n",
    "            val = val % 10\n",
    "            \n",
    "            curr.next = ListNode(val)\n",
    "\n",
    "            curr = curr.next\n",
    "            l1 = l1.next if l1 else None \n",
    "            l2 = l2.next if l2 else None\n",
    "        return dummy.next \n"
   ]
  },
  {
   "cell_type": "markdown",
   "metadata": {},
   "source": [
    "206. Reverse Linked List"
   ]
  },
  {
   "cell_type": "code",
   "execution_count": null,
   "metadata": {},
   "outputs": [
    {
     "data": {
      "text/plain": [
       "' \\nInput: head = [1,2,3,4,5]\\nOutput: [5,4,3,2,1]\\n'"
      ]
     },
     "execution_count": 199,
     "metadata": {},
     "output_type": "execute_result"
    }
   ],
   "source": [
    "''' \n",
    "Input: head = [1,2,3,4,5]\n",
    "Output: [5,4,3,2,1]\n",
    "'''\n",
    "\n",
    "# Definition for singly-linked list.\n",
    "# class ListNode:\n",
    "#     def __init__(self, val=0, next=None):\n",
    "#         self.val = val\n",
    "#         self.next = next\n",
    "class Solution:\n",
    "    def reverseList(self, head: Optional[ListNode]) -> Optional[ListNode]:\n",
    "        prev, curr = None, head \n",
    "        while curr:\n",
    "            next = curr.next \n",
    "            curr.next = prev \n",
    "            prev = curr\n",
    "            curr = next\n",
    "        return prev"
   ]
  },
  {
   "cell_type": "markdown",
   "metadata": {},
   "source": [
    "### Fast and Slow Pointers"
   ]
  },
  {
   "cell_type": "markdown",
   "metadata": {},
   "source": [
    "876. Middle of the Linked List"
   ]
  },
  {
   "cell_type": "code",
   "execution_count": null,
   "metadata": {},
   "outputs": [],
   "source": [
    "# Definition for singly-linked list.\n",
    "# class ListNode:\n",
    "#     def __init__(self, val=0, next=None):\n",
    "#         self.val = val\n",
    "#         self.next = next\n",
    "class Solution:\n",
    "    def middleNode(self, head: Optional[ListNode]) -> Optional[ListNode]:\n",
    "        slow = head \n",
    "        fast = head \n",
    "        while fast and fast.next:\n",
    "            slow = slow.next \n",
    "            fast = fast.next.next \n",
    "        return slow"
   ]
  },
  {
   "cell_type": "markdown",
   "metadata": {},
   "source": [
    "142. Linked List Cycle II"
   ]
  },
  {
   "cell_type": "code",
   "execution_count": 200,
   "metadata": {},
   "outputs": [],
   "source": [
    "'''\n",
    "Input: head = [3,2,0,-4], pos = 1\n",
    "Output: tail connects to node index 1\n",
    "'''\n",
    "\n",
    "# Definition for singly-linked list.\n",
    "# class ListNode:\n",
    "#     def __init__(self, x):\n",
    "#         self.val = x\n",
    "#         self.next = None\n",
    "\n",
    "class Solution:\n",
    "    def detectCycle(self, head: Optional[ListNode]) -> Optional[ListNode]:\n",
    "        slow = head \n",
    "        fast = head \n",
    "        pos = 1\n",
    "        while fast and fast.next:\n",
    "            slow = slow.next \n",
    "            fast = fast.next.next\n",
    "            if slow == fast:\n",
    "                break \n",
    "        else: \n",
    "            return None\n",
    "        fast = head\n",
    "\n",
    "        while fast != slow:\n",
    "            slow = slow.next \n",
    "            fast = fast.next\n",
    "        return slow"
   ]
  },
  {
   "cell_type": "code",
   "execution_count": null,
   "metadata": {},
   "outputs": [],
   "source": []
  },
  {
   "cell_type": "markdown",
   "metadata": {},
   "source": [
    "### Bit Manipulations"
   ]
  },
  {
   "cell_type": "code",
   "execution_count": 203,
   "metadata": {},
   "outputs": [
    {
     "name": "stdout",
     "output_type": "stream",
     "text": [
      "5 4\n",
      "4 5\n"
     ]
    }
   ],
   "source": [
    "### Swap 2 numbers \n",
    "a = 5 \n",
    "b = 4 \n",
    "print (a, b)\n",
    "a = a ^ b \n",
    "b = a ^ b \n",
    "a = a ^ b \n",
    "\n",
    "print(a, b)"
   ]
  },
  {
   "cell_type": "code",
   "execution_count": 208,
   "metadata": {},
   "outputs": [
    {
     "name": "stdout",
     "output_type": "stream",
     "text": [
      "4\n",
      "True\n"
     ]
    }
   ],
   "source": [
    "# 1 -> 001 1 << 2 -> 100 (4)\n",
    "\n",
    "print(1 << 2)\n",
    "\n",
    "# Check if i'th bit is set or not \n",
    "\n",
    "# N = 13 and i = 2\n",
    "\n",
    "print(13 & (1 << 2) != 0)\n",
    "\n"
   ]
  },
  {
   "cell_type": "code",
   "execution_count": 210,
   "metadata": {},
   "outputs": [
    {
     "name": "stdout",
     "output_type": "stream",
     "text": [
      "6\n"
     ]
    }
   ],
   "source": [
    "## Set the i'th bit \n",
    "\n",
    "# 4 -> 100\n",
    "# 1 -> 001\n",
    "# 1 << 1 -> 010\n",
    "N = 4 \n",
    "i = 1 \n",
    "\n",
    "print(N | (1 << i))"
   ]
  },
  {
   "cell_type": "code",
   "execution_count": null,
   "metadata": {},
   "outputs": [
    {
     "name": "stdout",
     "output_type": "stream",
     "text": [
      "0\n"
     ]
    }
   ],
   "source": [
    "## Clear the i'th bit (Replace the ith position to 0 if it has 1 in it)\n",
    "\n",
    "N = 4 \n",
    "i = 2\n",
    "\n",
    "print(N  & (~(1 << i)))"
   ]
  },
  {
   "cell_type": "code",
   "execution_count": 225,
   "metadata": {},
   "outputs": [
    {
     "name": "stdout",
     "output_type": "stream",
     "text": [
      "6\n"
     ]
    }
   ],
   "source": [
    "## Toggle the i'th bit (Replace the i'th position 1 if it is 0 or else 0 if it is 1)\n",
    "\n",
    "N = 4 \n",
    "i = 1\n",
    "\n",
    "print(N ^ (1 << i))"
   ]
  },
  {
   "cell_type": "code",
   "execution_count": 228,
   "metadata": {},
   "outputs": [
    {
     "name": "stdout",
     "output_type": "stream",
     "text": [
      "14\n"
     ]
    }
   ],
   "source": [
    "# Remove the right most set bit (making right most 1 to 0)\n",
    "\n",
    "N = 15 \n",
    "\n",
    "print(N & (N-1))"
   ]
  },
  {
   "cell_type": "code",
   "execution_count": 229,
   "metadata": {},
   "outputs": [
    {
     "name": "stdout",
     "output_type": "stream",
     "text": [
      "0\n"
     ]
    }
   ],
   "source": [
    "# Check if N is power of 2 \n",
    "\n",
    "N = 16 \n",
    "\n",
    "print(N & (N-1))"
   ]
  },
  {
   "cell_type": "code",
   "execution_count": 15,
   "metadata": {},
   "outputs": [
    {
     "name": "stdout",
     "output_type": "stream",
     "text": [
      "2\n"
     ]
    },
    {
     "data": {
      "text/plain": [
       "2"
      ]
     },
     "execution_count": 15,
     "metadata": {},
     "output_type": "execute_result"
    }
   ],
   "source": [
    "## No of set bits in N \n",
    "\n",
    "def count_Set_bits(n):\n",
    "    count = 0 \n",
    "    while n > 1:\n",
    "        if n % 2 == 1:\n",
    "            count += 1 \n",
    "        n = n//2\n",
    "    if n == 1:\n",
    "        count += 1 \n",
    "    return count \n",
    "\n",
    "def count_Set_bits(n: int) -> int:\n",
    "    count = 0\n",
    "    while n:\n",
    "        count += n & 1  # Add 1 if the least significant bit is 1\n",
    "        n = n >> 1        # Integer division to shift bits right\n",
    "    return count\n",
    "\n",
    "# Example usage:\n",
    "print(count_Set_bits(5))  # Output: 2, since 5 in binary is 101 which has 2 set bits.\n",
    "\n",
    "count_Set_bits(5)"
   ]
  },
  {
   "cell_type": "code",
   "execution_count": 5,
   "metadata": {},
   "outputs": [
    {
     "data": {
      "text/plain": [
       "0"
      ]
     },
     "execution_count": 5,
     "metadata": {},
     "output_type": "execute_result"
    }
   ],
   "source": [
    "from typing import List\n",
    "class Solution:\n",
    "    def singleNumber(self, nums: List[int]) -> int:\n",
    "        result = 0\n",
    "        for num in nums:\n",
    "            result = result ^ num\n",
    "        return result \n",
    "    \n",
    "\n",
    "solution = Solution()\n",
    "solution.singleNumber([2, 2, 1, 1])"
   ]
  },
  {
   "cell_type": "markdown",
   "metadata": {},
   "source": [
    "191. Number of 1 Bits"
   ]
  },
  {
   "cell_type": "code",
   "execution_count": 18,
   "metadata": {},
   "outputs": [
    {
     "data": {
      "text/plain": [
       "3"
      ]
     },
     "execution_count": 18,
     "metadata": {},
     "output_type": "execute_result"
    }
   ],
   "source": [
    "''' \n",
    "Example 1:\n",
    "\n",
    "Input: n = 11\n",
    "\n",
    "Output: 3\n",
    "\n",
    "Explanation:\n",
    "\n",
    "The input binary string 1011 has a total of three set bits.\n",
    "'''\n",
    "\n",
    "class Solution:\n",
    "    def hammingWeight(self, n: int) -> int:\n",
    "        count = 0\n",
    "        while n > 1:\n",
    "            if n % 2 == 1:\n",
    "                count += 1\n",
    "            n = n // 2\n",
    "        if n == 1:\n",
    "            count += 1\n",
    "        return count \n",
    "    \n",
    "    def hammingWeight(self, n: int) -> int:\n",
    "        count = 0\n",
    "        while n:\n",
    "            count += n & 1\n",
    "            n = n >> 1\n",
    "        return count \n",
    "\n",
    "    def hammingWeight(self, n: int) -> int:\n",
    "        count = 0\n",
    "        while n:\n",
    "            n = n & (n-1)\n",
    "            count += 1\n",
    "        return count \n",
    "    \n",
    "solution = Solution()\n",
    "\n",
    "solution.hammingWeight(11)\n",
    "\n",
    "        "
   ]
  },
  {
   "cell_type": "markdown",
   "metadata": {},
   "source": [
    "338. Counting Bits"
   ]
  },
  {
   "cell_type": "code",
   "execution_count": null,
   "metadata": {},
   "outputs": [
    {
     "data": {
      "text/plain": [
       "[0, 1, 1]"
      ]
     },
     "execution_count": 20,
     "metadata": {},
     "output_type": "execute_result"
    }
   ],
   "source": [
    "''' \n",
    "Input: n = 2\n",
    "Output: [0,1,1]\n",
    "Explanation:\n",
    "0 --> 0\n",
    "1 --> 1\n",
    "2 --> 10\n",
    "'''\n",
    "\n",
    "class Solution:\n",
    "    def countBits(self, n: int) -> List[int]:\n",
    "        dp = [0]  * (n + 1)\n",
    "        offset = 1\n",
    "        for i in range(1, n + 1):\n",
    "            if offset * 2 == i:\n",
    "                offset = i \n",
    "            dp[i] = 1 + dp[i - offset]\n",
    "        return dp \n",
    "\n",
    "solution = Solution()\n",
    "solution.countBits(2)"
   ]
  },
  {
   "cell_type": "markdown",
   "metadata": {},
   "source": [
    "190. Reverse Bits"
   ]
  },
  {
   "cell_type": "code",
   "execution_count": 25,
   "metadata": {},
   "outputs": [
    {
     "data": {
      "text/plain": [
       "964176192"
      ]
     },
     "execution_count": 25,
     "metadata": {},
     "output_type": "execute_result"
    }
   ],
   "source": [
    "''' \n",
    "nput: n = 00000010100101000001111010011100\n",
    "Output:    964176192 (00111001011110000010100101000000)\n",
    "Explanation: The input binary string 00000010100101000001111010011100 represents the unsigned integer 43261596, so return 964176192 which its binary representation is 00111001011110000010100101000000.\n",
    "\n",
    "'''\n",
    "\n",
    "class Solution:\n",
    "    def reverseBits(self, n: int) -> int:\n",
    "        res = 0 \n",
    "        for i in range(32):\n",
    "            bit = 1 & (n >> i)\n",
    "            res = res | bit << (31 - i) \n",
    "\n",
    "        return res \n",
    "    \n",
    "solution = Solution()\n",
    "solution.reverseBits(43261596)"
   ]
  },
  {
   "cell_type": "markdown",
   "metadata": {},
   "source": [
    "371. Sum of Two Integers"
   ]
  },
  {
   "cell_type": "code",
   "execution_count": 27,
   "metadata": {},
   "outputs": [
    {
     "data": {
      "text/plain": [
       "5"
      ]
     },
     "execution_count": 27,
     "metadata": {},
     "output_type": "execute_result"
    }
   ],
   "source": [
    "class Solution:\n",
    "    def getSum(self, a: int, b: int) -> int:\n",
    "        while b!= 0:\n",
    "            temp = (a & b) << 1\n",
    "            a = a ^ b \n",
    "            b = temp\n",
    "        return a\n",
    "    \n",
    "solution = Solution()\n",
    "solution.getSum(2, 3)"
   ]
  },
  {
   "cell_type": "markdown",
   "metadata": {},
   "source": [
    "260. Single Number III"
   ]
  },
  {
   "cell_type": "code",
   "execution_count": 32,
   "metadata": {},
   "outputs": [
    {
     "data": {
      "text/plain": [
       "[3, 5]"
      ]
     },
     "execution_count": 32,
     "metadata": {},
     "output_type": "execute_result"
    }
   ],
   "source": [
    "''' \n",
    "Input: nums = [1,2,1,3,2,5]\n",
    "Output: [3,5]\n",
    "Explanation:  [5, 3] is also a valid answer.\n",
    "'''\n",
    "\n",
    "class Solution:\n",
    "    def singleNumber(self, nums: List[int]) -> List[int]:\n",
    "        xor = 0 \n",
    "        for  num in nums:\n",
    "            xor = xor ^ num \n",
    "\n",
    "        diff_bit = 1 \n",
    "\n",
    "        while not (diff_bit & xor):\n",
    "            diff_bit = diff_bit << 1 \n",
    "        \n",
    "        a, b = 0, 0 \n",
    "        for num in nums:\n",
    "            if num & diff_bit:\n",
    "                a = a ^ num \n",
    "            else:\n",
    "                b = b ^ num \n",
    "\n",
    "        return [a, b]\n",
    "    \n",
    "solution = Solution()\n",
    "solution.singleNumber([1,2,1,3,2,5])\n"
   ]
  },
  {
   "cell_type": "markdown",
   "metadata": {},
   "source": [
    "201. Bitwise AND of Numbers Range"
   ]
  },
  {
   "cell_type": "code",
   "execution_count": 34,
   "metadata": {},
   "outputs": [
    {
     "data": {
      "text/plain": [
       "4"
      ]
     },
     "execution_count": 34,
     "metadata": {},
     "output_type": "execute_result"
    }
   ],
   "source": [
    "''' \n",
    "Input: left = 5, right = 7\n",
    "Output: 4\n",
    "\n",
    "'''\n",
    "\n",
    "class Solution:\n",
    "    def rangeBitwiseAnd(self, left: int, right: int) -> int:\n",
    "        i = 0\n",
    "        while left != right:\n",
    "            left = left >> 1 \n",
    "            right = right >> 1\n",
    "            i += 1\n",
    "        return left << i\n",
    "    \n",
    "solution = Solution()\n",
    "solution.rangeBitwiseAnd(5, 7)"
   ]
  },
  {
   "cell_type": "markdown",
   "metadata": {},
   "source": [
    "### Matrix 2-D Array"
   ]
  },
  {
   "cell_type": "markdown",
   "metadata": {},
   "source": [
    "54. Spiral Matrix"
   ]
  },
  {
   "cell_type": "code",
   "execution_count": 65,
   "metadata": {},
   "outputs": [
    {
     "data": {
      "text/plain": [
       "[1, 2, 3, 6, 9, 8, 7, 4, 5]"
      ]
     },
     "execution_count": 65,
     "metadata": {},
     "output_type": "execute_result"
    }
   ],
   "source": [
    "''' \n",
    "Input: matrix = [[1,2,3],[4,5,6],[7,8,9]]\n",
    "Output: [1,2,3,6,9,8,7,4,5]\n",
    "'''\n",
    "\n",
    "class Solution:\n",
    "    def spiralOrder(self, matrix: List[List[int]]) -> List[int]:\n",
    "        top, bottom = 0, len(matrix)\n",
    "        left, right = 0, len(matrix[0])\n",
    "        res = []\n",
    "\n",
    "        while top < bottom and left < right:\n",
    "\n",
    "            # traverse from left to right and store into res\n",
    "            for i in range(left, right):\n",
    "                res.append(matrix[top][i])\n",
    "            top += 1 \n",
    "\n",
    "            # traverse from top to bottomm and store into res \n",
    "            for i in range(top, bottom):\n",
    "                res.append(matrix[i][right - 1])\n",
    "            right -= 1\n",
    "\n",
    "            if not (top < bottom and left < right):\n",
    "                break\n",
    "            \n",
    "            # get every i in the bottom row with right to left \n",
    "            for i in range(right - 1, left - 1, -1):\n",
    "                res.append(matrix[bottom-1][i])\n",
    "            bottom -= 1\n",
    "\n",
    "            # get evry i in the left col \n",
    "            for i in range(bottom - 1, top - 1, -1):\n",
    "                res.append(matrix[i][left])\n",
    "            left += 1\n",
    "\n",
    "        return res\n",
    "solution = Solution()\n",
    "solution.spiralOrder([[1,2,3],[4,5,6],[7,8,9]])"
   ]
  },
  {
   "cell_type": "markdown",
   "metadata": {},
   "source": [
    "48. Rotate Image"
   ]
  },
  {
   "cell_type": "code",
   "execution_count": 66,
   "metadata": {},
   "outputs": [
    {
     "data": {
      "text/plain": [
       "[[7, 4, 1], [8, 5, 2], [9, 6, 3]]"
      ]
     },
     "execution_count": 66,
     "metadata": {},
     "output_type": "execute_result"
    }
   ],
   "source": [
    "''' \n",
    "Input: matrix = [[1,2,3],[4,5,6],[7,8,9]]\n",
    "Output: [[7,4,1],[8,5,2],[9,6,3]]\n",
    "\n",
    "'''\n",
    "\n",
    "class Solution:\n",
    "    def rotate(self, matrix: List[List[int]]) -> None:\n",
    "        \"\"\"\n",
    "        Do not return anything, modify matrix in-place instead.\n",
    "        \"\"\"\n",
    "        l, r = 0, len(matrix) - 1\n",
    "        while l < r:\n",
    "            for i in range(r - l):\n",
    "                top, bottom = l, r \n",
    "\n",
    "                # save the top left into temp \n",
    "                top_left = matrix[top][l + i]\n",
    "\n",
    "                # Rotating reverse \n",
    "                # Move top left to bottom left \n",
    "                matrix[top][l + i] = matrix[bottom - i][l]\n",
    "\n",
    "                # Move bottom left to bottom right \n",
    "                matrix[bottom - i][l] = matrix[bottom][r - i]\n",
    "\n",
    "                # Move bottom right to top right \n",
    "                matrix[bottom][r - i] = matrix[top + i][r]\n",
    "\n",
    "                # Move bottom right to top_left \n",
    "                matrix[top + i][r] = top_left\n",
    "            l += 1\n",
    "            r -= 1\n",
    "        return matrix\n",
    "    \n",
    "solution = Solution()\n",
    "solution.rotate([[1,2,3],[4,5,6],[7,8,9]])\n"
   ]
  },
  {
   "cell_type": "markdown",
   "metadata": {},
   "source": [
    "73. Set Matrix Zeroes"
   ]
  },
  {
   "cell_type": "code",
   "execution_count": 68,
   "metadata": {},
   "outputs": [
    {
     "data": {
      "text/plain": [
       "[[1, 0, 1], [0, 0, 0], [1, 0, 1]]"
      ]
     },
     "execution_count": 68,
     "metadata": {},
     "output_type": "execute_result"
    }
   ],
   "source": [
    "''' \n",
    "Input: matrix = [[1,1,1],[1,0,1],[1,1,1]]\n",
    "Output: [[1,0,1],[0,0,0],[1,0,1]]\n",
    "\n",
    "'''\n",
    "\n",
    "class Solution:\n",
    "    def setZeroes(self, matrix: List[List[int]]) -> None:\n",
    "        \"\"\"\n",
    "        Do not return anything, modify matrix in-place instead.\n",
    "        \"\"\"\n",
    "        first_row, first_col = False, False \n",
    "\n",
    "        for i in range(0, len(matrix)):\n",
    "            for j in range(0, len(matrix[0])):\n",
    "                if matrix[i][j] == 0:\n",
    "                    if i == 0: first_row = True \n",
    "                    if j == 0: first_col = True \n",
    "                    matrix[0][j] = 0 \n",
    "                    matrix[i][0] = 0\n",
    "\n",
    "        for i in range(1, len(matrix)):\n",
    "            for j in range(1, len(matrix[0])):\n",
    "                if matrix[0][j] == 0 or matrix[i][0] == 0:\n",
    "                    matrix[i][j] = 0 \n",
    "\n",
    "        if first_row:\n",
    "            for j in range(0, len(matrix[0])):\n",
    "                matrix[0][j] = 0\n",
    "\n",
    "        if first_col:\n",
    "            for i in range(0, len(matrix)):\n",
    "                matrix[i][0] = 0\n",
    "\n",
    "        return matrix\n",
    "    \n",
    "\n",
    "solution = Solution()\n",
    "solution.setZeroes([[1,1,1],[1,0,1],[1,1,1]])"
   ]
  },
  {
   "cell_type": "markdown",
   "metadata": {},
   "source": [
    "### Bucket Sort"
   ]
  },
  {
   "cell_type": "markdown",
   "metadata": {},
   "source": [
    "347. Top K Frequent Elements"
   ]
  },
  {
   "cell_type": "code",
   "execution_count": 79,
   "metadata": {},
   "outputs": [
    {
     "data": {
      "text/plain": [
       "[1, 2]"
      ]
     },
     "execution_count": 79,
     "metadata": {},
     "output_type": "execute_result"
    }
   ],
   "source": [
    "''' \n",
    "Input: nums = [1,1,1,2,2,3], k = 2\n",
    "Output: [1,2]\n",
    "\n",
    "'''\n",
    "\n",
    "class Solution:\n",
    "    def topKFrequent(self, nums: List[int], k: int) -> List[int]:\n",
    "        counter = {}\n",
    "        for num in nums:\n",
    "            counter[num] = counter.get(num, 0) + 1 \n",
    "\n",
    "        \n",
    "        frequency_list = [[] for _ in range(len(nums) + 1)]\n",
    "        res = []\n",
    "\n",
    "        for key, value in counter.items():\n",
    "            frequency_list[value].append(key)\n",
    "        for i in range(len(frequency_list) - 1, 0, -1):\n",
    "            for n in frequency_list[i]:\n",
    "                res.append(n)\n",
    "                if len(res) == k:\n",
    "                    return res\n",
    "\n",
    "solution = Solution()\n",
    "solution.topKFrequent([1,1,1,2,2,3], 2)"
   ]
  },
  {
   "cell_type": "markdown",
   "metadata": {},
   "source": [
    "692. Top K Frequent Words"
   ]
  },
  {
   "cell_type": "code",
   "execution_count": 83,
   "metadata": {},
   "outputs": [
    {
     "data": {
      "text/plain": [
       "['i', 'love', 'coding']"
      ]
     },
     "execution_count": 83,
     "metadata": {},
     "output_type": "execute_result"
    }
   ],
   "source": [
    "''' \n",
    "Input: words = [\"i\",\"love\",\"leetcode\",\"i\",\"love\",\"coding\"], k = 2\n",
    "Output: [\"i\",\"love\"]\n",
    "Explanation: \"i\" and \"love\" are the two most frequent words.\n",
    "Note that \"i\" comes before \"love\" due to a lower alphabetical order.\n",
    "\n",
    "'''\n",
    "\n",
    "class Solution:\n",
    "    def topKFrequent(self, words: List[str], k: int) -> List[str]:\n",
    "        counter = {}\n",
    "        for word in words:\n",
    "            counter[word] = counter.get(word, 0) + 1 \n",
    "\n",
    "        frequency_list = [[] for _ in range(len(words) + 1)]\n",
    "        res = []\n",
    "\n",
    "        for key, value in counter.items():\n",
    "            frequency_list[value].append(key)\n",
    "            \n",
    "\n",
    "        for i in range(len(frequency_list) - 1, 0, -1):\n",
    "            frequency_list[i].sort()\n",
    "            for freq in frequency_list[i]:\n",
    "                res.append(freq)\n",
    "                if len(res) == k:\n",
    "                    return res \n",
    "                \n",
    "solution = Solution()\n",
    "solution.topKFrequent([\"i\",\"love\",\"leetcode\",\"i\",\"love\",\"coding\"], 3)\n"
   ]
  },
  {
   "cell_type": "markdown",
   "metadata": {},
   "source": [
    "### Recursion"
   ]
  },
  {
   "cell_type": "markdown",
   "metadata": {},
   "source": [
    "21. Merge Two Sorted Lists"
   ]
  },
  {
   "cell_type": "code",
   "execution_count": null,
   "metadata": {},
   "outputs": [
    {
     "data": {
      "text/plain": [
       "<__main__.ListNode at 0x222ae52b050>"
      ]
     },
     "execution_count": 7,
     "metadata": {},
     "output_type": "execute_result"
    }
   ],
   "source": [
    "''' \n",
    "Input: list1 = [1,2,4], list2 = [1,3,4]\n",
    "Output: [1,1,2,3,4,4]\n",
    "'''\n",
    "\n",
    "from typing import Optional, List\n",
    "\n",
    "# Definition for singly-linked list.\n",
    "class ListNode:\n",
    "    def __init__(self, val=0, next=None):\n",
    "        self.val = val\n",
    "        self.next = next\n",
    "class Solution:\n",
    "    def mergeTwoLists(self, list1: Optional[ListNode], list2: Optional[ListNode]) -> Optional[ListNode]:\n",
    "        dummy = ListNode()\n",
    "        current = dummy\n",
    "        while list1 and list2:\n",
    " \n",
    "            if list1.val > list2.val:\n",
    "                current.next = list2 \n",
    "                list2  = list2.next\n",
    "            else:\n",
    "                current.next = list1 \n",
    "                list1 = list1.next \n",
    "\n",
    "            current = current.next\n",
    "        if list1:\n",
    "            current.next = list1 \n",
    "        \n",
    "        if list2:\n",
    "            current.next = list2 \n",
    "        \n",
    "        return dummy.next \n",
    "    \n",
    "\n",
    "    def mergeTwoLists(self, list1: Optional[ListNode], list2: Optional[ListNode]) -> Optional[ListNode]:\n",
    "        if not list1 or not list2:\n",
    "            return list1 if list1 else list2 \n",
    "        \n",
    "        if list1.val > list2.val:\n",
    "            list1, list2 = list2, list1 \n",
    "\n",
    "        list1.next = self.mergeTwoLists(list1.next, list2)\n",
    "        \n",
    "        return list1\n",
    "    \n",
    "\n",
    "solution = Solution()\n",
    "list_node1 = ListNode(0, ListNode(2, ListNode(6)))\n",
    "list_node2 = ListNode(1, ListNode(3, ListNode(5)))\n",
    "\n",
    "solution.mergeTwoLists(list_node1, list_node2)"
   ]
  },
  {
   "cell_type": "markdown",
   "metadata": {},
   "source": [
    "394. Decode String"
   ]
  },
  {
   "cell_type": "code",
   "execution_count": 12,
   "metadata": {},
   "outputs": [
    {
     "data": {
      "text/plain": [
       "'accaccacc'"
      ]
     },
     "execution_count": 12,
     "metadata": {},
     "output_type": "execute_result"
    }
   ],
   "source": [
    "''' \n",
    "Example 1:\n",
    "\n",
    "Input: s = \"3[a]2[bc]\"\n",
    "Output: \"aaabcbc\"\n",
    "Example 2:\n",
    "\n",
    "Input: s = \"3[a2[c]]\"\n",
    "Output: \"accaccacc\"\n",
    "\n",
    "'''\n",
    "\n",
    "class Solution:\n",
    "    def decodeString(self, s: str) -> str:\n",
    "        stack = []\n",
    "        for i in range(len(s)):\n",
    "            if s[i] != ']':\n",
    "                stack.append(s[i])\n",
    "            else:\n",
    "                substr = \"\"\n",
    "                while stack and stack[-1] != '[':\n",
    "                    substr = stack.pop() + substr \n",
    "\n",
    "                stack.pop()\n",
    "\n",
    "                k = \"\"\n",
    "                while stack and stack[-1].isdigit():\n",
    "                    k = stack.pop() + k \n",
    "\n",
    "                stack.append(int(k) * substr)\n",
    "\n",
    "        return \"\".join(stack)\n",
    "    \n",
    "\n",
    "solution = Solution()\n",
    "solution.decodeString(\"3[a2[c]]\")"
   ]
  },
  {
   "cell_type": "markdown",
   "metadata": {},
   "source": [
    "### Merge Sort"
   ]
  },
  {
   "cell_type": "code",
   "execution_count": 16,
   "metadata": {},
   "outputs": [
    {
     "data": {
      "text/plain": [
       "[1, 2, 3, 5]"
      ]
     },
     "execution_count": 16,
     "metadata": {},
     "output_type": "execute_result"
    }
   ],
   "source": [
    "def merge(left, right):\n",
    "    sorted_list = []\n",
    "\n",
    "    i = j = 0\n",
    "    while i < len(left) and j < len(right):\n",
    "        if left[i] < right[j]:\n",
    "            sorted_list.append(left[i])\n",
    "            i += 1 \n",
    "        else:\n",
    "            sorted_list.append(right[j])\n",
    "            j += 1 \n",
    "\n",
    "    if i != len(left):\n",
    "        sorted_list.extend(left[i:])\n",
    "\n",
    "    if j != len(right):\n",
    "        sorted_list.extend(right[j:])\n",
    "    \n",
    "    return sorted_list\n",
    "\n",
    "def merge_sort(nums):\n",
    "    if len(nums) < 2:\n",
    "        return nums \n",
    "    \n",
    "    mid = len(nums) // 2 \n",
    "\n",
    "    left = merge_sort(nums[:mid])\n",
    "    right = merge_sort(nums[mid:])\n",
    "\n",
    "    return merge(left, right)\n",
    "\n",
    "\n",
    "merge_sort([2, 5, 1, 3])"
   ]
  },
  {
   "cell_type": "markdown",
   "metadata": {},
   "source": [
    "148. Sort List"
   ]
  },
  {
   "cell_type": "code",
   "execution_count": 14,
   "metadata": {},
   "outputs": [],
   "source": [
    "''' \n",
    "Input: head = [4,2,1,3]\n",
    "Output: [1,2,3,4]\n",
    "'''\n",
    "\n",
    "# Definition for singly-linked list.\n",
    "# class ListNode:\n",
    "#     def __init__(self, val=0, next=None):\n",
    "#         self.val = val\n",
    "#         self.next = next\n",
    "class Solution:\n",
    "    def sortList(self, head: Optional[ListNode]) -> Optional[ListNode]:\n",
    "        # Base condition \n",
    "        if not head or not head.next:\n",
    "            return head \n",
    "        \n",
    "        left = head \n",
    "        right = self.getmid(head)\n",
    "        temp = right.next\n",
    "        right.next = None \n",
    "        right = temp \n",
    "\n",
    "        left = self.sortList(left)\n",
    "        right = self.sortList(right)\n",
    "        return self.merge(left, right)\n",
    "    \n",
    "\n",
    "    def getmid(self, head):\n",
    "        slow, fast = head, head.next \n",
    "        while fast and fast.next:\n",
    "            slow = slow.next \n",
    "            fast = fast.next.next \n",
    "        return slow \n",
    "    \n",
    "\n",
    "    def merge(self, left, right):\n",
    "        dummy = ListNode()\n",
    "        curr = dummy \n",
    "        while left and right:\n",
    "            if left.val < right.val:\n",
    "                curr.next = left \n",
    "                left = left.next \n",
    "            else:\n",
    "                curr.next = right\n",
    "                right = right.next \n",
    "            curr = curr.next \n",
    "\n",
    "        if left:\n",
    "            curr.next = left \n",
    "\n",
    "        if right:\n",
    "            curr.next = right\n",
    "        return dummy.next "
   ]
  },
  {
   "cell_type": "markdown",
   "metadata": {},
   "source": [
    "## Quick Sort/ Quick Select Sort"
   ]
  },
  {
   "cell_type": "code",
   "execution_count": 43,
   "metadata": {},
   "outputs": [
    {
     "data": {
      "text/plain": [
       "[1, 3, 4, 4, 5, 5, 6]"
      ]
     },
     "execution_count": 43,
     "metadata": {},
     "output_type": "execute_result"
    }
   ],
   "source": [
    "## Quick Sort\n",
    "\n",
    "def quick_sort(arr):\n",
    "    if len(arr) <= 1:\n",
    "        return arr \n",
    "    \n",
    "    pivot = arr[len(arr) // 2]\n",
    "    left = [num for num in arr if num < pivot]\n",
    "    middle = [num for num in arr if num == pivot]\n",
    "    right = [num for num in arr if num > pivot]\n",
    "\n",
    "    return quick_sort(left) + middle + quick_sort(right)\n",
    "\n",
    "quick_sort([1, 5, 5, 6, 3, 4, 4])"
   ]
  },
  {
   "cell_type": "markdown",
   "metadata": {},
   "source": [
    "In-Place Partition (Lomuto's Algorithm)\n"
   ]
  },
  {
   "cell_type": "code",
   "execution_count": 57,
   "metadata": {},
   "outputs": [
    {
     "data": {
      "text/plain": [
       "[1, 3, 4, 4, 5, 5, 6]"
      ]
     },
     "execution_count": 57,
     "metadata": {},
     "output_type": "execute_result"
    }
   ],
   "source": [
    "def partition(arr, low, high):\n",
    "    pivot = arr[high]  # Choosing the last element as pivot\n",
    "    i = low - 1  # Pointer for smaller element\n",
    "\n",
    "    for j in range(low, high):\n",
    "        if arr[j] < pivot:\n",
    "            i += 1\n",
    "            arr[i], arr[j] = arr[j], arr[i]  # Swap\n",
    "\n",
    "    arr[i + 1], arr[high] = arr[high], arr[i + 1]  # Swap pivot to correct position\n",
    "    return i + 1\n",
    "\n",
    "def quick_sort_inplace(arr, low, high):\n",
    "    if low < high:\n",
    "        pi = partition(arr, low, high)  # Get pivot index\n",
    "        quick_sort_inplace(arr, low, pi - 1)  # Sort left\n",
    "        quick_sort_inplace(arr, pi + 1, high)  # Sort right\n",
    "        \n",
    "arr = [1, 5, 5, 6, 3, 4, 4]\n",
    "quick_sort_inplace(arr, 0, 6)\n",
    "arr"
   ]
  },
  {
   "cell_type": "markdown",
   "metadata": {},
   "source": [
    "75. Sort Colors (### Dutch Flag algorithm)"
   ]
  },
  {
   "cell_type": "code",
   "execution_count": 27,
   "metadata": {},
   "outputs": [
    {
     "data": {
      "text/plain": [
       "[0, 0, 1, 1, 2, 2]"
      ]
     },
     "execution_count": 27,
     "metadata": {},
     "output_type": "execute_result"
    }
   ],
   "source": [
    "''' \n",
    "Example 1:\n",
    "\n",
    "Input: nums = [2,0,2,1,1,0]\n",
    "Output: [0,0,1,1,2,2]\n",
    "'''\n",
    "\n",
    "class Solution:\n",
    "    def sortColors(self, nums: List[int]) -> None:\n",
    "        \"\"\"\n",
    "        Do not return anything, modify nums in-place instead.\n",
    "        \"\"\"\n",
    "        low, mid, high = 0, 0, len(nums) - 1\n",
    "        while mid <= high:\n",
    "            if nums[mid] ==0:\n",
    "                nums[low], nums[mid] = nums[mid], nums[low]\n",
    "                mid += 1\n",
    "                low += 1\n",
    "            elif nums[mid] == 1:\n",
    "                mid += 1\n",
    "            else:\n",
    "                nums[high], nums[mid] = nums[mid], nums[high]\n",
    "                high -= 1\n",
    "        return nums \n",
    "    \n",
    "solution = Solution()\n",
    "solution.sortColors([2, 0, 2, 1, 1, 0])"
   ]
  },
  {
   "cell_type": "markdown",
   "metadata": {},
   "source": [
    "215. Kth Largest Element in an Array (Quick Select algorithm)"
   ]
  },
  {
   "cell_type": "code",
   "execution_count": 39,
   "metadata": {},
   "outputs": [
    {
     "data": {
      "text/plain": [
       "5"
      ]
     },
     "execution_count": 39,
     "metadata": {},
     "output_type": "execute_result"
    }
   ],
   "source": [
    "''' \n",
    "Input: nums = [3,2,1,5,6,4], k = 2\n",
    "Output: 5\n",
    "\n",
    "'''\n",
    "import heapq\n",
    "\n",
    "class Solution:\n",
    "    def findKthLargest(self, nums: List[int], k: int) -> int:\n",
    "        k = len(nums) - k\n",
    "        def quick_select(l, r):\n",
    "            p, pivot = l, nums[r]\n",
    "            for i in range(l, r):\n",
    "                if nums[i] <= pivot:\n",
    "                    nums[p], nums[i] = nums[i], nums[p]\n",
    "                    p += 1\n",
    "            nums[p], nums[r] = nums[r], nums[p]\n",
    "\n",
    "            if p > k:\n",
    "                return quick_select(l, p - 1)\n",
    "            elif p < k: \n",
    "                return quick_select(p + 1, r)\n",
    "            else: \n",
    "                return nums[p]\n",
    "        return quick_select(0, len(nums) - 1)\n",
    "    \n",
    "\n",
    "class Solution:\n",
    "    def findKthLargest(self, nums: List[int], k: int) -> int:\n",
    "        k = len(nums) - k\n",
    "\n",
    "        def quickSelect(left, right):            \n",
    "            pivot = nums[right]\n",
    "            low = left\n",
    "            high = right\n",
    "\n",
    "            while low <= high:\n",
    "                while low <= high and nums[low] < pivot:\n",
    "                    low += 1\n",
    "                while low <= high and nums[high] > pivot:\n",
    "                    high -= 1\n",
    "                if low <= high:\n",
    "                    nums[low], nums[high] = nums[high], nums[low]\n",
    "                    low += 1\n",
    "                    high -= 1\n",
    "\n",
    "            if k <= high:\n",
    "                return quickSelect(left, high)\n",
    "            elif k >= low:\n",
    "                return quickSelect(low, right)\n",
    "            else:\n",
    "                return nums[k]\n",
    "\n",
    "        return quickSelect(0, len(nums) - 1)\n",
    "    \n",
    "    def findKthLargest(self, nums: List[int], k: int) -> int:\n",
    "        max_heap = []\n",
    "        for n in nums:\n",
    "            max_heap.append(-n)\n",
    "        heapq.heapify(max_heap)\n",
    "        while k > 0:\n",
    "            result = -heapq.heappop(max_heap)\n",
    "            k -= 1\n",
    "        return result\n",
    "    \n",
    "solution = Solution()\n",
    "solution.findKthLargest([3,2,1,5,6,4], 2)\n",
    "                \n"
   ]
  },
  {
   "cell_type": "markdown",
   "metadata": {},
   "source": [
    "## Binary Search Problems"
   ]
  },
  {
   "cell_type": "code",
   "execution_count": 59,
   "metadata": {},
   "outputs": [
    {
     "data": {
      "text/plain": [
       "2"
      ]
     },
     "execution_count": 59,
     "metadata": {},
     "output_type": "execute_result"
    }
   ],
   "source": [
    "## Binary Search \n",
    "\n",
    "def binary_search(arr, target):\n",
    "    left = 0 \n",
    "    right = len(arr) - 1\n",
    "    while left <= right:\n",
    "        mid = left + ((right - left) // 2)\n",
    "        if target > arr[mid]:\n",
    "            left = mid + 1 \n",
    "        elif target < arr[mid]:\n",
    "            right = mid - 1 \n",
    "        else:\n",
    "            return mid \n",
    "arr = [1, 5, 6, 8, 9]\n",
    "target = 6 \n",
    "binary_search(arr, target)"
   ]
  },
  {
   "cell_type": "markdown",
   "metadata": {},
   "source": [
    "34. Find First and Last Position of Element in Sorted Array"
   ]
  },
  {
   "cell_type": "code",
   "execution_count": 67,
   "metadata": {},
   "outputs": [
    {
     "data": {
      "text/plain": [
       "[3, 5]"
      ]
     },
     "execution_count": 67,
     "metadata": {},
     "output_type": "execute_result"
    }
   ],
   "source": [
    "''' \n",
    "Input: nums = [5,7,7,8,8,10], target = 8\n",
    "Output: [3,4]\n",
    "'''\n",
    "\n",
    "class Solution:\n",
    "    def searchRange(self, nums: List[int], target: int) -> List[int]:\n",
    "        left = self.binary_search(nums, target, True)\n",
    "        right = self.binary_search(nums, target, False)\n",
    "        return [left, right]\n",
    "    \n",
    "\n",
    "    def binary_search(self, nums, target, left_bias):\n",
    "        left = 0 \n",
    "        right = len(nums) - 1\n",
    "        i = -1\n",
    "        while left <= right:\n",
    "            mid = left + ((right - left) // 2)\n",
    "            if target > nums[mid]:\n",
    "                left = mid + 1 \n",
    "            elif target < nums[mid]:\n",
    "                right = mid - 1 \n",
    "            else:\n",
    "                i = mid \n",
    "                if left_bias:\n",
    "                    right = mid - 1\n",
    "                else:\n",
    "                    left = mid + 1\n",
    "        return i\n",
    "\n",
    "solution = Solution()\n",
    "solution.searchRange([5,7,7,8,8,8,10], 8)"
   ]
  },
  {
   "cell_type": "markdown",
   "metadata": {},
   "source": [
    "33. Search in Rotated Sorted Array"
   ]
  },
  {
   "cell_type": "code",
   "execution_count": 69,
   "metadata": {},
   "outputs": [
    {
     "data": {
      "text/plain": [
       "4"
      ]
     },
     "execution_count": 69,
     "metadata": {},
     "output_type": "execute_result"
    }
   ],
   "source": [
    "''' \n",
    "Input: nums = [4,5,6,7,0,1,2], target = 0\n",
    "Output: 4\n",
    "\n",
    "'''\n",
    "\n",
    "class Solution:\n",
    "    def search(self, nums: List[int], target: int) -> int:\n",
    "        return self.modified_binary_search(nums, target, 0, len(nums) - 1)\n",
    "\n",
    "    def modified_binary_search(self, nums, target, left, right):\n",
    "        # If element is not found\n",
    "        if left > right: \n",
    "            return -1 \n",
    "        \n",
    "        mid = left + (right - left) // 2\n",
    "\n",
    "        if target == nums[mid]:\n",
    "            return mid\n",
    "        # If left half is sorted \n",
    "        if nums[mid] >= nums[left]:\n",
    "            if target >= nums[left] and target < nums[mid]:\n",
    "                return self.modified_binary_search(nums, target, left, mid)\n",
    "            else:\n",
    "                return self.modified_binary_search(nums, target, mid + 1, right)\n",
    "        # else right half is sorted \n",
    "        else:\n",
    "            if target >= nums[mid + 1] and target <= nums[right]:\n",
    "                return self.modified_binary_search(nums, target, mid + 1, right)\n",
    "            else:\n",
    "                return self.modified_binary_search(nums, target, left, mid)\n",
    "solution = Solution()\n",
    "solution.search([4,5,6,7,0,1,2], 0)"
   ]
  },
  {
   "cell_type": "markdown",
   "metadata": {},
   "source": [
    "162. Find Peak Element"
   ]
  },
  {
   "cell_type": "code",
   "execution_count": 72,
   "metadata": {},
   "outputs": [
    {
     "data": {
      "text/plain": [
       "2"
      ]
     },
     "execution_count": 72,
     "metadata": {},
     "output_type": "execute_result"
    }
   ],
   "source": [
    "''' \n",
    "Input: nums = [1,2,3,1]\n",
    "Output: 2\n",
    "\n",
    "'''\n",
    "\n",
    "class Solution:\n",
    "    def findPeakElement(self, nums: List[int]) -> int:\n",
    "        left = 0\n",
    "        right = len(nums) - 1\n",
    "        while left <= right:\n",
    "            mid = left + ((right - left)//2)\n",
    "            if mid > 0 and nums[mid] < nums[mid - 1]:\n",
    "                right = mid - 1 \n",
    "            elif mid < len(nums) - 1 and nums[mid] < nums[mid + 1]:\n",
    "                left = mid + 1 \n",
    "            else:\n",
    "                return mid \n",
    "\n",
    "solution = Solution()\n",
    "solution.findPeakElement([1, 2, 3, 1]) \n"
   ]
  },
  {
   "cell_type": "markdown",
   "metadata": {},
   "source": [
    "875. Koko Eating Bananas"
   ]
  },
  {
   "cell_type": "code",
   "execution_count": 80,
   "metadata": {},
   "outputs": [
    {
     "data": {
      "text/plain": [
       "4"
      ]
     },
     "execution_count": 80,
     "metadata": {},
     "output_type": "execute_result"
    }
   ],
   "source": [
    "''' \n",
    "Input: piles = [3,6,7,11], h = 8\n",
    "Output: 4\n",
    "'''\n",
    "import math\n",
    "\n",
    "import math\n",
    "\n",
    "class Solution:\n",
    "    def minEatingSpeed(self, piles: List[int], h: int) -> int:\n",
    "        left, right = 1, max(piles)\n",
    "        res = right  \n",
    "        while left <= right:\n",
    "            mid = (left + right) // 2\n",
    "            hours = 0\n",
    "            for pile in piles:\n",
    "                hours += math.ceil(pile / mid)\n",
    "            if hours <= h:\n",
    "                res = min(mid, res)\n",
    "                right = mid - 1 \n",
    "            else:\n",
    "                left = mid + 1 \n",
    "        return res\n",
    "    \n",
    "solution = Solution()\n",
    "solution.minEatingSpeed([3, 6, 7, 11], 8)"
   ]
  },
  {
   "cell_type": "markdown",
   "metadata": {},
   "source": [
    "74. Search a 2D Matrix"
   ]
  },
  {
   "cell_type": "code",
   "execution_count": 89,
   "metadata": {},
   "outputs": [
    {
     "data": {
      "text/plain": [
       "True"
      ]
     },
     "execution_count": 89,
     "metadata": {},
     "output_type": "execute_result"
    }
   ],
   "source": [
    "''' \n",
    "Input: matrix = [[1,3,5,7],[10,11,16,20],[23,30,34,60]], target = 3\n",
    "Output: true\n",
    "\n",
    "'''\n",
    "\n",
    "class Solution:\n",
    "    def searchMatrix(self, matrix: List[List[int]], target: int) -> bool:\n",
    "        row_index = self.search_pottential_row(matrix, target)\n",
    "        if row_index == -1:\n",
    "            return False \n",
    "        else:\n",
    "            return self.binary_Search_on_row(matrix, target, row_index)\n",
    "        \n",
    "\n",
    "    def search_pottential_row(self, matrix, target):\n",
    "        left = 0 \n",
    "        right = len(matrix) - 1\n",
    "        while left <= right:\n",
    "            mid = left + (right - left) // 2\n",
    "            if matrix[mid][0] <= target <= matrix[mid][-1]:\n",
    "                return mid \n",
    "            elif matrix[mid][0] < target:\n",
    "                left = mid + 1\n",
    "            elif matrix[mid][0] > target:\n",
    "                right = mid - 1\n",
    "        return -1 \n",
    "    \n",
    "    def binary_Search_on_row(self, matrix, target, row_index):\n",
    "        left = 0 \n",
    "        right = len(matrix[row_index]) - 1\n",
    "        while left <= right:\n",
    "            mid = left + (right - left) // 2\n",
    "            if matrix[row_index][mid] < target:\n",
    "                left = mid + 1\n",
    "            elif matrix[row_index][mid] > target:\n",
    "                right = mid - 1\n",
    "            elif matrix[row_index][mid] == target:\n",
    "                return True \n",
    "        return False\n",
    "\n",
    "solution = Solution()\n",
    "solution.searchMatrix([[1,3,5,7],[10,11,16,20],[23,30,34,60]], 3) \n"
   ]
  },
  {
   "cell_type": "markdown",
   "metadata": {},
   "source": [
    "4. Median of Two Sorted Arrays"
   ]
  },
  {
   "cell_type": "code",
   "execution_count": 101,
   "metadata": {},
   "outputs": [
    {
     "name": "stdout",
     "output_type": "stream",
     "text": [
      "2 1\n"
     ]
    },
    {
     "data": {
      "text/plain": [
       "3.0"
      ]
     },
     "execution_count": 101,
     "metadata": {},
     "output_type": "execute_result"
    }
   ],
   "source": [
    "''' \n",
    "Input: nums1 = [1,3], nums2 = [2]\n",
    "Output: 2.00000\n",
    "Explanation: merged array = [1,2,3] and median is 2.\n",
    "\n",
    "'''\n",
    "\n",
    "class Solution:\n",
    "    def findMedianSortedArrays(self, nums1: List[int], nums2: List[int]) -> float:\n",
    "        A, B = nums1, nums2\n",
    "        if len(A) > len(B):\n",
    "            A, B = B, A\n",
    "        \n",
    "        total = len(A) + len(B)\n",
    "        half = total // 2 \n",
    "\n",
    "        l, r = 0, len(A) - 1\n",
    "\n",
    "        while True:\n",
    "            i = (l + r) // 2 # For A (This is index value and not the count ex for this A[0], A[1], A[2])\n",
    "            j = half - i - 2  # For B (This is index value and not the count ex for this B[0], B[1])\n",
    "            print(i, j)\n",
    "\n",
    "            Aleft = A[i] if i >= 0 else float('-infinity')\n",
    "            Bleft = B[j] if j >= 0 else float('-infinity')\n",
    "            ARight = A[i + 1] if i + 1 <= len(A) - 1 else float('infinity')\n",
    "            BRight = B[j + 1] if j + 1 <= len(B) - 1 else float('infinity')\n",
    "\n",
    "            if Aleft <= BRight and Bleft <= ARight:\n",
    "                if total % 2 == 0:\n",
    "                    return (max(Aleft, Bleft) + min(ARight, BRight)) / 2 \n",
    "                else:\n",
    "                    return min(ARight, BRight)\n",
    "            elif Aleft > BRight:\n",
    "                r = i - 1\n",
    "            else:\n",
    "                l = i + 1\n",
    "\n",
    "solution = Solution()\n",
    "solution.findMedianSortedArrays([1, 2, 3, 4, 5], [1, 2, 3, 4, 5])"
   ]
  },
  {
   "cell_type": "markdown",
   "metadata": {},
   "source": [
    "## Backtracking"
   ]
  },
  {
   "cell_type": "markdown",
   "metadata": {},
   "source": [
    "22. Generate Parentheses"
   ]
  },
  {
   "cell_type": "code",
   "execution_count": 124,
   "metadata": {},
   "outputs": [
    {
     "data": {
      "text/plain": [
       "['((()))', '(()())', '(())()', '()(())', '()()()']"
      ]
     },
     "execution_count": 124,
     "metadata": {},
     "output_type": "execute_result"
    }
   ],
   "source": [
    "''' \n",
    "Input: n = 3\n",
    "Output: [\"((()))\",\"(()())\",\"(())()\",\"()(())\",\"()()()\"]\n",
    "'''\n",
    "\n",
    "class Solution:\n",
    "    def generateParenthesis(self, n: int) -> List[str]:\n",
    "        # only add open paranthesis If open count <= n \n",
    "        # only add closed paranthesis if closed count < closed \n",
    "        # Base case: If both open and closed == n \n",
    "        res = []\n",
    "        def backtrack(open_count, closed_Count, path):\n",
    "            if open_count == closed_Count == n:\n",
    "                return res.append(\"\".join(path))\n",
    "            \n",
    "            if open_count < n:\n",
    "                path.append('(')\n",
    "                backtrack(open_count + 1, closed_Count, path)\n",
    "                path.pop()\n",
    "\n",
    "            if closed_Count < open_count:\n",
    "                path.append(')')\n",
    "                backtrack(open_count, closed_Count + 1, path)\n",
    "                path.pop()\n",
    "        backtrack(0, 0, [])\n",
    "\n",
    "        return res\n",
    "solution = Solution()\n",
    "solution.generateParenthesis(3)"
   ]
  },
  {
   "cell_type": "markdown",
   "metadata": {},
   "source": [
    "46. Permutations"
   ]
  },
  {
   "cell_type": "code",
   "execution_count": 114,
   "metadata": {},
   "outputs": [
    {
     "data": {
      "text/plain": [
       "[[1, 2, 3], [1, 3, 2], [2, 1, 3], [2, 3, 1], [3, 1, 2], [3, 2, 1]]"
      ]
     },
     "execution_count": 114,
     "metadata": {},
     "output_type": "execute_result"
    }
   ],
   "source": [
    "class Solution:\n",
    "    def permute(self, nums: List[int]) -> List[List[int]]:\n",
    "        result = []\n",
    "        def backtrack(path, used):\n",
    "            if len(path) == len(nums):\n",
    "                result.append(path[:])\n",
    "                return \n",
    "            \n",
    "            for i in range(len(nums)):\n",
    "                if used[i]:\n",
    "                    continue\n",
    "                used[i] = True \n",
    "                path.append(nums[i])\n",
    "                backtrack(path, used)\n",
    "                path.pop()\n",
    "                used[i] = False \n",
    "        backtrack([], [False] * len(nums))\n",
    "        return result \n",
    "    \n",
    "\n",
    "solution = Solution()\n",
    "solution.permute([1, 2, 3])\n"
   ]
  },
  {
   "cell_type": "markdown",
   "metadata": {},
   "source": [
    "78. Subsets"
   ]
  },
  {
   "cell_type": "code",
   "execution_count": 115,
   "metadata": {},
   "outputs": [
    {
     "data": {
      "text/plain": [
       "[[], [1], [1, 2], [1, 2, 3], [1, 3], [2], [2, 3], [3]]"
      ]
     },
     "execution_count": 115,
     "metadata": {},
     "output_type": "execute_result"
    }
   ],
   "source": [
    "''' \n",
    "Input: nums = [1,2,3]\n",
    "Output: [[],[1],[2],[1,2],[3],[1,3],[2,3],[1,2,3]]\n",
    "'''\n",
    "\n",
    "class Solution:\n",
    "    def subsets(self, nums: List[int]) -> List[List[int]]:\n",
    "        result = []\n",
    "        def backtrack(start, path):\n",
    "            result.append(path[:])\n",
    "\n",
    "            for i in range(start, len(nums)):\n",
    "                path.append(nums[i])\n",
    "                backtrack(i + 1, path)\n",
    "                path.pop()\n",
    "        backtrack(0, [])\n",
    "        return result \n",
    "    \n",
    "solution = Solution()\n",
    "solution.subsets([1, 2, 3])"
   ]
  },
  {
   "cell_type": "markdown",
   "metadata": {},
   "source": [
    "131. Palindrome Partitioning"
   ]
  },
  {
   "cell_type": "code",
   "execution_count": 118,
   "metadata": {},
   "outputs": [
    {
     "data": {
      "text/plain": [
       "[['a', 'a', 'b'], ['aa', 'b']]"
      ]
     },
     "execution_count": 118,
     "metadata": {},
     "output_type": "execute_result"
    }
   ],
   "source": [
    "''' \n",
    "Input: s = \"aab\"\n",
    "Output: [[\"a\",\"a\",\"b\"],[\"aa\",\"b\"]]\n",
    "'''\n",
    "\n",
    "class Solution:\n",
    "    def partition(self, s: str) -> List[List[str]]:\n",
    "        def is_palindrome(substring):\n",
    "            return substring == substring[::-1]\n",
    "        result = []\n",
    "        def backtrack(start, path):\n",
    "            if start == len(s):\n",
    "                result.append(path[:])\n",
    "                return \n",
    "            \n",
    "            for end in range(start, len(s)):\n",
    "                if is_palindrome(s[start:end+1]):\n",
    "                    path.append(s[start:end+1])\n",
    "                    backtrack(end + 1, path)\n",
    "                    path.pop()\n",
    "        backtrack(0, [])\n",
    "        return result\n",
    "solution = Solution()\n",
    "solution.partition(\"aab\")"
   ]
  },
  {
   "cell_type": "markdown",
   "metadata": {},
   "source": [
    "51. N-Queens"
   ]
  },
  {
   "cell_type": "code",
   "execution_count": 123,
   "metadata": {},
   "outputs": [
    {
     "data": {
      "text/plain": [
       "[['.Q..', '...Q', 'Q...', '..Q.'], ['..Q.', 'Q...', '...Q', '.Q..']]"
      ]
     },
     "execution_count": 123,
     "metadata": {},
     "output_type": "execute_result"
    }
   ],
   "source": [
    "''' \n",
    "Input: n = 4\n",
    "Output: [[\".Q..\",\"...Q\",\"Q...\",\"..Q.\"],[\"..Q.\",\"Q...\",\"...Q\",\".Q..\"]]\n",
    "'''\n",
    "\n",
    "class Solution:\n",
    "    def solveNQueens(self, n: int) -> List[List[str]]:\n",
    "        res = []\n",
    "        col = set()\n",
    "        pos_diagonal = set()\n",
    "        neg_diagonal = set()\n",
    "\n",
    "        board = [['.'] * n for _ in range(n)]\n",
    "\n",
    "        def backtrack(r):\n",
    "            if r == n:\n",
    "                copy = [\"\".join(row) for row in board]\n",
    "                res.append(copy)\n",
    "\n",
    "            for c in range(n):\n",
    "                if c in col or r + c in pos_diagonal or r - c in neg_diagonal:\n",
    "                    continue\n",
    "                col.add(c)\n",
    "                pos_diagonal.add(r + c)\n",
    "                neg_diagonal.add(r - c)\n",
    "                board[r][c] = 'Q'\n",
    "                backtrack(r + 1)\n",
    "                col.remove(c)\n",
    "                pos_diagonal.remove(r + c)\n",
    "                neg_diagonal.remove(r - c)\n",
    "                board[r][c] = '.'\n",
    "\n",
    "        backtrack(0)\n",
    "        return res \n",
    "\n",
    "solution = Solution()\n",
    "solution.solveNQueens(4)\n",
    "\n",
    "\n"
   ]
  },
  {
   "cell_type": "markdown",
   "metadata": {},
   "source": [
    "### Binary Seach Tree"
   ]
  },
  {
   "cell_type": "code",
   "execution_count": 143,
   "metadata": {},
   "outputs": [
    {
     "name": "stdout",
     "output_type": "stream",
     "text": [
      "1\n",
      "2\n",
      "3\n",
      "4\n",
      "5\n"
     ]
    }
   ],
   "source": [
    "from collections import deque\n",
    "class Node:\n",
    "    def __init__(self, value):\n",
    "        self.left = None \n",
    "        self.value = value\n",
    "        self.right = None\n",
    "\n",
    "class BinarySeachTree:\n",
    "    def insert(self, root, value):\n",
    "        if root is None:\n",
    "            return Node(value)\n",
    "        if value < root.value:\n",
    "            root.left = self.insert(root.left, value)\n",
    "        else:\n",
    "            root.right = self.insert(root.right, value)\n",
    "        return root \n",
    "    # Depth First Seach \n",
    "    def inorder(self, root):\n",
    "        if root:\n",
    "            self.inorder(root.left)\n",
    "            print(root.value)\n",
    "            self.inorder(root.right)\n",
    "\n",
    "    def preorder(self, root):\n",
    "        if root:\n",
    "            print(root.value)\n",
    "            self.preorder(root.left)\n",
    "            self.preorder(root.right)\n",
    "    \n",
    "    def postorder(self, root):\n",
    "        if root:\n",
    "            self.postorder(root.left)\n",
    "            self.postorder(root.right) \n",
    "            print(root.value)\n",
    "\n",
    "    # Breadth First Search\n",
    "\n",
    "    def levelorder(self, root):\n",
    "        if not root:\n",
    "            return \n",
    "        \n",
    "        queue = deque([root])\n",
    "        while queue:\n",
    "            node = queue.popleft()\n",
    "            if node:\n",
    "                print(node.value)\n",
    "            \n",
    "            if node.left:\n",
    "                queue.append(node.left)\n",
    "            \n",
    "            if node.right:\n",
    "                queue.append(node.right)\n",
    "        \n",
    "\n",
    "bst = BinarySeachTree()\n",
    "root = None\n",
    "values = [4, 2, 1, 3, 5]\n",
    "for value in values:\n",
    "    root = bst.insert(root, value)\n",
    "\n",
    "root = Node(1)\n",
    "root.left = Node(2)\n",
    "root.right = Node(3)\n",
    "root.left.left = Node(4)\n",
    "root.left.right = Node(5)\n",
    "\n",
    "bst.levelorder(root)"
   ]
  },
  {
   "cell_type": "markdown",
   "metadata": {},
   "source": [
    "102. Binary Tree Level Order Traversal"
   ]
  },
  {
   "cell_type": "code",
   "execution_count": 6,
   "metadata": {},
   "outputs": [
    {
     "name": "stdout",
     "output_type": "stream",
     "text": [
      "original: 1\n",
      "popped:  3\n",
      "inside for:  0\n",
      "original: 2\n",
      "popped:  9\n",
      "inside for:  1\n",
      "popped:  20\n",
      "inside for:  2\n",
      "original: 2\n",
      "popped:  15\n",
      "inside for:  1\n",
      "popped:  7\n",
      "inside for:  0\n"
     ]
    },
    {
     "data": {
      "text/plain": [
       "[[3], [9, 20], [15, 7]]"
      ]
     },
     "execution_count": 6,
     "metadata": {},
     "output_type": "execute_result"
    }
   ],
   "source": [
    "''' \n",
    "Input: root = [3,9,20,null,null,15,7]\n",
    "Output: [[3],[9,20],[15,7]]\n",
    "'''\n",
    "from typing import Optional, List\n",
    "from collections import deque\n",
    "\n",
    "# Definition for a binary tree node.\n",
    "class TreeNode:\n",
    "    def __init__(self, val=0, left=None, right=None):\n",
    "        self.val = val\n",
    "        self.left = left\n",
    "        self.right = right\n",
    "class Solution:\n",
    "    def levelOrder(self, root: Optional[TreeNode]) -> List[List[int]]:\n",
    "        res = []\n",
    "        queue = deque([root])\n",
    "        while queue:\n",
    "            queue_len = len(queue)\n",
    "            print('original:', queue_len)\n",
    "            level = []\n",
    "            for _ in range(queue_len):\n",
    "                node = queue.popleft()\n",
    "                print('popped: ', node.val)\n",
    "                print('inside for: ', len(queue))\n",
    "                if node:\n",
    "                    level.append(node.val)\n",
    "                    if node.left:\n",
    "                        queue.append(node.left)\n",
    "                    if node.right:\n",
    "                        queue.append(node.right)\n",
    "            if level:\n",
    "                res.append(level)\n",
    "        return res\n",
    "    \n",
    "root = TreeNode(3)\n",
    "root.left = TreeNode(9)\n",
    "root.right = TreeNode(20)\n",
    "root.left.left = TreeNode(15)\n",
    "root.left.right = TreeNode(7)\n",
    "\n",
    "solution = Solution()\n",
    "solution.levelOrder(root)\n",
    "\n"
   ]
  },
  {
   "cell_type": "markdown",
   "metadata": {},
   "source": [
    "199. Binary Tree Right Side View"
   ]
  },
  {
   "cell_type": "code",
   "execution_count": 9,
   "metadata": {},
   "outputs": [
    {
     "data": {
      "text/plain": [
       "[1, 3, 4]"
      ]
     },
     "execution_count": 9,
     "metadata": {},
     "output_type": "execute_result"
    }
   ],
   "source": [
    "''' \n",
    "Input: root = [1,2,3,null,5,null,4]\n",
    "\n",
    "Output: [1,3,4]\n",
    "'''\n",
    "from collections import deque\n",
    "\n",
    "# Definition for a binary tree node.\n",
    "class TreeNode:\n",
    "    def __init__(self, val=0, left=None, right=None):\n",
    "        self.val = val\n",
    "        self.left = left\n",
    "        self.right = right\n",
    "class Solution:\n",
    "    def rightSideView(self, root: Optional[TreeNode]) -> List[int]:\n",
    "        res = []\n",
    "        queue = deque([root])\n",
    "        while queue:\n",
    "            level = []\n",
    "            for _ in range(len(queue)):\n",
    "                node = queue.popleft()\n",
    "                if node:\n",
    "                    level.append(node.val)\n",
    "                    if node.left:\n",
    "                        queue.append(node.left)\n",
    "                    if node.right:\n",
    "                        queue.append(node.right)\n",
    "            if level:\n",
    "                res.append(level[-1])\n",
    "        return res\n",
    "root = TreeNode(1)\n",
    "root.left = TreeNode(2)\n",
    "root.right = TreeNode(3)\n",
    "root.left.right = TreeNode(5)\n",
    "root.right.right = TreeNode(4)\n",
    "\n",
    "solution = Solution()\n",
    "solution.rightSideView(root)\n",
    "        "
   ]
  },
  {
   "cell_type": "code",
   "execution_count": 21,
   "metadata": {},
   "outputs": [
    {
     "name": "stdout",
     "output_type": "stream",
     "text": [
      "\n",
      "Final tree connections using next pointers:\n",
      "1 -> None\n",
      "2 -> 3 -> None\n",
      "5 -> 4 -> None\n"
     ]
    }
   ],
   "source": [
    "from collections import deque\n",
    "\n",
    "class Node:\n",
    "    def __init__(self, val: int = 0, left: 'Node' = None, right: 'Node' = None, next: 'Node' = None):\n",
    "        self.val = val\n",
    "        self.left = left\n",
    "        self.right = right\n",
    "        self.next = next\n",
    "\n",
    "    def __repr__(self):\n",
    "        # For debugging: show node's value and its next pointer's value\n",
    "        next_val = self.next.val if self.next else None\n",
    "        return f\"Node({self.val}, next={next_val})\"\n",
    "\n",
    "class Solution:\n",
    "    def connect(self, root: 'Node') -> 'Node':\n",
    "        if not root:\n",
    "            return root\n",
    "        \n",
    "        level = 0\n",
    "        queue = deque([root])\n",
    "        \n",
    "        while queue:\n",
    "            print(f\"\\nLevel {level}:\")\n",
    "            # Print out the nodes in the current level\n",
    "            current_level = list(queue)\n",
    "            print(\"Current nodes in level:\", current_level)\n",
    "            \n",
    "            # dummy node to start the next level chain\n",
    "            dummy = Node(0)\n",
    "            current = dummy\n",
    "            \n",
    "            # Process nodes for the current level\n",
    "            for _ in range(len(queue)):\n",
    "                node = queue.popleft()\n",
    "                print(f\"Processing node: {node.val}\")\n",
    "                \n",
    "                # Attach left child if present\n",
    "                if node.left:\n",
    "                    current.next = node.left\n",
    "                    current = current.next  # move current along the chain\n",
    "                    queue.append(node.left)\n",
    "                    print(f\"  Attached left child {node.left.val}. Next chain: {self._chain_as_str(dummy.next)}\")\n",
    "                \n",
    "                # Attach right child if present\n",
    "                if node.right:\n",
    "                    current.next = node.right\n",
    "                    current = current.next\n",
    "                    queue.append(node.right)\n",
    "                    print(f\"  Attached right child {node.right.val}. Next chain: {self._chain_as_str(dummy.next)}\")\n",
    "            \n",
    "            print('root: ', root)\n",
    "            \n",
    "            print(\"Completed level. Next level chain:\", self._chain_as_str(dummy.next))\n",
    "            level += 1\n",
    "        \n",
    "        return root\n",
    "\n",
    "    def _chain_as_str(self, node: 'Node'):\n",
    "        \"\"\"Helper function to return string representation of the chain of next pointers.\"\"\"\n",
    "        chain = []\n",
    "        while node:\n",
    "            chain.append(str(node.val))\n",
    "            node = node.next\n",
    "        return \" -> \".join(chain) if chain else \"None\"\n",
    "    \n",
    "    def connect(self, root):\n",
    "        if not root:\n",
    "            return root \n",
    "        dummy = Node(0)\n",
    "        cur = root \n",
    "        while cur:\n",
    "            temp = dummy \n",
    "\n",
    "            while cur:\n",
    "                if cur.left:\n",
    "                    temp.next = cur.left \n",
    "                    temp = temp.next \n",
    "                if cur.right:\n",
    "                    temp.next = cur.right \n",
    "                    temp = temp.next \n",
    "                cur = cur.next\n",
    "            cur = dummy.next \n",
    "            dummy.next = None \n",
    "        return root\n",
    "\n",
    "# Build sample tree for demonstration:\n",
    "#         1\n",
    "#       /   \\\n",
    "#      2     3\n",
    "#       \\      \\\n",
    "#        5      4\n",
    "root = Node(1)\n",
    "root.left = Node(2)\n",
    "root.right = Node(3)\n",
    "root.left.right = Node(5)\n",
    "root.right.right = Node(4)\n",
    "\n",
    "solution = Solution()\n",
    "connected_root = solution.connect(root)\n",
    "\n",
    "# To see the final connections at each level, traverse level by level using next pointers.\n",
    "print(\"\\nFinal tree connections using next pointers:\")\n",
    "\n",
    "def print_levels(root: 'Node'):\n",
    "    while root:\n",
    "        current = root\n",
    "        level_str = \"\"\n",
    "        next_level_start = None\n",
    "        while current:\n",
    "            level_str += f\"{current.val} -> \"\n",
    "            if not next_level_start:\n",
    "                next_level_start = current.left or current.right\n",
    "            current = current.next\n",
    "        print(level_str + \"None\")\n",
    "        root = next_level_start\n",
    "\n",
    "print_levels(connected_root)"
   ]
  },
  {
   "cell_type": "code",
   "execution_count": 22,
   "metadata": {},
   "outputs": [],
   "source": [
    "from collections import deque\n",
    "\n",
    "class Node:\n",
    "    def __init__(self, val: int = 0, left: 'Node' = None, right: 'Node' = None, next: 'Node' = None):\n",
    "        self.val = val\n",
    "        self.left = left\n",
    "        self.right = right\n",
    "        self.next = next\n",
    "\n",
    "class Solution:\n",
    "    def connect(self, root: 'Node') -> 'Node':\n",
    "        if not root:\n",
    "            return root\n",
    "        queue = deque([root])\n",
    "        while queue:\n",
    "            dummy = Node(0)\n",
    "            cur = dummy\n",
    "            for _ in range(len(queue)):\n",
    "                node = queue.popleft()\n",
    "                if node:\n",
    "                    if node.left:\n",
    "                        cur.next = node.left\n",
    "                        cur = cur.next\n",
    "                        queue.append(node.left)\n",
    "                    if node.right:\n",
    "                        cur.next = node.right  # fixed assignment here\n",
    "                        cur = cur.next\n",
    "                        queue.append(node.right)\n",
    "        return root\n",
    "    \n",
    "    def connect(self, root):\n",
    "        if not root:\n",
    "            return root \n",
    "        dummy = Node(0)\n",
    "        cur = root \n",
    "        while cur:\n",
    "            temp = dummy \n",
    "\n",
    "            while cur:\n",
    "                if cur.left:\n",
    "                    temp.next = cur.left \n",
    "                    temp = temp.next \n",
    "                if cur.right:\n",
    "                    temp.next = cur.right \n",
    "                    temp = temp.next \n",
    "                cur = cur.next\n",
    "            cur = dummy.next \n",
    "            dummy.next = None \n",
    "        return root\n",
    "\n",
    "# Build a sample tree using the Node class\n",
    "root = Node(1)\n",
    "root.left = Node(2)\n",
    "root.right = Node(3)\n",
    "root.left.right = Node(5)\n",
    "root.right.right = Node(4)\n",
    "\n",
    "solution = Solution()\n",
    "connected_root = solution.connect(root)"
   ]
  },
  {
   "cell_type": "markdown",
   "metadata": {},
   "source": [
    "144. Binary Tree Preorder Traversal"
   ]
  },
  {
   "cell_type": "code",
   "execution_count": 25,
   "metadata": {},
   "outputs": [
    {
     "data": {
      "text/plain": [
       "[1, 2, 3]"
      ]
     },
     "execution_count": 25,
     "metadata": {},
     "output_type": "execute_result"
    }
   ],
   "source": [
    "''' \n",
    "Input: root = [1,null,2,3]\n",
    "\n",
    "Output: [1,2,3]\n",
    "'''\n",
    "# Definition for a binary tree node.\n",
    "class TreeNode:\n",
    "    def __init__(self, val=0, left=None, right=None):\n",
    "        self.val = val\n",
    "        self.left = left\n",
    "        self.right = right\n",
    "class Solution:\n",
    "    def preorderTraversal(self, root: Optional[TreeNode]) -> List[int]:\n",
    "        res = []\n",
    "        def dfs(node):\n",
    "            if not node:\n",
    "                return \n",
    "            res.append(node.val)\n",
    "            dfs(node.left)\n",
    "            dfs(node.right)\n",
    "        dfs(root)\n",
    "        return res\n",
    "        \n",
    "root = TreeNode(1)\n",
    "root.right = TreeNode(2)\n",
    "root.right.left = TreeNode(3)\n",
    "solution = Solution()\n",
    "solution.preorderTraversal(root)"
   ]
  },
  {
   "cell_type": "markdown",
   "metadata": {},
   "source": [
    "101. Symmetric Tree"
   ]
  },
  {
   "cell_type": "code",
   "execution_count": 26,
   "metadata": {},
   "outputs": [],
   "source": [
    "''' \n",
    "Input: root = [1,2,2,3,4,4,3]\n",
    "Output: true\n",
    "'''\n",
    "\n",
    "''' \n",
    "Algorithm:\n",
    "1. If both nodes are None → return True\n",
    "2. If one is None but the other isnt → return False\n",
    "3. Check if:\n",
    "    left.val == right.val\n",
    "    Left subtree of left is a mirror of Right subtree of right\n",
    "    Right subtree of left is a mirror of Left subtree of right\n",
    "\n",
    "'''\n",
    "\n",
    "# Definition for a binary tree node.\n",
    "class TreeNode:\n",
    "    def __init__(self, val=0, left=None, right=None):\n",
    "        self.val = val\n",
    "        self.left = left\n",
    "        self.right = right\n",
    "class Solution:\n",
    "    def isSymmetric(self, root: Optional[TreeNode]) -> bool:\n",
    "        def ismirror(t1, t2):\n",
    "            if t1 is None and t2 is None:\n",
    "                return True \n",
    "            if t1 is None or t2 is None:\n",
    "                return False \n",
    "            return t1.val == t2.val and ismirror(t1.left, t2.right) and ismirror(t2.left, t1.right)\n",
    "        return ismirror(root, root)\n",
    "    "
   ]
  },
  {
   "cell_type": "markdown",
   "metadata": {},
   "source": [
    "108. Convert Sorted Array to Binary Search Tree"
   ]
  },
  {
   "cell_type": "code",
   "execution_count": 27,
   "metadata": {},
   "outputs": [],
   "source": [
    "# Definition for a binary tree node.\n",
    "class TreeNode:\n",
    "    def __init__(self, val=0, left=None, right=None):\n",
    "        self.val = val\n",
    "        self.left = left\n",
    "        self.right = right\n",
    "class Solution:\n",
    "    def sortedArrayToBST(self, nums: List[int]) -> Optional[TreeNode]:\n",
    "        if not nums:\n",
    "            return None\n",
    "        mid = len(nums) // 2\n",
    "        root = TreeNode(nums[mid])\n",
    "        root.left = self.sortedArrayToBST(nums[:mid])\n",
    "        root.right = self.sortedArrayToBST(nums[mid+1:])\n",
    "        return root\n",
    "        "
   ]
  },
  {
   "cell_type": "markdown",
   "metadata": {},
   "source": [
    "112. Path Sum"
   ]
  },
  {
   "cell_type": "code",
   "execution_count": null,
   "metadata": {},
   "outputs": [],
   "source": [
    "''' \n",
    "Input: root = [5,4,8,11,null,13,4,7,2,null,null,null,1], targetSum = 22\n",
    "Output: true\n",
    "'''\n",
    "\n",
    "# Definition for a binary tree node.\n",
    "# class TreeNode:\n",
    "#     def __init__(self, val=0, left=None, right=None):\n",
    "#         self.val = val\n",
    "#         self.left = left\n",
    "#         self.right = right\n",
    "class Solution:\n",
    "    def hasPathSum(self, root: Optional[TreeNode], targetSum: int) -> bool:\n",
    "        "
   ]
  },
  {
   "cell_type": "markdown",
   "metadata": {},
   "source": [
    "105. Construct Binary Tree from Preorder and Inorder Traversal"
   ]
  },
  {
   "cell_type": "code",
   "execution_count": 35,
   "metadata": {},
   "outputs": [
    {
     "data": {
      "text/plain": [
       "<__main__.TreeNode at 0x29289250770>"
      ]
     },
     "execution_count": 35,
     "metadata": {},
     "output_type": "execute_result"
    }
   ],
   "source": [
    "''' \n",
    "Input: preorder = [3,9,20,15,7], inorder = [9,3,15,20,7]\n",
    "Output: [3,9,20,null,null,15,7]\n",
    "'''\n",
    "\n",
    "# Definition for a binary tree node.\n",
    "class TreeNode:\n",
    "    def __init__(self, val=0, left=None, right=None):\n",
    "        self.val = val\n",
    "        self.left = left\n",
    "        self.right = right\n",
    "class Solution:\n",
    "    def buildTree(self, preorder: List[int], inorder: List[int]) -> Optional[TreeNode]:\n",
    "        # Baase condition should be if either of inorder or preorder is empty means we reached at the end of subtree \n",
    "        if not preorder or not inorder:\n",
    "            return None \n",
    "        root = TreeNode(preorder[0])\n",
    "        #print('root', root.val)\n",
    "        mid = inorder.index(preorder[0])\n",
    "        #print('mid:', mid)\n",
    "        #print('preorder left: ', preorder[1:mid+1])\n",
    "        #print('inorder left:', inorder[:mid])\n",
    "        root.left = self.buildTree(preorder[1:mid+1], inorder[:mid])\n",
    "        root.right = self.buildTree(preorder[mid+1:], inorder[mid+1:])\n",
    "        return root\n",
    "    \n",
    "\n",
    "preorder = [3,9,20,15,7]\n",
    "inorder = [9,3,15,20,7]\n",
    "\n",
    "solution = Solution()\n",
    "solution.buildTree(preorder, inorder)\n",
    "    "
   ]
  },
  {
   "cell_type": "markdown",
   "metadata": {},
   "source": [
    "297. Serialize and Deserialize Binary Tree"
   ]
  },
  {
   "cell_type": "code",
   "execution_count": 36,
   "metadata": {},
   "outputs": [],
   "source": [
    "# Definition for a binary tree node.\n",
    "# class TreeNode(object):\n",
    "#     def __init__(self, x):\n",
    "#         self.val = x\n",
    "#         self.left = None\n",
    "#         self.right = None\n",
    "\n",
    "class Codec:\n",
    "\n",
    "    def serialize(self, root):\n",
    "        \"\"\"Encodes a tree to a single string.\n",
    "        \n",
    "        :type root: TreeNode\n",
    "        :rtype: str\n",
    "        \"\"\"\n",
    "        res = []\n",
    "        def dfs(node):\n",
    "            if not node:\n",
    "                res.append(\"N\")\n",
    "                return \n",
    "            res.append(str(node.val))\n",
    "            dfs(node.left)\n",
    "            dfs(node.right)\n",
    "        dfs(root)\n",
    "        return \",\".join(res)\n",
    "\n",
    "        \n",
    "\n",
    "    def deserialize(self, data):\n",
    "        \"\"\"Decodes your encoded data to tree.\n",
    "        \n",
    "        :type data: str\n",
    "        :rtype: TreeNode\n",
    "        \"\"\"\n",
    "        vals = data.split(\",\")\n",
    "        self.i = 0 \n",
    "        def dfs():\n",
    "            if vals[self.i] == 'N':\n",
    "                self.i += 1\n",
    "                return None\n",
    "            node = TreeNode(int(vals[self.i]))\n",
    "            self.i += 1\n",
    "            node.left = dfs()\n",
    "            node.right = dfs()\n",
    "            return node\n",
    "        return dfs()\n",
    "\n",
    "# Your Codec object will be instantiated and called as such:\n",
    "# ser = Codec()\n",
    "# deser = Codec()\n",
    "# ans = deser.deserialize(ser.serialize(root))"
   ]
  },
  {
   "cell_type": "markdown",
   "metadata": {},
   "source": [
    "112. Path Sum"
   ]
  },
  {
   "cell_type": "code",
   "execution_count": null,
   "metadata": {},
   "outputs": [],
   "source": [
    "''' \n",
    "Input: root = [5,4,8,11,null,13,4,7,2,null,null,null,1], targetSum = 22\n",
    "Output: true\n",
    "Explanation: The root-to-leaf path with the target sum is shown.\n",
    "\n",
    "'''\n",
    "\n",
    "# Definition for a binary tree node.\n",
    "class TreeNode:\n",
    "    def __init__(self, val=0, left=None, right=None):\n",
    "        self.val = val\n",
    "        self.left = left\n",
    "        self.right = right\n",
    "class Solution:\n",
    "    def hasPathSum(self, root: Optional[TreeNode], targetSum: int) -> bool:\n",
    "        if root is None:\n",
    "            return False\n",
    "        path = [root]\n",
    "        path_sum = [root.val]\n",
    "        while path:\n",
    "            temp = path.pop()\n",
    "            temp_val = path_sum.pop()\n",
    "            if temp.left is None and temp.right is None and temp_val == targetSum:\n",
    "                return True \n",
    "            \n",
    "            if temp.left is not None:\n",
    "                path.append(temp.left)\n",
    "                path_sum.append(temp.left.val + temp_val)\n",
    "\n",
    "            if temp.right is not None:\n",
    "                path.append(temp.right)\n",
    "                path_sum.append(temp.right.val + temp_val)\n",
    "        return False\n",
    "        \n",
    "        "
   ]
  },
  {
   "cell_type": "markdown",
   "metadata": {},
   "source": [
    "437. Path Sum iii"
   ]
  },
  {
   "cell_type": "code",
   "execution_count": 37,
   "metadata": {},
   "outputs": [],
   "source": [
    "from collections import defaultdict\n",
    "from typing import Optional\n",
    "\n",
    "class TreeNode:\n",
    "    def __init__(self, val=0, left=None, right=None):\n",
    "        self.val = val\n",
    "        self.left = left\n",
    "        self.right = right\n",
    "\n",
    "class Solution:\n",
    "    def pathSum(self, root: Optional[TreeNode], targetSum: int) -> int:\n",
    "        def dfs(node, curr_sum):\n",
    "            if not node:\n",
    "                return 0\n",
    "\n",
    "            # Current sum including this node\n",
    "            curr_sum += node.val\n",
    "\n",
    "            # Check if there's a valid prefix sum\n",
    "            count = prefixSum[curr_sum - targetSum]\n",
    "\n",
    "            # Store the current sum in prefixSum\n",
    "            prefixSum[curr_sum] += 1\n",
    "\n",
    "            # Recur for left and right subtrees\n",
    "            count += dfs(node.left, curr_sum)\n",
    "            count += dfs(node.right, curr_sum)\n",
    "\n",
    "            # Backtrack: remove the current sum from prefixSum\n",
    "            prefixSum[curr_sum] -= 1\n",
    "\n",
    "            return count\n",
    "\n",
    "        prefixSum = defaultdict(int)\n",
    "        prefixSum[0] = 1  # Base case (when prefix sum itself equals targetSum)\n",
    "\n",
    "        return dfs(root, 0)\n"
   ]
  },
  {
   "cell_type": "markdown",
   "metadata": {},
   "source": [
    "94. Binary Tree Inorder Traversal"
   ]
  },
  {
   "cell_type": "code",
   "execution_count": null,
   "metadata": {},
   "outputs": [],
   "source": [
    "''' \n",
    "Input: root = [1,null,2,3]\n",
    "\n",
    "Output: [1,3,2]\n",
    "'''\n",
    "\n",
    "# Definition for a binary tree node.\n",
    "class TreeNode:\n",
    "    def __init__(self, val=0, left=None, right=None):\n",
    "        self.val = val\n",
    "        self.left = left\n",
    "        self.right = right\n",
    "class Solution:\n",
    "    def inorderTraversal(self, root: Optional[TreeNode]) -> List[int]:\n",
    "        res = []\n",
    "        def inorder(node):\n",
    "            if not node: \n",
    "                return None \n",
    "            inorder(node.left)\n",
    "            res.append(node.val)\n",
    "            inorder(node.right)\n",
    "        inorder(root)\n",
    "        return res\n",
    "\n",
    "\n",
    "        "
   ]
  },
  {
   "cell_type": "markdown",
   "metadata": {},
   "source": [
    "98. Validate Binary Search Tree"
   ]
  },
  {
   "cell_type": "code",
   "execution_count": 54,
   "metadata": {},
   "outputs": [
    {
     "data": {
      "text/plain": [
       "True"
      ]
     },
     "execution_count": 54,
     "metadata": {},
     "output_type": "execute_result"
    }
   ],
   "source": [
    "''' \n",
    "A valid BST is defined as follows:\n",
    "\n",
    "The left subtree of a node contains only nodes with keys less than the node's key.\n",
    "The right subtree of a node contains only nodes with keys greater than the node's key.\n",
    "Both the left and right subtrees must also be binary search trees.\n",
    "\n",
    "Input: root = [2,1,3]\n",
    "Output: true\n",
    "\n",
    "'''\n",
    "\n",
    "# Definition for a binary tree node.\n",
    "# class TreeNode:\n",
    "#     def __init__(self, val=0, left=None, right=None):\n",
    "#         self.val = val\n",
    "#         self.left = left\n",
    "#         self.right = right\n",
    "class Solution:\n",
    "    def isValidBST(self, root: Optional[TreeNode]) -> bool:\n",
    "        if root is None:\n",
    "            return True\n",
    "        res = []\n",
    "        def inorder(node):\n",
    "            if node is None:\n",
    "                return None \n",
    "            inorder(node.left)\n",
    "            res.append(node.val)\n",
    "            inorder(node.right)\n",
    "        inorder(root)\n",
    "        print(res)\n",
    "        prev = res[0]\n",
    "        for i in range(1, len(res)):\n",
    "            if prev >= res[i]:\n",
    "                return False \n",
    "            prev = res[i] \n",
    "        return True\n",
    "    \n",
    "    def isValidBST(self, root: Optional[TreeNode]) -> bool:\n",
    "        def valid(node, left, right):\n",
    "            if node is None:\n",
    "                return True\n",
    "            if not (left < node.val < right):\n",
    "                return False \n",
    "            return valid(node.left, left, node.val) and valid(node.right, node.val, right)\n",
    "        return valid(root, float('-infinity'), float('infinity'))\n",
    "\n",
    "\n",
    "root = TreeNode(2)\n",
    "root.left = TreeNode(1)\n",
    "root.right = TreeNode(3)\n",
    "\n",
    "\n",
    "solution = Solution()\n",
    "solution.isValidBST(root)\n",
    "\n"
   ]
  },
  {
   "cell_type": "markdown",
   "metadata": {},
   "source": [
    "230. Kth Smallest Element in a BST"
   ]
  },
  {
   "cell_type": "code",
   "execution_count": 55,
   "metadata": {},
   "outputs": [],
   "source": [
    "'''\n",
    "Input: root = [3,1,4,null,2], k = 1\n",
    "Output: 1\n",
    "'''\n",
    "\n",
    "# Definition for a binary tree node.\n",
    "# class TreeNode:\n",
    "#     def __init__(self, val=0, left=None, right=None):\n",
    "#         self.val = val\n",
    "#         self.left = left\n",
    "#         self.right = right\n",
    "class Solution:\n",
    "    def kthSmallest(self, root: Optional[TreeNode], k: int) -> int:\n",
    "        res = []\n",
    "        def inorder(node):\n",
    "            if node is None:\n",
    "                return \n",
    "            inorder(node.left)\n",
    "            res.append(node.val)\n",
    "            inorder(node.right)\n",
    "            return res \n",
    "        inorder(root)\n",
    "        return res[k-1]\n"
   ]
  },
  {
   "cell_type": "markdown",
   "metadata": {},
   "source": [
    "173. Binary Search Tree Iterator"
   ]
  },
  {
   "cell_type": "code",
   "execution_count": 56,
   "metadata": {},
   "outputs": [],
   "source": [
    "''' \n",
    "Input\n",
    "[\"BSTIterator\", \"next\", \"next\", \"hasNext\", \"next\", \"hasNext\", \"next\", \"hasNext\", \"next\", \"hasNext\"]\n",
    "[[[7, 3, 15, null, null, 9, 20]], [], [], [], [], [], [], [], [], []]\n",
    "Output\n",
    "[null, 3, 7, true, 9, true, 15, true, 20, false]\n",
    "'''\n",
    "# Definition for a binary tree node.\n",
    "# class TreeNode:\n",
    "#     def __init__(self, val=0, left=None, right=None):\n",
    "#         self.val = val\n",
    "#         self.left = left\n",
    "#         self.right = right\n",
    "class BSTIterator:\n",
    "\n",
    "    def __init__(self, root: Optional[TreeNode]):\n",
    "        self.vals = []\n",
    "        self.i = 0\n",
    "        self._inorder(root)\n",
    "\n",
    "\n",
    "    def next(self) -> int:\n",
    "        self.i += 1\n",
    "        return self.vals[self.i - 1]\n",
    "\n",
    "    def hasNext(self) -> bool:\n",
    "        return self.i < len(self.vals)\n",
    "\n",
    "        \n",
    "    def _inorder(self, node):\n",
    "        if node is None:\n",
    "            return \n",
    "        self._inorder(node.left)\n",
    "        self.vals.append(node.val)\n",
    "        self._inorder(node.right)\n",
    "\n",
    "# Your BSTIterator object will be instantiated and called as such:\n",
    "# obj = BSTIterator(root)\n",
    "# param_1 = obj.next()\n",
    "# param_2 = obj.hasNext()"
   ]
  },
  {
   "cell_type": "markdown",
   "metadata": {},
   "source": [
    "145. Binary Tree Postorder Traversal"
   ]
  },
  {
   "cell_type": "code",
   "execution_count": 57,
   "metadata": {},
   "outputs": [],
   "source": [
    "# Definition for a binary tree node.\n",
    "# class TreeNode:\n",
    "#     def __init__(self, val=0, left=None, right=None):\n",
    "#         self.val = val\n",
    "#         self.left = left\n",
    "#         self.right = right\n",
    "class Solution:\n",
    "    def postorderTraversal(self, root: Optional[TreeNode]) -> List[int]:\n",
    "        res = []\n",
    "        def postorder(root):\n",
    "            if root is None:\n",
    "                return\n",
    "            postorder(root.left)\n",
    "            postorder(root.right)\n",
    "            res.append(root.val)\n",
    "        postorder(root)\n",
    "        return res"
   ]
  },
  {
   "cell_type": "markdown",
   "metadata": {},
   "source": [
    "226. Invert Binary Tree"
   ]
  },
  {
   "cell_type": "code",
   "execution_count": 58,
   "metadata": {},
   "outputs": [],
   "source": [
    "''' \n",
    "Input: root = [4,2,7,1,3,6,9]\n",
    "Output: [4,7,2,9,6,3,1]\n",
    "'''\n",
    "\n",
    "# Definition for a binary tree node.\n",
    "# class TreeNode:\n",
    "#     def __init__(self, val=0, left=None, right=None):\n",
    "#         self.val = val\n",
    "#         self.left = left\n",
    "#         self.right = right\n",
    "class Solution:\n",
    "    def invertTree(self, root: Optional[TreeNode]) -> Optional[TreeNode]:\n",
    "        if root is None:\n",
    "            return \n",
    "        temp = root.left \n",
    "        root.left = root.right \n",
    "        root.right = temp \n",
    "        self.invertTree(root.left)\n",
    "        self.invertTree(root.right)\n",
    "        return root"
   ]
  },
  {
   "cell_type": "markdown",
   "metadata": {},
   "source": [
    "543. Diameter of Binary Tree"
   ]
  },
  {
   "cell_type": "code",
   "execution_count": 59,
   "metadata": {},
   "outputs": [],
   "source": [
    "''' \n",
    "Input: root = [1,2,3,4,5]\n",
    "Output: 3\n",
    "Explanation: 3 is the length of the path [4,2,1,3] or [5,2,1,3].\n",
    "'''\n",
    "\n",
    "# Definition for a binary tree node.\n",
    "# class TreeNode:\n",
    "#     def __init__(self, val=0, left=None, right=None):\n",
    "#         self.val = val\n",
    "#         self.left = left\n",
    "#         self.right = right\n",
    "class Solution:\n",
    "    def diameterOfBinaryTree(self, root: Optional[TreeNode]) -> int:\n",
    "        res = 0\n",
    "        def dfs(root):\n",
    "            if root is None:\n",
    "                return 0 \n",
    "            left = dfs(root.left)\n",
    "            right = dfs(root.right)\n",
    "            nonlocal res \n",
    "            res = max(res, left + right)\n",
    "            return 1 + max(left, right)\n",
    "        dfs(root)\n",
    "        return res"
   ]
  },
  {
   "cell_type": "markdown",
   "metadata": {},
   "source": [
    "236. Lowest Common Ancestor of a Binary Tree"
   ]
  },
  {
   "cell_type": "code",
   "execution_count": 12,
   "metadata": {},
   "outputs": [
    {
     "name": "stdout",
     "output_type": "stream",
     "text": [
      "Returning None from 6\n",
      "Returning 7 as it matches p or q\n",
      "Returning 4 as it matches p or q\n",
      "LCA found at 2 for 7 and 4\n",
      "Returning 2 from 5\n",
      "Returning None from 0\n",
      "Returning None from 8\n",
      "Returning None from 1\n",
      "Returning 2 from 3\n"
     ]
    },
    {
     "name": "stderr",
     "output_type": "stream",
     "text": [
      "<>:47: SyntaxWarning: invalid escape sequence '\\ '\n",
      "<>:47: SyntaxWarning: invalid escape sequence '\\ '\n",
      "C:\\Users\\dhara\\AppData\\Local\\Temp\\ipykernel_3960\\2856436615.py:47: SyntaxWarning: invalid escape sequence '\\ '\n",
      "  '''\n"
     ]
    },
    {
     "data": {
      "text/plain": [
       "' \\n       3  \\n      / \\\\  \\n     5   1  \\n    / \\\\ / \\\\  \\n   6  2 0  8  \\n     / \\\\  \\n    7   4  \\n\\n'"
      ]
     },
     "execution_count": 12,
     "metadata": {},
     "output_type": "execute_result"
    }
   ],
   "source": [
    "''' \n",
    "Input: root = [3,5,1,6,2,0,8,null,null,7,4], p = 5, q = 1\n",
    "Output: 3\n",
    "Explanation: The LCA of nodes 5 and 1 is 3.\n",
    "'''\n",
    "# Definition for a binary tree node.\n",
    "class TreeNode:\n",
    "    def __init__(self, x):\n",
    "        self.val = x\n",
    "        self.left = None\n",
    "        self.right = None\n",
    "\n",
    "class Solution:\n",
    "    def lowestCommonAncestor(self, root, p, q):\n",
    "        if not root:\n",
    "            return None\n",
    "        if root == p or root == q:\n",
    "            print(f\"Returning {root.val} as it matches p or q\")\n",
    "            return root\n",
    "\n",
    "        left = self.lowestCommonAncestor(root.left, p, q)\n",
    "        right = self.lowestCommonAncestor(root.right, p, q)\n",
    "\n",
    "        if left and right:\n",
    "            print(f\"LCA found at {root.val} for {p.val} and {q.val}\")\n",
    "            return root\n",
    "\n",
    "        result = left if left else right\n",
    "        print(f\"Returning {result.val if result else None} from {root.val}\")\n",
    "        return result\n",
    "\n",
    "    \n",
    "root = TreeNode(3)\n",
    "root.left = TreeNode(5)\n",
    "root.left.left = TreeNode(6)\n",
    "root.left.right = TreeNode(2)\n",
    "root.left.right.left = TreeNode(7)\n",
    "root.left.right.right = TreeNode(4)\n",
    "root.right = TreeNode(1)\n",
    "root.right.left = TreeNode(0)\n",
    "root.right.right = TreeNode(8)\n",
    "p = root.left.right.left # 7\n",
    "q = root.left.right.right # 4\n",
    "solution = Solution()\n",
    "solution.lowestCommonAncestor(root, p, q).val\n",
    "\n",
    "''' \n",
    "       3  \n",
    "      / \\  \n",
    "     5   1  \n",
    "    / \\ / \\  \n",
    "   6  2 0  8  \n",
    "     / \\  \n",
    "    7   4  \n",
    "\n",
    "'''"
   ]
  },
  {
   "cell_type": "markdown",
   "metadata": {},
   "source": [
    "235. Lowest Common Ancestor of a Binary Search Tree"
   ]
  },
  {
   "cell_type": "code",
   "execution_count": 9,
   "metadata": {},
   "outputs": [],
   "source": [
    "''' \n",
    "Input: root = [6,2,8,0,4,7,9,null,null,3,5], p = 2, q = 8\n",
    "Output: 6\n",
    "Explanation: The LCA of nodes 2 and 8 is 6.\n",
    "'''\n",
    "\n",
    "# Definition for a binary tree node.\n",
    "# class TreeNode:\n",
    "#     def __init__(self, x):\n",
    "#         self.val = x\n",
    "#         self.left = None\n",
    "#         self.right = None\n",
    "\n",
    "class Solution:\n",
    "    def lowestCommonAncestor(self, root: 'TreeNode', p: 'TreeNode', q: 'TreeNode') -> 'TreeNode':\n",
    "        cur = root\n",
    "        while cur:\n",
    "            if p.val < cur.val and q.val < cur.val:\n",
    "                cur = cur.left \n",
    "            elif p.val > cur.val and q.val > cur.val:\n",
    "                cur = cur.right \n",
    "            else:\n",
    "                return cur"
   ]
  },
  {
   "cell_type": "markdown",
   "metadata": {},
   "source": [
    "124. Binary Tree Maximum Path Sum"
   ]
  },
  {
   "cell_type": "code",
   "execution_count": 18,
   "metadata": {},
   "outputs": [],
   "source": [
    "'''\n",
    "Input: root = [1,2,3]\n",
    "Output: 6\n",
    "Explanation: The optimal path is 2 -> 1 -> 3 with a path sum of 2 + 1 + 3 = 6.\n",
    "'''\n",
    "from typing import Optional, List\n",
    "\n",
    "# Definition for a binary tree node.\n",
    "# class TreeNode:\n",
    "#     def __init__(self, val=0, left=None, right=None):\n",
    "#         self.val = val\n",
    "#         self.left = left\n",
    "#         self.right = right\n",
    "class TreeNode:\n",
    "    def __init__(self, val=0, left=None, right=None):\n",
    "        self.val = val\n",
    "        self.left = left\n",
    "        self.right = right\n",
    "\n",
    "class Solution:\n",
    "    def maxPathSum(self, root: TreeNode) -> int:\n",
    "        self.max_sum = float('-inf')  # Initialize global max sum\n",
    "\n",
    "        def dfs(node):\n",
    "            if not node:\n",
    "                return 0  # Base case: return 0 for null nodes\n",
    "            \n",
    "            # Recursively get max sum from left and right subtrees\n",
    "            left_gain = max(dfs(node.left), 0)  # Ignore negative paths\n",
    "            right_gain = max(dfs(node.right), 0)\n",
    "\n",
    "            # Compute new path sum including this node\n",
    "            current_max = node.val + left_gain + right_gain\n",
    "\n",
    "            # Update global maximum path sum\n",
    "            self.max_sum = max(self.max_sum, current_max)\n",
    "\n",
    "            # Return the maximum path sum using this node and one of its subtrees\n",
    "            return node.val + max(left_gain, right_gain)\n",
    "\n",
    "        dfs(root)\n",
    "        return self.max_sum\n",
    "\n"
   ]
  },
  {
   "cell_type": "markdown",
   "metadata": {},
   "source": [
    "Binsart Search Tree or Ordered Set Problems"
   ]
  },
  {
   "cell_type": "markdown",
   "metadata": {},
   "source": [
    "729. My Calendar I"
   ]
  },
  {
   "cell_type": "code",
   "execution_count": 23,
   "metadata": {},
   "outputs": [
    {
     "data": {
      "text/plain": [
       "False"
      ]
     },
     "execution_count": 23,
     "metadata": {},
     "output_type": "execute_result"
    }
   ],
   "source": [
    "''' \n",
    "Input\n",
    "[\"MyCalendar\", \"book\", \"book\", \"book\"]\n",
    "[[], [10, 20], [15, 25], [20, 30]]\n",
    "Output\n",
    "[null, true, false, true]\n",
    "\n",
    "Explanation\n",
    "MyCalendar myCalendar = new MyCalendar();\n",
    "myCalendar.book(10, 20); // return True\n",
    "myCalendar.book(15, 25); // return False, It can not be booked because time 15 is already booked by another event.\n",
    "myCalendar.book(20, 30); // return True, The event can be booked, as the first event takes every time less than 20, but not including 20.\n",
    "'''\n",
    "class TreeNode:\n",
    "    def __init__(self, start, end):\n",
    "        self.left = None \n",
    "        self.right = None \n",
    "        self.start = start \n",
    "        self.end = end\n",
    "\n",
    "    def insert(self, start, end):\n",
    "        curr = self\n",
    "        while True:\n",
    "            if curr.end <= start:\n",
    "                if not curr.right:\n",
    "                    curr.right = TreeNode(start, end)\n",
    "                    return True \n",
    "                curr = curr.right\n",
    "            elif curr.start >= end:\n",
    "                if not curr.left:\n",
    "                    curr.left = TreeNode(start, end)\n",
    "                    return True \n",
    "                curr = curr.left \n",
    "            else:\n",
    "                return False\n",
    "\n",
    "class MyCalendar:\n",
    "\n",
    "    def __init__(self):\n",
    "        self.root = None\n",
    "\n",
    "    def book(self, startTime: int, endTime: int) -> bool:\n",
    "        if not self.root:\n",
    "            self.root = TreeNode(startTime, endTime)\n",
    "            return True \n",
    "        return self.root.insert(startTime, endTime)\n",
    "\n",
    "\n",
    "# Your MyCalendar object will be instantiated and called as such:\n",
    "obj = MyCalendar()\n",
    "param_1 = obj.book(10,20)\n",
    "param_2 = obj.book(5, 15)\n",
    "param_2"
   ]
  },
  {
   "cell_type": "code",
   "execution_count": 24,
   "metadata": {},
   "outputs": [
    {
     "name": "stdout",
     "output_type": "stream",
     "text": [
      "True\n",
      "True\n",
      "True\n",
      "False\n"
     ]
    }
   ],
   "source": [
    "class MyCalendarTwo:\n",
    "\n",
    "    def __init__(self):\n",
    "        self.booked = []       # Stores all single bookings\n",
    "        self.double_booked = [] # Stores all double bookings\n",
    "\n",
    "    def book(self, start: int, end: int) -> bool:\n",
    "        # Check for triple booking\n",
    "        for s, e in self.double_booked:\n",
    "            if not (e <= start or end <= s):  # Correct overlap check (negated)\n",
    "                return False  \n",
    "\n",
    "        # Check overlap with single bookings and store in double_booked\n",
    "        for s, e in self.booked:\n",
    "            if not (e <= start or end <= s):  # Correct overlap check (negated)\n",
    "                self.double_booked.append((max(s, start), min(e, end)))\n",
    "\n",
    "        # Add the event to booked list\n",
    "        self.booked.append((start, end))\n",
    "        return True\n",
    "\n",
    "# Example Usage:\n",
    "obj = MyCalendarTwo()\n",
    "print(obj.book(10, 20))  # True\n",
    "print(obj.book(15, 25))  # True\n",
    "print(obj.book(20, 30))  # True\n",
    "print(obj.book(17, 22))  # False (Triple booking)\n"
   ]
  },
  {
   "cell_type": "markdown",
   "metadata": {},
   "source": [
    "2034. Stock Price Fluctuation "
   ]
  },
  {
   "cell_type": "code",
   "execution_count": null,
   "metadata": {},
   "outputs": [
    {
     "name": "stdout",
     "output_type": "stream",
     "text": [
      "[[-10, 5]]\n"
     ]
    }
   ],
   "source": [
    "''' \n",
    "Input\n",
    "[\"StockPrice\", \"update\", \"update\", \"current\", \"maximum\", \"update\", \"maximum\", \"update\", \"minimum\"]\n",
    "[[], [1, 10], [2, 5], [], [], [1, 3], [], [4, 2], []]\n",
    "Output\n",
    "[null, null, null, 5, 10, null, 5, null, 2]\n",
    "'''\n",
    "import heapq\n",
    "\n",
    "class StockPrice:\n",
    "\n",
    "    def __init__(self):\n",
    "        self.timestamp_price = {}\n",
    "        self.min_price = []\n",
    "        self.max_price = []\n",
    "        self.latest_timestamp = 0\n",
    "        \n",
    "\n",
    "    def update(self, timestamp: int, price: int) -> None:\n",
    "        self.timestamp_price[timestamp] = price \n",
    "        self.latest_timestamp = max(self.latest_timestamp, timestamp)\n",
    "        heapq.heappush(self.min_price, [price, timestamp])\n",
    "        heapq.heappush(self.max_price, [-price, timestamp])\n",
    "\n",
    "    def current(self) -> int:\n",
    "        return self.timestamp_price[self.latest_timestamp]\n",
    "        \n",
    "\n",
    "    def maximum(self) -> int:\n",
    "        while self.max_price and self.max_price[0][1] not in self.timestamp_price or \\\n",
    "              self.timestamp_price[self.max_price[0][1]] != -self.max_price[0][0]:\n",
    "            heapq.heappop(self.max_price)\n",
    "        return -self.max_price[0][0]\n",
    "        \n",
    "\n",
    "    def minimum(self) -> int:\n",
    "        while self.min_price and self.min_price[0][1] not in self.timestamp_price or \\\n",
    "              self.timestamp_price[self.min_price[0][1]] != self.min_price[0][0]:\n",
    "            heapq.heappop(self.min_price)\n",
    "        return self.min_price[0][0]\n",
    "\n",
    "\n",
    "# Your StockPrice object will be instantiated and called as such:\n",
    "obj = StockPrice()\n",
    "timestamp, price = 5, 10\n",
    "obj.update(timestamp,price)\n",
    "param_2 = obj.current()\n",
    "param_3 = obj.maximum()\n",
    "param_4 = obj.minimum()"
   ]
  },
  {
   "cell_type": "markdown",
   "metadata": {},
   "source": [
    "Heaps"
   ]
  },
  {
   "cell_type": "markdown",
   "metadata": {},
   "source": [
    "1642. Furthest Building You Can Reach"
   ]
  },
  {
   "cell_type": "code",
   "execution_count": 54,
   "metadata": {},
   "outputs": [
    {
     "data": {
      "text/plain": [
       "4"
      ]
     },
     "execution_count": 54,
     "metadata": {},
     "output_type": "execute_result"
    }
   ],
   "source": [
    "'''\n",
    "Input: heights = [4,2,7,6,9,14,12], bricks = 5, ladders = 1\n",
    "Output: 4\n",
    "'''\n",
    "\n",
    "class Solution:\n",
    "    def furthestBuilding(self, heights: List[int], bricks: int, ladders: int) -> int:\n",
    "        max_heap = []\n",
    "        for i in range(len(heights) - 1):\n",
    "            diff = heights[i+1] - heights[i]\n",
    "            if diff < 0:\n",
    "                continue\n",
    "\n",
    "            bricks -= diff\n",
    "            heapq.heappush(max_heap, -diff)\n",
    "            if bricks < 0:\n",
    "                if ladders == 0:\n",
    "                    return i\n",
    "                ladders -= 1\n",
    "                bricks += -heapq.heappop(max_heap) \n",
    "        return len(heights) - 1\n",
    "    \n",
    "solution = Solution()\n",
    "solution.furthestBuilding([4,2,7,6,9,14,12], 5, 1)\n"
   ]
  },
  {
   "cell_type": "markdown",
   "metadata": {},
   "source": [
    "1834. Single-Threaded CPU"
   ]
  },
  {
   "cell_type": "code",
   "execution_count": 68,
   "metadata": {},
   "outputs": [
    {
     "data": {
      "text/plain": [
       "[0, 2, 3, 1]"
      ]
     },
     "execution_count": 68,
     "metadata": {},
     "output_type": "execute_result"
    }
   ],
   "source": [
    "''' \n",
    "Input: tasks = [[1,2],[2,4],[3,2],[4,1]]\n",
    "Output: [0,2,3,1]\n",
    "'''\n",
    "\n",
    "class Solution:\n",
    "    def getOrder(self, tasks: List[List[int]]) -> List[int]:\n",
    "        for i, t in enumerate(tasks):\n",
    "            t.append(i)\n",
    "        tasks.sort(key=lambda t: t[0])\n",
    "        minHeap, res = [], []\n",
    "        i, time = 0, tasks[0][0]\n",
    "        while minHeap or i < len(tasks):\n",
    "            while i < len(tasks) and time >= tasks[i][0]:\n",
    "                heapq.heappush(minHeap, [tasks[i][1], tasks[i][2]])\n",
    "                i += 1\n",
    "            if not minHeap:\n",
    "                time = tasks[i][0]\n",
    "            else:\n",
    "                processTime, index = heapq.heappop(minHeap)\n",
    "                time += processTime\n",
    "                res.append(index)\n",
    "        return res\n",
    "solution = Solution()\n",
    "solution.getOrder([[1,2],[2,4],[3,2],[4,1]])"
   ]
  },
  {
   "cell_type": "markdown",
   "metadata": {},
   "source": [
    "Top K Elements"
   ]
  },
  {
   "cell_type": "markdown",
   "metadata": {},
   "source": [
    "703. Kth Largest Element in a Stream"
   ]
  },
  {
   "cell_type": "code",
   "execution_count": 69,
   "metadata": {},
   "outputs": [],
   "source": [
    "''' \n",
    "Input: [\"KthLargest\", \"add\", \"add\", \"add\", \"add\", \"add\"]\n",
    "[[3, [4, 5, 8, 2]], [3], [5], [10], [9], [4]]\n",
    "\n",
    "Output: [null, 4, 5, 5, 8, 8]\n",
    "'''\n",
    "\n",
    "class KthLargest:\n",
    "\n",
    "    def __init__(self, k: int, nums: List[int]):\n",
    "        self.minHeap, self.k = nums, k\n",
    "        heapq.heapify(self.minHeap)\n",
    "        while len(self.minHeap) > self.k:\n",
    "            heapq.heappop(self.minHeap)\n",
    "\n",
    "    def add(self, val: int) -> int:\n",
    "        heapq.heappush(self.minHeap, val)\n",
    "        if len(self.minHeap) > self.k:\n",
    "            heapq.heappop(self.minHeap)\n",
    "        return self.minHeap[0]\n",
    "\n",
    "\n",
    "# Your KthLargest object will be instantiated and called as such:\n",
    "# obj = KthLargest(k, nums)\n",
    "# param_1 = obj.add(val)"
   ]
  },
  {
   "cell_type": "markdown",
   "metadata": {},
   "source": [
    "973. K Closest Points to Origin"
   ]
  },
  {
   "cell_type": "code",
   "execution_count": 71,
   "metadata": {},
   "outputs": [
    {
     "data": {
      "text/plain": [
       "[[-2, 2]]"
      ]
     },
     "execution_count": 71,
     "metadata": {},
     "output_type": "execute_result"
    }
   ],
   "source": [
    "''' \n",
    "Input: points = [[1,3],[-2,2]], k = 1\n",
    "Output: [[-2,2]]\n",
    "Explanation:\n",
    "The distance between (1, 3) and the origin is sqrt(10).\n",
    "The distance between (-2, 2) and the origin is sqrt(8).\n",
    "Since sqrt(8) < sqrt(10), (-2, 2) is closer to the origin.\n",
    "We only want the closest k = 1 points from the origin, so the answer is just [[-2,2]].\n",
    "'''\n",
    "\n",
    "class Solution:\n",
    "    def kClosest(self, points: List[List[int]], k: int) -> List[List[int]]:\n",
    "        minHeap = []\n",
    "        res = []\n",
    "        for x, y in points:\n",
    "            dist = (x ** 2) + (y ** 2)\n",
    "            minHeap.append([dist, x, y])\n",
    "        heapq.heapify(minHeap)\n",
    "        while k > 0:\n",
    "            dist, x, y = heapq.heappop(minHeap)\n",
    "            res.append([x, y])\n",
    "            k -= 1\n",
    "        return res\n",
    "    \n",
    "solution = Solution()\n",
    "solution.kClosest([[1,3],[-2,2]], 1)"
   ]
  },
  {
   "cell_type": "markdown",
   "metadata": {},
   "source": [
    "Intervals"
   ]
  },
  {
   "cell_type": "markdown",
   "metadata": {},
   "source": [
    "56. Merge Intervals"
   ]
  },
  {
   "cell_type": "code",
   "execution_count": 72,
   "metadata": {},
   "outputs": [
    {
     "data": {
      "text/plain": [
       "[[1, 6], [8, 10], [15, 18]]"
      ]
     },
     "execution_count": 72,
     "metadata": {},
     "output_type": "execute_result"
    }
   ],
   "source": [
    "''' \n",
    "Input: intervals = [[1,3],[2,6],[8,10],[15,18]]\n",
    "Output: [[1,6],[8,10],[15,18]]\n",
    "Explanation: Since intervals [1,3] and [2,6] overlap, merge them into [1,6].\n",
    "'''\n",
    "\n",
    "class Solution:\n",
    "    def merge(self, intervals: List[List[int]]) -> List[List[int]]:\n",
    "        res = []\n",
    "        intervals.sort(key=lambda x:x[0])\n",
    "        res.append(intervals[0])\n",
    "        for start, end in intervals[1:]:\n",
    "            lastEnd = res[-1][1]\n",
    "            if lastEnd >= start:\n",
    "                res[-1][1] = max(lastEnd, end)\n",
    "            else:\n",
    "                res.append([start, end])\n",
    "        return res \n",
    "    \n",
    "solution = Solution()\n",
    "solution.merge([[1,3],[2,6],[8,10],[15,18]])"
   ]
  },
  {
   "cell_type": "markdown",
   "metadata": {},
   "source": [
    "57. Insert Interval"
   ]
  },
  {
   "cell_type": "code",
   "execution_count": 79,
   "metadata": {},
   "outputs": [
    {
     "data": {
      "text/plain": [
       "[[1, 5], [6, 9]]"
      ]
     },
     "execution_count": 79,
     "metadata": {},
     "output_type": "execute_result"
    }
   ],
   "source": [
    "''' \n",
    "Input: intervals = [[1,3],[6,9]], newInterval = [2,5]\n",
    "Output: [[1,5],[6,9]]\n",
    "'''\n",
    "\n",
    "class Solution:\n",
    "    def insert(self, intervals: List[List[int]], newInterval: List[int]) -> List[List[int]]:\n",
    "        res = []\n",
    "        for i in range(len(intervals)):\n",
    "            if newInterval[1] < intervals[i][0]:\n",
    "                res.append(newInterval)\n",
    "                return res + intervals[i:]\n",
    "            elif newInterval[0] > intervals[i][1]:\n",
    "                res.append(intervals[i])\n",
    "            else:\n",
    "                newInterval = [min(newInterval[0], intervals[i][0]), max(newInterval[1], intervals[i][1])]\n",
    "        res.append(newInterval)\n",
    "        return res\n",
    "    \n",
    "solution = Solution()\n",
    "solution.insert([[1,3],[6,9]], [2, 5])"
   ]
  },
  {
   "cell_type": "markdown",
   "metadata": {},
   "source": [
    "435. Non-overlapping Intervals"
   ]
  },
  {
   "cell_type": "code",
   "execution_count": 82,
   "metadata": {},
   "outputs": [],
   "source": [
    "''' \n",
    "Input: intervals = [[1,2],[2,3],[3,4],[1,3]]\n",
    "Output: 1\n",
    "Explanation: [1,3] can be removed and the rest of the intervals are non-overlapping.\n",
    "'''\n",
    "\n",
    "class Solution:\n",
    "    def eraseOverlapIntervals(self, intervals: List[List[int]]) -> int:\n",
    "        intervals.sort()\n",
    "        res = 0\n",
    "        prevEnd = intervals[0][1]\n",
    "        for start, end in intervals[1:]:\n",
    "            if start >= prevEnd:\n",
    "                prevEnd = end \n",
    "            else:\n",
    "                res += 1\n",
    "                prevEnd = min(prevEnd, end)\n",
    "        return res\n"
   ]
  },
  {
   "cell_type": "code",
   "execution_count": 81,
   "metadata": {},
   "outputs": [
    {
     "data": {
      "text/plain": [
       "[[1, 2], [1, 3], [2, 3], [3, 4]]"
      ]
     },
     "execution_count": 81,
     "metadata": {},
     "output_type": "execute_result"
    }
   ],
   "source": [
    "intervals = [[1,2],[2,3],[3,4],[1,3]]\n",
    "intervals.sort()\n",
    "intervals"
   ]
  },
  {
   "cell_type": "markdown",
   "metadata": {},
   "source": [
    "# Greedy"
   ]
  },
  {
   "cell_type": "markdown",
   "metadata": {},
   "source": [
    "55. Jump Game"
   ]
  },
  {
   "cell_type": "code",
   "execution_count": 88,
   "metadata": {},
   "outputs": [
    {
     "data": {
      "text/plain": [
       "False"
      ]
     },
     "execution_count": 88,
     "metadata": {},
     "output_type": "execute_result"
    }
   ],
   "source": [
    "''' \n",
    "Input: nums = [2,3,1,1,4]\n",
    "Output: true\n",
    "Explanation: Jump 1 step from index 0 to 1, then 3 steps to the last index.\n",
    "'''\n",
    "\n",
    "class Solution:\n",
    "    def canJump(self, nums: List[int]) -> bool:\n",
    "        maxReach = 0 \n",
    "        for i in range(len(nums)):\n",
    "            \n",
    "            if i > maxReach:\n",
    "                return False \n",
    "            \n",
    "            maxReach = max(maxReach, i + nums[i])\n",
    "            #print(maxReach)\n",
    "            if maxReach >= len(nums) - 1:\n",
    "                return True \n",
    "        return True \n",
    "solution = Solution()\n",
    "solution.canJump([3,2,1,0,4])"
   ]
  },
  {
   "cell_type": "markdown",
   "metadata": {},
   "source": [
    "45. Jump Game II"
   ]
  },
  {
   "cell_type": "code",
   "execution_count": 99,
   "metadata": {},
   "outputs": [
    {
     "data": {
      "text/plain": [
       "2"
      ]
     },
     "execution_count": 99,
     "metadata": {},
     "output_type": "execute_result"
    }
   ],
   "source": [
    "''' \n",
    "Input: nums = [2,3,1,1,4]\n",
    "Output: 2\n",
    "'''\n",
    "class Solution:\n",
    "    def jump(self, nums: List[int]) -> int:\n",
    "        maxReach = 0 \n",
    "        currentJumpEnd = 0\n",
    "        jumps = 0\n",
    "        for i in range(len(nums) - 1):\n",
    "            maxReach = max(maxReach, i + nums[i])\n",
    "            if currentJumpEnd == i:\n",
    "                currentJumpEnd = maxReach\n",
    "                jumps += 1\n",
    "            if currentJumpEnd >= len(nums) - 1:\n",
    "                break\n",
    "        return jumps \n",
    "\n",
    "solution = Solution()\n",
    "solution.jump([2, 3, 0, 1, 4])"
   ]
  },
  {
   "cell_type": "markdown",
   "metadata": {},
   "source": [
    "134. Gas Station"
   ]
  },
  {
   "cell_type": "code",
   "execution_count": 101,
   "metadata": {},
   "outputs": [
    {
     "data": {
      "text/plain": [
       "3"
      ]
     },
     "execution_count": 101,
     "metadata": {},
     "output_type": "execute_result"
    }
   ],
   "source": [
    "''' \n",
    "Input: gas = [1,2,3,4,5], cost = [3,4,5,1,2]\n",
    "Output: 3\n",
    "'''\n",
    "class Solution:\n",
    "    def canCompleteCircuit(self, gas: List[int], cost: List[int]) -> int:\n",
    "        startStation = 0 \n",
    "        totalGas = 0 \n",
    "        currGas = 0 \n",
    "        for i in range(len(gas)):\n",
    "            balance = gas[i] - cost[i]\n",
    "            totalGas += balance\n",
    "            currGas += balance \n",
    "            if currGas < 0:\n",
    "                startStation = i + 1 \n",
    "                currGas = 0\n",
    "        return startStation if totalGas >=0 else -1 \n",
    "    \n",
    "solution = Solution()\n",
    "solution.canCompleteCircuit([1, 2, 3, 4, 5], [3, 4, 5, 1, 2])"
   ]
  },
  {
   "cell_type": "markdown",
   "metadata": {},
   "source": [
    "621. Task Scheduler"
   ]
  },
  {
   "cell_type": "code",
   "execution_count": 104,
   "metadata": {},
   "outputs": [
    {
     "data": {
      "text/plain": [
       "8"
      ]
     },
     "execution_count": 104,
     "metadata": {},
     "output_type": "execute_result"
    }
   ],
   "source": [
    "''' \n",
    "Input: tasks = [\"A\",\"A\",\"A\",\"B\",\"B\",\"B\"], n = 2\n",
    "\n",
    "Output: 8\n",
    "\n",
    "Explanation: A possible sequence is: A -> B -> idle -> A -> B -> idle -> A -> B.\n",
    "\n",
    "After completing task A, you must wait two intervals before doing A again. \n",
    "The same applies to task B. In the 3rd interval, neither A nor B can be done, so you idle. \n",
    "By the 4th interval, you can do A again as 2 intervals have passed.\n",
    "'''\n",
    "\n",
    "from collections import Counter, deque\n",
    "import heapq\n",
    "\n",
    "class Solution:\n",
    "    def leastInterval(self, tasks: List[str], n: int) -> int:\n",
    "        time = 0 \n",
    "        count = Counter(tasks)\n",
    "        maxHeap = [-cnt for cnt in count.values()]\n",
    "        heapq.heapify(maxHeap)\n",
    "        queue = deque()\n",
    "        while maxHeap or queue:\n",
    "            time += 1\n",
    "            if maxHeap:\n",
    "                cnt = 1 + heapq.heappop(maxHeap)\n",
    "                if cnt:\n",
    "                    queue.append([cnt, time + n])\n",
    "            \n",
    "            if queue and queue[0][1] == time:\n",
    "                heapq.heappush(maxHeap, queue.popleft()[0])\n",
    "        return time \n",
    "    \n",
    "\n",
    "solution = Solution()\n",
    "solution.leastInterval([\"A\",\"A\",\"A\",\"B\",\"B\",\"B\"], 2)\n",
    "\n",
    "            "
   ]
  },
  {
   "cell_type": "markdown",
   "metadata": {},
   "source": [
    "## Breadth First Search"
   ]
  },
  {
   "cell_type": "markdown",
   "metadata": {},
   "source": [
    "200. Number of Islands"
   ]
  },
  {
   "cell_type": "code",
   "execution_count": 109,
   "metadata": {},
   "outputs": [
    {
     "data": {
      "text/plain": [
       "1"
      ]
     },
     "execution_count": 109,
     "metadata": {},
     "output_type": "execute_result"
    }
   ],
   "source": [
    "''' \n",
    "Input: grid = [\n",
    "  [\"1\",\"1\",\"1\",\"1\",\"0\"],\n",
    "  [\"1\",\"1\",\"0\",\"1\",\"0\"],\n",
    "  [\"1\",\"1\",\"0\",\"0\",\"0\"],\n",
    "  [\"0\",\"0\",\"0\",\"0\",\"0\"]\n",
    "]\n",
    "Output: 1\n",
    "'''\n",
    "\n",
    "class Solution:\n",
    "    def numIslands(self, grid: List[List[str]]) -> int:\n",
    "        if not grid or len(grid) == 0 or len(grid[0]) == 0:\n",
    "            return 0 \n",
    "        \n",
    "        def dfs(grid, i, j):\n",
    "            if i < 0 or i >= len(grid) or j < 0 or j >= len(grid[0]) or grid[i][j] == \"0\":\n",
    "                return \n",
    "            # Mark as visited\n",
    "            grid[i][j] = \"0\"\n",
    "\n",
    "            # Explore all four direction\n",
    "            dfs(grid, i + 1, j)\n",
    "            dfs(grid, i - 1, j)\n",
    "            dfs(grid, i, j + 1)\n",
    "            dfs(grid, i, j - 1)\n",
    "\n",
    "        count = 0\n",
    "        \n",
    "        for i in range(len(grid)):\n",
    "            for j in range(len(grid[0])):\n",
    "                if grid[i][j] == \"1\":\n",
    "                    dfs(grid, i, j)\n",
    "                    count += 1\n",
    "        return count\n",
    "\n",
    "solution = Solution()\n",
    "solution.numIslands([\n",
    "  [\"1\",\"1\",\"1\",\"1\",\"0\"],\n",
    "  [\"1\",\"1\",\"0\",\"1\",\"0\"],\n",
    "  [\"1\",\"1\",\"0\",\"0\",\"0\"],\n",
    "  [\"0\",\"0\",\"0\",\"0\",\"0\"]\n",
    "])"
   ]
  },
  {
   "cell_type": "markdown",
   "metadata": {},
   "source": [
    "133. Clone Graph"
   ]
  },
  {
   "cell_type": "code",
   "execution_count": 110,
   "metadata": {},
   "outputs": [],
   "source": [
    "''' \n",
    "Input: adjList = [[2,4],[1,3],[2,4],[1,3]]\n",
    "Output: [[2,4],[1,3],[2,4],[1,3]]\n",
    "'''\n",
    "\n",
    "\"\"\"\n",
    "# Definition for a Node.\n",
    "class Node:\n",
    "    def __init__(self, val = 0, neighbors = None):\n",
    "        self.val = val\n",
    "        self.neighbors = neighbors if neighbors is not None else []\n",
    "\"\"\"\n",
    "\n",
    "from typing import Optional\n",
    "class Solution:\n",
    "    def cloneGraph(self, node: Optional['Node']) -> Optional['Node']:\n",
    "        oldToNew = {}\n",
    "\n",
    "        def dfs(node):\n",
    "            if not node:\n",
    "                return None\n",
    "            if node in oldToNew:\n",
    "                return oldToNew[node]\n",
    "            copy = Node(node.val)\n",
    "            oldToNew[node] = copy\n",
    "            for neighbor in node.neighbors:\n",
    "                copy.neighbors.append(dfs(neighbor))\n",
    "            return copy \n",
    "        return dfs(node)"
   ]
  },
  {
   "cell_type": "code",
   "execution_count": null,
   "metadata": {},
   "outputs": [],
   "source": []
  },
  {
   "cell_type": "markdown",
   "metadata": {},
   "source": [
    "### Graph "
   ]
  },
  {
   "cell_type": "markdown",
   "metadata": {},
   "source": [
    "Graph Adjacency Matrix"
   ]
  },
  {
   "cell_type": "code",
   "execution_count": null,
   "metadata": {},
   "outputs": [
    {
     "data": {
      "text/plain": [
       "[[0, 0, 0, 0, 0],\n",
       " [0, 0, 1, 0, 0],\n",
       " [0, 1, 0, 0, 0],\n",
       " [0, 0, 0, 0, 0],\n",
       " [0, 0, 0, 0, 0]]"
      ]
     },
     "execution_count": 134,
     "metadata": {},
     "output_type": "execute_result"
    }
   ],
   "source": [
    "class Graph:\n",
    "    def __init__(self, vertices):\n",
    "        self.adjMatrix = [[0] * vertices for _ in range(vertices)]\n",
    "\n",
    "    def addEdge(self, i, j):\n",
    "        self.adjMatrix[i][j] = 1\n",
    "        self.adjMatrix[j][i] = 1\n",
    "\n",
    "    def removeEdge(self, i, j):\n",
    "        self.adjMatrix[i][j] = 0 \n",
    "        self.adjMatrix[j][i] = 0 \n",
    "\n",
    "    def addVertex(self):\n",
    "        n = len(self.adjMatrix)\n",
    "        \n",
    "        # Add the row corresponsing to the vertex\n",
    "        for row in self.adjMatrix:\n",
    "            row.append(0)\n",
    "\n",
    "        # Add the col corresponding to the vertex\n",
    "        self.adjMatrix.append([0] * (n + 1))\n",
    "        \n",
    "\n",
    "    def remoVertex(self, vertex):\n",
    "        # Remove the row corresponding to the vertex \n",
    "        self.adjMatrix.pop(vertex)\n",
    "\n",
    "        #Remove the col corresponding to the vertex \n",
    "        for row in self.adjMatrix:\n",
    "            row.pop(vertex)\n",
    "\n",
    "graph = Graph(4)\n",
    "graph.addEdge(1, 2)\n",
    "graph.addEdge(1, 3)\n",
    "graph.removeEdge(1, 3)\n",
    "graph.addVertex()\n",
    "#graph.remoVertex(4)\n",
    "graph.adjMatrix"
   ]
  },
  {
   "cell_type": "markdown",
   "metadata": {},
   "source": [
    "Adjancency List Graph"
   ]
  },
  {
   "cell_type": "code",
   "execution_count": 218,
   "metadata": {},
   "outputs": [
    {
     "name": "stdout",
     "output_type": "stream",
     "text": [
      "A : ['B']\n",
      "B : ['A', 'D']\n",
      "C : []\n",
      "D : ['B']\n",
      "###### After removing D Vertex ########\n",
      "A : ['B']\n",
      "B : ['A']\n",
      "C : []\n"
     ]
    },
    {
     "data": {
      "text/plain": [
       "['A', 'B']"
      ]
     },
     "execution_count": 218,
     "metadata": {},
     "output_type": "execute_result"
    }
   ],
   "source": [
    "class AdjacencyListGraph:\n",
    "    def __init__(self):\n",
    "        self.adjacencyList = {}\n",
    "\n",
    "    def print_graph(self):\n",
    "        for vertex in self.adjacencyList:\n",
    "            print(vertex, ':', self.adjacencyList[vertex])\n",
    "\n",
    "    def add_vertex(self, vertex):\n",
    "        if vertex not in self.adjacencyList.keys():\n",
    "            self.adjacencyList[vertex] = []\n",
    "            return True \n",
    "        return False\n",
    "    \n",
    "    def add_edge(self, vertex1, vertex2):\n",
    "        if vertex1 in self.adjacencyList.keys() and vertex2 in self.adjacencyList.keys():\n",
    "            self.adjacencyList[vertex1].append(vertex2)\n",
    "            self.adjacencyList[vertex2].append(vertex1)\n",
    "            return True \n",
    "        return False\n",
    "\n",
    "    def remove_edge(self, vertex1, vertex2):\n",
    "        if vertex1 in self.adjacencyList.keys() and vertex2 in self.adjacencyList.keys():\n",
    "            self.adjacencyList[vertex1].remove(vertex2)\n",
    "            self.adjacencyList[vertex2].remove(vertex1)\n",
    "            return True \n",
    "        return False\n",
    "    \n",
    "    def remove_vertex(self, vertex):\n",
    "        if vertex in self.adjacencyList.keys():\n",
    "            for other_vertex in self.adjacencyList[vertex]:\n",
    "                self.adjacencyList[other_vertex].remove(vertex)\n",
    "            del self.adjacencyList[vertex]\n",
    "            return True \n",
    "        return False\n",
    "    \n",
    "    def dfs(self, startVertex):\n",
    "        visited = set()\n",
    "        stack = []\n",
    "        res = []\n",
    "        stack.append(startVertex)\n",
    "        while stack:\n",
    "            currentVertex = stack.pop()\n",
    "            if currentVertex in visited:\n",
    "                continue\n",
    "            visited.add(currentVertex)\n",
    "            res.append(currentVertex)\n",
    "            print(currentVertex)\n",
    "            for neighbor in self.adjacencyList[currentVertex]:\n",
    "                if neighbor in visited:\n",
    "                    continue\n",
    "                stack.append(neighbor)\n",
    "        return res\n",
    "    \n",
    "\n",
    "    ## Recursive Approach\n",
    "    def dfs(self, startVertex):\n",
    "        visited = set()\n",
    "        res = []\n",
    "\n",
    "        def recursive(vertex, visited, res):\n",
    "            if vertex in visited:\n",
    "                return\n",
    "            visited.add(vertex)\n",
    "            res.append(vertex)\n",
    "            for neighbor in self.adjacencyList[vertex]:\n",
    "                recursive(neighbor, visited, res)\n",
    "        recursive(startVertex, visited, res)\n",
    "        return res\n",
    "\n",
    "\n",
    "    def bfs(self, startVertex):\n",
    "        queue = deque()\n",
    "        visited = set()\n",
    "        res = []\n",
    "        queue.append(startVertex)\n",
    "        while queue:\n",
    "            current_vertex = queue.popleft()\n",
    "            if current_vertex in visited:\n",
    "                continue\n",
    "            visited.add(current_vertex)\n",
    "            res.append(current_vertex)\n",
    "            for neighbor in self.adjacencyList[current_vertex]:\n",
    "                queue.append(neighbor)\n",
    "        return res\n",
    "    \n",
    "    ## BFS Recursive Approach \n",
    "    def bfs(self, startVertex):\n",
    "        queue = deque()\n",
    "        res = []\n",
    "        visited = set()\n",
    "        queue.append(startVertex)\n",
    "\n",
    "        def recursive(queue):\n",
    "            if not queue:\n",
    "                return \n",
    "            vertex = queue.popleft()\n",
    "            if vertex not in visited:\n",
    "                res.append(vertex)\n",
    "                visited.add(vertex)\n",
    "                for neighbor in self.adjacencyList[vertex]:\n",
    "                    queue.append(neighbor)\n",
    "            recursive(queue)\n",
    "        recursive(queue)\n",
    "        return res\n",
    "            \n",
    "    \n",
    "\n",
    "            \n",
    "\n",
    "\n",
    "adjList = AdjacencyListGraph()\n",
    "\n",
    "adjList.add_vertex(\"A\")\n",
    "adjList.add_vertex(\"B\")\n",
    "adjList.add_vertex(\"C\")\n",
    "adjList.add_vertex(\"D\")\n",
    "adjList.add_edge(\"A\", \"B\")\n",
    "adjList.add_edge(\"B\", \"D\")\n",
    "adjList.print_graph()\n",
    "adjList.remove_vertex(\"D\")\n",
    "print(\"###### After removing D Vertex ########\")\n",
    "adjList.print_graph()\n",
    "adjList.dfs(\"A\")\n",
    "adjList.bfs(\"A\")\n"
   ]
  },
  {
   "cell_type": "code",
   "execution_count": 220,
   "metadata": {},
   "outputs": [
    {
     "data": {
      "text/plain": [
       "['1', '2', '3', '4', '5', '6', '7']"
      ]
     },
     "execution_count": 220,
     "metadata": {},
     "output_type": "execute_result"
    }
   ],
   "source": [
    "# Example for DFS \n",
    "\n",
    "adjList = AdjacencyListGraph()\n",
    "adjList.add_vertex(\"1\")\n",
    "adjList.add_vertex(\"2\")\n",
    "adjList.add_vertex(\"3\")\n",
    "adjList.add_vertex(\"4\")\n",
    "adjList.add_vertex(\"5\")\n",
    "adjList.add_vertex(\"6\")\n",
    "adjList.add_vertex(\"7\")\n",
    "adjList.add_edge(\"1\", \"2\")\n",
    "adjList.add_edge(\"1\", \"3\")\n",
    "adjList.add_edge(\"1\", \"4\")\n",
    "adjList.add_edge(\"2\", \"3\")\n",
    "adjList.add_edge(\"2\", \"5\")\n",
    "adjList.add_edge(\"4\", \"6\")\n",
    "adjList.add_edge(\"4\", \"7\")\n",
    "adjList.add_edge(\"6\", \"7\")\n",
    "#adjList.dfs(\"1\")\n",
    "adjList.bfs(\"1\")\n"
   ]
  },
  {
   "cell_type": "markdown",
   "metadata": {},
   "source": [
    "Breadth First Search"
   ]
  },
  {
   "cell_type": "markdown",
   "metadata": {},
   "source": [
    "994. Rotting Oranges"
   ]
  },
  {
   "cell_type": "code",
   "execution_count": 232,
   "metadata": {},
   "outputs": [
    {
     "data": {
      "text/plain": [
       "4"
      ]
     },
     "execution_count": 232,
     "metadata": {},
     "output_type": "execute_result"
    }
   ],
   "source": [
    "''' \n",
    "0 representing an empty cell,\n",
    "1 representing a fresh orange, or\n",
    "2 representing a rotten orange.\n",
    "\n",
    "Input: grid = [[2,1,1],[1,1,0],[0,1,1]]\n",
    "Output: 4\n",
    "'''\n",
    "from collections import deque\n",
    "class Solution:\n",
    "    def orangesRotting(self, grid: List[List[int]]) -> int:\n",
    "        rows, cols = len(grid), len(grid[0])\n",
    "        queue = deque()\n",
    "        fresh_count = 0\n",
    "        \n",
    "        # Step 1: Find all rotten oranges and count fresh ones\n",
    "        for r in range(rows):\n",
    "            for c in range(cols):\n",
    "                if grid[r][c] == 2:\n",
    "                    queue.append((r, c, 0))  # (row, col, minutes)\n",
    "                elif grid[r][c] == 1:\n",
    "                    fresh_count += 1\n",
    "\n",
    "        # If no fresh oranges, return 0 (everything is already rotten)\n",
    "        if fresh_count == 0:\n",
    "            return 0\n",
    "\n",
    "        directions = [(0,1), (1,0), (0,-1), (-1,0)]  # Right, Down, Left, Up\n",
    "        minutes = 0\n",
    "\n",
    "        # Step 2: BFS Traversal\n",
    "        while queue:\n",
    "            r, c, minutes = queue.popleft()\n",
    "            for dr, dc in directions:\n",
    "                nr, nc = r + dr, c + dc\n",
    "                # If it's a valid fresh orange, rot it\n",
    "                if 0 <= nr < rows and 0 <= nc < cols and grid[nr][nc] == 1:\n",
    "                    grid[nr][nc] = 2  # Mark as rotten\n",
    "                    fresh_count -= 1\n",
    "                    queue.append((nr, nc, minutes + 1))  # Add to queue\n",
    "\n",
    "        # Step 3: If any fresh oranges remain, return -1\n",
    "        return minutes if fresh_count == 0 else -1\n",
    "\n",
    "\n",
    "solution = Solution()\n",
    "solution.orangesRotting([[2,1,1],[1,1,0],[0,1,1]])"
   ]
  },
  {
   "cell_type": "markdown",
   "metadata": {},
   "source": [
    "127. Word Ladder"
   ]
  },
  {
   "cell_type": "code",
   "execution_count": null,
   "metadata": {},
   "outputs": [
    {
     "name": "stdout",
     "output_type": "stream",
     "text": [
      "while deque(['hit'])\n",
      "hit\n",
      "while deque(['hot'])\n",
      "hot\n",
      "while deque(['dot', 'lot'])\n",
      "dot\n",
      "lot\n",
      "while deque(['dog', 'log'])\n",
      "dog\n"
     ]
    },
    {
     "data": {
      "text/plain": [
       "5"
      ]
     },
     "execution_count": 240,
     "metadata": {},
     "output_type": "execute_result"
    }
   ],
   "source": [
    "''' \n",
    "\n",
    "Input: beginWord = \"hit\", endWord = \"cog\", wordList = [\"hot\",\"dot\",\"dog\",\"lot\",\"log\",\"cog\"]\n",
    "Output: 5\n",
    "Explanation: One shortest transformation sequence is \"hit\" -> \"hot\" -> \"dot\" -> \"dog\" -> cog\", which is 5 words long.\n",
    "'''\n",
    "from collections import defaultdict, deque\n",
    "\n",
    "class Solution:\n",
    "    def ladderLength(self, beginWord: str, endWord: str, wordList: list) -> int:\n",
    "        # If endWord is not in the word list, no transformation is possible\n",
    "        if endWord not in wordList:\n",
    "            return 0\n",
    "\n",
    "        # Step 1: Preprocess - Create a dictionary to map wildcard patterns to words\n",
    "        word_patterns = defaultdict(list)\n",
    "        wordList.append(beginWord)  # Include the start word for transformation\n",
    "\n",
    "        # Create patterns by replacing each letter with '*'\n",
    "        for word in wordList:\n",
    "            for i in range(len(word)):\n",
    "                pattern = word[:i] + '*' + word[i+1:]\n",
    "                word_patterns[pattern].append(word)  # Store words matching the pattern\n",
    "        \n",
    "        # Step 2: BFS Setup\n",
    "        queue = deque([beginWord])  # Start BFS from beginWord\n",
    "        visited = set([beginWord])  # Mark beginWord as visited\n",
    "        transformations = 1  # We start with 1 transformation step (beginWord itself)\n",
    "\n",
    "        # Step 3: BFS traversal\n",
    "        while queue:\n",
    "            for _ in range(len(queue)):  # Process all words at the current level\n",
    "                current_word = queue.popleft()  # Get the next word\n",
    "\n",
    "                # Generate patterns and find all possible next words\n",
    "                for i in range(len(current_word)):\n",
    "                    pattern = current_word[:i] + '*' + current_word[i+1:]\n",
    "\n",
    "                    for neighbor in word_patterns[pattern]:  # Get all words matching this pattern\n",
    "                        if neighbor == endWord:  # If we reach the endWord, return the transformations\n",
    "                            return transformations + 1\n",
    "                        if neighbor not in visited:  # If not visited, add to queue\n",
    "                            visited.add(neighbor)\n",
    "                            queue.append(neighbor)\n",
    "\n",
    "            # Increase step count after processing all words at current level\n",
    "            transformations += 1\n",
    "\n",
    "        # If we exhaust the queue and never reach endWord, return 0\n",
    "        return 0\n",
    " \n",
    "solution = Solution()\n",
    "solution.ladderLength(\"hit\", \"cog\", [\"hot\",\"dot\",\"dog\",\"lot\",\"log\",\"cog\"])\n"
   ]
  },
  {
   "cell_type": "markdown",
   "metadata": {},
   "source": [
    "## Topological Sort"
   ]
  },
  {
   "cell_type": "markdown",
   "metadata": {},
   "source": [
    "210. Course Schedule II"
   ]
  },
  {
   "cell_type": "code",
   "execution_count": 244,
   "metadata": {},
   "outputs": [
    {
     "data": {
      "text/plain": [
       "[0, 1]"
      ]
     },
     "execution_count": 244,
     "metadata": {},
     "output_type": "execute_result"
    }
   ],
   "source": [
    "'''\n",
    "Input: numCourses = 2, prerequisites = [[1,0]]\n",
    "Output: [0,1]\n",
    "Explanation: There are a total of 2 courses to take. To take course 1 you should have finished course 0. So the correct course order is [0,1].\n",
    "'''\n",
    "\n",
    "from typing import List\n",
    "\n",
    "class Solution:\n",
    "    def findOrder(self, numCourses: int, prerequisites: List[List[int]]) -> List[int]:\n",
    "        \"\"\"\n",
    "        Finds the order of courses to be taken given prerequisite dependencies.\n",
    "\n",
    "        :param numCourses: Total number of courses.\n",
    "        :param prerequisites: List of prerequisite pairs [course, prerequisite].\n",
    "        :return: A list representing the course order, or an empty list if a cycle exists.\n",
    "        \"\"\"\n",
    "\n",
    "        # Step 1: Build an adjacency list (prerequisite map)\n",
    "        prereq = {c: [] for c in range(numCourses)}  # Initialize each course with an empty list of prerequisites\n",
    "        for crs, pre in prerequisites:\n",
    "            prereq[crs].append(pre)  # Add prerequisite course to the list\n",
    "\n",
    "        # Step 2: Initialize sets to track visited and cycle detection\n",
    "        output = []  # Stores the final course order\n",
    "        cycle = set()  # Tracks nodes in the current recursion stack to detect cycles\n",
    "        visited = set()  # Tracks courses that are fully processed\n",
    "\n",
    "        def dfs(course):\n",
    "            \"\"\"\n",
    "            Performs DFS to check for cycles and determine the order of courses.\n",
    "\n",
    "            :param course: The current course being processed.\n",
    "            :return: True if no cycle is found, False otherwise.\n",
    "            \"\"\"\n",
    "            if course in cycle:  # Cycle detected (back edge in DFS)\n",
    "                return False\n",
    "            if course in visited:  # Already processed, no need to check again\n",
    "                return True\n",
    "\n",
    "            # Add the course to the cycle set before exploring prerequisites\n",
    "            cycle.add(course)\n",
    "            for pre in prereq[course]:  # Explore all prerequisite courses\n",
    "                if not dfs(pre):  # If a cycle is detected in any prerequisite, return False\n",
    "                    return False\n",
    "            \n",
    "            # If all prerequisites are processed without a cycle:\n",
    "            cycle.remove(course)  # Remove from the cycle set (backtracking)\n",
    "            output.append(course)  # Add the course to the final ordering\n",
    "            visited.add(course)  # Mark as fully processed\n",
    "            return True\n",
    "\n",
    "        # Step 3: Process each course using DFS\n",
    "        for course in range(numCourses):\n",
    "            if not dfs(course):  # If a cycle is detected, return an empty list (invalid order)\n",
    "                return []\n",
    "\n",
    "        return output  # Return the valid course order\n",
    "\n",
    "    \n",
    "\n",
    "solution = Solution()\n",
    "solution.findOrder(2, [[1,0]])"
   ]
  },
  {
   "cell_type": "markdown",
   "metadata": {},
   "source": [
    "## Disjoint Set Union (DSU)"
   ]
  },
  {
   "cell_type": "markdown",
   "metadata": {},
   "source": [
    "Union-Find (also called Disjoint Set Union (DSU)) is a data structure that helps efficiently handle problems related to connectivity in a graph. It is mainly used to determine whether two nodes belong to the same connected component."
   ]
  },
  {
   "cell_type": "markdown",
   "metadata": {},
   "source": [
    "Basic Union Operation"
   ]
  },
  {
   "cell_type": "code",
   "execution_count": 263,
   "metadata": {},
   "outputs": [
    {
     "name": "stdout",
     "output_type": "stream",
     "text": [
      "2\n"
     ]
    }
   ],
   "source": [
    "\n",
    "class Solution:\n",
    "    class DSU:\n",
    "        def __init__(self, n):\n",
    "            self.parent = list(range(n))\n",
    "            self.rank = [1] * n \n",
    "\n",
    "        def find(self, x):\n",
    "            if self.parent[x] != x:\n",
    "                self.parent[x] = self.find(self.parent[x])\n",
    "            return self.parent[x] \n",
    "        \n",
    "        def union(self, x, y):\n",
    "            rootX, rootY = self.find(x), self.find(y)\n",
    "            if rootX != rootY:\n",
    "                if self.rank[rootX] > self.rank[rootY]:\n",
    "                    self.parent[rootY] = rootX \n",
    "                elif self.parent[rootX] < self.rank[rootY]:\n",
    "                    self.parent[rootX] = rootY \n",
    "                else:\n",
    "                    self.parent[rootY] = rootX \n",
    "                    self.rank[rootX] += 1\n",
    "            \n",
    "        def connected(self, x, y):\n",
    "            return self.find(x) == self.find(y)\n",
    "    \n",
    "    def findCircleNum(self, isConnected):\n",
    "        n = len(isConnected)\n",
    "        dsu = self.DSU(n)\n",
    "\n",
    "        for i in range(n):\n",
    "            for j in range(i + 1, n):\n",
    "                if isConnected[i][j] == 1:\n",
    "                    dsu.union(i, j)\n",
    "\n",
    "        return len(set(dsu.find(i)  for i in range(n)))\n",
    "\n",
    "\n",
    "\n",
    "solution = Solution()\n",
    "\n",
    "result = solution.findCircleNum([[1,1,0],[1,1,0],[0,0,1]])\n",
    "print(result)\n",
    "\n",
    "# union = DSU(5)\n",
    "# union.find(2)\n",
    "# union.union(0, 1)\n",
    "# union.union(1, 2)\n",
    "# union.union(3, 4)\n",
    "\n",
    "# union.connected(0, 4)\n"
   ]
  },
  {
   "cell_type": "markdown",
   "metadata": {},
   "source": [
    "## Prims Algorithm"
   ]
  },
  {
   "cell_type": "markdown",
   "metadata": {},
   "source": [
    "1584. Min Cost to Connect All Points"
   ]
  },
  {
   "cell_type": "code",
   "execution_count": 270,
   "metadata": {},
   "outputs": [
    {
     "data": {
      "text/plain": [
       "20"
      ]
     },
     "execution_count": 270,
     "metadata": {},
     "output_type": "execute_result"
    }
   ],
   "source": [
    "import heapq\n",
    "\n",
    "class Solution:\n",
    "    def minCostConnectPoints(self, points: List[List[int]]) -> int:\n",
    "        n = len(points)\n",
    "        if n == 1:\n",
    "            return 0\n",
    "        min_heap = [(0, 0)] # Cost, Points Index\n",
    "        total_cost = 0\n",
    "        visited = set()\n",
    "\n",
    "        while len(visited) < n:\n",
    "            cost, u = heapq.heappop(min_heap)\n",
    "\n",
    "            if u in visited:\n",
    "                continue \n",
    "\n",
    "            visited.add(u)\n",
    "            total_cost += cost\n",
    "            \n",
    "            for v in range(n):\n",
    "                if v not in visited:\n",
    "                    dist = abs(points[u][0] - points[v][0]) + abs(points[u][1] - points[v][1])\n",
    "                    heapq.heappush(min_heap, (dist, v))\n",
    "\n",
    "        return total_cost\n",
    "    \n",
    "\n",
    "solution = Solution()\n",
    "solution.minCostConnectPoints([[0,0],[2,2],[3,10],[5,2],[7,0]])\n",
    "\n",
    "\n"
   ]
  },
  {
   "cell_type": "code",
   "execution_count": null,
   "metadata": {},
   "outputs": [],
   "source": []
  }
 ],
 "metadata": {
  "kernelspec": {
   "display_name": "Python 3",
   "language": "python",
   "name": "python3"
  },
  "language_info": {
   "codemirror_mode": {
    "name": "ipython",
    "version": 3
   },
   "file_extension": ".py",
   "mimetype": "text/x-python",
   "name": "python",
   "nbconvert_exporter": "python",
   "pygments_lexer": "ipython3",
   "version": "3.12.6"
  }
 },
 "nbformat": 4,
 "nbformat_minor": 2
}
