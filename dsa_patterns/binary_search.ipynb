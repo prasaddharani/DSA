{
 "cells": [
  {
   "cell_type": "markdown",
   "id": "acc53ccd",
   "metadata": {},
   "source": [
    "34. Find First and Last Position of Element in Sorted Array"
   ]
  },
  {
   "cell_type": "code",
   "execution_count": 17,
   "id": "08822d69",
   "metadata": {},
   "outputs": [
    {
     "data": {
      "text/plain": [
       "[3, 4]"
      ]
     },
     "execution_count": 17,
     "metadata": {},
     "output_type": "execute_result"
    }
   ],
   "source": [
    "''' \n",
    "Input: nums = [5,7,7,8,8,10], target = 8\n",
    "Output: [3,4]\n",
    "'''\n",
    "from typing import List, Optional \n",
    "\n",
    "class Solution:\n",
    "    def searchRange(self, nums: List[int], target: int) -> List[int]:\n",
    "        left = self.binarySearch(nums, target, True)\n",
    "        right = self.binarySearch(nums, target, False)\n",
    "        return [left, right]\n",
    "\n",
    "    def binarySearch(self, nums, target, left_bias):\n",
    "        left = 0\n",
    "        right = len(nums) - 1\n",
    "        i = - 1\n",
    "        while left <= right:\n",
    "            mid = left + ((right - left) // 2)\n",
    "            if target < nums[mid]:\n",
    "                right = mid - 1\n",
    "            elif target > nums[mid]:\n",
    "                left = mid + 1\n",
    "            else:\n",
    "                i = mid\n",
    "                if left_bias:\n",
    "                    right = mid - 1\n",
    "                else:\n",
    "                    left = mid + 1 \n",
    "        return i \n",
    "    \n",
    "\n",
    "solution = Solution()\n",
    "solution.searchRange([5,7,7,8,8,10], 8)"
   ]
  },
  {
   "cell_type": "markdown",
   "id": "468e5089",
   "metadata": {},
   "source": [
    "33. Search in Rotated Sorted Array"
   ]
  },
  {
   "cell_type": "code",
   "execution_count": 21,
   "id": "2031c4dd",
   "metadata": {},
   "outputs": [
    {
     "data": {
      "text/plain": [
       "4"
      ]
     },
     "execution_count": 21,
     "metadata": {},
     "output_type": "execute_result"
    }
   ],
   "source": [
    "''' \n",
    "Input: nums = [4,5,6,7,0,1,2], target = 0\n",
    "Output: 4\n",
    "'''\n",
    "\n",
    "class Solution:\n",
    "    def search(self, nums: List[int], target: int) -> int:\n",
    "        return self.modified_binary_search(nums, target, 0, len(nums) - 1)\n",
    "\n",
    "    def modified_binary_search(self, nums, target, left, right):\n",
    "        # If element is not found\n",
    "        if left > right: \n",
    "            return -1 \n",
    "        \n",
    "        mid = left + (right - left) // 2\n",
    "\n",
    "        if target == nums[mid]:\n",
    "            return mid\n",
    "        # If left half is sorted \n",
    "        if nums[mid] >= nums[left]:\n",
    "            if target >= nums[left] and target < nums[mid]:\n",
    "                return self.modified_binary_search(nums, target, left, mid)\n",
    "            else:\n",
    "                return self.modified_binary_search(nums, target, mid + 1, right)\n",
    "        # else right half is sorted \n",
    "        else:\n",
    "            if target >= nums[mid + 1] and target <= nums[right]:\n",
    "                return self.modified_binary_search(nums, target, mid + 1, right)\n",
    "            else:\n",
    "                return self.modified_binary_search(nums, target, left, mid)\n",
    "solution = Solution()\n",
    "solution.search([4,5,6,7,0,1,2], 0)"
   ]
  },
  {
   "cell_type": "markdown",
   "id": "d0e641e6",
   "metadata": {},
   "source": [
    "162. Find Peak Element"
   ]
  },
  {
   "cell_type": "code",
   "execution_count": 29,
   "id": "6c3e4cdb",
   "metadata": {},
   "outputs": [
    {
     "data": {
      "text/plain": [
       "2"
      ]
     },
     "execution_count": 29,
     "metadata": {},
     "output_type": "execute_result"
    }
   ],
   "source": [
    "''' \n",
    "Input: nums = [1,2,3,1]\n",
    "Output: 2\n",
    "Explanation: 3 is a peak element and your function should return the index number 2.\n",
    "'''\n",
    "\n",
    "class Solution:\n",
    "    def findPeakElement(self, nums: List[int]) -> int:\n",
    "        left = 0 \n",
    "        right = len(nums) - 1\n",
    "        while left < right:  \n",
    "            mid = left + ((right - left) // 2)\n",
    "            if nums[mid] > nums[mid + 1]:\n",
    "                right = mid\n",
    "            else:\n",
    "                left = mid + 1\n",
    "        return left  # or return right (both are the same at this point) \n",
    "\n",
    "solution = Solution()\n",
    "solution.findPeakElement([1,2,3,1])"
   ]
  },
  {
   "cell_type": "markdown",
   "id": "04ad54c3",
   "metadata": {},
   "source": [
    "875. Koko Eating Bananas"
   ]
  },
  {
   "cell_type": "code",
   "execution_count": 50,
   "id": "d8c7beaa",
   "metadata": {},
   "outputs": [
    {
     "data": {
      "text/plain": [
       "4"
      ]
     },
     "execution_count": 50,
     "metadata": {},
     "output_type": "execute_result"
    }
   ],
   "source": [
    "''' \n",
    "Input: piles = [3,6,7,11], h = 8\n",
    "Output: 4\n",
    "'''\n",
    "import math\n",
    "class Solution:\n",
    "    def minEatingSpeed(self, piles, h):\n",
    "        left = 1 \n",
    "        right = max(piles)\n",
    "        res = right\n",
    "        while left <= right:\n",
    "            mid = left + ((right - left) // 2)\n",
    "            hours = 0\n",
    "            for pile in piles:\n",
    "                hours += math.ceil(pile / mid)\n",
    "            if hours <= h:\n",
    "                res = min(mid, res)\n",
    "                right = mid - 1\n",
    "            else:\n",
    "                left = mid + 1 \n",
    "        return res \n",
    "\n",
    "solution = Solution()\n",
    "solution.minEatingSpeed([3,6,7,11], 8)\n"
   ]
  },
  {
   "cell_type": "markdown",
   "id": "9d99345f",
   "metadata": {},
   "source": [
    "74. Search a 2D Matrix"
   ]
  },
  {
   "cell_type": "code",
   "execution_count": 58,
   "id": "b268ae0a",
   "metadata": {},
   "outputs": [
    {
     "data": {
      "text/plain": [
       "True"
      ]
     },
     "execution_count": 58,
     "metadata": {},
     "output_type": "execute_result"
    }
   ],
   "source": [
    "''' \n",
    "Input: matrix = [[1,3,5,7],[10,11,16,20],[23,30,34,60]], target = 3\n",
    "Output: true\n",
    "\n",
    "'''\n",
    "\n",
    "from typing import List, Optional\n",
    "\n",
    "class Solution:\n",
    "    def searchMatrix(self, matrix: List[List[int]], target: int) -> bool:\n",
    "        row_index = self.search_pottential_row(matrix, target)\n",
    "        if row_index == -1:\n",
    "            return False \n",
    "        else:\n",
    "            return self.binary_Search_on_row(matrix, target, row_index)\n",
    "        \n",
    "\n",
    "    def search_pottential_row(self, matrix, target):\n",
    "        left = 0 \n",
    "        right = len(matrix) - 1\n",
    "        while left <= right:\n",
    "            mid = left + (right - left) // 2\n",
    "            if matrix[mid][0] <= target <= matrix[mid][-1]:\n",
    "                return mid \n",
    "            elif matrix[mid][0] < target:\n",
    "                left = mid + 1\n",
    "            elif matrix[mid][0] > target:\n",
    "                right = mid - 1\n",
    "        return -1 \n",
    "    \n",
    "    def binary_Search_on_row(self, matrix, target, row_index):\n",
    "        left = 0 \n",
    "        right = len(matrix[row_index]) - 1\n",
    "        while left <= right:\n",
    "            mid = left + (right - left) // 2\n",
    "            if matrix[row_index][mid] < target:\n",
    "                left = mid + 1\n",
    "            elif matrix[row_index][mid] > target:\n",
    "                right = mid - 1\n",
    "            elif matrix[row_index][mid] == target:\n",
    "                return True \n",
    "        return False\n",
    "\n",
    "solution = Solution()\n",
    "solution.searchMatrix([[1,3,5,7],[10,11,16,20],[23,30,34,60]], 3) \n"
   ]
  },
  {
   "cell_type": "markdown",
   "id": "a21b9773",
   "metadata": {},
   "source": [
    "4. Median of Two Sorted Arrays"
   ]
  },
  {
   "cell_type": "code",
   "execution_count": 64,
   "id": "2dfd6ef6",
   "metadata": {},
   "outputs": [
    {
     "data": {
      "text/plain": [
       "2"
      ]
     },
     "execution_count": 64,
     "metadata": {},
     "output_type": "execute_result"
    }
   ],
   "source": [
    "''' \n",
    "Input: nums1 = [1,3], nums2 = [2]\n",
    "Output: 2.00000\n",
    "Explanation: merged array = [1,2,3] and median is 2.\n",
    "'''\n",
    "\n",
    "class Solution:\n",
    "    def findMedianSortedArrays(self, nums1, nums2):\n",
    "        # Make sure nums1 is the smaller array\n",
    "        if len(nums1) > len(nums2):\n",
    "            nums1, nums2 = nums2, nums1\n",
    "\n",
    "        x = len(nums1)\n",
    "        y = len(nums2)\n",
    "\n",
    "        low = 0\n",
    "        high = x\n",
    "\n",
    "        while low <= high:\n",
    "            # Partition both arrays\n",
    "            partitionX = (low + high) // 2\n",
    "            partitionY = (x + y + 1) // 2 - partitionX\n",
    "\n",
    "            # Edge values (handle out-of-bounds with infinities)\n",
    "            maxLeftX = float('-inf') if partitionX == 0 else nums1[partitionX - 1]\n",
    "            minRightX = float('inf') if partitionX == x else nums1[partitionX]\n",
    "\n",
    "            maxLeftY = float('-inf') if partitionY == 0 else nums2[partitionY - 1]\n",
    "            minRightY = float('inf') if partitionY == y else nums2[partitionY]\n",
    "\n",
    "            # Check if we’ve found the correct partition\n",
    "            if maxLeftX <= minRightY and maxLeftY <= minRightX:\n",
    "                if (x + y) % 2 == 0:\n",
    "                    return (max(maxLeftX, maxLeftY) + min(minRightX, minRightY)) / 2\n",
    "                else:\n",
    "                    return max(maxLeftX, maxLeftY)\n",
    "            elif maxLeftX > minRightY:\n",
    "                # Move left in nums1\n",
    "                high = partitionX - 1\n",
    "            else:\n",
    "                # Move right in nums1\n",
    "                low = partitionX + 1\n",
    "\n",
    "        raise ValueError(\"Input arrays are not sorted properly\")\n",
    "\n",
    "\n",
    "solution = Solution()\n",
    "solution.findMedianSortedArrays([1, 3], [2])\n"
   ]
  },
  {
   "cell_type": "code",
   "execution_count": null,
   "id": "f7eb6682",
   "metadata": {},
   "outputs": [],
   "source": []
  }
 ],
 "metadata": {
  "kernelspec": {
   "display_name": "Python 3",
   "language": "python",
   "name": "python3"
  },
  "language_info": {
   "codemirror_mode": {
    "name": "ipython",
    "version": 3
   },
   "file_extension": ".py",
   "mimetype": "text/x-python",
   "name": "python",
   "nbconvert_exporter": "python",
   "pygments_lexer": "ipython3",
   "version": "3.12.6"
  }
 },
 "nbformat": 4,
 "nbformat_minor": 5
}
