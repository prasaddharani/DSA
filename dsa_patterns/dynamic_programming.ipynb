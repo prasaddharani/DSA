{
 "cells": [
  {
   "cell_type": "markdown",
   "id": "62b856d3",
   "metadata": {},
   "source": [
    "### 1-D DP"
   ]
  },
  {
   "cell_type": "markdown",
   "id": "b6b13faa",
   "metadata": {},
   "source": [
    "198. House Robber"
   ]
  },
  {
   "cell_type": "code",
   "execution_count": 2,
   "id": "91816db0",
   "metadata": {},
   "outputs": [
    {
     "data": {
      "text/plain": [
       "4"
      ]
     },
     "execution_count": 2,
     "metadata": {},
     "output_type": "execute_result"
    }
   ],
   "source": [
    "'''\n",
    "Example 1:\n",
    "\n",
    "Input: nums = [1,2,3,1]\n",
    "Output: 4\n",
    "Explanation: Rob house 1 (money = 1) and then rob house 3 (money = 3).\n",
    "Total amount you can rob = 1 + 3 = 4.\n",
    "'''\n",
    "from typing import List \n",
    "\n",
    "class Solution:\n",
    "    def rob(self, nums: List[int]) -> int:\n",
    "        if len(nums) < 2:\n",
    "            return nums[0]\n",
    "        dp = [0] * (len(nums))\n",
    "\n",
    "        dp[0] = nums[0]\n",
    "        dp[1] = max(nums[0], nums[1])\n",
    "\n",
    "        for i in range(2, len(nums)):\n",
    "            dp[i] = max(dp[i-2] + nums[i], dp[i-1])\n",
    "        return dp[len(nums) - 1] \n",
    "\n",
    "solution = Solution()\n",
    "solution.rob([1,2,3,1])"
   ]
  },
  {
   "cell_type": "markdown",
   "id": "3a93bb9f",
   "metadata": {},
   "source": [
    "213. House Robber II"
   ]
  },
  {
   "cell_type": "code",
   "execution_count": 3,
   "id": "a9ad55f5",
   "metadata": {},
   "outputs": [
    {
     "data": {
      "text/plain": [
       "3"
      ]
     },
     "execution_count": 3,
     "metadata": {},
     "output_type": "execute_result"
    }
   ],
   "source": [
    "''' \n",
    "Input: nums = [2,3,2]\n",
    "Output: 3\n",
    "Explanation: You cannot rob house 1 (money = 2) and then rob house 3 (money = 2), because they are adjacent houses.\n",
    "'''\n",
    "\n",
    "class Solution:\n",
    "    def rob(self, nums: List[int]) -> int:\n",
    "        if len(nums) < 2:\n",
    "            return nums[0]\n",
    "        exclude_first_index = self.rob_helper(nums[1:])\n",
    "        exclude_last_index = self.rob_helper(nums[:len(nums) - 1])\n",
    "        return max(exclude_first_index, exclude_last_index)\n",
    "\n",
    "    def rob_helper(self, nums):\n",
    "        if len(nums) < 2:\n",
    "            return nums[0]\n",
    "        dp = [0] * len(nums)\n",
    "        dp[0] = nums[0]\n",
    "        dp[1] = max(nums[0], nums[1])\n",
    "        for i in range(2, len(nums)):\n",
    "            dp[i] = max(dp[i - 1], dp[i - 2] + nums[i])\n",
    "        return dp[-1]\n",
    "\n",
    "\n",
    "solution = Solution()\n",
    "solution.rob([2, 3, 2])\n"
   ]
  },
  {
   "cell_type": "markdown",
   "id": "e73fad92",
   "metadata": {},
   "source": [
    "### Knapsack Problem"
   ]
  },
  {
   "cell_type": "markdown",
   "id": "34eca8e4",
   "metadata": {},
   "source": [
    "416. Partition Equal Subset Sum"
   ]
  },
  {
   "cell_type": "code",
   "execution_count": 4,
   "id": "c0ae4839",
   "metadata": {},
   "outputs": [
    {
     "data": {
      "text/plain": [
       "\" \\n# 🧠 Partition Equal Subset Sum – Cheat Sheet\\n\\n## 🔍 Problem\\nGiven a list of **positive integers**, determine if it can be **partitioned into two subsets** such that the **sum of elements in both subsets is equal**.\\n\\n---\\n\\n## 🎯 Key Insight\\n\\n- If total sum is **odd** → can't be split equally → return `False`\\n- If even → find if **any subset sums to total // 2**\\n- Reduces to: **Subset Sum to Target Problem**\\n\\n---\\n\\n## ✅ Steps to Solve\\n\\n1. Calculate total sum\\n2. If total is odd → return `False`\\n3. Set `target = total // 2`\\n4. Use **1D DP array**:\\n   - `dp[i]` = `True` if sum `i` can be formed from any subset\\n   - Start with `dp[0] = True` (empty subset makes sum 0)\\n\\n---\\n\\n## 💻 Python Code\\n\\n```python\\ndef canPartition(nums):\\n    total = sum(nums)\\n    if total % 2 != 0:\\n        return False\\n\\n    target = total // 2\\n    dp = [False] * (target + 1)\\n    dp[0] = True  # Empty subset makes sum 0\\n\\n    for num in nums:\\n        for i in range(target, num - 1, -1):\\n            dp[i] = dp[i] or dp[i - num]\\n\\n    return dp[target]\\n\\n\""
      ]
     },
     "execution_count": 4,
     "metadata": {},
     "output_type": "execute_result"
    }
   ],
   "source": [
    "''' \n",
    "# 🧠 Partition Equal Subset Sum – Cheat Sheet\n",
    "\n",
    "## 🔍 Problem\n",
    "Given a list of **positive integers**, determine if it can be **partitioned into two subsets** such that the **sum of elements in both subsets is equal**.\n",
    "\n",
    "---\n",
    "\n",
    "## 🎯 Key Insight\n",
    "\n",
    "- If total sum is **odd** → can't be split equally → return `False`\n",
    "- If even → find if **any subset sums to total // 2**\n",
    "- Reduces to: **Subset Sum to Target Problem**\n",
    "\n",
    "---\n",
    "\n",
    "## ✅ Steps to Solve\n",
    "\n",
    "1. Calculate total sum\n",
    "2. If total is odd → return `False`\n",
    "3. Set `target = total // 2`\n",
    "4. Use **1D DP array**:\n",
    "   - `dp[i]` = `True` if sum `i` can be formed from any subset\n",
    "   - Start with `dp[0] = True` (empty subset makes sum 0)\n",
    "\n",
    "---\n",
    "\n",
    "## 💻 Python Code\n",
    "\n",
    "```python\n",
    "def canPartition(nums):\n",
    "    total = sum(nums)\n",
    "    if total % 2 != 0:\n",
    "        return False\n",
    "\n",
    "    target = total // 2\n",
    "    dp = [False] * (target + 1)\n",
    "    dp[0] = True  # Empty subset makes sum 0\n",
    "\n",
    "    for num in nums:\n",
    "        for i in range(target, num - 1, -1):\n",
    "            dp[i] = dp[i] or dp[i - num]\n",
    "\n",
    "    return dp[target]\n",
    "\n",
    "'''\n",
    "\n"
   ]
  },
  {
   "cell_type": "code",
   "execution_count": 9,
   "id": "3120de7f",
   "metadata": {},
   "outputs": [
    {
     "data": {
      "text/plain": [
       "True"
      ]
     },
     "execution_count": 9,
     "metadata": {},
     "output_type": "execute_result"
    }
   ],
   "source": [
    "''' \n",
    "Input: nums = [1,5,11,5]\n",
    "Output: true\n",
    "Explanation: The array can be partitioned as [1, 5, 5] and [11].\n",
    "'''\n",
    "\n",
    "class Solution:\n",
    "    def canPartition(self, nums):\n",
    "        # Step 1: Calculate total sum of all elements\n",
    "        total = sum(nums)\n",
    "\n",
    "        # Step 2: If total sum is odd, we can't split it equally into two subsets\n",
    "        if total % 2 != 0:\n",
    "            return False\n",
    "\n",
    "        # Step 3: Target sum for each subset\n",
    "        target = total // 2\n",
    "\n",
    "        # Step 4: Create a DP array where dp[i] means \n",
    "        # \"Can we form sum i using some subset of the elements?\"\n",
    "        dp = [False] * (target + 1)\n",
    "\n",
    "        # Base case: A sum of 0 is always possible (using an empty subset)\n",
    "        dp[0] = True\n",
    "\n",
    "        # Step 5: Process each number in the input list\n",
    "        for num in nums:\n",
    "            # Traverse the dp array from right to left to avoid using the same number twice\n",
    "            for i in range(target, num - 1, -1):\n",
    "                # If we could form (i - num) before, now we can form i by adding num\n",
    "                dp[i] = dp[i] or dp[i - num]\n",
    "\n",
    "        # Step 6: Final answer — can we form the target sum?\n",
    "        return dp[target]\n",
    "\n",
    "\n",
    "    \n",
    "solution = Solution()\n",
    "solution.canPartition([1, 5, 11, 5])"
   ]
  },
  {
   "cell_type": "markdown",
   "id": "19d47b13",
   "metadata": {},
   "source": [
    "### Unbound Knapsack DP"
   ]
  },
  {
   "cell_type": "markdown",
   "id": "a1e04161",
   "metadata": {},
   "source": [
    "322. Coin Change"
   ]
  },
  {
   "cell_type": "code",
   "execution_count": 12,
   "id": "879bc9c4",
   "metadata": {},
   "outputs": [
    {
     "data": {
      "text/plain": [
       "3"
      ]
     },
     "execution_count": 12,
     "metadata": {},
     "output_type": "execute_result"
    }
   ],
   "source": [
    "''' \n",
    "Input: coins = [1,2,5], amount = 11\n",
    "Output: 3\n",
    "Explanation: 11 = 5 + 5 + 1\n",
    "'''\n",
    "\n",
    "class Solution:\n",
    "    def coinChange(self, coins: List[int], amount: int) -> int:\n",
    "        if amount < 0:\n",
    "            return 0 \n",
    "        \n",
    "        dp = [float('inf')] * (amount + 1)\n",
    "        dp[0] = 0\n",
    "        \n",
    "        for i in range(1, amount + 1):\n",
    "            for coin in coins:\n",
    "                if coin <= i and dp[i - coin] != float('inf'):\n",
    "                    dp[i] = min(dp[i], 1 + dp[i - coin])\n",
    "        return dp[amount]\n",
    "\n",
    "solution = Solution()\n",
    "solution.coinChange([1, 2, 5], 11)"
   ]
  },
  {
   "cell_type": "markdown",
   "id": "cf8d188b",
   "metadata": {},
   "source": [
    "### Longest Increasing subsequence DP"
   ]
  },
  {
   "cell_type": "markdown",
   "id": "58a43f05",
   "metadata": {},
   "source": [
    "300. Longest Increasing Subsequence"
   ]
  },
  {
   "cell_type": "code",
   "execution_count": 17,
   "id": "6a65afbe",
   "metadata": {},
   "outputs": [
    {
     "data": {
      "text/plain": [
       "4"
      ]
     },
     "execution_count": 17,
     "metadata": {},
     "output_type": "execute_result"
    }
   ],
   "source": [
    "''' \n",
    "Input: nums = [10,9,2,5,3,7,101,18]\n",
    "Output: 4\n",
    "Explanation: The longest increasing subsequence is [2,3,7,101], therefore the length is 4.\n",
    "'''\n",
    "\n",
    "class Solution:\n",
    "    def lengthOfLIS(self, nums: List[int]) -> int:\n",
    "        # Step 1: Initialize DP array where dp[i] represents the length of the\n",
    "        # Longest Increasing Subsequence ending at index i.\n",
    "        dp = [1] * len(nums)  # Every element is at least a subsequence of length 1\n",
    "\n",
    "        # Step 2: Loop over each element starting from the second\n",
    "        for i in range(1, len(nums)):\n",
    "            # Check all previous elements before index i\n",
    "            for j in range(i):\n",
    "                # If nums[j] is less than nums[i], we can extend the increasing subsequence\n",
    "                if nums[j] < nums[i] and dp[j] >= dp[i]:\n",
    "                    # Update dp[i] to be the length of LIS ending at j plus 1 (include nums[i])\n",
    "                    dp[i] = dp[j] + 1\n",
    "\n",
    "        # Step 3: The maximum value in dp[] is the length of the longest increasing subsequence\n",
    "        return max(dp)\n",
    "\n",
    "    \n",
    "solution = Solution()\n",
    "solution.lengthOfLIS([10,9,2,5,3,7,101,18])"
   ]
  },
  {
   "cell_type": "markdown",
   "id": "cc518d7f",
   "metadata": {},
   "source": [
    "### String DP"
   ]
  },
  {
   "cell_type": "markdown",
   "id": "0f227fdc",
   "metadata": {},
   "source": [
    "1143. Longest Common Subsequence"
   ]
  },
  {
   "cell_type": "code",
   "execution_count": 34,
   "id": "45a88042",
   "metadata": {},
   "outputs": [
    {
     "data": {
      "text/plain": [
       "3"
      ]
     },
     "execution_count": 34,
     "metadata": {},
     "output_type": "execute_result"
    }
   ],
   "source": [
    "''' \n",
    "Input: text1 = \"abcde\", text2 = \"ace\" \n",
    "Output: 3  \n",
    "Explanation: The longest common subsequence is \"ace\" and its length is 3.\n",
    "'''\n",
    "\n",
    "class Solution:\n",
    "    def longestCommonSubsequence(self, text1: str, text2: str) -> int:\n",
    "        # Initialize a 2D DP table with (len(text1)+1) rows and (len(text2)+1) columns\n",
    "        # dp[i][j] will store the length of LCS between text1[0:i] and text2[0:j]\n",
    "        # We add +1 to handle base cases (empty substrings) easily\n",
    "        dp = [[0 for _ in range(len(text2) + 1)] for _ in range(len(text1) + 1)]\n",
    "\n",
    "        # Loop through both strings, 1-indexed for easier mapping to dp table\n",
    "        for i in range(1, len(text1) + 1):\n",
    "            for j in range(1, len(text2) + 1):\n",
    "                # If characters match, we extend the LCS by 1\n",
    "                if text1[i - 1] == text2[j - 1]:\n",
    "                    dp[i][j] = 1 + dp[i - 1][j - 1]\n",
    "                else:\n",
    "                    # If characters don’t match, take the max LCS excluding current char from either string\n",
    "                    dp[i][j] = max(dp[i - 1][j], dp[i][j - 1])\n",
    "\n",
    "        # The bottom-right cell contains the length of LCS for text1 and text2\n",
    "        return dp[-1][-1]\n",
    "\n",
    "\n",
    "solution = Solution()\n",
    "solution.longestCommonSubsequence(\"abcde\", \"ace\")\n",
    "\n",
    "              "
   ]
  },
  {
   "cell_type": "code",
   "execution_count": 28,
   "id": "cc7a311e",
   "metadata": {},
   "outputs": [
    {
     "data": {
      "text/plain": [
       "[[0, 0, 0, 0],\n",
       " [0, 0, 0, 0],\n",
       " [0, 0, 0, 0],\n",
       " [0, 0, 0, 0],\n",
       " [0, 0, 0, 0],\n",
       " [0, 0, 0, 0]]"
      ]
     },
     "execution_count": 28,
     "metadata": {},
     "output_type": "execute_result"
    }
   ],
   "source": [
    "text1 = \"abcde\"\n",
    "text2 = \"ace\" \n",
    "dp = [[0 for _ in range(len(text2) + 1)] for _ in range(len(text1) + 1)]\n",
    "dp"
   ]
  },
  {
   "cell_type": "markdown",
   "id": "a18692c4",
   "metadata": {},
   "source": [
    "139. Word Break"
   ]
  },
  {
   "cell_type": "code",
   "execution_count": 61,
   "id": "5bce4b8e",
   "metadata": {},
   "outputs": [
    {
     "data": {
      "text/plain": [
       "True"
      ]
     },
     "execution_count": 61,
     "metadata": {},
     "output_type": "execute_result"
    }
   ],
   "source": [
    "''' \n",
    "Input: s = \"applepenapple\", wordDict = [\"apple\",\"pen\"]\n",
    "Output: true\n",
    "Explanation: Return true because \"applepenapple\" can be segmented as \"apple pen apple\".\n",
    "Note that you are allowed to reuse a dictionary word.\n",
    "\n",
    "Input: s = \"catsandog\", wordDict = [\"cats\",\"dog\",\"sand\",\"and\",\"cat\"]\n",
    "Output: false\n",
    "'''\n",
    "\n",
    "class Solution:\n",
    "    def wordBreak(self, s: str, wordDict: List[str]) -> bool:\n",
    "        wordDict = set(wordDict)\n",
    "        dp = [False] * (len(s) + 1)\n",
    "        dp[0] = True\n",
    "        max_len = max(map(len, wordDict)) if wordDict else 0\n",
    "        for i in range(len(s) + 1):\n",
    "            for j in range(max(0, i - max_len), i):\n",
    "                if dp[j] and s[j:i] in wordDict:\n",
    "                    dp[i] = True \n",
    "                    break\n",
    "        return dp[-1]\n",
    "    \n",
    "solution = Solution()\n",
    "solution.wordBreak(\"applepenapple\", [\"apple\",\"pen\"])"
   ]
  },
  {
   "cell_type": "markdown",
   "id": "3ff0935a",
   "metadata": {},
   "source": [
    "### 2D (Grid) DP"
   ]
  },
  {
   "cell_type": "markdown",
   "id": "c5cb9b69",
   "metadata": {},
   "source": [
    "64. Minimum Path Sum"
   ]
  },
  {
   "cell_type": "code",
   "execution_count": 69,
   "id": "9ead88b0",
   "metadata": {},
   "outputs": [
    {
     "data": {
      "text/plain": [
       "7"
      ]
     },
     "execution_count": 69,
     "metadata": {},
     "output_type": "execute_result"
    }
   ],
   "source": [
    "''' \n",
    "Input: grid = [[1,3,1],[1,5,1],[4,2,1]]\n",
    "Output: 7\n",
    "Explanation: Because the path 1 → 3 → 1 → 1 → 1 minimizes the sum.\n",
    "\n",
    "      0     1     2     3\n",
    "   -------------------------\n",
    "0 | inf | inf | inf | inf |\n",
    "1 | inf | inf | inf | inf |\n",
    "2 | inf | inf | inf |  0  | ← dp[2][3] is now 0\n",
    "3 | inf | inf | inf | inf |\n",
    "\n",
    "'''\n",
    "\n",
    "class Solution:\n",
    "    def minPathSum(self, grid: List[List[int]]) -> int:\n",
    "        rows = len(grid)\n",
    "        cols = len(grid[0])\n",
    "\n",
    "        # Create a DP table with extra row and column filled with 'inf' (infinity)\n",
    "        # This helps avoid index out of bounds when accessing dp[i+1][j] or dp[i][j+1]\n",
    "        dp = [[float('inf') for _ in range(cols + 1)] for _ in range(rows + 1)]\n",
    "\n",
    "        # Base case: set cell right after the last cell to 0\n",
    "        # This helps when calculating the bottom-right corner cell\n",
    "        dp[rows - 1][cols] = 0\n",
    "\n",
    "        # Fill the DP table from bottom-right to top-left\n",
    "        for i in range(rows - 1, -1, -1):\n",
    "            for j in range(cols - 1, -1, -1):\n",
    "                # At each cell, choose the minimum path sum by going either right or down\n",
    "                dp[i][j] = grid[i][j] + min(dp[i + 1][j], dp[i][j + 1])\n",
    "\n",
    "        # The top-left cell now contains the minimum path sum from top-left to bottom-right\n",
    "        return dp[0][0]\n",
    "\n",
    "    \n",
    "solution = Solution()\n",
    "solution.minPathSum([[1,3,1],[1,5,1],[4,2,1]])\n"
   ]
  },
  {
   "cell_type": "markdown",
   "id": "f1219c8d",
   "metadata": {},
   "source": [
    "329. Longest Increasing Path in a Matrix"
   ]
  },
  {
   "cell_type": "code",
   "execution_count": 74,
   "id": "4db38302",
   "metadata": {},
   "outputs": [
    {
     "data": {
      "text/plain": [
       "4"
      ]
     },
     "execution_count": 74,
     "metadata": {},
     "output_type": "execute_result"
    }
   ],
   "source": [
    "''' \n",
    "Input: matrix = [[9,9,4],[6,6,8],[2,1,1]]\n",
    "Output: 4\n",
    "Explanation: The longest increasing path is [1, 2, 6, 9].\n",
    "'''\n",
    "\n",
    "class Solution:\n",
    "    def longestIncreasingPath(self, matrix: List[List[int]]) -> int:\n",
    "        if not matrix or not matrix[0]:\n",
    "            return 0\n",
    "\n",
    "        rows, cols = len(matrix), len(matrix[0])\n",
    "        dp = {}  # memoization map: (r, c) → longest path from that cell\n",
    "\n",
    "        directions = [(-1, 0), (1, 0), (0, -1), (0, 1)]\n",
    "\n",
    "        def dfs(r, c):\n",
    "            if (r, c) in dp:\n",
    "                return dp[(r, c)]\n",
    "\n",
    "            max_len = 1  # at least the current cell\n",
    "\n",
    "            for dr, dc in directions:\n",
    "                nr, nc = r + dr, c + dc\n",
    "                if 0 <= nr < rows and 0 <= nc < cols and matrix[nr][nc] > matrix[r][c]:\n",
    "                    max_len = max(max_len, 1 + dfs(nr, nc))\n",
    "\n",
    "            dp[(r, c)] = max_len\n",
    "            return max_len\n",
    "\n",
    "        return max(dfs(r, c) for r in range(rows) for c in range(cols))\n",
    "\n",
    "\n",
    "\n",
    "solution = Solution()\n",
    "solution.longestIncreasingPath([[9,9,4],[6,6,8],[2,1,1]])"
   ]
  },
  {
   "cell_type": "code",
   "execution_count": null,
   "id": "64e6fe7e",
   "metadata": {},
   "outputs": [],
   "source": []
  }
 ],
 "metadata": {
  "kernelspec": {
   "display_name": "Python 3",
   "language": "python",
   "name": "python3"
  },
  "language_info": {
   "codemirror_mode": {
    "name": "ipython",
    "version": 3
   },
   "file_extension": ".py",
   "mimetype": "text/x-python",
   "name": "python",
   "nbconvert_exporter": "python",
   "pygments_lexer": "ipython3",
   "version": "3.12.6"
  }
 },
 "nbformat": 4,
 "nbformat_minor": 5
}
