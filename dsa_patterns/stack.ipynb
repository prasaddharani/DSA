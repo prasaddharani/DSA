{
 "cells": [
  {
   "cell_type": "markdown",
   "metadata": {},
   "source": [
    "20. Valid Parentheses"
   ]
  },
  {
   "cell_type": "code",
   "execution_count": 1,
   "metadata": {},
   "outputs": [
    {
     "data": {
      "text/plain": [
       "True"
      ]
     },
     "execution_count": 1,
     "metadata": {},
     "output_type": "execute_result"
    }
   ],
   "source": [
    "''' \n",
    "Input: s = \"()[]{}\"\n",
    "\n",
    "Output: true\n",
    "'''\n",
    "\n",
    "class Solution:\n",
    "    def isValid(self, s: str) -> bool:\n",
    "        stack = []\n",
    "        for c in s:\n",
    "            if c in '({[':\n",
    "                stack.append(c)\n",
    "            else:\n",
    "                if len(stack) > 0 and \\\n",
    "                    ((c == ')' and stack[-1] == '(') or \\\n",
    "                     (c == ']' and stack[-1] == '[') or \\\n",
    "                        (c == '}' and stack[-1] == '{')):\n",
    "                    stack.pop()\n",
    "                else:\n",
    "                    return False\n",
    "        return len(stack) == 0 \n",
    "    \n",
    "solution = Solution()\n",
    "solution.isValid(\"()[]{}\")"
   ]
  },
  {
   "cell_type": "markdown",
   "metadata": {},
   "source": [
    "1047. Remove All Adjacent Duplicates In String"
   ]
  },
  {
   "cell_type": "code",
   "execution_count": 10,
   "metadata": {},
   "outputs": [
    {
     "data": {
      "text/plain": [
       "'ca'"
      ]
     },
     "execution_count": 10,
     "metadata": {},
     "output_type": "execute_result"
    }
   ],
   "source": [
    "''' \n",
    "Input: s = \"abbaca\"\n",
    "Output: \"ca\"\n",
    "Explanation: \n",
    "For example, in \"abbaca\" we could remove \"bb\" since the letters are adjacent and equal, and this is the only possible move.  The result of this move is that the string is \"aaca\", of which only \"aa\" is possible, so the final string is \"ca\".\n",
    "'''\n",
    "\n",
    "class Solution:\n",
    "    def removeDuplicates(self, s: str) -> str:\n",
    "        stack = []\n",
    "        for c in s:\n",
    "            if stack and c == stack[-1]:\n",
    "                stack.pop()\n",
    "            else:\n",
    "                stack.append(c)\n",
    "        return \"\".join(stack)\n",
    "    \n",
    "solution = Solution()\n",
    "solution.removeDuplicates(\"abbaca\")"
   ]
  },
  {
   "cell_type": "markdown",
   "metadata": {},
   "source": [
    "155. Min Stack"
   ]
  },
  {
   "cell_type": "code",
   "execution_count": 18,
   "metadata": {},
   "outputs": [
    {
     "name": "stdout",
     "output_type": "stream",
     "text": [
      "[0, 0]\n",
      "1 0\n",
      "0\n"
     ]
    }
   ],
   "source": [
    "''' \n",
    "Input\n",
    "[\"MinStack\",\"push\",\"push\",\"push\",\"getMin\",\"pop\",\"top\",\"getMin\"]\n",
    "[[],[-2],[0],[-3],[],[],[],[]]\n",
    "\n",
    "Output\n",
    "[null,null,null,null,-3,null,0,-2]\n",
    "\n",
    "Explanation\n",
    "MinStack minStack = new MinStack();\n",
    "minStack.push(-2);\n",
    "minStack.push(0);\n",
    "minStack.push(-3);\n",
    "minStack.getMin(); // return -3\n",
    "minStack.pop();\n",
    "minStack.top();    // return 0\n",
    "minStack.getMin(); // return -2\n",
    "'''\n",
    "\n",
    "class MinStack:\n",
    "\n",
    "    def __init__(self):\n",
    "        self.stack = []\n",
    "        self.min_stack = []\n",
    "\n",
    "    def push(self, val: int) -> None:\n",
    "        self.stack.append(val)\n",
    "        if (not self.min_stack) or (self.min_stack and val <= self.min_stack[-1]):\n",
    "            self.min_stack.append(val)\n",
    "        \n",
    "\n",
    "    def pop(self) -> None:\n",
    "        val = self.stack.pop()\n",
    "        if val == self.min_stack[-1]:\n",
    "            self.min_stack.pop()\n",
    "\n",
    "    def top(self) -> int:\n",
    "        return self.stack[-1]\n",
    "        \n",
    "\n",
    "    def getMin(self) -> int:\n",
    "        return self.min_stack[-1]\n",
    "        \n",
    "\n",
    "\n",
    "# Your MinStack object will be instantiated and called as such:\n",
    "obj = MinStack()\n",
    "obj.push(0)\n",
    "obj.push(1)\n",
    "obj.push(0)\n",
    "print(obj.min_stack)\n",
    "param_4 = obj.getMin()\n",
    "obj.pop()\n",
    "param_3 = obj.top()\n",
    "print(param_3, param_4)\n",
    "print(obj.getMin())"
   ]
  },
  {
   "cell_type": "markdown",
   "metadata": {},
   "source": [
    "316. Remove Duplicate Letters"
   ]
  },
  {
   "cell_type": "code",
   "execution_count": null,
   "metadata": {},
   "outputs": [
    {
     "name": "stdout",
     "output_type": "stream",
     "text": [
      "{'b': 3, 'c': 4, 'a': 2}\n"
     ]
    },
    {
     "data": {
      "text/plain": [
       "'abc'"
      ]
     },
     "execution_count": 24,
     "metadata": {},
     "output_type": "execute_result"
    }
   ],
   "source": [
    "''' \n",
    "Input: s = \"bcabc\"\n",
    "Output: \"abc\"\n",
    "'''\n",
    "\n",
    "class Solution:\n",
    "    def removeDuplicateLetters(self, s: str) -> str:\n",
    "        # A set to track characters already in the result (to avoid duplicates)\n",
    "        set_ds = set()\n",
    "        \n",
    "        # Stack to build the final result string (in correct order)\n",
    "        stack = []\n",
    "        \n",
    "        # A hash map to store the last occurrence index of each character\n",
    "        hash_map = {}\n",
    "        \n",
    "        # Fill the hash map with the last index of each character in the string\n",
    "        for i in range(len(s)):\n",
    "            hash_map[s[i]] = i\n",
    "        \n",
    "        # Iterate through the string\n",
    "        for i, c in enumerate(s):\n",
    "            # If character is already in the result, skip it\n",
    "            if c in set_ds:\n",
    "                continue \n",
    "            else:\n",
    "                # Remove characters from the stack if:\n",
    "                # - the stack is not empty\n",
    "                # - the top of the stack is lexicographically greater than current character\n",
    "                # - the character at the top of the stack appears later in the string\n",
    "                while len(stack) > 0 and stack[-1] > c and hash_map[stack[-1]] > i:\n",
    "                    set_ds.remove(stack[-1])  # Remove from the set as it's popped from the stack\n",
    "                    stack.pop()\n",
    "                \n",
    "                # Add current character to the stack and mark it as used\n",
    "                stack.append(c)\n",
    "                set_ds.add(c)\n",
    "        \n",
    "        # Join the stack to form the result string with unique characters in correct order\n",
    "        return \"\".join(stack)\n",
    "\n",
    "solution = Solution()\n",
    "solution.removeDuplicateLetters(\"bcabc\")"
   ]
  },
  {
   "cell_type": "markdown",
   "metadata": {},
   "source": [
    "2390. Removing Stars From a String"
   ]
  },
  {
   "cell_type": "code",
   "execution_count": 26,
   "metadata": {},
   "outputs": [
    {
     "data": {
      "text/plain": [
       "'lecoe'"
      ]
     },
     "execution_count": 26,
     "metadata": {},
     "output_type": "execute_result"
    }
   ],
   "source": [
    "''' \n",
    "Input: s = \"leet**cod*e\"\n",
    "Output: \"lecoe\"\n",
    "Explanation: Performing the removals from left to right:\n",
    "- The closest character to the 1st star is 't' in \"leet**cod*e\". s becomes \"lee*cod*e\".\n",
    "- The closest character to the 2nd star is 'e' in \"lee*cod*e\". s becomes \"lecod*e\".\n",
    "- The closest character to the 3rd star is 'd' in \"lecod*e\". s becomes \"lecoe\".\n",
    "There are no more stars, so we return \"lecoe\".\n",
    "'''\n",
    "\n",
    "class Solution:\n",
    "    def removeStars(self, s: str) -> str:\n",
    "        stack = []\n",
    "        for c in s:\n",
    "            if stack and c == '*':\n",
    "                stack.pop()\n",
    "            else:\n",
    "                stack.append(c)\n",
    "        return \"\".join(stack)\n",
    "    \n",
    "solution = Solution()\n",
    "solution.removeStars(\"leet**cod*e\")\n"
   ]
  },
  {
   "cell_type": "markdown",
   "metadata": {},
   "source": [
    "150. Evaluate Reverse Polish Notation"
   ]
  },
  {
   "cell_type": "code",
   "execution_count": 35,
   "metadata": {},
   "outputs": [
    {
     "data": {
      "text/plain": [
       "9"
      ]
     },
     "execution_count": 35,
     "metadata": {},
     "output_type": "execute_result"
    }
   ],
   "source": [
    "''' \n",
    "Input: tokens = [\"2\",\"1\",\"+\",\"3\",\"*\"]\n",
    "Output: 9\n",
    "Explanation: ((2 + 1) * 3) = 9\n",
    "'''\n",
    "\n",
    "class Solution(object):\n",
    "    def evalRPN(self, tokens):\n",
    "        \"\"\"\n",
    "        :type tokens: List[str]\n",
    "        :rtype: int\n",
    "        \"\"\"\n",
    "        stack = []\n",
    "        for token in tokens:\n",
    "            if token in '+-*/':\n",
    "                m = int(stack.pop())\n",
    "                n = int(stack.pop())\n",
    "                if token == '+':\n",
    "                    stack.append(n+m)\n",
    "                elif token == '-':\n",
    "                    stack.append(n-m)\n",
    "                elif token == '*':\n",
    "                    stack.append(n*m)\n",
    "                elif token == '/':\n",
    "                    stack.append(int(n / m))\n",
    "            else:\n",
    "                stack.append(int(token))\n",
    "        return stack[0]\n",
    "\n",
    "solution = Solution()\n",
    "solution.evalRPN([\"2\",\"1\",\"+\",\"3\",\"*\"])"
   ]
  },
  {
   "cell_type": "code",
   "execution_count": 31,
   "metadata": {},
   "outputs": [
    {
     "name": "stdout",
     "output_type": "stream",
     "text": [
      "False\n"
     ]
    }
   ],
   "source": [
    "print('+' not in '+-*/')"
   ]
  },
  {
   "cell_type": "markdown",
   "metadata": {},
   "source": [
    "227. Basic Calculator II"
   ]
  },
  {
   "cell_type": "code",
   "execution_count": 48,
   "metadata": {},
   "outputs": [
    {
     "data": {
      "text/plain": [
       "80"
      ]
     },
     "execution_count": 48,
     "metadata": {},
     "output_type": "execute_result"
    }
   ],
   "source": [
    "''' \n",
    "Input: \"12 + 34 * 2\"\n",
    "Output: \"\"\n",
    "'''\n",
    "\n",
    "class Solution:\n",
    "    def calculate(self, s: str) -> int:\n",
    "        num = 0             # To build the current number\n",
    "        sign = '+'          # To keep track of the last operator\n",
    "        stack = []          # Stack to store intermediate results\n",
    "\n",
    "        for i, char in enumerate(s):\n",
    "            if char.isdigit():\n",
    "                # Build the number (supports multiple digits)\n",
    "                num = (num * 10) + int(char)\n",
    "\n",
    "            # If current char is an operator or we're at the end of the string\n",
    "            if (not char.isdigit() and char != ' ') or i == len(s) - 1:\n",
    "                # Process the number with the previous sign\n",
    "                if sign == '+':\n",
    "                    stack.append(num)\n",
    "                elif sign == '-':\n",
    "                    stack.append(-num)\n",
    "                elif sign == '*':\n",
    "                    # Multiply with previous number on the stack\n",
    "                    stack.append(stack.pop() * num)\n",
    "                elif sign == '/':\n",
    "                    # Python division truncates toward zero\n",
    "                    stack.append(int(stack.pop() / num))\n",
    "\n",
    "                # Update the sign to the current operator\n",
    "                sign = char\n",
    "\n",
    "                # Reset num for the next number\n",
    "                num = 0\n",
    "\n",
    "        # Add up all values in the stack to get the final result\n",
    "        return sum(stack)\n",
    "\n",
    "    \n",
    "solution = Solution()\n",
    "solution.calculate(\"12 + 34 * 2\")"
   ]
  },
  {
   "cell_type": "markdown",
   "metadata": {},
   "source": [
    "32. Longest Valid Parentheses"
   ]
  },
  {
   "cell_type": "code",
   "execution_count": 37,
   "metadata": {},
   "outputs": [
    {
     "data": {
      "text/plain": [
       "4"
      ]
     },
     "execution_count": 37,
     "metadata": {},
     "output_type": "execute_result"
    }
   ],
   "source": [
    "''' \n",
    "Input: s = \")()())\"\n",
    "Output: 4\n",
    "Explanation: The longest valid parentheses substring is \"()()\".\n",
    "'''\n",
    "\n",
    "class Solution:\n",
    "    def longestValidParentheses(self, s: str) -> int:\n",
    "        # Initialize stack with -1 to handle the base for valid substring calculation\n",
    "        stack = [-1]\n",
    "        \n",
    "        # Variable to keep track of the maximum length of valid parentheses\n",
    "        max_count = 0\n",
    "        \n",
    "        # Iterate over the string with both index and character\n",
    "        for i, char in enumerate(s):\n",
    "            if char == '(':\n",
    "                # If it's an opening bracket, push its index onto the stack\n",
    "                stack.append(i)\n",
    "            else:\n",
    "                # If it's a closing bracket, pop the top from the stack\n",
    "                stack.pop()\n",
    "                \n",
    "                # If the stack is empty after popping, push the current index as a new base\n",
    "                if not stack:\n",
    "                    stack.append(i)\n",
    "                else:\n",
    "                    # Update the max length using the current index and top of the stack\n",
    "                    max_count = max(max_count, i - stack[-1])\n",
    "        \n",
    "        # Return the length of the longest valid parentheses substring\n",
    "        return max_count\n",
    "\n",
    "solution = Solution()\n",
    "solution.longestValidParentheses(\")()())\")"
   ]
  },
  {
   "cell_type": "markdown",
   "metadata": {},
   "source": []
  },
  {
   "cell_type": "markdown",
   "metadata": {},
   "source": [
    "### Monotonic Stack"
   ]
  },
  {
   "cell_type": "markdown",
   "metadata": {},
   "source": [
    "496. Next Greater Element I"
   ]
  },
  {
   "cell_type": "code",
   "execution_count": 50,
   "metadata": {},
   "outputs": [
    {
     "data": {
      "text/plain": [
       "[-1, 3, -1]"
      ]
     },
     "execution_count": 50,
     "metadata": {},
     "output_type": "execute_result"
    }
   ],
   "source": [
    "''' \n",
    "Input: nums1 = [4,1,2], nums2 = [1,3,4,2]\n",
    "Output: [-1,3,-1]\n",
    "Explanation: The next greater element for each value of nums1 is as follows:\n",
    "- 4 is underlined in nums2 = [1,3,4,2]. There is no next greater element, so the answer is -1.\n",
    "- 1 is underlined in nums2 = [1,3,4,2]. The next greater element is 3.\n",
    "- 2 is underlined in nums2 = [1,3,4,2]. There is no next greater element, so the answer is -1.\n",
    "'''\n",
    "from typing import List, Optional\n",
    "\n",
    "class Solution:\n",
    "    def nextGreaterElement(self, nums1: List[int], nums2: List[int]) -> List[int]:\n",
    "        hash_map = {}\n",
    "        stack = []\n",
    "        for num in nums2:\n",
    "            while stack and stack[-1] < num:\n",
    "                hash_map[stack.pop()] = num \n",
    "            stack.append(num)\n",
    "        return [hash_map.get(num, -1) for num in nums1]\n",
    "    \n",
    "solution = Solution()\n",
    "solution.nextGreaterElement([4, 1, 2], [1,3,4,2])"
   ]
  },
  {
   "cell_type": "markdown",
   "metadata": {},
   "source": [
    "739. Daily Temperatures"
   ]
  },
  {
   "cell_type": "code",
   "execution_count": 62,
   "metadata": {},
   "outputs": [
    {
     "data": {
      "text/plain": [
       "[1, 1, 4, 2, 1, 1, 0, 0]"
      ]
     },
     "execution_count": 62,
     "metadata": {},
     "output_type": "execute_result"
    }
   ],
   "source": [
    "''' \n",
    "Input: temperatures = [73,74,75,71,69,72,76,73]\n",
    "Output: [1,1,4,2,1,1,0,0]\n",
    "\n",
    "Given an array of integers temperatures represents the daily temperatures, \n",
    "return an array answer such that answer[i] is the number of days you have to wait after the ith day to get a warmer temperature. \n",
    "If there is no future day for which this is possible, keep answer[i] == 0 instead.\n",
    "'''\n",
    "\n",
    "from typing import List\n",
    "\n",
    "class Solution:\n",
    "    def dailyTemperatures(self, temperatures: List[int]) -> List[int]:\n",
    "        stack = []  # Stack to store indices of temperatures\n",
    "        res = [0] * len(temperatures)  # Result initialized to 0s\n",
    "\n",
    "        # Traverse from right to left\n",
    "        for i in range(len(temperatures) - 1, -1, -1):\n",
    "            current_temp = temperatures[i]\n",
    "\n",
    "            # Pop indices from the stack while the temperature at those indices\n",
    "            # is less than or equal to the current temperature\n",
    "            while stack and temperatures[stack[-1]] <= current_temp:\n",
    "                stack.pop()\n",
    "\n",
    "            # If stack is not empty, the top of the stack is the next warmer day\n",
    "            if stack:\n",
    "                res[i] = stack[-1] - i  # Difference in indices = days to wait\n",
    "\n",
    "            # Push current index onto the stack\n",
    "            stack.append(i)\n",
    "\n",
    "        return res\n",
    "    \n",
    "    def dailyTemperatures(self, temperatures: List[int]) -> List[int]:\n",
    "        stack = []  # Stack to store indices of days\n",
    "        res = [0] * len(temperatures)  # Result list initialized with 0s\n",
    "\n",
    "        # Traverse temperatures from left to right\n",
    "        for i in range(len(temperatures)):\n",
    "            # Check if the current temperature is warmer than the one at the top of the stack\n",
    "            while stack and temperatures[stack[-1]] < temperatures[i]:\n",
    "                prev_index = stack.pop()  # Get the previous colder day's index\n",
    "                res[prev_index] = i - prev_index  # Calculate the wait days for that day\n",
    "\n",
    "            # Push current index onto the stack to find its warmer day later\n",
    "            stack.append(i)\n",
    "\n",
    "        return res\n",
    "    \n",
    "solution = Solution()\n",
    "solution.dailyTemperatures([73,74,75,71,69,72,76,73])\n"
   ]
  },
  {
   "cell_type": "markdown",
   "metadata": {},
   "source": [
    "901. Online Stock Span"
   ]
  },
  {
   "cell_type": "code",
   "execution_count": 76,
   "metadata": {},
   "outputs": [
    {
     "name": "stdout",
     "output_type": "stream",
     "text": [
      "1\n",
      "1\n",
      "1\n",
      "2\n",
      "1\n",
      "4\n",
      "6\n"
     ]
    }
   ],
   "source": [
    "''' \n",
    "Input\n",
    "[\"StockSpanner\", \"next\", \"next\", \"next\", \"next\", \"next\", \"next\", \"next\"]\n",
    "[[], [100], [80], [60], [70], [60], [75], [85]]\n",
    "Output\n",
    "[null, 1, 1, 1, 2, 1, 4, 6]\n",
    "\n",
    "Explanation\n",
    "StockSpanner stockSpanner = new StockSpanner();\n",
    "stockSpanner.next(100); // return 1\n",
    "stockSpanner.next(80);  // return 1\n",
    "stockSpanner.next(60);  // return 1\n",
    "stockSpanner.next(70);  // return 2\n",
    "stockSpanner.next(60);  // return 1\n",
    "stockSpanner.next(75);  // return 4, because the last 4 prices (including today's price of 75) were less than or equal to today's price.\n",
    "stockSpanner.next(85);  // return 6\n",
    "'''\n",
    "\n",
    "class StockSpanner:\n",
    "\n",
    "    def __init__(self):\n",
    "        # Stack stores pairs of (price, span)\n",
    "        # Span = number of consecutive days (including today) where price <= current price\n",
    "        self.stack = []\n",
    "\n",
    "    def next(self, price: int) -> int:\n",
    "        span = 1  # Minimum span is 1 (the current day)\n",
    "\n",
    "        # While the top of the stack has a price less than or equal to the current price,\n",
    "        # add its span to the current span and pop it.\n",
    "        while self.stack and self.stack[-1][0] <= price:\n",
    "            span += self.stack[-1][1]\n",
    "            self.stack.pop()\n",
    "\n",
    "        # Push the current price and its span onto the stack\n",
    "        self.stack.append((price, span))\n",
    "\n",
    "        # Return the span for this price\n",
    "        return span\n",
    "    \n",
    "stockSpanner = StockSpanner()\n",
    "print(stockSpanner.next(100)); \n",
    "print(stockSpanner.next(80)); \n",
    "print(stockSpanner.next(60)); \n",
    "print(stockSpanner.next(70)); \n",
    "print(stockSpanner.next(60)); \n",
    "print(stockSpanner.next(75))\n",
    "print(stockSpanner.next(85))\n"
   ]
  },
  {
   "cell_type": "markdown",
   "metadata": {},
   "source": [
    "456. 132 Pattern"
   ]
  },
  {
   "cell_type": "code",
   "execution_count": 86,
   "metadata": {},
   "outputs": [
    {
     "data": {
      "text/plain": [
       "True"
      ]
     },
     "execution_count": 86,
     "metadata": {},
     "output_type": "execute_result"
    }
   ],
   "source": [
    "''' \n",
    "Given an array of n integers nums, a 132 pattern is a subsequence of three integers nums[i], nums[j] and nums[k] such that i < j < k and nums[i] < nums[k] < nums[j].\n",
    "\n",
    "Return true if there is a 132 pattern in nums, otherwise, return false.\n",
    "\n",
    "Input: nums = [1,2,3,4]\n",
    "Output: false\n",
    "Explanation: There is no 132 pattern in the sequence.\n",
    "'''\n",
    "\n",
    "from typing import List\n",
    "\n",
    "class Solution:\n",
    "    def find132pattern(self, nums: List[int]) -> bool:\n",
    "        j = float('-inf')  # This will represent the \"2\" in the 132 pattern\n",
    "        stack = []         # Stack to keep track of potential \"3\" values (nums[k])\n",
    "\n",
    "        # Traverse the list in reverse (right to left)\n",
    "        for i in range(len(nums) - 1, -1, -1):\n",
    "            # If we find a number less than j, we found a 132 pattern\n",
    "            if nums[i] < j:\n",
    "                return True\n",
    "\n",
    "            # While the current number is greater than the stack top,\n",
    "            # pop from stack and update j to the last popped element.\n",
    "            # These popped elements are potential \"2\" values.\n",
    "            while stack and stack[-1] < nums[i]:\n",
    "                j = stack.pop()\n",
    "\n",
    "            # Push current number as a potential \"3\" for a future 132 pattern\n",
    "            stack.append(nums[i])\n",
    "\n",
    "        # If no 132 pattern found\n",
    "        return False\n",
    "\n",
    "    \n",
    "solution = Solution()\n",
    "solution.find132pattern([1, 3, 2])\n"
   ]
  },
  {
   "cell_type": "markdown",
   "metadata": {},
   "source": [
    "1944. Number of Visible People in a Queue"
   ]
  },
  {
   "cell_type": "code",
   "execution_count": 87,
   "metadata": {},
   "outputs": [
    {
     "data": {
      "text/plain": [
       "[3, 1, 2, 1, 1, 0]"
      ]
     },
     "execution_count": 87,
     "metadata": {},
     "output_type": "execute_result"
    }
   ],
   "source": [
    "''' \n",
    "Input: heights = [10,6,8,5,11,9]\n",
    "Output: [3,1,2,1,1,0]\n",
    "Explanation:\n",
    "Person 0 can see person 1, 2, and 4.\n",
    "Person 1 can see person 2.\n",
    "Person 2 can see person 3 and 4.\n",
    "Person 3 can see person 4.\n",
    "Person 4 can see person 5.\n",
    "Person 5 can see no one since nobody is to the right of them.\n",
    "'''\n",
    "\n",
    "class Solution:\n",
    "    def canSeePersonsCount(self, heights: List[int]) -> List[int]:\n",
    "         stack = []\n",
    "         res = [0] * len(heights)\n",
    "         for i in range(len(heights) - 1, -1, -1):\n",
    "            count = 0\n",
    "            while stack and stack[-1] < heights[i]:\n",
    "                count += 1\n",
    "                stack.pop()\n",
    "            if stack:\n",
    "                count += 1 \n",
    "            stack.append(heights[i])\n",
    "            res[i] = count \n",
    "         return res\n",
    "    \n",
    "solution = Solution()\n",
    "solution.canSeePersonsCount([10,6,8,5,11,9])"
   ]
  },
  {
   "cell_type": "markdown",
   "metadata": {},
   "source": [
    "84. Largest Rectangle in Histogram"
   ]
  },
  {
   "cell_type": "code",
   "execution_count": 92,
   "metadata": {},
   "outputs": [
    {
     "data": {
      "text/plain": [
       "10"
      ]
     },
     "execution_count": 92,
     "metadata": {},
     "output_type": "execute_result"
    }
   ],
   "source": [
    "''' \n",
    "Input: heights = [2,1,5,6,2,3]\n",
    "Output: 10\n",
    "Explanation: The above is a histogram where width of each bar is 1.\n",
    "The largest rectangle is shown in the red area, which has an area = 10 units.\n",
    "'''\n",
    "\n",
    "from typing import List\n",
    "\n",
    "class Solution:\n",
    "    def largestRectangleArea(self, heights: List[int]) -> int:\n",
    "        stack = []      # Stack to store (start_index, height)\n",
    "        max_area = 0    # Variable to track the maximum area found\n",
    "\n",
    "        # Traverse each bar in the histogram\n",
    "        for i, h in enumerate(heights):\n",
    "            start = i   # Default start index for current height\n",
    "\n",
    "            # While the stack is not empty and current height is less than the height on top of the stack\n",
    "            # It means the rectangle with the height on top of the stack ends here\n",
    "            while stack and stack[-1][1] > h:\n",
    "                index, height = stack.pop()\n",
    "                # Calculate area with popped height\n",
    "                max_area = max(max_area, height * (i - index))\n",
    "                # Update start index to the earliest index this height could extend to\n",
    "                start = index\n",
    "            \n",
    "            # Push current bar onto the stack\n",
    "            stack.append((start, h))\n",
    "\n",
    "        # Process any remaining bars in the stack\n",
    "        # These extend all the way to the end of the histogram\n",
    "        for i, h in stack:\n",
    "            max_area = max(max_area, h * (len(heights) - i))\n",
    "\n",
    "        return max_area\n",
    "\n",
    "\n",
    "solution = Solution()\n",
    "solution.largestRectangleArea([2,1,5,6,2,3])\n"
   ]
  },
  {
   "cell_type": "code",
   "execution_count": null,
   "metadata": {},
   "outputs": [],
   "source": []
  }
 ],
 "metadata": {
  "kernelspec": {
   "display_name": "Python 3",
   "language": "python",
   "name": "python3"
  },
  "language_info": {
   "codemirror_mode": {
    "name": "ipython",
    "version": 3
   },
   "file_extension": ".py",
   "mimetype": "text/x-python",
   "name": "python",
   "nbconvert_exporter": "python",
   "pygments_lexer": "ipython3",
   "version": "3.12.6"
  }
 },
 "nbformat": 4,
 "nbformat_minor": 2
}
