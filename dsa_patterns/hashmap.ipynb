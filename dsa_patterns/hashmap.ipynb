{
 "cells": [
  {
   "cell_type": "markdown",
   "metadata": {},
   "source": [
    "706. Design HashMap"
   ]
  },
  {
   "cell_type": "code",
   "execution_count": 5,
   "metadata": {},
   "outputs": [
    {
     "data": {
      "text/plain": [
       "'Dharani'"
      ]
     },
     "execution_count": 5,
     "metadata": {},
     "output_type": "execute_result"
    }
   ],
   "source": [
    "''' \n",
    "Input\n",
    "[\"MyHashMap\", \"put\", \"put\", \"get\", \"get\", \"put\", \"get\", \"remove\", \"get\"]\n",
    "[[], [1, 1], [2, 2], [1], [3], [2, 1], [2], [2], [2]]\n",
    "Output\n",
    "[null, null, null, 1, -1, null, 1, null, -1]\n",
    "\n",
    "'''\n",
    "\n",
    "class ListNode:\n",
    "    def __init__(self, key = -1, value = -1, next = None):\n",
    "        self.key = key\n",
    "        self.value = value \n",
    "        self.next = next \n",
    "\n",
    "class MyHashMap(object):\n",
    "\n",
    "    def __init__(self):\n",
    "        self.hash_map = [ListNode() for _ in range(1000)]\n",
    "    \n",
    "    def _hash(self, key):\n",
    "        return key % len(self.hash_map)\n",
    "\n",
    "    def put(self, key, value):\n",
    "        \"\"\"\n",
    "        :type key: int\n",
    "        :type value: int\n",
    "        :rtype: None\n",
    "        \"\"\"\n",
    "        cur = self.hash_map[self._hash(key)]\n",
    "        while cur.next:\n",
    "            if cur.next.key == key:\n",
    "                cur.next.value = value \n",
    "                return \n",
    "            cur = cur.next \n",
    "        cur.next = ListNode(key, value)\n",
    "        \n",
    "\n",
    "    def get(self, key):\n",
    "        \"\"\"\n",
    "        :type key: int\n",
    "        :rtype: int\n",
    "        \"\"\"\n",
    "        cur = self.hash_map[self._hash(key)].next\n",
    "        while cur:\n",
    "            if cur.key == key:\n",
    "                return cur.value \n",
    "            cur = cur.next \n",
    "        return -1 \n",
    "        \n",
    "        \n",
    "\n",
    "    def remove(self, key):\n",
    "        \"\"\"\n",
    "        :type key: int\n",
    "        :rtype: None\n",
    "        \"\"\"\n",
    "        cur = self.hash_map[self._hash(key)]\n",
    "        while cur and cur.next:\n",
    "            if cur.next.key == key:\n",
    "                cur.next = cur.next.next \n",
    "                return\n",
    "            cur = cur.next \n",
    "\n",
    "solution = MyHashMap()\n",
    "solution.put(1, 'Dharani')\n",
    "solution.put(2, 25)\n",
    "solution.remove(2)\n",
    "solution.get(1)"
   ]
  },
  {
   "cell_type": "markdown",
   "metadata": {},
   "source": [
    "1189. Maximum Number of Balloons"
   ]
  },
  {
   "cell_type": "code",
   "execution_count": 7,
   "metadata": {},
   "outputs": [
    {
     "data": {
      "text/plain": [
       "2"
      ]
     },
     "execution_count": 7,
     "metadata": {},
     "output_type": "execute_result"
    }
   ],
   "source": [
    "''' \n",
    "Input: text = \"loonbalxballpoon\"\n",
    "Output: 2\n",
    "'''\n",
    "\n",
    "from collections import Counter\n",
    "class Solution:\n",
    "    def maxNumberOfBalloons(self, text: str) -> int:\n",
    "        balloon = Counter('balloon')\n",
    "        text_counter = Counter(text)\n",
    "        res = len(text)\n",
    "        for char in 'balloon':\n",
    "            res = min(res, text_counter[char]//balloon[char])\n",
    "        return res \n",
    "    \n",
    "solution = Solution()\n",
    "solution.maxNumberOfBalloons('loonbalxballpoon')\n"
   ]
  },
  {
   "cell_type": "markdown",
   "metadata": {},
   "source": [
    "1512. Number of Good Pairs"
   ]
  },
  {
   "cell_type": "code",
   "execution_count": 10,
   "metadata": {},
   "outputs": [
    {
     "data": {
      "text/plain": [
       "6"
      ]
     },
     "execution_count": 10,
     "metadata": {},
     "output_type": "execute_result"
    }
   ],
   "source": [
    "''' \n",
    "Input: nums = [1,2,3,1,1,3]\n",
    "Output: 4\n",
    "Explanation: There are 4 good pairs (0,3), (0,4), (3,4), (2,5) 0-indexed.\n",
    "\n",
    "A pair (i, j) is called good if nums[i] == nums[j] and i < j.\n",
    "'''\n",
    "from typing import List \n",
    "\n",
    "class Solution:\n",
    "    def numIdenticalPairs(self, nums: List[int]) -> int:\n",
    "        hash_map = {}\n",
    "        res = 0\n",
    "        for num in nums:\n",
    "            if num in hash_map:\n",
    "                res += hash_map[num]\n",
    "                hash_map[num] += 1 \n",
    "            else:\n",
    "                hash_map[num] = 1\n",
    "        return res \n",
    "    \n",
    "solution = Solution()\n",
    "solution.numIdenticalPairs([1, 1, 1, 1])\n"
   ]
  },
  {
   "cell_type": "markdown",
   "metadata": {},
   "source": [
    "205. Isomorphic Strings"
   ]
  },
  {
   "cell_type": "code",
   "execution_count": 11,
   "metadata": {},
   "outputs": [
    {
     "data": {
      "text/plain": [
       "True"
      ]
     },
     "execution_count": 11,
     "metadata": {},
     "output_type": "execute_result"
    }
   ],
   "source": [
    "''' \n",
    "Input: s = \"egg\", t = \"add\"\n",
    "\n",
    "Output: true\n",
    "\n",
    "Two strings s and t are isomorphic if the characters in s can be replaced to get t.\n",
    "'''\n",
    "\n",
    "class Solution:\n",
    "    def isIsomorphic(self, s: str, t: str) -> bool:\n",
    "        map_s_t, map_t_s = {}, {}\n",
    "        for char_s, char_t in zip(s, t):\n",
    "            if char_t in map_s_t and map_s_t[char_t] != char_s:\n",
    "                return False \n",
    "            else:\n",
    "                map_s_t[char_t] = char_s \n",
    "\n",
    "            if char_s in map_t_s and map_t_s[char_s] != char_t:\n",
    "                return False \n",
    "            else:\n",
    "                map_t_s[char_s] = char_t \n",
    "        return True \n",
    "\n",
    "solution = Solution()\n",
    "solution.isIsomorphic(\"egg\", \"add\") "
   ]
  },
  {
   "cell_type": "markdown",
   "metadata": {},
   "source": [
    "383. Ransom Note"
   ]
  },
  {
   "cell_type": "code",
   "execution_count": 12,
   "metadata": {},
   "outputs": [
    {
     "data": {
      "text/plain": [
       "True"
      ]
     },
     "execution_count": 12,
     "metadata": {},
     "output_type": "execute_result"
    }
   ],
   "source": [
    "''' \n",
    "Input: ransomNote = \"aa\", magazine = \"aab\"\n",
    "Output: true\n",
    "\n",
    "Given two strings ransomNote and magazine, return true if ransomNote can be constructed by using the letters from magazine and false otherwise.\n",
    "\n",
    "Each letter in magazine can only be used once in ransomNote.\n",
    "'''\n",
    "\n",
    "class Solution:\n",
    "    def canConstruct(self, ransomNote: str, magazine: str) -> bool:\n",
    "        magazine_counter = Counter(magazine)\n",
    "        ransomNote_counter = Counter(ransomNote)\n",
    "\n",
    "        for key, value in ransomNote_counter.items():\n",
    "            if key in magazine_counter and magazine_counter[key] >= value:\n",
    "                continue \n",
    "            else:\n",
    "                return False \n",
    "        return True\n",
    "    \n",
    "solution = Solution()\n",
    "solution.canConstruct(\"aa\", \"aab\")"
   ]
  },
  {
   "cell_type": "markdown",
   "metadata": {},
   "source": [
    "219. Contains Duplicate II"
   ]
  },
  {
   "cell_type": "code",
   "execution_count": 36,
   "metadata": {},
   "outputs": [
    {
     "data": {
      "text/plain": [
       "True"
      ]
     },
     "execution_count": 36,
     "metadata": {},
     "output_type": "execute_result"
    }
   ],
   "source": [
    "''' \n",
    "Input: nums = [1,2,3,1], k = 3\n",
    "Output: true\n",
    "\n",
    "Given an integer array nums and an integer k, return true if there are two distinct indices i and j in the array such that nums[i] == nums[j] and abs(i - j) <= k.\n",
    "'''\n",
    "class Solution:\n",
    "    def containsNearbyDuplicate(self, nums: List[int], k: int) -> bool:\n",
    "        hash_map = {}\n",
    "        for i, num in enumerate(nums):\n",
    "            if num in hash_map and i - hash_map[num] >=k:\n",
    "                return True \n",
    "            else:\n",
    "                hash_map[num] = i \n",
    "        return False \n",
    "    \n",
    "solution = Solution()\n",
    "solution.containsNearbyDuplicate([1,2,3,1,2,3], 2)\n"
   ]
  },
  {
   "cell_type": "markdown",
   "metadata": {},
   "source": [
    "49. Group Anagrams"
   ]
  },
  {
   "cell_type": "code",
   "execution_count": 18,
   "metadata": {},
   "outputs": [
    {
     "data": {
      "text/plain": [
       "[['eat', 'tea', 'ate'], ['tan', 'nat'], ['bat']]"
      ]
     },
     "execution_count": 18,
     "metadata": {},
     "output_type": "execute_result"
    }
   ],
   "source": [
    "'''\n",
    "Input: strs = [\"eat\",\"tea\",\"tan\",\"ate\",\"nat\",\"bat\"]\n",
    "\n",
    "Output: [[\"bat\"],[\"nat\",\"tan\"],[\"ate\",\"eat\",\"tea\"]]\n",
    "'''\n",
    "\n",
    "class Solution:\n",
    "    def sort(self, string):\n",
    "        return \"\".join(sorted(string))\n",
    "    def groupAnagrams(self, strs):\n",
    "        hash_map = {}\n",
    "        for str in strs:\n",
    "            sorted_str = self.sort(str)\n",
    "            if sorted_str in hash_map:\n",
    "                hash_map[sorted_str].append(str)\n",
    "            else:\n",
    "                hash_map[sorted_str] = [str]\n",
    "        \n",
    "        return [value for value in hash_map.values()]\n",
    "    \n",
    "solution = Solution()\n",
    "solution.groupAnagrams([\"eat\",\"tea\",\"tan\",\"ate\",\"nat\",\"bat\"])"
   ]
  },
  {
   "cell_type": "markdown",
   "metadata": {},
   "source": [
    "535. Encode and Decode TinyURL"
   ]
  },
  {
   "cell_type": "code",
   "execution_count": 19,
   "metadata": {},
   "outputs": [],
   "source": [
    "class Codec:\n",
    "\n",
    "    def __init__(self):\n",
    "        self.encode_map = {}\n",
    "        self.decode_map = {}\n",
    "        self.base = 'http://tinyurl.com/'\n",
    "\n",
    "    def encode(self, longUrl: str) -> str:\n",
    "        \"\"\"Encodes a URL to a shortened URL.\n",
    "        \"\"\"\n",
    "        if longUrl not in self.encode_map:\n",
    "            tiny_url = self.base + str(len(self.encode_map) + 1)\n",
    "            self.encode_map[longUrl] = tiny_url\n",
    "            self.decode_map[tiny_url] = longUrl\n",
    "        return self.encode_map[longUrl]\n",
    "\n",
    "        \n",
    "\n",
    "    def decode(self, shortUrl: str) -> str:\n",
    "        \"\"\"Decodes a shortened URL to its original URL.\n",
    "        \"\"\"\n",
    "        return self.decode_map[shortUrl]\n",
    "\n",
    "# Your Codec object will be instantiated and called as such:\n",
    "# codec = Codec()\n",
    "# codec.decode(codec.encode(url))"
   ]
  },
  {
   "cell_type": "markdown",
   "metadata": {},
   "source": [
    "128. Longest Consecutive Sequence"
   ]
  },
  {
   "cell_type": "code",
   "execution_count": 23,
   "metadata": {},
   "outputs": [
    {
     "data": {
      "text/plain": [
       "4"
      ]
     },
     "execution_count": 23,
     "metadata": {},
     "output_type": "execute_result"
    }
   ],
   "source": [
    "''' \n",
    "Input: nums = [100,4,200,1,3,2]\n",
    "Output: 4\n",
    "Explanation: The longest consecutive elements sequence is [1, 2, 3, 4]. Therefore its length is 4.\n",
    "'''\n",
    "\n",
    "class Solution:\n",
    "    def longestConsecutive(self, nums: List[int]) -> int:\n",
    "        numSet = set(nums)\n",
    "        longest = 0 \n",
    "        for num in numSet:\n",
    "            if (num - 1) not in numSet:\n",
    "                length = 0\n",
    "                while (num + length) in numSet:\n",
    "                    length += 1 \n",
    "                longest = max(longest, length)\n",
    "        return longest \n",
    "    \n",
    "solution = Solution()\n",
    "solution.longestConsecutive([100, 4, 200, 1, 3, 2])"
   ]
  },
  {
   "cell_type": "markdown",
   "metadata": {},
   "source": [
    "767. Reorganize String"
   ]
  },
  {
   "cell_type": "code",
   "execution_count": 35,
   "metadata": {},
   "outputs": [
    {
     "name": "stdout",
     "output_type": "stream",
     "text": [
      "(-2, 'a') [(-1, 'b')]\n",
      "None [(-2, 'a')]\n",
      "(-1, 'a') []\n"
     ]
    },
    {
     "data": {
      "text/plain": [
       "''"
      ]
     },
     "execution_count": 35,
     "metadata": {},
     "output_type": "execute_result"
    }
   ],
   "source": [
    "''' \n",
    "Example 1:\n",
    "\n",
    "Input: s = \"aab\"\n",
    "Output: \"aba\"\n",
    "\n",
    "Example 2:\n",
    "\n",
    "Input: s = \"aaab\"\n",
    "Output: \"\"\n",
    "'''\n",
    "import heapq \n",
    "from collections import Counter\n",
    "\n",
    "class Solution:\n",
    "    def reorganizeString(self, s: str) -> str:\n",
    "        counter = Counter(s)\n",
    "        maxHeap = [(-cnt, char) for char , cnt in counter.items()]\n",
    "        heapq.heapify(maxHeap)\n",
    "        prev = None \n",
    "        res = \"\"\n",
    "        while maxHeap or prev:\n",
    "            while prev and not maxHeap:\n",
    "                return \"\"\n",
    "\n",
    "            cnt, char = heapq.heappop(maxHeap)\n",
    "            res += char \n",
    "            cnt += 1\n",
    "            if prev:\n",
    "                heapq.heappush(maxHeap, prev)\n",
    "                prev = None\n",
    "\n",
    "            if cnt != 0:\n",
    "                prev = (cnt, char)\n",
    "            print(prev, maxHeap)\n",
    "            \n",
    "        return res \n",
    "    \n",
    "solution = Solution()\n",
    "solution.reorganizeString(\"aaab\")\n",
    "\n"
   ]
  },
  {
   "cell_type": "code",
   "execution_count": null,
   "metadata": {},
   "outputs": [],
   "source": []
  },
  {
   "cell_type": "markdown",
   "metadata": {},
   "source": [
    "659. Split Array into Consecutive Subsequences"
   ]
  },
  {
   "cell_type": "code",
   "execution_count": null,
   "metadata": {},
   "outputs": [
    {
     "data": {
      "text/plain": [
       "''"
      ]
     },
     "execution_count": 39,
     "metadata": {},
     "output_type": "execute_result"
    }
   ],
   "source": [
    "''' \n",
    "Input: nums = [1,2,3,3,4,5]\n",
    "Output: true\n",
    "Explanation: nums can be split into the following subsequences:\n",
    "[1,2,3,3,4,5] --> 1, 2, 3\n",
    "[1,2,3,3,4,5] --> 3, 4, 5\n",
    "'''\n",
    "\n"
   ]
  },
  {
   "cell_type": "code",
   "execution_count": 58,
   "metadata": {},
   "outputs": [
    {
     "name": "stdout",
     "output_type": "stream",
     "text": [
      "defaultdict(<class 'list'>, {})\n"
     ]
    },
    {
     "data": {
      "text/plain": [
       "True"
      ]
     },
     "execution_count": 58,
     "metadata": {},
     "output_type": "execute_result"
    }
   ],
   "source": [
    "import heapq\n",
    "from collections import defaultdict\n",
    "\n",
    "class Solution:\n",
    "    def is_possible(self, nums):\n",
    "        subseq_map = defaultdict(list)\n",
    "        print(subseq_map)\n",
    "\n",
    "        for num in nums:\n",
    "            if subseq_map[num - 1]:\n",
    "                length = heapq.heappop(subseq_map[num - 1])\n",
    "                heapq.heappush(subseq_map[num], length + 1)\n",
    "            else:\n",
    "                heapq.heappush(subseq_map[num], 1)\n",
    "\n",
    "        for lengths in subseq_map.values():\n",
    "            if lengths and lengths[0] < 3:\n",
    "                return False\n",
    "\n",
    "        return True\n",
    "\n",
    "solution = Solution()\n",
    "solution.is_possible([1, 2, 3, 3, 4, 5])"
   ]
  },
  {
   "cell_type": "code",
   "execution_count": 63,
   "metadata": {},
   "outputs": [
    {
     "name": "stdout",
     "output_type": "stream",
     "text": [
      "defaultdict(<class 'list'>, {0: [], 1: [], 2: [], 3: [3], 4: [], 5: [3]})\n"
     ]
    },
    {
     "data": {
      "text/plain": [
       "True"
      ]
     },
     "execution_count": 63,
     "metadata": {},
     "output_type": "execute_result"
    }
   ],
   "source": [
    "class Solution:\n",
    "    def is_possible(self, nums):\n",
    "        subsequence_map = defaultdict(list)\n",
    "        for num in nums:\n",
    "            if subsequence_map[num - 1]:\n",
    "                length = heapq.heappop(subsequence_map[num - 1])\n",
    "                heapq.heappush(subsequence_map[num], length + 1)\n",
    "            else:\n",
    "                heapq.heappush(subsequence_map[num], 1)\n",
    "        print(subsequence_map)\n",
    "        for length in subsequence_map.values():\n",
    "            if length and length[0] < 3:\n",
    "                return False \n",
    "        return True \n",
    "    \n",
    "\n",
    "solution = Solution()\n",
    "solution.is_possible([1, 2, 3, 3, 4, 5])\n",
    "        "
   ]
  },
  {
   "cell_type": "markdown",
   "metadata": {},
   "source": []
  },
  {
   "cell_type": "code",
   "execution_count": 65,
   "metadata": {},
   "outputs": [
    {
     "data": {
      "text/plain": [
       "True"
      ]
     },
     "execution_count": 65,
     "metadata": {},
     "output_type": "execute_result"
    }
   ],
   "source": [
    "from collections import Counter\n",
    "class Solution:\n",
    "    def isPossible(self, nums):\n",
    "        freq = Counter(nums)\n",
    "        need = Counter()\n",
    "\n",
    "        for num in nums:\n",
    "            if freq[num] == 0:\n",
    "                continue\n",
    "            if need[num] > 0:\n",
    "                need[num] -= 1\n",
    "                need[num + 1] += 1\n",
    "\n",
    "            elif freq[num + 1] > 0 and freq[num + 2] > 0:\n",
    "                freq[num + 1] -= 1\n",
    "                freq[num + 2] -= 1 \n",
    "                need[num + 3] += 1\n",
    "            else:\n",
    "                return False \n",
    "            freq[num] -= 1\n",
    "        return True \n",
    "    \n",
    "solution = Solution()\n",
    "solution.isPossible([1, 2, 3, 3, 4, 5])"
   ]
  },
  {
   "cell_type": "code",
   "execution_count": null,
   "metadata": {},
   "outputs": [],
   "source": []
  }
 ],
 "metadata": {
  "kernelspec": {
   "display_name": "Python 3",
   "language": "python",
   "name": "python3"
  },
  "language_info": {
   "codemirror_mode": {
    "name": "ipython",
    "version": 3
   },
   "file_extension": ".py",
   "mimetype": "text/x-python",
   "name": "python",
   "nbconvert_exporter": "python",
   "pygments_lexer": "ipython3",
   "version": "3.12.6"
  }
 },
 "nbformat": 4,
 "nbformat_minor": 2
}
