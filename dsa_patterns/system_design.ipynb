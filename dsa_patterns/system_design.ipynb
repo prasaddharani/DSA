{
 "cells": [
  {
   "cell_type": "markdown",
   "id": "381406b2",
   "metadata": {},
   "source": [
    "146. LRU Cache"
   ]
  },
  {
   "cell_type": "code",
   "execution_count": null,
   "id": "f04124d9",
   "metadata": {},
   "outputs": [
    {
     "data": {
      "text/plain": [
       "'SMT'"
      ]
     },
     "execution_count": 2,
     "metadata": {},
     "output_type": "execute_result"
    }
   ],
   "source": [
    "'''\n",
    "Example 1:\n",
    "\n",
    "Input\n",
    "[\"LRUCache\", \"put\", \"put\", \"get\", \"put\", \"get\", \"put\", \"get\", \"get\", \"get\"]\n",
    "[[2], [1, 1], [2, 2], [1], [3, 3], [2], [4, 4], [1], [3], [4]]\n",
    "Output\n",
    "[null, null, null, 1, null, -1, null, -1, 3, 4]\n",
    "\n",
    "Explanation\n",
    "LRUCache lRUCache = new LRUCache(2);\n",
    "lRUCache.put(1, 1); // cache is {1=1}\n",
    "lRUCache.put(2, 2); // cache is {1=1, 2=2}\n",
    "lRUCache.get(1);    // return 1\n",
    "lRUCache.put(3, 3); // LRU key was 2, evicts key 2, cache is {1=1, 3=3}\n",
    "lRUCache.get(2);    // returns -1 (not found)\n",
    "lRUCache.put(4, 4); // LRU key was 1, evicts key 1, cache is {4=4, 3=3}\n",
    "lRUCache.get(1);    // return -1 (not found)\n",
    "lRUCache.get(3);    // return 3\n",
    "lRUCache.get(4);    // return 4\n",
    "'''\n",
    "class Node:\n",
    "    def __init__(self, key=0, value=0):\n",
    "        self.key = key\n",
    "        self.value = value\n",
    "        self.prev = None\n",
    "        self.next = None\n",
    "\n",
    "class LRUCache:\n",
    "    def __init__(self, capacity: int):\n",
    "        self.capacity = capacity\n",
    "        self.cache = {}  # Stores key -> Node reference\n",
    "        self.head = Node()  # Dummy head\n",
    "        self.tail = Node()  # Dummy tail\n",
    "        self.head.next = self.tail  # Initialize doubly linked list\n",
    "        self.tail.prev = self.head  \n",
    "\n",
    "    def _remove(self, node):\n",
    "        \"\"\"Removes a node from the linked list.\"\"\"\n",
    "        prev_node, next_node = node.prev, node.next\n",
    "        prev_node.next, next_node.prev = next_node, prev_node\n",
    "\n",
    "    def _add_to_front(self, node):\n",
    "        \"\"\"Adds a node right after the head (Most Recently Used position).\"\"\"\n",
    "        node.next, node.prev = self.head.next, self.head\n",
    "        self.head.next.prev = node\n",
    "        self.head.next = node\n",
    "\n",
    "    def get(self, key: int) -> int:\n",
    "        if key in self.cache:\n",
    "            node = self.cache[key]\n",
    "            self._remove(node)  # Remove from current position\n",
    "            self._add_to_front(node)  # Move to front (MRU)\n",
    "            return node.value\n",
    "        return -1\n",
    "\n",
    "    def put(self, key: int, value: int) -> None:\n",
    "        if key in self.cache:\n",
    "            node = self.cache[key]\n",
    "            node.value = value  # Just update the value\n",
    "            self._remove(node)\n",
    "            self._add_to_front(node)\n",
    "        else:\n",
    "            node = Node(key, value)\n",
    "            self.cache[key] = node\n",
    "            self._add_to_front(node)\n",
    "\n",
    "            if len(self.cache) > self.capacity:\n",
    "                lru_node = self.tail.prev\n",
    "                self._remove(lru_node)\n",
    "                del self.cache[lru_node.key] # <--- Here's why we need the key in the node\n",
    "\n",
    "        \n",
    "\n",
    "\n",
    "# Your LRUCache object will be instantiated and called as such:\n",
    "obj = LRUCache(3)\n",
    "obj.put('Name', 'Dharani')\n",
    "obj.put('Age', '25')\n",
    "obj.put('profession', 'IT')\n",
    "obj.put('profession', 'SMT')\n",
    "obj.get('profession')"
   ]
  },
  {
   "cell_type": "code",
   "execution_count": null,
   "id": "8432faa6",
   "metadata": {},
   "outputs": [],
   "source": []
  }
 ],
 "metadata": {
  "kernelspec": {
   "display_name": "Python 3",
   "language": "python",
   "name": "python3"
  },
  "language_info": {
   "codemirror_mode": {
    "name": "ipython",
    "version": 3
   },
   "file_extension": ".py",
   "mimetype": "text/x-python",
   "name": "python",
   "nbconvert_exporter": "python",
   "pygments_lexer": "ipython3",
   "version": "3.12.6"
  }
 },
 "nbformat": 4,
 "nbformat_minor": 5
}
