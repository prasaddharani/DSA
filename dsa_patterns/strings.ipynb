{
 "cells": [
  {
   "cell_type": "markdown",
   "id": "01ea97d2",
   "metadata": {},
   "source": [
    "392. Is Subsequence"
   ]
  },
  {
   "cell_type": "code",
   "execution_count": 1,
   "id": "38e13884",
   "metadata": {},
   "outputs": [
    {
     "data": {
      "text/plain": [
       "True"
      ]
     },
     "execution_count": 1,
     "metadata": {},
     "output_type": "execute_result"
    }
   ],
   "source": [
    "''' \n",
    "Input: s = \"abc\", t = \"ahbgdc\"\n",
    "Output: true\n",
    "'''\n",
    "\n",
    "class Solution:\n",
    "    def isSubSequence(self, s, t):\n",
    "        if len(s) > len(t):\n",
    "            return False \n",
    "        \n",
    "        if s == '':\n",
    "            return True \n",
    "        \n",
    "        left = 0\n",
    "        for char in t:\n",
    "            if s[left] == char:\n",
    "                left += 1 \n",
    "            \n",
    "            if left == len(s):\n",
    "                return True \n",
    "        return False \n",
    "    \n",
    "\n",
    "solution = Solution()\n",
    "solution.isSubSequence(\"abc\", \"ahbgdc\")\n"
   ]
  },
  {
   "cell_type": "markdown",
   "id": "7088bb62",
   "metadata": {},
   "source": [
    "125. Valid Palindrome"
   ]
  },
  {
   "cell_type": "code",
   "execution_count": null,
   "id": "73e891a5",
   "metadata": {},
   "outputs": [],
   "source": [
    "''' \n",
    "Input: s = \"A man, a plan, a canal: Panama\"\n",
    "Output: true\n",
    "Explanation: \"amanaplanacanalpanama\" is a palindrome.\n",
    "'''\n",
    "\n",
    "class Solution:\n",
    "    def isPalindrome(self, s):\n",
    "        i, j = 0, len(s) - 1\n",
    "        while i < j:\n",
    "            while not s[i].isalnum():\n",
    "                i += 1 \n",
    "            while not s[j].isalnum():\n",
    "                j -= 1 \n",
    "            if s[i].upper() != s[j].upper():\n",
    "                return False  \n",
    "            i += 1\n",
    "            j -= 1\n",
    "        return True \n",
    "    \n",
    "solution = Solution()\n",
    "solution.isPalindrome(\"A man, a plan, a canal: Panama\")"
   ]
  },
  {
   "cell_type": "markdown",
   "id": "d1c096d7",
   "metadata": {},
   "source": [
    "151. Reverse Words in a String"
   ]
  },
  {
   "cell_type": "code",
   "execution_count": null,
   "id": "67b45794",
   "metadata": {},
   "outputs": [],
   "source": [
    "''' \n",
    "Input: s = \"the sky is blue\"\n",
    "Output: \"blue is sky the\"\n",
    "'''\n",
    "\n",
    "class Solution:\n",
    "    def reverseWords(self, s):\n",
    "        words = s.split()\n",
    "        res = []\n",
    "        for i in range(len(words) - 1, -1 , -1):\n",
    "            res.append(words[i])\n",
    "        return \" \".join(res)\n",
    "    \n",
    "solution = Solution()\n",
    "solution.reverseWords(\"the sky is blue\")"
   ]
  },
  {
   "cell_type": "markdown",
   "id": "a6c8b282",
   "metadata": {},
   "source": [
    "14. Longest Common Prefix"
   ]
  },
  {
   "cell_type": "code",
   "execution_count": null,
   "id": "7fe92403",
   "metadata": {},
   "outputs": [],
   "source": [
    "''' \n",
    "Example 1:\n",
    "\n",
    "Input: strs = [\"flower\",\"flow\",\"flight\"]\n",
    "Output: \"fl\"\n",
    "Example 2:\n",
    "\n",
    "Input: strs = [\"dog\",\"racecar\",\"car\"]\n",
    "Output: \"\"\n",
    "Explanation: There is no common prefix among the input strings.\n",
    "'''\n",
    "\n",
    "class Solution:\n",
    "    def longestCommonPrefix(self, strs: List[str]) -> str:\n",
    "        sorted_str = sorted(strs)\n",
    "        min_len = len(min(sorted_str[0], sorted_str[-1]))\n",
    "        res = \"\"\n",
    "        for i in range(min_len):\n",
    "            if sorted_str[0][i] == sorted_str[-1][i]:\n",
    "                res += sorted_str[0][i]\n",
    "            else:\n",
    "                return res \n",
    "        return res\n",
    "    \n",
    "solution = Solution()\n",
    "solution.longestCommonPrefix([\"dog\",\"racecar\",\"car\"])\n",
    "            "
   ]
  },
  {
   "cell_type": "markdown",
   "id": "2322e382",
   "metadata": {},
   "source": [
    "6. Zigzag Conversion"
   ]
  },
  {
   "cell_type": "code",
   "execution_count": null,
   "id": "22e6098e",
   "metadata": {},
   "outputs": [],
   "source": [
    "''' \n",
    "Input: s = \"PAYPALISHIRING\", numRows = 3\n",
    "Output: \"PAHNAPLSIIGYIR\"\n",
    "'''\n",
    "\n",
    "'''\n",
    "Index:   0 1 2 3 4 5 6 7 8 9 10 11 12 13\n",
    "Char:    P A Y P A L I S H I  R  I  N  G\n",
    "\n",
    "Row 0:   P   A   H   N\n",
    "Row 1:   A P L S I I G\n",
    "Row 2:   Y   I   R\n",
    "\n",
    "'''\n",
    "\n",
    "class Solution:\n",
    "    def convert(self, s: str, numRows: int) -> str:\n",
    "        if numRows == 1 or numRows >= len(s):\n",
    "            return s \n",
    "        rows = [\"\"] * numRows \n",
    "        step, row = 0, 0 \n",
    "        for char in s:\n",
    "            rows[row] += char \n",
    "            if row == 0:\n",
    "                step = 1 \n",
    "            elif row == numRows - 1:\n",
    "                step = - 1 \n",
    "            \n",
    "            row += step \n",
    "        return \"\".join(rows)\n",
    "    \n",
    "solution = Solution()\n",
    "solution.convert('PAYPALISHIRING', 3)"
   ]
  }
 ],
 "metadata": {
  "kernelspec": {
   "display_name": "Python 3",
   "language": "python",
   "name": "python3"
  },
  "language_info": {
   "codemirror_mode": {
    "name": "ipython",
    "version": 3
   },
   "file_extension": ".py",
   "mimetype": "text/x-python",
   "name": "python",
   "nbconvert_exporter": "python",
   "pygments_lexer": "ipython3",
   "version": "3.12.6"
  }
 },
 "nbformat": 4,
 "nbformat_minor": 5
}
