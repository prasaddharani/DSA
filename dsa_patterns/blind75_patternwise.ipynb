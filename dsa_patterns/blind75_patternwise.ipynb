{
 "cells": [
  {
   "cell_type": "markdown",
   "id": "49952ad7",
   "metadata": {},
   "source": [
    "## Arrays"
   ]
  },
  {
   "cell_type": "markdown",
   "id": "7819ddc7",
   "metadata": {},
   "source": [
    "169. Majority Element"
   ]
  },
  {
   "cell_type": "code",
   "execution_count": 4,
   "id": "b39b8f54",
   "metadata": {},
   "outputs": [
    {
     "data": {
      "text/plain": [
       "2"
      ]
     },
     "execution_count": 4,
     "metadata": {},
     "output_type": "execute_result"
    }
   ],
   "source": [
    "''' \n",
    "Example 1:\n",
    "\n",
    "Input: nums = [3,2,3]\n",
    "Output: 3\n",
    "Example 2:\n",
    "\n",
    "Input: nums = [2,2,1,1,1,2,2]\n",
    "Output: 2\n",
    "'''\n",
    "from typing import List\n",
    "\n",
    "class Solution:\n",
    "    def majorityElement(self, nums: List[int]) -> int:\n",
    "        hash_map = {}\n",
    "        for num in nums:\n",
    "            hash_map[num] = hash_map.get(num, 0) + 1\n",
    "        m = len(nums) // 2\n",
    "        for key, value in hash_map.items():\n",
    "            if value > m:\n",
    "                return key \n",
    "        return -1\n",
    "\n",
    "solution = Solution()\n",
    "solution.majorityElement([2,2,1,1,1,2,2])"
   ]
  },
  {
   "cell_type": "markdown",
   "id": "e28354bd",
   "metadata": {},
   "source": [
    "238. Product of Array Except Self"
   ]
  },
  {
   "cell_type": "code",
   "execution_count": 11,
   "id": "48f4703c",
   "metadata": {},
   "outputs": [
    {
     "data": {
      "text/plain": [
       "[24, 12, 8, 6]"
      ]
     },
     "execution_count": 11,
     "metadata": {},
     "output_type": "execute_result"
    }
   ],
   "source": [
    "''' \n",
    "Input: nums = [1,2,3,4]\n",
    "Output: [24,12,8,6]\n",
    "'''\n",
    "\n",
    "class Solution:\n",
    "    def productOfArrayExceptSelf(self, nums):\n",
    "        n = len(nums)\n",
    "        res = [0] * n \n",
    "        res[0] = 1 \n",
    "\n",
    "        for i in range(1, n):\n",
    "            res[i] = res[i - 1] * nums[i - 1]\n",
    "\n",
    "        #print(res)\n",
    "        \n",
    "        prod = 1 \n",
    "\n",
    "        for i in range(n - 2, -1, -1):\n",
    "            prod *= nums[i + 1]\n",
    "            res[i] *= prod\n",
    "        return res \n",
    "\n",
    "solution = Solution()\n",
    "solution.productOfArrayExceptSelf([1, 2, 3, 4])    "
   ]
  },
  {
   "cell_type": "markdown",
   "id": "6566cb89",
   "metadata": {},
   "source": [
    "41. First Missing Positive"
   ]
  },
  {
   "cell_type": "code",
   "execution_count": 24,
   "id": "c3a0d9a5",
   "metadata": {},
   "outputs": [
    {
     "name": "stdout",
     "output_type": "stream",
     "text": [
      "[-1, -2, 0]\n"
     ]
    },
    {
     "data": {
      "text/plain": [
       "3"
      ]
     },
     "execution_count": 24,
     "metadata": {},
     "output_type": "execute_result"
    }
   ],
   "source": [
    "''' \n",
    "Input: nums = [1,2,0]\n",
    "Output: 3\n",
    "Explanation: The numbers in the range [1,2] are all in the array.\n",
    "'''\n",
    "from typing import List \n",
    "\n",
    "class Solution:\n",
    "    def firstMissingPositive(self, nums: List[int]) -> int:\n",
    "        n = len(nums)\n",
    "        if n == 0:\n",
    "            return 1 \n",
    "        \n",
    "        for i in range(n):\n",
    "            if nums[i] < 0:\n",
    "                nums[i] = 0 \n",
    "        \n",
    "        for i in range(n):\n",
    "            val = abs(nums[i])\n",
    "\n",
    "            if 1 <= val <= n:\n",
    "                if nums[val - 1] == 0:\n",
    "                    nums[val - 1] = -1 * (n + 1)\n",
    "                elif nums[val - 1] > 0:\n",
    "                    nums[val - 1] *= -1  \n",
    "        print(nums)\n",
    "        for i in range(1, n + 1):\n",
    "            if nums[i - 1] >= 0:\n",
    "                return i \n",
    "        return (n + 1)\n",
    "    \n",
    "solution = Solution()\n",
    "solution.firstMissingPositive([1, 2, 0])"
   ]
  },
  {
   "cell_type": "code",
   "execution_count": null,
   "id": "ce5bd4df",
   "metadata": {},
   "outputs": [],
   "source": []
  },
  {
   "cell_type": "markdown",
   "id": "921d934f",
   "metadata": {},
   "source": [
    "# Strings"
   ]
  },
  {
   "cell_type": "markdown",
   "id": "e2540d79",
   "metadata": {},
   "source": [
    "392. Is Subsequence"
   ]
  },
  {
   "cell_type": "code",
   "execution_count": 29,
   "id": "a0980983",
   "metadata": {},
   "outputs": [
    {
     "data": {
      "text/plain": [
       "True"
      ]
     },
     "execution_count": 29,
     "metadata": {},
     "output_type": "execute_result"
    }
   ],
   "source": [
    "''' \n",
    "Input: s = \"abc\", t = \"ahbgdc\"\n",
    "Output: true\n",
    "'''\n",
    "\n",
    "class Solution:\n",
    "    def isSubSequence(self, s, t):\n",
    "        if len(s) > len(t):\n",
    "            return False \n",
    "        \n",
    "        if len(s) == 0:\n",
    "            return True \n",
    "        \n",
    "        left = 0 \n",
    "        for c in t:\n",
    "            if s[left] == c:\n",
    "                left += 1\n",
    "            if left == len(s):\n",
    "                return True \n",
    "        return False \n",
    "    \n",
    "solution = Solution()\n",
    "solution.isSubSequence(s = \"abc\", t = \"ahbgdc\")"
   ]
  },
  {
   "cell_type": "markdown",
   "id": "17fa0380",
   "metadata": {},
   "source": [
    "151. Reverse Words in a String"
   ]
  },
  {
   "cell_type": "code",
   "execution_count": 30,
   "id": "2913d735",
   "metadata": {},
   "outputs": [
    {
     "data": {
      "text/plain": [
       "'blue is sky the'"
      ]
     },
     "execution_count": 30,
     "metadata": {},
     "output_type": "execute_result"
    }
   ],
   "source": [
    "''' \n",
    "Input: s = \"the sky is blue\"\n",
    "Output: \"blue is sky the\"\n",
    "'''\n",
    "\n",
    "class Solution:\n",
    "    def reverseWords(self, s):\n",
    "        s_list = s.split(\" \")\n",
    "        res = []\n",
    "        for i in range(len(s_list) - 1, -1, -1):\n",
    "            res.append(s_list[i])\n",
    "        return \" \".join(res)\n",
    "    \n",
    "solution = Solution()\n",
    "solution.reverseWords(\"the sky is blue\")"
   ]
  },
  {
   "cell_type": "code",
   "execution_count": null,
   "id": "c829d5d4",
   "metadata": {},
   "outputs": [],
   "source": []
  },
  {
   "cell_type": "markdown",
   "id": "f073c387",
   "metadata": {},
   "source": [
    "# Hash Table"
   ]
  },
  {
   "cell_type": "markdown",
   "id": "b2e9d004",
   "metadata": {},
   "source": [
    "49. Group Anagrams"
   ]
  },
  {
   "cell_type": "code",
   "execution_count": 37,
   "id": "c4c5690b",
   "metadata": {},
   "outputs": [
    {
     "data": {
      "text/plain": [
       "[['eat', 'tea', 'ate'], ['tan', 'nat'], ['bat']]"
      ]
     },
     "execution_count": 37,
     "metadata": {},
     "output_type": "execute_result"
    }
   ],
   "source": [
    "'''\n",
    "Input: strs = [\"eat\",\"tea\",\"tan\",\"ate\",\"nat\",\"bat\"]\n",
    "\n",
    "Output: [[\"bat\"],[\"nat\",\"tan\"],[\"ate\",\"eat\",\"tea\"]]\n",
    "'''\n",
    "\n",
    "class Solution:\n",
    "    def sorted(self, str):\n",
    "        return \"\".join(sorted(str))\n",
    "    \n",
    "    def groupAnagrams(self, strs):\n",
    "        hash_map = {}\n",
    "        for str in strs:\n",
    "            sorted_str = self.sorted(str)\n",
    "            if sorted_str in hash_map:\n",
    "                hash_map.get(sorted_str).append(str)\n",
    "            else:\n",
    "                hash_map[sorted_str] = [str]\n",
    "        return [value for value in hash_map.values()]\n",
    "    \n",
    "solution = Solution()\n",
    "solution.groupAnagrams([\"eat\",\"tea\",\"tan\",\"ate\",\"nat\",\"bat\"])"
   ]
  },
  {
   "cell_type": "markdown",
   "id": "08a7ff4a",
   "metadata": {},
   "source": [
    "128. Longest Consecutive Sequence"
   ]
  },
  {
   "cell_type": "code",
   "execution_count": 42,
   "id": "073f5c05",
   "metadata": {},
   "outputs": [
    {
     "data": {
      "text/plain": [
       "4"
      ]
     },
     "execution_count": 42,
     "metadata": {},
     "output_type": "execute_result"
    }
   ],
   "source": [
    "''' \n",
    "Input: nums = [100,4,200,1,3,2]\n",
    "Output: 4\n",
    "Explanation: The longest consecutive elements sequence is [1, 2, 3, 4]. Therefore its length is 4.\n",
    "'''\n",
    "\n",
    "class Solution:\n",
    "    def longestConsecutive(self, nums: List[int]) -> int:\n",
    "        num_set = set(nums)\n",
    "        max_length = 0\n",
    "        for num in nums:\n",
    "            if (num - 1) not in num_set:\n",
    "                length = 1\n",
    "                while (num + length) in num_set:\n",
    "                    length += 1\n",
    "                max_length = max(max_length, length)\n",
    "        return max_length\n",
    "    \n",
    "solution = Solution()\n",
    "solution.longestConsecutive([100,4,200,1,3,2])"
   ]
  },
  {
   "cell_type": "code",
   "execution_count": null,
   "id": "85608697",
   "metadata": {},
   "outputs": [],
   "source": []
  }
 ],
 "metadata": {
  "kernelspec": {
   "display_name": "Python 3",
   "language": "python",
   "name": "python3"
  },
  "language_info": {
   "codemirror_mode": {
    "name": "ipython",
    "version": 3
   },
   "file_extension": ".py",
   "mimetype": "text/x-python",
   "name": "python",
   "nbconvert_exporter": "python",
   "pygments_lexer": "ipython3",
   "version": "3.12.6"
  }
 },
 "nbformat": 4,
 "nbformat_minor": 5
}
