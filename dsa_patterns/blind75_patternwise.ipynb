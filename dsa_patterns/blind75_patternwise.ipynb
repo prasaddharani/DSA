{
 "cells": [
  {
   "cell_type": "markdown",
   "id": "49952ad7",
   "metadata": {},
   "source": [
    "## Arrays"
   ]
  },
  {
   "cell_type": "markdown",
   "id": "7819ddc7",
   "metadata": {},
   "source": [
    "169. Majority Element"
   ]
  },
  {
   "cell_type": "code",
   "execution_count": 4,
   "id": "b39b8f54",
   "metadata": {},
   "outputs": [
    {
     "data": {
      "text/plain": [
       "2"
      ]
     },
     "execution_count": 4,
     "metadata": {},
     "output_type": "execute_result"
    }
   ],
   "source": [
    "''' \n",
    "Example 1:\n",
    "\n",
    "Input: nums = [3,2,3]\n",
    "Output: 3\n",
    "Example 2:\n",
    "\n",
    "Input: nums = [2,2,1,1,1,2,2]\n",
    "Output: 2\n",
    "'''\n",
    "from typing import List\n",
    "\n",
    "class Solution:\n",
    "    def majorityElement(self, nums: List[int]) -> int:\n",
    "        hash_map = {}\n",
    "        for num in nums:\n",
    "            hash_map[num] = hash_map.get(num, 0) + 1\n",
    "        m = len(nums) // 2\n",
    "        for key, value in hash_map.items():\n",
    "            if value > m:\n",
    "                return key \n",
    "        return -1\n",
    "\n",
    "solution = Solution()\n",
    "solution.majorityElement([2,2,1,1,1,2,2])"
   ]
  },
  {
   "cell_type": "markdown",
   "id": "e28354bd",
   "metadata": {},
   "source": [
    "238. Product of Array Except Self"
   ]
  },
  {
   "cell_type": "code",
   "execution_count": 11,
   "id": "48f4703c",
   "metadata": {},
   "outputs": [
    {
     "data": {
      "text/plain": [
       "[24, 12, 8, 6]"
      ]
     },
     "execution_count": 11,
     "metadata": {},
     "output_type": "execute_result"
    }
   ],
   "source": [
    "''' \n",
    "Input: nums = [1,2,3,4]\n",
    "Output: [24,12,8,6]\n",
    "'''\n",
    "\n",
    "class Solution:\n",
    "    def productOfArrayExceptSelf(self, nums):\n",
    "        n = len(nums)\n",
    "        res = [0] * n \n",
    "        res[0] = 1 \n",
    "\n",
    "        for i in range(1, n):\n",
    "            res[i] = res[i - 1] * nums[i - 1]\n",
    "\n",
    "        #print(res)\n",
    "        \n",
    "        prod = 1 \n",
    "\n",
    "        for i in range(n - 2, -1, -1):\n",
    "            prod *= nums[i + 1]\n",
    "            res[i] *= prod\n",
    "        return res \n",
    "\n",
    "solution = Solution()\n",
    "solution.productOfArrayExceptSelf([1, 2, 3, 4])    "
   ]
  },
  {
   "cell_type": "markdown",
   "id": "6566cb89",
   "metadata": {},
   "source": [
    "41. First Missing Positive"
   ]
  },
  {
   "cell_type": "code",
   "execution_count": 24,
   "id": "c3a0d9a5",
   "metadata": {},
   "outputs": [
    {
     "name": "stdout",
     "output_type": "stream",
     "text": [
      "[-1, -2, 0]\n"
     ]
    },
    {
     "data": {
      "text/plain": [
       "3"
      ]
     },
     "execution_count": 24,
     "metadata": {},
     "output_type": "execute_result"
    }
   ],
   "source": [
    "''' \n",
    "Input: nums = [1,2,0]\n",
    "Output: 3\n",
    "Explanation: The numbers in the range [1,2] are all in the array.\n",
    "'''\n",
    "from typing import List \n",
    "\n",
    "class Solution:\n",
    "    def firstMissingPositive(self, nums: List[int]) -> int:\n",
    "        n = len(nums)\n",
    "        if n == 0:\n",
    "            return 1 \n",
    "        \n",
    "        for i in range(n):\n",
    "            if nums[i] < 0:\n",
    "                nums[i] = 0 \n",
    "        \n",
    "        for i in range(n):\n",
    "            val = abs(nums[i])\n",
    "\n",
    "            if 1 <= val <= n:\n",
    "                if nums[val - 1] == 0:\n",
    "                    nums[val - 1] = -1 * (n + 1)\n",
    "                elif nums[val - 1] > 0:\n",
    "                    nums[val - 1] *= -1  \n",
    "        print(nums)\n",
    "        for i in range(1, n + 1):\n",
    "            if nums[i - 1] >= 0:\n",
    "                return i \n",
    "        return (n + 1)\n",
    "    \n",
    "solution = Solution()\n",
    "solution.firstMissingPositive([1, 2, 0])"
   ]
  },
  {
   "cell_type": "code",
   "execution_count": null,
   "id": "a0980983",
   "metadata": {},
   "outputs": [],
   "source": []
  },
  {
   "cell_type": "code",
   "execution_count": null,
   "id": "2913d735",
   "metadata": {},
   "outputs": [],
   "source": []
  }
 ],
 "metadata": {
  "kernelspec": {
   "display_name": "Python 3",
   "language": "python",
   "name": "python3"
  },
  "language_info": {
   "codemirror_mode": {
    "name": "ipython",
    "version": 3
   },
   "file_extension": ".py",
   "mimetype": "text/x-python",
   "name": "python",
   "nbconvert_exporter": "python",
   "pygments_lexer": "ipython3",
   "version": "3.12.6"
  }
 },
 "nbformat": 4,
 "nbformat_minor": 5
}
