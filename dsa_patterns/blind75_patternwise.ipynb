{
 "cells": [
  {
   "cell_type": "markdown",
   "id": "49952ad7",
   "metadata": {},
   "source": [
    "## Arrays"
   ]
  },
  {
   "cell_type": "markdown",
   "id": "7819ddc7",
   "metadata": {},
   "source": [
    "169. Majority Element"
   ]
  },
  {
   "cell_type": "code",
   "execution_count": 4,
   "id": "b39b8f54",
   "metadata": {},
   "outputs": [
    {
     "data": {
      "text/plain": [
       "2"
      ]
     },
     "execution_count": 4,
     "metadata": {},
     "output_type": "execute_result"
    }
   ],
   "source": [
    "''' \n",
    "Example 1:\n",
    "\n",
    "Input: nums = [3,2,3]\n",
    "Output: 3\n",
    "Example 2:\n",
    "\n",
    "Input: nums = [2,2,1,1,1,2,2]\n",
    "Output: 2\n",
    "'''\n",
    "from typing import List\n",
    "\n",
    "class Solution:\n",
    "    def majorityElement(self, nums: List[int]) -> int:\n",
    "        hash_map = {}\n",
    "        for num in nums:\n",
    "            hash_map[num] = hash_map.get(num, 0) + 1\n",
    "        m = len(nums) // 2\n",
    "        for key, value in hash_map.items():\n",
    "            if value > m:\n",
    "                return key \n",
    "        return -1\n",
    "\n",
    "solution = Solution()\n",
    "solution.majorityElement([2,2,1,1,1,2,2])"
   ]
  },
  {
   "cell_type": "markdown",
   "id": "e28354bd",
   "metadata": {},
   "source": [
    "238. Product of Array Except Self"
   ]
  },
  {
   "cell_type": "code",
   "execution_count": 11,
   "id": "48f4703c",
   "metadata": {},
   "outputs": [
    {
     "data": {
      "text/plain": [
       "[24, 12, 8, 6]"
      ]
     },
     "execution_count": 11,
     "metadata": {},
     "output_type": "execute_result"
    }
   ],
   "source": [
    "''' \n",
    "Input: nums = [1,2,3,4]\n",
    "Output: [24,12,8,6]\n",
    "'''\n",
    "\n",
    "class Solution:\n",
    "    def productOfArrayExceptSelf(self, nums):\n",
    "        n = len(nums)\n",
    "        res = [0] * n \n",
    "        res[0] = 1 \n",
    "\n",
    "        for i in range(1, n):\n",
    "            res[i] = res[i - 1] * nums[i - 1]\n",
    "\n",
    "        #print(res)\n",
    "        \n",
    "        prod = 1 \n",
    "\n",
    "        for i in range(n - 2, -1, -1):\n",
    "            prod *= nums[i + 1]\n",
    "            res[i] *= prod\n",
    "        return res \n",
    "\n",
    "solution = Solution()\n",
    "solution.productOfArrayExceptSelf([1, 2, 3, 4])    "
   ]
  },
  {
   "cell_type": "markdown",
   "id": "6566cb89",
   "metadata": {},
   "source": [
    "41. First Missing Positive"
   ]
  },
  {
   "cell_type": "code",
   "execution_count": 24,
   "id": "c3a0d9a5",
   "metadata": {},
   "outputs": [
    {
     "name": "stdout",
     "output_type": "stream",
     "text": [
      "[-1, -2, 0]\n"
     ]
    },
    {
     "data": {
      "text/plain": [
       "3"
      ]
     },
     "execution_count": 24,
     "metadata": {},
     "output_type": "execute_result"
    }
   ],
   "source": [
    "''' \n",
    "Input: nums = [1,2,0]\n",
    "Output: 3\n",
    "Explanation: The numbers in the range [1,2] are all in the array.\n",
    "'''\n",
    "from typing import List \n",
    "\n",
    "class Solution:\n",
    "    def firstMissingPositive(self, nums: List[int]) -> int:\n",
    "        n = len(nums)\n",
    "        if n == 0:\n",
    "            return 1 \n",
    "        \n",
    "        for i in range(n):\n",
    "            if nums[i] < 0:\n",
    "                nums[i] = 0 \n",
    "        \n",
    "        for i in range(n):\n",
    "            val = abs(nums[i])\n",
    "\n",
    "            if 1 <= val <= n:\n",
    "                if nums[val - 1] == 0:\n",
    "                    nums[val - 1] = -1 * (n + 1)\n",
    "                elif nums[val - 1] > 0:\n",
    "                    nums[val - 1] *= -1  \n",
    "        print(nums)\n",
    "        for i in range(1, n + 1):\n",
    "            if nums[i - 1] >= 0:\n",
    "                return i \n",
    "        return (n + 1)\n",
    "    \n",
    "solution = Solution()\n",
    "solution.firstMissingPositive([1, 2, 0])"
   ]
  },
  {
   "cell_type": "code",
   "execution_count": null,
   "id": "ce5bd4df",
   "metadata": {},
   "outputs": [],
   "source": []
  },
  {
   "cell_type": "markdown",
   "id": "921d934f",
   "metadata": {},
   "source": [
    "# Strings"
   ]
  },
  {
   "cell_type": "markdown",
   "id": "e2540d79",
   "metadata": {},
   "source": [
    "392. Is Subsequence"
   ]
  },
  {
   "cell_type": "code",
   "execution_count": 29,
   "id": "a0980983",
   "metadata": {},
   "outputs": [
    {
     "data": {
      "text/plain": [
       "True"
      ]
     },
     "execution_count": 29,
     "metadata": {},
     "output_type": "execute_result"
    }
   ],
   "source": [
    "''' \n",
    "Input: s = \"abc\", t = \"ahbgdc\"\n",
    "Output: true\n",
    "'''\n",
    "\n",
    "class Solution:\n",
    "    def isSubSequence(self, s, t):\n",
    "        if len(s) > len(t):\n",
    "            return False \n",
    "        \n",
    "        if len(s) == 0:\n",
    "            return True \n",
    "        \n",
    "        left = 0 \n",
    "        for c in t:\n",
    "            if s[left] == c:\n",
    "                left += 1\n",
    "            if left == len(s):\n",
    "                return True \n",
    "        return False \n",
    "    \n",
    "solution = Solution()\n",
    "solution.isSubSequence(s = \"abc\", t = \"ahbgdc\")"
   ]
  },
  {
   "cell_type": "markdown",
   "id": "17fa0380",
   "metadata": {},
   "source": [
    "151. Reverse Words in a String"
   ]
  },
  {
   "cell_type": "code",
   "execution_count": 30,
   "id": "2913d735",
   "metadata": {},
   "outputs": [
    {
     "data": {
      "text/plain": [
       "'blue is sky the'"
      ]
     },
     "execution_count": 30,
     "metadata": {},
     "output_type": "execute_result"
    }
   ],
   "source": [
    "''' \n",
    "Input: s = \"the sky is blue\"\n",
    "Output: \"blue is sky the\"\n",
    "'''\n",
    "\n",
    "class Solution:\n",
    "    def reverseWords(self, s):\n",
    "        s_list = s.split(\" \")\n",
    "        res = []\n",
    "        for i in range(len(s_list) - 1, -1, -1):\n",
    "            res.append(s_list[i])\n",
    "        return \" \".join(res)\n",
    "    \n",
    "solution = Solution()\n",
    "solution.reverseWords(\"the sky is blue\")"
   ]
  },
  {
   "cell_type": "code",
   "execution_count": null,
   "id": "c829d5d4",
   "metadata": {},
   "outputs": [],
   "source": []
  },
  {
   "cell_type": "markdown",
   "id": "f073c387",
   "metadata": {},
   "source": [
    "# Hash Table"
   ]
  },
  {
   "cell_type": "markdown",
   "id": "b2e9d004",
   "metadata": {},
   "source": [
    "49. Group Anagrams"
   ]
  },
  {
   "cell_type": "code",
   "execution_count": 37,
   "id": "c4c5690b",
   "metadata": {},
   "outputs": [
    {
     "data": {
      "text/plain": [
       "[['eat', 'tea', 'ate'], ['tan', 'nat'], ['bat']]"
      ]
     },
     "execution_count": 37,
     "metadata": {},
     "output_type": "execute_result"
    }
   ],
   "source": [
    "'''\n",
    "Input: strs = [\"eat\",\"tea\",\"tan\",\"ate\",\"nat\",\"bat\"]\n",
    "\n",
    "Output: [[\"bat\"],[\"nat\",\"tan\"],[\"ate\",\"eat\",\"tea\"]]\n",
    "'''\n",
    "\n",
    "class Solution:\n",
    "    def sorted(self, str):\n",
    "        return \"\".join(sorted(str))\n",
    "    \n",
    "    def groupAnagrams(self, strs):\n",
    "        hash_map = {}\n",
    "        for str in strs:\n",
    "            sorted_str = self.sorted(str)\n",
    "            if sorted_str in hash_map:\n",
    "                hash_map.get(sorted_str).append(str)\n",
    "            else:\n",
    "                hash_map[sorted_str] = [str]\n",
    "        return [value for value in hash_map.values()]\n",
    "    \n",
    "solution = Solution()\n",
    "solution.groupAnagrams([\"eat\",\"tea\",\"tan\",\"ate\",\"nat\",\"bat\"])"
   ]
  },
  {
   "cell_type": "markdown",
   "id": "08a7ff4a",
   "metadata": {},
   "source": [
    "128. Longest Consecutive Sequence"
   ]
  },
  {
   "cell_type": "code",
   "execution_count": 42,
   "id": "073f5c05",
   "metadata": {},
   "outputs": [
    {
     "data": {
      "text/plain": [
       "4"
      ]
     },
     "execution_count": 42,
     "metadata": {},
     "output_type": "execute_result"
    }
   ],
   "source": [
    "''' \n",
    "Input: nums = [100,4,200,1,3,2]\n",
    "Output: 4\n",
    "Explanation: The longest consecutive elements sequence is [1, 2, 3, 4]. Therefore its length is 4.\n",
    "'''\n",
    "\n",
    "class Solution:\n",
    "    def longestConsecutive(self, nums: List[int]) -> int:\n",
    "        num_set = set(nums)\n",
    "        max_length = 0\n",
    "        for num in nums:\n",
    "            if (num - 1) not in num_set:\n",
    "                length = 1\n",
    "                while (num + length) in num_set:\n",
    "                    length += 1\n",
    "                max_length = max(max_length, length)\n",
    "        return max_length\n",
    "    \n",
    "solution = Solution()\n",
    "solution.longestConsecutive([100,4,200,1,3,2])"
   ]
  },
  {
   "cell_type": "code",
   "execution_count": null,
   "id": "85608697",
   "metadata": {},
   "outputs": [],
   "source": []
  },
  {
   "cell_type": "markdown",
   "id": "e0443bdf",
   "metadata": {},
   "source": [
    "# Two Pointers"
   ]
  },
  {
   "cell_type": "markdown",
   "id": "082cfc8a",
   "metadata": {},
   "source": [
    "11. Container With Most Water"
   ]
  },
  {
   "cell_type": "code",
   "execution_count": 44,
   "id": "4fe11256",
   "metadata": {},
   "outputs": [
    {
     "data": {
      "text/plain": [
       "49"
      ]
     },
     "execution_count": 44,
     "metadata": {},
     "output_type": "execute_result"
    }
   ],
   "source": [
    "''' \n",
    "Input: height = [1,8,6,2,5,4,8,3,7]\n",
    "Output: 49\n",
    "Explanation: The above vertical lines are represented by array [1,8,6,2,5,4,8,3,7]. In this case, the max area of water (blue section) the container can contain is 49.\n",
    "'''\n",
    "\n",
    "class Solution:\n",
    "    def maxArea(self, height: List[int]) -> int:\n",
    "        left = 0 \n",
    "        right = len(height) - 1\n",
    "\n",
    "        max_res = 0\n",
    "        while left < right:\n",
    "            max_res = max(max_res, min(height[left], height[right]) * (right - left))\n",
    "\n",
    "            if height[right] > height[left]:\n",
    "                left += 1\n",
    "            else:\n",
    "                right -= 1\n",
    "        return max_res \n",
    "\n",
    "solution = Solution()\n",
    "solution.maxArea([1,8,6,2,5,4,8,3,7]) "
   ]
  },
  {
   "cell_type": "code",
   "execution_count": 50,
   "id": "9b3983c2",
   "metadata": {},
   "outputs": [
    {
     "data": {
      "text/plain": [
       "[[-1, -1, 2], [-1, 0, 1]]"
      ]
     },
     "execution_count": 50,
     "metadata": {},
     "output_type": "execute_result"
    }
   ],
   "source": [
    "''' \n",
    "Input: nums = [-1,0,1,2,-1,-4]\n",
    "Output: [[-1,-1,2],[-1,0,1]]\n",
    "Explanation: \n",
    "nums[0] + nums[1] + nums[2] = (-1) + 0 + 1 = 0.\n",
    "nums[1] + nums[2] + nums[4] = 0 + 1 + (-1) = 0.\n",
    "nums[0] + nums[3] + nums[4] = (-1) + 2 + (-1) = 0.\n",
    "The distinct triplets are [-1,0,1] and [-1,-1,2].\n",
    "Notice that the order of the output and the order of the triplets does not matter.\n",
    "'''\n",
    "\n",
    "class Solution:\n",
    "    def threeSum(self, nums: List[int]) -> List[List[int]]:\n",
    "        res = []\n",
    "        n = len(nums)\n",
    "        nums.sort()\n",
    "        for i in range(len(nums) - 2):\n",
    "            if i > 0 and nums[i] == nums[i - 1]:\n",
    "                continue\n",
    "            x = nums[i]\n",
    "            left = i + 1\n",
    "            right = n - 1\n",
    "            while left < right:\n",
    "                total_sum = x + nums[left] + nums[right]\n",
    "                if total_sum == 0:\n",
    "                    res.append([x, nums[left], nums[right]])\n",
    "                    left += 1\n",
    "                    right -= 1\n",
    "                    while left < right and nums[left] == nums[left + 1]:\n",
    "                        left += 1\n",
    "                    while left < right and nums[right] == nums[right - 1]:\n",
    "                        right -= 1\n",
    "                elif total_sum > 0:\n",
    "                    right -= 1\n",
    "                else:\n",
    "                    left += 1\n",
    "        return res \n",
    "    \n",
    "solution = Solution()\n",
    "solution.threeSum([-1,0,1,2,-1,-4])\n"
   ]
  },
  {
   "cell_type": "markdown",
   "id": "349e4b49",
   "metadata": {},
   "source": [
    "42. Trapping Rain Water"
   ]
  },
  {
   "cell_type": "code",
   "execution_count": 51,
   "id": "cc99f070",
   "metadata": {},
   "outputs": [
    {
     "data": {
      "text/plain": [
       "6"
      ]
     },
     "execution_count": 51,
     "metadata": {},
     "output_type": "execute_result"
    }
   ],
   "source": [
    "''' \n",
    "Input: height = [0,1,0,2,1,0,1,3,2,1,2,1]\n",
    "Output: 6\n",
    "'''\n",
    "\n",
    "class Solution:\n",
    "    def trap(self, height):\n",
    "        if not height:\n",
    "            return 0 \n",
    "        \n",
    "        l, r = 0, len(height) - 1\n",
    "        left_max, right_max = height[l], height[r]\n",
    "        res = 0\n",
    "\n",
    "        while l < r:\n",
    "            if left_max < right_max:\n",
    "                l += 1\n",
    "                left_max = max(left_max, height[l])\n",
    "                res += left_max - height[l]\n",
    "            else:\n",
    "                r -= 1\n",
    "                right_max = max(right_max, height[r])\n",
    "                res += right_max - height[r]\n",
    "        return res\n",
    "    \n",
    "solution = Solution()\n",
    "solution.trap([0,1,0,2,1,0,1,3,2,1,2,1])"
   ]
  },
  {
   "cell_type": "markdown",
   "id": "4f68328f",
   "metadata": {},
   "source": [
    "# Prefix Sum"
   ]
  },
  {
   "cell_type": "markdown",
   "id": "ca5c3129",
   "metadata": {},
   "source": [
    "560. Subarray Sum Equals K"
   ]
  },
  {
   "cell_type": "code",
   "execution_count": 54,
   "id": "910e5cfe",
   "metadata": {},
   "outputs": [
    {
     "data": {
      "text/plain": [
       "2"
      ]
     },
     "execution_count": 54,
     "metadata": {},
     "output_type": "execute_result"
    }
   ],
   "source": [
    "''' \n",
    "Input: nums = [1,1,1], k = 2\n",
    "Output: 2\n",
    "'''\n",
    "\n",
    "class Solution:\n",
    "    def subarraySum(self, nums: List[int], k: int) -> int:\n",
    "        hash_map = {0 : 1}\n",
    "        prefix_sum = 0 \n",
    "        res = 0\n",
    "\n",
    "        for num in nums:\n",
    "            prefix_sum += num \n",
    "            if prefix_sum - k in hash_map:\n",
    "                res += hash_map.get(prefix_sum - k)\n",
    "            hash_map[prefix_sum] = hash_map.get(prefix_sum, 0) + 1\n",
    "        return res \n",
    "\n",
    "solution = Solution()\n",
    "solution.subarraySum([1, 1, 1], 2) "
   ]
  },
  {
   "cell_type": "markdown",
   "id": "ecc4239a",
   "metadata": {},
   "source": [
    "# Fixed Size Sliding Window "
   ]
  },
  {
   "cell_type": "markdown",
   "id": "3ac8a1b8",
   "metadata": {},
   "source": [
    "438. Find All Anagrams in a String"
   ]
  },
  {
   "cell_type": "code",
   "execution_count": 60,
   "id": "3eab565f",
   "metadata": {},
   "outputs": [
    {
     "data": {
      "text/plain": [
       "[0, 6]"
      ]
     },
     "execution_count": 60,
     "metadata": {},
     "output_type": "execute_result"
    }
   ],
   "source": [
    "''' \n",
    "Input: s = \"cbaebabacd\", p = \"abc\"\n",
    "Output: [0,6]\n",
    "Explanation:\n",
    "The substring with start index = 0 is \"cba\", which is an anagram of \"abc\".\n",
    "The substring with start index = 6 is \"bac\", which is an anagram of \"abc\".\n",
    "'''\n",
    "from typing import List \n",
    "class Solution:\n",
    "    def findAnagrams(self, s: str, p: str) -> List[int]:\n",
    "        if len(p) > len(s):\n",
    "            return []\n",
    "        \n",
    "        s_map = {}\n",
    "        p_map = {}\n",
    "\n",
    "        for i in range(len(p)):\n",
    "            s_map[s[i]] = s_map.get(s[i], 0) + 1 \n",
    "            p_map[p[i]] = p_map.get(p[i], 0) + 1\n",
    "        \n",
    "        res = [0] if s_map == p_map else []\n",
    "        left = 0 \n",
    "        for right in range(len(p), len(s)):\n",
    "             s_map[s[left]] = s_map.get(s[left]) - 1\n",
    "             if s_map[s[left]] == 0:\n",
    "                 del s_map[s[left]]\n",
    "             s_map[s[right]] = s_map.get(s[right], 0) + 1\n",
    "             left += 1\n",
    "             #print(left, s_map, p_map)\n",
    "             if s_map == p_map:\n",
    "                 res.append(left)\n",
    "        return res \n",
    "    \n",
    "\n",
    "solution = Solution()\n",
    "solution.findAnagrams(s = \"cbaebabacd\", p = \"abc\")"
   ]
  },
  {
   "cell_type": "markdown",
   "id": "f467e69a",
   "metadata": {},
   "source": [
    "567. Permutation in String"
   ]
  },
  {
   "cell_type": "code",
   "execution_count": 61,
   "id": "469d365a",
   "metadata": {},
   "outputs": [
    {
     "data": {
      "text/plain": [
       "True"
      ]
     },
     "execution_count": 61,
     "metadata": {},
     "output_type": "execute_result"
    }
   ],
   "source": [
    "''' \n",
    "Input: s1 = \"ab\", s2 = \"eidbaooo\"\n",
    "Output: true\n",
    "Explanation: s2 contains one permutation of s1 (\"ba\").\n",
    "'''\n",
    "\n",
    "class Solution:\n",
    "    def checkInclusion(self, s1: str, s2: str) -> bool:\n",
    "        if len(s1) > len(s2):\n",
    "            return False\n",
    "        \n",
    "        s_map = {}\n",
    "        p_map = {}\n",
    "\n",
    "        for i in range(len(s1)):\n",
    "            s_map[s2[i]] = s_map.get(s2[i], 0) + 1 \n",
    "            p_map[s1[i]] = p_map.get(s1[i], 0) + 1\n",
    "        \n",
    "        if s_map == p_map:\n",
    "            return True\n",
    "        left = 0 \n",
    "        for right in range(len(s1), len(s2)):\n",
    "             s_map[s2[left]] = s_map.get(s2[left]) - 1\n",
    "             if s_map[s2[left]] == 0:\n",
    "                 del s_map[s2[left]]\n",
    "             s_map[s2[right]] = s_map.get(s2[right], 0) + 1\n",
    "             left += 1\n",
    "             #print(left, s_map, p_map)\n",
    "             if s_map == p_map:\n",
    "                 return True\n",
    "        return False\n",
    "    \n",
    "solution = Solution()\n",
    "solution.checkInclusion(s1 = \"ab\", s2 = \"eidbaooo\")"
   ]
  },
  {
   "cell_type": "markdown",
   "id": "bc19fead",
   "metadata": {},
   "source": [
    "# Dynamic Size Sliding Window"
   ]
  },
  {
   "cell_type": "markdown",
   "id": "026b2e15",
   "metadata": {},
   "source": [
    "3. Longest Substring Without Repeating Characters"
   ]
  },
  {
   "cell_type": "code",
   "execution_count": 69,
   "id": "081db61b",
   "metadata": {},
   "outputs": [
    {
     "data": {
      "text/plain": [
       "3"
      ]
     },
     "execution_count": 69,
     "metadata": {},
     "output_type": "execute_result"
    }
   ],
   "source": [
    "''' \n",
    "Input: s = \"abcabcbb\"\n",
    "Output: 3\n",
    "Explanation: The answer is \"abc\", with the length of 3.\n",
    "'''\n",
    "\n",
    "class Solution:\n",
    "    def lengthOfLongestSubstring(self, s: str) -> int:\n",
    "        max_length = 0 \n",
    "        s_map = {}\n",
    "        left = 0\n",
    "        for right in range(len(s)):\n",
    "            #print(s_map)\n",
    "            while s[right] in s_map:\n",
    "                del s_map[s[left]]\n",
    "                left += 1\n",
    "            max_length = max(max_length, right - left + 1)\n",
    "            s_map[s[right]] = 1\n",
    "        return max_length\n",
    "    \n",
    "solution = Solution()\n",
    "solution.lengthOfLongestSubstring(\"abcabcbb\")"
   ]
  },
  {
   "cell_type": "markdown",
   "id": "92d77976",
   "metadata": {},
   "source": [
    "76. Minimum Window Substring"
   ]
  },
  {
   "cell_type": "code",
   "execution_count": 73,
   "id": "ea811b6a",
   "metadata": {},
   "outputs": [
    {
     "data": {
      "text/plain": [
       "'BANC'"
      ]
     },
     "execution_count": 73,
     "metadata": {},
     "output_type": "execute_result"
    }
   ],
   "source": [
    "''' \n",
    "Input: s = \"ADOBECODEBANC\", t = \"ABC\"\n",
    "Output: \"BANC\"\n",
    "Explanation: The minimum window substring \"BANC\" includes 'A', 'B', and 'C' from string t.\n",
    "'''\n",
    "\n",
    "from collections import Counter\n",
    "\n",
    "class Solution:\n",
    "    def minWindow(self, s: str, t: str) -> str:\n",
    "        if len(t) > len(s):\n",
    "            return \"\"\n",
    "        t_count = Counter(t)\n",
    "        s_count = {}\n",
    "        have, need = 0, len(t_count)\n",
    "        l = 0 \n",
    "        res = [-1, -1]\n",
    "        res_len = float('inf')\n",
    "        for r in range(len(s)):\n",
    "            c = s[r]\n",
    "            s_count[c] = s_count.get(c, 0) + 1\n",
    "            if c in t_count and s_count[c] == t_count[c]:\n",
    "                have += 1\n",
    "\n",
    "            while have == need:\n",
    "                if res_len > r - l + 1:\n",
    "                    res = [l, r]\n",
    "                    res_len = r - l + 1\n",
    "                s_count[s[l]] = s_count.get(s[l]) - 1\n",
    "                if s[l] in t_count and s_count[s[l]] < t_count[s[l]]:\n",
    "                    have -= 1\n",
    "                l += 1\n",
    "        l, r = res \n",
    "        return s[l:r + 1] if res != [-1, -1] else \"\"\n",
    "    \n",
    "solution = Solution()\n",
    "solution.minWindow(s = \"ADOBECODEBANC\", t = \"ABC\")"
   ]
  },
  {
   "cell_type": "markdown",
   "id": "506df4e1",
   "metadata": {},
   "source": [
    "### Kadane's algorithm"
   ]
  },
  {
   "cell_type": "markdown",
   "id": "70f1435c",
   "metadata": {},
   "source": [
    "53. Maximum Subarray"
   ]
  },
  {
   "cell_type": "code",
   "execution_count": 75,
   "id": "ee23715b",
   "metadata": {},
   "outputs": [
    {
     "data": {
      "text/plain": [
       "6"
      ]
     },
     "execution_count": 75,
     "metadata": {},
     "output_type": "execute_result"
    }
   ],
   "source": [
    "''' \n",
    "Input: nums = [-2,1,-3,4,-1,2,1,-5,4]\n",
    "Output: 6\n",
    "Explanation: The subarray [4,-1,2,1] has the largest sum 6.\n",
    "'''\n",
    "from typing import List\n",
    "\n",
    "class Solution:\n",
    "    def maxSubArray(self, nums: List[int]) -> int:\n",
    "        max_sum = float('-inf')  \n",
    "        curr_sum = float('-inf') \n",
    "        for num in nums:\n",
    "            curr_sum = max(num, curr_sum + num)\n",
    "            max_sum = max(max_sum, curr_sum)\n",
    "        return max_sum\n",
    "    \n",
    "solution = Solution()\n",
    "solution.maxSubArray([-2,1,-3,4,-1,2,1,-5,4])"
   ]
  },
  {
   "cell_type": "markdown",
   "id": "49300cfe",
   "metadata": {},
   "source": [
    "### Matrix"
   ]
  },
  {
   "cell_type": "markdown",
   "id": "0c3c9b8b",
   "metadata": {},
   "source": [
    "54. Spiral Matrix"
   ]
  },
  {
   "cell_type": "code",
   "execution_count": 88,
   "id": "9827378f",
   "metadata": {},
   "outputs": [
    {
     "data": {
      "text/plain": [
       "[1, 2, 3, 6, 9, 8, 7, 4, 5]"
      ]
     },
     "execution_count": 88,
     "metadata": {},
     "output_type": "execute_result"
    }
   ],
   "source": [
    "''' \n",
    "Input: matrix = [[1,2,3],[4,5,6],[7,8,9]]\n",
    "Output: [1,2,3,6,9,8,7,4,5]\n",
    "'''\n",
    "from typing import List\n",
    "\n",
    "class Solution:\n",
    "    def spiralOrder(self, matrix: List[List[int]]) -> List[int]:\n",
    "        top, bottom = 0, len(matrix) \n",
    "        left, right = 0, len(matrix[0])\n",
    "        res = []\n",
    "\n",
    "        while top < bottom and left < right:\n",
    "            for i in range(left, right):\n",
    "                res.append(matrix[top][i])\n",
    "            top += 1\n",
    "\n",
    "            for i in range(top, bottom):\n",
    "                res.append(matrix[i][right - 1])\n",
    "            right -= 1\n",
    "\n",
    "            if not (top < bottom and left < right):\n",
    "                break\n",
    "\n",
    "            for i in range(right - 1, left - 1, -1):\n",
    "                res.append(matrix[bottom - 1][i])\n",
    "            bottom -= 1\n",
    "\n",
    "            for i in range(bottom - 1, top - 1, -1):\n",
    "                res.append(matrix[i][left])\n",
    "            left += 1\n",
    "        return res \n",
    "    \n",
    "solution = Solution()\n",
    "solution.spiralOrder([[1,2,3],[4,5,6],[7,8,9]])"
   ]
  },
  {
   "cell_type": "code",
   "execution_count": 91,
   "id": "26b6a42d",
   "metadata": {},
   "outputs": [
    {
     "data": {
      "text/plain": [
       "[[7, 4, 1], [8, 5, 2], [9, 6, 3]]"
      ]
     },
     "execution_count": 91,
     "metadata": {},
     "output_type": "execute_result"
    }
   ],
   "source": [
    "''' \n",
    "Input: matrix = [[1,2,3],[4,5,6],[7,8,9]]\n",
    "Output: [[7,4,1],[8,5,2],[9,6,3]]\n",
    "'''\n",
    "\n",
    "class Solution:\n",
    "    def rotate(self, matrix: List[List[int]]) -> None:\n",
    "        left, right = 0, len(matrix[0]) - 1\n",
    "        while left < right:\n",
    "            for i in range(right - left):\n",
    "                top, bottom = left, right\n",
    "\n",
    "                temp = matrix[top][left + i]\n",
    "\n",
    "                matrix[top][left + i] = matrix[bottom - i][left] \n",
    "\n",
    "                matrix[bottom - i][left] = matrix[bottom][right - i]\n",
    "\n",
    "                matrix[bottom][right - i] = matrix[top + i][right]\n",
    "\n",
    "                matrix[top + i][right] = temp \n",
    "\n",
    "            left += 1\n",
    "            right -= 1\n",
    "        return matrix\n",
    "    \n",
    "solution = Solution()\n",
    "solution.rotate([[1,2,3],[4,5,6],[7,8,9]])"
   ]
  },
  {
   "cell_type": "code",
   "execution_count": null,
   "id": "85175313",
   "metadata": {},
   "outputs": [],
   "source": []
  },
  {
   "cell_type": "markdown",
   "id": "1a14378d",
   "metadata": {},
   "source": [
    "### Bit Manipulation"
   ]
  },
  {
   "cell_type": "markdown",
   "id": "e52b8616",
   "metadata": {},
   "source": [
    "338. Counting Bits"
   ]
  },
  {
   "cell_type": "code",
   "execution_count": 92,
   "id": "39658d16",
   "metadata": {},
   "outputs": [
    {
     "data": {
      "text/plain": [
       "[0, 1, 1, 2, 1, 2]"
      ]
     },
     "execution_count": 92,
     "metadata": {},
     "output_type": "execute_result"
    }
   ],
   "source": [
    "''' \n",
    "Input: n = 5\n",
    "Output: [0,1,1,2,1,2]\n",
    "Explanation:\n",
    "0 --> 0\n",
    "1 --> 1\n",
    "2 --> 10\n",
    "3 --> 11\n",
    "4 --> 100\n",
    "5 --> 101\n",
    "'''\n",
    "\n",
    "class Solution:\n",
    "    def countBits(self, n: int) -> List[int]:\n",
    "        dp = [0] * (n + 1)\n",
    "\n",
    "        offset = 1\n",
    "        for i in range(1, n + 1):\n",
    "            if offset * 2 == i:\n",
    "                offset = i \n",
    "            dp[i] = 1 + dp[i - offset]\n",
    "        return dp \n",
    "    \n",
    "solution = Solution()\n",
    "solution.countBits(5)"
   ]
  },
  {
   "cell_type": "markdown",
   "id": "fb219844",
   "metadata": {},
   "source": [
    "260. Single Number III"
   ]
  },
  {
   "cell_type": "code",
   "execution_count": 94,
   "id": "490fa8a7",
   "metadata": {},
   "outputs": [
    {
     "data": {
      "text/plain": [
       "[3, 5]"
      ]
     },
     "execution_count": 94,
     "metadata": {},
     "output_type": "execute_result"
    }
   ],
   "source": [
    "''' \n",
    "Input: nums = [1,2,1,3,2,5]\n",
    "Output: [3,5]\n",
    "Explanation:  [5, 3] is also a valid answer.\n",
    "'''\n",
    "from typing import List\n",
    "\n",
    "class Solution:\n",
    "    def singleNumber(self, nums: List[int]) -> List[int]:\n",
    "        xor = 0 \n",
    "        for num in nums:\n",
    "            xor ^= num \n",
    "        diff_bit = 1 \n",
    "        while not(diff_bit & xor):\n",
    "            diff_bit = diff_bit << 1\n",
    "        a, b = 0, 0\n",
    "        for num in nums:\n",
    "            if diff_bit & num:\n",
    "                a = a ^ num \n",
    "            else:\n",
    "                b = b ^ num \n",
    "        return [a, b]\n",
    "    \n",
    "solution = Solution()\n",
    "solution.singleNumber([1,2,1,3,2,5])"
   ]
  },
  {
   "cell_type": "code",
   "execution_count": null,
   "id": "c9cce06c",
   "metadata": {},
   "outputs": [],
   "source": []
  }
 ],
 "metadata": {
  "kernelspec": {
   "display_name": "Python 3",
   "language": "python",
   "name": "python3"
  },
  "language_info": {
   "codemirror_mode": {
    "name": "ipython",
    "version": 3
   },
   "file_extension": ".py",
   "mimetype": "text/x-python",
   "name": "python",
   "nbconvert_exporter": "python",
   "pygments_lexer": "ipython3",
   "version": "3.12.6"
  }
 },
 "nbformat": 4,
 "nbformat_minor": 5
}
