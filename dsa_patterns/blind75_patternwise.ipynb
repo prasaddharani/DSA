{
 "cells": [
  {
   "cell_type": "markdown",
   "id": "49952ad7",
   "metadata": {},
   "source": [
    "## Arrays"
   ]
  },
  {
   "cell_type": "markdown",
   "id": "7819ddc7",
   "metadata": {},
   "source": [
    "169. Majority Element"
   ]
  },
  {
   "cell_type": "code",
   "execution_count": 4,
   "id": "b39b8f54",
   "metadata": {},
   "outputs": [
    {
     "data": {
      "text/plain": [
       "2"
      ]
     },
     "execution_count": 4,
     "metadata": {},
     "output_type": "execute_result"
    }
   ],
   "source": [
    "''' \n",
    "Example 1:\n",
    "\n",
    "Input: nums = [3,2,3]\n",
    "Output: 3\n",
    "Example 2:\n",
    "\n",
    "Input: nums = [2,2,1,1,1,2,2]\n",
    "Output: 2\n",
    "'''\n",
    "from typing import List\n",
    "\n",
    "class Solution:\n",
    "    def majorityElement(self, nums: List[int]) -> int:\n",
    "        hash_map = {}\n",
    "        for num in nums:\n",
    "            hash_map[num] = hash_map.get(num, 0) + 1\n",
    "        m = len(nums) // 2\n",
    "        for key, value in hash_map.items():\n",
    "            if value > m:\n",
    "                return key \n",
    "        return -1\n",
    "\n",
    "solution = Solution()\n",
    "solution.majorityElement([2,2,1,1,1,2,2])"
   ]
  },
  {
   "cell_type": "markdown",
   "id": "e28354bd",
   "metadata": {},
   "source": [
    "238. Product of Array Except Self"
   ]
  },
  {
   "cell_type": "code",
   "execution_count": 11,
   "id": "48f4703c",
   "metadata": {},
   "outputs": [
    {
     "data": {
      "text/plain": [
       "[24, 12, 8, 6]"
      ]
     },
     "execution_count": 11,
     "metadata": {},
     "output_type": "execute_result"
    }
   ],
   "source": [
    "''' \n",
    "Input: nums = [1,2,3,4]\n",
    "Output: [24,12,8,6]\n",
    "'''\n",
    "\n",
    "class Solution:\n",
    "    def productOfArrayExceptSelf(self, nums):\n",
    "        n = len(nums)\n",
    "        res = [0] * n \n",
    "        res[0] = 1 \n",
    "\n",
    "        for i in range(1, n):\n",
    "            res[i] = res[i - 1] * nums[i - 1]\n",
    "\n",
    "        #print(res)\n",
    "        \n",
    "        prod = 1 \n",
    "\n",
    "        for i in range(n - 2, -1, -1):\n",
    "            prod *= nums[i + 1]\n",
    "            res[i] *= prod\n",
    "        return res \n",
    "\n",
    "solution = Solution()\n",
    "solution.productOfArrayExceptSelf([1, 2, 3, 4])    "
   ]
  },
  {
   "cell_type": "markdown",
   "id": "6566cb89",
   "metadata": {},
   "source": [
    "41. First Missing Positive"
   ]
  },
  {
   "cell_type": "code",
   "execution_count": 24,
   "id": "c3a0d9a5",
   "metadata": {},
   "outputs": [
    {
     "name": "stdout",
     "output_type": "stream",
     "text": [
      "[-1, -2, 0]\n"
     ]
    },
    {
     "data": {
      "text/plain": [
       "3"
      ]
     },
     "execution_count": 24,
     "metadata": {},
     "output_type": "execute_result"
    }
   ],
   "source": [
    "''' \n",
    "Input: nums = [1,2,0]\n",
    "Output: 3\n",
    "Explanation: The numbers in the range [1,2] are all in the array.\n",
    "'''\n",
    "from typing import List \n",
    "\n",
    "class Solution:\n",
    "    def firstMissingPositive(self, nums: List[int]) -> int:\n",
    "        n = len(nums)\n",
    "        if n == 0:\n",
    "            return 1 \n",
    "        \n",
    "        for i in range(n):\n",
    "            if nums[i] < 0:\n",
    "                nums[i] = 0 \n",
    "        \n",
    "        for i in range(n):\n",
    "            val = abs(nums[i])\n",
    "\n",
    "            if 1 <= val <= n:\n",
    "                if nums[val - 1] == 0:\n",
    "                    nums[val - 1] = -1 * (n + 1)\n",
    "                elif nums[val - 1] > 0:\n",
    "                    nums[val - 1] *= -1  \n",
    "        print(nums)\n",
    "        for i in range(1, n + 1):\n",
    "            if nums[i - 1] >= 0:\n",
    "                return i \n",
    "        return (n + 1)\n",
    "    \n",
    "solution = Solution()\n",
    "solution.firstMissingPositive([1, 2, 0])"
   ]
  },
  {
   "cell_type": "code",
   "execution_count": null,
   "id": "ce5bd4df",
   "metadata": {},
   "outputs": [],
   "source": []
  },
  {
   "cell_type": "markdown",
   "id": "921d934f",
   "metadata": {},
   "source": [
    "# Strings"
   ]
  },
  {
   "cell_type": "markdown",
   "id": "e2540d79",
   "metadata": {},
   "source": [
    "392. Is Subsequence"
   ]
  },
  {
   "cell_type": "code",
   "execution_count": 29,
   "id": "a0980983",
   "metadata": {},
   "outputs": [
    {
     "data": {
      "text/plain": [
       "True"
      ]
     },
     "execution_count": 29,
     "metadata": {},
     "output_type": "execute_result"
    }
   ],
   "source": [
    "''' \n",
    "Input: s = \"abc\", t = \"ahbgdc\"\n",
    "Output: true\n",
    "'''\n",
    "\n",
    "class Solution:\n",
    "    def isSubSequence(self, s, t):\n",
    "        if len(s) > len(t):\n",
    "            return False \n",
    "        \n",
    "        if len(s) == 0:\n",
    "            return True \n",
    "        \n",
    "        left = 0 \n",
    "        for c in t:\n",
    "            if s[left] == c:\n",
    "                left += 1\n",
    "            if left == len(s):\n",
    "                return True \n",
    "        return False \n",
    "    \n",
    "solution = Solution()\n",
    "solution.isSubSequence(s = \"abc\", t = \"ahbgdc\")"
   ]
  },
  {
   "cell_type": "markdown",
   "id": "17fa0380",
   "metadata": {},
   "source": [
    "151. Reverse Words in a String"
   ]
  },
  {
   "cell_type": "code",
   "execution_count": 30,
   "id": "2913d735",
   "metadata": {},
   "outputs": [
    {
     "data": {
      "text/plain": [
       "'blue is sky the'"
      ]
     },
     "execution_count": 30,
     "metadata": {},
     "output_type": "execute_result"
    }
   ],
   "source": [
    "''' \n",
    "Input: s = \"the sky is blue\"\n",
    "Output: \"blue is sky the\"\n",
    "'''\n",
    "\n",
    "class Solution:\n",
    "    def reverseWords(self, s):\n",
    "        s_list = s.split(\" \")\n",
    "        res = []\n",
    "        for i in range(len(s_list) - 1, -1, -1):\n",
    "            res.append(s_list[i])\n",
    "        return \" \".join(res)\n",
    "    \n",
    "solution = Solution()\n",
    "solution.reverseWords(\"the sky is blue\")"
   ]
  },
  {
   "cell_type": "code",
   "execution_count": null,
   "id": "c829d5d4",
   "metadata": {},
   "outputs": [],
   "source": []
  },
  {
   "cell_type": "markdown",
   "id": "f073c387",
   "metadata": {},
   "source": [
    "# Hash Table"
   ]
  },
  {
   "cell_type": "markdown",
   "id": "b2e9d004",
   "metadata": {},
   "source": [
    "49. Group Anagrams"
   ]
  },
  {
   "cell_type": "code",
   "execution_count": 37,
   "id": "c4c5690b",
   "metadata": {},
   "outputs": [
    {
     "data": {
      "text/plain": [
       "[['eat', 'tea', 'ate'], ['tan', 'nat'], ['bat']]"
      ]
     },
     "execution_count": 37,
     "metadata": {},
     "output_type": "execute_result"
    }
   ],
   "source": [
    "'''\n",
    "Input: strs = [\"eat\",\"tea\",\"tan\",\"ate\",\"nat\",\"bat\"]\n",
    "\n",
    "Output: [[\"bat\"],[\"nat\",\"tan\"],[\"ate\",\"eat\",\"tea\"]]\n",
    "'''\n",
    "\n",
    "class Solution:\n",
    "    def sorted(self, str):\n",
    "        return \"\".join(sorted(str))\n",
    "    \n",
    "    def groupAnagrams(self, strs):\n",
    "        hash_map = {}\n",
    "        for str in strs:\n",
    "            sorted_str = self.sorted(str)\n",
    "            if sorted_str in hash_map:\n",
    "                hash_map.get(sorted_str).append(str)\n",
    "            else:\n",
    "                hash_map[sorted_str] = [str]\n",
    "        return [value for value in hash_map.values()]\n",
    "    \n",
    "solution = Solution()\n",
    "solution.groupAnagrams([\"eat\",\"tea\",\"tan\",\"ate\",\"nat\",\"bat\"])"
   ]
  },
  {
   "cell_type": "markdown",
   "id": "08a7ff4a",
   "metadata": {},
   "source": [
    "128. Longest Consecutive Sequence"
   ]
  },
  {
   "cell_type": "code",
   "execution_count": 42,
   "id": "073f5c05",
   "metadata": {},
   "outputs": [
    {
     "data": {
      "text/plain": [
       "4"
      ]
     },
     "execution_count": 42,
     "metadata": {},
     "output_type": "execute_result"
    }
   ],
   "source": [
    "''' \n",
    "Input: nums = [100,4,200,1,3,2]\n",
    "Output: 4\n",
    "Explanation: The longest consecutive elements sequence is [1, 2, 3, 4]. Therefore its length is 4.\n",
    "'''\n",
    "\n",
    "class Solution:\n",
    "    def longestConsecutive(self, nums: List[int]) -> int:\n",
    "        num_set = set(nums)\n",
    "        max_length = 0\n",
    "        for num in nums:\n",
    "            if (num - 1) not in num_set:\n",
    "                length = 1\n",
    "                while (num + length) in num_set:\n",
    "                    length += 1\n",
    "                max_length = max(max_length, length)\n",
    "        return max_length\n",
    "    \n",
    "solution = Solution()\n",
    "solution.longestConsecutive([100,4,200,1,3,2])"
   ]
  },
  {
   "cell_type": "code",
   "execution_count": null,
   "id": "85608697",
   "metadata": {},
   "outputs": [],
   "source": []
  },
  {
   "cell_type": "markdown",
   "id": "e0443bdf",
   "metadata": {},
   "source": [
    "# Two Pointers"
   ]
  },
  {
   "cell_type": "markdown",
   "id": "082cfc8a",
   "metadata": {},
   "source": [
    "11. Container With Most Water"
   ]
  },
  {
   "cell_type": "code",
   "execution_count": 44,
   "id": "4fe11256",
   "metadata": {},
   "outputs": [
    {
     "data": {
      "text/plain": [
       "49"
      ]
     },
     "execution_count": 44,
     "metadata": {},
     "output_type": "execute_result"
    }
   ],
   "source": [
    "''' \n",
    "Input: height = [1,8,6,2,5,4,8,3,7]\n",
    "Output: 49\n",
    "Explanation: The above vertical lines are represented by array [1,8,6,2,5,4,8,3,7]. In this case, the max area of water (blue section) the container can contain is 49.\n",
    "'''\n",
    "\n",
    "class Solution:\n",
    "    def maxArea(self, height: List[int]) -> int:\n",
    "        left = 0 \n",
    "        right = len(height) - 1\n",
    "\n",
    "        max_res = 0\n",
    "        while left < right:\n",
    "            max_res = max(max_res, min(height[left], height[right]) * (right - left))\n",
    "\n",
    "            if height[right] > height[left]:\n",
    "                left += 1\n",
    "            else:\n",
    "                right -= 1\n",
    "        return max_res \n",
    "\n",
    "solution = Solution()\n",
    "solution.maxArea([1,8,6,2,5,4,8,3,7]) "
   ]
  },
  {
   "cell_type": "code",
   "execution_count": 50,
   "id": "9b3983c2",
   "metadata": {},
   "outputs": [
    {
     "data": {
      "text/plain": [
       "[[-1, -1, 2], [-1, 0, 1]]"
      ]
     },
     "execution_count": 50,
     "metadata": {},
     "output_type": "execute_result"
    }
   ],
   "source": [
    "''' \n",
    "Input: nums = [-1,0,1,2,-1,-4]\n",
    "Output: [[-1,-1,2],[-1,0,1]]\n",
    "Explanation: \n",
    "nums[0] + nums[1] + nums[2] = (-1) + 0 + 1 = 0.\n",
    "nums[1] + nums[2] + nums[4] = 0 + 1 + (-1) = 0.\n",
    "nums[0] + nums[3] + nums[4] = (-1) + 2 + (-1) = 0.\n",
    "The distinct triplets are [-1,0,1] and [-1,-1,2].\n",
    "Notice that the order of the output and the order of the triplets does not matter.\n",
    "'''\n",
    "\n",
    "class Solution:\n",
    "    def threeSum(self, nums: List[int]) -> List[List[int]]:\n",
    "        res = []\n",
    "        n = len(nums)\n",
    "        nums.sort()\n",
    "        for i in range(len(nums) - 2):\n",
    "            if i > 0 and nums[i] == nums[i - 1]:\n",
    "                continue\n",
    "            x = nums[i]\n",
    "            left = i + 1\n",
    "            right = n - 1\n",
    "            while left < right:\n",
    "                total_sum = x + nums[left] + nums[right]\n",
    "                if total_sum == 0:\n",
    "                    res.append([x, nums[left], nums[right]])\n",
    "                    left += 1\n",
    "                    right -= 1\n",
    "                    while left < right and nums[left] == nums[left + 1]:\n",
    "                        left += 1\n",
    "                    while left < right and nums[right] == nums[right - 1]:\n",
    "                        right -= 1\n",
    "                elif total_sum > 0:\n",
    "                    right -= 1\n",
    "                else:\n",
    "                    left += 1\n",
    "        return res \n",
    "    \n",
    "solution = Solution()\n",
    "solution.threeSum([-1,0,1,2,-1,-4])\n"
   ]
  },
  {
   "cell_type": "markdown",
   "id": "349e4b49",
   "metadata": {},
   "source": [
    "42. Trapping Rain Water"
   ]
  },
  {
   "cell_type": "code",
   "execution_count": 51,
   "id": "cc99f070",
   "metadata": {},
   "outputs": [
    {
     "data": {
      "text/plain": [
       "6"
      ]
     },
     "execution_count": 51,
     "metadata": {},
     "output_type": "execute_result"
    }
   ],
   "source": [
    "''' \n",
    "Input: height = [0,1,0,2,1,0,1,3,2,1,2,1]\n",
    "Output: 6\n",
    "'''\n",
    "\n",
    "class Solution:\n",
    "    def trap(self, height):\n",
    "        if not height:\n",
    "            return 0 \n",
    "        \n",
    "        l, r = 0, len(height) - 1\n",
    "        left_max, right_max = height[l], height[r]\n",
    "        res = 0\n",
    "\n",
    "        while l < r:\n",
    "            if left_max < right_max:\n",
    "                l += 1\n",
    "                left_max = max(left_max, height[l])\n",
    "                res += left_max - height[l]\n",
    "            else:\n",
    "                r -= 1\n",
    "                right_max = max(right_max, height[r])\n",
    "                res += right_max - height[r]\n",
    "        return res\n",
    "    \n",
    "solution = Solution()\n",
    "solution.trap([0,1,0,2,1,0,1,3,2,1,2,1])"
   ]
  },
  {
   "cell_type": "markdown",
   "id": "4f68328f",
   "metadata": {},
   "source": [
    "# Prefix Sum"
   ]
  },
  {
   "cell_type": "markdown",
   "id": "ca5c3129",
   "metadata": {},
   "source": [
    "560. Subarray Sum Equals K"
   ]
  },
  {
   "cell_type": "code",
   "execution_count": 54,
   "id": "910e5cfe",
   "metadata": {},
   "outputs": [
    {
     "data": {
      "text/plain": [
       "2"
      ]
     },
     "execution_count": 54,
     "metadata": {},
     "output_type": "execute_result"
    }
   ],
   "source": [
    "''' \n",
    "Input: nums = [1,1,1], k = 2\n",
    "Output: 2\n",
    "'''\n",
    "\n",
    "class Solution:\n",
    "    def subarraySum(self, nums: List[int], k: int) -> int:\n",
    "        hash_map = {0 : 1}\n",
    "        prefix_sum = 0 \n",
    "        res = 0\n",
    "\n",
    "        for num in nums:\n",
    "            prefix_sum += num \n",
    "            if prefix_sum - k in hash_map:\n",
    "                res += hash_map.get(prefix_sum - k)\n",
    "            hash_map[prefix_sum] = hash_map.get(prefix_sum, 0) + 1\n",
    "        return res \n",
    "\n",
    "solution = Solution()\n",
    "solution.subarraySum([1, 1, 1], 2) "
   ]
  },
  {
   "cell_type": "markdown",
   "id": "ecc4239a",
   "metadata": {},
   "source": [
    "# Fixed Size Sliding Window "
   ]
  },
  {
   "cell_type": "markdown",
   "id": "3ac8a1b8",
   "metadata": {},
   "source": [
    "438. Find All Anagrams in a String"
   ]
  },
  {
   "cell_type": "code",
   "execution_count": 60,
   "id": "3eab565f",
   "metadata": {},
   "outputs": [
    {
     "data": {
      "text/plain": [
       "[0, 6]"
      ]
     },
     "execution_count": 60,
     "metadata": {},
     "output_type": "execute_result"
    }
   ],
   "source": [
    "''' \n",
    "Input: s = \"cbaebabacd\", p = \"abc\"\n",
    "Output: [0,6]\n",
    "Explanation:\n",
    "The substring with start index = 0 is \"cba\", which is an anagram of \"abc\".\n",
    "The substring with start index = 6 is \"bac\", which is an anagram of \"abc\".\n",
    "'''\n",
    "from typing import List \n",
    "class Solution:\n",
    "    def findAnagrams(self, s: str, p: str) -> List[int]:\n",
    "        if len(p) > len(s):\n",
    "            return []\n",
    "        \n",
    "        s_map = {}\n",
    "        p_map = {}\n",
    "\n",
    "        for i in range(len(p)):\n",
    "            s_map[s[i]] = s_map.get(s[i], 0) + 1 \n",
    "            p_map[p[i]] = p_map.get(p[i], 0) + 1\n",
    "        \n",
    "        res = [0] if s_map == p_map else []\n",
    "        left = 0 \n",
    "        for right in range(len(p), len(s)):\n",
    "             s_map[s[left]] = s_map.get(s[left]) - 1\n",
    "             if s_map[s[left]] == 0:\n",
    "                 del s_map[s[left]]\n",
    "             s_map[s[right]] = s_map.get(s[right], 0) + 1\n",
    "             left += 1\n",
    "             #print(left, s_map, p_map)\n",
    "             if s_map == p_map:\n",
    "                 res.append(left)\n",
    "        return res \n",
    "    \n",
    "\n",
    "solution = Solution()\n",
    "solution.findAnagrams(s = \"cbaebabacd\", p = \"abc\")"
   ]
  },
  {
   "cell_type": "markdown",
   "id": "f467e69a",
   "metadata": {},
   "source": [
    "567. Permutation in String"
   ]
  },
  {
   "cell_type": "code",
   "execution_count": 61,
   "id": "469d365a",
   "metadata": {},
   "outputs": [
    {
     "data": {
      "text/plain": [
       "True"
      ]
     },
     "execution_count": 61,
     "metadata": {},
     "output_type": "execute_result"
    }
   ],
   "source": [
    "''' \n",
    "Input: s1 = \"ab\", s2 = \"eidbaooo\"\n",
    "Output: true\n",
    "Explanation: s2 contains one permutation of s1 (\"ba\").\n",
    "'''\n",
    "\n",
    "class Solution:\n",
    "    def checkInclusion(self, s1: str, s2: str) -> bool:\n",
    "        if len(s1) > len(s2):\n",
    "            return False\n",
    "        \n",
    "        s_map = {}\n",
    "        p_map = {}\n",
    "\n",
    "        for i in range(len(s1)):\n",
    "            s_map[s2[i]] = s_map.get(s2[i], 0) + 1 \n",
    "            p_map[s1[i]] = p_map.get(s1[i], 0) + 1\n",
    "        \n",
    "        if s_map == p_map:\n",
    "            return True\n",
    "        left = 0 \n",
    "        for right in range(len(s1), len(s2)):\n",
    "             s_map[s2[left]] = s_map.get(s2[left]) - 1\n",
    "             if s_map[s2[left]] == 0:\n",
    "                 del s_map[s2[left]]\n",
    "             s_map[s2[right]] = s_map.get(s2[right], 0) + 1\n",
    "             left += 1\n",
    "             #print(left, s_map, p_map)\n",
    "             if s_map == p_map:\n",
    "                 return True\n",
    "        return False\n",
    "    \n",
    "solution = Solution()\n",
    "solution.checkInclusion(s1 = \"ab\", s2 = \"eidbaooo\")"
   ]
  },
  {
   "cell_type": "markdown",
   "id": "bc19fead",
   "metadata": {},
   "source": [
    "# Dynamic Size Sliding Window"
   ]
  },
  {
   "cell_type": "markdown",
   "id": "026b2e15",
   "metadata": {},
   "source": [
    "3. Longest Substring Without Repeating Characters"
   ]
  },
  {
   "cell_type": "code",
   "execution_count": 69,
   "id": "081db61b",
   "metadata": {},
   "outputs": [
    {
     "data": {
      "text/plain": [
       "3"
      ]
     },
     "execution_count": 69,
     "metadata": {},
     "output_type": "execute_result"
    }
   ],
   "source": [
    "''' \n",
    "Input: s = \"abcabcbb\"\n",
    "Output: 3\n",
    "Explanation: The answer is \"abc\", with the length of 3.\n",
    "'''\n",
    "\n",
    "class Solution:\n",
    "    def lengthOfLongestSubstring(self, s: str) -> int:\n",
    "        max_length = 0 \n",
    "        s_map = {}\n",
    "        left = 0\n",
    "        for right in range(len(s)):\n",
    "            #print(s_map)\n",
    "            while s[right] in s_map:\n",
    "                del s_map[s[left]]\n",
    "                left += 1\n",
    "            max_length = max(max_length, right - left + 1)\n",
    "            s_map[s[right]] = 1\n",
    "        return max_length\n",
    "    \n",
    "solution = Solution()\n",
    "solution.lengthOfLongestSubstring(\"abcabcbb\")"
   ]
  },
  {
   "cell_type": "markdown",
   "id": "92d77976",
   "metadata": {},
   "source": [
    "76. Minimum Window Substring"
   ]
  },
  {
   "cell_type": "code",
   "execution_count": 73,
   "id": "ea811b6a",
   "metadata": {},
   "outputs": [
    {
     "data": {
      "text/plain": [
       "'BANC'"
      ]
     },
     "execution_count": 73,
     "metadata": {},
     "output_type": "execute_result"
    }
   ],
   "source": [
    "''' \n",
    "Input: s = \"ADOBECODEBANC\", t = \"ABC\"\n",
    "Output: \"BANC\"\n",
    "Explanation: The minimum window substring \"BANC\" includes 'A', 'B', and 'C' from string t.\n",
    "'''\n",
    "\n",
    "from collections import Counter\n",
    "\n",
    "class Solution:\n",
    "    def minWindow(self, s: str, t: str) -> str:\n",
    "        if len(t) > len(s):\n",
    "            return \"\"\n",
    "        t_count = Counter(t)\n",
    "        s_count = {}\n",
    "        have, need = 0, len(t_count)\n",
    "        l = 0 \n",
    "        res = [-1, -1]\n",
    "        res_len = float('inf')\n",
    "        for r in range(len(s)):\n",
    "            c = s[r]\n",
    "            s_count[c] = s_count.get(c, 0) + 1\n",
    "            if c in t_count and s_count[c] == t_count[c]:\n",
    "                have += 1\n",
    "\n",
    "            while have == need:\n",
    "                if res_len > r - l + 1:\n",
    "                    res = [l, r]\n",
    "                    res_len = r - l + 1\n",
    "                s_count[s[l]] = s_count.get(s[l]) - 1\n",
    "                if s[l] in t_count and s_count[s[l]] < t_count[s[l]]:\n",
    "                    have -= 1\n",
    "                l += 1\n",
    "        l, r = res \n",
    "        return s[l:r + 1] if res != [-1, -1] else \"\"\n",
    "    \n",
    "solution = Solution()\n",
    "solution.minWindow(s = \"ADOBECODEBANC\", t = \"ABC\")"
   ]
  },
  {
   "cell_type": "markdown",
   "id": "506df4e1",
   "metadata": {},
   "source": [
    "### Kadane's algorithm"
   ]
  },
  {
   "cell_type": "markdown",
   "id": "70f1435c",
   "metadata": {},
   "source": [
    "53. Maximum Subarray"
   ]
  },
  {
   "cell_type": "code",
   "execution_count": 75,
   "id": "ee23715b",
   "metadata": {},
   "outputs": [
    {
     "data": {
      "text/plain": [
       "6"
      ]
     },
     "execution_count": 75,
     "metadata": {},
     "output_type": "execute_result"
    }
   ],
   "source": [
    "''' \n",
    "Input: nums = [-2,1,-3,4,-1,2,1,-5,4]\n",
    "Output: 6\n",
    "Explanation: The subarray [4,-1,2,1] has the largest sum 6.\n",
    "'''\n",
    "from typing import List\n",
    "\n",
    "class Solution:\n",
    "    def maxSubArray(self, nums: List[int]) -> int:\n",
    "        max_sum = float('-inf')  \n",
    "        curr_sum = float('-inf') \n",
    "        for num in nums:\n",
    "            curr_sum = max(num, curr_sum + num)\n",
    "            max_sum = max(max_sum, curr_sum)\n",
    "        return max_sum\n",
    "    \n",
    "solution = Solution()\n",
    "solution.maxSubArray([-2,1,-3,4,-1,2,1,-5,4])"
   ]
  },
  {
   "cell_type": "markdown",
   "id": "49300cfe",
   "metadata": {},
   "source": [
    "### Matrix"
   ]
  },
  {
   "cell_type": "markdown",
   "id": "0c3c9b8b",
   "metadata": {},
   "source": [
    "54. Spiral Matrix"
   ]
  },
  {
   "cell_type": "code",
   "execution_count": 88,
   "id": "9827378f",
   "metadata": {},
   "outputs": [
    {
     "data": {
      "text/plain": [
       "[1, 2, 3, 6, 9, 8, 7, 4, 5]"
      ]
     },
     "execution_count": 88,
     "metadata": {},
     "output_type": "execute_result"
    }
   ],
   "source": [
    "''' \n",
    "Input: matrix = [[1,2,3],[4,5,6],[7,8,9]]\n",
    "Output: [1,2,3,6,9,8,7,4,5]\n",
    "'''\n",
    "from typing import List\n",
    "\n",
    "class Solution:\n",
    "    def spiralOrder(self, matrix: List[List[int]]) -> List[int]:\n",
    "        top, bottom = 0, len(matrix) \n",
    "        left, right = 0, len(matrix[0])\n",
    "        res = []\n",
    "\n",
    "        while top < bottom and left < right:\n",
    "            for i in range(left, right):\n",
    "                res.append(matrix[top][i])\n",
    "            top += 1\n",
    "\n",
    "            for i in range(top, bottom):\n",
    "                res.append(matrix[i][right - 1])\n",
    "            right -= 1\n",
    "\n",
    "            if not (top < bottom and left < right):\n",
    "                break\n",
    "\n",
    "            for i in range(right - 1, left - 1, -1):\n",
    "                res.append(matrix[bottom - 1][i])\n",
    "            bottom -= 1\n",
    "\n",
    "            for i in range(bottom - 1, top - 1, -1):\n",
    "                res.append(matrix[i][left])\n",
    "            left += 1\n",
    "        return res \n",
    "    \n",
    "solution = Solution()\n",
    "solution.spiralOrder([[1,2,3],[4,5,6],[7,8,9]])"
   ]
  },
  {
   "cell_type": "code",
   "execution_count": 91,
   "id": "26b6a42d",
   "metadata": {},
   "outputs": [
    {
     "data": {
      "text/plain": [
       "[[7, 4, 1], [8, 5, 2], [9, 6, 3]]"
      ]
     },
     "execution_count": 91,
     "metadata": {},
     "output_type": "execute_result"
    }
   ],
   "source": [
    "''' \n",
    "Input: matrix = [[1,2,3],[4,5,6],[7,8,9]]\n",
    "Output: [[7,4,1],[8,5,2],[9,6,3]]\n",
    "'''\n",
    "\n",
    "class Solution:\n",
    "    def rotate(self, matrix: List[List[int]]) -> None:\n",
    "        left, right = 0, len(matrix[0]) - 1\n",
    "        while left < right:\n",
    "            for i in range(right - left):\n",
    "                top, bottom = left, right\n",
    "\n",
    "                temp = matrix[top][left + i]\n",
    "\n",
    "                matrix[top][left + i] = matrix[bottom - i][left] \n",
    "\n",
    "                matrix[bottom - i][left] = matrix[bottom][right - i]\n",
    "\n",
    "                matrix[bottom][right - i] = matrix[top + i][right]\n",
    "\n",
    "                matrix[top + i][right] = temp \n",
    "\n",
    "            left += 1\n",
    "            right -= 1\n",
    "        return matrix\n",
    "    \n",
    "solution = Solution()\n",
    "solution.rotate([[1,2,3],[4,5,6],[7,8,9]])"
   ]
  },
  {
   "cell_type": "code",
   "execution_count": null,
   "id": "85175313",
   "metadata": {},
   "outputs": [],
   "source": []
  },
  {
   "cell_type": "markdown",
   "id": "1a14378d",
   "metadata": {},
   "source": [
    "### Bit Manipulation"
   ]
  },
  {
   "cell_type": "markdown",
   "id": "e52b8616",
   "metadata": {},
   "source": [
    "338. Counting Bits"
   ]
  },
  {
   "cell_type": "code",
   "execution_count": 92,
   "id": "39658d16",
   "metadata": {},
   "outputs": [
    {
     "data": {
      "text/plain": [
       "[0, 1, 1, 2, 1, 2]"
      ]
     },
     "execution_count": 92,
     "metadata": {},
     "output_type": "execute_result"
    }
   ],
   "source": [
    "''' \n",
    "Input: n = 5\n",
    "Output: [0,1,1,2,1,2]\n",
    "Explanation:\n",
    "0 --> 0\n",
    "1 --> 1\n",
    "2 --> 10\n",
    "3 --> 11\n",
    "4 --> 100\n",
    "5 --> 101\n",
    "'''\n",
    "\n",
    "class Solution:\n",
    "    def countBits(self, n: int) -> List[int]:\n",
    "        dp = [0] * (n + 1)\n",
    "\n",
    "        offset = 1\n",
    "        for i in range(1, n + 1):\n",
    "            if offset * 2 == i:\n",
    "                offset = i \n",
    "            dp[i] = 1 + dp[i - offset]\n",
    "        return dp \n",
    "    \n",
    "solution = Solution()\n",
    "solution.countBits(5)"
   ]
  },
  {
   "cell_type": "markdown",
   "id": "fb219844",
   "metadata": {},
   "source": [
    "260. Single Number III"
   ]
  },
  {
   "cell_type": "code",
   "execution_count": 94,
   "id": "490fa8a7",
   "metadata": {},
   "outputs": [
    {
     "data": {
      "text/plain": [
       "[3, 5]"
      ]
     },
     "execution_count": 94,
     "metadata": {},
     "output_type": "execute_result"
    }
   ],
   "source": [
    "''' \n",
    "Input: nums = [1,2,1,3,2,5]\n",
    "Output: [3,5]\n",
    "Explanation:  [5, 3] is also a valid answer.\n",
    "'''\n",
    "from typing import List\n",
    "\n",
    "class Solution:\n",
    "    def singleNumber(self, nums: List[int]) -> List[int]:\n",
    "        xor = 0 \n",
    "        for num in nums:\n",
    "            xor ^= num \n",
    "        diff_bit = 1 \n",
    "        while not(diff_bit & xor):\n",
    "            diff_bit = diff_bit << 1\n",
    "        a, b = 0, 0\n",
    "        for num in nums:\n",
    "            if diff_bit & num:\n",
    "                a = a ^ num \n",
    "            else:\n",
    "                b = b ^ num \n",
    "        return [a, b]\n",
    "    \n",
    "solution = Solution()\n",
    "solution.singleNumber([1,2,1,3,2,5])"
   ]
  },
  {
   "cell_type": "code",
   "execution_count": null,
   "id": "c9cce06c",
   "metadata": {},
   "outputs": [],
   "source": []
  },
  {
   "cell_type": "markdown",
   "id": "16bf225e",
   "metadata": {},
   "source": [
    "### Linked Lists"
   ]
  },
  {
   "cell_type": "markdown",
   "id": "8b44b164",
   "metadata": {},
   "source": [
    "19. Remove Nth Node From End of List"
   ]
  },
  {
   "cell_type": "code",
   "execution_count": 106,
   "id": "9fcc51c8",
   "metadata": {},
   "outputs": [
    {
     "name": "stdout",
     "output_type": "stream",
     "text": [
      "1\n",
      "2\n",
      "3\n",
      "5\n"
     ]
    }
   ],
   "source": [
    "''' \n",
    "Input: head = [1,2,3,4,5], n = 2\n",
    "Output: [1,2,3,5]\n",
    "'''\n",
    "class ListNode:\n",
    "    def __init__(self, val, next=None):\n",
    "        self.val = val\n",
    "        self.next = next\n",
    "\n",
    "\n",
    "class Solution:\n",
    "    def removeNthFromEnd(self, head, n):\n",
    "        dummy = ListNode(0, head)\n",
    "        slow = fast = dummy \n",
    "        for _ in range(n + 1):\n",
    "            if fast:\n",
    "                fast = fast.next \n",
    "            else:\n",
    "                return head\n",
    "\n",
    "        while fast:\n",
    "            fast = fast.next \n",
    "            slow = slow.next \n",
    "\n",
    "        if slow.next:\n",
    "            slow.next = slow.next.next \n",
    "        return dummy.next \n",
    "    \n",
    "def print_list(node):\n",
    "    temp = node\n",
    "    while temp:\n",
    "        print(temp.val)\n",
    "        temp = temp.next\n",
    "\n",
    "solution = Solution()\n",
    "res = solution.removeNthFromEnd(ListNode(1, ListNode(2, ListNode(3, ListNode(4, ListNode(5))))), 2)\n",
    "print_list(res)\n"
   ]
  },
  {
   "cell_type": "markdown",
   "id": "ab2e0eba",
   "metadata": {},
   "source": [
    "24. Swap Nodes in Pairs"
   ]
  },
  {
   "cell_type": "code",
   "execution_count": 112,
   "id": "59e640ba",
   "metadata": {},
   "outputs": [
    {
     "name": "stdout",
     "output_type": "stream",
     "text": [
      "2\n",
      "1\n",
      "4\n",
      "3\n"
     ]
    }
   ],
   "source": [
    "''' \n",
    "Input: head = [1,2,3,4]\n",
    "\n",
    "Output: [2,1,4,3]\n",
    "'''\n",
    "\n",
    "from typing import Optional\n",
    "\n",
    "class ListNode:\n",
    "    def __init__(self, val=0, next=None):\n",
    "        self.val = val\n",
    "        self.next = next\n",
    "class Solution:\n",
    "    def swapPairs(self, head: Optional[ListNode]) -> Optional[ListNode]:\n",
    "        dummy = ListNode(0, head)\n",
    "        prev = dummy \n",
    "        cur = dummy.next\n",
    "\n",
    "        while cur and cur.next:\n",
    "            first = cur \n",
    "            second = cur.next\n",
    "\n",
    "            prev.next = second\n",
    "            first.next = second.next \n",
    "            second.next = first \n",
    "\n",
    "            prev = first \n",
    "            cur = first.next \n",
    "        return dummy.next\n",
    "    \n",
    "solution = Solution()\n",
    "res = solution.swapPairs(ListNode(1, ListNode(2, ListNode(3, ListNode(4)))))\n",
    "print_list(res)"
   ]
  },
  {
   "cell_type": "markdown",
   "id": "137ca6a1",
   "metadata": {},
   "source": [
    "2. Add Two Numbers"
   ]
  },
  {
   "cell_type": "code",
   "execution_count": 128,
   "id": "507f1fd9",
   "metadata": {},
   "outputs": [
    {
     "name": "stdout",
     "output_type": "stream",
     "text": [
      "7\n",
      "0\n",
      "8\n"
     ]
    }
   ],
   "source": [
    "''' \n",
    "Input: l1 = [2,4,3], l2 = [5,6,4]\n",
    "Output: [7,0,8]\n",
    "Explanation: 342 + 465 = 807.\n",
    "'''\n",
    "\n",
    "class ListNode:\n",
    "    def __init__(self, val=0, next=None):\n",
    "        self.val = val\n",
    "        self.next = next\n",
    "class Solution:\n",
    "    def addTwoNumbers(self, l1: Optional[ListNode], l2: Optional[ListNode]) -> Optional[ListNode]:\n",
    "        dummy = ListNode()\n",
    "        cur = dummy\n",
    "        carry = 0\n",
    "        while l1 or l2 or carry:\n",
    "            l1_val = l1.val if l1 else 0 \n",
    "            l2_val = l2.val if l2 else 0 \n",
    "\n",
    "            cur_sum = l1_val + l2_val + carry\n",
    "            carry = cur_sum // 10\n",
    "            val = cur_sum % 10 \n",
    "            cur.next = ListNode(val)\n",
    "             \n",
    "            cur = cur.next\n",
    "            l1 = l1.next if l1 else None \n",
    "            l2 = l2.next if l2 else None\n",
    "        return dummy.next\n",
    "    \n",
    "\n",
    "solution = Solution()\n",
    "res = solution.addTwoNumbers(ListNode(2, ListNode(4, ListNode(3))), ListNode(5, ListNode(6, ListNode(4))))\n",
    "print_list(res)\n"
   ]
  },
  {
   "cell_type": "markdown",
   "id": "621478fd",
   "metadata": {},
   "source": [
    "### Linked List Fast and Slow Pointers"
   ]
  },
  {
   "cell_type": "markdown",
   "id": "ed7d5832",
   "metadata": {},
   "source": [
    "142. Linked List Cycle II"
   ]
  },
  {
   "cell_type": "code",
   "execution_count": 129,
   "id": "48a72e58",
   "metadata": {},
   "outputs": [
    {
     "name": "stdout",
     "output_type": "stream",
     "text": [
      "2\n"
     ]
    }
   ],
   "source": [
    "''' \n",
    "Input: head = [3,2,0,-4], pos = 1\n",
    "Output: tail connects to node index 1\n",
    "Explanation: There is a cycle in the linked list, where tail connects to the second node.\n",
    "'''\n",
    "\n",
    "class ListNode:\n",
    "    def __init__(self, x, next = None):\n",
    "        self.val = x\n",
    "        self.next = next\n",
    "\n",
    "class Solution:\n",
    "    def detectCycle(self, head: Optional[ListNode]) -> Optional[ListNode]:\n",
    "        slow = fast = head \n",
    "\n",
    "        while fast and fast.next:\n",
    "            fast = fast.next.next \n",
    "            slow = slow.next \n",
    "\n",
    "            if slow == fast:\n",
    "                break\n",
    "        else:\n",
    "            return None\n",
    "        \n",
    "        fast = head \n",
    "        while slow != fast:\n",
    "            slow = slow.next \n",
    "            fast = fast.next \n",
    "        \n",
    "        return slow\n",
    "# Define nodes\n",
    "node4 = ListNode(-4)\n",
    "node3 = ListNode(0, node4)\n",
    "node2 = ListNode(2, node3)\n",
    "node1 = ListNode(3, node2)\n",
    "\n",
    "# Create the cycle: last node points back to node2\n",
    "node4.next = node2\n",
    "\n",
    "# Now test\n",
    "solution = Solution()\n",
    "cycle_start = solution.detectCycle(node1)\n",
    "print(cycle_start.val if cycle_start else None)"
   ]
  },
  {
   "cell_type": "code",
   "execution_count": null,
   "id": "1ca31bc7",
   "metadata": {},
   "outputs": [],
   "source": []
  },
  {
   "cell_type": "markdown",
   "id": "e1dd0ff5",
   "metadata": {},
   "source": [
    "### Linked List In-Place Reversal"
   ]
  },
  {
   "cell_type": "markdown",
   "id": "041b0b26",
   "metadata": {},
   "source": [
    "25. Reverse Nodes in k-Group"
   ]
  },
  {
   "cell_type": "code",
   "execution_count": 135,
   "id": "d5596955",
   "metadata": {},
   "outputs": [
    {
     "name": "stdout",
     "output_type": "stream",
     "text": [
      "2\n",
      "1\n",
      "4\n",
      "3\n",
      "5\n"
     ]
    }
   ],
   "source": [
    "''' \n",
    "Input: head = [1,2,3,4,5], k = 2\n",
    "Output: [2,1,4,3,5]\n",
    "'''\n",
    "\n",
    "class ListNode:\n",
    "    def __init__(self, val=0, next=None):\n",
    "        self.val = val\n",
    "        self.next = next\n",
    "class Solution:\n",
    "    def reverseKGroup(self, head, k):\n",
    "\n",
    "        def get_kth_node(node, k):\n",
    "            while node and k > 0:\n",
    "                node = node.next \n",
    "                k -= 1\n",
    "            return node \n",
    "        \n",
    "        dummy = ListNode(0, head)\n",
    "        grp_prev = dummy\n",
    "\n",
    "        while True:\n",
    "            kth = get_kth_node(grp_prev, k)\n",
    "            if not kth:\n",
    "                break\n",
    "            grp_next = kth.next\n",
    "\n",
    "            prev = grp_next\n",
    "            cur = grp_prev.next\n",
    "\n",
    "            while cur != grp_next:\n",
    "                temp = cur.next \n",
    "                cur.next = prev \n",
    "                prev = cur \n",
    "                cur = temp \n",
    "            \n",
    "            temp = grp_prev.next\n",
    "            grp_prev.next = kth\n",
    "            grp_prev = temp\n",
    "\n",
    "        return dummy.next\n",
    "            \n",
    "solution = Solution()\n",
    "res = solution.reverseKGroup(ListNode(1, ListNode(2, ListNode(3, ListNode(4, ListNode(5))))), 2)\n",
    "print_list(res)"
   ]
  },
  {
   "cell_type": "code",
   "execution_count": null,
   "id": "91ffb3ae",
   "metadata": {},
   "outputs": [],
   "source": []
  },
  {
   "cell_type": "markdown",
   "id": "d03a2505",
   "metadata": {},
   "source": [
    "### K - Way Merge"
   ]
  },
  {
   "cell_type": "markdown",
   "id": "88ee8115",
   "metadata": {},
   "source": [
    "23. Merge k Sorted Lists"
   ]
  },
  {
   "cell_type": "code",
   "execution_count": 141,
   "id": "071577c8",
   "metadata": {},
   "outputs": [
    {
     "name": "stdout",
     "output_type": "stream",
     "text": [
      "[1, 1, 2, 3, 4, 4, 5, 6]\n"
     ]
    }
   ],
   "source": [
    "''' \n",
    "Input: lists = [[1,4,5],[1,3,4],[2,6]]\n",
    "Output: [1,1,2,3,4,4,5,6]\n",
    "Explanation: The linked-lists are:\n",
    "[\n",
    "  1->4->5,\n",
    "  1->3->4,\n",
    "  2->6\n",
    "]\n",
    "merging them into one sorted list:\n",
    "1->1->2->3->4->4->5->6\n",
    "'''\n",
    "\n",
    "from typing import List, Optional\n",
    "\n",
    "class ListNode:\n",
    "    def __init__(self, val=0, next=None):\n",
    "        self.val = val\n",
    "        self.next = next\n",
    "class Solution:\n",
    "    def mergeKLists(self, lists: List[Optional[ListNode]]) -> Optional[ListNode]:\n",
    "        while len(lists) > 1:\n",
    "            res = []\n",
    "            for i in range(0, len(lists), 2):\n",
    "                l1 = lists[i]\n",
    "                l2 = lists[i + 1] if (i + 1) < len(lists) else None \n",
    "                res.append(self.merge(l1, l2))\n",
    "            lists = res\n",
    "        return lists[0]\n",
    "\n",
    "    def merge(self, l1, l2):\n",
    "        dummy = ListNode()\n",
    "        cur = dummy\n",
    "\n",
    "        while l1 and l2:\n",
    "            if l1.val < l2.val:\n",
    "                cur.next = l1 \n",
    "                l1 = l1.next \n",
    "            else:\n",
    "                cur.next = l2\n",
    "                l2 =l2.next\n",
    "            cur = cur.next\n",
    "        \n",
    "        if l1:\n",
    "            cur.next = l1 \n",
    "        if l2:\n",
    "            cur.next = l2 \n",
    "        \n",
    "        return dummy.next\n",
    "    \n",
    "\n",
    "def build_linked_list(arr):\n",
    "    dummy = ListNode()\n",
    "    curr = dummy\n",
    "    for num in arr:\n",
    "        curr.next = ListNode(num)\n",
    "        curr = curr.next\n",
    "    return dummy.next\n",
    "\n",
    "def print_linked_list(head):\n",
    "    result = []\n",
    "    while head:\n",
    "        result.append(head.val)\n",
    "        head = head.next\n",
    "    print(result)\n",
    "\n",
    "\n",
    "lists = [[1,4,5],[1,3,4],[2,6]]\n",
    "linked_lists = [build_linked_list(lst) for lst in lists]\n",
    "\n",
    "solution = Solution()\n",
    "merged_head = solution.mergeKLists(linked_lists)\n",
    "print_linked_list(merged_head)  # Output should be [1,1,2,3,4,4,5,6]"
   ]
  },
  {
   "cell_type": "markdown",
   "id": "d1eb6dbe",
   "metadata": {},
   "source": [
    "### Stacks"
   ]
  },
  {
   "cell_type": "markdown",
   "id": "ac3b91a2",
   "metadata": {},
   "source": [
    "20. Valid Parentheses"
   ]
  },
  {
   "cell_type": "code",
   "execution_count": 143,
   "id": "9997f722",
   "metadata": {},
   "outputs": [
    {
     "data": {
      "text/plain": [
       "True"
      ]
     },
     "execution_count": 143,
     "metadata": {},
     "output_type": "execute_result"
    }
   ],
   "source": [
    "''' \n",
    "Input: s = \"()[]{}\"\n",
    "\n",
    "Output: true\n",
    "'''\n",
    "\n",
    "class Solution:\n",
    "    def isValid(self, s: str) -> bool:\n",
    "        stack = []\n",
    "        for c in s:\n",
    "            if c in '({[':\n",
    "                stack.append(c)\n",
    "            else:\n",
    "                if len(stack) > 0 and \\\n",
    "                    ((c == ')' and stack[-1] == '(') or \\\n",
    "                     (c == ']' and stack[-1] == '[') or \\\n",
    "                        (c == '}' and stack[-1] == '{')):\n",
    "                    stack.pop()\n",
    "                else:\n",
    "                    return False\n",
    "        return len(stack) == 0 \n",
    "    \n",
    "solution = Solution()\n",
    "solution.isValid(\"()[]{}\")"
   ]
  },
  {
   "cell_type": "markdown",
   "id": "12bd3aca",
   "metadata": {},
   "source": [
    "155. Min Stack"
   ]
  },
  {
   "cell_type": "code",
   "execution_count": 153,
   "id": "03842e58",
   "metadata": {},
   "outputs": [
    {
     "name": "stdout",
     "output_type": "stream",
     "text": [
      "[0, 0]\n",
      "1 0\n",
      "0\n"
     ]
    }
   ],
   "source": [
    "''' \n",
    "Input\n",
    "[\"MinStack\",\"push\",\"push\",\"push\",\"getMin\",\"pop\",\"top\",\"getMin\"]\n",
    "[[],[-2],[0],[-3],[],[],[],[]]\n",
    "\n",
    "Output\n",
    "[null,null,null,null,-3,null,0,-2]\n",
    "\n",
    "Explanation\n",
    "MinStack minStack = new MinStack();\n",
    "minStack.push(-2);\n",
    "minStack.push(0);\n",
    "minStack.push(-3);\n",
    "minStack.getMin(); // return -3\n",
    "minStack.pop();\n",
    "minStack.top();    // return 0\n",
    "minStack.getMin(); // return -2\n",
    "'''\n",
    "\n",
    "class MinStack:\n",
    "\n",
    "    def __init__(self):\n",
    "        self.stack = []\n",
    "        self.min_stack = []\n",
    "\n",
    "    def push(self, num):\n",
    "        self.stack.append(num)\n",
    "        if (not self.min_stack) or (self.min_stack and num <= self.min_stack[-1]):\n",
    "            self.min_stack.append(num)\n",
    "    \n",
    "    def getMin(self):\n",
    "        return self.min_stack and self.min_stack[-1]\n",
    "    \n",
    "    def pop(self):\n",
    "        val = self.stack.pop()\n",
    "        if self.min_stack and self.min_stack[-1] == val:\n",
    "            self.min_stack.pop()\n",
    "\n",
    "    def top(self):\n",
    "        return self.stack[-1]\n",
    "\n",
    "\n",
    "# Your MinStack object will be instantiated and called as such:\n",
    "obj = MinStack()\n",
    "obj.push(0)\n",
    "obj.push(1)\n",
    "obj.push(0)\n",
    "print(obj.min_stack)\n",
    "param_4 = obj.getMin()\n",
    "obj.pop()\n",
    "param_3 = obj.top()\n",
    "print(param_3, param_4)\n",
    "print(obj.getMin())"
   ]
  },
  {
   "cell_type": "markdown",
   "id": "e2eebdc0",
   "metadata": {},
   "source": [
    "### Monotonic Stack"
   ]
  },
  {
   "cell_type": "markdown",
   "id": "1df8022e",
   "metadata": {},
   "source": [
    "84. Largest Rectangle in Histogram"
   ]
  },
  {
   "cell_type": "code",
   "execution_count": 157,
   "id": "5829be48",
   "metadata": {},
   "outputs": [
    {
     "data": {
      "text/plain": [
       "10"
      ]
     },
     "execution_count": 157,
     "metadata": {},
     "output_type": "execute_result"
    }
   ],
   "source": [
    "''' \n",
    "Input: heights = [2,1,5,6,2,3]\n",
    "Output: 10\n",
    "Explanation: The above is a histogram where width of each bar is 1.\n",
    "The largest rectangle is shown in the red area, which has an area = 10 units.\n",
    "'''\n",
    "\n",
    "from typing import List\n",
    "\n",
    "class Solution:\n",
    "    def largestRectangleArea(self, heights: List[int]) -> int:\n",
    "        max_area = 0 \n",
    "        stack = []\n",
    "        for i, h in enumerate(heights):\n",
    "            start = i\n",
    "            while stack and stack[-1][1] > h:\n",
    "                index, height = stack.pop()\n",
    "                max_area = max(max_area, height * (i - index))\n",
    "                start = index\n",
    "            stack.append([start, h])\n",
    "\n",
    "        for i, h in stack:\n",
    "            max_area = max(max_area, h * (len(heights) - i))\n",
    "        return max_area\n",
    "    \n",
    "\n",
    "solution = Solution()\n",
    "solution.largestRectangleArea([2,1,5,6,2,3])"
   ]
  },
  {
   "cell_type": "markdown",
   "id": "227ce18a",
   "metadata": {},
   "source": [
    "### Monotonic Queue"
   ]
  },
  {
   "cell_type": "markdown",
   "id": "a230bcbe",
   "metadata": {},
   "source": [
    "239. Sliding Window Maximum"
   ]
  },
  {
   "cell_type": "code",
   "execution_count": 170,
   "id": "c7b50fd7",
   "metadata": {},
   "outputs": [
    {
     "data": {
      "text/plain": [
       "[3, 3, 5, 5, 6, 7]"
      ]
     },
     "execution_count": 170,
     "metadata": {},
     "output_type": "execute_result"
    }
   ],
   "source": [
    "''' \n",
    "Input: nums = [1,3,-1,-3,5,3,6,7], k = 3\n",
    "Output: [3,3,5,5,6,7]\n",
    "Explanation: \n",
    "Window position                Max\n",
    "---------------               -----\n",
    "[1  3  -1] -3  5  3  6  7       3\n",
    " 1 [3  -1  -3] 5  3  6  7       3\n",
    " 1  3 [-1  -3  5] 3  6  7       5\n",
    " 1  3  -1 [-3  5  3] 6  7       5\n",
    " 1  3  -1  -3 [5  3  6] 7       6\n",
    " 1  3  -1  -3  5 [3  6  7]      7\n",
    "'''\n",
    "\n",
    "from collections import deque\n",
    "from typing import List\n",
    "\n",
    "class Solution:\n",
    "    def maxSlidingWindow(self, nums: List[int], k: int) -> List[int]:\n",
    "        queue = deque([]) # index, num\n",
    "        res = []\n",
    "        for i, num in enumerate(nums):\n",
    "            if queue and queue[0][0] <= i - k:\n",
    "                queue.popleft()\n",
    "            \n",
    "            while queue and queue[-1][1] < num:\n",
    "                queue.pop()\n",
    "            queue.append([i, num])\n",
    "\n",
    "            if i >= k - 1:\n",
    "                res.append(queue[0][1])\n",
    "        return res \n",
    "    \n",
    "solution = Solution()\n",
    "solution.maxSlidingWindow(nums = [1,3,-1,-3,5,3,6,7], k = 3)"
   ]
  },
  {
   "cell_type": "markdown",
   "id": "975d796a",
   "metadata": {},
   "source": [
    "### Dutch Flag algorithm"
   ]
  },
  {
   "cell_type": "markdown",
   "id": "3e6a2175",
   "metadata": {},
   "source": [
    "75. Sort Colors"
   ]
  },
  {
   "cell_type": "code",
   "execution_count": 174,
   "id": "36fd0e01",
   "metadata": {},
   "outputs": [
    {
     "data": {
      "text/plain": [
       "[0, 0, 1, 1, 2, 2]"
      ]
     },
     "execution_count": 174,
     "metadata": {},
     "output_type": "execute_result"
    }
   ],
   "source": [
    "''' \n",
    "Input: nums = [2,0,2,1,1,0]\n",
    "Output: [0,0,1,1,2,2]\n",
    "'''\n",
    "\n",
    "class Solution:\n",
    "    def sortColors(self, nums: List[int]) -> None:\n",
    "        \"\"\"\n",
    "        Do not return anything, modify nums in-place instead.\n",
    "        \"\"\"\n",
    "        low, mid, high = 0, 0, len(nums) - 1\n",
    "        while mid <= high:\n",
    "            if nums[mid] == 0:\n",
    "                nums[low], nums[mid] = nums[mid], nums[low]\n",
    "                mid += 1\n",
    "            elif nums[mid] == 1: \n",
    "                mid += 1\n",
    "            else:\n",
    "                nums[mid], nums[high] = nums[high], nums[mid]\n",
    "                high -= 1\n",
    "        return nums \n",
    "    \n",
    "solution = Solution()\n",
    "solution.sortColors([2,0,2,1,1,0])"
   ]
  },
  {
   "cell_type": "markdown",
   "id": "57724be3",
   "metadata": {},
   "source": [
    "### Binary Search"
   ]
  },
  {
   "cell_type": "markdown",
   "id": "42d62422",
   "metadata": {},
   "source": [
    "34. Find First and Last Position of Element in Sorted Array"
   ]
  },
  {
   "cell_type": "code",
   "execution_count": 6,
   "id": "a0d6783b",
   "metadata": {},
   "outputs": [
    {
     "data": {
      "text/plain": [
       "[3, 4]"
      ]
     },
     "execution_count": 6,
     "metadata": {},
     "output_type": "execute_result"
    }
   ],
   "source": [
    "''' \n",
    "Input: nums = [5,7,7,8,8,10], target = 8\n",
    "Output: [3,4]\n",
    "'''\n",
    "\n",
    "from typing import List\n",
    "class Solution:\n",
    "    def searchRange(self, nums: List[int], target: int) -> List[int]:\n",
    "        left = self.binary_search(nums, target, True)\n",
    "        right = self.binary_search(nums, target, False)\n",
    "        return [left, right]\n",
    "    \n",
    "    def binary_search(self, nums, target, left_bias):\n",
    "        left = 0 \n",
    "        right = len(nums) - 1\n",
    "\n",
    "        while left <= right:\n",
    "            mid = left + ((right - left) // 2)\n",
    "            if nums[mid] == target:\n",
    "                res = mid\n",
    "                if left_bias:\n",
    "                    right = mid - 1\n",
    "                else:\n",
    "                    left = mid + 1\n",
    "            elif nums[mid] > target:\n",
    "                right = mid - 1 \n",
    "            else:\n",
    "                left = mid + 1\n",
    "        return res\n",
    "\n",
    "\n",
    "solution = Solution()\n",
    "solution.searchRange([5,7,7,8,8,10], 8)"
   ]
  },
  {
   "cell_type": "markdown",
   "id": "5cf6f070",
   "metadata": {},
   "source": [
    "33. Search in Rotated Sorted Array"
   ]
  },
  {
   "cell_type": "code",
   "execution_count": 11,
   "id": "34324e1a",
   "metadata": {},
   "outputs": [
    {
     "data": {
      "text/plain": [
       "4"
      ]
     },
     "execution_count": 11,
     "metadata": {},
     "output_type": "execute_result"
    }
   ],
   "source": [
    "''' \n",
    "Input: nums = [4,5,6,7,0,1,2], target = 0\n",
    "Output: 4\n",
    "'''\n",
    "\n",
    "class Solution:\n",
    "    def search(self, nums: List[int], target: int) -> int:\n",
    "        return self.binary_search(nums, 0, len(nums) - 1, target)\n",
    "    \n",
    "    def binary_search(self, nums, left, right, target):\n",
    "        if len(nums) == 0:\n",
    "            return -1\n",
    "        if left > right:\n",
    "            return -1\n",
    "\n",
    "        mid = left + (right - left) // 2\n",
    "        if nums[mid] == target:\n",
    "            return mid \n",
    "        \n",
    "        if nums[mid] >= nums[left]:\n",
    "            if target <= nums[mid] and target >= nums[left]:\n",
    "                return self.binary_search(nums, left, mid - 1, target)\n",
    "            else:\n",
    "                return self.binary_search(nums, mid + 1, right, target)\n",
    "        else:\n",
    "            if target >= nums[mid] and target <= nums[right]:\n",
    "                return self.binary_search(nums, mid + 1, right, target)\n",
    "            else:\n",
    "                return self.binary_search(nums, left, mid - 1, target)\n",
    "            \n",
    "solution = Solution()\n",
    "solution.search(nums = [4,5,6,7,0,1,2], target = 0)"
   ]
  },
  {
   "cell_type": "markdown",
   "id": "b95a65ab",
   "metadata": {},
   "source": [
    "4. Median of Two Sorted Arrays"
   ]
  },
  {
   "cell_type": "code",
   "execution_count": 32,
   "id": "b1dfcb7d",
   "metadata": {},
   "outputs": [
    {
     "data": {
      "text/plain": [
       "4.5"
      ]
     },
     "execution_count": 32,
     "metadata": {},
     "output_type": "execute_result"
    }
   ],
   "source": [
    "''' \n",
    "Input: nums1 = [1,3], nums2 = [2]\n",
    "Output: 2.00000\n",
    "Explanation: merged array = [1,2,3] and median is 2.\n",
    "'''\n",
    "\n",
    "class Solution:\n",
    "    def findMedianSortedArrays(self, nums1, nums2):\n",
    "        # Make sure nums1 is the smaller array\n",
    "        if len(nums1) > len(nums2):\n",
    "            nums1, nums2 = nums2, nums1\n",
    "\n",
    "        x = len(nums1)\n",
    "        y = len(nums2)\n",
    "\n",
    "        low = 0\n",
    "        high = x\n",
    "\n",
    "        while low <= high:\n",
    "            # Partition both arrays\n",
    "            partitionX = (low + high) // 2\n",
    "            partitionY = (x + y + 1) // 2 - partitionX\n",
    "\n",
    "            # Edge values (handle out-of-bounds with infinities)\n",
    "            maxLeftX = float('-inf') if partitionX == 0 else nums1[partitionX - 1]\n",
    "            minRightX = float('inf') if partitionX == x else nums1[partitionX]\n",
    "\n",
    "            maxLeftY = float('-inf') if partitionY == 0 else nums2[partitionY - 1]\n",
    "            minRightY = float('inf') if partitionY == y else nums2[partitionY]\n",
    "\n",
    "            # Check if we’ve found the correct partition\n",
    "            if maxLeftX <= minRightY and maxLeftY <= minRightX:\n",
    "                if (x + y) % 2 == 0:\n",
    "                    return (max(maxLeftX, maxLeftY) + min(minRightX, minRightY)) / 2\n",
    "                else:\n",
    "                    return max(maxLeftX, maxLeftY)\n",
    "            elif maxLeftX > minRightY:\n",
    "                # Move left in nums1\n",
    "                high = partitionX - 1\n",
    "            else:\n",
    "                # Move right in nums1\n",
    "                low = partitionX + 1\n",
    "\n",
    "        raise ValueError(\"Input arrays are not sorted properly\")\n",
    "\n",
    "\n",
    "solution = Solution()\n",
    "solution.findMedianSortedArrays(nums1 = [1,3,4,5], nums2 = [5,6])"
   ]
  },
  {
   "cell_type": "markdown",
   "id": "446901eb",
   "metadata": {},
   "source": [
    "### Backtracking"
   ]
  },
  {
   "cell_type": "markdown",
   "id": "e8299cc5",
   "metadata": {},
   "source": [
    "22. Generate Parentheses"
   ]
  },
  {
   "cell_type": "code",
   "execution_count": 34,
   "id": "df0ea236",
   "metadata": {},
   "outputs": [
    {
     "data": {
      "text/plain": [
       "['((()))', '(()())', '(())()', '()(())', '()()()']"
      ]
     },
     "execution_count": 34,
     "metadata": {},
     "output_type": "execute_result"
    }
   ],
   "source": [
    "''' \n",
    "Input: n = 3\n",
    "Output: [\"((()))\",\"(()())\",\"(())()\",\"()(())\",\"()()()\"]\n",
    "'''\n",
    "\n",
    "from typing import List\n",
    "\n",
    "class Solution:\n",
    "    def generateParenthesis(self, n: int) -> List[str]:\n",
    "        res = []\n",
    "        def backtrack(path, open_count, close_count):\n",
    "            if open_count == close_count == n:\n",
    "                return res.append(path)\n",
    "\n",
    "            if open_count < n:\n",
    "                backtrack(path + '(', open_count + 1, close_count)\n",
    "\n",
    "            if close_count < open_count:\n",
    "                backtrack(path + ')', open_count, close_count + 1)\n",
    "            return res \n",
    "        return backtrack('', 0, 0)\n",
    "solution = Solution()\n",
    "solution.generateParenthesis(3)"
   ]
  },
  {
   "cell_type": "markdown",
   "id": "2b1f1f0e",
   "metadata": {},
   "source": [
    "46. Permutations"
   ]
  },
  {
   "cell_type": "code",
   "execution_count": 41,
   "id": "f4caa6eb",
   "metadata": {},
   "outputs": [
    {
     "data": {
      "text/plain": [
       "[[1, 2, 3], [1, 3, 2], [2, 1, 3], [2, 3, 1], [3, 1, 2], [3, 2, 1]]"
      ]
     },
     "execution_count": 41,
     "metadata": {},
     "output_type": "execute_result"
    }
   ],
   "source": [
    "''' \n",
    "Input: nums = [1,2,3]\n",
    "Output: [[1,2,3],[1,3,2],[2,1,3],[2,3,1],[3,1,2],[3,2,1]]\n",
    "'''\n",
    "\n",
    "class Solution:\n",
    "    def permutations(self, nums: List[int]) -> List[int]:\n",
    "        res = []\n",
    "        used = [False] * len(nums)\n",
    "        def backtrack(path):\n",
    "            if len(path) == 3:\n",
    "                res.append(path[:])\n",
    "                return\n",
    "            for i in range(len(nums)):\n",
    "                if used[i]:\n",
    "                    continue\n",
    "                path.append(nums[i])\n",
    "                used[i] = True\n",
    "                backtrack(path)\n",
    "                path.pop()\n",
    "                used[i] = False\n",
    "            return res \n",
    "        \n",
    "        return backtrack([])\n",
    "solution = Solution()\n",
    "solution.permutations([1, 2, 3])\n",
    "\n",
    "\n"
   ]
  },
  {
   "cell_type": "markdown",
   "id": "c99e07d4",
   "metadata": {},
   "source": [
    "78. Subsets"
   ]
  },
  {
   "cell_type": "code",
   "execution_count": 56,
   "id": "3883191f",
   "metadata": {},
   "outputs": [
    {
     "data": {
      "text/plain": [
       "[[], [1], [1, 2], [1, 2, 3], [1, 3], [2], [2, 3], [3]]"
      ]
     },
     "execution_count": 56,
     "metadata": {},
     "output_type": "execute_result"
    }
   ],
   "source": [
    "''' \n",
    "Input: nums = [1,2,3]\n",
    "Output: [[],[1],[2],[1,2],[3],[1,3],[2,3],[1,2,3]]\n",
    "'''\n",
    "\n",
    "class Solution:\n",
    "    def subsets(self, nums: List[int]) -> List[int]:\n",
    "        res = []\n",
    "        def backtrack(start, path):\n",
    "            res.append(path[:])\n",
    "\n",
    "            for end in range(start, len(nums)):\n",
    "                path.append(nums[end])\n",
    "                #print(path)\n",
    "                backtrack(end + 1, path)\n",
    "                path.pop()\n",
    "            return res \n",
    "        return backtrack(0, [])\n",
    "solution = Solution()\n",
    "solution.subsets([1, 2, 3])"
   ]
  },
  {
   "cell_type": "markdown",
   "id": "d588c637",
   "metadata": {},
   "source": [
    "### Tree "
   ]
  },
  {
   "cell_type": "markdown",
   "id": "2c063510",
   "metadata": {},
   "source": [
    "102. Binary Tree Level Order Traversal"
   ]
  },
  {
   "cell_type": "code",
   "execution_count": 59,
   "id": "6df16a81",
   "metadata": {},
   "outputs": [
    {
     "data": {
      "text/plain": [
       "[[3], [9, 20], [15, 7]]"
      ]
     },
     "execution_count": 59,
     "metadata": {},
     "output_type": "execute_result"
    }
   ],
   "source": [
    "''' \n",
    "Input: root = [3,9,20,null,null,15,7]\n",
    "Output: [[3],[9,20],[15,7]]\n",
    "'''\n",
    "from typing import List, Optional\n",
    "from collections import deque\n",
    "class TreeNode:\n",
    "    def __init__(self, val = 0, left=None, right=None):\n",
    "        self.left = left\n",
    "        self.right = right\n",
    "        self.val = val\n",
    "\n",
    "class Solution:\n",
    "    def levelOrder(self, root: Optional[TreeNode]) -> List[List[int]]:\n",
    "        if not root:\n",
    "            return []\n",
    "        queue = deque([root])\n",
    "        res = []\n",
    "        while queue:\n",
    "            level_size = len(queue)\n",
    "            level = []\n",
    "            for _ in range(level_size):\n",
    "                node = queue.popleft()\n",
    "                level.append(node.val)\n",
    "                if node.left:\n",
    "                    queue.append(node.left)\n",
    "                if node.right:\n",
    "                    queue.append(node.right)\n",
    "            res.append(level)\n",
    "        return res \n",
    "    \n",
    "root = TreeNode(3)\n",
    "root.left = TreeNode(9)\n",
    "root.right = TreeNode(20, TreeNode(15), TreeNode(7))\n",
    "solution = Solution()\n",
    "solution.levelOrder(root)\n"
   ]
  },
  {
   "cell_type": "markdown",
   "id": "980b2540",
   "metadata": {},
   "source": [
    "199. Binary Tree Right Side View"
   ]
  },
  {
   "cell_type": "code",
   "execution_count": 61,
   "id": "73a559a2",
   "metadata": {},
   "outputs": [
    {
     "data": {
      "text/plain": [
       "[1, 3, 4]"
      ]
     },
     "execution_count": 61,
     "metadata": {},
     "output_type": "execute_result"
    }
   ],
   "source": [
    "''' \n",
    "Input: root = [1,2,3,null,5,null,4]\n",
    "\n",
    "Output: [1,3,4]\n",
    "'''\n",
    "\n",
    "class TreeNode:\n",
    "    def __init__(self, val=0, left=None, right=None):\n",
    "        self.val = val\n",
    "        self.left = left\n",
    "        self.right = right\n",
    "class Solution:\n",
    "    def rightSideView(self, root: Optional[TreeNode]) -> List[int]:\n",
    "        queue = deque([root])\n",
    "        res = []\n",
    "        while queue:\n",
    "            level = []\n",
    "            level_size = len(queue)\n",
    "            for _ in range(level_size): \n",
    "                node = queue.popleft()\n",
    "                level.append(node.val)\n",
    "                if node.left:\n",
    "                    queue.append(node.left)\n",
    "                \n",
    "                if node.right:\n",
    "                    queue.append(node.right)\n",
    "            res.append(level[-1])\n",
    "        return res\n",
    "solution = Solution()\n",
    "root = TreeNode(1, TreeNode(2, None, TreeNode(5)), TreeNode(3, None, TreeNode(4)))\n",
    "solution.rightSideView(root)\n"
   ]
  },
  {
   "cell_type": "markdown",
   "id": "b957866a",
   "metadata": {},
   "source": [
    "### Pre-Order"
   ]
  },
  {
   "cell_type": "markdown",
   "id": "e124a3f0",
   "metadata": {},
   "source": [
    "144. Binary Tree Preorder Traversal"
   ]
  },
  {
   "cell_type": "code",
   "execution_count": 64,
   "id": "208a8db2",
   "metadata": {},
   "outputs": [
    {
     "data": {
      "text/plain": [
       "[1, 2, 3]"
      ]
     },
     "execution_count": 64,
     "metadata": {},
     "output_type": "execute_result"
    }
   ],
   "source": [
    "''' \n",
    "Input: root = [1,null,2,3]\n",
    "\n",
    "Output: [1,2,3]\n",
    "'''\n",
    "\n",
    "class TreeNode:\n",
    "    def __init__(self, val=0, left=None, right=None):\n",
    "        self.val = val\n",
    "        self.left = left\n",
    "        self.right = right\n",
    "class Solution:\n",
    "    def preorderTraversal(self, root: Optional[TreeNode]) -> List[int]:\n",
    "        res = []\n",
    "        def dfs(node):\n",
    "            if not node:\n",
    "                return\n",
    "            res.append(node.val)\n",
    "            if node.left:\n",
    "                dfs(node.left)\n",
    "            if node.right:\n",
    "                dfs(node.right)\n",
    "            return res\n",
    "        return dfs(root)\n",
    "\n",
    "solution = Solution()\n",
    "root = TreeNode(1, None, TreeNode(2, TreeNode(3), None))\n",
    "solution.preorderTraversal(root)"
   ]
  },
  {
   "cell_type": "code",
   "execution_count": 79,
   "id": "2e8b6407",
   "metadata": {},
   "outputs": [
    {
     "name": "stdout",
     "output_type": "stream",
     "text": [
      "1,2,N,N,3,4,N,N,5,N,N\n"
     ]
    },
    {
     "data": {
      "text/plain": [
       "'1,2,N,N,3,4,N,N,5,N,N'"
      ]
     },
     "execution_count": 79,
     "metadata": {},
     "output_type": "execute_result"
    }
   ],
   "source": [
    "''' \n",
    "Input: root = [1,2,3,null,null,4,5]\n",
    "Output: [1,2,3,null,null,4,5]\n",
    "'''\n",
    "\n",
    "class TreeNode(object):\n",
    "    def __init__(self, x, left=None, right= None):\n",
    "        self.val = x\n",
    "        self.left = left\n",
    "        self.right = right\n",
    "\n",
    "class Codec:\n",
    "\n",
    "    def serialize(self, root):\n",
    "        res = []\n",
    "        def dfs(node):\n",
    "            if not node:\n",
    "                res.append('N')\n",
    "                return \n",
    "            res.append(str(node.val))\n",
    "            dfs(node.left)\n",
    "            dfs(node.right)\n",
    "            return res\n",
    "        dfs(root)\n",
    "        return \",\".join(res)\n",
    "    \n",
    "    def deserialize(self, data):\n",
    "        \"\"\"Decodes your encoded data to tree.\n",
    "        \n",
    "        :type data: str\n",
    "        :rtype: TreeNode\n",
    "        \"\"\"\n",
    "        vals = data.split(',')\n",
    "        self.i = 0 \n",
    "\n",
    "        def dfs():\n",
    "            if vals[self.i] == 'N':\n",
    "                self.i += 1\n",
    "                return \n",
    "            \n",
    "            root = TreeNode(str(vals[self.i]))\n",
    "            self.i += 1\n",
    "            root.left = dfs()\n",
    "            root.right = dfs()\n",
    "            return root \n",
    "        return dfs()\n",
    "    \n",
    "\n",
    "solution = Codec()\n",
    "root = TreeNode(1)\n",
    "root.left = TreeNode(2)\n",
    "root.right = TreeNode(3, TreeNode(4), TreeNode(5))\n",
    "data = solution.serialize(root)\n",
    "print(data)\n",
    "root1 = solution.deserialize(data)\n",
    "solution.serialize(root1)\n"
   ]
  },
  {
   "cell_type": "markdown",
   "id": "a03ff0d2",
   "metadata": {},
   "source": [
    "437. Path Sum III"
   ]
  },
  {
   "cell_type": "code",
   "execution_count": 81,
   "id": "b4509c02",
   "metadata": {},
   "outputs": [],
   "source": [
    "''' \n",
    "Input: root = [10,5,-3,3,2,null,11,3,-2,null,1], targetSum = 8\n",
    "Output: 3\n",
    "Explanation: The paths that sum to 8 are shown.\n",
    "'''\n",
    "\n",
    "class Solution:\n",
    "    def pathSum(self, root: TreeNode, targetSum: int) -> int:\n",
    "        prefix_count = {0 : 1}\n",
    "\n",
    "        def dfs(node, cur_sum):\n",
    "            if not node:\n",
    "                return 0 \n",
    "            \n",
    "            cur_sum += node.val\n",
    "\n",
    "            count = prefix_count.get(cur_sum - targetSum, 0)\n",
    "            prefix_count[cur_sum] = prefix_count.get(cur_sum, 0) + 1\n",
    "            count += dfs(node.left)\n",
    "            count += dfs(node.right)\n",
    "            prefix_count[cur_sum] -= 1\n",
    "            return count \n",
    "        return dfs(root, 0)"
   ]
  },
  {
   "cell_type": "markdown",
   "id": "5d704abd",
   "metadata": {},
   "source": [
    "### In-Order Traversal"
   ]
  },
  {
   "cell_type": "markdown",
   "id": "28b6d622",
   "metadata": {},
   "source": [
    "94. Binary Tree Inorder Traversal"
   ]
  },
  {
   "cell_type": "code",
   "execution_count": 83,
   "id": "4db0cf2e",
   "metadata": {},
   "outputs": [
    {
     "data": {
      "text/plain": [
       "[1, 3, 2]"
      ]
     },
     "execution_count": 83,
     "metadata": {},
     "output_type": "execute_result"
    }
   ],
   "source": [
    "''' \n",
    "Input: root = [1,null,2,3]\n",
    "\n",
    "Output: [1,3,2]\n",
    "'''\n",
    "\n",
    "class TreeNode:\n",
    "    def __init__(self, val=0, left=None, right=None):\n",
    "        self.val = val\n",
    "        self.left = left\n",
    "        self.right = right\n",
    "class Solution:\n",
    "    def inorderTraversal(self, root: Optional[TreeNode]) -> List[int]:\n",
    "        res = []\n",
    "        def dfs(node):\n",
    "            if not node:\n",
    "                return\n",
    "            dfs(node.left)\n",
    "            res.append(node.val)\n",
    "            dfs(node.right)\n",
    "        dfs(root)\n",
    "        return res\n",
    "    \n",
    "solution = Solution()\n",
    "solution.inorderTraversal(TreeNode(1, None, TreeNode(2, TreeNode(3))))"
   ]
  },
  {
   "cell_type": "markdown",
   "id": "24042cc1",
   "metadata": {},
   "source": [
    "98. Validate Binary Search Tree"
   ]
  },
  {
   "cell_type": "code",
   "execution_count": 86,
   "id": "2aa8567b",
   "metadata": {},
   "outputs": [
    {
     "data": {
      "text/plain": [
       "True"
      ]
     },
     "execution_count": 86,
     "metadata": {},
     "output_type": "execute_result"
    }
   ],
   "source": [
    "'''\n",
    "\n",
    "A valid BST is defined as follows:\n",
    "\n",
    "The left subtree of a node contains only nodes with keys less than the node's key.\n",
    "The right subtree of a node contains only nodes with keys greater than the node's key.\n",
    "Both the left and right subtrees must also be binary search trees.\n",
    "\n",
    "\n",
    "Input: root = [2,1,3]\n",
    "Output: true\n",
    "'''\n",
    "\n",
    "class TreeNode:\n",
    "    def __init__(self, val=0, left=None, right=None):\n",
    "        self.val = val\n",
    "        self.left = left\n",
    "        self.right = right\n",
    "class Solution:\n",
    "    def isValidBST(self, root: Optional[TreeNode]) -> bool:\n",
    "        res = []\n",
    "        def dfs(node):\n",
    "            if not node:\n",
    "                return\n",
    "            dfs(node.left)\n",
    "            res.append(node.val)\n",
    "            dfs(node.right)\n",
    "        dfs(root)\n",
    "        \n",
    "        prev = res[0]\n",
    "        for i in res[1:]:\n",
    "            if prev >= i:\n",
    "                return False \n",
    "            prev = i\n",
    "        return True\n",
    "\n",
    "solution = Solution()\n",
    "solution.isValidBST(TreeNode(2, TreeNode(1), TreeNode(3)))"
   ]
  },
  {
   "cell_type": "markdown",
   "id": "4d62e2e4",
   "metadata": {},
   "source": [
    "230. Kth Smallest Element in a BST"
   ]
  },
  {
   "cell_type": "code",
   "execution_count": 87,
   "id": "b4b8df6a",
   "metadata": {},
   "outputs": [],
   "source": [
    "''' \n",
    "Input: root = [3,1,4,null,2], k = 1\n",
    "Output: 1\n",
    "'''\n",
    "\n",
    "class TreeNode:\n",
    "    def __init__(self, val=0, left=None, right=None):\n",
    "        self.val = val\n",
    "        self.left = left\n",
    "        self.right = right\n",
    "class Solution:\n",
    "    def kthSmallest(self, root: Optional[TreeNode], k: int) -> int:\n",
    "        res = []\n",
    "        def dfs(node):\n",
    "            if not node:\n",
    "                return\n",
    "            dfs(node.left)\n",
    "            res.append(node.val)\n",
    "            dfs(node.right)\n",
    "        dfs(root)\n",
    "        return res[k - 1] "
   ]
  },
  {
   "cell_type": "markdown",
   "id": "27cd4e5d",
   "metadata": {},
   "source": [
    "### Post-Order Traversal"
   ]
  },
  {
   "cell_type": "markdown",
   "id": "9b7ef06f",
   "metadata": {},
   "source": [
    "145. Binary Tree Postorder Traversal"
   ]
  },
  {
   "cell_type": "code",
   "execution_count": 88,
   "id": "fbcf774c",
   "metadata": {},
   "outputs": [
    {
     "data": {
      "text/plain": [
       "[3, 2, 1]"
      ]
     },
     "execution_count": 88,
     "metadata": {},
     "output_type": "execute_result"
    }
   ],
   "source": [
    "''' \n",
    "Input: root = [1,null,2,3]\n",
    "\n",
    "Output: [3,2,1]\n",
    "'''\n",
    "\n",
    "class TreeNode:\n",
    "    def __init__(self, val=0, left=None, right=None):\n",
    "        self.val = val\n",
    "        self.left = left\n",
    "        self.right = right\n",
    "class Solution:\n",
    "    def postorderTraversal(self, root: Optional[TreeNode]) -> List[int]:\n",
    "        res = []\n",
    "        def dfs(node):\n",
    "            if not node:\n",
    "                return \n",
    "            \n",
    "            dfs(node.left)\n",
    "            dfs(node.right)\n",
    "            res.append(node.val)\n",
    "        dfs(root)\n",
    "        return res \n",
    "    \n",
    "\n",
    "solution = Solution()\n",
    "solution.postorderTraversal(TreeNode(1, None, TreeNode(2, TreeNode(3))))"
   ]
  },
  {
   "cell_type": "markdown",
   "id": "f50ffbf0",
   "metadata": {},
   "source": [
    "236. Lowest Common Ancestor of a Binary Tree"
   ]
  },
  {
   "cell_type": "code",
   "execution_count": 89,
   "id": "8472708f",
   "metadata": {},
   "outputs": [],
   "source": [
    "''' \n",
    "Input: root = [3,5,1,6,2,0,8,null,null,7,4], p = 5, q = 1\n",
    "Output: 3\n",
    "Explanation: The LCA of nodes 5 and 1 is 3.\n",
    "'''\n",
    "\n",
    "class TreeNode:\n",
    "    def __init__(self, x):\n",
    "        self.val = x\n",
    "        self.left = None\n",
    "        self.right = None\n",
    "\n",
    "class Solution:\n",
    "    def lowestCommonAncestor(self, root: 'TreeNode', p: 'TreeNode', q: 'TreeNode') -> 'TreeNode':\n",
    "        if not root:\n",
    "            return\n",
    "        \n",
    "        if root == p or root == q:\n",
    "            return root\n",
    "        \n",
    "        left = self.lowestCommonAncestor(root.left, p, q)\n",
    "        right = self.lowestCommonAncestor(root.right, p, q)\n",
    "\n",
    "        if left and right:\n",
    "            return root\n",
    "        \n",
    "        return left if left else right\n"
   ]
  },
  {
   "cell_type": "markdown",
   "id": "c75d282c",
   "metadata": {},
   "source": [
    "124. Binary Tree Maximum Path Sum"
   ]
  },
  {
   "cell_type": "code",
   "execution_count": 90,
   "id": "fdb23b7a",
   "metadata": {},
   "outputs": [],
   "source": [
    "''' \n",
    "Input: root = [1,2,3]\n",
    "Output: 6\n",
    "Explanation: The optimal path is 2 -> 1 -> 3 with a path sum of 2 + 1 + 3 = 6.\n",
    "'''\n",
    "\n",
    "# Definition for a binary tree node.\n",
    "class TreeNode:\n",
    "    def __init__(self, val=0, left=None, right=None):\n",
    "        self.val = val\n",
    "        self.left = left\n",
    "        self.right = right\n",
    "\n",
    "class Solution:\n",
    "    def maxPathSum(self, root: Optional[TreeNode]) -> int:\n",
    "        self.max_sum = float('-inf')  # initialize global maximum\n",
    "\n",
    "        def dfs(node):\n",
    "            if not node:\n",
    "                return \n",
    "            left_max = max(dfs(node.left), 0)\n",
    "            right_max = max(dfs(node.right), 0)\n",
    "\n",
    "            curr_max = node.val + left_max + right_max\n",
    "\n",
    "            self.max_sum = max(self.max_sum, curr_max)\n",
    "            return node.val + max(left_max, right_max)\n",
    "        dfs(root)\n",
    "        return self.max_sum"
   ]
  },
  {
   "cell_type": "markdown",
   "id": "2c3303aa",
   "metadata": {},
   "source": [
    "### Two Heaps"
   ]
  },
  {
   "cell_type": "markdown",
   "id": "661eadc7",
   "metadata": {},
   "source": [
    "295. Find Median from Data Stream"
   ]
  },
  {
   "cell_type": "code",
   "execution_count": 107,
   "id": "e2171f8e",
   "metadata": {},
   "outputs": [
    {
     "data": {
      "text/plain": [
       "1.5"
      ]
     },
     "execution_count": 107,
     "metadata": {},
     "output_type": "execute_result"
    }
   ],
   "source": [
    "''' \n",
    "Input\n",
    "[\"MedianFinder\", \"addNum\", \"addNum\", \"findMedian\", \"addNum\", \"findMedian\"]\n",
    "[[], [1], [2], [], [3], []]\n",
    "Output\n",
    "[null, null, null, 1.5, null, 2.0]\n",
    "\n",
    "Explanation\n",
    "MedianFinder medianFinder = new MedianFinder();\n",
    "medianFinder.addNum(1);    // arr = [1]\n",
    "medianFinder.addNum(2);    // arr = [1, 2]\n",
    "medianFinder.findMedian(); // return 1.5 (i.e., (1 + 2) / 2)\n",
    "medianFinder.addNum(3);    // arr[1, 2, 3]\n",
    "medianFinder.findMedian(); // return 2.0\n",
    "'''\n",
    "\n",
    "''' \n",
    "Input\n",
    "[\"MedianFinder\", \"addNum\", \"addNum\", \"findMedian\", \"addNum\", \"findMedian\"]\n",
    "[[], [1], [2], [], [3], []]\n",
    "Output\n",
    "[null, null, null, 1.5, null, 2.0]\n",
    "\n",
    "Explanation\n",
    "MedianFinder medianFinder = new MedianFinder();\n",
    "medianFinder.addNum(1);    // arr = [1]\n",
    "medianFinder.addNum(2);    // arr = [1, 2]\n",
    "medianFinder.findMedian(); // return 1.5 (i.e., (1 + 2) / 2)\n",
    "medianFinder.addNum(3);    // arr[1, 2, 3]\n",
    "medianFinder.findMedian(); // return 2.0\n",
    "'''\n",
    "\n",
    "import heapq\n",
    "\n",
    "class MedianFinder:\n",
    "\n",
    "    def __init__(self):\n",
    "        self.small = []\n",
    "        self.large = []\n",
    "\n",
    "    def addNum(self, num):\n",
    "        heapq.heappush(self.small, -1 * num)\n",
    "\n",
    "        if self.small and self.large and (-1 * self.small[0]) > (self.large[0]):\n",
    "            heapq.heappush(self.large, -1 * heapq.heappop(self.small))\n",
    "\n",
    "        if len(self.large) > len(self.small) + 1:\n",
    "            heapq.heappush(self.small, -1 * heapq.heappop(self.large))\n",
    "\n",
    "        if len(self.small) > len(self.large) + 1:\n",
    "            heapq.heappush(self.large, -1 * heapq.heappop(self.small))\n",
    "        \n",
    "    \n",
    "    def findMedian(self) -> float:\n",
    "        if len(self.small) > len(self.large):\n",
    "            return -1 * self.small[0]\n",
    "        \n",
    "        if len(self.small) < len(self.large):\n",
    "            return self.large[0]\n",
    "        \n",
    "        return ((-1 * self.small[0]) + self.large[0]) / 2\n",
    "    \n",
    "medianFinder = MedianFinder()\n",
    "medianFinder.addNum(1);    # arr = [1]\n",
    "medianFinder.addNum(2);    # arr = [1, 2]\n",
    "res = medianFinder.findMedian(); # return 1.5 (i.e., (1 + 2) / 2)\n",
    "# medianFinder.addNum(3);    # arr[1, 2, 3]\n",
    "# res1 = medianFinder.findMedian(); # return 2.0\n",
    "res"
   ]
  },
  {
   "cell_type": "markdown",
   "id": "951a3f49",
   "metadata": {},
   "source": [
    "### Top-K Elements"
   ]
  },
  {
   "cell_type": "markdown",
   "id": "5790422a",
   "metadata": {},
   "source": [
    "347. Top K Frequent Elements"
   ]
  },
  {
   "cell_type": "code",
   "execution_count": 111,
   "id": "a8562ded",
   "metadata": {},
   "outputs": [
    {
     "data": {
      "text/plain": [
       "[1, 2]"
      ]
     },
     "execution_count": 111,
     "metadata": {},
     "output_type": "execute_result"
    }
   ],
   "source": [
    "''' \n",
    "Input: nums = [1,1,1,2,2,3], k = 2\n",
    "Output: [1,2]\n",
    "'''\n",
    "import heapq\n",
    "from collections import Counter\n",
    "\n",
    "class Solution:\n",
    "    def topKFrequent(self, nums, k):\n",
    "        counter = Counter(nums)\n",
    "        max_heap = [(-count, k) for k, count in counter.items()]\n",
    "        heapq.heapify(max_heap)\n",
    "        res = []\n",
    "        while k > 0:\n",
    "            res.append(heapq.heappop(max_heap)[1])\n",
    "            k -= 1\n",
    "        return res\n",
    "    \n",
    "solution = Solution()\n",
    "solution.topKFrequent(nums = [1,1,1,2,2,3], k = 2)\n"
   ]
  },
  {
   "cell_type": "markdown",
   "id": "f7d4efb1",
   "metadata": {},
   "source": [
    "### Intervals"
   ]
  },
  {
   "cell_type": "markdown",
   "id": "937f19c8",
   "metadata": {},
   "source": [
    "56. Merge Intervals"
   ]
  },
  {
   "cell_type": "code",
   "execution_count": 117,
   "id": "c722e1ef",
   "metadata": {},
   "outputs": [
    {
     "data": {
      "text/plain": [
       "[[1, 6], [8, 10], [15, 18]]"
      ]
     },
     "execution_count": 117,
     "metadata": {},
     "output_type": "execute_result"
    }
   ],
   "source": [
    "''' \n",
    "Input: intervals = [[1,3],[2,6],[8,10],[15,18]]\n",
    "Output: [[1,6],[8,10],[15,18]]\n",
    "Explanation: Since intervals [1,3] and [2,6] overlap, merge them into [1,6].\n",
    "'''\n",
    "\n",
    "from typing import List\n",
    "\n",
    "class Solution:\n",
    "    def merge(self, intervals: List[List[int]]) -> List[List[int]]:\n",
    "        intervals.sort()\n",
    "        res = [intervals[0]]\n",
    "        for start, end in intervals[1:]:\n",
    "            prevEnd = res[-1][1]\n",
    "            if prevEnd > start:\n",
    "                res[-1][1] = max(end, prevEnd) \n",
    "            else:\n",
    "                res.append([start, end])\n",
    "        return res \n",
    "\n",
    "solution = Solution()\n",
    "solution.merge([[1,3],[2,6],[8,10],[15,18]]) \n"
   ]
  },
  {
   "cell_type": "markdown",
   "id": "4299df7c",
   "metadata": {},
   "source": [
    "435. Non-overlapping Intervals"
   ]
  },
  {
   "cell_type": "code",
   "execution_count": 121,
   "id": "98ff3644",
   "metadata": {},
   "outputs": [
    {
     "data": {
      "text/plain": [
       "1"
      ]
     },
     "execution_count": 121,
     "metadata": {},
     "output_type": "execute_result"
    }
   ],
   "source": [
    "''' \n",
    "Input: intervals = [[1,2],[2,3],[3,4],[1,3]]\n",
    "Output: 1\n",
    "Explanation: [1,3] can be removed and the rest of the intervals are non-overlapping.\n",
    "'''\n",
    "\n",
    "class Solution:\n",
    "    def eraseOverlapIntervals(self, intervals: List[List[int]]) -> int:\n",
    "        intervals.sort()\n",
    "        count = 0\n",
    "        prevEnd = intervals[0][1]\n",
    "        for start, end in intervals[1:]:\n",
    "            if prevEnd > start:\n",
    "                count += 1 \n",
    "                prevEnd = min(end, prevEnd)\n",
    "            else:\n",
    "                prevEnd = end\n",
    "        return count \n",
    "\n",
    "\n",
    "solution = Solution()\n",
    "solution.eraseOverlapIntervals([[1,2],[2,3],[3,4],[1,3]]) "
   ]
  },
  {
   "cell_type": "markdown",
   "id": "7dba95e1",
   "metadata": {},
   "source": [
    "### Greedy"
   ]
  },
  {
   "cell_type": "markdown",
   "id": "a67d128a",
   "metadata": {},
   "source": [
    "55. Jump Game"
   ]
  },
  {
   "cell_type": "code",
   "execution_count": 122,
   "id": "cad4967c",
   "metadata": {},
   "outputs": [
    {
     "data": {
      "text/plain": [
       "True"
      ]
     },
     "execution_count": 122,
     "metadata": {},
     "output_type": "execute_result"
    }
   ],
   "source": [
    "''' \n",
    "Input: nums = [2,3,1,1,4]\n",
    "Output: true\n",
    "Explanation: Jump 1 step from index 0 to 1, then 3 steps to the last index.\n",
    "'''\n",
    "\n",
    "from typing import List\n",
    "\n",
    "class Solution:\n",
    "    def canJump(self, nums: List[int]) -> bool:\n",
    "        max_reach = 0 \n",
    "        for i in range(len(nums)):\n",
    "            if i > max_reach:\n",
    "                return False\n",
    "            max_reach = max(max_reach, i + nums[i])\n",
    "            if max_reach > len(nums) - 1:\n",
    "                return True \n",
    "        return True \n",
    "    \n",
    "solution = Solution()\n",
    "solution.canJump([2, 3, 1, 1, 4])"
   ]
  },
  {
   "cell_type": "markdown",
   "id": "46af5735",
   "metadata": {},
   "source": [
    "45. Jump Game II"
   ]
  },
  {
   "cell_type": "code",
   "execution_count": 129,
   "id": "73bd5d57",
   "metadata": {},
   "outputs": [
    {
     "data": {
      "text/plain": [
       "2"
      ]
     },
     "execution_count": 129,
     "metadata": {},
     "output_type": "execute_result"
    }
   ],
   "source": [
    "''' \n",
    "Input: nums = [2,3,1,1,4]\n",
    "Output: 2\n",
    "Explanation: The minimum number of jumps to reach the last index is 2. Jump 1 step from index 0 to 1, then 3 steps to the last index.\n",
    "'''\n",
    "from typing import List \n",
    "\n",
    "class Solution:\n",
    "    def jump(self, nums: List[int]) -> int:\n",
    "        cur_jump_end = 0\n",
    "        max_reach = 0 \n",
    "        jumps = 0\n",
    "        for i in range(len(nums)):\n",
    "            max_reach = max(max_reach, i + nums[i])\n",
    "            if cur_jump_end == i:\n",
    "                cur_jump_end = max_reach\n",
    "                jumps += 1\n",
    "            if cur_jump_end >= len(nums) - 1:\n",
    "                return jumps\n",
    "        return jumps\n",
    "solution = Solution()\n",
    "solution.jump([2, 3, 1, 1, 4])"
   ]
  },
  {
   "cell_type": "markdown",
   "id": "badba412",
   "metadata": {},
   "source": [
    "### System Design"
   ]
  },
  {
   "cell_type": "markdown",
   "id": "0dc167f7",
   "metadata": {},
   "source": [
    "146. LRU Cache"
   ]
  },
  {
   "cell_type": "code",
   "execution_count": 137,
   "id": "0b0699f0",
   "metadata": {},
   "outputs": [
    {
     "data": {
      "text/plain": [
       "'SMT'"
      ]
     },
     "execution_count": 137,
     "metadata": {},
     "output_type": "execute_result"
    }
   ],
   "source": [
    "'''\n",
    "Example 1:\n",
    "\n",
    "Input\n",
    "[\"LRUCache\", \"put\", \"put\", \"get\", \"put\", \"get\", \"put\", \"get\", \"get\", \"get\"]\n",
    "[[2], [1, 1], [2, 2], [1], [3, 3], [2], [4, 4], [1], [3], [4]]\n",
    "Output\n",
    "[null, null, null, 1, null, -1, null, -1, 3, 4]\n",
    "\n",
    "Explanation\n",
    "LRUCache lRUCache = new LRUCache(2);\n",
    "lRUCache.put(1, 1); // cache is {1=1}\n",
    "lRUCache.put(2, 2); // cache is {1=1, 2=2}\n",
    "lRUCache.get(1);    // return 1\n",
    "lRUCache.put(3, 3); // LRU key was 2, evicts key 2, cache is {1=1, 3=3}\n",
    "lRUCache.get(2);    // returns -1 (not found)\n",
    "lRUCache.put(4, 4); // LRU key was 1, evicts key 1, cache is {4=4, 3=3}\n",
    "lRUCache.get(1);    // return -1 (not found)\n",
    "lRUCache.get(3);    // return 3\n",
    "lRUCache.get(4);    // return 4\n",
    "'''\n",
    "\n",
    "class ListNode:\n",
    "    def __init__(self, key = 0, val = 0, prev = None, next = None):\n",
    "        self.key = key\n",
    "        self.val = val\n",
    "        self.prev = prev \n",
    "        self.next = next\n",
    "\n",
    "class LRUCache:\n",
    "\n",
    "    def __init__(self, capacity: int):\n",
    "        self.cache = {}\n",
    "        self.head = ListNode()\n",
    "        self.tail = ListNode()\n",
    "        self.head.next = self.tail\n",
    "        self.tail.prev = self.head\n",
    "        self.capacity = capacity\n",
    "        \n",
    "    def add(self, node):\n",
    "        node.prev = self.head \n",
    "        node.next = self.head.next \n",
    "        self.head.next.prev = node \n",
    "        self.head.next = node\n",
    "    \n",
    "    def remove(self, node):\n",
    "        prev_node, next_node = node.prev, node.next \n",
    "        prev_node.next, next_node.prev = next_node, prev_node\n",
    "\n",
    "    def get(self, key: int) -> int:\n",
    "        if key in self.cache:\n",
    "            node = self.cache[key]\n",
    "            self.remove(node)\n",
    "            self.add(node)\n",
    "            return node.val\n",
    "        return -1\n",
    "        \n",
    "\n",
    "    def put(self, key: int, value: int) -> None:\n",
    "        if key in self.cache:\n",
    "            self.remove(self.cache[key])  # remove old node\n",
    "        self.cache[key] = ListNode(key, value)\n",
    "        self.add(self.cache[key])\n",
    "        if self.capacity < len(self.cache):\n",
    "            lru_node = self.tail.prev \n",
    "            self.remove(lru_node)\n",
    "            del self.cache[lru_node.key]\n",
    "\n",
    "\n",
    "\n",
    "obj = LRUCache(3)\n",
    "obj.put('Name', 'Dharani')\n",
    "obj.put('Age', '25')\n",
    "obj.put('profession', 'IT')\n",
    "obj.put('profession', 'SMT')\n",
    "obj.get('profession')"
   ]
  },
  {
   "cell_type": "markdown",
   "id": "cef206a2",
   "metadata": {},
   "source": [
    "### Dynamic Programming"
   ]
  },
  {
   "cell_type": "markdown",
   "id": "3db02162",
   "metadata": {},
   "source": [
    "198. House Robber"
   ]
  },
  {
   "cell_type": "code",
   "execution_count": 142,
   "id": "8d847ea0",
   "metadata": {},
   "outputs": [
    {
     "data": {
      "text/plain": [
       "4"
      ]
     },
     "execution_count": 142,
     "metadata": {},
     "output_type": "execute_result"
    }
   ],
   "source": [
    "'''\n",
    "Example 1:\n",
    "\n",
    "Input: nums = [1,2,3,1]\n",
    "Output: 4\n",
    "Explanation: Rob house 1 (money = 1) and then rob house 3 (money = 3).\n",
    "Total amount you can rob = 1 + 3 = 4.\n",
    "'''\n",
    "from typing import List \n",
    "\n",
    "class Solution:\n",
    "    def rob(self, nums: List[int]) -> int:\n",
    "        if len(nums) < 2:\n",
    "            return nums[0]\n",
    "        dp = [0] * len(nums)\n",
    "        dp[0] = nums[0]\n",
    "        dp[1] = max(nums[0], nums[1])\n",
    "        for i in range(2, len(nums)):\n",
    "            dp[i] = max(dp[i - 1], nums[i] + dp[i - 2])\n",
    "        return dp[-1]\n",
    "    \n",
    "\n",
    "solution = Solution()\n",
    "solution.rob([1, 2, 3, 1])\n"
   ]
  },
  {
   "cell_type": "code",
   "execution_count": 146,
   "id": "f0421f70",
   "metadata": {},
   "outputs": [
    {
     "data": {
      "text/plain": [
       "3"
      ]
     },
     "execution_count": 146,
     "metadata": {},
     "output_type": "execute_result"
    }
   ],
   "source": [
    "''' \n",
    "Input: nums = [2,3,2]\n",
    "Output: 3\n",
    "Explanation: You cannot rob house 1 (money = 2) and then rob house 3 (money = 2), because they are adjacent houses.\n",
    "'''\n",
    "\n",
    "class Solution:\n",
    "    def rob(self, nums: List[int]) -> int:\n",
    "        if len(nums) < 2:\n",
    "            return nums[0]\n",
    "        exclude_last = self.rob_helper(nums[:len(nums) - 1])\n",
    "        exclude_first = self.rob_helper(nums[1:])\n",
    "        return max(exclude_first, exclude_last)\n",
    "    \n",
    "    def rob_helper(self, nums: List[int]) -> int:\n",
    "        dp = [0] * len(nums)\n",
    "        dp[0] = nums[0]\n",
    "        dp[1] = max(nums[0], nums[1])\n",
    "        for i in range(2, len(nums)):\n",
    "            dp[i] = max(dp[i - 1], nums[i] + dp[i - 2])\n",
    "        return dp[-1]\n",
    "    \n",
    "solution = Solution()\n",
    "solution.rob([2, 3, 2])"
   ]
  },
  {
   "cell_type": "markdown",
   "id": "ca11467d",
   "metadata": {},
   "source": [
    "### Knapsack Problem"
   ]
  },
  {
   "cell_type": "markdown",
   "id": "f38975ea",
   "metadata": {},
   "source": [
    "416. Partition Equal Subset Sum"
   ]
  },
  {
   "cell_type": "code",
   "execution_count": 152,
   "id": "ddb8945a",
   "metadata": {},
   "outputs": [
    {
     "data": {
      "text/plain": [
       "True"
      ]
     },
     "execution_count": 152,
     "metadata": {},
     "output_type": "execute_result"
    }
   ],
   "source": [
    "''' \n",
    "Input: nums = [1,5,11,5]\n",
    "Output: true\n",
    "Explanation: The array can be partitioned as [1, 5, 5] and [11].\n",
    "'''\n",
    "\n",
    "class Solution:\n",
    "    def canPartition(self, nums):\n",
    "        total = sum(nums)\n",
    "        if total % 2 != 0:\n",
    "            return False \n",
    "        target = total // 2\n",
    "        dp = [False] * (target + 1)\n",
    "        dp[0] = True \n",
    "        # for i in range(target, -1, -1):\n",
    "        #     for num in nums:\n",
    "        #         dp[i] = dp[i] or dp[i - num]\n",
    "\n",
    "        for num in nums:\n",
    "            for i in range(target, num - 1, -1):\n",
    "                dp[i] = dp[i] or dp[i - num]\n",
    "        return dp[target]\n",
    "    \n",
    "solution = Solution()\n",
    "solution.canPartition([1, 5, 11, 5])\n"
   ]
  },
  {
   "cell_type": "markdown",
   "id": "3cf89894",
   "metadata": {},
   "source": [
    "### Unbound Knapsack DP"
   ]
  },
  {
   "cell_type": "markdown",
   "id": "c0883731",
   "metadata": {},
   "source": [
    "322. Coin Change"
   ]
  },
  {
   "cell_type": "code",
   "execution_count": 158,
   "id": "ca3312b5",
   "metadata": {},
   "outputs": [
    {
     "data": {
      "text/plain": [
       "3"
      ]
     },
     "execution_count": 158,
     "metadata": {},
     "output_type": "execute_result"
    }
   ],
   "source": [
    "''' \n",
    "Input: coins = [1,2,5], amount = 11\n",
    "Output: 3\n",
    "Explanation: 11 = 5 + 5 + 1\n",
    "'''\n",
    "\n",
    "class Solution:\n",
    "    def coinChange(self, coins: List[int], amount: int) -> int:\n",
    "        dp = [float('inf')] * (amount + 1)\n",
    "        dp[0] = 0\n",
    "\n",
    "        for i in range(amount + 1):\n",
    "            for coin in coins:\n",
    "                if coin <= i:\n",
    "                    dp[i] = min(dp[i], 1 + dp[i - coin])\n",
    "        return dp[amount]\n",
    "solution = Solution()\n",
    "solution.coinChange([1, 2, 5], 11)"
   ]
  },
  {
   "cell_type": "markdown",
   "id": "f82127ed",
   "metadata": {},
   "source": [
    "### Longest Increasing subsequence DP"
   ]
  },
  {
   "cell_type": "markdown",
   "id": "8d85baa6",
   "metadata": {},
   "source": [
    "300. Longest Increasing Subsequence"
   ]
  },
  {
   "cell_type": "code",
   "execution_count": 160,
   "id": "f353990e",
   "metadata": {},
   "outputs": [
    {
     "data": {
      "text/plain": [
       "4"
      ]
     },
     "execution_count": 160,
     "metadata": {},
     "output_type": "execute_result"
    }
   ],
   "source": [
    "''' \n",
    "Input: nums = [10,9,2,5,3,7,101,18]\n",
    "Output: 4\n",
    "Explanation: The longest increasing subsequence is [2,3,7,101], therefore the length is 4.\n",
    "'''\n",
    "\n",
    "class Solution:\n",
    "    def lengthOfLIS(self, nums: List[int]) -> int:\n",
    "        dp = [1] * len(nums)\n",
    "        for i in range(len(nums)):\n",
    "            for j in range(i):\n",
    "                if nums[i] > nums[j] and dp[i] <= dp[j]:\n",
    "                    dp[i] = 1 + dp[j]\n",
    "        return dp[-1]\n",
    "    \n",
    "solution = Solution()\n",
    "solution.lengthOfLIS([10,9,2,5,3,7,101,18])\n"
   ]
  },
  {
   "cell_type": "markdown",
   "id": "47b4e4af",
   "metadata": {},
   "source": [
    "### String DP"
   ]
  },
  {
   "cell_type": "markdown",
   "id": "40ca1d90",
   "metadata": {},
   "source": [
    "1143. Longest Common Subsequence"
   ]
  },
  {
   "cell_type": "code",
   "execution_count": 170,
   "id": "90cf6443",
   "metadata": {},
   "outputs": [
    {
     "data": {
      "text/plain": [
       "3"
      ]
     },
     "execution_count": 170,
     "metadata": {},
     "output_type": "execute_result"
    }
   ],
   "source": [
    "''' \n",
    "Input: text1 = \"abcde\", text2 = \"ace\" \n",
    "Output: 3  \n",
    "Explanation: The longest common subsequence is \"ace\" and its length is 3.\n",
    "'''\n",
    "\n",
    "class Solution:\n",
    "    def longestCommonSubsequence(self, text1: str, text2: str) -> int:\n",
    "        dp = [[0] * (len(text2) + 1) for _ in range(len(text1) + 1)]\n",
    "        for i in range(1, len(text1) + 1):\n",
    "            for j in range(1, len(text2) + 1):\n",
    "                if text1[i - 1] == text2[j - 1]:\n",
    "                    dp[i][j] = 1 + dp[i - 1][j - 1]\n",
    "                else:\n",
    "                    dp[i][j] = max(dp[i - 1][j], dp[i][j - 1]) \n",
    "        return dp[-1][-1]\n",
    "    \n",
    "\n",
    "solution = Solution()\n",
    "solution.longestCommonSubsequence(\"abcde\", \"ace\")"
   ]
  },
  {
   "cell_type": "markdown",
   "id": "a1ef300c",
   "metadata": {},
   "source": [
    "139. Word Break"
   ]
  },
  {
   "cell_type": "code",
   "execution_count": 199,
   "id": "04ff84cb",
   "metadata": {},
   "outputs": [
    {
     "data": {
      "text/plain": [
       "True"
      ]
     },
     "execution_count": 199,
     "metadata": {},
     "output_type": "execute_result"
    }
   ],
   "source": [
    "''' \n",
    "Input: s = \"applepenapple\", wordDict = [\"apple\",\"pen\"]\n",
    "Output: true\n",
    "Explanation: Return true because \"applepenapple\" can be segmented as \"apple pen apple\".\n",
    "Note that you are allowed to reuse a dictionary word.\n",
    "\n",
    "Input: s = \"catsandog\", wordDict = [\"cats\",\"dog\",\"sand\",\"and\",\"cat\"]\n",
    "Output: false\n",
    "'''\n",
    "\n",
    "class Solution:\n",
    "    def wordBreak(self, s: str, wordDict: List[str]) -> bool:\n",
    "        wordDict = set(wordDict)\n",
    "        dp = [False] * (len(s) + 1)\n",
    "        dp[0] = True \n",
    "        max_len = max(map(len, wordDict)) if wordDict else 0\n",
    "        for i in range(len(s) + 1):\n",
    "            for j in range(max(0, i - max_len), i):\n",
    "                # print(j, i)\n",
    "                # print(s[j:i])\n",
    "                if dp[j] and s[j:i] in wordDict:\n",
    "                    dp[i] = True \n",
    "                    break\n",
    "        return dp[-1]\n",
    "    \n",
    "solution = Solution()\n",
    "solution.wordBreak(s = \"applepenapple\", wordDict = [\"apple\",\"pen\"])"
   ]
  },
  {
   "cell_type": "markdown",
   "id": "a107bd0c",
   "metadata": {},
   "source": [
    "### 2D (Grid) DP"
   ]
  },
  {
   "cell_type": "markdown",
   "id": "252dacf1",
   "metadata": {},
   "source": [
    "64. Minimum Path Sum"
   ]
  },
  {
   "cell_type": "code",
   "execution_count": 201,
   "id": "2b77e739",
   "metadata": {},
   "outputs": [
    {
     "data": {
      "text/plain": [
       "7"
      ]
     },
     "execution_count": 201,
     "metadata": {},
     "output_type": "execute_result"
    }
   ],
   "source": [
    "''' \n",
    "Input: grid = [[1,3,1],[1,5,1],[4,2,1]]\n",
    "Output: 7\n",
    "Explanation: Because the path 1 → 3 → 1 → 1 → 1 minimizes the sum.\n",
    "\n",
    "      0     1     2     3\n",
    "   -------------------------\n",
    "0 | inf | inf | inf | inf |\n",
    "1 | inf | inf | inf | inf |\n",
    "2 | inf | inf | inf |  0  | ← dp[2][3] is now 0\n",
    "3 | inf | inf | inf | inf |\n",
    "\n",
    "'''\n",
    "\n",
    "class Solution:\n",
    "    def minPathSum(self, grid: List[List[int]]) -> int:\n",
    "        rows, cols = len(grid), len(grid[0])\n",
    "        dp = [[float('inf')] * (cols + 1) for _ in range(rows + 1)]\n",
    "        dp[rows - 1][cols] = 0 \n",
    "\n",
    "        for i in range(rows - 1, -1, -1):\n",
    "            for j in range(cols - 1, -1, -1):\n",
    "                dp[i][j] = grid[i][j] + min(dp[i][j + 1], dp[i + 1][j])\n",
    "        return dp[0][0]\n",
    "    \n",
    "\n",
    "solution = Solution()\n",
    "solution.minPathSum([[1,3,1],[1,5,1],[4,2,1]])\n"
   ]
  },
  {
   "cell_type": "markdown",
   "id": "fc1cdca0",
   "metadata": {},
   "source": [
    "329. Longest Increasing Path in a Matrix"
   ]
  },
  {
   "cell_type": "code",
   "execution_count": 205,
   "id": "76cc1e7f",
   "metadata": {},
   "outputs": [
    {
     "data": {
      "text/plain": [
       "4"
      ]
     },
     "execution_count": 205,
     "metadata": {},
     "output_type": "execute_result"
    }
   ],
   "source": [
    "''' \n",
    "Input: matrix = [[9,9,4],[6,6,8],[2,1,1]]\n",
    "Output: 4\n",
    "Explanation: The longest increasing path is [1, 2, 6, 9].\n",
    "'''\n",
    "\n",
    "class Solution:\n",
    "    def longestIncreasingPath(self, matrix: List[List[int]]) -> int:\n",
    "        if not matrix or not matrix[0]:\n",
    "            return 0\n",
    "        dp = {}\n",
    "        directions = [(0, 1), (1, 0), (0, -1), (-1, 0)]\n",
    "        rows, cols = len(matrix), len(matrix[0])\n",
    "        def dfs(r, c):\n",
    "            if (r, c) in dp:\n",
    "                return dp[(r, c)]\n",
    "            \n",
    "            max_len = 1 \n",
    "            for dr, dc in directions:\n",
    "                nr, nc = r + dr, c + dc\n",
    "                if 0 <= nr < rows and 0 <= nc < cols and matrix[nr][nc] > matrix[r][c]:\n",
    "                    max_len = max(max_len, 1 + dfs(nr, nc))\n",
    "            \n",
    "            dp[(r, c)] = max_len\n",
    "            return max_len\n",
    "        return max(dfs(i, j) for i in range(rows) for j in range(cols))\n",
    "    \n",
    "solution = Solution()\n",
    "solution.longestIncreasingPath([[9,9,4],[6,6,8],[2,1,1]])\n"
   ]
  },
  {
   "cell_type": "markdown",
   "id": "c48970be",
   "metadata": {},
   "source": [
    "### Geometry"
   ]
  },
  {
   "cell_type": "markdown",
   "id": "ae2e4eff",
   "metadata": {},
   "source": [
    "7. Reverse Integer"
   ]
  },
  {
   "cell_type": "code",
   "execution_count": 210,
   "id": "d1d4da7d",
   "metadata": {},
   "outputs": [
    {
     "data": {
      "text/plain": [
       "321"
      ]
     },
     "execution_count": 210,
     "metadata": {},
     "output_type": "execute_result"
    }
   ],
   "source": [
    "'''\n",
    "Input: x = 123\n",
    "Output: 321\n",
    "\n",
    "Given a signed 32-bit integer x, return x with its digits reversed. If reversing x causes the value to go outside the signed 32-bit integer range [-231, 231 - 1], then return 0.\n",
    "'''\n",
    "\n",
    "class Solution:\n",
    "    def reverse(self, x: int) -> int:\n",
    "        sign = -1 if x < 0 else 1 \n",
    "        x = abs(x)\n",
    "        rev = 0 \n",
    "        MAX_INT = 2 ** 31 - 1\n",
    "        while x != 0:\n",
    "            rem = x % 10\n",
    "            if rev > MAX_INT:\n",
    "                return 0\n",
    "            rev = (rev * 10) + rem \n",
    "            x = x // 10 \n",
    "        return sign * rev \n",
    "    \n",
    "solution = Solution()\n",
    "solution.reverse(123)"
   ]
  },
  {
   "cell_type": "markdown",
   "id": "5e209ac9",
   "metadata": {},
   "source": [
    "9. Palindrome Number"
   ]
  },
  {
   "cell_type": "code",
   "execution_count": 213,
   "id": "e75e3089",
   "metadata": {},
   "outputs": [
    {
     "data": {
      "text/plain": [
       "True"
      ]
     },
     "execution_count": 213,
     "metadata": {},
     "output_type": "execute_result"
    }
   ],
   "source": [
    "''' \n",
    "Input: x = 121\n",
    "Output: true\n",
    "Explanation: 121 reads as 121 from left to right and from right to left.\n",
    "'''\n",
    "\n",
    "class Solution:\n",
    "    def isPalindrome(self, x: int) -> bool:\n",
    "        return str(x) == str(x)[::-1]\n",
    "    \n",
    "\n",
    "solution = Solution()\n",
    "solution.isPalindrome(121)"
   ]
  },
  {
   "cell_type": "markdown",
   "id": "bb1b9288",
   "metadata": {},
   "source": [
    "149. Max Points on a Line"
   ]
  },
  {
   "cell_type": "code",
   "execution_count": 221,
   "id": "adcf6016",
   "metadata": {},
   "outputs": [
    {
     "data": {
      "text/plain": [
       "3"
      ]
     },
     "execution_count": 221,
     "metadata": {},
     "output_type": "execute_result"
    }
   ],
   "source": [
    "''' \n",
    "Input: points = [[1,1], [2,2], [3,3], [4,5], [5,6]]\n",
    "output: 3\n",
    "'''\n",
    "\n",
    "from typing import List \n",
    "\n",
    "class Solution:\n",
    "    def maxPoints(self, points: List[List[int]]) -> int:\n",
    "        res = 1\n",
    "        for i in range(len(points)):\n",
    "            count = {}\n",
    "            p1 = points[i]\n",
    "            for j in range(i + 1, len(points)):\n",
    "                p2 = points[j]\n",
    "                if p1[0] == p2[0]:\n",
    "                    slope = float('inf')\n",
    "                else:\n",
    "                    slope = (p2[1] - p1[1]) / (p2[0] - p1[0])\n",
    "                count[slope] = 1 + count.get(slope, 0)\n",
    "                res = max(res, 1 + count[slope])\n",
    "        return res \n",
    "    \n",
    "\n",
    "solution = Solution()\n",
    "solution.maxPoints([[1,1], [2,2], [3,3], [4,5], [5,6]])"
   ]
  },
  {
   "cell_type": "markdown",
   "id": "6f962e4e",
   "metadata": {},
   "source": [
    "### Graph"
   ]
  },
  {
   "cell_type": "markdown",
   "id": "e0175013",
   "metadata": {},
   "source": [
    "### Depth First Search"
   ]
  },
  {
   "cell_type": "code",
   "execution_count": 227,
   "id": "1177c1e7",
   "metadata": {},
   "outputs": [
    {
     "data": {
      "text/plain": [
       "1"
      ]
     },
     "execution_count": 227,
     "metadata": {},
     "output_type": "execute_result"
    }
   ],
   "source": [
    "''' \n",
    "Input: grid = [\n",
    "  [\"1\",\"1\",\"1\",\"1\",\"0\"],\n",
    "  [\"1\",\"1\",\"0\",\"1\",\"0\"],\n",
    "  [\"1\",\"1\",\"0\",\"0\",\"0\"],\n",
    "  [\"0\",\"0\",\"0\",\"0\",\"0\"]\n",
    "]\n",
    "Output: 1\n",
    "'''\n",
    "from typing import List \n",
    "\n",
    "class Solution:\n",
    "    def numIslands(self, grid: List[List[str]]) -> int:\n",
    "        if not grid or len(grid) == 0:\n",
    "            return 0\n",
    "        rows, cols = len(grid), len(grid[0])\n",
    "        count = 0\n",
    "\n",
    "        directions = [(0, 1), (1, 0), (0, -1), (-1, 0)]\n",
    "        \n",
    "        def dfs(r, c):\n",
    "            grid[r][c] = '0'\n",
    "            for dr, dc in directions:\n",
    "                nr, nc = r + dr, c + dc\n",
    "                if 0 <= nr < rows and 0 <= nc < cols and grid[nr][nc] == '1':\n",
    "                    dfs(nr, nc)\n",
    "\n",
    "        for i in range(rows):\n",
    "            for j in range(cols):\n",
    "                if grid[i][j] == '1':\n",
    "                    count += 1\n",
    "                    dfs(i, j)\n",
    "        return count\n",
    "        \n",
    "\n",
    "solution = Solution()\n",
    "solution.numIslands([\n",
    "  [\"1\",\"1\",\"1\",\"1\",\"0\"],\n",
    "  [\"1\",\"1\",\"0\",\"1\",\"0\"],\n",
    "  [\"1\",\"1\",\"0\",\"0\",\"0\"],\n",
    "  [\"0\",\"0\",\"0\",\"0\",\"0\"]\n",
    "])\n"
   ]
  },
  {
   "cell_type": "markdown",
   "id": "bd8ab628",
   "metadata": {},
   "source": [
    "133. Clone Graph"
   ]
  },
  {
   "cell_type": "code",
   "execution_count": 230,
   "id": "47cdc274",
   "metadata": {},
   "outputs": [
    {
     "name": "stdout",
     "output_type": "stream",
     "text": [
      "Original Graph:\n",
      "Node 1: [2, 4]\n",
      "Node 2: [1, 3]\n",
      "Node 3: [2, 4]\n",
      "Node 4: [1, 3]\n",
      "\n",
      "Cloned Graph:\n",
      "Node 1: [2, 4]\n",
      "Node 2: [1, 3]\n",
      "Node 3: [2, 4]\n",
      "Node 4: [1, 3]\n"
     ]
    }
   ],
   "source": [
    "class Node:\n",
    "    def __init__(self, val = 0, neighbors = None):\n",
    "        self.val = val\n",
    "        self.neighbors = neighbors if neighbors else []\n",
    "\n",
    "class Solution:\n",
    "    def cloneGraph(self, node: Node) -> 'Node':\n",
    "        visited = {} \n",
    "\n",
    "        def dfs(node):\n",
    "            if not node:\n",
    "                return\n",
    "            if node in visited:\n",
    "                return visited[node]\n",
    "            \n",
    "            clone = Node(node.val)\n",
    "            visited[node] = clone\n",
    "\n",
    "            for neighbor in node.neighbors:\n",
    "                clone.neighbors.append(dfs(neighbor))\n",
    "            return clone\n",
    "        return dfs(node)\n",
    "    \n",
    "\n",
    "def print_graph(node):\n",
    "    visited = set()\n",
    "    def dfs(n):\n",
    "        if not n or n in visited:\n",
    "            return\n",
    "        visited.add(n)\n",
    "        print(f\"Node {n.val}: {[nei.val for nei in n.neighbors]}\")\n",
    "        for nei in n.neighbors:\n",
    "            dfs(nei)\n",
    "    dfs(node)\n",
    "\n",
    "\n",
    "\n",
    "solution = Solution()\n",
    "# Create nodes\n",
    "n1 = Node(1)\n",
    "n2 = Node(2)\n",
    "n3 = Node(3)\n",
    "n4 = Node(4)\n",
    "\n",
    "# Connect neighbors\n",
    "n1.neighbors = [n2, n4]\n",
    "n2.neighbors = [n1, n3]\n",
    "n3.neighbors = [n2, n4]\n",
    "n4.neighbors = [n1, n3]\n",
    "\n",
    "graph = n1  # starting point\n",
    "cloned_graph = solution.cloneGraph(graph)\n",
    "\n",
    "\n",
    "print(\"Original Graph:\")\n",
    "print_graph(graph)\n",
    "\n",
    "print(\"\\nCloned Graph:\")\n",
    "print_graph(cloned_graph)"
   ]
  },
  {
   "cell_type": "code",
   "execution_count": 235,
   "id": "15817737",
   "metadata": {},
   "outputs": [
    {
     "name": "stdout",
     "output_type": "stream",
     "text": [
      "Original Graph:\n",
      "Node 1: [2, 4]\n",
      "Node 2: [1, 3]\n",
      "Node 3: [2, 4]\n",
      "Node 4: [1, 3]\n",
      "\n",
      "Cloned Graph:\n",
      "Node 1: [2, 4]\n",
      "Node 2: [1, 3]\n",
      "Node 3: [2, 4]\n",
      "Node 4: [1, 3]\n"
     ]
    }
   ],
   "source": [
    "from collections import deque\n",
    "\n",
    "class Solution:\n",
    "    def cloneGraph(self, node: 'Node') -> 'Node':\n",
    "        if not node:\n",
    "            return None\n",
    "\n",
    "        visited = {node: Node(node.val)}  # map old → new\n",
    "        queue = deque([node])\n",
    "\n",
    "        while queue:\n",
    "            curr = queue.popleft()\n",
    "\n",
    "            for nei in curr.neighbors:\n",
    "                if nei not in visited:\n",
    "                    visited[nei] = Node(nei.val)\n",
    "                    queue.append(nei)\n",
    "\n",
    "                visited[curr].neighbors.append(visited[nei])\n",
    "\n",
    "        return visited[node]\n",
    "\n",
    "    \n",
    "\n",
    "\n",
    "solution = Solution()\n",
    "# Create nodes\n",
    "n1 = Node(1)\n",
    "n2 = Node(2)\n",
    "n3 = Node(3)\n",
    "n4 = Node(4)\n",
    "\n",
    "# Connect neighbors\n",
    "n1.neighbors = [n2, n4]\n",
    "n2.neighbors = [n1, n3]\n",
    "n3.neighbors = [n2, n4]\n",
    "n4.neighbors = [n1, n3]\n",
    "\n",
    "graph = n1  # starting point\n",
    "cloned_graph = solution.cloneGraph(graph)\n",
    "\n",
    "\n",
    "print(\"Original Graph:\")\n",
    "print_graph(graph)\n",
    "\n",
    "print(\"\\nCloned Graph:\")\n",
    "print_graph(cloned_graph)"
   ]
  },
  {
   "cell_type": "code",
   "execution_count": null,
   "id": "b397e0e5",
   "metadata": {},
   "outputs": [],
   "source": []
  }
 ],
 "metadata": {
  "kernelspec": {
   "display_name": "Python 3",
   "language": "python",
   "name": "python3"
  },
  "language_info": {
   "codemirror_mode": {
    "name": "ipython",
    "version": 3
   },
   "file_extension": ".py",
   "mimetype": "text/x-python",
   "name": "python",
   "nbconvert_exporter": "python",
   "pygments_lexer": "ipython3",
   "version": "3.12.6"
  }
 },
 "nbformat": 4,
 "nbformat_minor": 5
}
