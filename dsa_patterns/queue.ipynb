{
 "cells": [
  {
   "cell_type": "markdown",
   "metadata": {},
   "source": [
    "933. Number of Recent Calls"
   ]
  },
  {
   "cell_type": "code",
   "execution_count": null,
   "metadata": {},
   "outputs": [
    {
     "data": {
      "text/plain": [
       "3"
      ]
     },
     "execution_count": 11,
     "metadata": {},
     "output_type": "execute_result"
    }
   ],
   "source": [
    "''' \n",
    "Input\n",
    "[\"RecentCounter\", \"ping\", \"ping\", \"ping\", \"ping\"]\n",
    "[[], [1], [100], [3001], [3002]]\n",
    "Output\n",
    "[null, 1, 2, 3, 3]\n",
    "\n",
    "Explanation\n",
    "RecentCounter recentCounter = new RecentCounter();\n",
    "recentCounter.ping(1);     // requests = [1], range is [-2999,1], return 1\n",
    "recentCounter.ping(100);   // requests = [1, 100], range is [-2900,100], return 2\n",
    "recentCounter.ping(3001);  // requests = [1, 100, 3001], range is [1,3001], return 3\n",
    "recentCounter.ping(3002);  // requests = [1, 100, 3001, 3002], range is [2,3002], return 3\n",
    "'''\n",
    "from collections import deque\n",
    "\n",
    "from collections import deque\n",
    "\n",
    "class RecentCounter(object):\n",
    "\n",
    "    def __init__(self):\n",
    "        # Initialize a queue to keep track of ping times\n",
    "        self.queue = deque()\n",
    "    \n",
    "    def ping(self, t):\n",
    "        \"\"\"\n",
    "        Records a new ping at time t, and returns the number of pings \n",
    "        that occurred in the last 3000 milliseconds (inclusive).\n",
    "        \n",
    "        :type t: int\n",
    "        :rtype: int\n",
    "        \"\"\"\n",
    "        # Add the current ping time to the queue\n",
    "        self.queue.append(t)\n",
    "\n",
    "        # Remove ping times that are older than t - 3000 milliseconds\n",
    "        while self.queue and t - self.queue[0] > 3000:\n",
    "            self.queue.popleft()\n",
    "\n",
    "        # The length of the queue now represents the number of recent pings\n",
    "        return len(self.queue)\n",
    "\n",
    "# without built in deque \n",
    "class RecentCounter(object):\n",
    "\n",
    "    def __init__(self):\n",
    "        self.queue = []\n",
    "\n",
    "    def ping(self, ping):\n",
    "        length = 0\n",
    "        while self.queue and ping - self.queue[length] > 3000:\n",
    "            length += 1\n",
    "        self.queue.append(ping)\n",
    "        return len(self.queue) - length\n",
    "\n",
    "# without built in deque \n",
    "class RecentCounter:\n",
    "    def __init__(self):\n",
    "        self.queue = []\n",
    "        self.start = 0 \n",
    "\n",
    "    def ping(self, t):\n",
    "        self.queue.append(t)\n",
    "        while self.queue[self.start] < t - 3000:\n",
    "            self.start += 1\n",
    "        return len(self.queue) - self.start\n",
    "\n",
    "\n",
    "# Your RecentCounter object will be instantiated and called as such:\n",
    "obj = RecentCounter()\n",
    "obj.ping(1)\n",
    "obj.ping(100)\n",
    "obj.ping(3001)\n",
    "obj.ping(3002)"
   ]
  },
  {
   "cell_type": "markdown",
   "metadata": {},
   "source": [
    "2073. Time Needed to Buy Tickets"
   ]
  },
  {
   "cell_type": "code",
   "execution_count": 15,
   "metadata": {},
   "outputs": [
    {
     "data": {
      "text/plain": [
       "6"
      ]
     },
     "execution_count": 15,
     "metadata": {},
     "output_type": "execute_result"
    }
   ],
   "source": [
    "''' \n",
    "Input: tickets = [2,3,2], k = 2\n",
    "\n",
    "Output: 6\n",
    "\n",
    "Explanation:\n",
    "\n",
    "The queue starts as [2,3,2], where the kth person is underlined.\n",
    "After the person at the front has bought a ticket, the queue becomes [3,2,1] at 1 second.\n",
    "Continuing this process, the queue becomes [2,1,2] at 2 seconds.\n",
    "Continuing this process, the queue becomes [1,2,1] at 3 seconds.\n",
    "Continuing this process, the queue becomes [2,1] at 4 seconds. Note: the person at the front left the queue.\n",
    "Continuing this process, the queue becomes [1,1] at 5 seconds.\n",
    "Continuing this process, the queue becomes [1] at 6 seconds. The kth person has bought all their tickets, so return 6.\n",
    "'''\n",
    "\n",
    "from collections import deque\n",
    "from typing import List\n",
    "\n",
    "class Solution:\n",
    "    # Using deque for efficient popping from the front\n",
    "    def timeRequiredToBuy(self, tickets: List[int], k: int) -> int:\n",
    "        # Create a queue with (index, ticket count) pairs\n",
    "        queue = deque([(i, ticket) for i, ticket in enumerate(tickets)])\n",
    "        time = 0\n",
    "\n",
    "        while queue:\n",
    "            i, ticket = queue.popleft()  # Person at front buys one ticket\n",
    "            time += 1\n",
    "            ticket -= 1  # Reduce their remaining ticket count\n",
    "\n",
    "            # If this was person k and they just finished buying, return time\n",
    "            if ticket == 0 and i == k:\n",
    "                return time\n",
    "            \n",
    "            # If they still need more tickets, re-add them to the end of the queue\n",
    "            if ticket != 0:\n",
    "                queue.append((i, ticket))\n",
    "\n",
    "    # Same logic as above, but without using deque (less efficient because pop(0) is O(n))\n",
    "    def timeRequiredToBuyWithoutDeque(self, tickets: List[int], k: int) -> int:\n",
    "        queue = [(i, ticket) for i, ticket in enumerate(tickets)]\n",
    "        time = 0\n",
    "\n",
    "        while queue:\n",
    "            i, ticket = queue.pop(0)  # Pop first person (O(n) operation)\n",
    "            time += 1\n",
    "            ticket -= 1\n",
    "\n",
    "            # If it's person k and they're done, return total time\n",
    "            if ticket == 0 and i == k:\n",
    "                return time\n",
    "\n",
    "            # Otherwise, re-add to the end if they still have tickets to buy\n",
    "            if ticket != 0:\n",
    "                queue.append((i, ticket))\n",
    "\n",
    "    # Optimized version: simulate without queue using pure math\n",
    "    def timeRequiredToBuyWithoutQueueConcept(self, tickets: List[int], k: int) -> int:\n",
    "        res = 0 \n",
    "        for i in range(len(tickets)):\n",
    "            if i <= k:\n",
    "                # People before or at k can buy up to k's total tickets\n",
    "                res += min(tickets[i], tickets[k])\n",
    "            else:\n",
    "                # People after k will miss the final round (when k finishes), so max they get is one less\n",
    "                res += min(tickets[i], tickets[k] - 1)\n",
    "        return res\n",
    "            \n",
    "\n",
    "\n",
    "solution = Solution()\n",
    "solution.timeRequiredToBuyWithoutQueueConcept([2,3,2], 2)"
   ]
  },
  {
   "cell_type": "markdown",
   "metadata": {},
   "source": [
    "950. Reveal Cards In Increasing Order"
   ]
  },
  {
   "cell_type": "code",
   "execution_count": 21,
   "metadata": {},
   "outputs": [
    {
     "data": {
      "text/plain": [
       "[2, 13, 3, 11, 5, 17, 7]"
      ]
     },
     "execution_count": 21,
     "metadata": {},
     "output_type": "execute_result"
    }
   ],
   "source": [
    "''' \n",
    "Input: deck = [17,13,11,2,3,5,7]\n",
    "Output: [2,13,3,11,5,17,7]\n",
    "Explanation: \n",
    "We get the deck in the order [17,13,11,2,3,5,7] (this order does not matter), and reorder it.\n",
    "After reordering, the deck starts as [2,13,3,11,5,17,7], where 2 is the top of the deck.\n",
    "We reveal 2, and move 13 to the bottom.  The deck is now [3,11,5,17,7,13].\n",
    "We reveal 3, and move 11 to the bottom.  The deck is now [5,17,7,13,11].\n",
    "We reveal 5, and move 17 to the bottom.  The deck is now [7,13,11,17].\n",
    "We reveal 7, and move 13 to the bottom.  The deck is now [11,17,13].\n",
    "We reveal 11, and move 17 to the bottom.  The deck is now [13,17].\n",
    "We reveal 13, and move 17 to the bottom.  The deck is now [17].\n",
    "We reveal 17.\n",
    "Since all the cards revealed are in increasing order, the answer is correct.\n",
    "'''\n",
    "\n",
    "from collections import deque\n",
    "from typing import List\n",
    "\n",
    "class Solution:\n",
    "    def deckRevealedIncreasing(self, deck: List[int]) -> List[int]:\n",
    "        # Step 1: Sort the deck to reveal cards in increasing order\n",
    "        deck.sort()\n",
    "        \n",
    "        # Step 2: Initialize the result list with placeholders (0s)\n",
    "        res = [0] * len(deck)\n",
    "        \n",
    "        # Step 3: Initialize a queue of indices [0, 1, 2, ..., n-1]\n",
    "        # This queue simulates the positions in the final result\n",
    "        queue = deque([i for i in range(len(deck))])\n",
    "\n",
    "        # Step 4: For each card in the sorted deck (smallest to largest)\n",
    "        for n in deck:\n",
    "            # Pop the index from the front — this is where the current card goes\n",
    "            i = queue.popleft()\n",
    "            res[i] = n  # Place the card at this position\n",
    "\n",
    "            # If there are still positions left in the queue,\n",
    "            # simulate the \"reveal one, move next to bottom\" step\n",
    "            if queue:\n",
    "                queue.append(queue.popleft())  # Move the next index to the back\n",
    "\n",
    "        # Step 5: Return the final order of the deck\n",
    "        return res\n",
    "\n",
    "    \n",
    "solution = Solution()\n",
    "solution.deckRevealedIncreasing([17,13,11,2,3,5,7])"
   ]
  },
  {
   "cell_type": "code",
   "execution_count": null,
   "metadata": {},
   "outputs": [],
   "source": []
  },
  {
   "cell_type": "markdown",
   "metadata": {},
   "source": [
    "### Monotonic Queue Problems"
   ]
  },
  {
   "cell_type": "markdown",
   "metadata": {},
   "source": [
    "239. Sliding Window Maximum"
   ]
  },
  {
   "cell_type": "code",
   "execution_count": 40,
   "metadata": {},
   "outputs": [
    {
     "data": {
      "text/plain": [
       "[3, 3, 5, 5, 6, 7]"
      ]
     },
     "execution_count": 40,
     "metadata": {},
     "output_type": "execute_result"
    }
   ],
   "source": [
    "''' \n",
    "Input: nums = [1,3,-1,-3,5,3,6,7], k = 3\n",
    "Output: [3,3,5,5,6,7]\n",
    "Explanation: \n",
    "Window position                Max\n",
    "---------------               -----\n",
    "[1  3  -1] -3  5  3  6  7       3\n",
    " 1 [3  -1  -3] 5  3  6  7       3\n",
    " 1  3 [-1  -3  5] 3  6  7       5\n",
    " 1  3  -1 [-3  5  3] 6  7       5\n",
    " 1  3  -1  -3 [5  3  6] 7       6\n",
    " 1  3  -1  -3  5 [3  6  7]      7\n",
    "'''\n",
    "\n",
    "from collections import deque\n",
    "from typing import List\n",
    "\n",
    "class Solution:\n",
    "    def maxSlidingWindow(self, nums: List[int], k: int) -> List[int]:\n",
    "        # Deque to store indices of useful elements for current window\n",
    "        queue = deque()\n",
    "        # Result list to store max of each sliding window\n",
    "        res = []\n",
    "\n",
    "        # Iterate through the array\n",
    "        for i in range(len(nums)):\n",
    "            # Remove indices that are out of the current window (i - k + 1 is the window start)\n",
    "            if queue and queue[0] < i - k + 1:\n",
    "                queue.popleft()\n",
    "\n",
    "            # Remove indices whose corresponding values are less than nums[i]\n",
    "            # These can't be the maximum in this or any future window including nums[i]\n",
    "            while queue and nums[queue[-1]] < nums[i]:\n",
    "                queue.pop()\n",
    "\n",
    "            # Add current index to the deque\n",
    "            queue.append(i)\n",
    "\n",
    "            # Start adding results only when the first window is complete\n",
    "            if i >= k - 1:\n",
    "                # The front of the deque is the index of the max element in current window\n",
    "                res.append(nums[queue[0]])\n",
    "\n",
    "        return res\n",
    "\n",
    "    \n",
    "solution = Solution()\n",
    "solution.maxSlidingWindow([1,3,-1,-3,5,3,6,7], 3)\n"
   ]
  },
  {
   "cell_type": "markdown",
   "metadata": {},
   "source": [
    "1438. Longest Continuous Subarray With Absolute Diff Less Than or Equal to Limit"
   ]
  },
  {
   "cell_type": "code",
   "execution_count": 42,
   "metadata": {},
   "outputs": [
    {
     "data": {
      "text/plain": [
       "2"
      ]
     },
     "execution_count": 42,
     "metadata": {},
     "output_type": "execute_result"
    }
   ],
   "source": [
    "''' \n",
    "Input: nums = [8,2,4,7], limit = 4\n",
    "Output: 2 \n",
    "Explanation: All subarrays are: \n",
    "[8] with maximum absolute diff |8-8| = 0 <= 4.\n",
    "[8,2] with maximum absolute diff |8-2| = 6 > 4. \n",
    "[8,2,4] with maximum absolute diff |8-2| = 6 > 4.\n",
    "[8,2,4,7] with maximum absolute diff |8-2| = 6 > 4.\n",
    "[2] with maximum absolute diff |2-2| = 0 <= 4.\n",
    "[2,4] with maximum absolute diff |2-4| = 2 <= 4.\n",
    "[2,4,7] with maximum absolute diff |2-7| = 5 > 4.\n",
    "[4] with maximum absolute diff |4-4| = 0 <= 4.\n",
    "[4,7] with maximum absolute diff |4-7| = 3 <= 4.\n",
    "[7] with maximum absolute diff |7-7| = 0 <= 4. \n",
    "Therefore, the size of the longest subarray is 2.\n",
    "'''\n",
    "\n",
    "from collections import deque\n",
    "from typing import List\n",
    "\n",
    "class Solution:\n",
    "    def longestSubarray(self, nums: List[int], limit: int) -> int:\n",
    "        # Deques to keep indices of min and max values in the current window\n",
    "        max_queue = deque()  # decreasing queue (front = max)\n",
    "        min_queue = deque()  # increasing queue (front = min)\n",
    "\n",
    "        left = 0            # Left pointer for the sliding window\n",
    "        max_res = 0         # To keep track of the longest valid subarray length\n",
    "\n",
    "        # Iterate with the right pointer expanding the window\n",
    "        for right in range(len(nums)):\n",
    "            # Maintain the min_queue in increasing order\n",
    "            while min_queue and nums[min_queue[-1]] > nums[right]:\n",
    "                min_queue.pop()\n",
    "\n",
    "            # Maintain the max_queue in decreasing order\n",
    "            while max_queue and nums[max_queue[-1]] < nums[right]:\n",
    "                max_queue.pop()\n",
    "\n",
    "            # Add current index to both queues\n",
    "            min_queue.append(right)\n",
    "            max_queue.append(right)\n",
    "\n",
    "            # If the current window is invalid (max - min > limit), shrink from the left\n",
    "            while nums[max_queue[0]] - nums[min_queue[0]] > limit:\n",
    "                left += 1  # move the left side of the window\n",
    "\n",
    "                # Remove indices that are no longer in the window\n",
    "                if min_queue[0] < left:\n",
    "                    min_queue.popleft()\n",
    "\n",
    "                if max_queue[0] < left:\n",
    "                    max_queue.popleft()\n",
    "\n",
    "            # Update the maximum window length found so far\n",
    "            max_res = max(max_res, right - left + 1)\n",
    "\n",
    "        return max_res\n",
    "\n",
    "\n",
    "solution = Solution()\n",
    "solution.longestSubarray([8,2,4,7], 4)\n"
   ]
  },
  {
   "cell_type": "markdown",
   "metadata": {},
   "source": [
    "1696. Jump Game VI"
   ]
  },
  {
   "cell_type": "code",
   "execution_count": null,
   "metadata": {},
   "outputs": [
    {
     "data": {
      "text/plain": [
       "7"
      ]
     },
     "execution_count": 54,
     "metadata": {},
     "output_type": "execute_result"
    }
   ],
   "source": [
    "''' \n",
    "Input: nums = [1,-1,-2,4,-7,3], k = 2\n",
    "Output: 7\n",
    "Explanation: You can choose your jumps forming the subsequence [1,-1,4,3] (underlined above). The sum is 7.\n",
    "'''\n",
    "\n",
    "from collections import deque\n",
    "from typing import List\n",
    "\n",
    "class Solution:\n",
    "    def maxResult(self, nums: List[int], k: int) -> int:\n",
    "        # Monotonic queue to store indices of elements, in decreasing order of their score\n",
    "        queue = deque()\n",
    "        # Start from index 0 (we're at the first element initially)\n",
    "        queue.append(0)\n",
    "\n",
    "        for i in range(1, len(nums)):\n",
    "            # Update nums[i] to hold the maximum score we can get by jumping to index i\n",
    "            # The front of the queue holds the index with the max score within the allowed jump range\n",
    "            nums[i] = nums[i] + nums[queue[0]]\n",
    "\n",
    "            # Remove indices from the front of the queue if they are out of the sliding window (i - k + 1)\n",
    "            if queue and queue[0] < i - k + 1:\n",
    "                queue.popleft()\n",
    "\n",
    "            # Maintain the queue in decreasing order of nums values\n",
    "            # Remove elements from the back if their score is less than or equal to current\n",
    "            while queue and nums[queue[-1]] <= nums[i]:\n",
    "                queue.pop()\n",
    "\n",
    "            # Add the current index to the queue\n",
    "            queue.append(i)\n",
    "\n",
    "        # The last element of nums now contains the max score to reach the end\n",
    "        return nums[-1]\n",
    "    \n",
    "''' \n",
    "Input: nums = [1,-1,-2,4,-7,3], k = 2\n",
    "Output: 7\n",
    "Explanation: You can choose your jumps forming the subsequence [1,-1,4,3] (underlined above). The sum is 7.\n",
    "'''\n",
    "\n",
    "from collections import deque\n",
    "from typing import List\n",
    "\n",
    "class Solution:\n",
    "    def maxResult(self, nums: List[int], k: int) -> int:\n",
    "        dp = [0] * len(nums)\n",
    "        dp[0] = nums[0]\n",
    "        queue = deque([0])\n",
    "\n",
    "        for i in range(1, len(nums)):\n",
    "            while queue and i - queue[0] > k:\n",
    "                queue.popleft()\n",
    "\n",
    "            dp[i] = dp[queue[0]] + nums[i]\n",
    "\n",
    "            while queue and nums[queue[-1]] <= nums[i]:\n",
    "                queue.pop()\n",
    "            \n",
    "            queue.append(i)\n",
    "        return dp[-1]\n",
    "    \n",
    "\n",
    "solution = Solution()\n",
    "solution.maxResult(nums = [1,-1,-2,4,-7,3], k = 2)\n",
    "\n",
    "\n",
    "    \n",
    "solution = Solution()\n",
    "solution.maxResult([1,-1,-2,4,-7,3], 2)"
   ]
  },
  {
   "cell_type": "markdown",
   "metadata": {},
   "source": [
    "1499. Max Value of Equation"
   ]
  },
  {
   "cell_type": "code",
   "execution_count": null,
   "metadata": {},
   "outputs": [
    {
     "data": {
      "text/plain": [
       "4"
      ]
     },
     "execution_count": 68,
     "metadata": {},
     "output_type": "execute_result"
    }
   ],
   "source": [
    "''' \n",
    "Input: points = [[1,3],[2,0],[5,10],[6,-10]], k = 1\n",
    "Output: 4\n",
    "Explanation: The first two points satisfy the condition |xi - xj| <= 1 and if we calculate the equation we get 3 + 0 + |1 - 2| = 4. \n",
    "Third and fourth points also satisfy the condition and give a value of 10 + -10 + |5 - 6| = 1.\n",
    "No other pairs satisfy the condition, so we return the max of 4 and 1.\n",
    "'''\n",
    "\n",
    "'''\n",
    "→ Move from left to right (increasing x)\n",
    "→ For each new point j:\n",
    "      - Remove old points i where x_j - x_i > k (too far)\n",
    "      - Among remaining points, find the one with max (y_i - x_i)\n",
    "      - Compute f(i,j) = (y_j + x_j) + (y_i - x_i)\n",
    "      - Keep the max of all f(i,j)\n",
    "→ Return that max\n",
    "\n",
    "'''\n",
    "\n",
    "from collections import deque\n",
    "\n",
    "class Solution:\n",
    "    def findMaxValueOfEquation(self, points, k):\n",
    "        queue = deque()  # stores (y_i - x_i, x_i)\n",
    "        max_val = float('-inf')\n",
    "\n",
    "        for x, y in points:\n",
    "            # Step 1: remove points too far from window\n",
    "            while queue and x - queue[0][1] > k:\n",
    "                queue.popleft()\n",
    "\n",
    "            # Step 2: update answer using the best candidate at front\n",
    "            if queue:\n",
    "                max_val = max(max_val, y + x + queue[0][0])  # (y_i - x_i) + (y + x)\n",
    "\n",
    "            # Step 3: maintain decreasing order of (y_i - x_i)\n",
    "            while queue and queue[-1][0] <= y - x:\n",
    "                queue.pop()\n",
    "\n",
    "            # Step 4: add current point\n",
    "            queue.append((y - x, x))\n",
    "\n",
    "        return max_val\n",
    "\n",
    "            \n",
    "\n",
    "solution = Solution()\n",
    "solution.findMaxValueOfEquation([[1,3],[2,0],[5,10],[6,-10]], 1)\n"
   ]
  },
  {
   "cell_type": "code",
   "execution_count": null,
   "metadata": {},
   "outputs": [],
   "source": []
  }
 ],
 "metadata": {
  "kernelspec": {
   "display_name": "Python 3",
   "language": "python",
   "name": "python3"
  },
  "language_info": {
   "codemirror_mode": {
    "name": "ipython",
    "version": 3
   },
   "file_extension": ".py",
   "mimetype": "text/x-python",
   "name": "python",
   "nbconvert_exporter": "python",
   "pygments_lexer": "ipython3",
   "version": "3.12.6"
  }
 },
 "nbformat": 4,
 "nbformat_minor": 2
}
