{
 "cells": [
  {
   "cell_type": "markdown",
   "id": "7e686593",
   "metadata": {},
   "source": [
    "7. Reverse Integer"
   ]
  },
  {
   "cell_type": "code",
   "execution_count": null,
   "id": "a5412b59",
   "metadata": {},
   "outputs": [
    {
     "data": {
      "text/plain": [
       "-321"
      ]
     },
     "execution_count": 4,
     "metadata": {},
     "output_type": "execute_result"
    }
   ],
   "source": [
    "'''\n",
    "Input: x = 123\n",
    "Output: 321\n",
    "\n",
    "Given a signed 32-bit integer x, return x with its digits reversed. If reversing x causes the value to go outside the signed 32-bit integer range [-231, 231 - 1], then return 0.\n",
    "'''\n",
    "\n",
    "class Solution:\n",
    "    def reverse(self, x: int) -> int:\n",
    "        rev = 0\n",
    "        MAX_INT = 2 ** 31 - 1\n",
    "        sign = -1 if x < 0 else 1\n",
    "        x = abs(x)\n",
    "        while x != 0:\n",
    "            rem = x % 10\n",
    "            if rev > MAX_INT // 10: # rev * 10 + digit <= 2147483647 => rev > MAX_INT // 10\n",
    "                return 0\n",
    "            rev = rev * 10 + rem \n",
    "            x = x // 10 \n",
    "        return rev * sign\n",
    "\n",
    "solution = Solution()\n",
    "solution.reverse(-123)\n",
    "\n"
   ]
  },
  {
   "cell_type": "markdown",
   "id": "050db443",
   "metadata": {},
   "source": [
    "149. Max Points on a Line"
   ]
  },
  {
   "cell_type": "code",
   "execution_count": 1,
   "id": "7bf510da",
   "metadata": {},
   "outputs": [],
   "source": [
    "''' \n",
    "Input: points = [[1,1], [2,2], [3,3], [4,5], [5,6]]\n",
    "output: 3\n",
    "'''\n",
    "\n",
    "from typing import List \n",
    "\n",
    "class Solution:\n",
    "    def maxPoints(self, points: List[List[int]]) -> int:\n",
    "        res = 1  # At least one point will always be there\n",
    "        \n",
    "        # Iterate over each point to treat it as the base point\n",
    "        for i in range(len(points)):\n",
    "            p1 = points[i]\n",
    "            count = {}  # Dictionary to store slopes and how many times they occur\n",
    "            \n",
    "            # Compare with all other points after the current one\n",
    "            for j in range(i + 1, len(points)):\n",
    "                p2 = points[j]\n",
    "\n",
    "                # Handle vertical line case where slope is infinite\n",
    "                if p1[0] == p2[0]:\n",
    "                    slope = float('inf')\n",
    "                else:\n",
    "                    # Calculate the slope (dy / dx)\n",
    "                    slope = (p2[1] - p1[1]) / (p2[0] - p1[0])\n",
    "                \n",
    "                # Count how many points share the same slope with p1\n",
    "                count[slope] = 1 + count.get(slope, 0)\n",
    "                \n",
    "                # Update the result with the max points on the same line so far\n",
    "                res = max(res, 1 + count[slope])  # +1 to include p1 itself\n",
    "        \n",
    "        return res  # Return the max number of points on a line\n"
   ]
  },
  {
   "cell_type": "markdown",
   "id": "b3fd5aaf",
   "metadata": {},
   "source": [
    "points = [[1,1], [2,2], [3,3], [4,5], [5,6]]\n",
    "Dry Run for i = 0 ([1,1]):\n",
    "Initialize:\n",
    "\n",
    "p1 = [1,1]\n",
    "\n",
    "count = {}, same = 0, cur_max = 0\n",
    "\n",
    "j = 1 → p2 = [2,2]:\n",
    "dx = 1, dy = 1, gcd(1,1) = 1\n",
    "\n",
    "slope = (1,1)\n",
    "\n",
    "count[(1,1)] = 1, cur_max = 1\n",
    "\n",
    "j = 2 → p2 = [3,3]:\n",
    "dx = 2, dy = 2, gcd(2,2) = 2\n",
    "\n",
    "slope = (1,1)\n",
    "\n",
    "count[(1,1)] = 2, cur_max = 2\n",
    "\n",
    "j = 3 → p2 = [4,5]:\n",
    "dx = 3, dy = 4, gcd(3,4) = 1\n",
    "\n",
    "slope = (4,3)\n",
    "\n",
    "count[(4,3)] = 1, cur_max = 2\n",
    "\n",
    "j = 4 → p2 = [5,6]:\n",
    "dx = 4, dy = 5, gcd(4,5) = 1\n",
    "\n",
    "slope = (5,4)\n",
    "\n",
    "count[(5,4)] = 1, cur_max = 2\n",
    "\n",
    "After inner loop:\n",
    "\n",
    "same = 0, so result = max(res, cur_max + same + 1) = max(1, 2 + 0 + 1) = 3"
   ]
  },
  {
   "cell_type": "code",
   "execution_count": 3,
   "id": "f97d9681",
   "metadata": {},
   "outputs": [
    {
     "data": {
      "text/plain": [
       "True"
      ]
     },
     "execution_count": 3,
     "metadata": {},
     "output_type": "execute_result"
    }
   ],
   "source": [
    "''' \n",
    "9. Palindrome Number\n",
    "\n",
    "Input: x = 121\n",
    "Output: true\n",
    "Explanation: 121 reads as 121 from left to right and from right to left.\n",
    "'''\n",
    "\n",
    "class Solution:\n",
    "    def isPalindrome(self, x: int) -> bool:\n",
    "        s = str(x)\n",
    "        return s == s[::-1]\n",
    "solution = Solution()\n",
    "solution.isPalindrome(121)"
   ]
  },
  {
   "cell_type": "code",
   "execution_count": null,
   "id": "289f99ab",
   "metadata": {},
   "outputs": [],
   "source": []
  }
 ],
 "metadata": {
  "kernelspec": {
   "display_name": "Python 3",
   "language": "python",
   "name": "python3"
  },
  "language_info": {
   "codemirror_mode": {
    "name": "ipython",
    "version": 3
   },
   "file_extension": ".py",
   "mimetype": "text/x-python",
   "name": "python",
   "nbconvert_exporter": "python",
   "pygments_lexer": "ipython3",
   "version": "3.12.6"
  }
 },
 "nbformat": 4,
 "nbformat_minor": 5
}
