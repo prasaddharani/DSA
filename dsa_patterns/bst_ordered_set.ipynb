{
 "cells": [
  {
   "cell_type": "markdown",
   "id": "59916d4b",
   "metadata": {},
   "source": [
    "729. My Calendar I"
   ]
  },
  {
   "cell_type": "code",
   "execution_count": null,
   "id": "8fc73fac",
   "metadata": {},
   "outputs": [
    {
     "name": "stdout",
     "output_type": "stream",
     "text": [
      "True\n",
      "False\n",
      "True\n"
     ]
    }
   ],
   "source": [
    "''' \n",
    "\n",
    "Input\n",
    "[\"MyCalendar\", \"book\", \"book\", \"book\"]\n",
    "[[], [10, 20], [15, 25], [20, 30]]\n",
    "Output\n",
    "[null, true, false, true]\n",
    "\n",
    "Explanation\n",
    "MyCalendar myCalendar = new MyCalendar();\n",
    "myCalendar.book(10, 20); // return True\n",
    "myCalendar.book(15, 25); // return False, It can not be booked because time 15 is already booked by another event.\n",
    "myCalendar.book(20, 30); // return True, The event can be booked, as the first event takes every time less than 20, but not including 20.\n",
    "'''\n",
    "\n",
    "class TreeNode:\n",
    "    def __init__(self, start, end):\n",
    "        self.left = None \n",
    "        self.right = None \n",
    "        self.start = start \n",
    "        self.end = end\n",
    "\n",
    "    def insert(self, start, end):\n",
    "        cur = self \n",
    "        while cur:\n",
    "            if cur.end <= start:\n",
    "                if not cur.right:\n",
    "                    cur.right = TreeNode(start, end)\n",
    "                    return True \n",
    "                cur = cur.right\n",
    "            elif cur.start >= end:\n",
    "                if not cur.left:\n",
    "                    cur.left = TreeNode(start, end)\n",
    "                    return True \n",
    "                cur = cur.left \n",
    "            else:\n",
    "                return False \n",
    "class MyCalendar(object):\n",
    "\n",
    "    def __init__(self):\n",
    "        self.root = None\n",
    "        \n",
    "\n",
    "    def book(self, startTime, endTime):\n",
    "        \"\"\"\n",
    "        :type startTime: int\n",
    "        :type endTime: int\n",
    "        :rtype: bool\n",
    "        \"\"\"\n",
    "        if not self.root:\n",
    "            self.root = TreeNode(startTime, endTime)\n",
    "            return True \n",
    "        return self.root.insert(startTime, endTime)\n",
    "        \n",
    "\n",
    "\n",
    "# Your MyCalendar object will be instantiated and called as such:\n",
    "cal = MyCalendar()\n",
    "print(cal.book(10, 20))  # True\n",
    "print(cal.book(15, 25))  # False (overlaps with 10-20)\n",
    "print(cal.book(20, 30))  # True (no overlap)\n"
   ]
  },
  {
   "cell_type": "markdown",
   "id": "d59ff89f",
   "metadata": {},
   "source": [
    "731. My Calendar II"
   ]
  },
  {
   "cell_type": "code",
   "execution_count": 8,
   "id": "691d3979",
   "metadata": {},
   "outputs": [
    {
     "name": "stdout",
     "output_type": "stream",
     "text": [
      "True True False\n"
     ]
    }
   ],
   "source": [
    "class MyCalendarTwo:\n",
    "\n",
    "    def __init__(self):\n",
    "        self.bookings = []       # list of all bookings\n",
    "        self.overlaps = []       # list of double bookings (overlapped ranges)\n",
    "\n",
    "    def book(self, start: int, end: int) -> bool:\n",
    "        # Check if this booking overlaps with any double booking\n",
    "        for s, e in self.overlaps:\n",
    "            if max(s, start) < min(e, end):\n",
    "                return False   # Would cause triple booking\n",
    "\n",
    "        # Now update overlaps\n",
    "        for s, e in self.bookings:\n",
    "            if max(s, start) < min(e, end):\n",
    "                self.overlaps.append((max(s, start), min(e, end)))\n",
    "\n",
    "        # Finally, add the new booking\n",
    "        self.bookings.append((start, end))\n",
    "        return True\n",
    "        \n",
    "\n",
    "# Your MyCalendarTwo object will be instantiated and called as such:\n",
    "obj = MyCalendarTwo()\n",
    "param_1 = obj.book(10,30)\n",
    "param_2 = obj.book(25, 30)\n",
    "param_3 = obj.book(20, 30)\n",
    "print(param_1, param_2, param_3)"
   ]
  },
  {
   "cell_type": "markdown",
   "id": "94a50de4",
   "metadata": {},
   "source": [
    "2034. Stock Price Fluctuation "
   ]
  },
  {
   "cell_type": "code",
   "execution_count": 17,
   "id": "6d004bd2",
   "metadata": {},
   "outputs": [
    {
     "name": "stdout",
     "output_type": "stream",
     "text": [
      "30 40 30\n",
      "30\n"
     ]
    }
   ],
   "source": [
    "import heapq\n",
    "\n",
    "class StockPrice:\n",
    "\n",
    "    def __init__(self):\n",
    "        self.timestamp_price = {}\n",
    "        self.min_price = []\n",
    "        self.max_price = []\n",
    "        self.latest_timestamp = 0\n",
    "        \n",
    "\n",
    "    def update(self, timestamp: int, price: int) -> None:\n",
    "        self.timestamp_price[timestamp] = price \n",
    "        self.latest_timestamp = max(self.latest_timestamp, timestamp)\n",
    "        heapq.heappush(self.min_price, [price, timestamp])\n",
    "        heapq.heappush(self.max_price, [-price, timestamp])\n",
    "\n",
    "    def current(self) -> int:\n",
    "        return self.timestamp_price[self.latest_timestamp]\n",
    "        \n",
    "\n",
    "    def maximum(self):\n",
    "        \"\"\"\n",
    "        :rtype: int\n",
    "        \"\"\"\n",
    "        while self.max_price:\n",
    "            price, time = self.max_price[0]\n",
    "            if -price == self.timestamp_price[time]:\n",
    "                return -price\n",
    "            heapq.heappop(self.max_price)\n",
    "\n",
    "        \n",
    "\n",
    "    def minimum(self):\n",
    "        \"\"\"\n",
    "        :rtype: int\n",
    "        \"\"\"\n",
    "        while self.min_price:\n",
    "            price, time = self.min_price[0]\n",
    "            if price == self.timestamp_price[time]:\n",
    "                return price\n",
    "            heapq.heappop(self.min_price)\n",
    "        \n",
    "\n",
    "\n",
    "# Your StockPrice object will be instantiated and called as such:\n",
    "obj = StockPrice()\n",
    "obj.update(10, 50)\n",
    "obj.update(20, 30)\n",
    "obj.update(10, 40)\n",
    "param_2 = obj.current()\n",
    "param_3 = obj.maximum()\n",
    "param_4 = obj.minimum()\n",
    "print(param_2, param_3, param_4)\n",
    "print(obj.current())"
   ]
  },
  {
   "cell_type": "code",
   "execution_count": null,
   "id": "e85958ce",
   "metadata": {},
   "outputs": [],
   "source": []
  },
  {
   "cell_type": "code",
   "execution_count": null,
   "id": "3e574039",
   "metadata": {},
   "outputs": [],
   "source": []
  },
  {
   "cell_type": "markdown",
   "id": "0736f03c",
   "metadata": {},
   "source": []
  }
 ],
 "metadata": {
  "kernelspec": {
   "display_name": "Python 3",
   "language": "python",
   "name": "python3"
  },
  "language_info": {
   "codemirror_mode": {
    "name": "ipython",
    "version": 3
   },
   "file_extension": ".py",
   "mimetype": "text/x-python",
   "name": "python",
   "nbconvert_exporter": "python",
   "pygments_lexer": "ipython3",
   "version": "3.12.6"
  }
 },
 "nbformat": 4,
 "nbformat_minor": 5
}
