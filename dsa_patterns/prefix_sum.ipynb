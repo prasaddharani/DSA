{
 "cells": [
  {
   "cell_type": "markdown",
   "metadata": {},
   "source": [
    "303. Range Sum Query - Immutable"
   ]
  },
  {
   "cell_type": "code",
   "execution_count": 7,
   "metadata": {},
   "outputs": [
    {
     "data": {
      "text/plain": [
       "1"
      ]
     },
     "execution_count": 7,
     "metadata": {},
     "output_type": "execute_result"
    }
   ],
   "source": [
    "''' \n",
    "303. Range Sum Query - Immutable\n",
    "\n",
    "[[[-2, 0, 3, -5, 2, -1]], [0, 2], [2, 5], [0, 5]]\n",
    "'''\n",
    "from typing import List \n",
    "\n",
    "class NumArray:\n",
    "\n",
    "    def __init__(self, nums: List[int]):\n",
    "        self.prefix_sum_list = [] \n",
    "        prefix_sum = 0\n",
    "        for num in nums:\n",
    "            prefix_sum += num\n",
    "            self.prefix_sum_list.append(prefix_sum)\n",
    "\n",
    "    def sumRange(self, left: int, right: int) -> int:\n",
    "        left_sum_prefix = self.prefix_sum_list[left - 1] if left > 0 else 0 \n",
    "        right_sum_prefix = self.prefix_sum_list[right] \n",
    "        return right_sum_prefix - left_sum_prefix \n",
    "\n",
    "numArray = NumArray([-2, 0, 3, -5, 2, -1])\n",
    "numArray.sumRange(0, 2)\n"
   ]
  },
  {
   "cell_type": "markdown",
   "metadata": {},
   "source": [
    "560. Subarray Sum Equals K"
   ]
  },
  {
   "cell_type": "code",
   "execution_count": 12,
   "metadata": {},
   "outputs": [
    {
     "data": {
      "text/plain": [
       "2"
      ]
     },
     "execution_count": 12,
     "metadata": {},
     "output_type": "execute_result"
    }
   ],
   "source": [
    "''' \n",
    "Input: nums = [1,1,1], k = 2\n",
    "Output: 2\n",
    "'''\n",
    "\n",
    "class Solution:\n",
    "    def subarraySum(self, nums: List[int], k: int) -> int:\n",
    "        prefix_sum_map = {0 : 1}\n",
    "        prefix_sum = 0 \n",
    "        res = 0\n",
    "        for num in nums:\n",
    "            prefix_sum += num \n",
    "            if prefix_sum - k in prefix_sum_map:\n",
    "                res += prefix_sum_map[prefix_sum - k]\n",
    "            prefix_sum_map[prefix_sum] = prefix_sum_map.get(prefix_sum, 0) + 1\n",
    "\n",
    "        return res \n",
    "    \n",
    "solution = Solution()\n",
    "solution.subarraySum([1, 1, 1], 2)"
   ]
  },
  {
   "cell_type": "markdown",
   "metadata": {},
   "source": [
    "525. Contiguous Array"
   ]
  },
  {
   "cell_type": "code",
   "execution_count": 29,
   "metadata": {},
   "outputs": [
    {
     "data": {
      "text/plain": [
       "6"
      ]
     },
     "execution_count": 29,
     "metadata": {},
     "output_type": "execute_result"
    }
   ],
   "source": [
    "''' \n",
    "Input: nums = [0,1]\n",
    "Output: 2\n",
    "Explanation: [0, 1] is the longest contiguous subarray with an equal number of 0 and 1.\n",
    "'''\n",
    "\n",
    "class Solution:\n",
    "    def findMaxLength(self, nums: List[int]) -> int:\n",
    "        max_length = 0 \n",
    "        prefix_map = {0 : -1} #(current_sum, index)\n",
    "        prefix_sum = 0\n",
    "        for i, num in enumerate(nums):\n",
    "            prefix_sum += -1 if num == 0 else 1 \n",
    "            if prefix_sum in prefix_map:\n",
    "                max_length = max(max_length, i - prefix_map[prefix_sum])\n",
    "            else:\n",
    "                prefix_map[prefix_sum] = i \n",
    "\n",
    "        return max_length \n",
    "    \n",
    "solution = Solution()\n",
    "solution.findMaxLength([0,1,1,1,1,1,0,0,0])\n",
    "\n"
   ]
  },
  {
   "cell_type": "markdown",
   "metadata": {},
   "source": [
    "523. Continuous Subarray Sum"
   ]
  },
  {
   "cell_type": "markdown",
   "metadata": {},
   "source": [
    "A good subarray is a subarray where:\n",
    "\n",
    "its length is at least two, and\n",
    "the sum of the elements of the subarray is a multiple of k.\n",
    "Note that:\n",
    "\n",
    "A subarray is a contiguous part of the array.\n",
    "An integer x is a multiple of k if there exists an integer n such that x = n * k. 0 is always a multiple of k.\n",
    "\n",
    "In this Algotithm,\n",
    "\n",
    "If we see any same remainder twise with index > 1, then we can consider sub array sum has multiple of k in it."
   ]
  },
  {
   "cell_type": "code",
   "execution_count": 34,
   "metadata": {},
   "outputs": [
    {
     "data": {
      "text/plain": [
       "True"
      ]
     },
     "execution_count": 34,
     "metadata": {},
     "output_type": "execute_result"
    }
   ],
   "source": [
    "''' \n",
    "Input: nums = [23,2,4,6,7], k = 6\n",
    "Output: true\n",
    "Explanation: [2, 4] is a continuous subarray of size 2 whose elements sum up to 6.\n",
    "'''\n",
    "\n",
    "class Solution:\n",
    "    def checkSubarraySum(self, nums: List[int], k: int) -> bool:\n",
    "        remainder_map = {0 : -1} # (Remainder, Index)\n",
    "        prefix_sum = 0 \n",
    "        for i, num in enumerate(nums):\n",
    "            prefix_sum += num \n",
    "            rem = prefix_sum % k \n",
    "            if rem not in remainder_map:\n",
    "                remainder_map[rem] = i \n",
    "            elif i - remainder_map[rem] > 1:\n",
    "                return True \n",
    "        return False \n",
    "    \n",
    "solution = Solution()\n",
    "solution.checkSubarraySum([23,2,4,6,6], 7)\n"
   ]
  },
  {
   "cell_type": "code",
   "execution_count": null,
   "metadata": {},
   "outputs": [],
   "source": []
  }
 ],
 "metadata": {
  "kernelspec": {
   "display_name": "Python 3",
   "language": "python",
   "name": "python3"
  },
  "language_info": {
   "codemirror_mode": {
    "name": "ipython",
    "version": 3
   },
   "file_extension": ".py",
   "mimetype": "text/x-python",
   "name": "python",
   "nbconvert_exporter": "python",
   "pygments_lexer": "ipython3",
   "version": "3.12.6"
  }
 },
 "nbformat": 4,
 "nbformat_minor": 2
}
