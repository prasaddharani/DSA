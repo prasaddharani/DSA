{
 "cells": [
  {
   "cell_type": "markdown",
   "metadata": {},
   "source": [
    "785. Is Graph Bipartite?"
   ]
  },
  {
   "cell_type": "code",
   "execution_count": 5,
   "metadata": {},
   "outputs": [
    {
     "data": {
      "text/plain": [
       "False"
      ]
     },
     "execution_count": 5,
     "metadata": {},
     "output_type": "execute_result"
    }
   ],
   "source": [
    "''' \n",
    "Input: graph = [[1,2,3],[0,2],[0,1,3],[0,2]]\n",
    "Output: false\n",
    "Explanation: There is no way to partition the nodes into two independent sets such that every edge connects a node in one and a node in the other.\n",
    "'''\n",
    "\n",
    "from collections import deque\n",
    "\n",
    "class Solution:\n",
    "    def isBipartite(self, graph):\n",
    "        n = len(graph)\n",
    "        color = [-1] * n \n",
    "\n",
    "        for i in range(n):\n",
    "            if color[i] == -1:\n",
    "                queue = deque([i])\n",
    "\n",
    "            while queue:\n",
    "                node = queue.popleft()\n",
    "                color[node] == 0\n",
    "                for neighbor in graph[node]:\n",
    "                    if color[neighbor] == -1:\n",
    "                        color[neighbor] = 1 - color[node]\n",
    "                        queue.append(neighbor)\n",
    "                    elif color[neighbor] == color[node]:\n",
    "                        return False        \n",
    "        return True \n",
    "    \n",
    "\n",
    "solution = Solution()\n",
    "solution.isBipartite([[1,2,3],[0,2],[0,1,3],[0,2]]) "
   ]
  },
  {
   "cell_type": "markdown",
   "metadata": {},
   "source": [
    "25. Reverse Nodes in k-Group"
   ]
  },
  {
   "cell_type": "code",
   "execution_count": 13,
   "metadata": {},
   "outputs": [
    {
     "name": "stdout",
     "output_type": "stream",
     "text": [
      "temp:  1\n",
      "temp:  3\n",
      "2\n",
      "1\n",
      "4\n",
      "3\n",
      "5\n"
     ]
    }
   ],
   "source": [
    "''' \n",
    "Input: head = [1,2,3,4,5], k = 2\n",
    "Output: [2,1,4,3,5]\n",
    "'''\n",
    "\n",
    "class ListNode:\n",
    "    def __init__(self, val = 0, next = None):\n",
    "        self.val = val\n",
    "        self.next = next\n",
    "\n",
    "class Solution:\n",
    "    def reverseKGroup(self, head, k):\n",
    "\n",
    "        def get_kth_node(node, k):\n",
    "            while node and k > 0:\n",
    "                node = node.next\n",
    "                k -= 1\n",
    "            return node \n",
    "        \n",
    "        dummy = ListNode(0, head)\n",
    "        grp_prev = dummy \n",
    "        while True:\n",
    "            kth = get_kth_node(grp_prev, k)\n",
    "            if not kth:\n",
    "                break\n",
    "\n",
    "            grp_next = kth.next\n",
    "\n",
    "            prev = grp_next\n",
    "            cur = grp_prev.next \n",
    "\n",
    "            while cur != grp_next:\n",
    "                temp = cur.next \n",
    "                cur.next = prev \n",
    "                prev = cur \n",
    "                cur = temp \n",
    "            \n",
    "            tmp = grp_prev.next\n",
    "            print('temp: ', tmp.val)\n",
    "            grp_prev.next = kth \n",
    "            grp_prev = tmp \n",
    "        return dummy.next\n",
    "\n",
    "    def print_list(self, cur):\n",
    "        while cur:\n",
    "            print(cur.val)\n",
    "            cur = cur.next\n",
    "\n",
    "\n",
    "solution = Solution()\n",
    "cur = solution.reverseKGroup(ListNode(1, ListNode(2, ListNode(3, ListNode(4, ListNode(5))))), 2)\n",
    "solution.print_list(cur)    \n"
   ]
  },
  {
   "cell_type": "code",
   "execution_count": null,
   "metadata": {},
   "outputs": [],
   "source": []
  },
  {
   "cell_type": "code",
   "execution_count": null,
   "metadata": {},
   "outputs": [],
   "source": []
  }
 ],
 "metadata": {
  "kernelspec": {
   "display_name": "Python 3",
   "language": "python",
   "name": "python3"
  },
  "language_info": {
   "codemirror_mode": {
    "name": "ipython",
    "version": 3
   },
   "file_extension": ".py",
   "mimetype": "text/x-python",
   "name": "python",
   "nbconvert_exporter": "python",
   "pygments_lexer": "ipython3",
   "version": "3.12.6"
  }
 },
 "nbformat": 4,
 "nbformat_minor": 2
}
