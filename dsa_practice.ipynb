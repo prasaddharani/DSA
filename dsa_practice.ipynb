{
 "cells": [
  {
   "cell_type": "code",
   "execution_count": 1,
   "id": "58a2679e",
   "metadata": {},
   "outputs": [
    {
     "data": {
      "text/plain": [
       "4"
      ]
     },
     "execution_count": 1,
     "metadata": {},
     "output_type": "execute_result"
    }
   ],
   "source": [
    "''' \n",
    "Input: nums = [1,2,3,1]\n",
    "Output: 4\n",
    "Explanation: Rob house 1 (money = 1) and then rob house 3 (money = 3).\n",
    "Total amount you can rob = 1 + 3 = 4.\n",
    "'''\n",
    "from typing import List\n",
    "class Solution:\n",
    "    def rob(self, nums: List[int]) -> int:\n",
    "        n = len(nums)\n",
    "        if n < 2:\n",
    "            return nums[0]\n",
    "        dp = [0] * n \n",
    "        dp[0] = nums[0]\n",
    "        dp[1] = max(nums[0], nums[1])\n",
    "        for i in range(2, n):\n",
    "            dp[i] = max(dp[i - 1], dp[i - 2] + nums[i])\n",
    "        return dp[-1]\n",
    "    \n",
    "solution = Solution()\n",
    "solution.rob([1, 2, 3, 1])\n"
   ]
  },
  {
   "cell_type": "code",
   "execution_count": 5,
   "id": "2a36c8f3",
   "metadata": {},
   "outputs": [
    {
     "name": "stdout",
     "output_type": "stream",
     "text": [
      "[2, 3]\n",
      "[3, 2]\n"
     ]
    },
    {
     "data": {
      "text/plain": [
       "3"
      ]
     },
     "execution_count": 5,
     "metadata": {},
     "output_type": "execute_result"
    }
   ],
   "source": [
    "''' \n",
    "Input: nums = [2,3,2]\n",
    "Output: 3\n",
    "'''\n",
    "class Solution:\n",
    "    def rob(self, nums: List[int]) -> int:\n",
    "        n = len(nums)\n",
    "        exclude_last = self.rob_helper(nums[:n - 1])\n",
    "        exclude_first = self.rob_helper(nums[1:])\n",
    "        return max(exclude_first, exclude_last)\n",
    "\n",
    "    def rob_helper(self, nums):\n",
    "        print(nums)\n",
    "        n = len(nums)\n",
    "        if n < 2:\n",
    "            return nums[0]\n",
    "        dp = [0] * n \n",
    "        dp[0] = nums[0]\n",
    "        dp[1] = max(nums[0], nums[1])\n",
    "        for i in range(2, n):\n",
    "            dp[i] = max(dp[i - 1], dp[i - 2] + nums[i])\n",
    "        return dp[-1]\n",
    "    \n",
    "solution = Solution()\n",
    "solution.rob([2, 3, 2])"
   ]
  },
  {
   "cell_type": "code",
   "execution_count": 11,
   "id": "f3873b2c",
   "metadata": {},
   "outputs": [
    {
     "data": {
      "text/plain": [
       "True"
      ]
     },
     "execution_count": 11,
     "metadata": {},
     "output_type": "execute_result"
    }
   ],
   "source": [
    "''' \n",
    "Input: nums = [1,5,11,5]\n",
    "Output: true\n",
    "Explanation: The array can be partitioned as [1, 5, 5] and [11].\n",
    "'''\n",
    "\n",
    "class Solution:\n",
    "    def canPartition(self, nums):\n",
    "        total = sum(nums)\n",
    "        if total % 2 != 0:\n",
    "            return False \n",
    "        \n",
    "        target = total // 2\n",
    "        dp = [False] * (target + 1)\n",
    "        dp[0] = True \n",
    "        for num in nums:\n",
    "            for i in range(target, num - 1, -1):\n",
    "                dp[i] = dp[i] or dp[i - num]\n",
    "        return dp[target]\n",
    "\n",
    "solution = Solution()\n",
    "solution.canPartition([1, 5, 11, 5])\n"
   ]
  },
  {
   "cell_type": "code",
   "execution_count": 15,
   "id": "4a9fdca3",
   "metadata": {},
   "outputs": [
    {
     "data": {
      "text/plain": [
       "3"
      ]
     },
     "execution_count": 15,
     "metadata": {},
     "output_type": "execute_result"
    }
   ],
   "source": [
    "''' \n",
    "Input: coins = [1,2,5], amount = 11\n",
    "Output: 3\n",
    "Explanation: 11 = 5 + 5 + 1\n",
    "'''\n",
    "\n",
    "class Solution:\n",
    "    def coinChange(self, coins: List[int], amount: int) -> int:\n",
    "        if amount < 0:\n",
    "            return 0\n",
    "        dp = [float('inf')] * (amount + 1)\n",
    "        dp[0] = 0\n",
    "        for i in range(1, amount + 1):\n",
    "            for coin in coins:\n",
    "                if coin <= i and dp[i - coin] != float('inf'):\n",
    "                    dp[i] = min(dp[i], 1 + dp[i - coin])\n",
    "        return dp[-1]\n",
    "solution = Solution()\n",
    "solution.coinChange([1, 2, 5], 11)"
   ]
  },
  {
   "cell_type": "code",
   "execution_count": 17,
   "id": "d7c5d480",
   "metadata": {},
   "outputs": [
    {
     "data": {
      "text/plain": [
       "4"
      ]
     },
     "execution_count": 17,
     "metadata": {},
     "output_type": "execute_result"
    }
   ],
   "source": [
    "''' \n",
    "Input: nums = [10,9,2,5,3,7,101,18]\n",
    "Output: 4\n",
    "Explanation: The longest increasing subsequence is [2,3,7,101], therefore the length is 4.\n",
    "'''\n",
    "\n",
    "class Solution:\n",
    "    def lengthOfLIS(self, nums: List[int]) -> int:\n",
    "        dp = [1] * len(nums)\n",
    "        for i in range(len(nums)):\n",
    "            for j in range(i):\n",
    "                if nums[i] > nums[j] and dp[i] >= dp[j]:\n",
    "                    dp[i] = 1 + dp[j]\n",
    "        return max(dp)\n",
    "    \n",
    "solution = Solution()\n",
    "solution.lengthOfLIS([10,9,2,5,3,7,101,18])"
   ]
  },
  {
   "cell_type": "code",
   "execution_count": 23,
   "id": "bd49bdc9",
   "metadata": {},
   "outputs": [
    {
     "data": {
      "text/plain": [
       "3"
      ]
     },
     "execution_count": 23,
     "metadata": {},
     "output_type": "execute_result"
    }
   ],
   "source": [
    "''' \n",
    "Input: text1 = \"abcde\", text2 = \"ace\" \n",
    "Output: 3  \n",
    "Explanation: The longest common subsequence is \"ace\" and its length is 3.\n",
    "'''\n",
    "\n",
    "class Solution:\n",
    "    def longestCommonSubsequence(self, text1: str, text2: str) -> int:\n",
    "        dp = [[0 for _ in range(len(text2) + 1)] for _ in range(len(text1) + 1)]\n",
    "        for i in range(1, len(text1) + 1):\n",
    "            for j in range(1, len(text2) + 1):\n",
    "                if text1[i - 1] == text2[j - 1]:\n",
    "                    dp[i][j] = 1 + dp[i - 1][j - 1]\n",
    "                else:\n",
    "                    dp[i][j] = max(dp[i - 1][j], dp[i][j - 1])\n",
    "        return dp[-1][-1]\n",
    "solution = Solution()\n",
    "solution.longestCommonSubsequence(\"abcde\", \"ace\")"
   ]
  },
  {
   "cell_type": "code",
   "execution_count": 25,
   "id": "ddb495fb",
   "metadata": {},
   "outputs": [
    {
     "data": {
      "text/plain": [
       "[[0, 0, 0, 0],\n",
       " [0, 0, 0, 0],\n",
       " [0, 0, 0, 0],\n",
       " [0, 0, 0, 0],\n",
       " [0, 0, 0, 0],\n",
       " [0, 0, 0, 0]]"
      ]
     },
     "execution_count": 25,
     "metadata": {},
     "output_type": "execute_result"
    }
   ],
   "source": [
    "text1 = 'abcde'\n",
    "text2 = 'ace'\n",
    "dp = [[0 for _ in range(len(text2) + 1)] for _ in range(len(text1) + 1)]\n",
    "dp"
   ]
  },
  {
   "cell_type": "code",
   "execution_count": 31,
   "id": "9641b76c",
   "metadata": {},
   "outputs": [
    {
     "name": "stdout",
     "output_type": "stream",
     "text": [
      "cat True\n",
      "[True, False, False, True, False, False, False, False, False, False]\n",
      "catsandog\n",
      "cats True\n",
      "[True, False, False, True, True, False, False, False, False, False]\n",
      "catsandog\n",
      "sand True\n",
      "[True, False, False, True, True, False, False, True, False, False]\n",
      "catsandog\n"
     ]
    },
    {
     "data": {
      "text/plain": [
       "False"
      ]
     },
     "execution_count": 31,
     "metadata": {},
     "output_type": "execute_result"
    }
   ],
   "source": [
    "''' \n",
    "Input: s = \"applepenapple\", wordDict = [\"apple\",\"pen\"]\n",
    "Output: true\n",
    "Explanation: Return true because \"applepenapple\" can be segmented as \"apple pen apple\".\n",
    "Note that you are allowed to reuse a dictionary word.\n",
    "\n",
    "Input: s = \"catsandog\", wordDict = [\"cats\",\"dog\",\"sand\",\"and\",\"cat\"]\n",
    "Output: false\n",
    "'''\n",
    "\n",
    "class Solution:\n",
    "    def wordBreak(self, s: str, wordDict: List[str]) -> bool:\n",
    "        wordDict = set(wordDict)\n",
    "        dp = [False] * (len(s) + 1)\n",
    "        dp[0] = True\n",
    "        max_len = max(map(len, wordDict))\n",
    "        for i in range(len(s) + 1):\n",
    "            for j in range(max(0, i - max_len), i):\n",
    "                if s[j:i] in wordDict and dp[j]:\n",
    "                    dp[i] = True \n",
    "                    print(s[j:i], dp[j])\n",
    "                    print(dp)\n",
    "                    print(s)\n",
    "                    break\n",
    "        return dp[-1]\n",
    "solution = Solution()\n",
    "solution.wordBreak(\"catsandog\", wordDict = [\"cats\",\"dog\",\"sand\",\"and\",\"cat\"])\n",
    "\n"
   ]
  },
  {
   "cell_type": "code",
   "execution_count": 33,
   "id": "104b7756",
   "metadata": {},
   "outputs": [
    {
     "data": {
      "text/plain": [
       "7"
      ]
     },
     "execution_count": 33,
     "metadata": {},
     "output_type": "execute_result"
    }
   ],
   "source": [
    "''' \n",
    "Input: grid = [[1,3,1],[1,5,1],[4,2,1]]\n",
    "Output: 7\n",
    "Explanation: Because the path 1 → 3 → 1 → 1 → 1 minimizes the sum.\n",
    "\n",
    "      0     1     2     3\n",
    "   -------------------------\n",
    "0 | inf | inf | inf | inf |\n",
    "1 | inf | inf | inf | inf |\n",
    "2 | inf | inf | inf |  0  | ← dp[2][3] is now 0\n",
    "3 | inf | inf | inf | inf |\n",
    "\n",
    "'''\n",
    "\n",
    "class Solution:\n",
    "    def minPathSum(self, grid: List[List[int]]) -> int:\n",
    "        rows = len(grid)\n",
    "        cols = len(grid[0])\n",
    "        dp = [[float('inf') for _ in range(cols + 1)] for _ in range(rows + 1)]\n",
    "        dp[rows - 1][cols] = 0\n",
    "        for i in range(rows - 1, -1, -1):\n",
    "            for j in range(cols - 1, -1 , -1):\n",
    "                dp[i][j] = grid[i][j] + min(dp[i + 1][j], dp[i][j + 1])\n",
    "        return dp[0][0]\n",
    "    \n",
    "solution = Solution()\n",
    "solution.minPathSum([[1,3,1],[1,5,1],[4,2,1]])"
   ]
  },
  {
   "cell_type": "code",
   "execution_count": 36,
   "id": "3903f3ad",
   "metadata": {},
   "outputs": [
    {
     "data": {
      "text/plain": [
       "4"
      ]
     },
     "execution_count": 36,
     "metadata": {},
     "output_type": "execute_result"
    }
   ],
   "source": [
    "''' \n",
    "Input: matrix = [[9,9,4],[6,6,8],[2,1,1]]\n",
    "Output: 4\n",
    "Explanation: The longest increasing path is [1, 2, 6, 9].\n",
    "'''\n",
    "\n",
    "class Solution:\n",
    "    def longestIncreasingPath(self, matrix: List[List[int]]) -> int:\n",
    "        rows = len(matrix)\n",
    "        cols = len(matrix[0])\n",
    "        dp = {}\n",
    "\n",
    "        directions = [(0, 1), (1, 0), (0, -1), (-1, 0)]\n",
    "\n",
    "        def dfs(r, c):\n",
    "            if (r, c) in dp:\n",
    "                return dp[(r, c)]\n",
    "            \n",
    "            max_len = 1\n",
    "            for dr, dc in directions:\n",
    "                nr, nc = r + dr, c + dc \n",
    "                if 0 <= nr < rows and 0 <= nc < cols and matrix[nr][nc] > matrix[r][c]:\n",
    "                    max_len = max(max_len, 1 + dfs(nr, nc))\n",
    "            dp[(r, c)] = max_len\n",
    "            return max_len \n",
    "        \n",
    "        return max(dfs(r, c) for r in range(rows) for c in range(cols))\n",
    "    \n",
    "solution = Solution()\n",
    "solution.longestIncreasingPath([[9,9,4],[6,6,8],[2,1,1]])"
   ]
  },
  {
   "cell_type": "code",
   "execution_count": 40,
   "id": "ce5cca6e",
   "metadata": {},
   "outputs": [
    {
     "data": {
      "text/plain": [
       "4"
      ]
     },
     "execution_count": 40,
     "metadata": {},
     "output_type": "execute_result"
    }
   ],
   "source": [
    "class Solution:\n",
    "    def longestIncreasingPath(self, matrix: List[List[int]]) -> int:\n",
    "        rows = len(matrix)\n",
    "        cols = len(matrix[0])\n",
    "        dp = {}\n",
    "        directions = [(0, 1), (1, 0), (0, -1), (-1, 0)]\n",
    "        def dfs(r, c):\n",
    "            if (r, c) in dp:\n",
    "                return dp[(r, c)]\n",
    "\n",
    "            max_len = 1 \n",
    "            for dr, dc in directions:\n",
    "                nr, nc = r + dr, c + dc\n",
    "                if 0 <= nr < rows and 0 <= nc < cols and matrix[nr][nc] > matrix[r][c]:\n",
    "                    max_len = max(max_len, 1 + dfs(nr, nc))\n",
    "            dp[(r, c)] = max_len\n",
    "            return max_len\n",
    "        \n",
    "        return max(dfs(r, c) for r in range(rows) for c in range(cols))\n",
    "\n",
    "\n",
    "solution = Solution()\n",
    "solution.longestIncreasingPath([[9,9,4],[6,6,8],[2,1,1]])"
   ]
  },
  {
   "cell_type": "code",
   "execution_count": 42,
   "id": "20db2fad",
   "metadata": {},
   "outputs": [
    {
     "data": {
      "text/plain": [
       "3"
      ]
     },
     "execution_count": 42,
     "metadata": {},
     "output_type": "execute_result"
    }
   ],
   "source": [
    "''' \n",
    "Input: coins = [1,2,5], amount = 11\n",
    "Output: 3\n",
    "Explanation: 11 = 5 + 5 + 1\n",
    "'''\n",
    "\n",
    "class Solution:\n",
    "    def coinChange(self, coins: List[int], amount: int) -> int:\n",
    "        if amount < 0:\n",
    "            return 0 \n",
    "        dp = [float('inf')] * (amount + 1)\n",
    "        dp[0] = 0\n",
    "\n",
    "        for i in range(amount + 1):\n",
    "            for coin in coins:\n",
    "                if i >= coin and dp[i - coin] != float('inf'):\n",
    "                    dp[i] = min(dp[i], 1 + dp[i - coin])\n",
    "        return dp[-1]\n",
    "\n",
    "solution = Solution()\n",
    "solution.coinChange([1, 2, 5], 11)"
   ]
  },
  {
   "cell_type": "code",
   "execution_count": 48,
   "id": "9af68aae",
   "metadata": {},
   "outputs": [
    {
     "data": {
      "text/plain": [
       "4"
      ]
     },
     "execution_count": 48,
     "metadata": {},
     "output_type": "execute_result"
    }
   ],
   "source": [
    "''' \n",
    "Input: nums = [10,9,2,5,3,7,101,18]\n",
    "Output: 4\n",
    "Explanation: The longest increasing subsequence is [2,3,7,101], therefore the length is 4.\n",
    "'''\n",
    "\n",
    "class Solution:\n",
    "    def lengthOfLIS(self, nums: List[int]) -> int:\n",
    "        n = len(nums)\n",
    "        dp = [1] * n\n",
    "        for i in range(1, n):\n",
    "            for j in range(i):\n",
    "                if nums[i] > nums[j] and dp[j] >= dp[i]:\n",
    "                    dp[i] = 1 + dp[j] \n",
    "        return max(dp)\n",
    "    \n",
    "solution = Solution()\n",
    "solution.lengthOfLIS([10,9,2,5,3,7,101,18])\n"
   ]
  },
  {
   "cell_type": "code",
   "execution_count": 50,
   "id": "a4f81dc4",
   "metadata": {},
   "outputs": [
    {
     "data": {
      "text/plain": [
       "3"
      ]
     },
     "execution_count": 50,
     "metadata": {},
     "output_type": "execute_result"
    }
   ],
   "source": [
    "''' \n",
    "Input: text1 = \"abcde\", text2 = \"ace\" \n",
    "Output: 3  \n",
    "Explanation: The longest common subsequence is \"ace\" and its length is 3.\n",
    "'''\n",
    "\n",
    "class Solution:\n",
    "    def longestCommonSubsequence(self, text1: str, text2: str) -> int:\n",
    "        dp = [[0 for _ in range(len(text2) + 1)] for _ in range(len(text1) + 1)]\n",
    "        for i in range(1, len(text1) + 1):\n",
    "            for j in range(1, len(text2) + 1):\n",
    "                if text1[i - 1] == text2[j - 1]:\n",
    "                    dp[i][j] = 1 + dp[i - 1][j - 1]\n",
    "                else:\n",
    "                    dp[i][j] = max(dp[i - 1][j], dp[i][j - 1])\n",
    "        return dp[-1][-1]\n",
    "    \n",
    "solution = Solution()\n",
    "solution.longestCommonSubsequence(\"abcde\", \"ace\")"
   ]
  },
  {
   "cell_type": "code",
   "execution_count": 54,
   "id": "139c4ff8",
   "metadata": {},
   "outputs": [
    {
     "data": {
      "text/plain": [
       "True"
      ]
     },
     "execution_count": 54,
     "metadata": {},
     "output_type": "execute_result"
    }
   ],
   "source": [
    "''' \n",
    "Input: nums = [1,5,11,5]\n",
    "Output: true\n",
    "Explanation: The array can be partitioned as [1, 5, 5] and [11].\n",
    "'''\n",
    "\n",
    "class Solution:\n",
    "    def canPartition(self, nums):\n",
    "        total = sum(nums) \n",
    "\n",
    "        if total % 2 != 0:\n",
    "            return False \n",
    "        \n",
    "        target = total // 2\n",
    "        \n",
    "        dp = [False] * (target + 1)\n",
    "        dp[0] = True \n",
    "        for num in nums:\n",
    "            for i in range(target, -1, -1):\n",
    "                dp[i] = dp[i] or dp[i - num]\n",
    "        return dp[target]\n",
    "        \n",
    "solution = Solution()\n",
    "solution.canPartition([1, 5 , 11, 5])"
   ]
  },
  {
   "cell_type": "code",
   "execution_count": null,
   "id": "30fe3b0d",
   "metadata": {},
   "outputs": [
    {
     "data": {
      "text/plain": [
       "321"
      ]
     },
     "execution_count": 63,
     "metadata": {},
     "output_type": "execute_result"
    }
   ],
   "source": [
    "class Solution:\n",
    "    def reverse(self, x: int) -> int:\n",
    "        sign = -1 if x < 0 else 1 \n",
    "        x = abs(x)\n",
    "        rev = 0\n",
    "        MAX_INT = 2 ** 31 - 1\n",
    "\n",
    "        while x != 0:\n",
    "            rem = x % 10 \n",
    "            if rev > MAX_INT // 10:  # if  rev * 10 > MAX_INT\n",
    "                return 0\n",
    "            rev = (rev * 10) + rem \n",
    "            x = x // 10 \n",
    "        return rev * sign\n",
    "    \n",
    "solution = Solution()\n",
    "solution.reverse(123)"
   ]
  },
  {
   "cell_type": "code",
   "execution_count": 71,
   "id": "7648943f",
   "metadata": {},
   "outputs": [
    {
     "data": {
      "text/plain": [
       "3"
      ]
     },
     "execution_count": 71,
     "metadata": {},
     "output_type": "execute_result"
    }
   ],
   "source": [
    "''' \n",
    "Input: points = [[1,1],[2,2],[3,3]]\n",
    "Output: 3\n",
    "'''\n",
    "\n",
    "class Solution:\n",
    "    def maxPoints(self, points: List[List[int]]) -> int:\n",
    "        res = 1\n",
    "        for i in range(len(points)):\n",
    "            p1 = points[i]\n",
    "            count = {}\n",
    "            for j in range(i + 1, len(points)):\n",
    "                p2 = points[j]\n",
    "                if p1[0] == p2[0]:\n",
    "                    slope = float('inf')\n",
    "                else:\n",
    "                    slope = (p2[1] - p1[1]) / (p2[0] - p1[0])\n",
    "                count[slope] = 1 + count.get(slope, 0)\n",
    "                res = max(res, 1 + count[slope])\n",
    "        return res \n",
    "    \n",
    "solution = Solution()\n",
    "solution.maxPoints([[1,1],[2,2],[3,3]])"
   ]
  },
  {
   "cell_type": "code",
   "execution_count": 73,
   "id": "4bafa7d7",
   "metadata": {},
   "outputs": [
    {
     "data": {
      "text/plain": [
       "True"
      ]
     },
     "execution_count": 73,
     "metadata": {},
     "output_type": "execute_result"
    }
   ],
   "source": [
    "from typing import List\n",
    "\n",
    "class Solution:\n",
    "    def canJump(self, nums: List[int]) -> bool:\n",
    "        max_reach = 0 \n",
    "        for i in range(len(nums)):\n",
    "            if max_reach < i:\n",
    "                return False \n",
    "            \n",
    "            max_reach = max(max_reach, i + nums[i])\n",
    "            if max_reach >= len(nums) - 1:\n",
    "                return True \n",
    "        return True \n",
    "\n",
    "\n",
    "nums = [2,3,1,1,4]\n",
    "solution = Solution()\n",
    "solution.canJump(nums)"
   ]
  },
  {
   "cell_type": "code",
   "execution_count": 78,
   "id": "a97a5e29",
   "metadata": {},
   "outputs": [
    {
     "data": {
      "text/plain": [
       "2"
      ]
     },
     "execution_count": 78,
     "metadata": {},
     "output_type": "execute_result"
    }
   ],
   "source": [
    "from typing import List\n",
    "\n",
    "class Solution:\n",
    "    def canJump(self, nums: List[int]) -> bool:\n",
    "        max_reach = 0 \n",
    "        current_jump_end = 0\n",
    "        count = 0\n",
    "        for i in range(len(nums)):\n",
    "            max_reach = max(max_reach, i + nums[i])\n",
    "            if current_jump_end == i:\n",
    "                current_jump_end = max_reach\n",
    "                count += 1\n",
    "                \n",
    "            if current_jump_end >= len(nums) - 1:\n",
    "                return count \n",
    "        return count \n",
    "\n",
    "\n",
    "nums = [2,3,1,1,4]\n",
    "solution = Solution()\n",
    "solution.canJump(nums)"
   ]
  },
  {
   "cell_type": "code",
   "execution_count": 79,
   "id": "210d2959",
   "metadata": {},
   "outputs": [
    {
     "data": {
      "text/plain": [
       "3"
      ]
     },
     "execution_count": 79,
     "metadata": {},
     "output_type": "execute_result"
    }
   ],
   "source": [
    "''' \n",
    "Input: gas = [1,2,3,4,5], cost = [3,4,5,1,2]\n",
    "Output: 3\n",
    "'''\n",
    "\n",
    "class Solution:\n",
    "    def canCompleteCircuit(self, gas: List[int], cost: List[int]) -> int:\n",
    "        total_gas = 0 \n",
    "        current_gas = 0\n",
    "        start_station = 0 \n",
    "\n",
    "        for i in range(len(gas)):\n",
    "            balance = gas[i] - cost[i]\n",
    "            total_gas += balance \n",
    "            current_gas += balance \n",
    "\n",
    "            if balance < 0:\n",
    "                start_station = i + 1\n",
    "                balance = 0 \n",
    "                current_gas = 0\n",
    "        return start_station if total_gas >=0 else -1\n",
    "    \n",
    "solution = Solution()\n",
    "solution.canCompleteCircuit(gas = [1,2,3,4,5], cost = [3,4,5,1,2])\n",
    "\n"
   ]
  },
  {
   "cell_type": "code",
   "execution_count": 81,
   "id": "f00d1f92",
   "metadata": {},
   "outputs": [
    {
     "data": {
      "text/plain": [
       "8"
      ]
     },
     "execution_count": 81,
     "metadata": {},
     "output_type": "execute_result"
    }
   ],
   "source": [
    "from collections import Counter, deque\n",
    "import heapq\n",
    "\n",
    "class Solution:\n",
    "    def leastInterval(self, tasks: List[str], n: int) -> int:\n",
    "        counter = Counter(tasks)\n",
    "        max_heap = [-cnt for cnt in counter.values()]\n",
    "        heapq.heapify(max_heap)\n",
    "        queue = deque() \n",
    "        time = 0\n",
    "        while max_heap or queue:\n",
    "            time += 1\n",
    "            if max_heap:\n",
    "                cnt = 1 + heapq.heappop(max_heap)\n",
    "                if cnt:\n",
    "                    queue.append([cnt, time + n])\n",
    "                \n",
    "            if queue and queue[0][1] <= time:\n",
    "                heapq.heappush(max_heap, queue.popleft()[0])\n",
    "        return time\n",
    "    \n",
    "solution = Solution()\n",
    "solution.leastInterval([\"A\",\"A\",\"A\",\"B\",\"B\",\"B\"], n = 2)\n"
   ]
  },
  {
   "cell_type": "code",
   "execution_count": null,
   "id": "2eac2867",
   "metadata": {},
   "outputs": [],
   "source": []
  },
  {
   "cell_type": "code",
   "execution_count": null,
   "id": "97b0ed56",
   "metadata": {},
   "outputs": [
    {
     "data": {
      "text/plain": [
       "'IT'"
      ]
     },
     "execution_count": 86,
     "metadata": {},
     "output_type": "execute_result"
    }
   ],
   "source": [
    "''' \n",
    "[\"LRUCache\", \"put\", \"put\", \"get\", \"put\", \"get\", \"put\", \"get\", \"get\", \"get\"]\n",
    "[[2], [1, 1], [2, 2], [1], [3, 3], [2], [4, 4], [1], [3], [4]]\n",
    "Output\n",
    "[null, null, null, 1, null, -1, null, -1, 3, 4]\n",
    "'''\n",
    "\n",
    "class Node:\n",
    "    def __init__(self, key = 0, value = 0):\n",
    "        self.prev = None \n",
    "        self.key = key\n",
    "        self.value = value\n",
    "        self.next = None \n",
    "\n",
    "class LRUCache:\n",
    "    def __init__(self, capacity):\n",
    "        self.capacity = capacity\n",
    "        self.cache = {}\n",
    "        self.head = Node()\n",
    "        self.tail = Node()\n",
    "        self.head.next, self.tail.prev = self.tail, self.head\n",
    "\n",
    "    def add_to_the_front(self, node):\n",
    "        node.prev, node.next = self.head, self.head.next\n",
    "        self.head.next.prev = node\n",
    "        self.head.next = node\n",
    "\n",
    "    def remove(self, node):\n",
    "        prev_node, next_node = node.prev, node.next \n",
    "        prev_node.next, next_node.prev = next_node, prev_node\n",
    "\n",
    "\n",
    "    def get(self, key: int) -> int:\n",
    "        if key in self.cache:\n",
    "            node = self.cache[key]\n",
    "            self.remove(node)\n",
    "            self.add_to_the_front(node)\n",
    "            return node.value\n",
    "        return -1\n",
    "\n",
    "    \n",
    "    def put(self, key: int, value: int) -> None:\n",
    "        if key in self.cache:\n",
    "            node = self.cache[key]\n",
    "            node.value = value \n",
    "            self.remove(node)\n",
    "            self.add_to_the_front(node)\n",
    "        else:\n",
    "            node = Node(key, value)\n",
    "            self.cache[key] = node\n",
    "            self.add_to_the_front(node)\n",
    "            if len(self.cache) > self.capacity:\n",
    "                lru_node = self.tail.prev\n",
    "                self.remove(lru_node)\n",
    "                del self.cache[lru_node.key]\n",
    "\n",
    "\n",
    "obj = LRUCache(3)\n",
    "obj.put('Name', 'Dharani')\n",
    "obj.put('Age', '25')\n",
    "obj.put('profession', 'IT')\n",
    "obj.put('profession', 'SMT')\n",
    "obj.get('profession')\n",
    "        "
   ]
  },
  {
   "cell_type": "code",
   "execution_count": 90,
   "id": "825fb6fe",
   "metadata": {},
   "outputs": [
    {
     "data": {
      "text/plain": [
       "[[1, 6], [8, 10], [15, 18]]"
      ]
     },
     "execution_count": 90,
     "metadata": {},
     "output_type": "execute_result"
    }
   ],
   "source": [
    "''' \n",
    "Input: intervals = [[1,3],[2,6],[8,10],[15,18]]\n",
    "Output: [[1,6],[8,10],[15,18]]\n",
    "Explanation: Since intervals [1,3] and [2,6] overlap, merge them into [1,6].\n",
    "'''\n",
    "\n",
    "from typing import List\n",
    "\n",
    "class Solution:\n",
    "    def merge(self, intervals: List[List[int]]) -> List[List[int]]:\n",
    "        res = []\n",
    "        intervals.sort()\n",
    "        res.append(intervals[0])\n",
    "        for s, e in intervals[1:]: \n",
    "            prev_end = res[-1][1]\n",
    "            if prev_end >= s:\n",
    "                res[-1][1] = max(prev_end, e)\n",
    "            else:\n",
    "                res.append([s, e])\n",
    "        return res \n",
    "    \n",
    "solution = Solution()\n",
    "solution.merge([[1,3],[2,6],[8,10],[15,18]])"
   ]
  },
  {
   "cell_type": "code",
   "execution_count": 102,
   "id": "bbb0656d",
   "metadata": {},
   "outputs": [
    {
     "data": {
      "text/plain": [
       "[[1, 2], [3, 10], [12, 16]]"
      ]
     },
     "execution_count": 102,
     "metadata": {},
     "output_type": "execute_result"
    }
   ],
   "source": [
    "''' \n",
    "Input: intervals = [[1,2],[3,5],[6,7],[8,10],[12,16]], newInterval = [4,8]\n",
    "Output: [[1,2],[3,10],[12,16]]\n",
    "Explanation: Because the new interval [4,8] overlaps with [3,5],[6,7],[8,10].\n",
    "'''\n",
    "\n",
    "class Solution:\n",
    "    def insert(self, intervals: List[List[int]], newInterval: List[int]) -> List[List[int]]:\n",
    "        res = []\n",
    "        for i in range(len(intervals)):\n",
    "            if newInterval[1] < intervals[i][0]:\n",
    "                res.append(newInterval)\n",
    "                return res + intervals[i:]\n",
    "            elif newInterval[0] > intervals[i][1]:\n",
    "                res.append(intervals[i])\n",
    "            else:\n",
    "                newInterval = [min(newInterval[0], intervals[i][0]), max(newInterval[1], intervals[i][1])]\n",
    "        res.append(newInterval)\n",
    "        return res \n",
    "\n",
    "solution = Solution()\n",
    "solution.insert([[1,2],[3,5],[6,7],[8,10],[12,16]], [4,8])"
   ]
  },
  {
   "cell_type": "code",
   "execution_count": 103,
   "id": "76402394",
   "metadata": {},
   "outputs": [
    {
     "data": {
      "text/plain": [
       "1"
      ]
     },
     "execution_count": 103,
     "metadata": {},
     "output_type": "execute_result"
    }
   ],
   "source": [
    "''' \n",
    "Input: intervals = [[1,2],[2,3],[3,4],[1,3]]\n",
    "Output: 1\n",
    "Explanation: [1,3] can be removed and the rest of the intervals are non-overlapping.\n",
    "'''\n",
    "\n",
    "class Solution:\n",
    "    def eraseOverlapIntervals(self, intervals: List[List[int]]) -> int:\n",
    "        intervals.sort()\n",
    "        prev_end = intervals[0][1]\n",
    "        count = 0\n",
    "        for start, end in intervals[1:]:\n",
    "            if start >= prev_end:\n",
    "                prev_end = end \n",
    "            else:\n",
    "                prev_end = min(prev_end, end)\n",
    "                count += 1 \n",
    "        return count \n",
    "    \n",
    "solution = Solution()\n",
    "solution.eraseOverlapIntervals([[1,2],[2,3],[3,4],[1,3]])"
   ]
  },
  {
   "cell_type": "code",
   "execution_count": 105,
   "id": "4501c653",
   "metadata": {},
   "outputs": [
    {
     "name": "stdout",
     "output_type": "stream",
     "text": [
      "[1, 1, 2, 3, 4, 4, 5, 6]\n"
     ]
    }
   ],
   "source": [
    "''' \n",
    "Input: lists = [[1,4,5],[1,3,4],[2,6]]\n",
    "Output: [1,1,2,3,4,4,5,6]\n",
    "Explanation: The linked-lists are:\n",
    "[\n",
    "  1->4->5,\n",
    "  1->3->4,\n",
    "  2->6\n",
    "]\n",
    "merging them into one sorted list:\n",
    "1->1->2->3->4->4->5->6\n",
    "'''\n",
    "\n",
    "from typing import List, Optional\n",
    "\n",
    "class ListNode:\n",
    "    def __init__(self, val=0, next=None):\n",
    "        self.val = val\n",
    "        self.next = next\n",
    "class Solution:\n",
    "    def mergeKLists(self, lists: List[Optional[ListNode]]) -> Optional[ListNode]:\n",
    "        while len(lists) > 1:\n",
    "            merged_list = []\n",
    "            for i in range(0, len(lists), 2):\n",
    "                l1 = lists[i]\n",
    "                l2 = lists[i + 1] if (i + 1) < len(lists) else None \n",
    "                merged_list.append(self.merge(l1, l2))\n",
    "            lists = merged_list\n",
    "\n",
    "        return lists[0]\n",
    "    \n",
    "\n",
    "    def merge(self, l1, l2):\n",
    "        dummy = ListNode()\n",
    "        curr = dummy \n",
    "        while l1 and l2:\n",
    "            if l1.val < l2.val:\n",
    "                curr.next = l1 \n",
    "                l1 = l1.next \n",
    "            else:\n",
    "                curr.next = l2 \n",
    "                l2 = l2.next \n",
    "            curr = curr.next \n",
    "        \n",
    "        if l1:\n",
    "            curr.next = l1 \n",
    "        \n",
    "        if l2:\n",
    "            curr.next = l2 \n",
    "        \n",
    "        return dummy.next\n",
    "    \n",
    "\n",
    "def build_linked_list(arr):\n",
    "    dummy = ListNode()\n",
    "    curr = dummy\n",
    "    for num in arr:\n",
    "        curr.next = ListNode(num)\n",
    "        curr = curr.next\n",
    "    return dummy.next\n",
    "\n",
    "def print_linked_list(head):\n",
    "    result = []\n",
    "    while head:\n",
    "        result.append(head.val)\n",
    "        head = head.next\n",
    "    print(result)\n",
    "\n",
    "\n",
    "lists = [[1,4,5],[1,3,4],[2,6]]\n",
    "linked_lists = [build_linked_list(lst) for lst in lists]\n",
    "\n",
    "solution = Solution()\n",
    "merged_head = solution.mergeKLists(linked_lists)\n",
    "print_linked_list(merged_head)  # Output should be [1,1,2,3,4,4,5,6]"
   ]
  },
  {
   "cell_type": "code",
   "execution_count": 120,
   "id": "2b090fe3",
   "metadata": {},
   "outputs": [
    {
     "data": {
      "text/plain": [
       "[3]"
      ]
     },
     "execution_count": 120,
     "metadata": {},
     "output_type": "execute_result"
    }
   ],
   "source": [
    "''' \n",
    "Input: nums = [1,1,1,2,2,3], k = 2\n",
    "Output: [1,2]\n",
    "'''\n",
    "import heapq\n",
    "from collections import Counter\n",
    "\n",
    "class Solution:\n",
    "    def topKFrequent(self, nums, k):\n",
    "        counter = Counter(nums)\n",
    "        min_heap = []\n",
    "        for key, value in counter.items():\n",
    "            heapq.heappush(min_heap, (value, key))\n",
    "            if len(min_heap) > k:\n",
    "                heapq.heappop(min_heap)\n",
    "        return [key for value, key in min_heap]\n",
    "\n",
    "solution = Solution()\n",
    "solution.topKFrequent(nums = [1,1,1,1, 2,2, 2, 2,3, 3, 3, 3], k = 1)"
   ]
  },
  {
   "cell_type": "code",
   "execution_count": 122,
   "id": "a9205d24",
   "metadata": {},
   "outputs": [
    {
     "data": {
      "text/plain": [
       "[[-2, 2]]"
      ]
     },
     "execution_count": 122,
     "metadata": {},
     "output_type": "execute_result"
    }
   ],
   "source": [
    "''' \n",
    "Input: points = [[1,3],[-2,2]], k = 1\n",
    "Output: [[-2,2]]\n",
    "Explanation:\n",
    "The distance between (1, 3) and the origin is sqrt(10).\n",
    "The distance between (-2, 2) and the origin is sqrt(8).\n",
    "Since sqrt(8) < sqrt(10), (-2, 2) is closer to the origin.\n",
    "We only want the closest k = 1 points from the origin, so the answer is just [[-2,2]].\n",
    "'''\n",
    "\n",
    "class Solution:\n",
    "    def kClosest(self, points: List[List[int]], k: int) -> List[List[int]]:\n",
    "        min_heap = []\n",
    "        for x, y in points:\n",
    "            dist = x * x + y * y \n",
    "            heapq.heappush(min_heap, (dist, x, y))\n",
    "        res = []\n",
    "        while k > 0:\n",
    "            dist, x, y = heapq.heappop(min_heap)\n",
    "            res.append([x, y])\n",
    "            k -= 1 \n",
    "\n",
    "        return res \n",
    "\n",
    "solution = Solution()\n",
    "solution.kClosest([[1,3],[-2,2]], k = 1)"
   ]
  },
  {
   "cell_type": "code",
   "execution_count": 123,
   "id": "96db3d45",
   "metadata": {},
   "outputs": [
    {
     "data": {
      "text/plain": [
       "5"
      ]
     },
     "execution_count": 123,
     "metadata": {},
     "output_type": "execute_result"
    }
   ],
   "source": [
    "''' \n",
    "Input:\n",
    "[\"KthLargest\", \"add\", \"add\", \"add\", \"add\", \"add\"]\n",
    "[[3, [4, 5, 8, 2]], [3], [5], [10], [9], [4]]\n",
    "\n",
    "Output: [null, 4, 5, 5, 8, 8]\n",
    "\n",
    "Explanation:\n",
    "\n",
    "KthLargest kthLargest = new KthLargest(3, [4, 5, 8, 2]);\n",
    "kthLargest.add(3); // return 4\n",
    "kthLargest.add(5); // return 5\n",
    "kthLargest.add(10); // return 5\n",
    "kthLargest.add(9); // return 8\n",
    "kthLargest.add(4); // return 8\n",
    "'''\n",
    "from typing import List\n",
    "import heapq\n",
    "\n",
    "class KthLargest:\n",
    "\n",
    "    def __init__(self, k: int, nums: List[int]):\n",
    "        self.min_heap = []\n",
    "        self.k = k\n",
    "        for num in nums:\n",
    "            heapq.heappush(self.min_heap, num)\n",
    "        \n",
    "        while len(self.min_heap) > k:\n",
    "            heapq.heappop(self.min_heap)\n",
    "\n",
    "    def add(self, num):\n",
    "        heapq.heappush(self.min_heap, num)\n",
    "        if len(self.min_heap) > self.k:\n",
    "            heapq.heappop(self.min_heap)\n",
    "        return self.min_heap[0]\n",
    "\n",
    "\n",
    "solution = KthLargest(3, [4, 5, 8, 2])\n",
    "solution.add(3)\n",
    "solution.add(5)"
   ]
  },
  {
   "cell_type": "code",
   "execution_count": 130,
   "id": "c51e883d",
   "metadata": {},
   "outputs": [
    {
     "data": {
      "text/plain": [
       "4"
      ]
     },
     "execution_count": 130,
     "metadata": {},
     "output_type": "execute_result"
    }
   ],
   "source": [
    "''' \n",
    "Input: heights = [4,2,7,6,9,14,12], bricks = 5, ladders = 1\n",
    "Output: 4\n",
    "Explanation: Starting at building 0, you can follow these steps:\n",
    "- Go to building 1 without using ladders nor bricks since 4 >= 2.\n",
    "- Go to building 2 using 5 bricks. You must use either bricks or ladders because 2 < 7.\n",
    "- Go to building 3 without using ladders nor bricks since 7 >= 6.\n",
    "- Go to building 4 using your only ladder. You must use either bricks or ladders because 6 < 9.\n",
    "It is impossible to go beyond building 4 because you do not have any more bricks or ladders.\n",
    "'''\n",
    "import heapq\n",
    "\n",
    "class Solution:\n",
    "\n",
    "    def furthestBuilding(self, heights, bricks, ladders):\n",
    "        min_heap = []\n",
    "        n = len(heights) - 1\n",
    "        for i in range(n - 1):\n",
    "            diff = heights[i + 1] - heights[i]\n",
    "            if diff < 0:\n",
    "                continue\n",
    "            \n",
    "            heapq.heappush(min_heap, diff)\n",
    "\n",
    "            if len(min_heap) > ladders:\n",
    "                bricks -= heapq.heappop(min_heap)\n",
    "            \n",
    "            if bricks < 0:\n",
    "                return i \n",
    "        return n \n",
    "\n",
    "solution = Solution()\n",
    "solution.furthestBuilding([4,2,7,6,9,14,12], 5, 1)"
   ]
  },
  {
   "cell_type": "code",
   "execution_count": 135,
   "id": "144394cc",
   "metadata": {},
   "outputs": [
    {
     "data": {
      "text/plain": [
       "[0, 2, 3, 1]"
      ]
     },
     "execution_count": 135,
     "metadata": {},
     "output_type": "execute_result"
    }
   ],
   "source": [
    "''' \n",
    "Input: tasks = [[1,2],[2,4],[3,2],[4,1]]\n",
    "Output: [0,2,3,1]\n",
    "Explanation: The events go as follows: \n",
    "- At time = 1, task 0 is available to process. Available tasks = {0}.\n",
    "- Also at time = 1, the idle CPU starts processing task 0. Available tasks = {}.\n",
    "- At time = 2, task 1 is available to process. Available tasks = {1}.\n",
    "- At time = 3, task 2 is available to process. Available tasks = {1, 2}.\n",
    "- Also at time = 3, the CPU finishes task 0 and starts processing task 2 as it is the shortest. Available tasks = {1}.\n",
    "- At time = 4, task 3 is available to process. Available tasks = {1, 3}.\n",
    "- At time = 5, the CPU finishes task 2 and starts processing task 3 as it is the shortest. Available tasks = {1}.\n",
    "- At time = 6, the CPU finishes task 3 and starts processing task 1. Available tasks = {}.\n",
    "- At time = 10, the CPU finishes task 1 and becomes idle.\n",
    "'''\n",
    "\n",
    "import heapq\n",
    "\n",
    "class Solution:\n",
    "    def getOrder(self, tasks):\n",
    "        min_heap = []\n",
    "        res = []\n",
    "        time = 1\n",
    "        i = 0 \n",
    "        tasks = sorted([(et, pt, i) for i, (et, pt) in enumerate(tasks)])\n",
    "        while i < len(tasks) or min_heap:\n",
    "\n",
    "            while i < len(tasks) and tasks[i][0] <= time:\n",
    "                et, pt, idx = tasks[i]\n",
    "                heapq.heappush(min_heap, (pt, idx))\n",
    "                i += 1 \n",
    "            \n",
    "            if min_heap: \n",
    "                pt, idx = heapq.heappop(min_heap)\n",
    "                time += pt \n",
    "                res.append(idx)\n",
    "            else:\n",
    "                time = tasks[i][0]\n",
    "        return res \n",
    "    \n",
    "solution = Solution()\n",
    "solution.getOrder([[1,2],[2,4],[3,2],[4,1]])\n"
   ]
  },
  {
   "cell_type": "code",
   "execution_count": 138,
   "id": "eabe5973",
   "metadata": {},
   "outputs": [
    {
     "data": {
      "text/plain": [
       "3"
      ]
     },
     "execution_count": 138,
     "metadata": {},
     "output_type": "execute_result"
    }
   ],
   "source": [
    "''' \n",
    "Input\n",
    "[\"MedianFinder\", \"addNum\", \"addNum\", \"findMedian\", \"addNum\", \"findMedian\"]\n",
    "[[], [1], [2], [], [3], []]\n",
    "Output\n",
    "[null, null, null, 1.5, null, 2.0]\n",
    "\n",
    "Explanation\n",
    "MedianFinder medianFinder = new MedianFinder();\n",
    "medianFinder.addNum(1);    // arr = [1]\n",
    "medianFinder.addNum(2);    // arr = [1, 2]\n",
    "medianFinder.findMedian(); // return 1.5 (i.e., (1 + 2) / 2)\n",
    "medianFinder.addNum(3);    // arr[1, 2, 3]\n",
    "medianFinder.findMedian(); // return 2.0\n",
    "'''\n",
    "\n",
    "''' \n",
    "Input\n",
    "[\"MedianFinder\", \"addNum\", \"addNum\", \"findMedian\", \"addNum\", \"findMedian\"]\n",
    "[[], [1], [2], [], [3], []]\n",
    "Output\n",
    "[null, null, null, 1.5, null, 2.0]\n",
    "\n",
    "Explanation\n",
    "MedianFinder medianFinder = new MedianFinder();\n",
    "medianFinder.addNum(1);    // arr = [1]\n",
    "medianFinder.addNum(2);    // arr = [1, 2]\n",
    "medianFinder.findMedian(); // return 1.5 (i.e., (1 + 2) / 2)\n",
    "medianFinder.addNum(3);    // arr[1, 2, 3]\n",
    "medianFinder.findMedian(); // return 2.0\n",
    "'''\n",
    "\n",
    "import heapq\n",
    "\n",
    "import heapq\n",
    "\n",
    "class MedianFinder:\n",
    "\n",
    "    def __init__(self):\n",
    "        self.small = []\n",
    "        self.large = []\n",
    "\n",
    "    def addNum(self, num: int) -> None:\n",
    "        heapq.heappush(self.small, -1 * num)\n",
    "\n",
    "        if self.small and self.large and (-1 * self.small[0] > self.large[0]):\n",
    "            heapq.heappush(self.large, -1 * heapq.heappop(self.small))\n",
    "        \n",
    "        if len(self.small) > len(self.large) + 1:\n",
    "            heapq.heappush(self.large, -1 * heapq.heappop(self.small))\n",
    "\n",
    "        if len(self.large) > len(self.small) + 1:\n",
    "            heapq.heappush(self.small, -1 * heapq.heappop(self.large))\n",
    "\n",
    "    \n",
    "    def findMedian(self) -> float:\n",
    "        if len(self.small) > len(self.large):\n",
    "            return -1 * self.small[0]\n",
    "        \n",
    "        if len(self.large) > len(self.small):\n",
    "            return self.large[0]\n",
    "        \n",
    "        return (-1 * self.small[0] + self.large[0]) / 2\n",
    "    \n",
    "\n",
    "obj = MedianFinder()\n",
    "obj.addNum(1)\n",
    "obj.addNum(2)\n",
    "obj.addNum(5)\n",
    "obj.addNum(3)\n",
    "obj.addNum(4)\n",
    "obj.findMedian()"
   ]
  },
  {
   "cell_type": "code",
   "execution_count": 20,
   "id": "cd9701d5",
   "metadata": {},
   "outputs": [
    {
     "name": "stdout",
     "output_type": "stream",
     "text": [
      "4\n",
      "2\n",
      "5\n",
      "1\n",
      "3\n"
     ]
    }
   ],
   "source": [
    "from collections import deque \n",
    "\n",
    "class TreeNode:\n",
    "    def __init__(self, value):\n",
    "        self.left = None \n",
    "        self.value = value \n",
    "        self.right = None \n",
    "\n",
    "class BST:\n",
    "    def __init__(self):\n",
    "        pass\n",
    "\n",
    "    def insert(self, root, value):\n",
    "        if root is None:\n",
    "            return TreeNode(value)\n",
    "        if root.value > value:\n",
    "            root.left = self.insert(root.left, value)\n",
    "        else:\n",
    "            root.right = self.insert(root.right, value)\n",
    "        return root \n",
    "    \n",
    "    def insert_without_recursion(self, root, value):\n",
    "        if root is None:\n",
    "            return TreeNode(value)\n",
    "        cur = root\n",
    "        while True:\n",
    "            new_node = TreeNode(value)\n",
    "            if cur.value > value:\n",
    "                if cur.left is None:\n",
    "                    cur.left = new_node\n",
    "                    break\n",
    "                cur = cur.left \n",
    "            else:\n",
    "                if cur.right is None:\n",
    "                    cur.right = new_node \n",
    "                    break \n",
    "                cur = cur.right \n",
    "        return root \n",
    "    \n",
    "    # Depth First Seach \n",
    "    def inorder(self, root):\n",
    "        if root:\n",
    "            self.inorder(root.left)\n",
    "            print(root.value)\n",
    "            self.inorder(root.right)\n",
    "\n",
    "    def preorder(self, root):\n",
    "        if root:\n",
    "            print(root.value)\n",
    "            self.preorder(root.left)\n",
    "            self.preorder(root.right)\n",
    "\n",
    "    def postorder(self, root):\n",
    "        if root:\n",
    "            self.postorder(root.left)\n",
    "            self.postorder(root.right)\n",
    "            print(root.value)\n",
    "\n",
    "    def levelorder(self, root):\n",
    "        queue = deque([root])\n",
    "        while queue:\n",
    "            node = queue.popleft()\n",
    "            if node:\n",
    "                print(node.value)\n",
    "\n",
    "            if node.left:\n",
    "                queue.append(node.left)\n",
    "            \n",
    "            if node.right:\n",
    "                queue.append(node.right)\n",
    "            \n",
    "    \n",
    "\n",
    "bst = BST()\n",
    "root = None \n",
    "values = [4, 2, 1, 3, 5]\n",
    "for value in values:\n",
    "    root = bst.insert_without_recursion(root, value)\n",
    "\n",
    "bst.levelorder(root)"
   ]
  },
  {
   "cell_type": "code",
   "execution_count": null,
   "id": "bfe00426",
   "metadata": {},
   "outputs": [],
   "source": [
    "from collections import deque\n",
    "\n",
    "class TreeNode:\n",
    "    def __init__(self, val=0, left=None, right=None):\n",
    "        self.val = val\n",
    "        self.left = left\n",
    "        self.right = right\n",
    "class Solution:\n",
    "    def levelOrder(self, root: Optional[TreeNode]) -> List[List[int]]:\n",
    "        if not root:\n",
    "            return []\n",
    "        queue = deque([root])\n",
    "        res = []\n",
    "        while queue:\n",
    "            level = []\n",
    "            level_size = len(queue)\n",
    "            \n",
    "            for _ in range(level_size):\n",
    "                node = queue.popleft()\n",
    "                level.append(node.val)\n",
    "                \n",
    "                if node.left:\n",
    "                    queue.append(node.left)\n",
    "                \n",
    "                if node.right:\n",
    "                    queue.append(node.right)\n",
    "            res.append(level)\n",
    "        return res "
   ]
  },
  {
   "cell_type": "code",
   "execution_count": null,
   "id": "dfd1aa6f",
   "metadata": {},
   "outputs": [],
   "source": [
    "# Definition for a binary tree node.\n",
    "# class TreeNode:\n",
    "#     def __init__(self, val=0, left=None, right=None):\n",
    "#         self.val = val\n",
    "#         self.left = left\n",
    "#         self.right = right\n",
    "class Solution:\n",
    "    def rightSideView(self, root: Optional[TreeNode]) -> List[int]:\n",
    "        queue = deque([root])\n",
    "        res = []\n",
    "        while queue:\n",
    "            level = []\n",
    "            level_size = len(queue)\n",
    "\n",
    "            for _ in range(level_size):\n",
    "                node = queue.popleft()\n",
    "                level.append(node.val)\n",
    "\n",
    "                if node.left:\n",
    "                    queue.append(node.left)\n",
    "                \n",
    "                if node.right:\n",
    "                    queue.append(node.right)\n",
    "\n",
    "            if level:  \n",
    "                res.append(level[-1])\n",
    "        return res\n"
   ]
  },
  {
   "cell_type": "code",
   "execution_count": null,
   "id": "6b743dc5",
   "metadata": {},
   "outputs": [],
   "source": [
    "class Node:\n",
    "    def __init__(self, val=0, left=None, right=None, next=None):\n",
    "        self.val = val\n",
    "        self.left = left\n",
    "        self.right = right\n",
    "        self.next = next\n",
    "\n",
    "class Solution:\n",
    "    def connect(self, root: 'Node') -> 'Node':\n",
    "        if not root:\n",
    "            return None\n",
    "        queue = deque([root])\n",
    "        while queue:\n",
    "            level_size = len(queue)\n",
    "\n",
    "            for i in range(level_size):\n",
    "                node = queue.popleft()\n",
    "                if i < level_size - 1:\n",
    "                    node.next = queue[0]\n",
    "\n",
    "                if node.left:\n",
    "                    queue.append(node.left)\n",
    "                \n",
    "                if node.right:\n",
    "                    queue.append(node.right)\n",
    "\n",
    "        return root"
   ]
  },
  {
   "cell_type": "code",
   "execution_count": 23,
   "id": "d08ca582",
   "metadata": {},
   "outputs": [],
   "source": [
    "''' \n",
    "Input: root = [1,null,2,3]\n",
    "\n",
    "Output: [1,2,3]\n",
    "'''\n",
    "from typing import Optional, List\n",
    "\n",
    "class TreeNode:\n",
    "    def __init__(self, val=0, left=None, right=None):\n",
    "        self.val = val\n",
    "        self.left = left\n",
    "        self.right = right\n",
    "class Solution:\n",
    "    def preorderTraversal(self, root: Optional[TreeNode]) -> List[int]:\n",
    "        res = []\n",
    "        def dfs(node):\n",
    "            if not node:\n",
    "                return\n",
    "            res.append(node.val)\n",
    "            dfs(node.left)\n",
    "            dfs(node.right)\n",
    "        dfs(root)\n",
    "        return res"
   ]
  },
  {
   "cell_type": "code",
   "execution_count": 24,
   "id": "b0f10098",
   "metadata": {},
   "outputs": [],
   "source": [
    "class TreeNode:\n",
    "    def __init__(self, val=0, left=None, right=None):\n",
    "        self.val = val\n",
    "        self.left = left\n",
    "        self.right = right\n",
    "class Solution:\n",
    "    def isSymmetric(self, root: Optional[TreeNode]) -> bool:\n",
    "        def ismirror(t1, t2):\n",
    "            if t1 is None and t2 is None:\n",
    "                return True \n",
    "            \n",
    "            if t1 is None or t2 is None:\n",
    "                return False\n",
    "            \n",
    "            return t1.val == t2.val and ismirror(t1.left, t2.right) and ismirror(t1.right, t2.left)\n",
    "\n",
    "        ismirror(root, root)"
   ]
  },
  {
   "cell_type": "code",
   "execution_count": 26,
   "id": "59d265a0",
   "metadata": {},
   "outputs": [
    {
     "data": {
      "text/plain": [
       "<__main__.TreeNode at 0x21856300bf0>"
      ]
     },
     "execution_count": 26,
     "metadata": {},
     "output_type": "execute_result"
    }
   ],
   "source": [
    "''' \n",
    "Input: nums = [-10,-3,0,5,9]\n",
    "Output: [0,-3,9,-10,null,5]\n",
    "Explanation: [0,-10,5,null,-3,null,9] is also accepted:\n",
    "'''\n",
    "\n",
    "class TreeNode:\n",
    "    def __init__(self, val=0, left=None, right=None):\n",
    "        self.val = val\n",
    "        self.left = left\n",
    "        self.right = right\n",
    "class Solution:\n",
    "    def sortedArrayToBST(self, nums: List[int]) -> Optional[TreeNode]:\n",
    "        if len(nums) == 0:\n",
    "            return None\n",
    "        mid = len(nums) // 2 \n",
    "        root = TreeNode(nums[mid])\n",
    "        root.left = self.sortedArrayToBST(nums[:mid])\n",
    "        root.right = self.sortedArrayToBST(nums[mid + 1:])\n",
    "        return root\n",
    "\n",
    "solution = Solution()\n",
    "solution.sortedArrayToBST([-10,-3,0,5,9])"
   ]
  },
  {
   "cell_type": "code",
   "execution_count": 27,
   "id": "785575da",
   "metadata": {},
   "outputs": [],
   "source": [
    "class TreeNode:\n",
    "    def __init__(self, val=0, left=None, right=None):\n",
    "        self.val = val\n",
    "        self.left = left\n",
    "        self.right = right\n",
    "class Solution:\n",
    "    def buildTree(self, preorder: List[int], inorder: List[int]) -> Optional[TreeNode]:\n",
    "        if not preorder or not  inorder:\n",
    "            return None \n",
    "        \n",
    "        root = TreeNode(preorder[0])\n",
    "        index = inorder.index(preorder[0])\n",
    "        root.left = self.buildTree(preorder[1:index + 1], inorder[:index])\n",
    "        root.right = self.buildTree(preorder[index + 1:], inorder[index + 1:])\n",
    "        return root "
   ]
  },
  {
   "cell_type": "code",
   "execution_count": 28,
   "id": "2f414276",
   "metadata": {},
   "outputs": [],
   "source": [
    "class TreeNode(object):\n",
    "    def __init__(self, x):\n",
    "        self.val = x\n",
    "        self.left = None\n",
    "        self.right = None\n",
    "\n",
    "class Codec:\n",
    "\n",
    "    def serialize(self, root):\n",
    "        res = []\n",
    "        def dfs(node):\n",
    "            if node is None:\n",
    "                res.append(\"N\")\n",
    "                return \n",
    "            res.append(str(node.val))\n",
    "            dfs(node.left)\n",
    "            dfs(node.right)\n",
    "        dfs(root)\n",
    "        return \",\".join(res)\n",
    "    \n",
    "    def deserialize(self, data):\n",
    "        vals = data.split(\",\")\n",
    "        self.i = 0 \n",
    "        def dfs():\n",
    "            if vals[self.i] == 'N':\n",
    "                self.i += 1\n",
    "                return None \n",
    "            \n",
    "            node = TreeNode(int(vals[self.i]))\n",
    "            self.i += 1 \n",
    "            node.left = dfs()\n",
    "            node.right = dfs()\n",
    "            return node\n",
    "        return dfs()"
   ]
  },
  {
   "cell_type": "code",
   "execution_count": 29,
   "id": "7adcb2c9",
   "metadata": {},
   "outputs": [],
   "source": [
    "from collections import defaultdict\n",
    "\n",
    "class TreeNode:\n",
    "    def __init__(self, val=0, left=None, right=None):\n",
    "        self.val = val\n",
    "        self.left = left\n",
    "        self.right = right\n",
    "\n",
    "from collections import defaultdict\n",
    "\n",
    "class Solution:\n",
    "    def pathSum(self, root: Optional[TreeNode], targetSum: int) -> int:\n",
    "        prefix_sum = defaultdict(int)\n",
    "        prefix_sum[0] = 1 \n",
    "\n",
    "        def dfs(node, current_sum):\n",
    "            if not node:\n",
    "                return 0 \n",
    "            current_sum += node.val \n",
    "            needed_sum = current_sum - targetSum \n",
    "            paths = prefix_sum[needed_sum]\n",
    "            prefix_sum = prefix_sum[needed_sum] + 1 \n",
    "\n",
    "            paths += dfs(node.left, current_sum)\n",
    "            paths += dfs(node.right, current_sum)\n",
    "\n",
    "            prefix_sum = prefix_sum[needed_sum] - 1 \n",
    "            return paths\n",
    "        dfs(root, 0)\n",
    "\n"
   ]
  },
  {
   "cell_type": "code",
   "execution_count": 30,
   "id": "9895535e",
   "metadata": {},
   "outputs": [],
   "source": [
    "''' \n",
    "Input: root = [1,null,2,3]\n",
    "\n",
    "Output: [1,3,2]\n",
    "'''\n",
    "\n",
    "class TreeNode:\n",
    "    def __init__(self, val=0, left=None, right=None):\n",
    "        self.val = val\n",
    "        self.left = left\n",
    "        self.right = right\n",
    "class Solution:\n",
    "    def inorderTraversal(self, root: Optional[TreeNode]) -> List[int]:\n",
    "        res = []\n",
    "        def dfs(node):\n",
    "            if not node:\n",
    "                return None \n",
    "            dfs(node.left)\n",
    "            res.append(node.val)\n",
    "            dfs(node.right)\n",
    "        dfs(root)"
   ]
  },
  {
   "cell_type": "code",
   "execution_count": null,
   "id": "13665b31",
   "metadata": {},
   "outputs": [],
   "source": [
    "class TreeNode:\n",
    "    def __init__(self, val=0, left=None, right=None):\n",
    "        self.val = val\n",
    "        self.left = left\n",
    "        self.right = right\n",
    "class Solution:\n",
    "    def isValidBST(self, root: Optional[TreeNode]) -> bool:\n",
    "        res = []\n",
    "        def inorder(node):\n",
    "            if not node:\n",
    "                return None \n",
    "            inorder(node.left)\n",
    "            res.append(node.val)\n",
    "            inorder(node.right)\n",
    "        \n",
    "        prev = res[0]\n",
    "        for num in res[1:]:\n",
    "            if prev >= num:\n",
    "                return False \n",
    "            prev = num\n",
    "        return True"
   ]
  },
  {
   "cell_type": "code",
   "execution_count": null,
   "id": "80b0d455",
   "metadata": {},
   "outputs": [],
   "source": [
    "''' \n",
    "Input: root = [3,1,4,null,2], k = 1\n",
    "Output: 1\n",
    "'''\n",
    "\n",
    "class TreeNode:\n",
    "    def __init__(self, val=0, left=None, right=None):\n",
    "        self.val = val\n",
    "        self.left = left\n",
    "        self.right = right\n",
    "class Solution:\n",
    "    def kthSmallest(self, root: Optional[TreeNode], k: int) -> int:\n",
    "        res = []\n",
    "        def inorder(node):\n",
    "            if not node:\n",
    "                return None \n",
    "            inorder(node.left)\n",
    "            res.append(node.val)\n",
    "            inorder(node.right)\n",
    "        return res[k - 1]"
   ]
  },
  {
   "cell_type": "code",
   "execution_count": 32,
   "id": "4fe4db34",
   "metadata": {},
   "outputs": [],
   "source": [
    "# Definition for a binary tree node.\n",
    "class TreeNode:\n",
    "    def __init__(self, val=0, left=None, right=None):\n",
    "        self.val = val\n",
    "        self.left = left\n",
    "        self.right = right\n",
    "class BSTIterator:\n",
    "\n",
    "    def __init__(self, root: Optional[TreeNode]):\n",
    "        self.vals = []\n",
    "        self.i = 0 \n",
    "        self.inorder(root)\n",
    "    \n",
    "    def next(self) -> int:\n",
    "        self.i += 1\n",
    "        return self.vals[self.i - 1]\n",
    "\n",
    "    def hasNext(self) -> bool:\n",
    "        return len(self.vals) > self.i\n",
    "\n",
    "    def inorder(self, root):\n",
    "        if not root:\n",
    "            return None \n",
    "        self.inorder(root.left)\n",
    "        self.vals.append(root.val)\n",
    "        self.inorder(root.right)\n"
   ]
  },
  {
   "cell_type": "code",
   "execution_count": 33,
   "id": "ddb2f0c8",
   "metadata": {},
   "outputs": [],
   "source": [
    "''' \n",
    "Input: root = [1,null,2,3]\n",
    "\n",
    "Output: [3,2,1]\n",
    "'''\n",
    "\n",
    "class TreeNode:\n",
    "    def __init__(self, val=0, left=None, right=None):\n",
    "        self.val = val\n",
    "        self.left = left\n",
    "        self.right = right\n",
    "class Solution:\n",
    "    def postorderTraversal(self, root: Optional[TreeNode]) -> List[int]:\n",
    "        res = []\n",
    "        def postorder(node):\n",
    "            if not node:\n",
    "                return None \n",
    "            postorder(node.left)\n",
    "            postorder(node.right)\n",
    "            res.append(node.val)\n",
    "        postorder(root)\n",
    "        return res "
   ]
  },
  {
   "cell_type": "code",
   "execution_count": null,
   "id": "b8249578",
   "metadata": {},
   "outputs": [],
   "source": [
    "class TreeNode:\n",
    "    def __init__(self, val=0, left=None, right=None):\n",
    "        self.val = val\n",
    "        self.left = left\n",
    "        self.right = right\n",
    "class Solution:\n",
    "    def invertTree(self, root: Optional[TreeNode]) -> Optional[TreeNode]:\n",
    "        if not root:\n",
    "            return None \n",
    "        temp = root.left \n",
    "        root.left = root.right \n",
    "        root.right = temp \n",
    "        self.invertTree(root.left)\n",
    "        self.invertTree(root.right)\n",
    "        return root\n"
   ]
  },
  {
   "cell_type": "code",
   "execution_count": 34,
   "id": "2cd7fd7e",
   "metadata": {},
   "outputs": [],
   "source": [
    "class TreeNode:\n",
    "    def __init__(self, val=0, left=None, right=None):\n",
    "        self.val = val\n",
    "        self.left = left\n",
    "        self.right = right\n",
    "class Solution:\n",
    "    def diameterOfBinaryTree(self, root: Optional[TreeNode]) -> int:\n",
    "        self.max_diameter = 0 \n",
    "        def dfs(node):\n",
    "            if not node:\n",
    "                return 0 \n",
    "            \n",
    "            left_height = dfs(node.left)\n",
    "            right_height = dfs(node.right)\n",
    "\n",
    "            self.max_diameter = max(self.max_diameter, left_height + right_height)\n",
    "            return 1 + max(left_height, right_height)\n",
    "        return self.max_diameter"
   ]
  },
  {
   "cell_type": "code",
   "execution_count": 36,
   "id": "7ac5fceb",
   "metadata": {},
   "outputs": [],
   "source": [
    "class TreeNode:\n",
    "    def __init__(self, x):\n",
    "        self.val = x\n",
    "        self.left = None\n",
    "        self.right = None\n",
    "\n",
    "class Solution:\n",
    "    def lowestCommonAncestor(self, root: 'TreeNode', p: 'TreeNode', q: 'TreeNode') -> 'TreeNode':\n",
    "        if not root:\n",
    "            return None \n",
    "        \n",
    "        if root == p or root == q:\n",
    "            return root \n",
    "        \n",
    "        left = self.lowestCommonAncestor(root.left, p, q)\n",
    "        right = self.lowestCommonAncestor(root.right, p, q)\n",
    "\n",
    "        if left and right:\n",
    "            return root \n",
    "        \n",
    "        return left if left else right\n",
    "    \n",
    "class Solution:\n",
    "    def lowestCommonAncestor(self, root: 'TreeNode', p: 'TreeNode', q: 'TreeNode') -> 'TreeNode':\n",
    "        cur = root\n",
    "        while cur:\n",
    "            if cur.val < p.val and  cur.val < q.val:\n",
    "                cur = cur.right \n",
    "            elif cur.val > p.val and cur.val > q.val:\n",
    "                cur = cur.left \n",
    "            else:\n",
    "                return cur"
   ]
  },
  {
   "cell_type": "code",
   "execution_count": 38,
   "id": "39150b88",
   "metadata": {},
   "outputs": [],
   "source": [
    "class TreeNode:\n",
    "    def __init__(self, val=0, left=None, right=None):\n",
    "        self.val = val\n",
    "        self.left = left\n",
    "        self.right = right\n",
    "class Solution:\n",
    "    def maxPathSum(self, root: Optional[TreeNode]) -> int:\n",
    "        self.max_sum = float('-inf')  # initialize global maximum\n",
    "\n",
    "        def dfs(node):\n",
    "            if not node:\n",
    "                return 0 \n",
    "            \n",
    "            left_max = max(dfs(node.left), 0)\n",
    "            right_max = max(dfs(node.right), 0)\n",
    "            curr_max = node.val + left_max + right_max \n",
    "            self.max_sum = max(self.max_sum, curr_max)\n",
    "            return node.val + max(left_max, right_max)\n",
    "        dfs(root)\n",
    "        return self.max_sum"
   ]
  },
  {
   "cell_type": "code",
   "execution_count": 39,
   "id": "07c1cc05",
   "metadata": {},
   "outputs": [
    {
     "name": "stdout",
     "output_type": "stream",
     "text": [
      "True\n",
      "False\n",
      "True\n"
     ]
    }
   ],
   "source": [
    "class TreeNode:\n",
    "    def __init__(self, start, end):\n",
    "        self.left = None \n",
    "        self.right = None \n",
    "        self.start = start \n",
    "        self.end = end \n",
    "\n",
    "    def insert(self, start, end):\n",
    "        cur = self \n",
    "        while cur:\n",
    "            if cur.start >= end:\n",
    "                if not cur.left:\n",
    "                    cur.left = TreeNode(start, end) \n",
    "                    return True\n",
    "                cur = cur.left\n",
    "            elif cur.end <= start:\n",
    "                if not cur.right:\n",
    "                    cur.right = TreeNode(start, end) \n",
    "                    return True \n",
    "                cur = cur.right \n",
    "            else:\n",
    "                return False \n",
    "            \n",
    "class MyCalendar(object):\n",
    "\n",
    "    def __init__(self):\n",
    "        self.root = None \n",
    "    \n",
    "    def book(self, startTime, endTime):\n",
    "        if not self.root:\n",
    "            self.root = TreeNode(startTime, endTime)\n",
    "            return True \n",
    "        return self.root.insert(startTime, endTime)\n",
    "        \n",
    "\n",
    "cal = MyCalendar()\n",
    "print(cal.book(10, 20))  # True\n",
    "print(cal.book(15, 25))  # False (overlaps with 10-20)\n",
    "print(cal.book(20, 30))  # True (no overlap)"
   ]
  },
  {
   "cell_type": "code",
   "execution_count": 41,
   "id": "9875ed3c",
   "metadata": {},
   "outputs": [
    {
     "name": "stdout",
     "output_type": "stream",
     "text": [
      "True True False\n"
     ]
    }
   ],
   "source": [
    "class MyCalendarTwo:\n",
    "\n",
    "    def __init__(self):\n",
    "        self.bookings = []\n",
    "        self.overlap = []\n",
    "    \n",
    "    def book(self, start: int, end: int) -> bool:\n",
    "        for s, e in self.overlap:\n",
    "            if max(s, start) < min(e, end):\n",
    "                return False \n",
    "        \n",
    "        for s, e in self.bookings:\n",
    "            if max(s, start) < min(end, e):\n",
    "                self.overlap.append([max(start, s), min(end, e)])\n",
    "        \n",
    "        self.bookings.append([start, end])\n",
    "        return True \n",
    "    \n",
    "obj = MyCalendarTwo()\n",
    "param_1 = obj.book(10,30)\n",
    "param_2 = obj.book(25, 30)\n",
    "param_3 = obj.book(20, 30)\n",
    "print(param_1, param_2, param_3)"
   ]
  },
  {
   "cell_type": "code",
   "execution_count": 43,
   "id": "db2a626f",
   "metadata": {},
   "outputs": [
    {
     "name": "stdout",
     "output_type": "stream",
     "text": [
      "30 40 30\n",
      "30\n"
     ]
    }
   ],
   "source": [
    "import heapq \n",
    "\n",
    "class StockPrice:\n",
    "\n",
    "    def __init__(self):\n",
    "        self.min_price = []\n",
    "        self.max_price = []\n",
    "        self.latest_timestamp = 0 \n",
    "        self.timesstamp_price = {}\n",
    "\n",
    "    def update(self, timestamp: int, price: int) -> None:\n",
    "        if self.latest_timestamp < timestamp:\n",
    "            self.latest_timestamp = timestamp \n",
    "\n",
    "        heapq.heappush(self.min_price, [price, timestamp])\n",
    "        heapq.heappush(self.max_price, [-price, timestamp])\n",
    "        self.timesstamp_price[timestamp] = price\n",
    "\n",
    "    def current(self):\n",
    "        return self.timesstamp_price[self.latest_timestamp]\n",
    "    \n",
    "    def minimum(self):\n",
    "        while self.min_price:\n",
    "            price, time = self.min_price[0]\n",
    "            if price == self.timesstamp_price[time]:\n",
    "                return price\n",
    "            heapq.heappop(self.min_price)\n",
    "\n",
    "    def maximum(self):\n",
    "        while self.max_price:\n",
    "            price, time = self.max_price[0]\n",
    "            if -price == self.timesstamp_price[time]:\n",
    "                return -price\n",
    "            heapq.heappop(self.max_price)\n",
    "        \n",
    "obj = StockPrice()\n",
    "obj.update(10, 50)\n",
    "obj.update(20, 30)\n",
    "obj.update(10, 40)\n",
    "param_2 = obj.current()\n",
    "param_3 = obj.maximum()\n",
    "param_4 = obj.minimum()\n",
    "print(param_2, param_3, param_4)\n",
    "print(obj.current())"
   ]
  },
  {
   "cell_type": "code",
   "execution_count": 48,
   "metadata": {},
   "outputs": [
    {
     "name": "stdout",
     "output_type": "stream",
     "text": [
      "True True\n"
     ]
    }
   ],
   "source": [
    "''' \n",
    "Example 1:\n",
    "\n",
    "Input\n",
    "[\"Trie\", \"insert\", \"search\", \"search\", \"startsWith\", \"insert\", \"search\"]\n",
    "[[], [\"apple\"], [\"apple\"], [\"app\"], [\"app\"], [\"app\"], [\"app\"]]\n",
    "Output\n",
    "[null, null, true, false, true, null, true]\n",
    "\n",
    "Explanation\n",
    "Trie trie = new Trie();\n",
    "trie.insert(\"apple\");\n",
    "trie.search(\"apple\");   // return True\n",
    "trie.search(\"app\");     // return False\n",
    "trie.startsWith(\"app\"); // return True\n",
    "trie.insert(\"app\");\n",
    "trie.search(\"app\");     // return True\n",
    "'''\n",
    "class TrieNode:\n",
    "    def __init__(self):\n",
    "        self.children = {}\n",
    "        self.word = False \n",
    "\n",
    "class Trie:\n",
    "    def __init__(self):\n",
    "        self.root = TrieNode() \n",
    "\n",
    "    def insert(self, word):\n",
    "        node = self.root \n",
    "        for c in word:\n",
    "            if c not in node.children:\n",
    "                node.children[c] = TrieNode()\n",
    "            node = node.children[c]\n",
    "        node.word = True\n",
    "\n",
    "    def search(self, word):\n",
    "        node = self.find(word)\n",
    "        return node and node.word\n",
    "    \n",
    "    def startsWith(self, word):\n",
    "        node = self.find(word)\n",
    "        return node is not None\n",
    "    \n",
    "    def find(self, word):\n",
    "        node = self.root \n",
    "        for c in word:\n",
    "            if c not in node.children:\n",
    "                return None \n",
    "            node = node.children[c]\n",
    "        return node \n",
    "    \n",
    "\n",
    "obj = Trie()\n",
    "word = 'Dharani'\n",
    "obj.insert(word)\n",
    "obj.insert('Prasad')\n",
    "param_2 = obj.search(word)\n",
    "param_3 = obj.startsWith('Dh')\n",
    "print(param_2, param_3)\n"
   ]
  },
  {
   "cell_type": "code",
   "execution_count": 52,
   "metadata": {},
   "outputs": [
    {
     "data": {
      "text/plain": [
       "['oath', 'eat']"
      ]
     },
     "execution_count": 52,
     "metadata": {},
     "output_type": "execute_result"
    }
   ],
   "source": [
    "class TrieNode:\n",
    "    def __init__(self):\n",
    "        self.children = {}\n",
    "        self.word = None \n",
    "\n",
    "class Solution:\n",
    "    def findWords(self, board: List[List[str]], words: List[str]) -> List[str]:\n",
    "        root = TrieNode()\n",
    "\n",
    "        for word in words:\n",
    "            node = root\n",
    "            for c in word:\n",
    "                if c not in node.children:\n",
    "                    node.children[c] = TrieNode()\n",
    "                node = node.children[c]\n",
    "            node.word = word\n",
    "        \n",
    "        rows, cols = len(board), len(board[0])\n",
    "        res = []\n",
    "\n",
    "        def dfs(r, c, node):\n",
    "            char = board[r][c]\n",
    "            \n",
    "            if char not in node.children:\n",
    "                return \n",
    "            \n",
    "            next_node = node.children[char]\n",
    "            \n",
    "            if next_node.word is not None:\n",
    "                res.append(next_node.word)\n",
    "                next_node.word = None\n",
    "            \n",
    "            board[r][c] = '#'\n",
    "\n",
    "            directions = [(0, 1), (1, 0), (0, -1), (-1, 0)]\n",
    "\n",
    "            for dr, dc in directions:\n",
    "                nr, nc = r + dr, c + dc \n",
    "\n",
    "                if 0 <= nr < rows and 0 <= nc < cols and board[nr][nc] != '#':\n",
    "                    dfs(nr, nc, next_node)\n",
    "            \n",
    "            board[r][c] = char\n",
    "\n",
    "            if not next_node.children:\n",
    "                node.children.pop(char)\n",
    "        \n",
    "        for i in range(rows):\n",
    "            for j in range(cols):\n",
    "                dfs(i, j, root)\n",
    "\n",
    "        return res \n",
    "    \n",
    "board = [[\"o\",\"a\",\"a\",\"n\"],\n",
    "         [\"e\",\"t\",\"a\",\"e\"],\n",
    "         [\"i\",\"h\",\"k\",\"r\"],\n",
    "         [\"i\",\"f\",\"l\",\"v\"]]\n",
    "\n",
    "words = [\"oath\",\"pea\",\"eat\",\"rain\"]\n",
    "\n",
    "solution = Solution()\n",
    "solution.findWords(board, words)"
   ]
  },
  {
   "cell_type": "code",
   "execution_count": 55,
   "id": "8db7b2dc",
   "metadata": {},
   "outputs": [
    {
     "name": "stdout",
     "output_type": "stream",
     "text": [
      "A : ['B']\n",
      "B : ['A', 'D']\n",
      "C : []\n",
      "D : ['B']\n",
      "###### After removing D Vertex ########\n",
      "A : ['B']\n",
      "B : ['A']\n",
      "C : []\n"
     ]
    },
    {
     "data": {
      "text/plain": [
       "['A', 'B']"
      ]
     },
     "execution_count": 55,
     "metadata": {},
     "output_type": "execute_result"
    }
   ],
   "source": [
    "class AdjacencyListGraph:\n",
    "    def __init__(self):\n",
    "        self.adj_list = {}\n",
    "\n",
    "    def print_graph(self):\n",
    "        for vertex in self.adj_list:\n",
    "            print(vertex, ':', self.adj_list[vertex])\n",
    "    \n",
    "    def add_vertex(self, v1):\n",
    "        if v1 not in self.adj_list:\n",
    "            self.adj_list[v1] = []\n",
    "            return True \n",
    "        return False \n",
    "\n",
    "    def add_edge(self, v1, v2):\n",
    "        if v1 in self.adj_list and v2 in self.adj_list:\n",
    "            self.adj_list[v1].append(v2)\n",
    "            self.adj_list[v2].append(v1)\n",
    "            return True \n",
    "        return False \n",
    "\n",
    "    def remove_vertex(self, v1):\n",
    "        if v1 in self.adj_list:\n",
    "            for neighbour in self.adj_list[v1]:\n",
    "                self.adj_list[neighbour].remove(v1)\n",
    "            del self.adj_list[v1]\n",
    "            return True \n",
    "        return False\n",
    "\n",
    "    def remove_edge(self, v1, v2):\n",
    "        if v1 in self.adj_list and v2 in self.adj_list:\n",
    "            self.adj_list[v1].remove(v2)\n",
    "            self.adj_list[v2].remove(v1)\n",
    "            return True \n",
    "        return False\n",
    "\n",
    "    def dfs(self, start_vertex):\n",
    "        visited = set()\n",
    "        res = []\n",
    "        def dfs(vertex):\n",
    "            if vertex in visited:\n",
    "                return \n",
    "            \n",
    "            res.append(vertex)\n",
    "            visited.add(vertex)\n",
    "            for neighbour in self.adj_list[vertex]:\n",
    "                if neighbour in visited:\n",
    "                    continue\n",
    "                dfs(neighbour)\n",
    "            \n",
    "        dfs(start_vertex)\n",
    "        return res \n",
    "    \n",
    "    def dfs_without_recursion(self, start_vertex):\n",
    "        visited = set()\n",
    "        res = []\n",
    "        stack = []\n",
    "        stack.append(start_vertex)\n",
    "        while stack:\n",
    "            vertex = stack.pop()\n",
    "            if vertex in visited:\n",
    "                continue\n",
    "            res.append(vertex)\n",
    "            visited.add(vertex)\n",
    "            for neighbour in self.adj_list[vertex]:\n",
    "                if neighbour not in visited:\n",
    "                    stack.append(neighbour)\n",
    "        return res\n",
    "    \n",
    "    def bfs(self, start_vertex):\n",
    "        queue = deque([start_vertex])\n",
    "        res = []\n",
    "        visited = set()\n",
    "        def bfs(queue: deque):\n",
    "            if not queue:\n",
    "                return\n",
    "            vertex = queue.popleft()\n",
    "            if vertex in visited:\n",
    "                return\n",
    "             \n",
    "            res.append(vertex)\n",
    "            visited.add(vertex)\n",
    "            for neighbour in self.adj_list[vertex]:\n",
    "                if neighbour not in visited:\n",
    "                    queue.append(neighbour)\n",
    "                    bfs(queue)\n",
    "        bfs(queue)\n",
    "        return res \n",
    "    \n",
    "    def bfs_without_recursion(self, start_vertex):\n",
    "        queue = deque([start_vertex])\n",
    "        res = []\n",
    "        visited = set()\n",
    "        while queue:\n",
    "            vertex = queue.popleft()\n",
    "            if vertex in visited:\n",
    "                continue\n",
    "            res.append(vertex)\n",
    "            visited.add(vertex)\n",
    "            for neighbour in self.adj_list[vertex]:\n",
    "                if neighbour not in visited:\n",
    "                    queue.append(neighbour)\n",
    "        return res \n",
    "    \n",
    "\n",
    "adjList = AdjacencyListGraph()\n",
    "\n",
    "adjList.add_vertex(\"A\")\n",
    "adjList.add_vertex(\"B\")\n",
    "adjList.add_vertex(\"C\")\n",
    "adjList.add_vertex(\"D\")\n",
    "adjList.add_edge(\"A\", \"B\")\n",
    "adjList.add_edge(\"B\", \"D\")\n",
    "adjList.print_graph()\n",
    "adjList.remove_vertex(\"D\")\n",
    "print(\"###### After removing D Vertex ########\")\n",
    "adjList.print_graph()\n",
    "adjList.dfs(\"A\")\n",
    "adjList.bfs(\"A\")\n"
   ]
  },
  {
   "cell_type": "code",
   "execution_count": 56,
   "metadata": {},
   "outputs": [
    {
     "data": {
      "text/plain": [
       "['1', '2', '3', '5', '4', '6', '7']"
      ]
     },
     "execution_count": 56,
     "metadata": {},
     "output_type": "execute_result"
    }
   ],
   "source": [
    "# Example for DFS \n",
    "\n",
    "adjList = AdjacencyListGraph()\n",
    "adjList.add_vertex(\"1\")\n",
    "adjList.add_vertex(\"2\")\n",
    "adjList.add_vertex(\"3\")\n",
    "adjList.add_vertex(\"4\")\n",
    "adjList.add_vertex(\"5\")\n",
    "adjList.add_vertex(\"6\")\n",
    "adjList.add_vertex(\"7\")\n",
    "adjList.add_edge(\"1\", \"2\")\n",
    "adjList.add_edge(\"1\", \"3\")\n",
    "adjList.add_edge(\"1\", \"4\")\n",
    "adjList.add_edge(\"2\", \"3\")\n",
    "adjList.add_edge(\"2\", \"5\")\n",
    "adjList.add_edge(\"4\", \"6\")\n",
    "adjList.add_edge(\"4\", \"7\")\n",
    "adjList.add_edge(\"6\", \"7\")\n",
    "#adjList.dfs(\"1\")\n",
    "adjList.bfs(\"1\")\n"
   ]
  },
  {
   "cell_type": "code",
   "execution_count": 62,
   "metadata": {},
   "outputs": [
    {
     "data": {
      "text/plain": [
       "1"
      ]
     },
     "execution_count": 62,
     "metadata": {},
     "output_type": "execute_result"
    }
   ],
   "source": [
    "''' \n",
    "Input: grid = [\n",
    "  [\"1\",\"1\",\"1\",\"1\",\"0\"],\n",
    "  [\"1\",\"1\",\"0\",\"1\",\"0\"],\n",
    "  [\"1\",\"1\",\"0\",\"0\",\"0\"],\n",
    "  [\"0\",\"0\",\"0\",\"0\",\"0\"]\n",
    "]\n",
    "Output: 1\n",
    "'''\n",
    "from typing import List \n",
    "\n",
    "class Solution:\n",
    "    def numIslands(self, grid: List[List[str]]) -> int:\n",
    "        rows, cols = len(grid), len(grid[0])\n",
    "        \n",
    "        def dfs(r, c):\n",
    "            if 0 <= r < rows and 0 <= c < cols and grid[r][c] != '0':\n",
    "                grid[r][c] = '0'\n",
    "                directions = [(0, 1), (1, 0), (0, -1), (-1, 0)]\n",
    "                for dr, dc in directions:\n",
    "                    nr, nc = r + dr, c + dc \n",
    "                    dfs(nr, nc)\n",
    "        \n",
    "        count = 0\n",
    "        for r in range(rows):\n",
    "            for c in range(cols):\n",
    "                if grid[r][c] == '1':\n",
    "                    dfs(r, c)\n",
    "                    count += 1\n",
    "        \n",
    "        return count \n",
    "    \n",
    "solution = Solution()\n",
    "solution.numIslands([\n",
    "  [\"1\",\"1\",\"1\",\"1\",\"0\"],\n",
    "  [\"1\",\"1\",\"0\",\"1\",\"0\"],\n",
    "  [\"1\",\"1\",\"0\",\"0\",\"0\"],\n",
    "  [\"0\",\"0\",\"0\",\"0\",\"0\"]\n",
    "])\n"
   ]
  },
  {
   "cell_type": "code",
   "execution_count": 63,
   "id": "f01f7a9b",
   "metadata": {},
   "outputs": [],
   "source": [
    "class Node:\n",
    "    def __init__(self, val = 0, neighbors = None):\n",
    "        self.val = val\n",
    "        self.neighbors = neighbors if neighbors is not None else []\n",
    "\n",
    "\n",
    "from typing import Optional\n",
    "\n",
    "class Solution:\n",
    "    def cloneGraph(self, node: Optional['Node']) -> Optional['Node']:\n",
    "        if not node:\n",
    "            return \n",
    "        \n",
    "        old_to_new = {}\n",
    "        def dfs(node):\n",
    "            if node in old_to_new:\n",
    "                return old_to_new[node]\n",
    "            \n",
    "            copy = Node(node.val)\n",
    "            old_to_new[node] = copy \n",
    "            for neighbour in node.neighbors:\n",
    "                copy.neighbors.append(dfs(neighbour))\n",
    "            return copy \n",
    "        return dfs(node)\n"
   ]
  },
  {
   "cell_type": "code",
   "execution_count": 72,
   "id": "da9ff0ca",
   "metadata": {},
   "outputs": [
    {
     "name": "stdout",
     "output_type": "stream",
     "text": [
      "Node 1 with neighbors [2, 4]\n",
      "Node 2 with neighbors [1, 3]\n",
      "Node 4 with neighbors [1, 3]\n",
      "Node 3 with neighbors [2, 4]\n"
     ]
    }
   ],
   "source": [
    "from collections import deque\n",
    "from typing import Optional\n",
    "\n",
    "class Node:\n",
    "    def __init__(self, val=0, neighbors=None):\n",
    "        self.val = val\n",
    "        self.neighbors = neighbors if neighbors is not None else []\n",
    "\n",
    "class Solution:\n",
    "    def cloneGraph(self, node: Optional['Node']) -> Optional['Node']:\n",
    "        if not node:\n",
    "            return None\n",
    "\n",
    "        old_to_new = {node: Node(node.val)}\n",
    "        queue = deque([node])\n",
    "\n",
    "        while queue:\n",
    "            curr = queue.popleft()\n",
    "            for neighbor in curr.neighbors:\n",
    "                if neighbor not in old_to_new:\n",
    "                    old_to_new[neighbor] = Node(neighbor.val)\n",
    "                    queue.append(neighbor)\n",
    "                old_to_new[curr].neighbors.append(old_to_new[neighbor])\n",
    "\n",
    "        return old_to_new[node]\n",
    "\n",
    "    \n",
    "# Create the nodes\n",
    "node1 = Node(1)\n",
    "node2 = Node(2)\n",
    "node3 = Node(3)\n",
    "node4 = Node(4)\n",
    "\n",
    "# Connect neighbors (undirected graph)\n",
    "node1.neighbors = [node2, node4]\n",
    "node2.neighbors = [node1, node3]\n",
    "node3.neighbors = [node2, node4]\n",
    "node4.neighbors = [node1, node3]\n",
    "\n",
    "\n",
    "solution = Solution()\n",
    "res = solution.cloneGraph(node1)\n",
    "def print_graph(node):\n",
    "    visited = set()\n",
    "    queue = deque([node])\n",
    "    while queue:\n",
    "        current = queue.popleft()\n",
    "        if current in visited:\n",
    "            continue\n",
    "        visited.add(current)\n",
    "        print(f\"Node {current.val} with neighbors {[n.val for n in current.neighbors]}\")\n",
    "        for neighbor in current.neighbors:\n",
    "            if neighbor not in visited:\n",
    "                queue.append(neighbor)\n",
    "print_graph(res)\n"
   ]
  },
  {
   "cell_type": "code",
   "execution_count": 73,
   "id": "2f6ca67e",
   "metadata": {},
   "outputs": [
    {
     "data": {
      "text/plain": [
       "False"
      ]
     },
     "execution_count": 73,
     "metadata": {},
     "output_type": "execute_result"
    }
   ],
   "source": [
    "''' \n",
    "Input: graph = [[1,2,3],[0,2],[0,1,3],[0,2]]\n",
    "Output: false\n",
    "Explanation: There is no way to partition the nodes into two independent sets such that every edge connects a node in one and a node in the other.\n",
    "'''\n",
    "\n",
    "from collections import deque\n",
    "\n",
    "class Solution:\n",
    "    def isBipartite(self, graph):\n",
    "        n = len(graph)\n",
    "        color = [-1] * n \n",
    "        for start in range(n):\n",
    "            if color[start] == -1:\n",
    "                queue = deque([start])\n",
    "                color[start] = 0 \n",
    "            \n",
    "            while queue:\n",
    "                node = queue.popleft()\n",
    "                for neighbor in graph[node]:\n",
    "                    if neighbor == -1:\n",
    "                        color[neighbor] = 1 - color[node]\n",
    "                    elif color[neighbor] == color[node]:\n",
    "                        return False \n",
    "        return True\n",
    "    \n",
    "solution = Solution()\n",
    "solution.isBipartite([[1,2,3],[0,2],[0,1,3],[0,2]])\n",
    "\n",
    "    "
   ]
  },
  {
   "cell_type": "code",
   "execution_count": 78,
   "id": "9a7936db",
   "metadata": {},
   "outputs": [
    {
     "data": {
      "text/plain": [
       "4"
      ]
     },
     "execution_count": 78,
     "metadata": {},
     "output_type": "execute_result"
    }
   ],
   "source": [
    "''' \n",
    "You are given an m x n grid where each cell can have one of three values:\n",
    "\n",
    "0 representing an empty cell,\n",
    "1 representing a fresh orange, or\n",
    "2 representing a rotten orange.\n",
    "Every minute, any fresh orange that is 4-directionally adjacent to a rotten orange becomes rotten.\n",
    "\n",
    "Return the minimum number of minutes that must elapse until no cell has a fresh orange. If this is impossible, return -1.\n",
    "'''\n",
    "\n",
    "''' \n",
    "Input: grid = [[2,1,1],[1,1,0],[0,1,1]]\n",
    "Output: 4\n",
    "'''\n",
    "from collections import deque\n",
    "class Solution:\n",
    "    def orangesRotting(self, grid: List[List[int]]) -> int:\n",
    "        fresh_count = 0 \n",
    "        rows, cols = len(grid), len(grid[0])\n",
    "        queue = deque()\n",
    "\n",
    "        for r in range(rows):\n",
    "            for c in range(cols):\n",
    "                if grid[r][c] == 2:\n",
    "                    queue.append([r, c, 0])\n",
    "                elif grid[r][c] == 1:\n",
    "                    fresh_count += 1 \n",
    "        \n",
    "        if fresh_count == 0:\n",
    "            return 0\n",
    "        directions = [(0, 1), (1, 0), (0, -1), (-1, 0)]\n",
    "        minutes = 0 \n",
    "        while queue:\n",
    "            r, c, minutes = queue.popleft()\n",
    "            for dr, dc in directions:\n",
    "                nr, nc = r + dr, c + dc \n",
    "                if 0 <= nr < rows and 0 <= nc < cols and grid[nr][nc] == 1:\n",
    "                        grid[nr][nc] = 2\n",
    "                        fresh_count -= 1\n",
    "                        queue.append([nr, nc, 1 + minutes])\n",
    "        return minutes if fresh_count == 0 else 0 \n",
    "    \n",
    "solution = Solution()\n",
    "solution.orangesRotting([[2,1,1],[1,1,0],[0,1,1]])"
   ]
  },
  {
   "cell_type": "code",
   "execution_count": 6,
   "id": "d37e6eb1",
   "metadata": {},
   "outputs": [
    {
     "data": {
      "text/plain": [
       "5"
      ]
     },
     "execution_count": 6,
     "metadata": {},
     "output_type": "execute_result"
    }
   ],
   "source": [
    "from collections import defaultdict, deque\n",
    "\n",
    "def ladderLength(beginWord, endWord, wordList:list):\n",
    "    if endWord not in wordList:\n",
    "        return \n",
    "    wordList.append(endWord)\n",
    "    word_patterns = defaultdict(list)\n",
    "\n",
    "    L = len(beginWord)\n",
    "\n",
    "    for word in wordList:\n",
    "        for i in range(L):\n",
    "            pattern = word[:i] + '*' + word[i + 1:]\n",
    "            word_patterns[pattern].append(word)\n",
    "    \n",
    "    queue = deque([(beginWord, 1)])\n",
    "    visited = set([beginWord])\n",
    "\n",
    "    while queue:\n",
    "        word, level = queue.popleft()\n",
    "        for i in range(L):\n",
    "            pattern = word[:i] + '*' + word[i + 1:]\n",
    "            for neighbor in word_patterns[pattern]:\n",
    "                if neighbor == endWord:\n",
    "                    return level + 1 \n",
    "                if neighbor not in visited:\n",
    "                    queue.append((neighbor, level + 1))\n",
    "                    visited.add(neighbor)\n",
    "    return 0 \n",
    "\n",
    "ladderLength(\"hit\", \"cog\", [\"hot\",\"dot\",\"dog\",\"lot\",\"log\",\"cog\"]) \n",
    "\n",
    "\n"
   ]
  },
  {
   "cell_type": "code",
   "execution_count": 7,
   "id": "6b4e6fbe",
   "metadata": {},
   "outputs": [
    {
     "data": {
      "text/plain": [
       "[0, 1, 2, 3]"
      ]
     },
     "execution_count": 7,
     "metadata": {},
     "output_type": "execute_result"
    }
   ],
   "source": [
    "''' \n",
    "Input: numCourses = 4, prerequisites = [[1,0],[2,0],[3,1],[3,2]]\n",
    "Output: [0,2,1,3] or [0, 1, 2, 3]\n",
    "Explanation: There are a total of 4 courses to take. To take course 3 you should have finished both courses 1 and 2. Both courses 1 and 2 should be taken after you finished course 0.\n",
    "So one correct course order is [0,1,2,3]. Another correct ordering is [0,2,1,3].\n",
    "'''\n",
    "\n",
    "from collections import defaultdict, deque\n",
    "\n",
    "def findOrder(numCourses, prerequisites):\n",
    "\n",
    "    graph = defaultdict(list)\n",
    "    indegree = [0] * (numCourses)\n",
    "    for dest, src in prerequisites:\n",
    "        indegree[dest] += 1 \n",
    "        graph[src].append(dest)\n",
    "\n",
    "    queue = deque([i for i in indegree if indegree[i] == 0])\n",
    "    res = []\n",
    "\n",
    "    while queue:\n",
    "        course = queue.popleft()\n",
    "        res.append(course)\n",
    "        for neigbor in graph[course]:\n",
    "            indegree[neigbor] -= 1\n",
    "            if indegree[neigbor] == 0:\n",
    "                queue.append(neigbor)\n",
    "    return res if len(res) == numCourses else []\n",
    "\n",
    "findOrder(4, [[1,0],[2,0],[3,1],[3,2]]) "
   ]
  },
  {
   "cell_type": "code",
   "execution_count": 9,
   "id": "e8804ccf",
   "metadata": {},
   "outputs": [
    {
     "data": {
      "text/plain": [
       "2"
      ]
     },
     "execution_count": 9,
     "metadata": {},
     "output_type": "execute_result"
    }
   ],
   "source": [
    "class DSU:\n",
    "    def __init__(self, n):\n",
    "        self.parent = list(range(n))\n",
    "        self.rank = [0] * n\n",
    "\n",
    "    def find(self, x):\n",
    "        if self.parent[x] != x:\n",
    "            self.parent[x] = self.find(self.parent[x])  # Path compression\n",
    "        return self.parent[x]\n",
    "\n",
    "    def union(self, x, y):\n",
    "        xroot = self.find(x)\n",
    "        yroot = self.find(y)\n",
    "        \n",
    "        if xroot == yroot:\n",
    "            return False  # already in the same set\n",
    "\n",
    "        # Union by rank\n",
    "        if self.rank[xroot] < self.rank[yroot]:\n",
    "            self.parent[xroot] = yroot\n",
    "        elif self.rank[xroot] > self.rank[yroot]:\n",
    "            self.parent[yroot] = xroot\n",
    "        else:\n",
    "            self.parent[yroot] = xroot\n",
    "            self.rank[xroot] += 1\n",
    "\n",
    "        return True\n",
    "    \n",
    "    def is_connected(self, x, y):\n",
    "        return self.find(x) == self.find(y)\n",
    "\n",
    "    def findCircleNum(self, isConnected):\n",
    "        n = len(isConnected)\n",
    "        for i in range(n):\n",
    "            for j in range(1, n):\n",
    "                if isConnected[i][j] == 1:\n",
    "                    self.union(i, j)\n",
    "        return len(set(self.find(i) for i in range(n)))\n",
    "\n",
    "\n",
    "solution = DSU(3)\n",
    "solution.findCircleNum([[1,1,0],[1,1,0],[0,0,1]])"
   ]
  },
  {
   "cell_type": "code",
   "execution_count": 15,
   "id": "c2ceadf5",
   "metadata": {},
   "outputs": [
    {
     "data": {
      "text/plain": [
       "20"
      ]
     },
     "execution_count": 15,
     "metadata": {},
     "output_type": "execute_result"
    }
   ],
   "source": [
    "''' \n",
    "Input: points = [[0,0],[2,2],[3,10],[5,2],[7,0]]\n",
    "Output: 20\n",
    "Explanation: \n",
    "\n",
    "We can connect the points as shown above to get the minimum cost of 20.\n",
    "Notice that there is a unique path between every pair of points.\n",
    "'''\n",
    "\n",
    "import heapq  # For using a priority queue (min-heap)\n",
    "from typing import List\n",
    "\n",
    "class Solution:\n",
    "    def minCostConnectPoints(self, points: List[List[int]]) -> int:\n",
    "        min_heap = [(0, 0)]\n",
    "        n = len(points)\n",
    "        visited = set()\n",
    "        total_cost = 0 \n",
    "\n",
    "        while len(visited) < n:\n",
    "            dist, u = heapq.heappop(min_heap)\n",
    "\n",
    "            if u in visited:\n",
    "                continue\n",
    "\n",
    "            visited.add(u)\n",
    "            total_cost += dist \n",
    "\n",
    "            for v in range(n):\n",
    "                if v not in visited:\n",
    "                    dist = abs(points[u][0] - points[v][0]) + abs(points[u][1] - points[v][1])\n",
    "                    heapq.heappush(min_heap, [dist, v])\n",
    "        return total_cost\n",
    "\n",
    "\n",
    "solution = Solution()\n",
    "solution.minCostConnectPoints([[0,0],[2,2],[3,10],[5,2],[7,0]])\n",
    "\n"
   ]
  },
  {
   "cell_type": "code",
   "execution_count": 19,
   "id": "b29a44d2",
   "metadata": {},
   "outputs": [
    {
     "data": {
      "text/plain": [
       "700"
      ]
     },
     "execution_count": 19,
     "metadata": {},
     "output_type": "execute_result"
    }
   ],
   "source": [
    "''' \n",
    "Input: n = 4, flights = [[0,1,100],[1,2,100],[2,0,100],[1,3,600],[2,3,200]], src = 0, dst = 3, k = 1\n",
    "Output: 700\n",
    "Explanation:\n",
    "The graph is shown above.\n",
    "The optimal path with at most 1 stop from city 0 to 3 is marked in red and has cost 100 + 600 = 700.\n",
    "Note that the path through cities [0,1,2,3] is cheaper but is invalid because it uses 2 stops.\n",
    "'''\n",
    "class Solution:\n",
    "    def findCheapestPrice(self, n: int, flights: List[List[int]], src: int, dst: int, k: int) -> int:\n",
    "        prices = [float('inf')] * n \n",
    "        prices[src] = 0 \n",
    "\n",
    "        for _ in range(k + 1):\n",
    "            temp_prices = prices.copy()\n",
    "            for u, v, price in flights:\n",
    "                if prices[u] == float('inf'):\n",
    "                    continue \n",
    "                cost = prices[u] + price \n",
    "                if temp_prices[v] > cost:\n",
    "                    temp_prices[v] = cost \n",
    "            prices = temp_prices \n",
    "        return prices[dst] if prices[dst] != float('inf') else -1 \n",
    "    \n",
    "solution = Solution()\n",
    "solution.findCheapestPrice(n = 4, flights = [[0,1,100],[1,2,100],[2,0,100],[1,3,600],[2,3,200]], src = 0, dst = 3, k = 1)"
   ]
  },
  {
   "cell_type": "code",
   "execution_count": 29,
   "id": "1e9a3534",
   "metadata": {},
   "outputs": [
    {
     "data": {
      "text/plain": [
       "['((()))', '(()())', '(())()', '()(())', '()()()']"
      ]
     },
     "execution_count": 29,
     "metadata": {},
     "output_type": "execute_result"
    }
   ],
   "source": [
    "''' \n",
    "Input: n = 3\n",
    "Output: [\"((()))\",\"(()())\",\"(())()\",\"()(())\",\"()()()\"]\n",
    "'''\n",
    "\n",
    "from typing import List\n",
    "\n",
    "class Solution:\n",
    "    def generateParenthesis(self, n: int) -> List[str]:\n",
    "        res = []\n",
    "        def backtrack(open_count, close_count, path):\n",
    "            if open_count == close_count == n:\n",
    "                res.append(\"\".join(path))\n",
    "                return\n",
    "\n",
    "            if open_count < n:\n",
    "                backtrack(open_count + 1, close_count, path + '(')\n",
    "            \n",
    "            if close_count < open_count:\n",
    "                backtrack(open_count, close_count + 1, path + ')')\n",
    "        backtrack(0, 0, \"\")\n",
    "        return res \n",
    "solution = Solution()\n",
    "res = solution.generateParenthesis(3)\n",
    "res"
   ]
  },
  {
   "cell_type": "code",
   "execution_count": 36,
   "id": "6d047300",
   "metadata": {},
   "outputs": [
    {
     "data": {
      "text/plain": [
       "[[1, 2, 3], [1, 3, 2], [2, 1, 3], [2, 3, 1], [3, 1, 2], [3, 2, 1]]"
      ]
     },
     "execution_count": 36,
     "metadata": {},
     "output_type": "execute_result"
    }
   ],
   "source": [
    "''' \n",
    "Input: nums = [1,2,3]\n",
    "Output: [[],[1],[2],[1,2],[3],[1,3],[2,3],[1,2,3]]\n",
    "'''\n",
    "\n",
    "class Solution:\n",
    "    def permuations(self, nums: List[int]) -> List[int]:\n",
    "        res = []\n",
    "        n = len(nums)\n",
    "        def backtrack(path:list, used):\n",
    "            if len(path) == n:\n",
    "                res.append(path[:])\n",
    "                return\n",
    "            \n",
    "            for i in range(n):\n",
    "                if not used[i]:\n",
    "                    path.append(nums[i])\n",
    "                    used[i] = True\n",
    "                    backtrack(path, used)\n",
    "                    used[i] = False \n",
    "                    path.pop()\n",
    "        backtrack([], [False] * n)\n",
    "        return res \n",
    "    \n",
    "solution = Solution()\n",
    "solution.permuations([1, 2, 3])\n"
   ]
  },
  {
   "cell_type": "code",
   "execution_count": 38,
   "id": "1e009d5a",
   "metadata": {},
   "outputs": [
    {
     "data": {
      "text/plain": [
       "[[], [1], [1, 2], [1, 2, 3], [1, 3], [2], [2, 3], [3]]"
      ]
     },
     "execution_count": 38,
     "metadata": {},
     "output_type": "execute_result"
    }
   ],
   "source": [
    "''' \n",
    "Input: nums = [1,2,3]\n",
    "Output: [[],[1],[2],[1,2],[3],[1,3],[2,3],[1,2,3]]\n",
    "'''\n",
    "\n",
    "class Solution:\n",
    "    def subsets(self, nums: List[int]) -> List[int]:\n",
    "        res = []\n",
    "\n",
    "        def backtrack(path:list, start):\n",
    "            res.append(path[:])\n",
    "\n",
    "            for i in range(start, len(nums)):\n",
    "                path.append(nums[i])\n",
    "                backtrack(path, i + 1)\n",
    "                path.pop()\n",
    "\n",
    "        backtrack([], 0)\n",
    "        return res\n",
    "    \n",
    "solution = Solution()\n",
    "solution.subsets([1, 2, 3])\n"
   ]
  },
  {
   "cell_type": "code",
   "execution_count": 45,
   "id": "c9d9978f",
   "metadata": {},
   "outputs": [
    {
     "name": "stdout",
     "output_type": "stream",
     "text": [
      "a\n",
      "a\n",
      "b\n",
      "ab\n",
      "aa\n",
      "b\n",
      "aab\n"
     ]
    },
    {
     "data": {
      "text/plain": [
       "[['a', 'a', 'b'], ['aa', 'b']]"
      ]
     },
     "execution_count": 45,
     "metadata": {},
     "output_type": "execute_result"
    }
   ],
   "source": [
    "''' \n",
    "Input: s = \"aab\"\n",
    "Output: [[\"a\",\"a\",\"b\"],[\"aa\",\"b\"]]\n",
    "'''\n",
    "\n",
    "class Solution:\n",
    "    def partition(self, s: str) -> List[List[str]]:\n",
    "\n",
    "        def is_palindrome(s):\n",
    "            return s == s[::-1]\n",
    "        \n",
    "        res = []\n",
    "        def backtrack(start, path:list):\n",
    "            if start == len(s):\n",
    "                res.append(path[:])\n",
    "                return\n",
    "            \n",
    "            for end in range(start, len(s)):\n",
    "                print(s[start:end+1])\n",
    "                if is_palindrome(s[start: end + 1]):\n",
    "                    path.append(s[start: end + 1])\n",
    "                    backtrack(end + 1, path)\n",
    "                    path.pop()\n",
    "        backtrack(0, [])\n",
    "        return res \n",
    "    \n",
    "solution = Solution()\n",
    "solution.partition(\"aab\")"
   ]
  },
  {
   "cell_type": "code",
   "execution_count": 49,
   "id": "6029b618",
   "metadata": {},
   "outputs": [
    {
     "data": {
      "text/plain": [
       "[['.Q..', '...Q', 'Q...', '..Q.'], ['..Q.', 'Q...', '...Q', '.Q..']]"
      ]
     },
     "execution_count": 49,
     "metadata": {},
     "output_type": "execute_result"
    }
   ],
   "source": [
    "''' \n",
    "Input: n = 4\n",
    "Output: [[\".Q..\",\"...Q\",\"Q...\",\"..Q.\"],[\"..Q.\",\"Q...\",\"...Q\",\".Q..\"]]\n",
    "Explanation: There exist two distinct solutions to the 4-queens puzzle as shown above\n",
    "'''\n",
    "\n",
    "class Solution:\n",
    "    def solveNQueens(self, n: int) -> List[List[str]]:\n",
    "        res = []\n",
    "        col = set()\n",
    "        pos_diag = set()\n",
    "        neg_diag = set()\n",
    "        board = [[\".\" ] * n for _ in range(n)]\n",
    "        def backtrack(r):\n",
    "            if r == n:\n",
    "                copy = [\"\".join(row) for row in board]\n",
    "                res.append(copy)\n",
    "\n",
    "            for c in range(n):\n",
    "                if c in col or r + c in pos_diag or r - c in neg_diag:\n",
    "                    continue \n",
    "\n",
    "                pos_diag.add(r + c)\n",
    "                neg_diag.add(r - c)\n",
    "                col.add(c)\n",
    "                board[r][c] = 'Q'\n",
    "                backtrack(r + 1)\n",
    "                pos_diag.remove(r + c)\n",
    "                neg_diag.remove(r - c)\n",
    "                col.remove(c)\n",
    "                board[r][c] = '.'\n",
    "        backtrack(0)\n",
    "        return res \n",
    "    \n",
    "solution = Solution()\n",
    "solution.solveNQueens(4)\n"
   ]
  },
  {
   "cell_type": "code",
   "execution_count": 54,
   "id": "de028f46",
   "metadata": {},
   "outputs": [
    {
     "data": {
      "text/plain": [
       "[3, 4]"
      ]
     },
     "execution_count": 54,
     "metadata": {},
     "output_type": "execute_result"
    }
   ],
   "source": [
    "''' \n",
    "Input: nums = [5,7,7,8,8,10], target = 8\n",
    "Output: [3,4]\n",
    "'''\n",
    "from typing import List, Optional \n",
    "\n",
    "class Solution:\n",
    "    def searchRange(self, nums: List[int], target: int) -> List[int]:\n",
    "        left_bias = self.binary_search(nums, target, True)\n",
    "        right_bias = self.binary_search(nums, target, False)\n",
    "        return [left_bias, right_bias]\n",
    "\n",
    "    def binary_search(self, nums, target, left_bias):\n",
    "        left = 0\n",
    "        right = len(nums) - 1\n",
    "        i = -1\n",
    "        while left <= right:\n",
    "            mid = left + ((right - left) // 2)\n",
    "            if target < nums[mid]:\n",
    "                right = mid - 1 \n",
    "            elif target > nums[mid]:\n",
    "                left = mid + 1 \n",
    "            else:\n",
    "                i = mid \n",
    "                if left_bias:\n",
    "                    right = mid - 1\n",
    "                else:\n",
    "                    left = mid + 1\n",
    "        return i \n",
    "    \n",
    "solution = Solution()\n",
    "solution.searchRange(nums = [5,7,7,8,8,10], target = 8)\n"
   ]
  },
  {
   "cell_type": "code",
   "execution_count": 59,
   "id": "99f760d9",
   "metadata": {},
   "outputs": [
    {
     "data": {
      "text/plain": [
       "4"
      ]
     },
     "execution_count": 59,
     "metadata": {},
     "output_type": "execute_result"
    }
   ],
   "source": [
    "''' \n",
    "Input: nums = [4,5,6,7,0,1,2], target = 0\n",
    "Output: 4\n",
    "'''\n",
    "\n",
    "class Solution:\n",
    "    def search(self, nums: List[int], target: int) -> int:\n",
    "        return self.modified_binary_search(nums, target, 0, len(nums) - 1)\n",
    "\n",
    "    def modified_binary_search(self, nums, target, left, right):\n",
    "        if left > right:\n",
    "            return -1\n",
    "        \n",
    "        mid = left + ((right - left) // 2)\n",
    "        if target == nums[mid]:\n",
    "            return mid \n",
    "        \n",
    "        if nums[mid] >= nums[left]:\n",
    "            if target >= nums[left] and target < nums[mid]:\n",
    "                return self.modified_binary_search(nums, target, left, mid - 1)\n",
    "            else:\n",
    "                return self.modified_binary_search(nums, target, mid + 1, right)\n",
    "        else:\n",
    "            if target >= nums[mid + 1] and target <= nums[right]:\n",
    "                return self.modified_binary_search(nums, target, mid + 1, right)\n",
    "            else:\n",
    "                return self.modified_binary_search(nums, target, left, mid - 1)\n",
    "            \n",
    "solution = Solution()\n",
    "solution.search(nums = [4,5,6,7,0,1,2], target = 0)\n"
   ]
  },
  {
   "cell_type": "code",
   "execution_count": 64,
   "id": "06909130",
   "metadata": {},
   "outputs": [
    {
     "data": {
      "text/plain": [
       "2"
      ]
     },
     "execution_count": 64,
     "metadata": {},
     "output_type": "execute_result"
    }
   ],
   "source": [
    "''' \n",
    "Input: nums = [1,2,3,1]\n",
    "Output: 2\n",
    "Explanation: 3 is a peak element and your function should return the index number 2.\n",
    "'''\n",
    "\n",
    "class Solution:\n",
    "    def findPeakElement(self, nums: List[int]) -> int:\n",
    "        left = 0 \n",
    "        right = len(nums)\n",
    "        while left < right:\n",
    "            mid = left + ((right - left) // 2)\n",
    "            if nums[mid] > nums[mid + 1]:\n",
    "                right = mid\n",
    "            else:\n",
    "                left = mid + 1 \n",
    "        return right \n",
    "\n",
    "solution = Solution()\n",
    "solution.findPeakElement([1,2,3,1])"
   ]
  },
  {
   "cell_type": "code",
   "execution_count": 67,
   "id": "1e10f90e",
   "metadata": {},
   "outputs": [
    {
     "data": {
      "text/plain": [
       "4"
      ]
     },
     "execution_count": 67,
     "metadata": {},
     "output_type": "execute_result"
    }
   ],
   "source": [
    "''' \n",
    "Input: piles = [3,6,7,11], h = 8\n",
    "Output: 4\n",
    "'''\n",
    "import math\n",
    "class Solution:\n",
    "    def minEatingSpeed(self, piles, h):\n",
    "        left = 1\n",
    "        right = max(piles)\n",
    "        res = right \n",
    "        while left < right:\n",
    "            mid = left + ((right - left)// 2)\n",
    "            hours = 0\n",
    "            for pile in piles:\n",
    "                hours += math.ceil(pile/mid)\n",
    "            \n",
    "            if hours <= h:\n",
    "                res = min(res, mid)\n",
    "                right = mid - 1 \n",
    "            else:\n",
    "                left = mid + 1\n",
    "        return res \n",
    "    \n",
    "solution = Solution()\n",
    "solution.minEatingSpeed(piles = [3,6,7,11], h = 8)"
   ]
  },
  {
   "cell_type": "code",
   "execution_count": 77,
   "id": "e7c096e3",
   "metadata": {},
   "outputs": [
    {
     "name": "stdout",
     "output_type": "stream",
     "text": [
      "0\n"
     ]
    },
    {
     "data": {
      "text/plain": [
       "True"
      ]
     },
     "execution_count": 77,
     "metadata": {},
     "output_type": "execute_result"
    }
   ],
   "source": [
    "''' \n",
    "Input: matrix = [[1,3,5,7],[10,11,16,20],[23,30,34,60]], target = 3\n",
    "Output: true\n",
    "\n",
    "'''\n",
    "\n",
    "from typing import List, Optional\n",
    "\n",
    "class Solution:\n",
    "    def searchMatrix(self, matrix: List[List[int]], target: int) -> bool:\n",
    "        row_index = self.search_pottential_row(matrix, target)\n",
    "        print(row_index)\n",
    "        if row_index == -1:\n",
    "            return False \n",
    "        return self.binary_search(matrix, target, row_index)\n",
    "\n",
    "    def search_pottential_row(self, matrix: List[List[int]], target: int):\n",
    "        left = 0 \n",
    "        right = len(matrix) - 1\n",
    "        while left <= right:\n",
    "            mid = left + ((right - left) // 2)\n",
    "            if matrix[mid][0] <= target <= matrix[mid][-1]:\n",
    "                return mid \n",
    "            elif matrix[mid][0] > target:\n",
    "                right = mid - 1   \n",
    "            elif matrix[mid][0] < target:\n",
    "                right = mid + 1\n",
    "        return -1\n",
    "    \n",
    "    def binary_search(self, matrix, target, row_index):\n",
    "        left = 0 \n",
    "        right = len(matrix[row_index]) - 1\n",
    "        while left <= right:\n",
    "            mid = left + ((right - left) // 2)\n",
    "            if matrix[row_index][mid] == target:\n",
    "                return True \n",
    "            elif matrix[row_index][mid] > target:\n",
    "                right = mid - 1 \n",
    "            elif matrix[row_index][mid] < target:\n",
    "                left = mid + 1 \n",
    "        return False \n",
    "    \n",
    "solution = Solution()\n",
    "solution.searchMatrix(matrix = [[1,3,5,7],[10,11,16,20],[23,30,34,60]], target = 3)"
   ]
  },
  {
   "cell_type": "code",
   "execution_count": 2,
   "metadata": {},
   "outputs": [
    {
     "data": {
      "text/plain": [
       "[1, 2]"
      ]
     },
     "execution_count": 2,
     "metadata": {},
     "output_type": "execute_result"
    }
   ],
   "source": [
    "''' \n",
    "Input: nums = [1,1,1,2,2,3], k = 2\n",
    "Output: [1,2]\n",
    "'''\n",
    "\n",
    "from typing import List, Optional\n",
    "\n",
    "class Solution:\n",
    "    def topKFrequent(self, nums: List[int], k: int) -> List[int]:\n",
    "        res = []\n",
    "        n = len(nums)\n",
    "        bucket = [[] for _ in range(n + 1)]\n",
    "        freq_count = {}\n",
    "        for num in nums:\n",
    "            freq_count[num] = freq_count.get(num, 0) + 1\n",
    "        for key, value in freq_count.items():\n",
    "            bucket[value].append(key)\n",
    "        \n",
    "        for i in range(len(bucket) - 1, -1, -1):\n",
    "            for key in bucket[i]:\n",
    "                res.append(key)\n",
    "                if len(res) == k:\n",
    "                    return res \n",
    "\n",
    "solution = Solution()\n",
    "solution.topKFrequent(nums = [1,1,1,2,2,3], k = 2)"
   ]
  },
  {
   "cell_type": "code",
   "execution_count": 3,
   "metadata": {},
   "outputs": [
    {
     "data": {
      "text/plain": [
       "['i', 'love']"
      ]
     },
     "execution_count": 3,
     "metadata": {},
     "output_type": "execute_result"
    }
   ],
   "source": [
    "''' \n",
    "Input: words = [\"i\",\"love\",\"leetcode\",\"i\",\"love\",\"coding\"], k = 2\n",
    "Output: [\"i\",\"love\"]\n",
    "Explanation: \"i\" and \"love\" are the two most frequent words.\n",
    "Note that \"i\" comes before \"love\" due to a lower alphabetical order.\n",
    "'''\n",
    "\n",
    "class Solution:\n",
    "    def topKFrequent(self, words: List[str], k: int) -> List[str]:\n",
    "        res = []\n",
    "        n = len(words)\n",
    "        bucket = [[] for _ in range(n + 1)]\n",
    "        freq_count = {}\n",
    "        for word in words:\n",
    "            freq_count[word] = freq_count.get(word, 0) + 1\n",
    "        for key, value in freq_count.items():\n",
    "            bucket[value].append(key)\n",
    "        \n",
    "        for i in range(len(bucket) - 1, -1, -1):\n",
    "            for key in bucket[i]:\n",
    "                res.append(key)\n",
    "                if len(res) == k:\n",
    "                    return res \n",
    "                \n",
    "solution = Solution()\n",
    "solution.topKFrequent(words = [\"i\",\"love\",\"leetcode\",\"i\",\"love\",\"coding\"], k = 2)"
   ]
  },
  {
   "cell_type": "code",
   "execution_count": 11,
   "id": "2ad7040e",
   "metadata": {},
   "outputs": [
    {
     "name": "stdout",
     "output_type": "stream",
     "text": [
      "1\n",
      "2\n",
      "3\n",
      "4\n",
      "5\n",
      "6\n"
     ]
    }
   ],
   "source": [
    "class ListNode:\n",
    "    def __init__(self, val = 0, next = None):\n",
    "        self.val = val\n",
    "        self.next = next\n",
    "\n",
    "class Solution:\n",
    "    def mergeTwoLists(self, list1: Optional[ListNode], list2: Optional[ListNode]) -> Optional[ListNode]:\n",
    "        if not list1 or not list2:\n",
    "            return list1 if list1 else list2\n",
    "        \n",
    "        if list1.val > list2.val:\n",
    "            list1, list2 = list2, list1\n",
    "        \n",
    "        list1.next = self.mergeTwoLists(list1.next, list2)\n",
    "        return list1\n",
    "    \n",
    "    def mergeTwoListsWithoutRecursion(self, list1: Optional[ListNode], list2: Optional[ListNode]) -> Optional[ListNode]:\n",
    "        return self.merge(list1, list2)\n",
    "\n",
    "    def merge(self, l1: Optional[ListNode], l2: Optional[ListNode]):\n",
    "        dummy = ListNode()\n",
    "        curr = dummy\n",
    "        while l1 and l2:\n",
    "            if l1.val < l2.val:\n",
    "                curr.next = l1 \n",
    "                l1 = l1.next\n",
    "            else:\n",
    "                curr.next = l2 \n",
    "                l2 = l2.next \n",
    "            curr = curr.next \n",
    "        \n",
    "        if l1:\n",
    "            curr.next = l1 \n",
    "        \n",
    "        if l2:\n",
    "            curr.next = l2 \n",
    "        \n",
    "        return dummy\n",
    "\n",
    "    def print_list(self, list1):\n",
    "        temp = list1 \n",
    "        while temp:\n",
    "            print(temp.val)\n",
    "            temp = temp.next\n",
    "\n",
    "solution = Solution()\n",
    "res = solution.mergeTwoLists(ListNode(2, ListNode(4, ListNode(5))), ListNode(1, ListNode(3, ListNode(6))))\n",
    "solution.print_list(res)"
   ]
  },
  {
   "cell_type": "code",
   "execution_count": 20,
   "id": "943a0d29",
   "metadata": {},
   "outputs": [
    {
     "name": "stdout",
     "output_type": "stream",
     "text": [
      "[1, 2, 3, 4, 5]\n"
     ]
    }
   ],
   "source": [
    "def merge(left, right):\n",
    "    res = []\n",
    "    i, j = 0, 0 \n",
    "    while i < len(left) and j < len(right):\n",
    "        if left[i] < right[j]:\n",
    "            res.append(left[i])\n",
    "            i += 1\n",
    "        else:\n",
    "            res.append(right[j])\n",
    "            j += 1\n",
    "    if i != len(left):\n",
    "        res.extend(left[i:])\n",
    "    \n",
    "    if j != len(right):\n",
    "        res.extend(right[j:])\n",
    "    \n",
    "    return res\n",
    "    \n",
    "\n",
    "\n",
    "def merge_sort(nums):\n",
    "    if len(nums) <= 1:\n",
    "        return nums\n",
    "    mid = len(nums) // 2\n",
    "    left = merge_sort(nums[:mid])\n",
    "    right = merge_sort(nums[mid:])\n",
    "    return merge(left, right)\n",
    "\n",
    "print(merge_sort([2, 4, 5, 1, 3]))"
   ]
  },
  {
   "cell_type": "code",
   "execution_count": 24,
   "id": "5f4a384b",
   "metadata": {},
   "outputs": [
    {
     "name": "stdout",
     "output_type": "stream",
     "text": [
      "1\n",
      "2\n",
      "3\n",
      "4\n"
     ]
    }
   ],
   "source": [
    "''' \n",
    "Input: head = [4,2,1,3]\n",
    "Output: [1,2,3,4]\n",
    "'''\n",
    "\n",
    "# Definition for singly-linked list.\n",
    "class ListNode:\n",
    "    def __init__(self, val=0, next=None):\n",
    "        self.val = val\n",
    "        self.next = next\n",
    "class Solution:\n",
    "    def sortList(self, head: Optional[ListNode]) -> Optional[ListNode]:\n",
    "        if not head or not head.next:\n",
    "            return head \n",
    "        \n",
    "        left = head \n",
    "        right = self.get_mid(head)\n",
    "        temp = right.next \n",
    "        right.next = None \n",
    "        right = temp \n",
    "        left = self.sortList(left)\n",
    "        right = self.sortList(right)\n",
    "        return self.merge(left, right)\n",
    "\n",
    "\n",
    "    def get_mid(self, head):\n",
    "        slow = head \n",
    "        fast = head.next\n",
    "        while fast and fast.next:\n",
    "            slow = slow.next \n",
    "            fast = fast.next.next\n",
    "        return slow\n",
    "        \n",
    "    \n",
    "    def merge(self, l1: Optional[ListNode], l2: Optional[ListNode]):\n",
    "        dummy = ListNode()\n",
    "        curr = dummy\n",
    "        while l1 and l2:\n",
    "            if l1.val < l2.val:\n",
    "                curr.next = l1 \n",
    "                l1 = l1.next\n",
    "            else:\n",
    "                curr.next = l2 \n",
    "                l2 = l2.next \n",
    "            curr = curr.next \n",
    "        \n",
    "        if l1:\n",
    "            curr.next = l1 \n",
    "        \n",
    "        if l2:\n",
    "            curr.next = l2 \n",
    "        \n",
    "        return dummy.next\n",
    "    \n",
    "    def print_list(self, list1):\n",
    "        temp = list1 \n",
    "        while temp:\n",
    "            print(temp.val)\n",
    "            temp = temp.next\n",
    "\n",
    "solution = Solution()\n",
    "res = solution.sortList(ListNode(4, ListNode(2, ListNode(1, ListNode(3)))))\n",
    "solution.print_list(res)"
   ]
  },
  {
   "cell_type": "code",
   "execution_count": 5,
   "id": "a3f67b5a",
   "metadata": {},
   "outputs": [
    {
     "data": {
      "text/plain": [
       "[0, 0, 1, 1, 2, 2]"
      ]
     },
     "execution_count": 5,
     "metadata": {},
     "output_type": "execute_result"
    }
   ],
   "source": [
    "''' \n",
    "Input: nums = [2,0,2,1,1,0]\n",
    "Output: [0,0,1,1,2,2]\n",
    "'''\n",
    "from typing import List \n",
    "\n",
    "class Solution:\n",
    "    def sortColors(self, nums: List[int]) -> None:\n",
    "        low, mid, high = 0, 0, len(nums) - 1\n",
    "        while mid <= high:\n",
    "            if nums[mid] == 0:\n",
    "                nums[mid], nums[low] = nums[low], nums[mid]\n",
    "                mid += 1\n",
    "                low += 1\n",
    "            elif nums[mid] == 1:\n",
    "                mid += 1\n",
    "            else:\n",
    "                nums[mid], nums[high] = nums[high], nums[mid]\n",
    "                high -= 1\n",
    "        return nums\n",
    "    \n",
    "solution = Solution()\n",
    "solution.sortColors([2,0,2,1,1,0])\n"
   ]
  },
  {
   "cell_type": "code",
   "execution_count": 25,
   "id": "a175f595",
   "metadata": {},
   "outputs": [
    {
     "data": {
      "text/plain": [
       "5"
      ]
     },
     "execution_count": 25,
     "metadata": {},
     "output_type": "execute_result"
    }
   ],
   "source": [
    "''' \n",
    "Input: nums = [3,2,1,5,6,4], k = 2\n",
    "Output: 5\n",
    "'''\n",
    "\n",
    "import heapq\n",
    "\n",
    "class Solution:\n",
    "    def find_kth_largest(self, nums: list, k: int):\n",
    "        max_heap = [-n for n in nums]\n",
    "        heapq.heapify(max_heap)\n",
    "\n",
    "        while k > 0:\n",
    "            res = heapq.heappop(max_heap)\n",
    "            k -= 1 \n",
    "            \n",
    "        return -res \n",
    "    \n",
    "    def findKthLargest(self, nums: List[int], k: int) -> int:\n",
    "        k = len(nums) - k \n",
    "\n",
    "        def quick_select(l, r):\n",
    "            pivot = nums[r]\n",
    "            p = l \n",
    "            for i in range(l, r):\n",
    "                if nums[i] <= pivot:\n",
    "                    if i != p:\n",
    "                        nums[p], nums[i] = nums[i], nums[p]\n",
    "                    p += 1\n",
    "            nums[p], nums[r] = nums[r], nums[p]\n",
    "            if p == k:\n",
    "                return nums[p]\n",
    "            elif p < k:\n",
    "                return quick_select(p + 1, r)\n",
    "            else:\n",
    "                return quick_select(l, p - 1)\n",
    "        return quick_select(0, len(nums) - 1)\n",
    "\n",
    "\n",
    "solution = Solution()\n",
    "solution.find_kth_largest(nums = [3,2,1,5,6,4], k = 2)"
   ]
  },
  {
   "cell_type": "code",
   "execution_count": null,
   "id": "cb5db728",
   "metadata": {},
   "outputs": [
    {
     "name": "stdout",
     "output_type": "stream",
     "text": [
      "3\n",
      "2\n"
     ]
    },
    {
     "data": {
      "text/plain": [
       "'aaabcbc'"
      ]
     },
     "execution_count": 21,
     "metadata": {},
     "output_type": "execute_result"
    }
   ],
   "source": [
    "''' \n",
    "Input: s = \"3[a]2[bc]\"\n",
    "Output: \"aaabcbc\"\n",
    "'''\n",
    "\n",
    "class Solution:\n",
    "    def decodeString(self, s: str) -> str:\n",
    "        stack = []\n",
    "        for c in s:\n",
    "            if c != ']':\n",
    "                stack.append(c)\n",
    "            else:\n",
    "                substr = \"\"\n",
    "                while stack and stack[-1] != '[':\n",
    "                    substr = stack.pop() + substr\n",
    "                stack.pop()\n",
    "                k = \"\"\n",
    "                while stack and stack[-1].isdigit():\n",
    "                    k = stack.pop() + k\n",
    "                \n",
    "                stack.append(int(k) * substr)\n",
    "        return \"\".join(stack)\n",
    "    \n",
    "solution = Solution()\n",
    "solution.decodeString(\"3[a]2[bc]\")"
   ]
  },
  {
   "cell_type": "code",
   "execution_count": 27,
   "id": "8cd0bf08",
   "metadata": {},
   "outputs": [
    {
     "data": {
      "text/plain": [
       "True"
      ]
     },
     "execution_count": 27,
     "metadata": {},
     "output_type": "execute_result"
    }
   ],
   "source": [
    "''' \n",
    "Input: s = \"()[]{}\"\n",
    "\n",
    "Output: true\n",
    "'''\n",
    "\n",
    "class Solution:\n",
    "    def isValid(self, s: str) -> bool:\n",
    "        stack = []\n",
    "        for c in s:\n",
    "            if c in ['(', '[', '{']:\n",
    "                stack.append(c)\n",
    "            else:\n",
    "                if stack and ((c == ')' and stack[-1] == '(') or \\\n",
    "                 (c == ']' and stack[-1] == '[') or \\\n",
    "                 (c == '}' and stack[-1] == '{')): \n",
    "                    stack.pop()\n",
    "                else:\n",
    "                    return False\n",
    "\n",
    "        return len(stack) == 0\n",
    "    \n",
    "solution = Solution()\n",
    "solution.isValid(\"()[]{}\")\n",
    "                 "
   ]
  },
  {
   "cell_type": "code",
   "execution_count": 29,
   "id": "67e054f5",
   "metadata": {},
   "outputs": [
    {
     "data": {
      "text/plain": [
       "'ca'"
      ]
     },
     "execution_count": 29,
     "metadata": {},
     "output_type": "execute_result"
    }
   ],
   "source": [
    "''' \n",
    "Input: s = \"abbaca\"\n",
    "Output: \"ca\"\n",
    "Explanation: \n",
    "For example, in \"abbaca\" we could remove \"bb\" since the letters are adjacent and equal, and this is the only possible move.  The result of this move is that the string is \"aaca\", of which only \"aa\" is possible, so the final string is \"ca\".\n",
    "'''\n",
    "\n",
    "class Solution:\n",
    "    def removeDuplicates(self, s: str) -> str:\n",
    "        stack = []\n",
    "        for c in s:\n",
    "            if stack and stack[-1] == c:\n",
    "                stack.pop()\n",
    "            else:\n",
    "                stack.append(c)\n",
    "        return \"\".join(stack)\n",
    "    \n",
    "\n",
    "solution = Solution()\n",
    "solution.removeDuplicates(\"abbaca\")"
   ]
  },
  {
   "cell_type": "code",
   "execution_count": 35,
   "id": "376b0cef",
   "metadata": {},
   "outputs": [
    {
     "name": "stdout",
     "output_type": "stream",
     "text": [
      "[0, 0]\n",
      "1 0\n",
      "0\n"
     ]
    }
   ],
   "source": [
    "''' \n",
    "Input\n",
    "[\"MinStack\",\"push\",\"push\",\"push\",\"getMin\",\"pop\",\"top\",\"getMin\"]\n",
    "[[],[-2],[0],[-3],[],[],[],[]]\n",
    "\n",
    "Output\n",
    "[null,null,null,null,-3,null,0,-2]\n",
    "\n",
    "Explanation\n",
    "MinStack minStack = new MinStack();\n",
    "minStack.push(-2);\n",
    "minStack.push(0);\n",
    "minStack.push(-3);\n",
    "minStack.getMin(); // return -3\n",
    "minStack.pop();\n",
    "minStack.top();    // return 0\n",
    "minStack.getMin(); // return -2\n",
    "'''\n",
    "\n",
    "class MinStack:\n",
    "\n",
    "    def __init__(self):\n",
    "        self.stack = []\n",
    "        self.min_stack = []\n",
    "\n",
    "    def getMin(self):\n",
    "        return self.min_stack[-1]\n",
    "    \n",
    "    def push(self, num):\n",
    "        self.stack.append(num)\n",
    "        if (not self.min_stack) or (self.min_stack and self.min_stack[-1] >= num):\n",
    "            self.min_stack.append(num)\n",
    "\n",
    "    def pop(self):\n",
    "        num = self.stack.pop()\n",
    "        if self.min_stack[-1] == num:\n",
    "            self.min_stack.pop()\n",
    "\n",
    "    def top(self):\n",
    "        return self.stack[-1]\n",
    "    \n",
    "\n",
    "obj = MinStack()\n",
    "obj.push(0)\n",
    "obj.push(1)\n",
    "obj.push(0)\n",
    "print(obj.min_stack)\n",
    "param_4 = obj.getMin()\n",
    "obj.pop()\n",
    "param_3 = obj.top()\n",
    "print(param_3, param_4)\n",
    "print(obj.getMin())"
   ]
  },
  {
   "cell_type": "code",
   "execution_count": 45,
   "id": "39dc2e00",
   "metadata": {},
   "outputs": [
    {
     "data": {
      "text/plain": [
       "'abc'"
      ]
     },
     "execution_count": 45,
     "metadata": {},
     "output_type": "execute_result"
    }
   ],
   "source": [
    "''' \n",
    "Input: s = \"bcabc\"\n",
    "Output: \"abc\"\n",
    "'''\n",
    "\n",
    "class Solution:\n",
    "    def removeDuplicateLetters(self, s: str) -> str:\n",
    "        set_ds = set()\n",
    "        stack = []\n",
    "        hash_map = {}\n",
    "        for i in range(len(s)):\n",
    "            hash_map[s[i]] = i\n",
    "\n",
    "        for i, c in enumerate(s):\n",
    "            if c in set_ds:\n",
    "                continue \n",
    "            else:\n",
    "                while len(stack) > 0 and stack[-1] > c and hash_map[stack[-1]] > i:\n",
    "                    set_ds.remove(stack[-1])\n",
    "                    stack.pop()\n",
    "                \n",
    "                stack.append(c)\n",
    "                set_ds.add(c)\n",
    "        return \"\".join(stack)\n",
    "    \n",
    "solution = Solution()\n",
    "solution.removeDuplicateLetters(\"bcabc\")"
   ]
  },
  {
   "cell_type": "code",
   "execution_count": null,
   "id": "94df6c45",
   "metadata": {},
   "outputs": [
    {
     "data": {
      "text/plain": [
       "'lecoe'"
      ]
     },
     "execution_count": 46,
     "metadata": {},
     "output_type": "execute_result"
    }
   ],
   "source": [
    "''' \n",
    "Input: s = \"leet**cod*e\"\n",
    "Output: \"lecoe\"\n",
    "Explanation: Performing the removals from left to right:\n",
    "- The closest character to the 1st star is 't' in \"leet**cod*e\". s becomes \"lee*cod*e\".\n",
    "- The closest character to the 2nd star is 'e' in \"lee*cod*e\". s becomes \"lecod*e\".\n",
    "- The closest character to the 3rd star is 'd' in \"lecod*e\". s becomes \"lecoe\".\n",
    "There are no more stars, so we return \"lecoe\".\n",
    "'''\n",
    "\n",
    "class Solution:\n",
    "    def removeStars(self, s: str) -> str:\n",
    "        stack = []\n",
    "        for c in s:\n",
    "            if stack and c == '*':\n",
    "                stack.pop()\n",
    "            else:\n",
    "                stack.append(c)\n",
    "        return \"\".join(stack)\n",
    "    \n",
    "\n",
    "solution = Solution()\n",
    "solution.removeStars(\"leet**cod*e\")"
   ]
  },
  {
   "cell_type": "code",
   "execution_count": null,
   "id": "8a3a4a86",
   "metadata": {},
   "outputs": [
    {
     "data": {
      "text/plain": [
       "9"
      ]
     },
     "execution_count": 47,
     "metadata": {},
     "output_type": "execute_result"
    }
   ],
   "source": [
    "''' \n",
    "Input: tokens = [\"2\",\"1\",\"+\",\"3\",\"*\"]\n",
    "Output: 9\n",
    "Explanation: ((2 + 1) * 3) = 9\n",
    "'''\n",
    "\n",
    "class Solution(object):\n",
    "    def evalRPN(self, tokens:list[str]):\n",
    "        stack = []\n",
    "        for token in tokens:\n",
    "            if token in '+-*/':\n",
    "                m = stack.pop()\n",
    "                n = stack.pop()\n",
    "                if token == '+':\n",
    "                    stack.append(m + n)\n",
    "                elif token == '-':\n",
    "                    stack.append(m - n)\n",
    "                elif token == '*':\n",
    "                    stack.append(m * n)\n",
    "                else:\n",
    "                    stack.append(m / n)\n",
    "            else:\n",
    "                stack.append(int(token))\n",
    "        return stack[-1]\n",
    "solution = Solution()\n",
    "solution.evalRPN([\"2\",\"1\",\"+\",\"3\",\"*\"])\n"
   ]
  },
  {
   "cell_type": "code",
   "execution_count": 55,
   "id": "2310f721",
   "metadata": {},
   "outputs": [
    {
     "data": {
      "text/plain": [
       "80"
      ]
     },
     "execution_count": 55,
     "metadata": {},
     "output_type": "execute_result"
    }
   ],
   "source": [
    "''' \n",
    "Input: \"12 + 34 * 2\"\n",
    "Output: \"\"\n",
    "'''\n",
    "\n",
    "class Solution:\n",
    "    def calculate(self, s: str) -> int:\n",
    "        stack = []\n",
    "        sign = '+'\n",
    "        num = 0 \n",
    "\n",
    "        for i, char in enumerate(s):\n",
    "            if char.isdigit():\n",
    "                num = (num * 10) + int(char)\n",
    "                 \n",
    "\n",
    "            if (not char.isdigit() and char != ' ') or i == len(s) - 1:\n",
    "                if sign == '+':\n",
    "                    stack.append(num)\n",
    "                elif sign == '-':\n",
    "                    stack.append(-num)\n",
    "                elif sign == '*':\n",
    "                    stack.append(stack.pop() * num)\n",
    "                else:\n",
    "                    stack.append(int(stack.pop() / num))\n",
    "                \n",
    "                sign = char\n",
    "                num = 0\n",
    "\n",
    "        return sum(stack)\n",
    "    \n",
    "\n",
    "solution = Solution()\n",
    "solution.calculate(\"12 + 34 * 2\")"
   ]
  },
  {
   "cell_type": "code",
   "execution_count": 57,
   "id": "171dfa70",
   "metadata": {},
   "outputs": [
    {
     "data": {
      "text/plain": [
       "4"
      ]
     },
     "execution_count": 57,
     "metadata": {},
     "output_type": "execute_result"
    }
   ],
   "source": [
    "''' \n",
    "Input: s = \")()())\"\n",
    "Output: 4\n",
    "Explanation: The longest valid parentheses substring is \"()()\".\n",
    "'''\n",
    "\n",
    "class Solution:\n",
    "    def longestValidParentheses(self, s: str) -> int:\n",
    "        stack = [-1]\n",
    "        max_count = 0\n",
    "        for i, c in enumerate(s):\n",
    "            if c == '(':\n",
    "                stack.append(i)\n",
    "            else:\n",
    "                stack.pop()\n",
    "                if not stack:\n",
    "                    stack.append(i)\n",
    "                else:\n",
    "                    \n",
    "                    max_count = max(max_count, i - stack[-1])\n",
    "        return max_count \n",
    "    \n",
    "solution = Solution()\n",
    "solution.longestValidParentheses(\")()())\")"
   ]
  },
  {
   "cell_type": "code",
   "execution_count": 58,
   "id": "9f9b7275",
   "metadata": {},
   "outputs": [
    {
     "data": {
      "text/plain": [
       "[-1, 3, -1]"
      ]
     },
     "execution_count": 58,
     "metadata": {},
     "output_type": "execute_result"
    }
   ],
   "source": [
    "''' \n",
    "Input: nums1 = [4,1,2], nums2 = [1,3,4,2]\n",
    "Output: [-1,3,-1]\n",
    "Explanation: The next greater element for each value of nums1 is as follows:\n",
    "- 4 is underlined in nums2 = [1,3,4,2]. There is no next greater element, so the answer is -1.\n",
    "- 1 is underlined in nums2 = [1,3,4,2]. The next greater element is 3.\n",
    "- 2 is underlined in nums2 = [1,3,4,2]. There is no next greater element, so the answer is -1.\n",
    "'''\n",
    "from typing import List, Optional\n",
    "\n",
    "class Solution:\n",
    "    def nextGreaterElement(self, nums1: List[int], nums2: List[int]) -> List[int]:\n",
    "        hash_map = {}\n",
    "        stack = []\n",
    "        for num in nums2:\n",
    "            while stack and stack[-1] < num:\n",
    "                hash_map[stack.pop()] = num \n",
    "            stack.append(num)\n",
    "        return [hash_map.get(num, -1) for num in nums1]\n",
    "    \n",
    "solution = Solution()\n",
    "solution.nextGreaterElement(nums1 = [4,1,2], nums2 = [1,3,4,2])"
   ]
  },
  {
   "cell_type": "code",
   "execution_count": 60,
   "id": "a5933b33",
   "metadata": {},
   "outputs": [
    {
     "data": {
      "text/plain": [
       "[1, 1, 4, 2, 1, 1, 0, 0]"
      ]
     },
     "execution_count": 60,
     "metadata": {},
     "output_type": "execute_result"
    }
   ],
   "source": [
    "''' \n",
    "Input: temperatures = [73,74,75,71,69,72,76,73]\n",
    "Output: [1,1,4,2,1,1,0,0]\n",
    "\n",
    "Given an array of integers temperatures represents the daily temperatures, \n",
    "return an array answer such that answer[i] is the number of days you have to wait after the ith day to get a warmer temperature. \n",
    "If there is no future day for which this is possible, keep answer[i] == 0 instead.\n",
    "'''\n",
    "\n",
    "from typing import List\n",
    "\n",
    "class Solution:\n",
    "    def dailyTemperatures(self, temperatures: List[int]) -> List[int]:\n",
    "        res = [0] * len(temperatures)\n",
    "        stack = []\n",
    "        for i in range(len(temperatures) - 1, -1, -1):\n",
    "            current_temp = temperatures[i]\n",
    "\n",
    "            while stack and temperatures[stack[-1]] <= current_temp:\n",
    "                stack.pop()\n",
    "            \n",
    "            if stack:\n",
    "                res[i] = stack[-1] - i \n",
    "            \n",
    "            stack.append(i)\n",
    "\n",
    "        return res\n",
    "    \n",
    "solution = Solution()\n",
    "solution.dailyTemperatures([73,74,75,71,69,72,76,73])"
   ]
  },
  {
   "cell_type": "code",
   "execution_count": 61,
   "id": "80dbb666",
   "metadata": {},
   "outputs": [
    {
     "name": "stdout",
     "output_type": "stream",
     "text": [
      "1\n",
      "1\n",
      "1\n",
      "2\n",
      "1\n",
      "4\n",
      "6\n"
     ]
    }
   ],
   "source": [
    "''' \n",
    "Input\n",
    "[\"StockSpanner\", \"next\", \"next\", \"next\", \"next\", \"next\", \"next\", \"next\"]\n",
    "[[], [100], [80], [60], [70], [60], [75], [85]]\n",
    "Output\n",
    "[null, 1, 1, 1, 2, 1, 4, 6]\n",
    "\n",
    "Explanation\n",
    "StockSpanner stockSpanner = new StockSpanner();\n",
    "stockSpanner.next(100); // return 1\n",
    "stockSpanner.next(80);  // return 1\n",
    "stockSpanner.next(60);  // return 1\n",
    "stockSpanner.next(70);  // return 2\n",
    "stockSpanner.next(60);  // return 1\n",
    "stockSpanner.next(75);  // return 4, because the last 4 prices (including today's price of 75) were less than or equal to today's price.\n",
    "stockSpanner.next(85);  // return 6\n",
    "'''\n",
    "\n",
    "class StockSpanner:\n",
    "\n",
    "    def __init__(self):\n",
    "        self.stack = []\n",
    "\n",
    "    def next(self, price: int) -> int:\n",
    "        span = 1\n",
    "\n",
    "        while self.stack and self.stack[-1][0] < price:\n",
    "            span += self.stack.pop()[1]\n",
    "        \n",
    "        self.stack.append([price, span])\n",
    "\n",
    "        return span\n",
    "    \n",
    "stockSpanner = StockSpanner()\n",
    "print(stockSpanner.next(100)); \n",
    "print(stockSpanner.next(80)); \n",
    "print(stockSpanner.next(60)); \n",
    "print(stockSpanner.next(70)); \n",
    "print(stockSpanner.next(60)); \n",
    "print(stockSpanner.next(75))\n",
    "print(stockSpanner.next(85))"
   ]
  },
  {
   "cell_type": "code",
   "execution_count": 66,
   "id": "51902b40",
   "metadata": {},
   "outputs": [
    {
     "data": {
      "text/plain": [
       "True"
      ]
     },
     "execution_count": 66,
     "metadata": {},
     "output_type": "execute_result"
    }
   ],
   "source": [
    "''' \n",
    "Given an array of n integers nums, a 132 pattern is a subsequence of three integers nums[i], nums[j] and nums[k] such that i < j < k and nums[i] < nums[k] < nums[j].\n",
    "\n",
    "Return true if there is a 132 pattern in nums, otherwise, return false.\n",
    "\n",
    "Input: nums = [1,2,3,4]\n",
    "Output: false\n",
    "Explanation: There is no 132 pattern in the sequence.\n",
    "'''\n",
    "\n",
    "from typing import List\n",
    "\n",
    "class Solution:\n",
    "    def find132pattern(self, nums: List[int]) -> bool:\n",
    "        j = float('-inf')\n",
    "        stack = []\n",
    "        for i in range(len(nums) - 1, -1, -1):\n",
    "            if j > nums[i]:\n",
    "                return True\n",
    "            \n",
    "            while stack and stack[-1] < nums[i]:\n",
    "                j = nums[i] \n",
    "                stack.pop()\n",
    "            stack.append(nums[i])\n",
    "        return False\n",
    "    \n",
    "solution = Solution()\n",
    "solution.find132pattern([1, 3, 2])"
   ]
  },
  {
   "cell_type": "code",
   "execution_count": 67,
   "id": "6f59f06e",
   "metadata": {},
   "outputs": [
    {
     "data": {
      "text/plain": [
       "[3, 1, 2, 1, 1, 0]"
      ]
     },
     "execution_count": 67,
     "metadata": {},
     "output_type": "execute_result"
    }
   ],
   "source": [
    "''' \n",
    "Input: heights = [10,6,8,5,11,9]\n",
    "Output: [3,1,2,1,1,0]\n",
    "Explanation:\n",
    "Person 0 can see person 1, 2, and 4.\n",
    "Person 1 can see person 2.\n",
    "Person 2 can see person 3 and 4.\n",
    "Person 3 can see person 4.\n",
    "Person 4 can see person 5.\n",
    "Person 5 can see no one since nobody is to the right of them.\n",
    "'''\n",
    "\n",
    "class Solution:\n",
    "    def canSeePersonsCount(self, heights: List[int]) -> List[int]:\n",
    "        stack = []\n",
    "        res = [0] * len(heights)\n",
    "        for i in range(len(heights) - 1, -1, -1):\n",
    "            count = 0\n",
    "            while stack and stack[-1] < heights[i]:\n",
    "                count += 1 \n",
    "                stack.pop()\n",
    "            \n",
    "            if stack:\n",
    "                count += 1 \n",
    "            \n",
    "            stack.append(heights[i])\n",
    "\n",
    "            res[i] = count \n",
    "        return res \n",
    "    \n",
    "solution = Solution()\n",
    "solution.canSeePersonsCount([10,6,8,5,11,9])"
   ]
  },
  {
   "cell_type": "code",
   "execution_count": 71,
   "id": "466c7bc6",
   "metadata": {},
   "outputs": [
    {
     "data": {
      "text/plain": [
       "10"
      ]
     },
     "execution_count": 71,
     "metadata": {},
     "output_type": "execute_result"
    }
   ],
   "source": [
    "''' \n",
    "Input: heights = [2,1,5,6,2,3]\n",
    "Output: 10\n",
    "Explanation: The above is a histogram where width of each bar is 1.\n",
    "The largest rectangle is shown in the red area, which has an area = 10 units.\n",
    "'''\n",
    "\n",
    "from typing import List\n",
    "\n",
    "class Solution:\n",
    "    def largestRectangleArea(self, heights: List[int]) -> int:\n",
    "        stack = []\n",
    "        max_area = 0\n",
    "        for i, h in enumerate(heights):\n",
    "            start = i \n",
    "            while stack and stack[-1][1] > h:\n",
    "                index, height = stack.pop()\n",
    "                max_area = max(max_area, height * (i - index))\n",
    "                start = index \n",
    "            stack.append([start,h])\n",
    "        \n",
    "        for index, height in stack:\n",
    "            max_area = max(max_area, height * (len(heights) - index))\n",
    "\n",
    "        return max_area \n",
    "    \n",
    "solution = Solution()\n",
    "solution.largestRectangleArea(heights = [2,1,5,6,2,3])\n"
   ]
  },
  {
   "cell_type": "code",
   "execution_count": 91,
   "id": "7a2b715a",
   "metadata": {},
   "outputs": [
    {
     "data": {
      "text/plain": [
       "3"
      ]
     },
     "execution_count": 91,
     "metadata": {},
     "output_type": "execute_result"
    }
   ],
   "source": [
    "''' \n",
    "Input\n",
    "[\"RecentCounter\", \"ping\", \"ping\", \"ping\", \"ping\"]\n",
    "[[], [1], [100], [3001], [3002]]\n",
    "Output\n",
    "[null, 1, 2, 3, 3]\n",
    "\n",
    "Explanation\n",
    "RecentCounter recentCounter = new RecentCounter();\n",
    "recentCounter.ping(1);     // requests = [1], range is [-2999,1], return 1\n",
    "recentCounter.ping(100);   // requests = [1, 100], range is [-2900,100], return 2\n",
    "recentCounter.ping(3001);  // requests = [1, 100, 3001], range is [1,3001], return 3\n",
    "recentCounter.ping(3002);  // requests = [1, 100, 3001, 3002], range is [2,3002], return 3\n",
    "'''\n",
    "from collections import deque\n",
    "\n",
    "class RecentCounter(object):\n",
    "    def __init__(self):\n",
    "        self.queue = deque()\n",
    "    \n",
    "    def ping(self, t):\n",
    "        self.queue.append(t)\n",
    "\n",
    "        while self.queue and (t - self.queue[0] > 3000):\n",
    "            self.queue.popleft()\n",
    "        return len(self.queue)\n",
    "    \n",
    "\n",
    "class RecentCounter(object):\n",
    "    def __init__(self):\n",
    "        self.queue = []\n",
    "        self.start = 0\n",
    "    \n",
    "    def ping(self, t):\n",
    "        self.queue.append(t)\n",
    "\n",
    "        while self.queue and (t - self.queue[self.start] > 3000):\n",
    "            self.start += 1\n",
    "        return len(self.queue) - self.start\n",
    "    \n",
    "recentCounter=RecentCounter()\n",
    "recentCounter.ping(1) \n",
    "recentCounter.ping(100) \n",
    "recentCounter.ping(3001)\n",
    "recentCounter.ping(3002)"
   ]
  },
  {
   "cell_type": "code",
   "execution_count": 96,
   "id": "ce1ef1f0",
   "metadata": {},
   "outputs": [
    {
     "data": {
      "text/plain": [
       "6"
      ]
     },
     "execution_count": 96,
     "metadata": {},
     "output_type": "execute_result"
    }
   ],
   "source": [
    "''' \n",
    "Input: tickets = [2,3,2], k = 2\n",
    "\n",
    "Output: 6\n",
    "\n",
    "Explanation:\n",
    "\n",
    "The queue starts as [2,3,2], where the kth person is underlined.\n",
    "After the person at the front has bought a ticket, the queue becomes [3,2,1] at 1 second.\n",
    "Continuing this process, the queue becomes [2,1,2] at 2 seconds.\n",
    "Continuing this process, the queue becomes [1,2,1] at 3 seconds.\n",
    "Continuing this process, the queue becomes [2,1] at 4 seconds. Note: the person at the front left the queue.\n",
    "Continuing this process, the queue becomes [1,1] at 5 seconds.\n",
    "Continuing this process, the queue becomes [1] at 6 seconds. The kth person has bought all their tickets, so return 6.\n",
    "'''\n",
    "\n",
    "from collections import deque\n",
    "from typing import List\n",
    "\n",
    "class Solution:\n",
    "    # Using deque for efficient popping from the front\n",
    "    def timeRequiredToBuy(self, tickets: List[int], k: int) -> int:\n",
    "        queue = deque([(i, t) for i, t in enumerate(tickets)])\n",
    "        time = 0\n",
    "        while queue:\n",
    "            i, t = queue.popleft()\n",
    "            time += 1\n",
    "            t -= 1\n",
    "\n",
    "            if i == k and t == 0:\n",
    "                return time \n",
    "            \n",
    "            if t != 0:\n",
    "                queue.append((i, t))\n",
    "\n",
    "    def timeRequiredToBuy(self, tickets: List[int], k: int) -> int:\n",
    "        time = 0\n",
    "        for i in range(len(tickets)):\n",
    "            if i <= k:\n",
    "                time += min(tickets[i], tickets[k])\n",
    "            else:\n",
    "                time += min(tickets[i], tickets[k] - 1)\n",
    "        return time\n",
    "\n",
    "solution = Solution()\n",
    "solution.timeRequiredToBuy(tickets = [2,3,2], k = 2)    \n",
    "\n",
    "\n"
   ]
  },
  {
   "cell_type": "code",
   "execution_count": 98,
   "id": "bab8f58b",
   "metadata": {},
   "outputs": [
    {
     "data": {
      "text/plain": [
       "[2, 13, 3, 11, 5, 17, 7]"
      ]
     },
     "execution_count": 98,
     "metadata": {},
     "output_type": "execute_result"
    }
   ],
   "source": [
    "''' \n",
    "Input: deck = [17,13,11,2,3,5,7]\n",
    "Output: [2,13,3,11,5,17,7]\n",
    "Explanation: \n",
    "We get the deck in the order [17,13,11,2,3,5,7] (this order does not matter), and reorder it.\n",
    "After reordering, the deck starts as [2,13,3,11,5,17,7], where 2 is the top of the deck.\n",
    "We reveal 2, and move 13 to the bottom.  The deck is now [3,11,5,17,7,13].\n",
    "We reveal 3, and move 11 to the bottom.  The deck is now [5,17,7,13,11].\n",
    "We reveal 5, and move 17 to the bottom.  The deck is now [7,13,11,17].\n",
    "We reveal 7, and move 13 to the bottom.  The deck is now [11,17,13].\n",
    "We reveal 11, and move 17 to the bottom.  The deck is now [13,17].\n",
    "We reveal 13, and move 17 to the bottom.  The deck is now [17].\n",
    "We reveal 17.\n",
    "Since all the cards revealed are in increasing order, the answer is correct.\n",
    "'''\n",
    "\n",
    "from collections import deque\n",
    "from typing import List\n",
    "\n",
    "class Solution:\n",
    "    def deckRevealedIncreasing(self, deck: List[int]) -> List[int]:\n",
    "        deck.sort()\n",
    "        queue = deque([i for i in range(len(deck))])\n",
    "        res = [0] * len(deck)\n",
    "        for d in deck:\n",
    "            i = queue.popleft()\n",
    "\n",
    "            res[i] = d\n",
    "\n",
    "            if queue:\n",
    "                queue.append(queue.popleft())\n",
    "        return res \n",
    "    \n",
    "solution = Solution()\n",
    "solution.deckRevealedIncreasing(deck = [17,13,11,2,3,5,7])"
   ]
  },
  {
   "cell_type": "code",
   "execution_count": 103,
   "id": "5c7be61a",
   "metadata": {},
   "outputs": [
    {
     "data": {
      "text/plain": [
       "[3, 3, 5, 5, 6, 7]"
      ]
     },
     "execution_count": 103,
     "metadata": {},
     "output_type": "execute_result"
    }
   ],
   "source": [
    "''' \n",
    "Input: nums = [1,3,-1,-3,5,3,6,7], k = 3\n",
    "Output: [3,3,5,5,6,7]\n",
    "Explanation: \n",
    "Window position                Max\n",
    "---------------               -----\n",
    "[1  3  -1] -3  5  3  6  7       3\n",
    " 1 [3  -1  -3] 5  3  6  7       3\n",
    " 1  3 [-1  -3  5] 3  6  7       5\n",
    " 1  3  -1 [-3  5  3] 6  7       5\n",
    " 1  3  -1  -3 [5  3  6] 7       6\n",
    " 1  3  -1  -3  5 [3  6  7]      7\n",
    "'''\n",
    "\n",
    "from collections import deque\n",
    "from typing import List\n",
    "\n",
    "class Solution:\n",
    "    def maxSlidingWindow(self, nums: List[int], k: int) -> List[int]:\n",
    "        queue = deque()\n",
    "        res = []\n",
    "\n",
    "        for i in range(len(nums)):\n",
    "            if queue and queue[0] < i - k + 1:\n",
    "                queue.popleft()\n",
    "\n",
    "            while queue and nums[queue[-1]] < nums[i]:\n",
    "                queue.pop()\n",
    "            queue.append(i)\n",
    "            if i >= k - 1:\n",
    "                res.append(nums[queue[0]])\n",
    "        return res \n",
    "    \n",
    "solution = Solution()\n",
    "solution.maxSlidingWindow(nums = [1,3,-1,-3,5,3,6,7], k = 3)"
   ]
  },
  {
   "cell_type": "code",
   "execution_count": 110,
   "id": "9714448d",
   "metadata": {},
   "outputs": [
    {
     "data": {
      "text/plain": [
       "7"
      ]
     },
     "execution_count": 110,
     "metadata": {},
     "output_type": "execute_result"
    }
   ],
   "source": [
    "''' \n",
    "Input: nums = [1,-1,-2,4,-7,3], k = 2\n",
    "Output: 7\n",
    "Explanation: You can choose your jumps forming the subsequence [1,-1,4,3] (underlined above). The sum is 7.\n",
    "'''\n",
    "\n",
    "from collections import deque\n",
    "from typing import List\n",
    "\n",
    "class Solution:\n",
    "    def maxResult(self, nums: List[int], k: int) -> int:\n",
    "        queue = deque([0])\n",
    "        \n",
    "        for i in range(1, len(nums)):\n",
    "\n",
    "            nums[i] += nums[queue[0]]\n",
    "\n",
    "            \n",
    "            if queue and queue[0] < i - k + 1:\n",
    "               queue.popleft()\n",
    "\n",
    "            while queue and nums[queue[-1]] <= nums[i]:\n",
    "                queue.pop()\n",
    "\n",
    "            queue.append(i)\n",
    "        \n",
    "        return nums[-1]\n",
    "    \n",
    "\n",
    "solution = Solution()\n",
    "solution.maxResult(nums = [1,-1,-2,4,-7,3], k = 2)"
   ]
  },
  {
   "cell_type": "code",
   "execution_count": 127,
   "id": "c085b087",
   "metadata": {},
   "outputs": [
    {
     "data": {
      "text/plain": [
       "2"
      ]
     },
     "execution_count": 127,
     "metadata": {},
     "output_type": "execute_result"
    }
   ],
   "source": [
    "''' \n",
    "Input: nums = [8,2,4,7], limit = 4\n",
    "Output: 2 \n",
    "Explanation: All subarrays are: \n",
    "[8] with maximum absolute diff |8-8| = 0 <= 4.\n",
    "[8,2] with maximum absolute diff |8-2| = 6 > 4. \n",
    "[8,2,4] with maximum absolute diff |8-2| = 6 > 4.\n",
    "[8,2,4,7] with maximum absolute diff |8-2| = 6 > 4.\n",
    "[2] with maximum absolute diff |2-2| = 0 <= 4.\n",
    "[2,4] with maximum absolute diff |2-4| = 2 <= 4.\n",
    "[2,4,7] with maximum absolute diff |2-7| = 5 > 4.\n",
    "[4] with maximum absolute diff |4-4| = 0 <= 4.\n",
    "[4,7] with maximum absolute diff |4-7| = 3 <= 4.\n",
    "[7] with maximum absolute diff |7-7| = 0 <= 4. \n",
    "Therefore, the size of the longest subarray is 2.\n",
    "'''\n",
    "\n",
    "from collections import deque\n",
    "from typing import List\n",
    "\n",
    "class Solution:\n",
    "    def longestSubarray(self, nums: List[int], limit: int) -> int:\n",
    "        min_queue = deque()\n",
    "        max_queue = deque()\n",
    "        left = 0\n",
    "        max_window = 0\n",
    "        for right in range(len(nums)):\n",
    "            while min_queue and nums[min_queue[-1]] > nums[right]:\n",
    "                min_queue.pop()\n",
    "            \n",
    "            while max_queue and nums[max_queue[-1]] < nums[right]:\n",
    "                max_queue.pop()\n",
    "\n",
    "            min_queue.append(right)\n",
    "            max_queue.append(right)\n",
    "            while nums[max_queue[0]] - nums[min_queue[0]] > limit:\n",
    "                \n",
    "                if min_queue[0] == left:\n",
    "                    min_queue.popleft()\n",
    "\n",
    "                if max_queue[0] == left:\n",
    "                    max_queue.popleft()\n",
    "                \n",
    "                left += 1 \n",
    "\n",
    "\n",
    "            \n",
    "            max_window = max(max_window, right - left + 1)\n",
    "        return max_window\n",
    "    \n",
    "solution = Solution()\n",
    "solution.longestSubarray(nums = [8,2,4,7], limit = 4)"
   ]
  },
  {
   "cell_type": "code",
   "execution_count": 131,
   "id": "ea05b138",
   "metadata": {},
   "outputs": [
    {
     "data": {
      "text/plain": [
       "4"
      ]
     },
     "execution_count": 131,
     "metadata": {},
     "output_type": "execute_result"
    }
   ],
   "source": [
    "from collections import deque\n",
    "\n",
    "class Solution:\n",
    "    def findMaxValueOfEquation(self, points: List[List[int]], k: int) -> int:\n",
    "        queue = deque([])\n",
    "        max_value = float('-inf')\n",
    "        for xi, yi in points:\n",
    "            while queue and xi - queue[0][0] > k:\n",
    "                queue.popleft()\n",
    "            \n",
    "\n",
    "            if queue:\n",
    "                max_value = max(max_value, queue[0][0] + xi + yi)\n",
    "\n",
    "            while queue and queue[-1][0] <= yi - xi:\n",
    "                queue.pop()\n",
    "            \n",
    "            queue.append([yi - xi, xi])\n",
    "        return max_value \n",
    "    \n",
    "\n",
    "solution = Solution()\n",
    "solution.findMaxValueOfEquation([[1,3],[2,0],[5,10],[6,-10]], 1)\n"
   ]
  },
  {
   "cell_type": "code",
   "execution_count": 14,
   "id": "c62dc238",
   "metadata": {},
   "outputs": [
    {
     "data": {
      "text/plain": [
       "8"
      ]
     },
     "execution_count": 14,
     "metadata": {},
     "output_type": "execute_result"
    }
   ],
   "source": [
    "''' \n",
    "Input: intersectVal = 8, listA = [4,1,8,4,5], listB = [5,6,1,8,4,5], skipA = 2, skipB = 3\n",
    "Output: Intersected at '8'\n",
    "'''\n",
    "from typing import List, Optional\n",
    "\n",
    "class ListNode:\n",
    "    def __init__(self, x, next = None):\n",
    "        self.val = x \n",
    "        self.next = next \n",
    "\n",
    "class Solution:\n",
    "    def getIntersectionNode(self, headA: ListNode, headB: ListNode) -> Optional[ListNode]:\n",
    "        l1 = headA\n",
    "        l2 = headB \n",
    "\n",
    "        while l1 != l2:\n",
    "            l1 = l1.next if l1 else headB \n",
    "            l2 = l2.next if l2 else headA \n",
    "\n",
    "        return l1 \n",
    "    \n",
    "solution = Solution()\n",
    "# Create the shared part of the list.\n",
    "shared = ListNode(8, ListNode(4, ListNode(5)))\n",
    "\n",
    "# Build listA and listB so that they converge at 'shared'\n",
    "listA = ListNode(4, ListNode(1, shared))\n",
    "listB = ListNode(5, ListNode(6, ListNode(1, shared)))\n",
    "solution.getIntersectionNode(listA, listB).val\n"
   ]
  },
  {
   "cell_type": "code",
   "execution_count": 29,
   "id": "e6b6185d",
   "metadata": {},
   "outputs": [
    {
     "name": "stdout",
     "output_type": "stream",
     "text": [
      "1\n",
      "2\n",
      "3\n",
      "5\n"
     ]
    }
   ],
   "source": [
    "''' \n",
    "Input: head = [1,2,3,4,5], n = 2\n",
    "Output: [1,2,3,5]\n",
    "'''\n",
    "\n",
    "class ListNode:\n",
    "    def __init__(self, val=0, next=None):\n",
    "        self.val = val\n",
    "        self.next = next\n",
    "class Solution:\n",
    "    def removeNthFromEnd(self, head, n):\n",
    "        dummy = ListNode(0, head)\n",
    "        fast = slow = dummy\n",
    "\n",
    "        for _ in range(n + 1):\n",
    "            if fast:\n",
    "                fast = fast.next \n",
    "            else:\n",
    "                return head\n",
    "\n",
    "        while fast:\n",
    "            slow = slow.next \n",
    "            fast = fast.next \n",
    "        \n",
    "\n",
    "        if slow.next:\n",
    "            slow.next = slow.next.next \n",
    "        return dummy.next\n",
    "\n",
    "    def print_list(self, head): \n",
    "        temp = head \n",
    "        while temp:\n",
    "            print(temp.val)\n",
    "            temp = temp.next\n",
    "    \n",
    "    \n",
    "solution = Solution()\n",
    "res = solution.removeNthFromEnd(ListNode(1, ListNode(2, ListNode(3, ListNode(4, ListNode(5))))), 2)\n",
    "solution.print_list(res)"
   ]
  },
  {
   "cell_type": "code",
   "execution_count": 31,
   "id": "2c770a4b",
   "metadata": {},
   "outputs": [
    {
     "name": "stdout",
     "output_type": "stream",
     "text": [
      "1\n",
      "2\n",
      "3\n",
      "5\n"
     ]
    }
   ],
   "source": [
    "''' \n",
    "Input: head = [1,2,3,4,5], n = 2\n",
    "Output: [1,2,3,5]\n",
    "'''\n",
    "\n",
    "class ListNode:\n",
    "    def __init__(self, val=0, next=None):\n",
    "        self.val = val\n",
    "        self.next = next\n",
    "class Solution:\n",
    "    def removeNthFromEnd(self, head, n):\n",
    "        dummy = ListNode(0, head)\n",
    "        slow = fast = dummy \n",
    "\n",
    "        for _ in range(n + 1):\n",
    "            if fast:\n",
    "                fast = fast.next \n",
    "            else:\n",
    "                return head\n",
    "\n",
    "\n",
    "        while fast:\n",
    "            slow = slow.next \n",
    "            fast = fast.next \n",
    "        \n",
    "        slow.next = slow.next.next \n",
    "\n",
    "        return dummy.next\n",
    "    \n",
    "    def print_list(self, head): \n",
    "        temp = head \n",
    "        while temp:\n",
    "            print(temp.val)\n",
    "            temp = temp.next\n",
    "    \n",
    "    \n",
    "solution = Solution()\n",
    "res = solution.removeNthFromEnd(ListNode(1, ListNode(2, ListNode(3, ListNode(4, ListNode(5))))), 2)\n",
    "solution.print_list(res)"
   ]
  },
  {
   "cell_type": "code",
   "execution_count": 33,
   "id": "bbc9ad1e",
   "metadata": {},
   "outputs": [
    {
     "name": "stdout",
     "output_type": "stream",
     "text": [
      "2\n",
      "1\n",
      "4\n",
      "3\n"
     ]
    }
   ],
   "source": [
    "''' \n",
    "Input: head = [1,2,3,4]\n",
    "\n",
    "Output: [2,1,4,3]\n",
    "'''\n",
    "\n",
    "class ListNode:\n",
    "    def __init__(self, val=0, next=None):\n",
    "        self.val = val\n",
    "        self.next = next\n",
    "class Solution:\n",
    "    def swapPairs(self, head: Optional[ListNode]) -> Optional[ListNode]:\n",
    "        dummy = ListNode(0, head)\n",
    "        prev = dummy \n",
    "\n",
    "        cur = head \n",
    "        while cur and cur.next:\n",
    "            first_node = cur \n",
    "            second_node = cur.next \n",
    "\n",
    "            prev.next = second_node\n",
    "            first_node.next = second_node.next \n",
    "            second_node.next = first_node\n",
    "\n",
    "            prev = first_node\n",
    "            cur = first_node.next \n",
    "        return dummy.next \n",
    "    \n",
    "\n",
    "    def print(self, head):\n",
    "        cur = head \n",
    "        while cur:\n",
    "            print(cur.val)\n",
    "            cur = cur.next \n",
    "\n",
    "solution = Solution()\n",
    "res = solution.swapPairs(ListNode(1, ListNode(2, ListNode(3, ListNode(4, None)))))\n",
    "solution.print(res)\n"
   ]
  },
  {
   "cell_type": "code",
   "execution_count": 45,
   "id": "105efe7c",
   "metadata": {},
   "outputs": [
    {
     "name": "stdout",
     "output_type": "stream",
     "text": [
      "4\n",
      "5\n",
      "1\n",
      "2\n",
      "3\n"
     ]
    }
   ],
   "source": [
    "''' \n",
    "Input: head = [1,2,3,4,5], k = 2\n",
    "Output: [4,5,1,2,3]\n",
    "'''\n",
    "\n",
    "class ListNode:\n",
    "    def __init__(self, val, next = None):\n",
    "        self.val = val\n",
    "        self.next = next \n",
    "\n",
    "class Solution:\n",
    "    def rotate_right(self, head: ListNode, n: int):\n",
    "        length = 1\n",
    "        tail = head\n",
    "        while tail.next:\n",
    "            length += 1 \n",
    "            tail = tail.next \n",
    "\n",
    "        n = n % length\n",
    "        if n == 0:\n",
    "            return head\n",
    "        new_tail = head \n",
    "        for _ in range(length - n - 1):\n",
    "            new_tail = new_tail.next \n",
    "        \n",
    "        tail.next = head \n",
    "        new_head = new_tail.next\n",
    "        new_tail.next = None \n",
    "        return new_head\n",
    "    \n",
    "    def print_list(self, head):\n",
    "        cur = head \n",
    "        while cur:\n",
    "            print(cur.val)\n",
    "            cur = cur.next \n",
    "\n",
    "solution = Solution()\n",
    "res = solution.rotate_right(ListNode(1, ListNode(2, ListNode(3, ListNode(4, ListNode(5))))), 2)\n",
    "solution.print_list(res)\n",
    "\n",
    "\n",
    "\n",
    "\n"
   ]
  },
  {
   "cell_type": "code",
   "execution_count": 62,
   "id": "3f3d6497",
   "metadata": {},
   "outputs": [
    {
     "name": "stdout",
     "output_type": "stream",
     "text": [
      "7\n",
      "0\n",
      "8\n"
     ]
    }
   ],
   "source": [
    "''' \n",
    "Input: l1 = [2,4,3], l2 = [5,6,4]\n",
    "Output: [7,0,8]\n",
    "Explanation: 342 + 465 = 807.\n",
    "'''\n",
    "\n",
    "class ListNode:\n",
    "    def __init__(self, val=0, next=None):\n",
    "        self.val = val\n",
    "        self.next = next\n",
    "class Solution:\n",
    "    def addTwoNumbers(self, l1: Optional[ListNode], l2: Optional[ListNode]) -> Optional[ListNode]:\n",
    "        dummy = ListNode()\n",
    "        cur = dummy\n",
    "        carry = 0 \n",
    "        while l1 or l2 or carry:\n",
    "            val1 = l1.val if l1 else 0 \n",
    "            val2 = l2.val if l2 else 0 \n",
    "\n",
    "            cur_sum = val1 + val2 + carry\n",
    "            carry = cur_sum // 10 \n",
    "            n = cur_sum % 10 \n",
    "            cur.next = ListNode(n)\n",
    "\n",
    "            l1 = l1.next if l1 else None \n",
    "            l2 = l2.next if l2 else None\n",
    "            cur = cur.next\n",
    "        return dummy.next \n",
    "    \n",
    "def print_list(head):\n",
    "    cur = head \n",
    "    while cur:\n",
    "        print(cur.val)\n",
    "        cur = cur.next\n",
    "\n",
    "solution = Solution()\n",
    "res = solution.addTwoNumbers(ListNode(2, ListNode(4, ListNode(3))), ListNode(5, ListNode(6, ListNode(4))))\n",
    "print_list(res)\n",
    "\n"
   ]
  },
  {
   "cell_type": "code",
   "execution_count": 67,
   "id": "6a6543a2",
   "metadata": {},
   "outputs": [
    {
     "name": "stdout",
     "output_type": "stream",
     "text": [
      "3\n",
      "4\n",
      "5\n"
     ]
    }
   ],
   "source": [
    "''' \n",
    "Input: head = [1,2,3,4,5]\n",
    "Output: [3,4,5]\n",
    "Explanation: The middle node of the list is node 3.\n",
    "'''\n",
    "\n",
    "class ListNode:\n",
    "    def __init__(self, val=0, next=None):\n",
    "        self.val = val\n",
    "        self.next = next\n",
    "class Solution:\n",
    "    def middleNode(self, head: Optional[ListNode]) -> Optional[ListNode]:\n",
    "        slow = head \n",
    "        fast = head \n",
    "\n",
    "        while fast and fast.next:\n",
    "            slow = slow.next \n",
    "            fast = fast.next.next \n",
    "        return slow\n",
    "\n",
    "solution = Solution()\n",
    "res = solution.middleNode(ListNode(1, ListNode(2, ListNode(3, ListNode(4, ListNode(5))))))\n",
    "print_list(res)"
   ]
  },
  {
   "cell_type": "code",
   "execution_count": 70,
   "id": "e7d8ca0e",
   "metadata": {},
   "outputs": [
    {
     "name": "stdout",
     "output_type": "stream",
     "text": [
      "2\n"
     ]
    }
   ],
   "source": [
    "''' \n",
    "Input: head = [3,2,0,-4], pos = 1\n",
    "Output: tail connects to node index 1\n",
    "Explanation: There is a cycle in the linked list, where tail connects to the second node.\n",
    "'''\n",
    "\n",
    "class ListNode:\n",
    "    def __init__(self, x, next = None):\n",
    "        self.val = x\n",
    "        self.next = next\n",
    "\n",
    "class Solution:\n",
    "    def detectCycle(self, head: Optional[ListNode]) -> Optional[ListNode]:\n",
    "        slow = fast = head \n",
    "\n",
    "        while fast and fast.next:\n",
    "            slow = slow.next \n",
    "            fast = fast.next.next \n",
    "\n",
    "            if slow == fast:\n",
    "                break \n",
    "        else:\n",
    "            return None \n",
    "        slow = head\n",
    "        while fast != slow:\n",
    "            slow = slow.next \n",
    "            fast = fast.next\n",
    "            \n",
    "        return slow \n",
    "    \n",
    "solution = Solution()\n",
    "# Define nodes\n",
    "node4 = ListNode(-4)\n",
    "node3 = ListNode(0, node4)\n",
    "node2 = ListNode(2, node3)\n",
    "node1 = ListNode(3, node2)\n",
    "\n",
    "# Create the cycle: last node points back to node2\n",
    "node4.next = node2\n",
    "\n",
    "# Now test\n",
    "solution = Solution()\n",
    "cycle_start = solution.detectCycle(node1)\n",
    "print(cycle_start.val if cycle_start else None)"
   ]
  },
  {
   "cell_type": "code",
   "execution_count": 71,
   "id": "d0af61da",
   "metadata": {},
   "outputs": [
    {
     "name": "stdout",
     "output_type": "stream",
     "text": [
      "5\n",
      "4\n",
      "3\n",
      "2\n",
      "1\n"
     ]
    }
   ],
   "source": [
    "''' \n",
    "Input: head = [1,2,3,4,5]\n",
    "Output: [5,4,3,2,1]\n",
    "'''\n",
    "\n",
    "class ListNode:\n",
    "    def __init__(self, val=0, next=None):\n",
    "        self.val = val\n",
    "        self.next = next\n",
    "class Solution:\n",
    "    def reverseList(self, head: Optional[ListNode]) -> Optional[ListNode]:\n",
    "        prev = None \n",
    "        cur = head \n",
    "        while cur:\n",
    "            temp = cur.next \n",
    "            cur.next = prev \n",
    "            prev = cur\n",
    "            cur = temp \n",
    "        return prev \n",
    "\n",
    "solution = Solution()\n",
    "solution = Solution()\n",
    "res = solution.reverseList(ListNode(1, ListNode(2, ListNode(3, ListNode(4, ListNode(5))))))\n",
    "print_list(res)"
   ]
  },
  {
   "cell_type": "code",
   "execution_count": 75,
   "id": "d04cd24f",
   "metadata": {},
   "outputs": [
    {
     "name": "stdout",
     "output_type": "stream",
     "text": [
      "2\n",
      "1\n",
      "4\n",
      "3\n",
      "5\n"
     ]
    }
   ],
   "source": [
    "''' \n",
    "Input: head = [1,2,3,4,5], k = 2\n",
    "Output: [2,1,4,3,5]\n",
    "'''\n",
    "\n",
    "class ListNode:\n",
    "    def __init__(self, val=0, next=None):\n",
    "        self.val = val\n",
    "        self.next = next\n",
    "class Solution:\n",
    "    def reverseKGroup(self, head, k):\n",
    "        def get_kth_node(cur:ListNode, k):\n",
    "            while cur and k > 0:\n",
    "                cur = cur.next \n",
    "                k = k - 1 \n",
    "            return cur \n",
    "        \n",
    "        dummy = ListNode(0, head)\n",
    "        grp_prev = dummy \n",
    "        \n",
    "        while True:\n",
    "            kth = get_kth_node(grp_prev, k)\n",
    "            if kth is None:\n",
    "                break\n",
    "            \n",
    "            grp_next = kth.next \n",
    "            cur = grp_prev.next\n",
    "            prev = grp_next\n",
    "\n",
    "\n",
    "\n",
    "            while cur != grp_next:\n",
    "                temp = cur.next \n",
    "                cur.next = prev \n",
    "                prev = cur \n",
    "                cur = temp \n",
    "            \n",
    "            temp = grp_prev.next \n",
    "            grp_prev.next = kth \n",
    "            grp_prev = temp\n",
    "        return dummy.next \n",
    "\n",
    "solution = Solution()\n",
    "res = solution.reverseKGroup(ListNode(1, ListNode(2, ListNode(3, ListNode(4, ListNode(5))))), 2)\n",
    "print_list(res)\n",
    "                 \n",
    "            "
   ]
  },
  {
   "cell_type": "code",
   "execution_count": 80,
   "id": "a29cca84",
   "metadata": {},
   "outputs": [
    {
     "data": {
      "text/plain": [
       "[1, 2, 3]"
      ]
     },
     "execution_count": 80,
     "metadata": {},
     "output_type": "execute_result"
    }
   ],
   "source": [
    "''' \n",
    "Input: matrix = [[1,2,3],[4,5,6],[7,8,9]]\n",
    "Output: [1,2,3,6,9,8,7,4,5]\n",
    "'''\n",
    "from typing import List\n",
    "\n",
    "class Solution:\n",
    "    def spiralOrder(self, matrix: List[List[int]]) -> List[int]:\n",
    "        top, bottom = 0, len(matrix)\n",
    "        left, right = 0, len(matrix[0])\n",
    "        res = []\n",
    "        while top < bottom and left < right:\n",
    "\n",
    "            for i in range(left, right):\n",
    "                res.append(matrix[top][i])\n",
    "            top += 1\n",
    "\n",
    "            for i in range(top, bottom):\n",
    "                res.append(matrix[i][right - 1])\n",
    "            right -= 1 \n",
    "\n",
    "            if not(top < bottom and left < right):\n",
    "                break\n",
    "\n",
    "            for i in range(right -1 , left - 1, -1):\n",
    "                res.append(matrix[bottom - 1][i])\n",
    "            bottom -= 1 \n",
    "\n",
    "            for i in range(bottom - 1, top - 1, -1):\n",
    "                res.append(matrix[i][left])\n",
    "            left += 1\n",
    "        return res \n",
    "\n",
    "solution = Solution()\n",
    "solution.spiralOrder([[1,2,3]])"
   ]
  },
  {
   "cell_type": "code",
   "execution_count": 87,
   "id": "4b7548c7",
   "metadata": {},
   "outputs": [
    {
     "data": {
      "text/plain": [
       "[[7, 4, 1], [8, 5, 2], [9, 6, 3]]"
      ]
     },
     "execution_count": 87,
     "metadata": {},
     "output_type": "execute_result"
    }
   ],
   "source": [
    "''' \n",
    "Input: matrix = [[1,2,3],[4,5,6],[7,8,9]]\n",
    "Output: [[7,4,1],[8,5,2],[9,6,3]]\n",
    "'''\n",
    "\n",
    "class Solution:\n",
    "    def rotate(self, matrix: List[List[int]]) -> None:\n",
    "        left, right = 0, len(matrix) - 1\n",
    "\n",
    "        while left < right:\n",
    "            for i in range(right - left):\n",
    "                top, bottom = left, right \n",
    "\n",
    "                temp = matrix[top][left + i]\n",
    "\n",
    "                matrix[top][left + i] = matrix[bottom - i][left]\n",
    "\n",
    "                matrix[bottom - i][left] = matrix[bottom][right - i]\n",
    "\n",
    "                matrix[bottom][right - i] = matrix[top + i][right]\n",
    "\n",
    "                matrix[top + i][right] = temp \n",
    "        \n",
    "            left += 1 \n",
    "            right -= 1\n",
    "        return matrix\n",
    "solution = Solution()\n",
    "solution.rotate([[1,2,3],[4,5,6],[7,8,9]])"
   ]
  },
  {
   "cell_type": "code",
   "execution_count": 91,
   "id": "5645de69",
   "metadata": {},
   "outputs": [
    {
     "data": {
      "text/plain": [
       "[[1, 0, 1], [0, 0, 0], [1, 0, 1]]"
      ]
     },
     "execution_count": 91,
     "metadata": {},
     "output_type": "execute_result"
    }
   ],
   "source": [
    "''' \n",
    "Input: matrix = [[1,1,1],[1,0,1],[1,1,1]]\n",
    "Output: [[1,0,1],[0,0,0],[1,0,1]]\n",
    "'''\n",
    "\n",
    "class Solution:\n",
    "    def setZeroes(self, matrix: List[List[int]]) -> None:\n",
    "        rows, cols = len(matrix), len(matrix[0])\n",
    "        first_row, first_col = False, False\n",
    "\n",
    "        for i in range(rows):\n",
    "            for j in range(cols):\n",
    "                if matrix[i][j] == 0:\n",
    "                    if i == 0:\n",
    "                        first_row = True \n",
    "                    \n",
    "                    if j == 0:\n",
    "                        first_col = True \n",
    "                    \n",
    "                    matrix[i][0] = 0\n",
    "                    matrix[0][j] = 0\n",
    "\n",
    "        for i in range(1, rows):\n",
    "            for j in range(1, cols):\n",
    "                if matrix[i][0] == 0 or matrix[0][j] == 0:\n",
    "                    matrix[i][j] = 0 \n",
    "        \n",
    "        if first_row:\n",
    "            for j in range(cols):\n",
    "                matrix[0][j] = 0 \n",
    "        \n",
    "        if first_col:\n",
    "            for i in range(rows):\n",
    "                matrix[i][0] = 0 \n",
    "\n",
    "        return matrix\n",
    "    \n",
    "solution = Solution()\n",
    "solution.setZeroes([[1,1,1],[1,0,1],[1,1,1]])"
   ]
  },
  {
   "cell_type": "code",
   "execution_count": 95,
   "id": "b04107d8",
   "metadata": {},
   "outputs": [
    {
     "data": {
      "text/plain": [
       "6"
      ]
     },
     "execution_count": 95,
     "metadata": {},
     "output_type": "execute_result"
    }
   ],
   "source": [
    "''' \n",
    "Input: nums = [-2,1,-3,4,-1,2,1,-5,4]\n",
    "Output: 6\n",
    "Explanation: The subarray [4,-1,2,1] has the largest sum 6.\n",
    "'''\n",
    "from typing import List\n",
    "\n",
    "class Solution:\n",
    "    def maxSubArray(self, nums: List[int]) -> int:\n",
    "        max_sum = float('-inf')\n",
    "        curr_sum = float('-inf')\n",
    "        for num in nums:\n",
    "            curr_sum = max(num, curr_sum + num)\n",
    "            max_sum = max(max_sum, curr_sum)\n",
    "        return max_sum \n",
    "    \n",
    "solution = Solution()\n",
    "solution.maxSubArray([-2,1,-3,4,-1,2,1,-5,4])"
   ]
  },
  {
   "cell_type": "code",
   "execution_count": 97,
   "id": "8b8c1737",
   "metadata": {},
   "outputs": [
    {
     "data": {
      "text/plain": [
       "6"
      ]
     },
     "execution_count": 97,
     "metadata": {},
     "output_type": "execute_result"
    }
   ],
   "source": [
    "''' \n",
    "Input: nums = [2,3,-2,4]\n",
    "Output: 6\n",
    "Explanation: [2,3] has the largest product 6.\n",
    "'''\n",
    "\n",
    "class Solution:\n",
    "    def maxProduct(self, nums):\n",
    "        max_prod = float('-inf')\n",
    "        left_prod, right_prod = 1, 1\n",
    "        for i in range(len(nums)):\n",
    "            left_prod = left_prod if left_prod != 0 else 1 \n",
    "            right_prod = right_prod if right_prod != 0 else 1 \n",
    "\n",
    "            left_prod = left_prod * nums[i]\n",
    "            right_prod = right_prod * nums[len(nums) - i - 1]\n",
    "\n",
    "            max_prod = max(max_prod, max(left_prod, right_prod))\n",
    "\n",
    "        return max_prod \n",
    "        \n",
    "solution = Solution()\n",
    "solution.maxProduct([2,3,-2,4])"
   ]
  },
  {
   "cell_type": "code",
   "execution_count": 103,
   "id": "b55348e5",
   "metadata": {},
   "outputs": [
    {
     "data": {
      "text/plain": [
       "[0, 6]"
      ]
     },
     "execution_count": 103,
     "metadata": {},
     "output_type": "execute_result"
    }
   ],
   "source": [
    "''' \n",
    "Input: s = \"cbaebabacd\", p = \"abc\"\n",
    "Output: [0,6]\n",
    "Explanation:\n",
    "The substring with start index = 0 is \"cba\", which is an anagram of \"abc\".\n",
    "The substring with start index = 6 is \"bac\", which is an anagram of \"abc\".\n",
    "'''\n",
    "from typing import List \n",
    "class Solution:\n",
    "    def findAnagrams(self, s: str, p: str) -> List[int]:\n",
    "        if len(p) > len(s):\n",
    "            return []\n",
    "        \n",
    "        s_map = {}\n",
    "        p_map = {}\n",
    "\n",
    "        for i in range(len(p)):\n",
    "            s_map[s[i]] = s_map.get(s[i], 0) + 1 \n",
    "            p_map[p[i]] = p_map.get(p[i], 0) + 1\n",
    "\n",
    "        res = [0] if s_map == p_map else 0 \n",
    "        l = 0 \n",
    "        for r in range(len(p), len(s)):\n",
    "            s_map[s[r]] = s_map.get(s[r], 0) + 1 \n",
    "            s_map[s[l]] = s_map.get(s[l]) - 1\n",
    "            if s_map[s[l]] == 0:\n",
    "                del s_map[s[l]]\n",
    "            l += 1\n",
    "            if s_map == p_map:\n",
    "                res.append(l)\n",
    "        return res \n",
    "    \n",
    "solution = Solution()\n",
    "solution.findAnagrams(s = \"cbaebabacd\", p = \"abc\")"
   ]
  },
  {
   "cell_type": "code",
   "execution_count": 105,
   "id": "63c6bc0b",
   "metadata": {},
   "outputs": [
    {
     "data": {
      "text/plain": [
       "True"
      ]
     },
     "execution_count": 105,
     "metadata": {},
     "output_type": "execute_result"
    }
   ],
   "source": [
    "''' \n",
    "Input: s1 = \"ab\", s2 = \"eidbaooo\"\n",
    "Output: true\n",
    "Explanation: s2 contains one permutation of s1 (\"ba\").\n",
    "'''\n",
    "\n",
    "class Solution:\n",
    "    def checkInclusion(self, p: str, s: str) -> bool:\n",
    "        if len(p) > len(s):\n",
    "            return []\n",
    "        \n",
    "        s_map = {}\n",
    "        p_map = {}\n",
    "\n",
    "        for i in range(len(p)):\n",
    "            s_map[s[i]] = s_map.get(s[i], 0) + 1 \n",
    "            p_map[p[i]] = p_map.get(p[i], 0) + 1\n",
    "\n",
    "        if s_map == p_map:\n",
    "            return True\n",
    "        l = 0 \n",
    "        for r in range(len(p), len(s)):\n",
    "            s_map[s[r]] = s_map.get(s[r], 0) + 1 \n",
    "            s_map[s[l]] = s_map.get(s[l]) - 1\n",
    "            if s_map[s[l]] == 0:\n",
    "                del s_map[s[l]]\n",
    "            l += 1\n",
    "            if s_map == p_map:\n",
    "                return True\n",
    "        return False\n",
    "    \n",
    "solution = Solution()\n",
    "solution.checkInclusion(\"ab\", \"eidbaooo\")"
   ]
  },
  {
   "cell_type": "code",
   "execution_count": null,
   "id": "eab127a6",
   "metadata": {},
   "outputs": [
    {
     "data": {
      "text/plain": [
       "3"
      ]
     },
     "execution_count": 111,
     "metadata": {},
     "output_type": "execute_result"
    }
   ],
   "source": [
    "''' \n",
    "Input: s = \"abcabcbb\"\n",
    "Output: 3\n",
    "Explanation: The answer is \"abc\", with the length of 3.\n",
    "'''\n",
    "\n",
    "class Solution:\n",
    "    def lengthOfLongestSubstring(self, s: str) -> int:\n",
    "        left = 0 \n",
    "        max_val = 0\n",
    "        s_map = {}\n",
    "        for r in range(len(s)):\n",
    "            while s[r] in s_map:\n",
    "                s_map.pop(s[left])\n",
    "                left += 1\n",
    "\n",
    "            s_map[s[r]] =  1\n",
    "            max_val = max(max_val, r - left + 1)\n",
    "        return max_val\n",
    "    \n",
    "solution = Solution()\n",
    "solution.lengthOfLongestSubstring(\"abcabcbb\")\n"
   ]
  },
  {
   "cell_type": "code",
   "execution_count": null,
   "id": "497efa9e",
   "metadata": {},
   "outputs": [],
   "source": [
    "''' \n",
    "Input: s = \"ADOBECODEBANC\", t = \"ABC\"\n",
    "Output: \"BANC\"\n",
    "Explanation: The minimum window substring \"BANC\" includes 'A', 'B', and 'C' from string t.\n",
    "'''\n",
    "from collections import Counter\n",
    "\n",
    "class Solution:\n",
    "    def minWindow(self, s: str, t: str) -> str:\n",
    "        if len(t) > len(s):\n",
    "            return \"\"\n",
    "        \n",
    "        t_freq = Counter(t)\n",
    "        windows_freq = {}\n",
    "\n",
    "        required_chars = len(t)\n",
    "        match_count = 0\n",
    "\n",
    "        min_len = float('inf')\n",
    "        min_window = \"\"\n",
    "\n",
    "        left = 0 \n",
    "\n",
    "        for right in range(len(s)):\n",
    "            "
   ]
  },
  {
   "cell_type": "code",
   "execution_count": 114,
   "id": "46f75f3f",
   "metadata": {},
   "outputs": [
    {
     "data": {
      "text/plain": [
       "[1, 2, 2, 3, 5, 6]"
      ]
     },
     "execution_count": 114,
     "metadata": {},
     "output_type": "execute_result"
    }
   ],
   "source": [
    "'''\n",
    "Input: nums1 = [1,2,3,0,0,0], m = 3, nums2 = [2,5,6], n = 3\n",
    "Output: [1,2,2,3,5,6]\n",
    "Explanation: The arrays we are merging are [1,2,3] and [2,5,6].\n",
    "The result of the merge is [1,2,2,3,5,6] with the underlined elements coming from nums1.\n",
    "'''\n",
    "\n",
    "from typing import List\n",
    "\n",
    "class Solution:\n",
    "    def merge(self, nums1: List[int], m: int, nums2: List[int], n: int) -> None:\n",
    "        r = m + n - 1 \n",
    "        while m > 0 and n > 0:\n",
    "            if nums1[m - 1] > nums2[n - 1]:\n",
    "                nums1[r] =  nums1[m - 1]\n",
    "                m -= 1\n",
    "            else:\n",
    "                nums1[r] = nums2[n - 1]\n",
    "                n -= 1 \n",
    "            r -= 1\n",
    "        while n > 0:\n",
    "            nums1[r] = nums2[n - 1]\n",
    "            n, r = n - 1, r - 1\n",
    "        return nums1\n",
    "solution = Solution()\n",
    "solution.merge(nums1 = [1,2,3,0,0,0], m = 3, nums2 = [2,5,6], n = 3)"
   ]
  },
  {
   "cell_type": "code",
   "execution_count": 118,
   "metadata": {},
   "outputs": [
    {
     "data": {
      "text/plain": [
       "[1, 2]"
      ]
     },
     "execution_count": 118,
     "metadata": {},
     "output_type": "execute_result"
    }
   ],
   "source": [
    "''' \n",
    "Input: numbers = [2,7,11,15], target = 9\n",
    "Output: [1,2]\n",
    "Explanation: The sum of 2 and 7 is 9. Therefore, index1 = 1, index2 = 2. We return [1, 2].\n",
    "'''\n",
    "\n",
    "class Solution:\n",
    "    def twoSum(self, numbers: List[int], target: int) -> List[int]:\n",
    "        l = 0 \n",
    "        r = len(numbers) - 1\n",
    "        while l < r:\n",
    "            two_sum = numbers[l] + numbers[r]\n",
    "            if two_sum == target:\n",
    "                return [l + 1, r + 1]\n",
    "            elif two_sum > target:\n",
    "                r -= 1\n",
    "            else:\n",
    "                l -= 1\n",
    "        return [-1, -1]\n",
    "\n",
    "solution = Solution()\n",
    "solution.twoSum(numbers = [2,7,11,15], target = 9)"
   ]
  },
  {
   "cell_type": "code",
   "execution_count": 120,
   "id": "f2693c6e",
   "metadata": {},
   "outputs": [
    {
     "data": {
      "text/plain": [
       "49"
      ]
     },
     "execution_count": 120,
     "metadata": {},
     "output_type": "execute_result"
    }
   ],
   "source": [
    "''' \n",
    "Input: height = [1,8,6,2,5,4,8,3,7]\n",
    "Output: 49\n",
    "Explanation: The above vertical lines are represented by array [1,8,6,2,5,4,8,3,7]. In this case, the max area of water (blue section) the container can contain is 49.\n",
    "'''\n",
    "\n",
    "class Solution:\n",
    "    def maxArea(self, height: List[int]) -> int:\n",
    "        l = 0 \n",
    "        r = len(height) - 1\n",
    "        max_area = float('-inf')\n",
    "        while l < r:\n",
    "            curr_area = min(height[l], height[r]) * (r - l)\n",
    "            max_area = max(curr_area, max_area)\n",
    "            if height[l] < height[r]:\n",
    "                l += 1\n",
    "            else:\n",
    "                r -= 1\n",
    "        return max_area \n",
    "    \n",
    "solution = Solution()\n",
    "solution.maxArea(height = [1,8,6,2,5,4,8,3,7])"
   ]
  },
  {
   "cell_type": "code",
   "execution_count": 128,
   "id": "fbfa58f6",
   "metadata": {},
   "outputs": [
    {
     "data": {
      "text/plain": [
       "[[-1, -1, 2], [-1, 0, 1]]"
      ]
     },
     "execution_count": 128,
     "metadata": {},
     "output_type": "execute_result"
    }
   ],
   "source": [
    "''' \n",
    "Input: nums = [-1,0,1,2,-1,-4]\n",
    "Output: [[-1,-1,2],[-1,0,1]]\n",
    "Explanation: \n",
    "nums[0] + nums[1] + nums[2] = (-1) + 0 + 1 = 0.\n",
    "nums[1] + nums[2] + nums[4] = 0 + 1 + (-1) = 0.\n",
    "nums[0] + nums[3] + nums[4] = (-1) + 2 + (-1) = 0.\n",
    "The distinct triplets are [-1,0,1] and [-1,-1,2].\n",
    "Notice that the order of the output and the order of the triplets does not matter.\n",
    "'''\n",
    "\n",
    "class Solution:\n",
    "    def threeSum(self, nums: List[int]) -> List[List[int]]:\n",
    "        res = []\n",
    "        nums.sort()\n",
    "        for start in range(len(nums)):\n",
    "            if start > 0 and nums[start] == nums[start - 1]:\n",
    "                continue \n",
    "            left = start + 1\n",
    "            right = len(nums) - 1\n",
    "            while left < right:\n",
    "                curr_sum = nums[start] + nums[left] + nums[right]\n",
    "                if curr_sum == 0:\n",
    "                    res.append([nums[start], nums[left], nums[right]])\n",
    "                    left += 1\n",
    "                    right -= 1\n",
    "                    # Skip duplicate values for left pointer.\n",
    "                    while left < right and nums[left] == nums[left - 1]:\n",
    "                        left += 1\n",
    "                    # Skip duplicate values for right pointer.\n",
    "                    while left < right and nums[right] == nums[right + 1]:\n",
    "                        right -= 1\n",
    "                elif curr_sum > 0:\n",
    "                    right -= 1 \n",
    "                else:\n",
    "                    left += 1 \n",
    "        return res \n",
    "    \n",
    "solution = Solution()\n",
    "solution.threeSum(nums = [-1,0,1,2,-1,-4])"
   ]
  },
  {
   "cell_type": "code",
   "execution_count": 130,
   "id": "c79bc26e",
   "metadata": {},
   "outputs": [
    {
     "data": {
      "text/plain": [
       "6"
      ]
     },
     "execution_count": 130,
     "metadata": {},
     "output_type": "execute_result"
    }
   ],
   "source": [
    "''' \n",
    "Input: height = [0,1,0,2,1,0,1,3,2,1,2,1]\n",
    "Output: 6\n",
    "'''\n",
    "\n",
    "class Solution:\n",
    "    def trap(self, height: List[int]) -> int:\n",
    "        left_max, right_max = 0, 0\n",
    "        left, right = 0, len(height) - 1\n",
    "        res = 0\n",
    "        while left < right:\n",
    "            if height[left] < height[right]:\n",
    "                if left_max < height[left]:\n",
    "                    left_max = height[left]\n",
    "                else:\n",
    "                    res += left_max - height[left]\n",
    "                left += 1 \n",
    "            else:\n",
    "                if right_max < height[right]:\n",
    "                    right_max = height[right]\n",
    "                else:\n",
    "                    res += right_max - height[right]\n",
    "                right -= 1\n",
    "        return res \n",
    "    \n",
    "solution = Solution()\n",
    "solution.trap([0,1,0,2,1,0,1,3,2,1,2,1])"
   ]
  },
  {
   "cell_type": "code",
   "execution_count": 139,
   "id": "9e9d3721",
   "metadata": {},
   "outputs": [
    {
     "data": {
      "text/plain": [
       "1"
      ]
     },
     "execution_count": 139,
     "metadata": {},
     "output_type": "execute_result"
    }
   ],
   "source": [
    "''' \n",
    "303. Range Sum Query - Immutable\n",
    "\n",
    "[[[-2, 0, 3, -5, 2, -1]], [0, 2], [2, 5], [0, 5]]\n",
    "'''\n",
    "from typing import List \n",
    "\n",
    "class NumArray:\n",
    "\n",
    "    def __init__(self, nums: List[int]):\n",
    "        self.prefix_sum = []\n",
    "        res = 0\n",
    "        for num in nums:\n",
    "            res += num \n",
    "            self.prefix_sum.append(res)\n",
    "          \n",
    "    \n",
    "    def sumRange(self, left: int, right: int) -> int:\n",
    "        left_prefix = self.prefix_sum[left - 1] if left > 0 else 0 \n",
    "        right_prefix = self.prefix_sum[right] \n",
    "        return right_prefix - left_prefix \n",
    "    \n",
    "\n",
    "solution = NumArray([-2, 0, 3, -5, 2, -1])\n",
    "solution.sumRange(0, 2)"
   ]
  },
  {
   "cell_type": "code",
   "execution_count": 141,
   "id": "1648ae54",
   "metadata": {},
   "outputs": [
    {
     "data": {
      "text/plain": [
       "2"
      ]
     },
     "execution_count": 141,
     "metadata": {},
     "output_type": "execute_result"
    }
   ],
   "source": [
    "''' \n",
    "Input: nums = [1,1,1], k = 2\n",
    "Output: 2\n",
    "'''\n",
    "\n",
    "class Solution:\n",
    "    def subarraySum(self, nums: List[int], k: int) -> int:\n",
    "        prefix_sum_map = {0 : 1}\n",
    "        prefix_sum = 0 \n",
    "        res = 0\n",
    "        for num in nums:\n",
    "            prefix_sum += num \n",
    "            if prefix_sum - k in prefix_sum_map:\n",
    "                res += prefix_sum_map[prefix_sum - k]\n",
    "            prefix_sum_map[prefix_sum] = prefix_sum_map.get(prefix_sum, 0) + 1  \n",
    "        return res \n",
    "    \n",
    "solution = Solution()\n",
    "solution.subarraySum([1, 1, 1], 2)"
   ]
  },
  {
   "cell_type": "code",
   "execution_count": 147,
   "id": "37d78d2c",
   "metadata": {},
   "outputs": [
    {
     "data": {
      "text/plain": [
       "True"
      ]
     },
     "execution_count": 147,
     "metadata": {},
     "output_type": "execute_result"
    }
   ],
   "source": [
    "''' \n",
    "Input: nums = [23,2,4,6,7], k = 6\n",
    "Output: true\n",
    "Explanation: [2, 4] is a continuous subarray of size 2 whose elements sum up to 6.\n",
    "'''\n",
    "\n",
    "class Solution:\n",
    "    def checkSubarraySum(self, nums: List[int], k: int) -> bool:\n",
    "        remainder_map = {0 : -1}\n",
    "        prefix_sum = 0 \n",
    "        for i, num in enumerate(nums):\n",
    "            prefix_sum += num \n",
    "            rem = prefix_sum % k \n",
    "            if rem not in remainder_map:\n",
    "                remainder_map[rem] = i\n",
    "            elif i - remainder_map[rem] >= 2:\n",
    "                return True \n",
    "        return False \n",
    "    \n",
    "solution = Solution()\n",
    "solution.checkSubarraySum(nums = [23,2,4,6,7], k = 6)\n"
   ]
  },
  {
   "cell_type": "code",
   "execution_count": 150,
   "id": "edfda89d",
   "metadata": {},
   "outputs": [
    {
     "data": {
      "text/plain": [
       "2"
      ]
     },
     "execution_count": 150,
     "metadata": {},
     "output_type": "execute_result"
    }
   ],
   "source": [
    "''' \n",
    "Input: nums = [0,1]\n",
    "Output: 2\n",
    "Explanation: [0, 1] is the longest contiguous subarray with an equal number of 0 and 1.\n",
    "'''\n",
    "\n",
    "class Solution:\n",
    "    def findMaxLength(self, nums: List[int]) -> int:\n",
    "        max_len = 0 \n",
    "        prefix_map = {0 : -1}\n",
    "        prefix_sum = 0\n",
    "        for i, num in enumerate(nums):\n",
    "            prefix_sum += 1 if num == 1 else -1 \n",
    "            if prefix_sum in prefix_map:\n",
    "                len = i - prefix_map[prefix_sum]\n",
    "                max_len = max(max_len, len)\n",
    "            else:\n",
    "                prefix_map[prefix_sum] = i \n",
    "        return max_len\n",
    "\n",
    "solution = Solution()\n",
    "solution.findMaxLength([0, 1])"
   ]
  },
  {
   "cell_type": "code",
   "execution_count": 166,
   "id": "e00388e9",
   "metadata": {},
   "outputs": [
    {
     "data": {
      "text/plain": [
       "'Dharani'"
      ]
     },
     "execution_count": 166,
     "metadata": {},
     "output_type": "execute_result"
    }
   ],
   "source": [
    "''' \n",
    "Input\n",
    "[\"MyHashMap\", \"put\", \"put\", \"get\", \"get\", \"put\", \"get\", \"remove\", \"get\"]\n",
    "[[], [1, 1], [2, 2], [1], [3], [2, 1], [2], [2], [2]]\n",
    "Output\n",
    "[null, null, null, 1, -1, null, 1, null, -1]\n",
    "\n",
    "'''\n",
    "\n",
    "class ListNode:\n",
    "    def __init__(self, key = -1, value = -1, next = None):\n",
    "        self.key = key\n",
    "        self.value = value \n",
    "        self.next = next \n",
    "\n",
    "class MyHashMap(object):\n",
    "\n",
    "    def __init__(self):\n",
    "        self.hash_map = [ListNode() for _ in range(1000)]\n",
    "\n",
    "    def hash(self, key):\n",
    "        return key % len(self.hash_map)\n",
    "\n",
    "    def put(self, key, value):\n",
    "        cur = self.hash_map[self.hash(key)]\n",
    "        while cur.next:\n",
    "            if cur.next.key == key:\n",
    "                cur.next.value = value \n",
    "                return\n",
    "            cur = cur.next \n",
    "        cur.next = ListNode(key, value)\n",
    "\n",
    "    def get(self, key):\n",
    "        cur = self.hash_map[self.hash(key)].next\n",
    "        while cur:\n",
    "            if cur.key == key:\n",
    "                return cur.value\n",
    "            cur = cur.next\n",
    "        return -1 \n",
    "    \n",
    "    def remove(self, key):\n",
    "        cur = self.hash_map[self.hash(key)]\n",
    "        while cur and cur.next:\n",
    "            if cur.next.key == key:\n",
    "                cur.next = cur.next.next\n",
    "                return \n",
    "            cur = cur.next\n",
    "\n",
    "solution = MyHashMap()\n",
    "solution.put(1, 'Dharani')\n",
    "solution.put(2, 25)\n",
    "solution.remove(2)\n",
    "solution.get(1)\n"
   ]
  },
  {
   "cell_type": "code",
   "execution_count": 169,
   "id": "e342de7a",
   "metadata": {},
   "outputs": [
    {
     "data": {
      "text/plain": [
       "2"
      ]
     },
     "execution_count": 169,
     "metadata": {},
     "output_type": "execute_result"
    }
   ],
   "source": [
    "''' \n",
    "Input: text = \"loonbalxballpoon\"\n",
    "Output: 2\n",
    "'''\n",
    "\n",
    "from collections import Counter\n",
    "class Solution:\n",
    "    def maxNumberOfBalloons(self, text: str) -> int:\n",
    "        balloon_counter = Counter('balloon')\n",
    "        text_counter = Counter(text)\n",
    "        max_res = len(text)\n",
    "        for c in 'balloon':\n",
    "            max_res = min(max_res, text_counter[c] // balloon_counter[c])\n",
    "        return max_res \n",
    "    \n",
    "solution = Solution()\n",
    "solution.maxNumberOfBalloons(\"loonbalxballpoon\")"
   ]
  },
  {
   "cell_type": "code",
   "execution_count": 170,
   "id": "cf8990e6",
   "metadata": {},
   "outputs": [
    {
     "data": {
      "text/plain": [
       "4"
      ]
     },
     "execution_count": 170,
     "metadata": {},
     "output_type": "execute_result"
    }
   ],
   "source": [
    "''' \n",
    "Input: nums = [1,2,3,1,1,3]\n",
    "Output: 4\n",
    "Explanation: There are 4 good pairs (0,3), (0,4), (3,4), (2,5) 0-indexed.\n",
    "\n",
    "A pair (i, j) is called good if nums[i] == nums[j] and i < j.\n",
    "'''\n",
    "from typing import List \n",
    "\n",
    "class Solution:\n",
    "    def numIdenticalPairs(self, nums: List[int]) -> int:\n",
    "        res = 0 \n",
    "        hash_map = {}\n",
    "        for num in nums:\n",
    "            if num in hash_map:\n",
    "                res += hash_map[num]\n",
    "                hash_map[num] += 1\n",
    "            else:\n",
    "                hash_map[num] = 1\n",
    "        return res \n",
    "    \n",
    "solution = Solution()\n",
    "solution.numIdenticalPairs([1,2,3,1,1,3])"
   ]
  },
  {
   "cell_type": "code",
   "execution_count": 178,
   "id": "a54f2bcc",
   "metadata": {},
   "outputs": [
    {
     "data": {
      "text/plain": [
       "True"
      ]
     },
     "execution_count": 178,
     "metadata": {},
     "output_type": "execute_result"
    }
   ],
   "source": [
    "''' \n",
    "Input: s = \"egg\", t = \"add\"\n",
    "\n",
    "Output: true\n",
    "\n",
    "Two strings s and t are isomorphic if the characters in s can be replaced to get t.\n",
    "'''\n",
    "\n",
    "class Solution:\n",
    "    def isIsomorphic(self, s: str, t: str) -> bool:\n",
    "        s_t_map = {} \n",
    "        t_s_map = {}\n",
    "        for s_char, t_char in zip(s, t):\n",
    "            if t_char in s_t_map and s_char != s_t_map[t_char]:\n",
    "                return False \n",
    "            else:\n",
    "                s_t_map[t_char] = s_char\n",
    "\n",
    "\n",
    "            if s_char in t_s_map and t_char != t_s_map[s_char]:\n",
    "                return False \n",
    "            else:\n",
    "                t_s_map[s_char] = t_char\n",
    "        return True\n",
    "            \n",
    "solution = Solution()\n",
    "solution.isIsomorphic(s = \"egg\", t = \"add\")"
   ]
  },
  {
   "cell_type": "code",
   "execution_count": 182,
   "id": "440254bf",
   "metadata": {},
   "outputs": [
    {
     "data": {
      "text/plain": [
       "True"
      ]
     },
     "execution_count": 182,
     "metadata": {},
     "output_type": "execute_result"
    }
   ],
   "source": [
    "''' \n",
    "Input: ransomNote = \"aa\", magazine = \"aab\"\n",
    "Output: true\n",
    "\n",
    "Given two strings ransomNote and magazine, return true if ransomNote can be constructed by using the letters from magazine and false otherwise.\n",
    "\n",
    "Each letter in magazine can only be used once in ransomNote.\n",
    "'''\n",
    "from collections import Counter\n",
    "\n",
    "class Solution:\n",
    "    def canConstruct(self, ransomNote: str, magazine: str) -> bool:\n",
    "        magazine_counter = Counter(magazine)\n",
    "        ransomNote_counter = Counter(ransomNote)\n",
    "        for key, val in ransomNote_counter.items():\n",
    "            if key in magazine_counter and magazine_counter[key] >= val:\n",
    "                continue\n",
    "            else:\n",
    "                return False\n",
    "        return True \n",
    "    \n",
    "solution = Solution()\n",
    "solution.canConstruct(\"aa\", \"aab\")"
   ]
  },
  {
   "cell_type": "code",
   "execution_count": 183,
   "id": "7114247c",
   "metadata": {},
   "outputs": [
    {
     "data": {
      "text/plain": [
       "True"
      ]
     },
     "execution_count": 183,
     "metadata": {},
     "output_type": "execute_result"
    }
   ],
   "source": [
    "''' \n",
    "Input: nums = [1,2,3,1], k = 3\n",
    "Output: true\n",
    "\n",
    "Given an integer array nums and an integer k, return true if there are two distinct indices i and j in the array such that nums[i] == nums[j] and abs(i - j) <= k.\n",
    "'''\n",
    "class Solution:\n",
    "    def containsNearbyDuplicate(self, nums: List[int], k: int) -> bool:\n",
    "        hash_map = {}\n",
    "        for i, num in enumerate(nums):\n",
    "            if num in hash_map and i - hash_map[num] <= k:\n",
    "                return True \n",
    "            else:\n",
    "                hash_map[num] = i \n",
    "        return False \n",
    "\n",
    "solution = Solution()\n",
    "solution.containsNearbyDuplicate(nums = [1,2,3,1], k = 3)"
   ]
  },
  {
   "cell_type": "code",
   "execution_count": 187,
   "id": "49765342",
   "metadata": {},
   "outputs": [
    {
     "data": {
      "text/plain": [
       "[['eat', 'tea', 'ate'], ['tan', 'nat'], ['bat']]"
      ]
     },
     "execution_count": 187,
     "metadata": {},
     "output_type": "execute_result"
    }
   ],
   "source": [
    "'''\n",
    "Input: strs = [\"eat\",\"tea\",\"tan\",\"ate\",\"nat\",\"bat\"]\n",
    "\n",
    "Output: [[\"bat\"],[\"nat\",\"tan\"],[\"ate\",\"eat\",\"tea\"]]\n",
    "'''\n",
    "\n",
    "class Solution:\n",
    "    def sorted_str(self, string):\n",
    "        return \"\".join(sorted(string))\n",
    "    \n",
    "    def groupAnagrams(self, strs):\n",
    "        hash_map = {}\n",
    "        for str in strs:\n",
    "            sorted_str = self.sorted_str(str)\n",
    "            if sorted_str in hash_map:\n",
    "                hash_map.get(sorted_str).append(str)\n",
    "            else:\n",
    "                hash_map[sorted_str] = [str]\n",
    "        \n",
    "        return [value for value in hash_map.values()]\n",
    "    \n",
    "solution = Solution()\n",
    "solution.groupAnagrams([\"eat\",\"tea\",\"tan\",\"ate\",\"nat\",\"bat\"])\n"
   ]
  },
  {
   "cell_type": "code",
   "execution_count": 189,
   "id": "9a12ff28",
   "metadata": {},
   "outputs": [],
   "source": [
    "class Codec:\n",
    "\n",
    "    def __init__(self):\n",
    "        self.encode_map = {}\n",
    "        self.decode_map = {}\n",
    "        self.base = 'https://tinyUrl.com/'\n",
    "\n",
    "    def encode_map(self, long_url):\n",
    "        tiny_url = self.base + str(len(self.encode_map) + 1)\n",
    "        self.encode_map[long_url] = tiny_url \n",
    "        self.decode_map[tiny_url] = long_url \n",
    "\n",
    "    def decode_map(self, tiny_url):\n",
    "        return self.decode_map[tiny_url]"
   ]
  },
  {
   "cell_type": "code",
   "execution_count": 193,
   "id": "aeffe9ce",
   "metadata": {},
   "outputs": [
    {
     "data": {
      "text/plain": [
       "4"
      ]
     },
     "execution_count": 193,
     "metadata": {},
     "output_type": "execute_result"
    }
   ],
   "source": [
    "''' \n",
    "Input: nums = [100,4,200,1,3,2]\n",
    "Output: 4\n",
    "Explanation: The longest consecutive elements sequence is [1, 2, 3, 4]. Therefore its length is 4.\n",
    "'''\n",
    "\n",
    "class Solution:\n",
    "    def longestConsecutive(self, nums: List[int]) -> int:\n",
    "        numSet = set(nums)\n",
    "        max_res = 0\n",
    "        for num in numSet:\n",
    "            if (num - 1) not in numSet:\n",
    "                length = 0\n",
    "                while (num + length) in numSet:\n",
    "                    length += 1\n",
    "                max_res = max(max_res, length)\n",
    "        return max_res \n",
    "    \n",
    "solution = Solution()\n",
    "solution.longestConsecutive([100,4,200,1,3,2])"
   ]
  },
  {
   "cell_type": "code",
   "execution_count": 198,
   "id": "3748e0d6",
   "metadata": {},
   "outputs": [
    {
     "data": {
      "text/plain": [
       "''"
      ]
     },
     "execution_count": 198,
     "metadata": {},
     "output_type": "execute_result"
    }
   ],
   "source": [
    "''' \n",
    "Example 1:\n",
    "\n",
    "Input: s = \"aab\"\n",
    "Output: \"aba\"\n",
    "\n",
    "Example 2:\n",
    "\n",
    "Input: s = \"aaab\"\n",
    "Output: \"\"\n",
    "'''\n",
    "import heapq \n",
    "from collections import Counter\n",
    "\n",
    "class Solution:\n",
    "    def reorganizeString(self, s: str) -> str:\n",
    "        counter = Counter(s)\n",
    "        max_heap = [(-cnt, c) for c, cnt in counter.items()]\n",
    "        heapq.heapify(max_heap)\n",
    "        prev = None \n",
    "        res = \"\"\n",
    "        while max_heap or prev:\n",
    "            if prev and not max_heap:\n",
    "                return \"\"\n",
    "            \n",
    "            cnt, c = heapq.heappop(max_heap)\n",
    "            res += c \n",
    "            cnt += 1 \n",
    "            if prev:\n",
    "                heapq.heappush(max_heap, prev)\n",
    "                prev = None\n",
    "            \n",
    "            \n",
    "            if cnt != 0:\n",
    "                prev = (cnt, c)\n",
    "        return res \n",
    "    \n",
    "solution = Solution()\n",
    "solution.reorganizeString(\"aaab\")"
   ]
  },
  {
   "cell_type": "code",
   "execution_count": null,
   "id": "f51a533f",
   "metadata": {},
   "outputs": [
    {
     "data": {
      "text/plain": [
       "True"
      ]
     },
     "execution_count": 205,
     "metadata": {},
     "output_type": "execute_result"
    }
   ],
   "source": [
    "from collections import Counter\n",
    "class Solution:\n",
    "    def isPossible(self, nums):\n",
    "        freq = Counter(nums)\n",
    "        need = Counter()\n",
    "        for num in nums:\n",
    "            if freq[num] == 0:\n",
    "                continue\n",
    "\n",
    "            if need[num] > 0:\n",
    "                need[num + 1] += 1\n",
    "                need[num] -= 1\n",
    "            elif freq[num + 1] > 0 and freq[num + 2] > 0:\n",
    "                freq[num + 1] -= 1 \n",
    "                freq[num + 2] -= 1\n",
    "                need[num + 3] += 1\n",
    "            else:\n",
    "                return False \n",
    "            freq[num] -= 1\n",
    "        return True \n",
    "    \n",
    "solution = Solution()\n",
    "solution.isPossible([1,2,3,3,4,4,5,5])"
   ]
  },
  {
   "cell_type": "code",
   "execution_count": 10,
   "id": "cc2f8569",
   "metadata": {},
   "outputs": [
    {
     "data": {
      "text/plain": [
       "[1, 3, 12, 0, 0]"
      ]
     },
     "execution_count": 10,
     "metadata": {},
     "output_type": "execute_result"
    }
   ],
   "source": [
    "''' \n",
    "Input: nums = [0,1,0,3,12]\n",
    "Output: [1,3,12,0,0]\n",
    "'''\n",
    "\n",
    "from typing import List\n",
    "\n",
    "class Solution:\n",
    "    def moveZeroes(self, nums: List[int]) -> None:\n",
    "        \"\"\"\n",
    "        Do not return anything, modify nums in-place instead.\n",
    "        \"\"\"\n",
    "        l = 0\n",
    "        for r in range(len(nums)):\n",
    "            if nums[l] == 0 and nums[r] != 0:\n",
    "                nums[l], nums[r] = nums[r], nums[l]\n",
    "            \n",
    "            if nums[l] != 0:\n",
    "                l += 1\n",
    "        return nums\n",
    "solution = Solution()\n",
    "solution.moveZeroes([0, 1, 0, 3, 12])"
   ]
  },
  {
   "cell_type": "code",
   "execution_count": 15,
   "id": "ee1f3200",
   "metadata": {},
   "outputs": [
    {
     "data": {
      "text/plain": [
       "3"
      ]
     },
     "execution_count": 15,
     "metadata": {},
     "output_type": "execute_result"
    }
   ],
   "source": [
    "''' \n",
    "Example 1:\n",
    "\n",
    "Input: nums = [3,2,3]\n",
    "Output: 3\n",
    "Example 2:\n",
    "\n",
    "Input: nums = [2,2,1,1,1,2,2]\n",
    "Output: 2\n",
    "\n",
    "The majority element is the element that appears more than ⌊n / 2⌋ times. You may assume that the majority element always exists in the array.\n",
    "'''\n",
    "\n",
    "class Solution:\n",
    "    def majorityElement(self, nums):\n",
    "        hash_map = {}\n",
    "        for num in nums:\n",
    "            hash_map[num] = hash_map.get(num, 0) + 1\n",
    "        m = len(nums) // 2\n",
    "        for key, value in hash_map.items():\n",
    "            if value > m:\n",
    "                return key\n",
    "\n",
    "solution = Solution()\n",
    "solution.majorityElement([3, 2, 3])"
   ]
  },
  {
   "cell_type": "code",
   "execution_count": 20,
   "metadata": {},
   "outputs": [
    {
     "data": {
      "text/plain": [
       "[0, 1, 2, 3, 4, 0, 2, 1, 3, 1]"
      ]
     },
     "execution_count": 20,
     "metadata": {},
     "output_type": "execute_result"
    }
   ],
   "source": [
    "''' \n",
    "Input: nums = [0,0,1,1,1,2,2,3,3,4]\n",
    "Output: 5, nums = [0,1,2,3,4,_,_,_,_,_]\n",
    "'''\n",
    "\n",
    "class Solution:\n",
    "    def removeDuplicates(self, nums: List[int]) -> int:\n",
    "        left = 0\n",
    "        for right in range(1, len(nums)):\n",
    "            if nums[left] != nums[right]:\n",
    "                nums[left + 1], nums[right] = nums[right], nums[left + 1]\n",
    "                left += 1\n",
    "        return nums\n",
    "    \n",
    "solution = Solution()\n",
    "solution.removeDuplicates([0,0,1,1,1,2,2,3,3,4])\n"
   ]
  },
  {
   "cell_type": "code",
   "execution_count": 22,
   "metadata": {},
   "outputs": [
    {
     "data": {
      "text/plain": [
       "5"
      ]
     },
     "execution_count": 22,
     "metadata": {},
     "output_type": "execute_result"
    }
   ],
   "source": [
    "''' \n",
    "Input: prices = [7,1,5,3,6,4]\n",
    "Output: 5\n",
    "'''\n",
    "\n",
    "class Solution:\n",
    "    def maxProfit(self, prices: List[int]) -> int:\n",
    "        left = 0 \n",
    "        max_profit = float('-inf')\n",
    "        for right in range(1, len(prices)):\n",
    "            if prices[right] > prices[left]:\n",
    "                profit = prices[right] - prices[left]\n",
    "                max_profit = max(max_profit, profit)\n",
    "            else:\n",
    "                left = right \n",
    "        return max_profit\n",
    "    \n",
    "solution = Solution()\n",
    "solution.maxProfit([7,1,5,3,6,4])"
   ]
  },
  {
   "cell_type": "code",
   "execution_count": 23,
   "id": "01ff0ca4",
   "metadata": {},
   "outputs": [
    {
     "data": {
      "text/plain": [
       "7"
      ]
     },
     "execution_count": 23,
     "metadata": {},
     "output_type": "execute_result"
    }
   ],
   "source": [
    "''' \n",
    "Input: prices = [7,1,5,3,6,4]\n",
    "Output: 7\n",
    "Explanation: Buy on day 2 (price = 1) and sell on day 3 (price = 5), profit = 5-1 = 4.\n",
    "Then buy on day 4 (price = 3) and sell on day 5 (price = 6), profit = 6-3 = 3.\n",
    "Total profit is 4 + 3 = 7.\n",
    "'''\n",
    "\n",
    "class Solution:\n",
    "    def maxProfit(self, prices):\n",
    "        total_profit = 0 \n",
    "        for i in range(1, len(prices)):\n",
    "            if prices[i] > prices[i - 1]:\n",
    "                total_profit += prices[i] - prices[i - 1]\n",
    "            \n",
    "        return total_profit\n",
    "    \n",
    "solution = Solution()\n",
    "solution.maxProfit([7,1,5,3,6,4])"
   ]
  },
  {
   "cell_type": "code",
   "execution_count": 31,
   "id": "346d2697",
   "metadata": {},
   "outputs": [
    {
     "data": {
      "text/plain": [
       "[5, 6, 7, 1, 2, 3, 4]"
      ]
     },
     "execution_count": 31,
     "metadata": {},
     "output_type": "execute_result"
    }
   ],
   "source": [
    "''' \n",
    "Input: nums = [1,2,3,4,5,6,7], k = 3\n",
    "Output: [5,6,7,1,2,3,4]\n",
    "'''\n",
    "\n",
    "class Solution:\n",
    "    def rotateArray(self, nums, k):\n",
    "        n = len(nums)\n",
    "        k = k % n\n",
    "        if k == 0:\n",
    "            return nums\n",
    "        temp = nums[-k:]\n",
    "        nums[k:] = nums[:-k]\n",
    "        nums[:k] = temp \n",
    "        return nums \n",
    "solution = Solution()\n",
    "solution.rotateArray([1,2,3,4,5,6,7], k = 3)\n",
    "\n"
   ]
  },
  {
   "cell_type": "code",
   "execution_count": 46,
   "id": "10f80c11",
   "metadata": {},
   "outputs": [
    {
     "data": {
      "text/plain": [
       "[24, 12, 8, 6]"
      ]
     },
     "execution_count": 46,
     "metadata": {},
     "output_type": "execute_result"
    }
   ],
   "source": [
    "''' \n",
    "Input: nums = [1,2,3,4]\n",
    "Output: [24,12,8,6]\n",
    "'''\n",
    "\n",
    "class Solution:\n",
    "    def productOfArrayExceptSelf(self, nums):\n",
    "        prefix = 1 \n",
    "        prefix_prod = [1] * len(nums)\n",
    "        for i in range(1, len(nums)):\n",
    "            prefix_prod[i] = prefix * nums[i - 1]\n",
    "            prefix *= nums[i - 1]\n",
    "\n",
    "        suffix = 1\n",
    "        suffix_prod = [1] * len(nums)\n",
    "        for i in range(len(nums) - 2, -1, -1):\n",
    "            suffix_prod[i] = suffix * nums[i + 1]\n",
    "            suffix *= nums[i + 1]\n",
    "        res = [1] * len(nums)\n",
    "        \n",
    "        for i in range(len(nums)):\n",
    "            res[i] = prefix_prod[i] * suffix_prod[i]\n",
    "        return res \n",
    "    \n",
    "    def productOfArrayExceptSelf(self, nums):\n",
    "        res = [1] * len(nums)\n",
    "        res[0] = 1 \n",
    "        for i in range(1, len(nums)):\n",
    "            res[i] = res[i - 1] * nums[i - 1]\n",
    "\n",
    "        prod = 1 \n",
    "        for i in range(len(nums) - 2, -1, -1):\n",
    "            prod *= nums[i + 1]\n",
    "            res[i] *= prod\n",
    "            \n",
    "        return res\n",
    "\n",
    "\n",
    "solution = Solution()\n",
    "solution.productOfArrayExceptSelf([1, 2, 3, 4])\n"
   ]
  },
  {
   "cell_type": "code",
   "execution_count": 47,
   "id": "0b07bfdc",
   "metadata": {},
   "outputs": [
    {
     "data": {
      "text/plain": [
       "6"
      ]
     },
     "execution_count": 47,
     "metadata": {},
     "output_type": "execute_result"
    }
   ],
   "source": [
    "''' \n",
    "Input: nums = [1,3,0,0,2,0,0,4]\n",
    "Output: 6\n",
    "Explanation: \n",
    "There are 4 occurrences of [0] as a subarray.\n",
    "There are 2 occurrences of [0,0] as a subarray.\n",
    "There is no occurrence of a subarray with a size more than 2 filled with 0. Therefore, we return 6.\n",
    "'''\n",
    "\n",
    "class Solution:\n",
    "    def zeroFilledSubarray(self, nums: List[int]) -> int:\n",
    "        res = 0 \n",
    "        count = 0\n",
    "        for num in nums:\n",
    "            if num == 0:\n",
    "                count += 1\n",
    "            else:\n",
    "                count = 0 \n",
    "            res += count \n",
    "        return res \n",
    "    \n",
    "solution = Solution()\n",
    "solution.zeroFilledSubarray([1,3,0,0,2,0,0,4])"
   ]
  },
  {
   "cell_type": "code",
   "execution_count": 48,
   "id": "cfe5ded1",
   "metadata": {},
   "outputs": [
    {
     "data": {
      "text/plain": [
       "True"
      ]
     },
     "execution_count": 48,
     "metadata": {},
     "output_type": "execute_result"
    }
   ],
   "source": [
    "''' \n",
    "Input: nums = [1,2,3,4,5]\n",
    "Output: true\n",
    "Explanation: Any triplet where i < j < k is valid.\n",
    "'''\n",
    "\n",
    "class Solution:\n",
    "    def increasingTriplet(self, nums: List[int]) -> bool:\n",
    "        i = float('inf')\n",
    "        j = float('inf')\n",
    "        for num in nums:\n",
    "            if num <= i:\n",
    "                i = num \n",
    "            elif num <= j:\n",
    "                j = num\n",
    "            else:\n",
    "                return True \n",
    "        return False\n",
    "    \n",
    "solution = Solution()\n",
    "solution.increasingTriplet([1, 2, 3, 4, 5])"
   ]
  },
  {
   "cell_type": "code",
   "execution_count": 62,
   "id": "0861ca5d",
   "metadata": {},
   "outputs": [
    {
     "data": {
      "text/plain": [
       "3"
      ]
     },
     "execution_count": 62,
     "metadata": {},
     "output_type": "execute_result"
    }
   ],
   "source": [
    "''' \n",
    "Input: nums = [1,2,0]\n",
    "Output: 3\n",
    "Explanation: The numbers in the range [1,2] are all in the array.\n",
    "'''\n",
    "from typing import List \n",
    "\n",
    "class Solution:\n",
    "    def firstMissingPositive(self, nums: List[int]) -> int:\n",
    "        n = len(nums)\n",
    "        if n == 0:\n",
    "            return 1\n",
    "        \n",
    "        for i in range(n):\n",
    "            if nums[i] < 0:\n",
    "                nums[i] = 0 \n",
    "        \n",
    "        for i in range(n):\n",
    "            val = abs(nums[i])\n",
    "            if 1 <= val <= n:\n",
    "                if nums[val - 1] > 0:\n",
    "                    nums[val - 1] *= -1 \n",
    "                if nums[val - 1] == 0:\n",
    "                    nums[val - 1] = -1 * (n + 1)\n",
    "        \n",
    "        for i in range(1, n + 1):\n",
    "            if nums[i - 1] >= 0:\n",
    "                return i \n",
    "        return n + 1\n",
    "solution = Solution()\n",
    "solution.firstMissingPositive([1, 2, 0])\n",
    "\n"
   ]
  },
  {
   "cell_type": "code",
   "execution_count": 65,
   "id": "09932aa5",
   "metadata": {},
   "outputs": [
    {
     "data": {
      "text/plain": [
       "True"
      ]
     },
     "execution_count": 65,
     "metadata": {},
     "output_type": "execute_result"
    }
   ],
   "source": [
    "''' \n",
    "Input: s = \"abc\", t = \"ahbgdc\"\n",
    "Output: true\n",
    "'''\n",
    "\n",
    "class Solution:\n",
    "    def isSubSequence(self, s, t):\n",
    "        left = 0 \n",
    "        for c in t:\n",
    "            if c == s[left]:\n",
    "               left += 1\n",
    "\n",
    "            if left == len(s):\n",
    "                return True \n",
    "        return False \n",
    "solution = Solution()\n",
    "solution.isSubSequence(\"abc\", \"ahbgdc\") "
   ]
  },
  {
   "cell_type": "code",
   "execution_count": 76,
   "id": "18f8f3d5",
   "metadata": {},
   "outputs": [
    {
     "data": {
      "text/plain": [
       "True"
      ]
     },
     "execution_count": 76,
     "metadata": {},
     "output_type": "execute_result"
    }
   ],
   "source": [
    "''' \n",
    "Input: s = \"A man, a plan, a canal: Panama\"\n",
    "Output: true\n",
    "Explanation: \"amanaplanacanalpanama\" is a palindrome.\n",
    "'''\n",
    "\n",
    "class Solution:\n",
    "    def isPalindrome(self, s):\n",
    "        left = 0\n",
    "        right = len(s) - 1\n",
    "        while left < right:\n",
    "            while not s[left].isalnum():\n",
    "                left += 1\n",
    "            \n",
    "            while not s[right].isalnum():\n",
    "                right -= 1\n",
    "            \n",
    "            if s[left].upper() != s[right].upper():\n",
    "                return False \n",
    "            left += 1\n",
    "            right -= 1\n",
    "        return True\n",
    "    \n",
    "solution = Solution()\n",
    "solution.isPalindrome(\"A man, a plan, a canal: Panama\")"
   ]
  },
  {
   "cell_type": "code",
   "execution_count": 83,
   "id": "09090397",
   "metadata": {},
   "outputs": [
    {
     "data": {
      "text/plain": [
       "['blue', 'is', 'sky', 'the']"
      ]
     },
     "execution_count": 83,
     "metadata": {},
     "output_type": "execute_result"
    }
   ],
   "source": [
    "''' \n",
    "Input: s = \"the sky is blue\"\n",
    "Output: \"blue is sky the\"\n",
    "'''\n",
    "\n",
    "class Solution:\n",
    "    def reverseWords(self, s:str):\n",
    "        res = []\n",
    "        s = s.split()\n",
    "        for word in range(len(s) - 1, -1, -1):\n",
    "            res.append(s[word])\n",
    "        return res \n",
    "    \n",
    "solution = Solution()\n",
    "solution.reverseWords(\"the sky is blue\")"
   ]
  },
  {
   "cell_type": "code",
   "execution_count": 86,
   "id": "9571b411",
   "metadata": {},
   "outputs": [
    {
     "data": {
      "text/plain": [
       "'fl'"
      ]
     },
     "execution_count": 86,
     "metadata": {},
     "output_type": "execute_result"
    }
   ],
   "source": [
    "''' \n",
    "Example 1:\n",
    "\n",
    "Input: strs = [\"flower\",\"flow\",\"flight\"]\n",
    "Output: \"fl\"\n",
    "Example 2:\n",
    "\n",
    "Input: strs = [\"dog\",\"racecar\",\"car\"]\n",
    "Output: \"\"\n",
    "Explanation: There is no common prefix among the input strings.\n",
    "'''\n",
    "\n",
    "class Solution:\n",
    "    def longestCommonPrefix(self, strs: List[str]) -> str:\n",
    "        strs.sort()\n",
    "        min_str = \"\"\n",
    "        min_len = len(min(strs[0], strs[-1]))\n",
    "        for i in range(min_len):\n",
    "            if strs[0][i] != strs[-1][i]:\n",
    "                return min_str\n",
    "            min_str += strs[0][i]\n",
    "        return min_str\n",
    "    \n",
    "solution = Solution()\n",
    "solution.longestCommonPrefix([\"flower\",\"flow\",\"flight\"])"
   ]
  },
  {
   "cell_type": "code",
   "execution_count": null,
   "id": "093f936b",
   "metadata": {},
   "outputs": [
    {
     "data": {
      "text/plain": [
       "'PAHNAPLSIIGYIR'"
      ]
     },
     "execution_count": 91,
     "metadata": {},
     "output_type": "execute_result"
    }
   ],
   "source": [
    "''' \n",
    "Input: s = \"PAYPALISHIRING\", numRows = 3\n",
    "Output: \"PAHNAPLSIIGYIR\"\n",
    "'''\n",
    "\n",
    "class Solution:\n",
    "    def convert(self, s: str, numRows: int) -> str:\n",
    "        if numRows == 1 or numRows == s:\n",
    "            return s\n",
    "        step, row = 0, 0\n",
    "        res = [\"\"] * numRows\n",
    "        for c in s:\n",
    "            res[row] += c \n",
    "            if row == 0:\n",
    "                step = 1\n",
    "            elif row == numRows - 1:\n",
    "                step = -1\n",
    "            row += step\n",
    "        return \"\".join(res)\n",
    "    \n",
    "solution = Solution()\n",
    "solution.convert(\"PAYPALISHIRING\", 3)\n",
    "\n",
    "\n"
   ]
  },
  {
   "cell_type": "code",
   "execution_count": null,
   "id": "f386d7f1",
   "metadata": {},
   "outputs": [],
   "source": []
  },
  {
   "cell_type": "code",
   "execution_count": null,
   "id": "d1099110",
   "metadata": {},
   "outputs": [],
   "source": [
    "''' \n",
    "Input: nums = [0,1,0,3,12]\n",
    "Output: [1,3,12,0,0]\n",
    "'''\n",
    "\n",
    "class Solution:\n",
    "    def move_zeros(self, nums):\n",
    "        l = 0\n",
    "        for r in range(len(nums)):\n",
    "            if nums[l] == 0 and nums[r] != 0:\n",
    "                nums[l], nums[r] = nums[r], nums[l]\n",
    "\n",
    "            if nums[l] != 0:\n",
    "                l += 1\n",
    "        return nums\n",
    "\n",
    "solution = Solution()\n",
    "solution.move_zeros([0, 1, 0, 3, 12])"
   ]
  },
  {
   "cell_type": "code",
   "execution_count": 8,
   "id": "98058536",
   "metadata": {},
   "outputs": [
    {
     "data": {
      "text/plain": [
       "2"
      ]
     },
     "execution_count": 8,
     "metadata": {},
     "output_type": "execute_result"
    }
   ],
   "source": [
    "''' \n",
    "Example 1:\n",
    "\n",
    "Input: nums = [3,2,3]\n",
    "Output: 3\n",
    "Example 2:\n",
    "\n",
    "Input: nums = [2,2,1,1,1,2,2]\n",
    "Output: 2\n",
    "\n",
    "The majority element is the element that appears more than ⌊n / 2⌋ times. You may assume that the majority element always exists in the array.\n",
    "'''\n",
    "\n",
    "class Solution:\n",
    "    def majorityElement(self, nums):\n",
    "        hash_map = {}\n",
    "        for num in nums:\n",
    "            hash_map[num] = hash_map.get(num, 0) + 1\n",
    "        \n",
    "        m = len(nums) // 2\n",
    "        for key, value in hash_map.items():\n",
    "            if value > m:\n",
    "                return key \n",
    "            \n",
    "        return -1\n",
    "    \n",
    "solution = Solution()\n",
    "solution.majorityElement([2,2,1,1,1,2,2])"
   ]
  },
  {
   "cell_type": "code",
   "execution_count": 24,
   "id": "0d105f8f",
   "metadata": {},
   "outputs": [
    {
     "name": "stdout",
     "output_type": "stream",
     "text": [
      "[1, 1, 2, 6]\n",
      "[24, 12, 8, 6]\n"
     ]
    }
   ],
   "source": [
    "''' \n",
    "Input: nums = [1,2,3,4]\n",
    "Output: [24,12,8,6]\n",
    "'''\n",
    "\n",
    "class Solution:\n",
    "    def productOfArrayExceptSelf(self, nums):\n",
    "        n = len(nums)\n",
    "        res = [1] * n\n",
    "        for i in range(2, n):\n",
    "            res[i] = nums[i - 1] * res[i - 1]\n",
    "        print(res)\n",
    "\n",
    "        suffix = 1\n",
    "        for j in range(len(nums) - 2, -1, -1):\n",
    "            suffix  *= nums[j + 1]\n",
    "            res[j] *= suffix\n",
    "    \n",
    "\n",
    "        print(res)\n",
    "\n",
    "solution = Solution()\n",
    "solution.productOfArrayExceptSelf([1, 2, 3, 4])"
   ]
  },
  {
   "cell_type": "code",
   "execution_count": null,
   "id": "2348964b",
   "metadata": {},
   "outputs": [],
   "source": [
    "''' \n",
    "Input: prices = [7,1,5,3,6,4]\n",
    "Output: 5\n",
    "Explanation: Buy on day 2 (price = 1) and sell on day 5 (price = 6), profit = 6-1 = 5.\n",
    "Note that buying on day 2 and selling on day 1 is not allowed because you must buy before you sell.\n",
    "'''\n",
    "from typing import List \n",
    "\n",
    "class Solution:\n",
    "    def maxProfit(self, prices: List[int]) -> int:\n",
    "        left = 0 \n",
    "        max_profit = 0\n",
    "        for right in range(1, len(prices)):\n",
    "            if prices[right] > prices[left]:\n",
    "                profit = prices[right] - prices[left]\n",
    "                max_profit = max(profit, max_profit)\n",
    "            else:\n",
    "                left = right \n",
    "        return max_profit \n",
    "\n",
    "solution = Solution()\n",
    "solution.maxProfit([7,1,5,3,6,4]) "
   ]
  },
  {
   "cell_type": "code",
   "execution_count": 26,
   "id": "a8a6a82b",
   "metadata": {},
   "outputs": [
    {
     "data": {
      "text/plain": [
       "7"
      ]
     },
     "execution_count": 26,
     "metadata": {},
     "output_type": "execute_result"
    }
   ],
   "source": [
    "''' \n",
    "Input: prices = [7,1,5,3,6,4]\n",
    "Output: 7\n",
    "Explanation: Buy on day 2 (price = 1) and sell on day 3 (price = 5), profit = 5-1 = 4.\n",
    "Then buy on day 4 (price = 3) and sell on day 5 (price = 6), profit = 6-3 = 3.\n",
    "Total profit is 4 + 3 = 7.\n",
    "'''\n",
    "\n",
    "class Solution:\n",
    "    def maxProfit(self, prices):\n",
    "        max_profit = 0 \n",
    "        for i in range(1, len(prices)):\n",
    "            if prices[i] > prices[i - 1]:\n",
    "                max_profit += prices[i] - prices[i - 1]\n",
    "        return max_profit\n",
    "    \n",
    "solution = Solution()\n",
    "solution.maxProfit([7,1,5,3,6,4])"
   ]
  },
  {
   "cell_type": "code",
   "execution_count": 30,
   "id": "73f1be95",
   "metadata": {},
   "outputs": [
    {
     "data": {
      "text/plain": [
       "3"
      ]
     },
     "execution_count": 30,
     "metadata": {},
     "output_type": "execute_result"
    }
   ],
   "source": [
    "''' \n",
    "Input: nums = [1,2,0]\n",
    "Output: 3\n",
    "Explanation: The numbers in the range [1,2] are all in the array.\n",
    "'''\n",
    "from typing import List \n",
    "\n",
    "class Solution:\n",
    "    def firstMissingPositive(self, nums: List[int]) -> int:\n",
    "        if len(nums) == 0 :\n",
    "            return 1 \n",
    "        n = len(nums)\n",
    "\n",
    "        for i in range(n):\n",
    "            if i < 0:\n",
    "                nums[i] = 0 \n",
    "        \n",
    "        for i in range(n):\n",
    "            val = abs(nums[i])\n",
    "            if 1 <= val <= n:\n",
    "                if nums[val - 1] == 0:\n",
    "                    nums[val - 1] = -1 * (n + 1)\n",
    "                elif nums[val - 1] > 0:\n",
    "                    nums[val - 1] *= -1\n",
    "\n",
    "        for i in range(1, n + 1):\n",
    "            if nums[i - 1] >= 0:\n",
    "                return i \n",
    "        \n",
    "        return n + 1\n",
    "\n",
    "solution = Solution()\n",
    "solution.firstMissingPositive([1, 2, 0])"
   ]
  },
  {
   "cell_type": "code",
   "execution_count": 32,
   "id": "0eb3d36d",
   "metadata": {},
   "outputs": [
    {
     "data": {
      "text/plain": [
       "5"
      ]
     },
     "execution_count": 32,
     "metadata": {},
     "output_type": "execute_result"
    }
   ],
   "source": [
    "class Solution:\n",
    "    def removeDuplicates(self, nums: List[int]) -> int:\n",
    "        left = 0 \n",
    "        for right in range(1, len(nums)):\n",
    "            if nums[left] != nums[right]:\n",
    "                nums[left + 1], nums[right] = nums[right], nums[left + 1]\n",
    "                left += 1\n",
    "        return left + 1\n",
    "\n",
    "solution = Solution()\n",
    "solution.removeDuplicates([0,0,1,1,1,2,2,3,3,4])"
   ]
  },
  {
   "cell_type": "code",
   "execution_count": null,
   "id": "ece230e1",
   "metadata": {},
   "outputs": [
    {
     "data": {
      "text/plain": [
       "[5, 6, 7, 1, 2, 3, 4]"
      ]
     },
     "execution_count": 45,
     "metadata": {},
     "output_type": "execute_result"
    }
   ],
   "source": [
    "''' \n",
    "Input: nums = [1,2,3,4,5,6,7], k = 3\n",
    "Output: [5,6,7,1,2,3,4]\n",
    "'''\n",
    "\n",
    "class Solution:\n",
    "    def rotateArray(self, nums, k):\n",
    "        n = len(nums)\n",
    "        k = k % n\n",
    "        if k == 0:\n",
    "            return\n",
    "        temp = nums[-k:]\n",
    "        nums[k:] = nums[:-k]\n",
    "        nums[:k] = temp\n",
    "        return nums\n",
    "    \n",
    "solution = Solution()\n",
    "solution.rotateArray([1,2,3,4,5,6,7], k = 3)\n"
   ]
  },
  {
   "cell_type": "code",
   "execution_count": 50,
   "id": "8bcccfec",
   "metadata": {},
   "outputs": [
    {
     "data": {
      "text/plain": [
       "6"
      ]
     },
     "execution_count": 50,
     "metadata": {},
     "output_type": "execute_result"
    }
   ],
   "source": [
    "''' \n",
    "Input: nums = [1,3,0,0,2,0,0,4]\n",
    "Output: 6\n",
    "Explanation: \n",
    "There are 4 occurrences of [0] as a subarray.\n",
    "There are 2 occurrences of [0,0] as a subarray.\n",
    "There is no occurrence of a subarray with a size more than 2 filled with 0. Therefore, we return 6.\n",
    "'''\n",
    "\n",
    "class Solution:\n",
    "    def zeroFilledSubarray(self, nums: List[int]) -> int:\n",
    "        res = 0 \n",
    "        count = 0 \n",
    "        for num in nums:\n",
    "            if num == 0:\n",
    "                count += 1 \n",
    "            else:\n",
    "                count = 0 \n",
    "            res += count \n",
    "        return res \n",
    "    \n",
    "solution = Solution()\n",
    "solution.zeroFilledSubarray([1,3,0,0,2,0,0,4])"
   ]
  },
  {
   "cell_type": "code",
   "execution_count": 51,
   "id": "d504b273",
   "metadata": {},
   "outputs": [
    {
     "data": {
      "text/plain": [
       "True"
      ]
     },
     "execution_count": 51,
     "metadata": {},
     "output_type": "execute_result"
    }
   ],
   "source": [
    "''' \n",
    "Input: nums = [1,2,3,4,5]\n",
    "Output: true\n",
    "Explanation: Any triplet where i < j < k is valid.\n",
    "'''\n",
    "\n",
    "class Solution:\n",
    "    def increasingTriplet(self, nums: List[int]) -> bool:\n",
    "        i = float('inf')\n",
    "        j = float('inf')\n",
    "        for num in nums:\n",
    "            if i <= num:\n",
    "                i = num \n",
    "            elif j <= num:\n",
    "                j = num\n",
    "            else:\n",
    "                return True \n",
    "        return False \n",
    "    \n",
    "solution = Solution()\n",
    "solution.increasingTriplet([1,2,3,4,5])"
   ]
  },
  {
   "cell_type": "code",
   "execution_count": 55,
   "id": "67282192",
   "metadata": {},
   "outputs": [
    {
     "data": {
      "text/plain": [
       "True"
      ]
     },
     "execution_count": 55,
     "metadata": {},
     "output_type": "execute_result"
    }
   ],
   "source": [
    "''' \n",
    "Input: s = \"abc\", t = \"ahbgdc\"\n",
    "Output: true\n",
    "'''\n",
    "\n",
    "class Solution:\n",
    "    def isSubSequence(self, s, t):\n",
    "        if len(s) > len(t):\n",
    "            return False \n",
    "        \n",
    "        if len(s) == 0:\n",
    "            return True \n",
    "        \n",
    "        left = 0 \n",
    "        s_len = len(s)\n",
    "\n",
    "        for char in t:\n",
    "            if char == s[left]:\n",
    "                left += 1\n",
    "\n",
    "            if left == s_len:\n",
    "                return True \n",
    "            \n",
    "        return False \n",
    "    \n",
    "solution = Solution()\n",
    "solution.isSubSequence(\"abc\", \"ahbgdc\")"
   ]
  },
  {
   "cell_type": "code",
   "execution_count": 59,
   "id": "54d38de2",
   "metadata": {},
   "outputs": [
    {
     "data": {
      "text/plain": [
       "True"
      ]
     },
     "execution_count": 59,
     "metadata": {},
     "output_type": "execute_result"
    }
   ],
   "source": [
    "''' \n",
    "Input: s = \"A man, a plan, a canal: Panama\"\n",
    "Output: true\n",
    "Explanation: \"amanaplanacanalpanama\" is a palindrome.\n",
    "'''\n",
    "\n",
    "class Solution:\n",
    "    def isPalindrome(self, s):\n",
    "        left = 0 \n",
    "        right = len(s) - 1\n",
    "        while left < right:\n",
    "            while not s[left].isalnum():\n",
    "                left += 1\n",
    "\n",
    "            while not s[right].isalnum():\n",
    "                right -= 1\n",
    "            \n",
    "            if s[left].upper() != s[right].upper():\n",
    "                return False \n",
    "            left += 1 \n",
    "            right -= 1\n",
    "        return True\n",
    "    \n",
    "solution = Solution()\n",
    "solution.isPalindrome(\"A man, a plan, a canal: Panama\")"
   ]
  },
  {
   "cell_type": "code",
   "execution_count": 61,
   "id": "ff596f56",
   "metadata": {},
   "outputs": [
    {
     "data": {
      "text/plain": [
       "'blue is sky the'"
      ]
     },
     "execution_count": 61,
     "metadata": {},
     "output_type": "execute_result"
    }
   ],
   "source": [
    "''' \n",
    "Input: s = \"the sky is blue\"\n",
    "Output: \"blue is sky the\"\n",
    "'''\n",
    "\n",
    "class Solution:\n",
    "    def reverseWords(self, s):\n",
    "        s = s.split()\n",
    "        res = []\n",
    "        for i in range(len(s) - 1, -1 , -1):\n",
    "            res.append(s[i])\n",
    "        \n",
    "        return \" \".join(res)\n",
    "    \n",
    "solution = Solution()\n",
    "solution.reverseWords(\"the sky is blue\")"
   ]
  },
  {
   "cell_type": "code",
   "execution_count": 64,
   "id": "8916b968",
   "metadata": {},
   "outputs": [
    {
     "data": {
      "text/plain": [
       "'fl'"
      ]
     },
     "execution_count": 64,
     "metadata": {},
     "output_type": "execute_result"
    }
   ],
   "source": [
    "''' \n",
    "Example 1:\n",
    "\n",
    "Input: strs = [\"flower\",\"flow\",\"flight\"]\n",
    "Output: \"fl\"\n",
    "Example 2:\n",
    "\n",
    "Input: strs = [\"dog\",\"racecar\",\"car\"]\n",
    "Output: \"\"\n",
    "Explanation: There is no common prefix among the input strings.\n",
    "'''\n",
    "\n",
    "class Solution:\n",
    "    def longestCommonPrefix(self, strs: List[str]) -> str:\n",
    "        strs.sort()\n",
    "        min_len = len(min(strs[0], strs[-1]))\n",
    "        res = \"\"\n",
    "        for i in range(min_len):\n",
    "            if strs[0][i] == strs[-1][i]:\n",
    "                res += strs[0][i]\n",
    "            else:\n",
    "                return res\n",
    "        return res\n",
    "    \n",
    "solution = Solution()\n",
    "solution.longestCommonPrefix([\"flower\",\"flow\",\"flight\"])\n"
   ]
  },
  {
   "cell_type": "code",
   "execution_count": 66,
   "id": "01a2ab7f",
   "metadata": {},
   "outputs": [
    {
     "data": {
      "text/plain": [
       "'PAHNAPLSIIGYIR'"
      ]
     },
     "execution_count": 66,
     "metadata": {},
     "output_type": "execute_result"
    }
   ],
   "source": [
    "''' \n",
    "Input: s = \"PAYPALISHIRING\", numRows = 3\n",
    "Output: \"PAHNAPLSIIGYIR\"\n",
    "'''\n",
    "\n",
    "'''\n",
    "Index:   0 1 2 3 4 5 6 7 8 9 10 11 12 13\n",
    "Char:    P A Y P A L I S H I  R  I  N  G\n",
    "\n",
    "Row 0:   P   A   H   N\n",
    "Row 1:   A P L S I I G\n",
    "Row 2:   Y   I   R\n",
    "\n",
    "'''\n",
    "\n",
    "class Solution:\n",
    "    def convert(self, s: str, numRows: int) -> str:\n",
    "        if numRows == 1 or numRows >= len(s):\n",
    "            return s \n",
    "        \n",
    "        row, step = 0, 0\n",
    "        res = [\"\"] * numRows\n",
    "\n",
    "        for char in s:\n",
    "            res[row] += char \n",
    "            if row == 0:\n",
    "                step = 1\n",
    "            elif row == numRows - 1:\n",
    "                step = -1 \n",
    "            row += step \n",
    "        return \"\".join(res)\n",
    "    \n",
    "solution = Solution()\n",
    "solution.convert(\"PAYPALISHIRING\", 3)\n"
   ]
  },
  {
   "cell_type": "code",
   "execution_count": null,
   "id": "09131c5a",
   "metadata": {},
   "outputs": [],
   "source": []
  },
  {
   "cell_type": "code",
   "execution_count": 74,
   "id": "f8d9c7ed",
   "metadata": {},
   "outputs": [
    {
     "data": {
      "text/plain": [
       "-1"
      ]
     },
     "execution_count": 74,
     "metadata": {},
     "output_type": "execute_result"
    }
   ],
   "source": [
    "''' \n",
    "Input\n",
    "[\"MyHashMap\", \"put\", \"put\", \"get\", \"get\", \"put\", \"get\", \"remove\", \"get\"]\n",
    "[[], [1, 1], [2, 2], [1], [3], [2, 1], [2], [2], [2]]\n",
    "Output\n",
    "[null, null, null, 1, -1, null, 1, null, -1]\n",
    "\n",
    "'''\n",
    "\n",
    "class ListNode:\n",
    "    def __init__(self, key = -1, value = -1, next=None):\n",
    "        self.key = key \n",
    "        self.value = value\n",
    "        self.next = next \n",
    "\n",
    "\n",
    "class Solution:\n",
    "    def __init__(self):\n",
    "        self.hash_map = [ListNode() for _ in range(1000)]\n",
    "\n",
    "    def _hash(self, key):\n",
    "        return key % len(self.hash_map)\n",
    "    \n",
    "    def put(self, key, value):\n",
    "        cur = self.hash_map[self._hash(key)]\n",
    "        while cur.next:\n",
    "            if cur.next.key == key:\n",
    "                cur.next.value = value\n",
    "                return\n",
    "            cur = cur.next\n",
    "        cur.next = ListNode(key, value)\n",
    "    \n",
    "    def get(self, key):\n",
    "        cur = self.hash_map[self._hash(key)]\n",
    "        while cur.next:\n",
    "            if cur.next.key == key:\n",
    "                return cur.next.value\n",
    "            cur = cur.next \n",
    "        return -1 \n",
    "    \n",
    "    def remove(self, key):\n",
    "        cur = self.hash_map[self._hash(key)]\n",
    "        while cur and cur.next:\n",
    "            if cur.next.key == key:\n",
    "                cur.next = cur.next.next\n",
    "                return \n",
    "            cur = cur.next \n",
    "        \n",
    "solution = Solution()\n",
    "solution.put(1, \"Dharani\")\n",
    "solution.put(2, \"Prasad\")\n",
    "solution.put(1, \"Prasanth\")\n",
    "solution.remove(1)\n",
    "solution.get(1)\n"
   ]
  },
  {
   "cell_type": "code",
   "execution_count": 75,
   "id": "7cc8b6f5",
   "metadata": {},
   "outputs": [
    {
     "data": {
      "text/plain": [
       "2"
      ]
     },
     "execution_count": 75,
     "metadata": {},
     "output_type": "execute_result"
    }
   ],
   "source": [
    "''' \n",
    "Input: text = \"loonbalxballpoon\"\n",
    "Output: 2\n",
    "'''\n",
    "\n",
    "from collections import Counter\n",
    "\n",
    "class Solution:\n",
    "    def maxNumberOfBalloons(self, text: str) -> int:\n",
    "        balloon_counter = Counter('balloon')\n",
    "        text_counter = Counter(text)\n",
    "        min_len = len('balloon')\n",
    "        for c in 'balloon':\n",
    "            min_len = min(min_len, text_counter[c] // balloon_counter[c])\n",
    "        return min_len\n",
    "    \n",
    "solution = Solution()\n",
    "solution.maxNumberOfBalloons(\"loonbalxballpoon\")"
   ]
  },
  {
   "cell_type": "code",
   "execution_count": 76,
   "id": "e30f5a2f",
   "metadata": {},
   "outputs": [
    {
     "data": {
      "text/plain": [
       "4"
      ]
     },
     "execution_count": 76,
     "metadata": {},
     "output_type": "execute_result"
    }
   ],
   "source": [
    "''' \n",
    "Input: nums = [1,2,3,1,1,3]\n",
    "Output: 4\n",
    "Explanation: There are 4 good pairs (0,3), (0,4), (3,4), (2,5) 0-indexed.\n",
    "\n",
    "A pair (i, j) is called good if nums[i] == nums[j] and i < j.\n",
    "'''\n",
    "from typing import List \n",
    "\n",
    "class Solution:\n",
    "    def numIdenticalPairs(self, nums: List[int]) -> int:\n",
    "        hash_map = {}\n",
    "        res = 0\n",
    "        for num in nums:\n",
    "            if num in hash_map:\n",
    "                res += hash_map[num]\n",
    "                hash_map[num] = hash_map.get(num) + 1\n",
    "            else:\n",
    "                hash_map[num] = 1 \n",
    "\n",
    "        return res \n",
    "    \n",
    "\n",
    "solution = Solution()\n",
    "solution.numIdenticalPairs([1,2,3,1,1,3])\n",
    "            "
   ]
  },
  {
   "cell_type": "code",
   "execution_count": 77,
   "id": "6926e013",
   "metadata": {},
   "outputs": [
    {
     "data": {
      "text/plain": [
       "True"
      ]
     },
     "execution_count": 77,
     "metadata": {},
     "output_type": "execute_result"
    }
   ],
   "source": [
    "''' \n",
    "Input: s = \"egg\", t = \"add\"\n",
    "\n",
    "Output: true\n",
    "\n",
    "Two strings s and t are isomorphic if the characters in s can be replaced to get t.\n",
    "'''\n",
    "\n",
    "class Solution:\n",
    "    def isIsomorphic(self, s: str, t: str) -> bool:\n",
    "        s_map, t_map = {}, {}\n",
    "        for s_char, t_char in zip(s, t):\n",
    "            if t_char in s_map and s_map[t_char] != s_char:\n",
    "                return False\n",
    "            else:\n",
    "                s_map[t_char] = s_char\n",
    "            \n",
    "            if s_char in t_map and t_map[s_char] != t_char:\n",
    "                return False\n",
    "            else:\n",
    "                t_map[s_char] = t_char\n",
    "        return True \n",
    "    \n",
    "solution = Solution()\n",
    "solution.isIsomorphic(\"egg\", \"add\")\n",
    "            "
   ]
  },
  {
   "cell_type": "code",
   "execution_count": 79,
   "id": "b30ea17b",
   "metadata": {},
   "outputs": [
    {
     "data": {
      "text/plain": [
       "True"
      ]
     },
     "execution_count": 79,
     "metadata": {},
     "output_type": "execute_result"
    }
   ],
   "source": [
    "''' \n",
    "Input: ransomNote = \"aa\", magazine = \"aab\"\n",
    "Output: true\n",
    "\n",
    "Given two strings ransomNote and magazine, return true if ransomNote can be constructed by using the letters from magazine and false otherwise.\n",
    "\n",
    "Each letter in magazine can only be used once in ransomNote.\n",
    "'''\n",
    "from collections import Counter\n",
    "class Solution:\n",
    "    def canConstruct(self, ransomNote: str, magazine: str) -> bool:\n",
    "        ransom_map = Counter(ransomNote)\n",
    "        magazine_map = Counter(magazine)\n",
    "        for key, value in ransom_map.items():\n",
    "            if key in magazine_map and magazine_map[key] >= value:\n",
    "                continue\n",
    "            else:\n",
    "                return False \n",
    "        return True \n",
    "    \n",
    "\n",
    "solution = Solution()\n",
    "solution.canConstruct(ransomNote = \"aa\", magazine = \"aab\")"
   ]
  },
  {
   "cell_type": "code",
   "execution_count": 81,
   "id": "94b73a9f",
   "metadata": {},
   "outputs": [
    {
     "data": {
      "text/plain": [
       "True"
      ]
     },
     "execution_count": 81,
     "metadata": {},
     "output_type": "execute_result"
    }
   ],
   "source": [
    "''' \n",
    "Input: nums = [1,2,3,1], k = 3\n",
    "Output: true\n",
    "\n",
    "Given an integer array nums and an integer k, return true if there are two distinct indices i and j in the array such that nums[i] == nums[j] and abs(i - j) <= k.\n",
    "'''\n",
    "class Solution:\n",
    "    def containsNearbyDuplicate(self, nums: List[int], k: int) -> bool:\n",
    "        hash_map = {}\n",
    "        for i, num in enumerate(nums):\n",
    "            if num in hash_map and i - hash_map[num] <= k:\n",
    "                return True \n",
    "            else:\n",
    "                hash_map[num] = i \n",
    "        return False \n",
    "    \n",
    "solution = Solution()\n",
    "solution.containsNearbyDuplicate([1, 2, 3, 1], 3)\n"
   ]
  },
  {
   "cell_type": "code",
   "execution_count": 87,
   "id": "a376f62b",
   "metadata": {},
   "outputs": [
    {
     "data": {
      "text/plain": [
       "[['eat', 'tea', 'ate'], ['tan', 'nat'], ['bat']]"
      ]
     },
     "execution_count": 87,
     "metadata": {},
     "output_type": "execute_result"
    }
   ],
   "source": [
    "'''\n",
    "Input: strs = [\"eat\",\"tea\",\"tan\",\"ate\",\"nat\",\"bat\"]\n",
    "\n",
    "Output: [[\"bat\"],[\"nat\",\"tan\"],[\"ate\",\"eat\",\"tea\"]]\n",
    "'''\n",
    "\n",
    "class Solution:\n",
    "\n",
    "    def sort(self, str):\n",
    "        return \"\".join(sorted(str))\n",
    "\n",
    "    def groupAnagrams(self, strs):\n",
    "        hash_map = {}\n",
    "        for str in strs:\n",
    "            sorted_str = self.sort(str)\n",
    "            if sorted_str in hash_map:\n",
    "                hash_map.get(sorted_str).append(str)\n",
    "            else:\n",
    "                hash_map[sorted_str] = [str]\n",
    "        return [value for value in hash_map.values()]\n",
    "    \n",
    "solution = Solution()\n",
    "solution.groupAnagrams([\"eat\",\"tea\",\"tan\",\"ate\",\"nat\",\"bat\"])\n",
    "\n"
   ]
  },
  {
   "cell_type": "code",
   "execution_count": 93,
   "id": "9d3ec5f3",
   "metadata": {},
   "outputs": [
    {
     "data": {
      "text/plain": [
       "'hhhhhhhhhhhhhhhhhhhhhhhhh'"
      ]
     },
     "execution_count": 93,
     "metadata": {},
     "output_type": "execute_result"
    }
   ],
   "source": [
    "class Codec:\n",
    "\n",
    "    def __init__(self):\n",
    "        self.encode_map = {}\n",
    "        self.decode_map = {}\n",
    "        self.base_url = \"https:/tinyUrl.com/\"\n",
    "\n",
    "    \n",
    "    def encode(self, long_url):\n",
    "        if long_url not in self.encode_map:\n",
    "            short_url = self.base_url + str(len(self.encode_map))\n",
    "            self.encode_map[long_url] = short_url\n",
    "            self.decode_map[short_url] = long_url\n",
    "            return short_url\n",
    "        return self.encode_map[long_url]\n",
    "    \n",
    "    def decode(self, short_url):\n",
    "        return self.decode_map[short_url] if short_url in self.decode_map else -1\n",
    " \n",
    "\n",
    "codeC = Codec()\n",
    "codeC.encode('hhhhhhhhhhhhhhhhhhhhhhhhh')\n",
    "codeC.decode('https:/tinyUrl.com/0')\n",
    " "
   ]
  },
  {
   "cell_type": "code",
   "execution_count": 97,
   "id": "6fc49568",
   "metadata": {},
   "outputs": [
    {
     "data": {
      "text/plain": [
       "4"
      ]
     },
     "execution_count": 97,
     "metadata": {},
     "output_type": "execute_result"
    }
   ],
   "source": [
    "''' \n",
    "Input: nums = [100,4,200,1,3,2]\n",
    "Output: 4\n",
    "Explanation: The longest consecutive elements sequence is [1, 2, 3, 4]. Therefore its length is 4.\n",
    "'''\n",
    "\n",
    "class Solution:\n",
    "    def longestConsecutive(self, nums: List[int]) -> int:\n",
    "        num_set = set(nums)\n",
    "        max_len = 0\n",
    "        for num in nums:\n",
    "            if num - 1 in num_set:\n",
    "                continue\n",
    "            length = 0 \n",
    "            while num + length in num_set:\n",
    "                length += 1\n",
    "            max_len = max(max_len, length)\n",
    "        return max_len \n",
    "    \n",
    "\n",
    "solution = Solution()\n",
    "solution.longestConsecutive([100,4,200,1,3,2])"
   ]
  },
  {
   "cell_type": "code",
   "execution_count": 105,
   "id": "9410d0da",
   "metadata": {},
   "outputs": [
    {
     "data": {
      "text/plain": [
       "'aba'"
      ]
     },
     "execution_count": 105,
     "metadata": {},
     "output_type": "execute_result"
    }
   ],
   "source": [
    "''' \n",
    "Example 1:\n",
    "\n",
    "Input: s = \"aab\"\n",
    "Output: \"aba\"\n",
    "\n",
    "Example 2:\n",
    "\n",
    "Input: s = \"aaab\"\n",
    "Output: \"\"\n",
    "'''\n",
    "import heapq \n",
    "from collections import Counter\n",
    "\n",
    "class Solution:\n",
    "    def reorganizeString(self, s: str) -> str:\n",
    "        counter = Counter(s)\n",
    "        max_heap = [(-cnt, key) for key, cnt in counter.items()]\n",
    "        heapq.heapify(max_heap)\n",
    "        prev = None \n",
    "        res = \"\"\n",
    "        while max_heap or prev:\n",
    "            if prev and not max_heap:\n",
    "                return \"\"\n",
    "            \n",
    "            cnt, key = heapq.heappop(max_heap)\n",
    "            res += key\n",
    "            cnt += 1 \n",
    "\n",
    "            if prev:\n",
    "                heapq.heappush(max_heap, prev)\n",
    "                prev = None \n",
    "            if cnt != 0:\n",
    "                prev = (cnt, key)\n",
    "            \n",
    "        return res \n",
    "    \n",
    "solution = Solution()\n",
    "solution.reorganizeString(\"aab\")"
   ]
  },
  {
   "cell_type": "code",
   "execution_count": 108,
   "id": "57ff6bb6",
   "metadata": {},
   "outputs": [
    {
     "data": {
      "text/plain": [
       "True"
      ]
     },
     "execution_count": 108,
     "metadata": {},
     "output_type": "execute_result"
    }
   ],
   "source": [
    "from collections import Counter\n",
    "class Solution:\n",
    "    def isPossible(self, nums):\n",
    "        freq = Counter(nums)\n",
    "        need = Counter()\n",
    "        for num in nums:\n",
    "            if freq[num] == 0:\n",
    "                continue\n",
    "            elif need[num] > 0:\n",
    "                need[num] -= 1\n",
    "                need[num + 1] += 1  \n",
    "            elif freq[num + 1] > 0 and freq[num + 2] > 0:\n",
    "                freq[num + 1] -= 1\n",
    "                freq[num + 2] -= 1\n",
    "                need[num + 3] = 1\n",
    "            else:\n",
    "                return False\n",
    "            freq[num] -= 1\n",
    "        return True\n",
    "\n",
    "\n",
    "solution = Solution()\n",
    "solution.isPossible([1, 2, 3, 3, 4, 5])"
   ]
  },
  {
   "cell_type": "code",
   "execution_count": null,
   "id": "658329e7",
   "metadata": {},
   "outputs": [],
   "source": []
  },
  {
   "cell_type": "code",
   "execution_count": 110,
   "id": "a8114a8c",
   "metadata": {},
   "outputs": [
    {
     "data": {
      "text/plain": [
       "[1, 2, 2, 3, 5, 6]"
      ]
     },
     "execution_count": 110,
     "metadata": {},
     "output_type": "execute_result"
    }
   ],
   "source": [
    "'''\n",
    "Input: nums1 = [1,2,3,0,0,0], m = 3, nums2 = [2,5,6], n = 3\n",
    "Output: [1,2,2,3,5,6]\n",
    "Explanation: The arrays we are merging are [1,2,3] and [2,5,6].\n",
    "The result of the merge is [1,2,2,3,5,6] with the underlined elements coming from nums1.\n",
    "'''\n",
    "\n",
    "from typing import List\n",
    "\n",
    "class Solution:\n",
    "    def merge(self, nums1: List[int], m: int, nums2: List[int], n: int) -> None:\n",
    "        r = m + n - 1\n",
    "        while m > 0 and n > 0:\n",
    "            if nums1[m - 1] > nums2[n - 1]:\n",
    "                nums1[r] = nums1[m - 1]\n",
    "                m -= 1\n",
    "            else:\n",
    "                nums1[r] = nums2[n - 1]\n",
    "                n -= 1\n",
    "            r -= 1\n",
    "        while n > 0:\n",
    "            nums1[r] = nums2[n - 1]\n",
    "            n -= 1 \n",
    "            r -= 1\n",
    "\n",
    "        return nums1\n",
    "    \n",
    "solution = Solution()\n",
    "solution.merge(nums1 = [1,2,3,0,0,0], m = 3, nums2 = [2,5,6], n = 3)"
   ]
  },
  {
   "cell_type": "code",
   "execution_count": 112,
   "id": "34390bd6",
   "metadata": {},
   "outputs": [
    {
     "data": {
      "text/plain": [
       "[1, 2]"
      ]
     },
     "execution_count": 112,
     "metadata": {},
     "output_type": "execute_result"
    }
   ],
   "source": [
    "''' \n",
    "Input: numbers = [2,7,11,15], target = 9\n",
    "Output: [1,2]\n",
    "Explanation: The sum of 2 and 7 is 9. Therefore, index1 = 1, index2 = 2. We return [1, 2].\n",
    "'''\n",
    "\n",
    "class Solution:\n",
    "    def twoSum(self, numbers: List[int], target: int) -> List[int]:\n",
    "        l, r = 0, len(numbers) - 1\n",
    "        while l < r:\n",
    "            two_sum = numbers[l] + numbers[r]\n",
    "            if two_sum == target:\n",
    "                return [l + 1, r + 1]\n",
    "            elif two_sum > target:\n",
    "                r -= 1\n",
    "            else:\n",
    "                l += 1\n",
    "        return [-1, -1]\n",
    "    \n",
    "solution = Solution()\n",
    "solution.twoSum(numbers = [2,7,11,15], target = 9)"
   ]
  },
  {
   "cell_type": "code",
   "execution_count": 113,
   "id": "037ea7a4",
   "metadata": {},
   "outputs": [
    {
     "data": {
      "text/plain": [
       "49"
      ]
     },
     "execution_count": 113,
     "metadata": {},
     "output_type": "execute_result"
    }
   ],
   "source": [
    "''' \n",
    "Input: height = [1,8,6,2,5,4,8,3,7]\n",
    "Output: 49\n",
    "Explanation: The above vertical lines are represented by array [1,8,6,2,5,4,8,3,7]. In this case, the max area of water (blue section) the container can contain is 49.\n",
    "'''\n",
    "\n",
    "class Solution:\n",
    "    def maxArea(self, height: List[int]) -> int:\n",
    "        l = 0 \n",
    "        r = len(height) - 1\n",
    "        max_water = float('-inf')\n",
    "        while l < r:\n",
    "            area = (r - l) * (min(height[l], height[r]))\n",
    "            max_water = max(max_water, area)\n",
    "            if height[l] > height[r]:\n",
    "                r -= 1\n",
    "            else:\n",
    "                l += 1\n",
    "        return max_water\n",
    "    \n",
    "solution = Solution()\n",
    "solution.maxArea([1,8,6,2,5,4,8,3,7])"
   ]
  },
  {
   "cell_type": "code",
   "execution_count": 123,
   "id": "b8d79430",
   "metadata": {},
   "outputs": [
    {
     "data": {
      "text/plain": [
       "[[-1, -1, 2], [-1, 0, 1]]"
      ]
     },
     "execution_count": 123,
     "metadata": {},
     "output_type": "execute_result"
    }
   ],
   "source": [
    "''' \n",
    "Input: nums = [-1,0,1,2,-1,-4]\n",
    "Output: [[-1,-1,2],[-1,0,1]]\n",
    "Explanation: \n",
    "nums[0] + nums[1] + nums[2] = (-1) + 0 + 1 = 0.\n",
    "nums[1] + nums[2] + nums[4] = 0 + 1 + (-1) = 0.\n",
    "nums[0] + nums[3] + nums[4] = (-1) + 2 + (-1) = 0.\n",
    "The distinct triplets are [-1,0,1] and [-1,-1,2].\n",
    "Notice that the order of the output and the order of the triplets does not matter.\n",
    "'''\n",
    "\n",
    "class Solution:\n",
    "    def threeSum(self, nums: List[int]) -> List[List[int]]:\n",
    "        nums.sort()\n",
    "        res = []\n",
    "        for i in range(len(nums) - 2):\n",
    "            if i > 0 and nums[i - 1] == nums[i]:\n",
    "                continue\n",
    "\n",
    "            l, r = i + 1, len(nums) - 1\n",
    "            while l < r:\n",
    "                three_sum = nums[i] + nums[l] + nums[r]\n",
    "                if three_sum == 0:\n",
    "                    res.append([nums[i], nums[l], nums[r]])\n",
    "                    l += 1\n",
    "                    r -= 1\n",
    "                    while l < r and nums[l] == nums[l - 1]:\n",
    "                        l += 1\n",
    "                    while l < r and nums[r] == nums[r + 1]:\n",
    "                        r -= 1\n",
    "                elif three_sum > 0:\n",
    "                    r -= 1\n",
    "                else:\n",
    "                    l += 1\n",
    "        return res \n",
    "    \n",
    "solution = Solution()\n",
    "solution.threeSum([-1,0,1,2,-1,-4])\n"
   ]
  },
  {
   "cell_type": "code",
   "execution_count": null,
   "id": "653b9d3f",
   "metadata": {},
   "outputs": [
    {
     "data": {
      "text/plain": [
       "6"
      ]
     },
     "execution_count": 129,
     "metadata": {},
     "output_type": "execute_result"
    }
   ],
   "source": [
    "''' \n",
    "Input: height = [0,1,0,2,1,0,1,3,2,1,2,1]\n",
    "Output: 6\n",
    "'''\n",
    "\n",
    "class Solution:\n",
    "    def trap(self, height):\n",
    "        if not height: \n",
    "            return 0 \n",
    "        \n",
    "        l, r = 0, len(height) - 1\n",
    "        left_max, right_max = height[l], height[r] \n",
    "        res = 0\n",
    "        while l < r:\n",
    "            if left_max < right_max:\n",
    "                l += 1                                    # as first block we cannot trap \n",
    "                left_max = max(left_max, height[l])\n",
    "                res += left_max - height[l]\n",
    "            else:\n",
    "                r -= 1                                    # as last block we cannot trap \n",
    "                right_max = max(right_max, height[r])    \n",
    "                res += right_max - height[r]\n",
    "        return res \n",
    "    \n",
    "\n",
    "solution = Solution()\n",
    "solution.trap([0,1,0,2,1,0,1,3,2,1,2,1])"
   ]
  },
  {
   "cell_type": "code",
   "execution_count": 135,
   "id": "1bd67f33",
   "metadata": {},
   "outputs": [
    {
     "data": {
      "text/plain": [
       "1"
      ]
     },
     "execution_count": 135,
     "metadata": {},
     "output_type": "execute_result"
    }
   ],
   "source": [
    "''' \n",
    "303. Range Sum Query - Immutable\n",
    "\n",
    "[[[-2, 0, 3, -5, 2, -1]], [0, 2], [2, 5], [0, 5]]\n",
    "'''\n",
    "from typing import List \n",
    "\n",
    "class NumArray:\n",
    "\n",
    "    def __init__(self, nums: List[int]):\n",
    "        self.prefix_sum = []\n",
    "        prefix_sum = 0\n",
    "        for num in nums:\n",
    "            prefix_sum += num\n",
    "            self.prefix_sum.append(prefix_sum) \n",
    "\n",
    "    def sumRange(self, left: int, right: int) -> int:\n",
    "        left_prefix_sum = self.prefix_sum[left - 1] if left > 0 else 0\n",
    "        right_prefix_sum = self.prefix_sum[right]\n",
    "        return right_prefix_sum - left_prefix_sum\n",
    "\n",
    "\n",
    "numArray = NumArray([-2, 0, 3, -5, 2, -1])\n",
    "numArray.sumRange(0, 2)"
   ]
  },
  {
   "cell_type": "code",
   "execution_count": 137,
   "id": "baee1741",
   "metadata": {},
   "outputs": [
    {
     "data": {
      "text/plain": [
       "2"
      ]
     },
     "execution_count": 137,
     "metadata": {},
     "output_type": "execute_result"
    }
   ],
   "source": [
    "''' \n",
    "Input: nums = [1,1,1], k = 2\n",
    "Output: 2\n",
    "'''\n",
    "\n",
    "class Solution:\n",
    "    def subarraySum(self, nums: List[int], k: int) -> int:\n",
    "        prefix_map = {0 : 1}\n",
    "        prefix_sum = 0 \n",
    "        res = 0 \n",
    "        for num in nums:\n",
    "            prefix_sum += num \n",
    "            if prefix_sum - k in prefix_map:\n",
    "                res += prefix_map[prefix_sum - k]\n",
    "            prefix_map[prefix_sum] = prefix_map.get(prefix_sum, 0) + 1\n",
    "        return res \n",
    "    \n",
    "solution = Solution()\n",
    "solution.subarraySum([1, 1, 1], 2)"
   ]
  },
  {
   "cell_type": "code",
   "execution_count": 143,
   "id": "a6f4341f",
   "metadata": {},
   "outputs": [
    {
     "data": {
      "text/plain": [
       "6"
      ]
     },
     "execution_count": 143,
     "metadata": {},
     "output_type": "execute_result"
    }
   ],
   "source": [
    "''' \n",
    "Input: nums = [0,1]\n",
    "Output: 2\n",
    "Explanation: [0, 1] is the longest contiguous subarray with an equal number of 0 and 1.\n",
    "'''\n",
    "\n",
    "''' \n",
    "steps    input    prefix_sum   max_len         prefix_sum_map  \n",
    "0\t\t  0        -1           0               { 0: -1, -1: 0}\n",
    "1         1\t\t\t0\t\t\t1 - (-1) = 2\t{ 0: -1, -1: 0}\n",
    "2\t\t  1         1   \t\t2\t\t\t\t{ 0: -1, -1: 1: 2}\n",
    "3\t      1         2           2               { 0: -1, -1: 1: 2, 2: 3}\n",
    "4\t\t  1         3           2         \t    { 0: -1, -1: 1: 2, 2: 3, 3: 4}\n",
    "5\t\t  1         4           2               { 0: -1, -1: 1: 2, 2: 3, 3: 4, 4: 5}\n",
    "6         0         3           6 - (4) = 2\t\t{ 0: -1, -1: 1: 2, 2: 3, 3: 4, 4: 5}\n",
    "7         0         2           7 - (3) = 4\t\t{ 0: -1, -1: 1: 2, 2: 3, 3: 4, 4: 5}\n",
    "8         0         1           8 - (2) = 6\t    { 0: -1, -1: 1: 2, 2: 3, 3: 4, 4: 5}\n",
    "'''\n",
    "\n",
    "class Solution:\n",
    "    def findMaxLength(self, nums: List[int]) -> int:\n",
    "        prefix_map = {0 : -1}\n",
    "        max_length = 0\n",
    "        prefix_sum = 0\n",
    "        for i, num in enumerate(nums):\n",
    "            prefix_sum += 1 if num == 1 else -1\n",
    "            if prefix_sum in prefix_map:\n",
    "                max_length = max(max_length, i - prefix_map[prefix_sum])\n",
    "            else:\n",
    "                prefix_map[prefix_sum] = i \n",
    "        return max_length \n",
    "    \n",
    "solution = Solution()\n",
    "solution.findMaxLength([0,1,1,1,1,1,0,0,0])"
   ]
  },
  {
   "cell_type": "code",
   "execution_count": 151,
   "id": "45cb0bbe",
   "metadata": {},
   "outputs": [
    {
     "data": {
      "text/plain": [
       "True"
      ]
     },
     "execution_count": 151,
     "metadata": {},
     "output_type": "execute_result"
    }
   ],
   "source": [
    "''' \n",
    "Input: nums = [23,2,4,6,7], k = 6\n",
    "Output: true\n",
    "Explanation: [2, 4] is a continuous subarray of size 2 whose elements sum up to 6.\n",
    "'''\n",
    "\n",
    "class Solution:\n",
    "    def checkSubarraySum(self, nums: List[int], k: int) -> bool:\n",
    "        remainder_map = {0 : -1}\n",
    "        prefix_sum = 0\n",
    "        for i, num in enumerate(nums):\n",
    "            prefix_sum += num\n",
    "            remainder = prefix_sum % k \n",
    "            if remainder in remainder_map and i - remainder_map[remainder] > 1:\n",
    "                return True \n",
    "            else:\n",
    "                remainder_map[remainder] = i \n",
    "        return False \n",
    "    \n",
    "\n",
    "solution = Solution()\n",
    "solution.checkSubarraySum(nums = [3, 3], k = 6)\n"
   ]
  },
  {
   "cell_type": "code",
   "execution_count": 155,
   "id": "ecddd214",
   "metadata": {},
   "outputs": [
    {
     "data": {
      "text/plain": [
       "[0, 6]"
      ]
     },
     "execution_count": 155,
     "metadata": {},
     "output_type": "execute_result"
    }
   ],
   "source": [
    "''' \n",
    "Input: s = \"cbaebabacd\", p = \"abc\"\n",
    "Output: [0,6]\n",
    "Explanation:\n",
    "The substring with start index = 0 is \"cba\", which is an anagram of \"abc\".\n",
    "The substring with start index = 6 is \"bac\", which is an anagram of \"abc\".\n",
    "'''\n",
    "from typing import List \n",
    "from collections import Counter\n",
    "class Solution:\n",
    "    def findAnagrams(self, s: str, p: str) -> List[int]:\n",
    "        s_count = {}\n",
    "        p_count = Counter(p)\n",
    "        for i in range(len(p)):\n",
    "            s_count[s[i]] = s_count.get(s[i], 0) + 1\n",
    "        \n",
    "        res = [0] if p_count == s_count else []\n",
    "        l = 0\n",
    "        for r in range(len(p), len(s)):\n",
    "            s_count[s[r]] = s_count.get(s[r], 0) + 1\n",
    "            s_count[s[l]] = s_count.get(s[l]) - 1\n",
    "            if s_count[s[l]] == 0:\n",
    "                s_count.pop(s[l])\n",
    "            l += 1\n",
    "            if s_count == p_count:\n",
    "                res.append(l)\n",
    "        return res\n",
    "    \n",
    "solution = Solution()\n",
    "solution.findAnagrams(s = \"cbaebabacd\", p = \"abc\")"
   ]
  },
  {
   "cell_type": "code",
   "execution_count": 157,
   "id": "713be864",
   "metadata": {},
   "outputs": [
    {
     "data": {
      "text/plain": [
       "True"
      ]
     },
     "execution_count": 157,
     "metadata": {},
     "output_type": "execute_result"
    }
   ],
   "source": [
    "''' \n",
    "Input: s1 = \"ab\", s2 = \"eidbaooo\"\n",
    "Output: true\n",
    "Explanation: s2 contains one permutation of s1 (\"ba\").\n",
    "'''\n",
    "\n",
    "class Solution:\n",
    "    def checkInclusion(self, s1: str, s2: str) -> bool:\n",
    "        s, p = s2, s1\n",
    "        s_count = {}\n",
    "        p_count = Counter(p)\n",
    "        for i in range(len(p)):\n",
    "            s_count[s[i]] = s_count.get(s[i], 0) + 1\n",
    "        \n",
    "        if p_count == s_count:\n",
    "            return True\n",
    "        l = 0\n",
    "        for r in range(len(p), len(s)):\n",
    "            s_count[s[r]] = s_count.get(s[r], 0) + 1\n",
    "            s_count[s[l]] = s_count.get(s[l]) - 1\n",
    "            if s_count[s[l]] == 0:\n",
    "                s_count.pop(s[l])\n",
    "            l += 1\n",
    "            if s_count == p_count:\n",
    "                return True\n",
    "        return res\n",
    "    \n",
    "solution = Solution()\n",
    "solution.checkInclusion(s1 = \"ab\", s2 = \"eidbaooo\")"
   ]
  },
  {
   "cell_type": "code",
   "execution_count": 159,
   "id": "1c369b75",
   "metadata": {},
   "outputs": [
    {
     "data": {
      "text/plain": [
       "3"
      ]
     },
     "execution_count": 159,
     "metadata": {},
     "output_type": "execute_result"
    }
   ],
   "source": [
    "''' \n",
    "Input: s = \"abcabcbb\"\n",
    "Output: 3\n",
    "Explanation: The answer is \"abc\", with the length of 3.\n",
    "'''\n",
    "\n",
    "class Solution:\n",
    "    def lengthOfLongestSubstring(self, s: str) -> int:\n",
    "        s_map = {}\n",
    "        l = 0\n",
    "        max_len = 0\n",
    "        for r in range(len(s)):\n",
    "            while s[r] in s_map:\n",
    "                s_map.pop(s[l])\n",
    "                l += 1\n",
    "            s_map[s[r]] = 1\n",
    "            max_len = max(max_len, r - l + 1)\n",
    "        return max_len\n",
    "    \n",
    "solution = Solution()\n",
    "solution.lengthOfLongestSubstring(\"abcabcbb\")\n"
   ]
  },
  {
   "cell_type": "code",
   "execution_count": 183,
   "id": "9d87f3f0",
   "metadata": {},
   "outputs": [
    {
     "data": {
      "text/plain": [
       "3"
      ]
     },
     "execution_count": 183,
     "metadata": {},
     "output_type": "execute_result"
    }
   ],
   "source": [
    "''' \n",
    "Input: s = \"abcabcbb\"\n",
    "Output: 3\n",
    "Explanation: The answer is \"abc\", with the length of 3.\n",
    "'''\n",
    "\n",
    "class Solution:\n",
    "    def lengthOfLongestSubstring(self, s: str) -> int:\n",
    "        s_set = set()\n",
    "        l = 0\n",
    "        max_len = 0 \n",
    "        for r in range(len(s)):\n",
    "            while s[r] in s_set:\n",
    "                s_set.remove(s[l])\n",
    "                l += 1\n",
    "            s_set.add(s[r])\n",
    "            max_len = max(max_len, r - l + 1)\n",
    "        return max_len\n",
    "    \n",
    "solution = Solution()\n",
    "solution.lengthOfLongestSubstring(\"abcabcbb\")"
   ]
  },
  {
   "cell_type": "code",
   "execution_count": 175,
   "id": "6a170fb7",
   "metadata": {},
   "outputs": [
    {
     "name": "stdout",
     "output_type": "stream",
     "text": [
      "{'a', 'b', 'c'}\n"
     ]
    }
   ],
   "source": [
    "a_set = set()\n",
    "for r in 'abc':\n",
    "    a_set.add(r)\n",
    "print(a_set)"
   ]
  },
  {
   "cell_type": "code",
   "execution_count": 168,
   "id": "d7eebdfe",
   "metadata": {},
   "outputs": [
    {
     "data": {
      "text/plain": [
       "'BANC'"
      ]
     },
     "execution_count": 168,
     "metadata": {},
     "output_type": "execute_result"
    }
   ],
   "source": [
    "''' \n",
    "Input: s = \"ADOBECODEBANC\", t = \"ABC\"\n",
    "Output: \"BANC\"\n",
    "Explanation: The minimum window substring \"BANC\" includes 'A', 'B', and 'C' from string t.\n",
    "A\tD\tO\tB\tE\tC\tO\tD\tE\tB\tA\tN\tC\n",
    "0\t1\t2\t3\t4\t5\t6\t7\t8\t9\t10\t11\t12\n",
    "'''\n",
    "from collections import Counter\n",
    "\n",
    "class Solution:\n",
    "    def minWindow(self, s: str, t: str) -> str:\n",
    "        if len(t) > len(s):\n",
    "            return \"\"\n",
    "        res_len = float('inf')\n",
    "        s_map = {}\n",
    "        t_map = Counter(t)\n",
    "        have, need = 0, len(t_map)\n",
    "        l = 0\n",
    "        res = [-1, -1]\n",
    "        for r in range(len(s)):\n",
    "            c = s[r]\n",
    "            s_map[c] = s_map.get(c, 0) + 1\n",
    "            if c in t_map and s_map[c] == t_map[c]:\n",
    "                have += 1\n",
    "            \n",
    "            while have == need:\n",
    "                if res_len > r - l + 1:\n",
    "                    res_len = r - l + 1\n",
    "                    res = [l, r]\n",
    "                s_map[s[l]] -= 1\n",
    "                if s[l] in t_map and s_map[s[l]] < t_map[s[l]]:\n",
    "                    have -= 1\n",
    "                l += 1\n",
    "        l, r = res \n",
    "        return s[l:r + 1] if res_len != float('inf') else \"\"\n",
    "\n",
    "solution = Solution()\n",
    "solution.minWindow(s = \"ADOBECODEBANC\", t = \"ABC\")                "
   ]
  },
  {
   "cell_type": "code",
   "execution_count": 196,
   "id": "52223c88",
   "metadata": {},
   "outputs": [
    {
     "data": {
      "text/plain": [
       "6"
      ]
     },
     "execution_count": 196,
     "metadata": {},
     "output_type": "execute_result"
    }
   ],
   "source": [
    "''' \n",
    "Input: nums = [-2,1,-3,4,-1,2,1,-5,4]\n",
    "Output: 6\n",
    "Explanation: The subarray [4,-1,2,1] has the largest sum 6.\n",
    "'''\n",
    "from typing import List\n",
    "\n",
    "class Solution:\n",
    "    def maxSubArray(self, nums: List[int]) -> int:\n",
    "        max_sum = float('-inf')\n",
    "        curr_sum = float('-inf')\n",
    "        for num in nums:\n",
    "            curr_sum = max(num, curr_sum + num)\n",
    "            max_sum = max(max_sum, curr_sum)\n",
    "        return max_sum\n",
    "    \n",
    "solution = Solution()\n",
    "solution.maxSubArray([-2,1,-3,4,-1,2,1,-5,4])"
   ]
  },
  {
   "cell_type": "code",
   "execution_count": 201,
   "id": "16e841bc",
   "metadata": {},
   "outputs": [
    {
     "data": {
      "text/plain": [
       "6"
      ]
     },
     "execution_count": 201,
     "metadata": {},
     "output_type": "execute_result"
    }
   ],
   "source": [
    "''' \n",
    "Input: nums = [2,3,-2,4]\n",
    "Output: 6\n",
    "Explanation: [2,3] has the largest product 6.\n",
    "'''\n",
    "\n",
    "class Solution:\n",
    "    def maxProduct(self, nums):\n",
    "        max_prod = float('-inf')\n",
    "        left_prod, right_prod = 1, 1\n",
    "        for i in range(len(nums)):\n",
    "            left_prod *= 1 if nums[i] == 0 else nums[i]\n",
    "            right_prod *= 1 if nums[len(nums) -1 - i] == 0 else nums[len(nums) -1 - i]\n",
    "\n",
    "\n",
    "            max_prod = max(max_prod, max(left_prod, right_prod))\n",
    "        return max_prod\n",
    "    \n",
    "solution = Solution()\n",
    "solution.maxProduct([2,3,-2,4])\n"
   ]
  },
  {
   "cell_type": "code",
   "execution_count": 210,
   "id": "15475e20",
   "metadata": {},
   "outputs": [
    {
     "data": {
      "text/plain": [
       "[1, 2, 3, 6, 9, 8, 7, 4, 5]"
      ]
     },
     "execution_count": 210,
     "metadata": {},
     "output_type": "execute_result"
    }
   ],
   "source": [
    "''' \n",
    "Input: matrix = [[1,2,3],[4,5,6],[7,8,9]]\n",
    "Output: [1,2,3,6,9,8,7,4,5]\n",
    "'''\n",
    "from typing import List\n",
    "\n",
    "class Solution:\n",
    "    def spiralOrder(self, matrix: List[List[int]]) -> List[int]:\n",
    "        top, bottom = 0, len(matrix)\n",
    "        left, right = 0, len(matrix[0])\n",
    "        res = []\n",
    "        while top < bottom and left < right:\n",
    "            for i in range(left, right):\n",
    "                res.append(matrix[top][i])\n",
    "            top += 1\n",
    "            \n",
    "            for i in range(top, bottom):\n",
    "                res.append(matrix[i][right - 1])\n",
    "            right -= 1\n",
    "\n",
    "            if not (top < bottom and left < right):\n",
    "                break\n",
    "            \n",
    "            for i in range(right - 1, left - 1, -1):\n",
    "                res.append(matrix[bottom - 1][i])\n",
    "            bottom -= 1\n",
    "\n",
    "            for i in range(bottom - 1, top - 1, -1):\n",
    "                res.append(matrix[i][left])\n",
    "            left += 1\n",
    "        return res\n",
    "\n",
    "solution = Solution()\n",
    "solution.spiralOrder([[1,2,3],[4,5,6],[7,8,9]])\n",
    "            \n"
   ]
  },
  {
   "cell_type": "code",
   "execution_count": 213,
   "id": "e86fa275",
   "metadata": {},
   "outputs": [
    {
     "data": {
      "text/plain": [
       "[[7, 4, 1], [8, 5, 2], [9, 6, 3]]"
      ]
     },
     "execution_count": 213,
     "metadata": {},
     "output_type": "execute_result"
    }
   ],
   "source": [
    "''' \n",
    "Input: matrix = [[1,2,3],[4,5,6],[7,8,9]]\n",
    "Output: [[7,4,1],[8,5,2],[9,6,3]]\n",
    "'''\n",
    "\n",
    "class Solution:\n",
    "    def rotate(self, matrix: List[List[int]]) -> None:\n",
    "        left, right = 0, len(matrix[0]) - 1\n",
    "        while left < right:\n",
    "            for i in range(right - left):\n",
    "                top, bottom = left, right\n",
    "                temp = matrix[top][left + i]\n",
    "                matrix[top][left + i] = matrix[bottom - i][left]\n",
    "                matrix[bottom - i][left] = matrix[bottom][right - i]\n",
    "                matrix[bottom][right - i] = matrix[top + i][right]\n",
    "                matrix[top + i][right] = temp \n",
    "\n",
    "            left += 1\n",
    "            right -= 1\n",
    "        return matrix\n",
    "solution = Solution()\n",
    "solution.rotate([[1,2,3],[4,5,6],[7,8,9]])"
   ]
  },
  {
   "cell_type": "code",
   "execution_count": 223,
   "id": "661c2481",
   "metadata": {},
   "outputs": [
    {
     "data": {
      "text/plain": [
       "[[1, 0, 1], [0, 0, 0], [1, 0, 1]]"
      ]
     },
     "execution_count": 223,
     "metadata": {},
     "output_type": "execute_result"
    }
   ],
   "source": [
    "''' \n",
    "Input: matrix = [[1,1,1],[1,0,1],[1,1,1]]\n",
    "Output: [[1,0,1],[0,0,0],[1,0,1]]\n",
    "'''\n",
    "\n",
    "class Solution:\n",
    "    def setZeroes(self, matrix: List[List[int]]) -> None:\n",
    "        \"\"\"\n",
    "        Do not return anything, modify matrix in-place instead.\n",
    "        \"\"\"\n",
    "        rows = len(matrix)\n",
    "        cols = len(matrix[0])\n",
    "        first_row, first_col = False, False\n",
    "        for i in range(rows):\n",
    "            for j in range(cols):\n",
    "                if matrix[i][j] == 0:\n",
    "                    if i == 0:\n",
    "                        first_row = True \n",
    "                    \n",
    "                    if j == 0:\n",
    "                        first_col = True \n",
    "                    matrix[i][0] = 0 \n",
    "                    matrix[0][j] = 0 \n",
    "\n",
    "        for i in range(1, rows):\n",
    "            for j in range(1, cols):\n",
    "                if matrix[0][j] == 0 or matrix[i][0] == 0:\n",
    "                    matrix[i][j] = 0\n",
    "            \n",
    "        if first_row:\n",
    "            for i in range(rows):\n",
    "                matrix[0][i] = 0 \n",
    "\n",
    "        if first_col:\n",
    "            for i in range(cols):\n",
    "                matrix[i][0] = 0 \n",
    "        \n",
    "        return matrix\n",
    "    \n",
    "solution = Solution()\n",
    "solution.setZeroes([[1,1,1],[1,0,1],[1,1,1]])\n"
   ]
  },
  {
   "cell_type": "code",
   "execution_count": 232,
   "metadata": {},
   "outputs": [],
   "source": [
    "''' \n",
    "Input: intersectVal = 8, listA = [4,1,8,4,5], listB = [5,6,1,8,4,5], skipA = 2, skipB = 3\n",
    "Output: Intersected at '8'\n",
    "'''\n",
    "from typing import List, Optional\n",
    "\n",
    "# Definition for singly-linked list.\n",
    "class ListNode:\n",
    "    def __init__(self, x, next = None):\n",
    "        self.val = x\n",
    "        self.next = next\n",
    "\n",
    "class Solution:\n",
    "    def getIntersectionNode(self, headA: ListNode, headB: ListNode) -> Optional[ListNode]:\n",
    "        l1 = headA\n",
    "        l2 = headB \n",
    "        while l1 != l2:\n",
    "            l1 = l1.next if l1 else headB\n",
    "            l2 = l2.next if l2 else headA\n",
    "        return l1\n",
    "\n",
    "solution = Solution()\n",
    "# Create the shared part of the list.\n",
    "shared = ListNode(8, ListNode(4, ListNode(5)))\n",
    "\n",
    "# Build listA and listB so that they converge at 'shared'\n",
    "listA = ListNode(4, ListNode(1, shared))\n",
    "listB = ListNode(5, ListNode(6, ListNode(1)))\n",
    "solution.getIntersectionNode(listA, listB)"
   ]
  },
  {
   "cell_type": "code",
   "execution_count": null,
   "id": "f0b087f7",
   "metadata": {},
   "outputs": [
    {
     "name": "stdout",
     "output_type": "stream",
     "text": [
      "1\n",
      "2\n",
      "3\n",
      "5\n"
     ]
    }
   ],
   "source": [
    "''' \n",
    "Input: head = [1,2,3,4,5], n = 2\n",
    "Output: [1,2,3,5]\n",
    "'''\n",
    "\n",
    "class ListNode:\n",
    "    def __init__(self, val=0, next=None):\n",
    "        self.val = val\n",
    "        self.next = next\n",
    "class Solution:\n",
    "    def removeNthFromEnd(self, head, n):\n",
    "        dummy = ListNode()\n",
    "        dummy.next = head\n",
    "        slow = fast = dummy\n",
    "        \n",
    "        for _ in range(n + 1):\n",
    "            fast = fast.next\n",
    "        \n",
    "        while fast:\n",
    "            slow = slow.next\n",
    "            fast = fast.next\n",
    "        \n",
    "        if slow.next:\n",
    "            slow.next = slow.next.next \n",
    "        \n",
    "        return dummy.next \n",
    "    \n",
    "def print_list(head):\n",
    "        temp = head \n",
    "        while temp:\n",
    "            print(temp.val)\n",
    "            temp = temp.next\n",
    "    \n",
    "solution = Solution()\n",
    "print_list(solution.removeNthFromEnd(ListNode(1, ListNode(2, ListNode(3, ListNode(4, ListNode(5))))), 2))\n"
   ]
  },
  {
   "cell_type": "code",
   "execution_count": 241,
   "metadata": {},
   "outputs": [
    {
     "name": "stdout",
     "output_type": "stream",
     "text": [
      "2\n",
      "1\n",
      "4\n",
      "3\n"
     ]
    }
   ],
   "source": [
    "''' \n",
    "Input: head = [1,2,3,4]\n",
    "\n",
    "Output: [2,1,4,3]\n",
    "'''\n",
    "\n",
    "class ListNode:\n",
    "    def __init__(self, val=0, next=None):\n",
    "        self.val = val\n",
    "        self.next = next\n",
    "class Solution:\n",
    "    def swapPairs(self, head: Optional[ListNode]) -> Optional[ListNode]:\n",
    "        dummy = ListNode()\n",
    "        dummy.next = head\n",
    "        prev = dummy\n",
    "        cur = prev.next\n",
    "        while cur and cur.next:\n",
    "            first = cur \n",
    "            second = cur.next \n",
    "\n",
    "            first.next = second.next\n",
    "            prev.next = second \n",
    "            second.next = first \n",
    "\n",
    "            \n",
    "            prev = first\n",
    "            cur = first.next \n",
    "        return dummy.next\n",
    "    \n",
    "solution = Solution()\n",
    "print_list(solution.swapPairs(ListNode(1, ListNode(2, ListNode(3, ListNode(4))))))"
   ]
  },
  {
   "cell_type": "code",
   "execution_count": 247,
   "metadata": {},
   "outputs": [
    {
     "name": "stdout",
     "output_type": "stream",
     "text": [
      "4\n",
      "5\n",
      "1\n",
      "2\n",
      "3\n"
     ]
    }
   ],
   "source": [
    "''' \n",
    "Input: head = [1,2,3,4,5], k = 2\n",
    "Output: [4,5,1,2,3]\n",
    "'''\n",
    "\n",
    "class ListNode:\n",
    "    def __init__(self, val=0, next=None):\n",
    "        self.val = val\n",
    "        self.next = next\n",
    "class Solution:\n",
    "    def rotateRight(self, head: Optional[ListNode], k: int) -> Optional[ListNode]:\n",
    "        if not head or not head.next or k == 0:\n",
    "            return head\n",
    "        \n",
    "        length = 1\n",
    "        tail = head \n",
    "        while tail.next:\n",
    "            tail = tail.next\n",
    "            length += 1\n",
    "\n",
    "        k = k % length\n",
    "        if k == 0:\n",
    "            return head \n",
    "        \n",
    "        new_tail = head\n",
    "        for _ in range(length - k - 1):\n",
    "            new_tail = new_tail.next \n",
    "        \n",
    "        new_head = new_tail.next\n",
    "        new_tail.next = None \n",
    "        tail.next = head \n",
    "        return new_head\n",
    "    \n",
    "solution = Solution()\n",
    "print_list(solution.rotateRight(ListNode(1, ListNode(2, ListNode(3, ListNode(4, ListNode(5))))), 2))"
   ]
  },
  {
   "cell_type": "code",
   "execution_count": 253,
   "id": "5672249c",
   "metadata": {},
   "outputs": [
    {
     "name": "stdout",
     "output_type": "stream",
     "text": [
      "7\n",
      "0\n",
      "8\n"
     ]
    }
   ],
   "source": [
    "''' \n",
    "Input: l1 = [2,4,3], l2 = [5,6,4]\n",
    "Output: [7,0,8]\n",
    "Explanation: 342 + 465 = 807.\n",
    "'''\n",
    "\n",
    "class ListNode:\n",
    "    def __init__(self, val=0, next=None):\n",
    "        self.val = val\n",
    "        self.next = next\n",
    "class Solution:\n",
    "    def addTwoNumbers(self, l1: Optional[ListNode], l2: Optional[ListNode]) -> Optional[ListNode]:\n",
    "        dummy = ListNode()\n",
    "        cur = dummy \n",
    "        carry = 0\n",
    "        while l1 or l2 or carry:\n",
    "            val1 = l1.val if l1 else 0 \n",
    "            val2 = l2.val if l2 else 0 \n",
    "\n",
    "\n",
    "            curr_sum = val1 + val2 + carry\n",
    "            carry = curr_sum // 10\n",
    "            n = curr_sum % 10 \n",
    "            cur.next = ListNode(n)\n",
    "\n",
    "            cur = cur.next \n",
    "            l1 = l1.next if l1 else None \n",
    "            l2 = l2.next if l2 else None \n",
    "        return dummy.next\n",
    "    \n",
    "\n",
    "solution = Solution()\n",
    "res = solution.addTwoNumbers(ListNode(2, ListNode(4, ListNode(3))), ListNode(5, ListNode(6, ListNode(4))))\n",
    "print_list(res)\n",
    "            \n"
   ]
  },
  {
   "cell_type": "code",
   "execution_count": 256,
   "metadata": {},
   "outputs": [
    {
     "name": "stdout",
     "output_type": "stream",
     "text": [
      "3\n",
      "4\n",
      "5\n"
     ]
    }
   ],
   "source": [
    "''' \n",
    "Input: head = [1,2,3,4,5]\n",
    "Output: [3,4,5]\n",
    "Explanation: The middle node of the list is node 3.\n",
    "'''\n",
    "\n",
    "class ListNode:\n",
    "    def __init__(self, val=0, next=None):\n",
    "        self.val = val\n",
    "        self.next = next\n",
    "class Solution:\n",
    "    def middleNode(self, head: Optional[ListNode]) -> Optional[ListNode]:\n",
    "        slow = fast = head \n",
    "        while fast and fast.next:\n",
    "            slow = slow.next \n",
    "            fast = fast.next.next\n",
    "        return slow \n",
    "    \n",
    "    \n",
    "solution = Solution()\n",
    "print_list(solution.middleNode(ListNode(1, ListNode(2, ListNode(3, ListNode(4, ListNode(5)))))))"
   ]
  },
  {
   "cell_type": "code",
   "execution_count": 258,
   "id": "707952bc",
   "metadata": {},
   "outputs": [
    {
     "name": "stdout",
     "output_type": "stream",
     "text": [
      "2\n"
     ]
    }
   ],
   "source": [
    "''' \n",
    "Input: head = [3,2,0,-4], pos = 1\n",
    "Output: tail connects to node index 1\n",
    "Explanation: There is a cycle in the linked list, where tail connects to the second node.\n",
    "'''\n",
    "\n",
    "class ListNode:\n",
    "    def __init__(self, x, next = None):\n",
    "        self.val = x\n",
    "        self.next = next\n",
    "\n",
    "class Solution:\n",
    "    def detectCycle(self, head: Optional[ListNode]) -> Optional[ListNode]:\n",
    "        slow = fast = head\n",
    "        while fast and fast.next:\n",
    "            slow = slow.next\n",
    "            fast = fast.next.next \n",
    "            if slow == fast:\n",
    "                break\n",
    "        else:\n",
    "            return None \n",
    "        \n",
    "        fast = head\n",
    "        while slow != fast:\n",
    "            slow = slow.next \n",
    "            fast = fast.next\n",
    "        return slow\n",
    "    \n",
    "# Define nodes\n",
    "node4 = ListNode(-4)\n",
    "node3 = ListNode(0, node4)\n",
    "node2 = ListNode(2, node3)\n",
    "node1 = ListNode(3, node2)\n",
    "\n",
    "# Create the cycle: last node points back to node2\n",
    "node4.next = node2\n",
    "\n",
    "# Now test\n",
    "solution = Solution()\n",
    "cycle_start = solution.detectCycle(node1)\n",
    "print(cycle_start.val if cycle_start else None)"
   ]
  },
  {
   "cell_type": "code",
   "execution_count": 260,
   "id": "5f5433ee",
   "metadata": {},
   "outputs": [
    {
     "name": "stdout",
     "output_type": "stream",
     "text": [
      "5\n",
      "4\n",
      "3\n",
      "2\n",
      "1\n"
     ]
    }
   ],
   "source": [
    "''' \n",
    "Input: head = [1,2,3,4,5]\n",
    "Output: [5,4,3,2,1]\n",
    "'''\n",
    "\n",
    "class ListNode:\n",
    "    def __init__(self, val=0, next=None):\n",
    "        self.val = val\n",
    "        self.next = next\n",
    "class Solution:\n",
    "    def reverseList(self, head: Optional[ListNode]) -> Optional[ListNode]:\n",
    "        prev = None \n",
    "        cur = head \n",
    "        while cur:\n",
    "            tmp = cur.next \n",
    "            cur.next = prev\n",
    "            prev = cur \n",
    "            cur = tmp\n",
    "        return prev\n",
    "\n",
    "solution = Solution()\n",
    "res = solution.reverseList(ListNode(1, ListNode(2, ListNode(3, ListNode(4, ListNode(5))))))\n",
    "print_list(res)\n",
    "        "
   ]
  },
  {
   "cell_type": "code",
   "execution_count": 263,
   "id": "9177c0b7",
   "metadata": {},
   "outputs": [
    {
     "name": "stdout",
     "output_type": "stream",
     "text": [
      "2\n",
      "1\n",
      "4\n",
      "3\n",
      "5\n"
     ]
    }
   ],
   "source": [
    "''' \n",
    "Input: head = [1,2,3,4,5], k = 2\n",
    "Output: [2,1,4,3,5]\n",
    "'''\n",
    "\n",
    "class ListNode:\n",
    "    def __init__(self, val=0, next=None):\n",
    "        self.val = val\n",
    "        self.next = next\n",
    "class Solution:\n",
    "    def reverseKGroup(self, head, k):\n",
    "        # Helper function to get the k-th node from the current node\n",
    "        def get_kth_node(cur, k):\n",
    "            while cur and k > 0:\n",
    "                cur = cur.next \n",
    "                k -= 1\n",
    "            return cur \n",
    "        \n",
    "        dummy = ListNode()\n",
    "        dummy.next = head\n",
    "        grp_prev = dummy\n",
    "\n",
    "        while True:\n",
    "            kth = get_kth_node(grp_prev, k)\n",
    "            if not kth:\n",
    "                break\n",
    "            grp_next = kth.next \n",
    "            cur = grp_prev.next\n",
    "            prev = grp_next\n",
    "            while cur != grp_next:\n",
    "                tmp = cur.next \n",
    "                cur.next = prev \n",
    "                prev = cur \n",
    "                cur = tmp \n",
    "            tmp = grp_prev.next\n",
    "            grp_prev.next = kth\n",
    "            grp_prev = tmp\n",
    "        return dummy.next\n",
    "\n",
    "solution = Solution()\n",
    "res = solution.reverseKGroup(ListNode(1, ListNode(2, ListNode(3, ListNode(4, ListNode(5))))), 2)\n",
    "print_list(res)"
   ]
  },
  {
   "cell_type": "code",
   "execution_count": 273,
   "id": "222ef691",
   "metadata": {},
   "outputs": [
    {
     "data": {
      "text/plain": [
       "True"
      ]
     },
     "execution_count": 273,
     "metadata": {},
     "output_type": "execute_result"
    }
   ],
   "source": [
    "''' \n",
    "Input: s = \"()[]{}\"\n",
    "\n",
    "Output: true\n",
    "'''\n",
    "\n",
    "class Solution:\n",
    "    def isValid(self, s: str) -> bool:\n",
    "        stack = []\n",
    "        for c in s:\n",
    "            if c in '([{':\n",
    "                stack.append(c)\n",
    "            else:\n",
    "                if ((c == ')' and stack[-1] == '(') or \\\n",
    "                    (c == ']' and stack[-1] == '[') or \\\n",
    "                    (c == '}' and stack[-1] == '{')):\n",
    "                    stack.pop()\n",
    "                else:\n",
    "                    return False\n",
    "        return len(stack) == 0 \n",
    "        \n",
    "solution = Solution()\n",
    "solution.isValid(\"()[]{}\")\n"
   ]
  },
  {
   "cell_type": "code",
   "execution_count": 276,
   "id": "2bbfebd1",
   "metadata": {},
   "outputs": [
    {
     "data": {
      "text/plain": [
       "'ca'"
      ]
     },
     "execution_count": 276,
     "metadata": {},
     "output_type": "execute_result"
    }
   ],
   "source": [
    "''' \n",
    "Input: s = \"abbaca\"\n",
    "Output: \"ca\"\n",
    "Explanation: \n",
    "For example, in \"abbaca\" we could remove \"bb\" since the letters are adjacent and equal, and this is the only possible move.  The result of this move is that the string is \"aaca\", of which only \"aa\" is possible, so the final string is \"ca\".\n",
    "'''\n",
    "\n",
    "class Solution:\n",
    "    def removeDuplicates(self, s: str) -> str:\n",
    "        stack = []\n",
    "        for c in s:\n",
    "            if stack and stack[-1] == c:\n",
    "                stack.pop()\n",
    "            else:\n",
    "                stack.append(c)\n",
    "        return \"\".join(stack)\n",
    "\n",
    "solution = Solution()\n",
    "solution.removeDuplicates(\"abbaca\")"
   ]
  },
  {
   "cell_type": "code",
   "execution_count": 281,
   "id": "95cb57a0",
   "metadata": {},
   "outputs": [
    {
     "name": "stdout",
     "output_type": "stream",
     "text": [
      "[0, 0]\n",
      "1 0\n",
      "0\n"
     ]
    }
   ],
   "source": [
    "''' \n",
    "Input\n",
    "[\"MinStack\",\"push\",\"push\",\"push\",\"getMin\",\"pop\",\"top\",\"getMin\"]\n",
    "[[],[-2],[0],[-3],[],[],[],[]]\n",
    "\n",
    "Output\n",
    "[null,null,null,null,-3,null,0,-2]\n",
    "\n",
    "Explanation\n",
    "MinStack minStack = new MinStack();\n",
    "minStack.push(-2);\n",
    "minStack.push(0);\n",
    "minStack.push(-3);\n",
    "minStack.getMin(); // return -3\n",
    "minStack.pop();\n",
    "minStack.top();    // return 0\n",
    "minStack.getMin(); // return -2\n",
    "'''\n",
    "\n",
    "class MinStack:\n",
    "\n",
    "    def __init__(self):\n",
    "        self.stack = []\n",
    "        self.min_stack = []\n",
    "\n",
    "    def push(self, num):\n",
    "        self.stack.append(num)\n",
    "        if (not self.min_stack) or (self.min_stack and self.min_stack[-1] >= num):\n",
    "            self.min_stack.append(num)\n",
    "\n",
    "    def pop(self):\n",
    "        val = self.stack.pop()\n",
    "        if val == self.min_stack[-1]:\n",
    "            self.min_stack.pop()\n",
    "        \n",
    "    def top(self):\n",
    "        return self.stack[-1]\n",
    "    \n",
    "    def getMin(self):\n",
    "        return self.min_stack[-1]\n",
    "    \n",
    "\n",
    "obj = MinStack()\n",
    "obj.push(0)\n",
    "obj.push(1)\n",
    "obj.push(0)\n",
    "print(obj.min_stack)\n",
    "param_4 = obj.getMin()\n",
    "obj.pop()\n",
    "param_3 = obj.top()\n",
    "print(param_3, param_4)\n",
    "print(obj.getMin())"
   ]
  },
  {
   "cell_type": "code",
   "execution_count": 284,
   "id": "4eb34606",
   "metadata": {},
   "outputs": [
    {
     "data": {
      "text/plain": [
       "'abc'"
      ]
     },
     "execution_count": 284,
     "metadata": {},
     "output_type": "execute_result"
    }
   ],
   "source": [
    "''' \n",
    "Input: s = \"bcabc\"\n",
    "Output: \"abc\"\n",
    "'''\n",
    "\n",
    "class Solution:\n",
    "    def removeDuplicateLetters(self, s: str) -> str:\n",
    "        set_data = set()\n",
    "        hash_map = {}\n",
    "        stack = []\n",
    "        for i, c in enumerate(s):\n",
    "            hash_map[c] = i \n",
    "        \n",
    "        for i, c in enumerate(s):\n",
    "            if c in set_data:\n",
    "                continue \n",
    "            else:\n",
    "                while stack and stack[-1] > c and hash_map[stack[-1]] > i:\n",
    "                    set_data.remove(stack[-1])\n",
    "                    stack.pop()\n",
    "                set_data.add(c)\n",
    "                stack.append(c)\n",
    "        return \"\".join(stack)\n",
    "    \n",
    "solution = Solution()\n",
    "solution.removeDuplicateLetters(\"bcabc\")\n"
   ]
  },
  {
   "cell_type": "code",
   "execution_count": 285,
   "id": "e2f49fd0",
   "metadata": {},
   "outputs": [
    {
     "data": {
      "text/plain": [
       "'lecoe'"
      ]
     },
     "execution_count": 285,
     "metadata": {},
     "output_type": "execute_result"
    }
   ],
   "source": [
    "''' \n",
    "Input: s = \"leet**cod*e\"\n",
    "Output: \"lecoe\"\n",
    "Explanation: Performing the removals from left to right:\n",
    "- The closest character to the 1st star is 't' in \"leet**cod*e\". s becomes \"lee*cod*e\".\n",
    "- The closest character to the 2nd star is 'e' in \"lee*cod*e\". s becomes \"lecod*e\".\n",
    "- The closest character to the 3rd star is 'd' in \"lecod*e\". s becomes \"lecoe\".\n",
    "There are no more stars, so we return \"lecoe\".\n",
    "'''\n",
    "\n",
    "class Solution:\n",
    "    def removeStars(self, s: str) -> str:\n",
    "        stack = []\n",
    "        for c in s:\n",
    "            if c == '*':\n",
    "                stack.pop()\n",
    "            else:\n",
    "                stack.append(c)\n",
    "        return \"\".join(stack)\n",
    "    \n",
    "solution = Solution()\n",
    "solution.removeStars(\"leet**cod*e\")"
   ]
  },
  {
   "cell_type": "code",
   "execution_count": 287,
   "id": "7d820c90",
   "metadata": {},
   "outputs": [
    {
     "data": {
      "text/plain": [
       "9"
      ]
     },
     "execution_count": 287,
     "metadata": {},
     "output_type": "execute_result"
    }
   ],
   "source": [
    "''' \n",
    "Input: tokens = [\"2\",\"1\",\"+\",\"3\",\"*\"]\n",
    "Output: 9\n",
    "Explanation: ((2 + 1) * 3) = 9\n",
    "'''\n",
    "\n",
    "class Solution(object):\n",
    "    def evalRPN(self, tokens):\n",
    "        stack = []\n",
    "        for token in tokens:\n",
    "            if token not in \"+-*/\":\n",
    "                stack.append(int(token))\n",
    "            else:\n",
    "                m = stack.pop()\n",
    "                n = stack.pop()\n",
    "                if token == '+':\n",
    "                    stack.append(m + n)\n",
    "                elif token == '-':\n",
    "                    stack.append(m - n)\n",
    "                elif token == '*':\n",
    "                    stack.append(m * n)\n",
    "                else:\n",
    "                    stack.append(m / n)\n",
    "        return stack[-1]\n",
    "\n",
    "solution = Solution()\n",
    "solution.evalRPN([\"2\",\"1\",\"+\",\"3\",\"*\"])"
   ]
  },
  {
   "cell_type": "code",
   "execution_count": null,
   "id": "8abc6842",
   "metadata": {},
   "outputs": [
    {
     "data": {
      "text/plain": [
       "80"
      ]
     },
     "execution_count": 301,
     "metadata": {},
     "output_type": "execute_result"
    }
   ],
   "source": [
    "''' \n",
    "Input: \"12 + 34 * 2\"\n",
    "Output: \"\"\n",
    "'''\n",
    "\n",
    "class Solution:\n",
    "    def calculate(self, s: str) -> int:\n",
    "        sign = '+'\n",
    "        stack = []\n",
    "        num = 0\n",
    "        for i, c in enumerate(s):\n",
    "            if c.isdigit():\n",
    "                num = (num * 10) + int(c)\n",
    "            if (not c.isdigit() and c != ' ') or i == len(s) - 1:\n",
    "                if sign == '+':\n",
    "                    stack.append(+num)\n",
    "                elif sign == '-':\n",
    "                    stack.append(-num)\n",
    "                elif sign == '*':\n",
    "                    stack.append(stack.pop() * num)\n",
    "                elif stack == '/':\n",
    "                    stack.append(int(stack.pop() / num))\n",
    "                sign = c\n",
    "                num = 0 \n",
    "        return sum(stack)\n",
    "    \n",
    "solution = Solution()\n",
    "solution.calculate(\"12 + 34 * 2\")"
   ]
  },
  {
   "cell_type": "code",
   "execution_count": 1,
   "id": "d98ebe5e",
   "metadata": {},
   "outputs": [
    {
     "data": {
      "text/plain": [
       "4"
      ]
     },
     "execution_count": 1,
     "metadata": {},
     "output_type": "execute_result"
    }
   ],
   "source": [
    "''' \n",
    "Input: s = \")()())\"\n",
    "Output: 4\n",
    "Explanation: The longest valid parentheses substring is \"()()\".\n",
    "'''\n",
    "\n",
    "class Solution:\n",
    "    def longestValidParentheses(self, s: str) -> int:\n",
    "        stack = [-1]\n",
    "        max_count = 0 \n",
    "        for i, c in enumerate(s):\n",
    "            if c == '(':\n",
    "                stack.append(i)\n",
    "            else:\n",
    "                stack.pop()\n",
    "                if not stack:\n",
    "                    stack.append(i)\n",
    "                else:\n",
    "                    max_count = max(max_count, i - stack[-1])\n",
    "        return max_count \n",
    "    \n",
    "solution = Solution()\n",
    "solution.longestValidParentheses(\")()())\")\n"
   ]
  },
  {
   "cell_type": "code",
   "execution_count": null,
   "id": "054b350c",
   "metadata": {},
   "outputs": [],
   "source": []
  },
  {
   "cell_type": "code",
   "execution_count": null,
   "metadata": {},
   "outputs": [
    {
     "data": {
      "text/plain": [
       "[-1, 3, -1]"
      ]
     },
     "execution_count": 2,
     "metadata": {},
     "output_type": "execute_result"
    }
   ],
   "source": [
    "''' \n",
    "Input: nums1 = [4,1,2], nums2 = [1,3,4,2]\n",
    "Output: [-1,3,-1]\n",
    "Explanation: The next greater element for each value of nums1 is as follows:\n",
    "- 4 is underlined in nums2 = [1,3,4,2]. There is no next greater element, so the answer is -1.\n",
    "- 1 is underlined in nums2 = [1,3,4,2]. The next greater element is 3.\n",
    "- 2 is underlined in nums2 = [1,3,4,2]. There is no next greater element, so the answer is -1.\n",
    "'''\n",
    "from typing import List, Optional\n",
    "\n",
    "class Solution:\n",
    "    def nextGreaterElement(self, nums1: List[int], nums2: List[int]) -> List[int]:\n",
    "        hash_map = {}\n",
    "        stack = []\n",
    "        for num in nums2:\n",
    "            while stack and stack[-1] < num:\n",
    "                hash_map[stack.pop()] = num \n",
    "            stack.append(num)\n",
    "        return [hash_map.get(num, -1) for num in nums1]\n",
    "\n",
    "solution = Solution()\n",
    "solution.nextGreaterElement(nums1 = [4,1,2], nums2 = [1,3,4,2])"
   ]
  },
  {
   "cell_type": "code",
   "execution_count": 11,
   "id": "b7ed5dc3",
   "metadata": {},
   "outputs": [
    {
     "data": {
      "text/plain": [
       "[1, 1, 4, 2, 1, 1, 0, 0]"
      ]
     },
     "execution_count": 11,
     "metadata": {},
     "output_type": "execute_result"
    }
   ],
   "source": [
    "''' \n",
    "Input: temperatures = [73,74,75,71,69,72,76,73]\n",
    "Output: [1,1,4,2,1,1,0,0]\n",
    "\n",
    "Given an array of integers temperatures represents the daily temperatures, \n",
    "return an array answer such that answer[i] is the number of days you have to wait after the ith day to get a warmer temperature. \n",
    "If there is no future day for which this is possible, keep answer[i] == 0 instead.\n",
    "'''\n",
    "\n",
    "from typing import List\n",
    "\n",
    "class Solution:\n",
    "    def dailyTemperatures(self, temperatures: List[int]) -> List[int]:\n",
    "        res = [0] * len(temperatures)\n",
    "        stack = []\n",
    "        for i in range(len(temperatures) - 1, -1, -1):\n",
    "            current_temp = temperatures[i]\n",
    "            while stack and temperatures[stack[-1]] <= current_temp:\n",
    "                stack.pop()\n",
    "            if stack:\n",
    "                res[i] = stack[-1] - i\n",
    "            stack.append(i)\n",
    "        return res \n",
    "    \n",
    "solution = Solution()\n",
    "solution.dailyTemperatures([73,74,75,71,69,72,76,73])\n"
   ]
  },
  {
   "cell_type": "code",
   "execution_count": 16,
   "id": "72abb34c",
   "metadata": {},
   "outputs": [
    {
     "name": "stdout",
     "output_type": "stream",
     "text": [
      "1\n",
      "1\n",
      "1\n",
      "2\n",
      "1\n",
      "4\n",
      "6\n"
     ]
    }
   ],
   "source": [
    "''' \n",
    "Input\n",
    "[\"StockSpanner\", \"next\", \"next\", \"next\", \"next\", \"next\", \"next\", \"next\"]\n",
    "[[], [100], [80], [60], [70], [60], [75], [85]]\n",
    "Output\n",
    "[null, 1, 1, 1, 2, 1, 4, 6]\n",
    "\n",
    "Explanation\n",
    "StockSpanner stockSpanner = new StockSpanner();\n",
    "stockSpanner.next(100); // return 1\n",
    "stockSpanner.next(80);  // return 1\n",
    "stockSpanner.next(60);  // return 1\n",
    "stockSpanner.next(70);  // return 2\n",
    "stockSpanner.next(60);  // return 1\n",
    "stockSpanner.next(75);  // return 4, because the last 4 prices (including today's price of 75) were less than or equal to today's price.\n",
    "stockSpanner.next(85);  // return 6\n",
    "'''\n",
    "\n",
    "class StockSpanner:\n",
    "\n",
    "    def __init__(self):\n",
    "        self.stack = []\n",
    "\n",
    "    def next(self, num):\n",
    "        span = 1\n",
    "\n",
    "        while self.stack and self.stack[-1][0] <= num:\n",
    "            span += self.stack.pop()[1]\n",
    "            \n",
    "        self.stack.append([num, span])\n",
    "        return span \n",
    "    \n",
    "stockSpanner = StockSpanner()\n",
    "print(stockSpanner.next(100)); \n",
    "print(stockSpanner.next(80)); \n",
    "print(stockSpanner.next(60)); \n",
    "print(stockSpanner.next(70)); \n",
    "print(stockSpanner.next(60)); \n",
    "print(stockSpanner.next(75))\n",
    "print(stockSpanner.next(85))\n",
    "\n"
   ]
  },
  {
   "cell_type": "code",
   "execution_count": 19,
   "id": "ec225bfd",
   "metadata": {},
   "outputs": [
    {
     "data": {
      "text/plain": [
       "True"
      ]
     },
     "execution_count": 19,
     "metadata": {},
     "output_type": "execute_result"
    }
   ],
   "source": [
    "''' \n",
    "Given an array of n integers nums, a 132 pattern is a subsequence of three integers nums[i], nums[j] and nums[k] such that i < j < k and nums[i] < nums[k] < nums[j].\n",
    "\n",
    "Return true if there is a 132 pattern in nums, otherwise, return false.\n",
    "\n",
    "Input: nums = [1,2,3,4]\n",
    "Output: false\n",
    "Explanation: There is no 132 pattern in the sequence.\n",
    "'''\n",
    "\n",
    "from typing import List\n",
    "\n",
    "class Solution:\n",
    "    def find132pattern(self, nums: List[int]) -> bool:\n",
    "        j = float('-inf')\n",
    "        stack = []\n",
    "        for i in range(len(nums) -1, -1, -1):\n",
    "            if nums[i] < j:\n",
    "                return True \n",
    "            \n",
    "            while stack and nums[stack[-1]] > j:\n",
    "                j = stack.pop()\n",
    "\n",
    "            stack.append(i)\n",
    "        return False \n",
    "    \n",
    "solution = Solution()\n",
    "solution.find132pattern([1, 2, 3, 4])"
   ]
  },
  {
   "cell_type": "code",
   "execution_count": 21,
   "id": "69d4c065",
   "metadata": {},
   "outputs": [
    {
     "data": {
      "text/plain": [
       "[3, 1, 2, 1, 1, 0]"
      ]
     },
     "execution_count": 21,
     "metadata": {},
     "output_type": "execute_result"
    }
   ],
   "source": [
    "''' \n",
    "Input: heights = [10,6,8,5,11,9]\n",
    "Output: [3,1,2,1,1,0]\n",
    "Explanation:\n",
    "Person 0 can see person 1, 2, and 4.\n",
    "Person 1 can see person 2.\n",
    "Person 2 can see person 3 and 4.\n",
    "Person 3 can see person 4.\n",
    "Person 4 can see person 5.\n",
    "Person 5 can see no one since nobody is to the right of them.\n",
    "'''\n",
    "\n",
    "class Solution:\n",
    "    def canSeePersonsCount(self, heights: List[int]) -> List[int]:\n",
    "        stack = []\n",
    "        res = [0] * len(heights)\n",
    "        for i in range(len(heights) - 1, -1, -1):\n",
    "            count = 0\n",
    "            while stack and heights[stack[-1]] < heights[i]:\n",
    "                stack.pop()\n",
    "                count += 1\n",
    "            \n",
    "            if stack:\n",
    "                count += 1\n",
    "            stack.append(i)\n",
    "            res[i] = count \n",
    "        return res \n",
    "    \n",
    "solution = Solution()\n",
    "solution.canSeePersonsCount([10,6,8,5,11,9])\n"
   ]
  },
  {
   "cell_type": "code",
   "execution_count": 24,
   "id": "3fba20fb",
   "metadata": {},
   "outputs": [
    {
     "data": {
      "text/plain": [
       "10"
      ]
     },
     "execution_count": 24,
     "metadata": {},
     "output_type": "execute_result"
    }
   ],
   "source": [
    "''' \n",
    "Input: heights = [2,1,5,6,2,3]\n",
    "Output: 10\n",
    "Explanation: The above is a histogram where width of each bar is 1.\n",
    "The largest rectangle is shown in the red area, which has an area = 10 units.\n",
    "'''\n",
    "\n",
    "from typing import List\n",
    "\n",
    "class Solution:\n",
    "    def largestRectangleArea(self, heights: List[int]) -> int:\n",
    "        stack = []\n",
    "        max_area = 0 \n",
    "        for i, h in enumerate(heights):\n",
    "            start = i \n",
    "            while stack and stack[-1][1] > h:\n",
    "                index, height = stack.pop()\n",
    "                max_area = max(max_area, height * (i - index))\n",
    "                start = index \n",
    "            stack.append((start, h))\n",
    "        \n",
    "        for i, h in stack:\n",
    "            max_area = max(max_area, h * (len(heights) - i))\n",
    "        return max_area\n",
    "\n",
    "solution = Solution()\n",
    "solution.largestRectangleArea([2,1,5,6,2,3])\n",
    "            "
   ]
  },
  {
   "cell_type": "code",
   "execution_count": 34,
   "id": "80c9fe14",
   "metadata": {},
   "outputs": [
    {
     "data": {
      "text/plain": [
       "3"
      ]
     },
     "execution_count": 34,
     "metadata": {},
     "output_type": "execute_result"
    }
   ],
   "source": [
    "''' \n",
    "Input\n",
    "[\"RecentCounter\", \"ping\", \"ping\", \"ping\", \"ping\"]\n",
    "[[], [1], [100], [3001], [3002]]\n",
    "Output\n",
    "[null, 1, 2, 3, 3]\n",
    "\n",
    "Explanation\n",
    "RecentCounter recentCounter = new RecentCounter();\n",
    "recentCounter.ping(1);     // requests = [1], range is [-2999,1], return 1\n",
    "recentCounter.ping(100);   // requests = [1, 100], range is [-2900,100], return 2\n",
    "recentCounter.ping(3001);  // requests = [1, 100, 3001], range is [1,3001], return 3\n",
    "recentCounter.ping(3002);  // requests = [1, 100, 3001, 3002], range is [2,3002], return 3\n",
    "'''\n",
    "from collections import deque\n",
    "\n",
    "from collections import deque\n",
    "\n",
    "class RecentCounter(object):\n",
    "\n",
    "    def __init__(self):\n",
    "        self.queue = deque()\n",
    "\n",
    "    def ping(self, ping):\n",
    "        while self.queue and ping - self.queue[0] > 3000:\n",
    "            self.queue.popleft()\n",
    "        self.queue.append(ping)\n",
    "        return len(self.queue)\n",
    "    \n",
    "\n",
    "class RecentCounter(object):\n",
    "\n",
    "    def __init__(self):\n",
    "        self.queue = []\n",
    "\n",
    "    def ping(self, ping):\n",
    "        length = 0\n",
    "        while self.queue and ping - self.queue[length] > 3000:\n",
    "            length += 1\n",
    "        self.queue.append(ping)\n",
    "        return len(self.queue) - length\n",
    "\n",
    "recentCounter = RecentCounter()\n",
    "recentCounter.ping(1)     # requests = [1], range is [-2999,1], return 1\n",
    "recentCounter.ping(100)   # requests = [1, 100], range is [-2900,100], return 2\n",
    "recentCounter.ping(3001)  # requests = [1, 100, 3001], range is [1,3001], return 3\n",
    "recentCounter.ping(3002)  # requests = [1, 100, 3001, 3002], range is [2,3002], return 3"
   ]
  },
  {
   "cell_type": "code",
   "execution_count": 41,
   "id": "ccea5ddb",
   "metadata": {},
   "outputs": [
    {
     "data": {
      "text/plain": [
       "6"
      ]
     },
     "execution_count": 41,
     "metadata": {},
     "output_type": "execute_result"
    }
   ],
   "source": [
    "''' \n",
    "Input: tickets = [2,3,2], k = 2\n",
    "\n",
    "Output: 6\n",
    "\n",
    "Explanation:\n",
    "\n",
    "The queue starts as [2,3,2], where the kth person is underlined.\n",
    "After the person at the front has bought a ticket, the queue becomes [3,2,1] at 1 second.\n",
    "Continuing this process, the queue becomes [2,1,2] at 2 seconds.\n",
    "Continuing this process, the queue becomes [1,2,1] at 3 seconds.\n",
    "Continuing this process, the queue becomes [2,1] at 4 seconds. Note: the person at the front left the queue.\n",
    "Continuing this process, the queue becomes [1,1] at 5 seconds.\n",
    "Continuing this process, the queue becomes [1] at 6 seconds. The kth person has bought all their tickets, so return 6.\n",
    "'''\n",
    "\n",
    "from collections import deque\n",
    "from typing import List\n",
    "\n",
    "class Solution:\n",
    "    # Using deque for efficient popping from the front\n",
    "    def timeRequiredToBuy(self, tickets: List[int], k: int) -> int:\n",
    "        queue = deque([(i, ticket) for i, ticket in enumerate(tickets)])\n",
    "        time = 0\n",
    "        while queue:\n",
    "            index, ticket = queue.popleft()\n",
    "            ticket -= 1\n",
    "            time += 1\n",
    "            if index == k and ticket == 0:\n",
    "                return time \n",
    "            if ticket > 0:\n",
    "                queue.append((index, ticket))\n",
    "        return time\n",
    "    \n",
    "    def timeRequiredToBuy(self, tickets: List[int], k: int) -> int:\n",
    "        res = 0 \n",
    "        for i in range(len(tickets)):\n",
    "            if i <= k:\n",
    "                res += min(tickets[i], tickets[k])\n",
    "            else:\n",
    "                res += min(tickets[k] - 1, tickets[i])\n",
    "        return res\n",
    "    \n",
    "solution = Solution()\n",
    "solution.timeRequiredToBuy(tickets = [2,3,2], k = 2)\n"
   ]
  },
  {
   "cell_type": "code",
   "execution_count": 42,
   "id": "19f050d1",
   "metadata": {},
   "outputs": [
    {
     "data": {
      "text/plain": [
       "[2, 13, 3, 11, 5, 17, 7]"
      ]
     },
     "execution_count": 42,
     "metadata": {},
     "output_type": "execute_result"
    }
   ],
   "source": [
    "''' \n",
    "Input: deck = [17,13,11,2,3,5,7]\n",
    "Output: [2,13,3,11,5,17,7]\n",
    "Explanation: \n",
    "We get the deck in the order [17,13,11,2,3,5,7] (this order does not matter), and reorder it.\n",
    "After reordering, the deck starts as [2,13,3,11,5,17,7], where 2 is the top of the deck.\n",
    "We reveal 2, and move 13 to the bottom.  The deck is now [3,11,5,17,7,13].\n",
    "We reveal 3, and move 11 to the bottom.  The deck is now [5,17,7,13,11].\n",
    "We reveal 5, and move 17 to the bottom.  The deck is now [7,13,11,17].\n",
    "We reveal 7, and move 13 to the bottom.  The deck is now [11,17,13].\n",
    "We reveal 11, and move 17 to the bottom.  The deck is now [13,17].\n",
    "We reveal 13, and move 17 to the bottom.  The deck is now [17].\n",
    "We reveal 17.\n",
    "Since all the cards revealed are in increasing order, the answer is correct.\n",
    "'''\n",
    "\n",
    "from collections import deque\n",
    "from typing import List\n",
    "\n",
    "class Solution:\n",
    "    def deckRevealedIncreasing(self, deck: List[int]) -> List[int]:\n",
    "        deck.sort()\n",
    "        queue = deque([i for i in range(len(deck))])\n",
    "        res = [0] * len(queue)\n",
    "        for n in deck:\n",
    "            i = queue.popleft()\n",
    "            res[i] = n \n",
    "\n",
    "            if queue:\n",
    "                queue.append(queue.popleft())\n",
    "        return res \n",
    "    \n",
    "solution = Solution()\n",
    "solution.deckRevealedIncreasing([17, 13, 11, 2, 3, 5, 7])"
   ]
  },
  {
   "cell_type": "code",
   "execution_count": 16,
   "id": "2c4eb330",
   "metadata": {},
   "outputs": [
    {
     "data": {
      "text/plain": [
       "[3, 3, 5, 5, 6, 7]"
      ]
     },
     "execution_count": 16,
     "metadata": {},
     "output_type": "execute_result"
    }
   ],
   "source": [
    "''' \n",
    "Input: nums = [1,3,-1,-3,5,3,6,7], k = 3\n",
    "Output: [3,3,5,5,6,7]\n",
    "Explanation: \n",
    "Window position                Max\n",
    "---------------               -----\n",
    "[1  3  -1] -3  5  3  6  7       3\n",
    " 1 [3  -1  -3] 5  3  6  7       3\n",
    " 1  3 [-1  -3  5] 3  6  7       5\n",
    " 1  3  -1 [-3  5  3] 6  7       5\n",
    " 1  3  -1  -3 [5  3  6] 7       6\n",
    " 1  3  -1  -3  5 [3  6  7]      7\n",
    "'''\n",
    "\n",
    "from collections import deque\n",
    "from typing import List\n",
    "\n",
    "class Solution:\n",
    "    def maxSlidingWindow(self, nums: List[int], k: int) -> List[int]:\n",
    "        res = []\n",
    "        queue = deque()\n",
    "        for i, num in enumerate(nums):\n",
    "            while queue and i - queue[0] > k:\n",
    "                queue.popleft()\n",
    "\n",
    "            while queue and nums[queue[-1]] < num:\n",
    "                queue.pop()\n",
    "            queue.append(i)\n",
    "            if i >= k - 1:\n",
    "                res.append(nums[queue[0]])\n",
    "        return res \n",
    "    \n",
    "solution = Solution()\n",
    "solution.maxSlidingWindow(nums = [1,3,-1,-3,5,3,6,7], k = 3)"
   ]
  },
  {
   "cell_type": "code",
   "execution_count": 19,
   "id": "00ce419a",
   "metadata": {},
   "outputs": [
    {
     "data": {
      "text/plain": [
       "2"
      ]
     },
     "execution_count": 19,
     "metadata": {},
     "output_type": "execute_result"
    }
   ],
   "source": [
    "''' \n",
    "Input: nums = [8,2,4,7], limit = 4\n",
    "Output: 2 \n",
    "Explanation: All subarrays are: \n",
    "[8] with maximum absolute diff |8-8| = 0 <= 4.\n",
    "[8,2] with maximum absolute diff |8-2| = 6 > 4. \n",
    "[8,2,4] with maximum absolute diff |8-2| = 6 > 4.\n",
    "[8,2,4,7] with maximum absolute diff |8-2| = 6 > 4.\n",
    "[2] with maximum absolute diff |2-2| = 0 <= 4.\n",
    "[2,4] with maximum absolute diff |2-4| = 2 <= 4.\n",
    "[2,4,7] with maximum absolute diff |2-7| = 5 > 4.\n",
    "[4] with maximum absolute diff |4-4| = 0 <= 4.\n",
    "[4,7] with maximum absolute diff |4-7| = 3 <= 4.\n",
    "[7] with maximum absolute diff |7-7| = 0 <= 4. \n",
    "Therefore, the size of the longest subarray is 2.\n",
    "'''\n",
    "\n",
    "from collections import deque\n",
    "from typing import List\n",
    "\n",
    "class Solution:\n",
    "    def longestSubarray(self, nums: List[int], limit: int) -> int:\n",
    "        max_queue = deque()\n",
    "        min_queue = deque()\n",
    "        left = 0 \n",
    "        max_length = 0\n",
    "        for right in range(len(nums)):\n",
    "            while min_queue and nums[min_queue[-1]] > nums[right]:\n",
    "                min_queue.pop()\n",
    "\n",
    "            while max_queue and nums[max_queue[-1]] < nums[right]:\n",
    "                max_queue.pop()\n",
    "\n",
    "            min_queue.append(right)\n",
    "            max_queue.append(right)\n",
    "\n",
    "            while nums[max_queue[0]] - nums[min_queue[0]] > limit:\n",
    "                left += 1\n",
    "                if min_queue[0] < left:\n",
    "                    min_queue.popleft()\n",
    "\n",
    "                if max_queue[0] < left:\n",
    "                    max_queue.popleft()\n",
    "            \n",
    "            max_length = max(max_length, right - left + 1)\n",
    "        return max_length\n",
    "    \n",
    "solution = Solution()\n",
    "solution.longestSubarray(nums = [8,2,4,7], limit = 4)"
   ]
  },
  {
   "cell_type": "code",
   "execution_count": 27,
   "id": "2c4fe27d",
   "metadata": {},
   "outputs": [
    {
     "data": {
      "text/plain": [
       "7"
      ]
     },
     "execution_count": 27,
     "metadata": {},
     "output_type": "execute_result"
    }
   ],
   "source": [
    "''' \n",
    "Input: nums = [1,-1,-2,4,-7,3], k = 2\n",
    "Output: 7\n",
    "Explanation: You can choose your jumps forming the subsequence [1,-1,4,3] (underlined above). The sum is 7.\n",
    "'''\n",
    "\n",
    "from collections import deque\n",
    "from typing import List\n",
    "\n",
    "class Solution:\n",
    "    def maxResult(self, nums: List[int], k: int) -> int:\n",
    "        dp = [0] * len(nums)\n",
    "        dp[0] = nums[0]\n",
    "        queue = deque([0])\n",
    "\n",
    "        for i in range(1, len(nums)):\n",
    "            while queue and i - queue[0] > k:\n",
    "                queue.popleft()\n",
    "\n",
    "            dp[i] = dp[queue[0]] + nums[i]\n",
    "\n",
    "            while queue and nums[queue[-1]] <= nums[i]:\n",
    "                queue.pop()\n",
    "            \n",
    "            queue.append(i)\n",
    "        return dp[-1]\n",
    "    \n",
    "\n",
    "solution = Solution()\n",
    "solution.maxResult(nums = [1,-1,-2,4,-7,3], k = 2)\n"
   ]
  },
  {
   "cell_type": "code",
   "execution_count": 33,
   "id": "8c10f371",
   "metadata": {},
   "outputs": [
    {
     "name": "stdout",
     "output_type": "stream",
     "text": [
      "[[], [3], [2], [1], [], []]\n"
     ]
    },
    {
     "data": {
      "text/plain": [
       "[1, 2]"
      ]
     },
     "execution_count": 33,
     "metadata": {},
     "output_type": "execute_result"
    }
   ],
   "source": [
    "''' \n",
    "Input: nums = [1,1,1,2,2,3], k = 2\n",
    "Output: [1,2]\n",
    "'''\n",
    "\n",
    "from typing import List, Optional\n",
    "from collections import Counter\n",
    "\n",
    "class Solution:\n",
    "    def topKFrequent(self, nums: List[int], k: int) -> List[int]:\n",
    "        buckets = [[] for i in range(len(nums))]\n",
    "        res = []\n",
    "        count_map = Counter(nums)\n",
    "        for key, value in count_map.items():\n",
    "            buckets[value].append(key)\n",
    "        print(buckets)\n",
    "        for i in range(len(buckets) -1, -1, -1):\n",
    "           for bucket in buckets[i]:\n",
    "               res.append(bucket)\n",
    "               if len(res) == k:\n",
    "                   return res \n",
    "        return []\n",
    "    \n",
    "solution = Solution()\n",
    "solution.topKFrequent(nums = [1,1,1,2,2,3], k = 2)"
   ]
  },
  {
   "cell_type": "code",
   "execution_count": 41,
   "id": "3dfb887c",
   "metadata": {},
   "outputs": [
    {
     "name": "stdout",
     "output_type": "stream",
     "text": [
      "1\n",
      "2\n",
      "3\n",
      "4\n",
      "5\n",
      "6\n"
     ]
    }
   ],
   "source": [
    "class ListNode:\n",
    "    def __init__(self, val=0, next=None):\n",
    "        self.val = val\n",
    "        self.next = next\n",
    "class Solution:\n",
    "    def mergeTwoLists(self, list1: Optional[ListNode], list2: Optional[ListNode]) -> Optional[ListNode]:\n",
    "        if not list1 or not list2:\n",
    "            return list1 if list1 else list2 \n",
    "        \n",
    "        if list1.val > list2.val:\n",
    "            list1, list2 = list2, list1 \n",
    "\n",
    "        list1.next = self.mergeTwoLists(list1.next, list2)\n",
    "        return list1\n",
    "    \n",
    "    def mergeTwoListsWithoutRecursion(self, list1: Optional[ListNode], list2: Optional[ListNode]) -> Optional[ListNode]:\n",
    "        dummy = ListNode()\n",
    "        cur = dummy\n",
    "        while list1 and list2:\n",
    "            if list1.val < list2.val:\n",
    "                cur.next = list1\n",
    "                list1 = list1.next \n",
    "            else:\n",
    "                cur.next = list2 \n",
    "                list2 = list2.next \n",
    "            cur = cur.next \n",
    "        \n",
    "        if list1:\n",
    "            cur.next = list1 \n",
    "\n",
    "        if list2:\n",
    "            cur.next = list2 \n",
    "        return dummy.next\n",
    "\n",
    "    \n",
    "    def print_list(self, list1):\n",
    "        temp = list1 \n",
    "        while temp:\n",
    "            print(temp.val)\n",
    "            temp = temp.next\n",
    "    \n",
    "solution = Solution()\n",
    "res = solution.mergeTwoListsWithoutRecursion(ListNode(2, ListNode(4, ListNode(5))), ListNode(1, ListNode(3, ListNode(6))))\n",
    "solution.print_list(res)"
   ]
  },
  {
   "cell_type": "code",
   "execution_count": 43,
   "id": "a66c2463",
   "metadata": {},
   "outputs": [
    {
     "data": {
      "text/plain": [
       "'aaabcbc'"
      ]
     },
     "execution_count": 43,
     "metadata": {},
     "output_type": "execute_result"
    }
   ],
   "source": [
    "''' \n",
    "Input: s = \"3[a]2[bc]\"\n",
    "Output: \"aaabcbc\"\n",
    "'''\n",
    "\n",
    "class Solution:\n",
    "    def decodeString(self, s: str) -> str:\n",
    "        stack = []\n",
    "        for c in s:\n",
    "            if c != ']':\n",
    "                stack.append(c)\n",
    "            else:\n",
    "                sub_str = \"\"\n",
    "                k = \"\"\n",
    "                while stack and stack[-1] != '[':\n",
    "                    sub_str = stack.pop() + sub_str \n",
    "                \n",
    "                stack.pop()\n",
    "\n",
    "                while stack and stack[-1].isdigit():\n",
    "                    k = stack.pop() + k \n",
    "                stack.append(int(k) * sub_str)\n",
    "        return \"\".join(stack)\n",
    "    \n",
    "solution = Solution()\n",
    "solution.decodeString(\"3[a]2[bc]\")"
   ]
  },
  {
   "cell_type": "code",
   "execution_count": 57,
   "id": "706d7ca1",
   "metadata": {},
   "outputs": [
    {
     "name": "stdout",
     "output_type": "stream",
     "text": [
      "1\n",
      "2\n",
      "3\n",
      "4\n"
     ]
    }
   ],
   "source": [
    "''' \n",
    "Input: head = [4,2,1,3]\n",
    "Output: [1,2,3,4]\n",
    "'''\n",
    "\n",
    "# Definition for singly-linked list.\n",
    "class ListNode:\n",
    "    def __init__(self, val=0, next=None):\n",
    "        self.val = val\n",
    "        self.next = next\n",
    "class Solution:\n",
    "    def sortList(self, head: Optional[ListNode]) -> Optional[ListNode]:\n",
    "        # Base condition \n",
    "        if not head or not head.next:\n",
    "            return head \n",
    "        mid = self.get_mid(head)\n",
    "        right = mid.next\n",
    "        mid.next = None \n",
    "        left = head \n",
    "\n",
    "\n",
    "        left = self.sortList(left)\n",
    "        right = self.sortList(right)\n",
    "        return self.merge(left, right)\n",
    "\n",
    "    def get_mid(self, head):\n",
    "        slow, fast = head, head.next\n",
    "        while fast and fast.next:\n",
    "            slow = slow.next \n",
    "            fast = fast.next.next \n",
    "        return slow\n",
    "\n",
    "\n",
    "    def merge(self, left, right):\n",
    "        dummy = ListNode()\n",
    "        curr = dummy \n",
    "        while left and right:\n",
    "            if left.val < right.val:\n",
    "                curr.next = left \n",
    "                left = left.next \n",
    "            else:\n",
    "                curr.next = right\n",
    "                right = right.next \n",
    "            curr = curr.next \n",
    "\n",
    "        if left:\n",
    "            curr.next = left \n",
    "\n",
    "        if right:\n",
    "            curr.next = right\n",
    "\n",
    "        return dummy.next \n",
    "    \n",
    "    def print_list(self, list1):\n",
    "        temp = list1 \n",
    "        while temp:\n",
    "            print(temp.val)\n",
    "            temp = temp.next\n",
    "    \n",
    "\n",
    "solution = Solution()\n",
    "res = solution.sortList(ListNode(4, ListNode(2, ListNode(1, ListNode(3)))))\n",
    "solution.print_list(res)"
   ]
  },
  {
   "cell_type": "code",
   "execution_count": 59,
   "id": "bb7f1aad",
   "metadata": {},
   "outputs": [
    {
     "data": {
      "text/plain": [
       "[0, 0, 1, 1, 2, 2]"
      ]
     },
     "execution_count": 59,
     "metadata": {},
     "output_type": "execute_result"
    }
   ],
   "source": [
    "''' \n",
    "Input: nums = [2,0,2,1,1,0]\n",
    "Output: [0,0,1,1,2,2]\n",
    "'''\n",
    "\n",
    "class Solution:\n",
    "    def sortColors(self, nums: List[int]) -> None:\n",
    "        left, mid, right = 0, 0, len(nums) - 1\n",
    "        while mid <= right:\n",
    "            if nums[mid] == 0:\n",
    "                nums[left], nums[mid] = nums[mid], nums[left]\n",
    "                left += 1\n",
    "                mid += 1\n",
    "            elif nums[mid] == 1:\n",
    "                mid += 1 \n",
    "            else:\n",
    "                nums[mid], nums[right] = nums[right], nums[mid]\n",
    "                right -= 1\n",
    "        return nums \n",
    "    \n",
    "solution = Solution()\n",
    "solution.sortColors([2,0,2,1,1,0])\n",
    "\n"
   ]
  },
  {
   "cell_type": "code",
   "execution_count": 60,
   "id": "7dbf2079",
   "metadata": {},
   "outputs": [
    {
     "data": {
      "text/plain": [
       "5"
      ]
     },
     "execution_count": 60,
     "metadata": {},
     "output_type": "execute_result"
    }
   ],
   "source": [
    "''' \n",
    "Input: nums = [3,2,1,5,6,4], k = 2\n",
    "Output: 5\n",
    "'''\n",
    "\n",
    "import heapq\n",
    "\n",
    "class Solution:\n",
    "    def findKthLargest(self, nums: List[int], k: int) -> int:\n",
    "        nums = [-num for num in nums]\n",
    "        heapq.heapify(nums)\n",
    "        while k > 0:\n",
    "           res = -heapq.heappop(nums)\n",
    "           k -= 1\n",
    "        return res \n",
    "    \n",
    "\n",
    "solution = Solution()\n",
    "solution.findKthLargest(nums = [3,2,1,5,6,4], k = 2)"
   ]
  },
  {
   "cell_type": "code",
   "execution_count": 70,
   "id": "346633bd",
   "metadata": {},
   "outputs": [
    {
     "data": {
      "text/plain": [
       "5"
      ]
     },
     "execution_count": 70,
     "metadata": {},
     "output_type": "execute_result"
    }
   ],
   "source": [
    "''' \n",
    "Input: nums = [3,2,1,5,6,4], k = 2\n",
    "Output: 5\n",
    "'''\n",
    "\n",
    "import heapq\n",
    "\n",
    "class Solution:\n",
    "    def findKthLargest(self, nums: List[int], k: int) -> int:\n",
    "        k = len(nums) - k \n",
    "        def quick_sort(left, right):\n",
    "            pivot = nums[right]\n",
    "            low = left\n",
    "            high = right \n",
    "            while low <= high:\n",
    "                while low <= high and nums[low] < pivot:\n",
    "                    low += 1\n",
    "\n",
    "                while low <= high and nums[high] > pivot:\n",
    "                    high -= 1\n",
    "                \n",
    "                if low <= high:\n",
    "                    nums[low], nums[high] = nums[high], nums[low]\n",
    "                    low += 1\n",
    "                    high -= 1\n",
    "                \n",
    "            if k <= high:\n",
    "                return quick_sort(left, high)\n",
    "            elif k >= low:\n",
    "                return quick_sort(low, right)\n",
    "            else:\n",
    "                return nums[k] \n",
    "        return quick_sort(0, len(nums) -1)\n",
    "            \n",
    "class Solution2:\n",
    "    def findKthLargest(self, nums: List[int], k: int) -> int:\n",
    "        k = len(nums) - k\n",
    "\n",
    "        def quickSelect(left, right):            \n",
    "            pivot = nums[right]\n",
    "            low = left\n",
    "            high = right\n",
    "\n",
    "            while low <= high:\n",
    "                while low <= high and nums[low] < pivot:\n",
    "                    low += 1\n",
    "                while low <= high and nums[high] > pivot:\n",
    "                    high -= 1\n",
    "                if low <= high:\n",
    "                    nums[low], nums[high] = nums[high], nums[low]\n",
    "                    low += 1\n",
    "                    high -= 1\n",
    "\n",
    "            if k <= high:\n",
    "                return quickSelect(left, high)\n",
    "            elif k >= low:\n",
    "                return quickSelect(low, right)\n",
    "            else:\n",
    "                return nums[k]\n",
    "\n",
    "        return quickSelect(0, len(nums) - 1)\n",
    "solution = Solution()\n",
    "solution.findKthLargest([3,2,1,5,6,4], k = 2)"
   ]
  },
  {
   "cell_type": "code",
   "execution_count": 73,
   "id": "20bfc835",
   "metadata": {},
   "outputs": [
    {
     "data": {
      "text/plain": [
       "[3, 4]"
      ]
     },
     "execution_count": 73,
     "metadata": {},
     "output_type": "execute_result"
    }
   ],
   "source": [
    "''' \n",
    "Input: nums = [5,7,7,8,8,10], target = 8\n",
    "Output: [3,4]\n",
    "'''\n",
    "from typing import List, Optional \n",
    "\n",
    "class Solution:\n",
    "    def searchRange(self, nums: List[int], target: int) -> List[int]:\n",
    "        left = self.binary_search(nums, target, True)\n",
    "        right = self.binary_search(nums, target, False)\n",
    "        return [left, right]\n",
    "\n",
    "\n",
    "    def binary_search(self, nums, target, left_bias):\n",
    "        left = 0 \n",
    "        right = len(nums) - 1\n",
    "        res = -1\n",
    "        while left <= right:\n",
    "            mid = left + ((right - left) // 2)\n",
    "            if nums[mid] > target:\n",
    "                right = mid - 1\n",
    "            elif nums[mid] < target:\n",
    "                left = mid + 1\n",
    "            else:\n",
    "                res = mid \n",
    "                if left_bias:\n",
    "                    right = mid - 1\n",
    "                else: \n",
    "                    left = mid + 1\n",
    "        return res \n",
    "    \n",
    "\n",
    "solution = Solution()\n",
    "solution.searchRange(nums = [5,7,7,8,8,10], target = 8)\n"
   ]
  },
  {
   "cell_type": "code",
   "execution_count": 77,
   "id": "2339f5bb",
   "metadata": {},
   "outputs": [
    {
     "data": {
      "text/plain": [
       "4"
      ]
     },
     "execution_count": 77,
     "metadata": {},
     "output_type": "execute_result"
    }
   ],
   "source": [
    "''' \n",
    "Input: nums = [4,5,6,7,0,1,2], target = 0\n",
    "Output: 4\n",
    "'''\n",
    "\n",
    "class Solution:\n",
    "    def search(self, nums: List[int], target: int) -> int:\n",
    "        return self.modified_binary_search(nums, 0, len(nums) - 1, target)\n",
    "\n",
    "    def modified_binary_search(self, nums, left, right, target):\n",
    "        if left > right:\n",
    "            return -1 \n",
    "        mid = left + ((right - left) // 2)\n",
    "        if nums[mid] == target:\n",
    "            return mid \n",
    "        if nums[mid] > nums[left]:\n",
    "            if target >= nums[left] and nums[mid] >= target:\n",
    "                return self.modified_binary_search(nums, left, mid - 1, target)\n",
    "            else:\n",
    "                return self.modified_binary_search(nums, mid + 1, right, target)\n",
    "        else:\n",
    "            if target >= nums[mid + 1] and target <= nums[right]:\n",
    "                return self.modified_binary_search(nums, mid + 1, right, target)\n",
    "            else:\n",
    "                return self.modified_binary_search(nums, left, mid - 1, target)\n",
    "            \n",
    "\n",
    "solution = Solution()\n",
    "solution.search(nums = [4,5,6,7,0,1,2], target = 0)\n",
    "\n"
   ]
  },
  {
   "cell_type": "code",
   "execution_count": 78,
   "id": "77c15531",
   "metadata": {},
   "outputs": [
    {
     "data": {
      "text/plain": [
       "2"
      ]
     },
     "execution_count": 78,
     "metadata": {},
     "output_type": "execute_result"
    }
   ],
   "source": [
    "''' \n",
    "Input: nums = [1,2,3,1]\n",
    "Output: 2\n",
    "Explanation: 3 is a peak element and your function should return the index number 2.\n",
    "'''\n",
    "\n",
    "class Solution:\n",
    "    def findPeakElement(self, nums: List[int]) -> int:\n",
    "        left = 0\n",
    "        right = len(nums) - 1\n",
    "        while left < right:\n",
    "            mid = left + ((right - left) // 2)\n",
    "            if nums[mid] > nums[mid + 1]:\n",
    "                right = mid \n",
    "            else:\n",
    "                left = mid + 1 \n",
    "        return right \n",
    "    \n",
    "solution = Solution()\n",
    "solution.findPeakElement([1, 2,3,1])"
   ]
  },
  {
   "cell_type": "code",
   "execution_count": 83,
   "id": "07046146",
   "metadata": {},
   "outputs": [
    {
     "data": {
      "text/plain": [
       "4"
      ]
     },
     "execution_count": 83,
     "metadata": {},
     "output_type": "execute_result"
    }
   ],
   "source": [
    "''' \n",
    "Input: piles = [3,6,7,11], h = 8\n",
    "Output: 4\n",
    "'''\n",
    "import math\n",
    "class Solution:\n",
    "    def minEatingSpeed(self, piles, h):\n",
    "        left = min(piles)\n",
    "        right = max(piles)\n",
    "        min_speed = right\n",
    "        while left <= right:\n",
    "            mid = left + ((right - left))// 2\n",
    "            total = 0\n",
    "            for pile in piles:\n",
    "                total += math.ceil(pile / mid)\n",
    "            if total <= h:\n",
    "                min_speed = min(min_speed, mid)\n",
    "                right = mid - 1\n",
    "            else:\n",
    "                left = mid + 1\n",
    "\n",
    "        return min_speed\n",
    "\n",
    "solution = Solution()\n",
    "solution.minEatingSpeed([3,6,7,11], h = 8)"
   ]
  },
  {
   "cell_type": "code",
   "execution_count": 89,
   "id": "2f75bdd0",
   "metadata": {},
   "outputs": [
    {
     "data": {
      "text/plain": [
       "False"
      ]
     },
     "execution_count": 89,
     "metadata": {},
     "output_type": "execute_result"
    }
   ],
   "source": [
    "''' \n",
    "Input: matrix = [[1,3,5,7],[10,11,16,20],[23,30,34,60]], target = 3\n",
    "Output: true\n",
    "\n",
    "'''\n",
    "\n",
    "from typing import List, Optional\n",
    "\n",
    "class Solution:\n",
    "    def searchMatrix(self, matrix: List[List[int]], target: int) -> bool:\n",
    "        row = self.search_pottential_row(matrix, target)\n",
    "        if row == -1:\n",
    "            return False \n",
    "        return self.search_pottential_col(matrix, target, row)\n",
    "\n",
    "    def search_pottential_row(self, matrix: List[List[int]], target: int):\n",
    "        res = -1 \n",
    "        left = 0 \n",
    "        right = len(matrix) - 1\n",
    "        while left <= right:\n",
    "            mid = left + ((right - left)) // 2\n",
    "            if matrix[mid][0] <= target <= matrix[mid][-1]:\n",
    "                return mid \n",
    "            elif matrix[mid][0] < target:\n",
    "                left = mid + 1\n",
    "            else:\n",
    "                right = mid - 1\n",
    "        return res \n",
    "    \n",
    "    def search_pottential_col(self, matrix: List[List[int]], target: int, row: int):\n",
    "        left = 0 \n",
    "        right = len(matrix[row]) - 1\n",
    "        while left <= right:\n",
    "            mid = left + (right - left) // 2\n",
    "            if matrix[row][mid] == target:\n",
    "                return True \n",
    "            elif matrix[row][mid] > target:\n",
    "                right = mid - 1\n",
    "            else:\n",
    "                left = mid + 1\n",
    "        return False\n",
    "    \n",
    "solution = Solution()\n",
    "solution.searchMatrix([[1,3,5,7],[10,11,16,20],[23,30,34,60]], target = 15)\n"
   ]
  },
  {
   "cell_type": "code",
   "execution_count": 91,
   "id": "fc9593fd",
   "metadata": {},
   "outputs": [
    {
     "data": {
      "text/plain": [
       "2"
      ]
     },
     "execution_count": 91,
     "metadata": {},
     "output_type": "execute_result"
    }
   ],
   "source": [
    "''' \n",
    "Input: nums1 = [1,3], nums2 = [2]\n",
    "Output: 2.00000\n",
    "Explanation: merged array = [1,2,3] and median is 2.\n",
    "'''\n",
    "\n",
    "class Solution:\n",
    "    def findMedianSortedArrays(self, nums1, nums2):\n",
    "        if len(nums1) < len(nums2):\n",
    "            nums1, nums2 = nums2, nums1 \n",
    "        \n",
    "        x = len(nums1)\n",
    "        y = len(nums2)\n",
    "        low = 0 \n",
    "        high = x\n",
    "        while low <= high:\n",
    "            x_partition = (low + high) // 2\n",
    "            y_partition = (x + y + 1) // 2 - x_partition \n",
    "\n",
    "            max_left_x = float('-inf') if x_partition == 0 else nums1[x_partition - 1]\n",
    "            min_right_x = float('inf') if x_partition == x else nums1[x_partition]\n",
    "\n",
    "            max_left_y = float('-inf') if y_partition == 0 else nums2[y_partition - 1]\n",
    "            min_right_y = float('inf') if y_partition == y else nums2[y_partition]\n",
    "            if max_left_x <= min_right_y and max_left_y <= min_right_x:\n",
    "                if (x + y) % 2 != 0:\n",
    "                    return max(max_left_x, max_left_y)\n",
    "                else:\n",
    "                    return max(max_left_x, max_left_y) + min(min_right_x, min_right_y) / 2\n",
    "            elif max_left_x > min_right_y:\n",
    "                high = x_partition - 1\n",
    "            else:\n",
    "                low = x_partition + 1\n",
    "        return -1 \n",
    "    \n",
    "solution = Solution()\n",
    "solution.findMedianSortedArrays(nums1 = [1,3], nums2 = [2])\n"
   ]
  },
  {
   "cell_type": "code",
   "execution_count": 94,
   "id": "cbb7bd37",
   "metadata": {},
   "outputs": [
    {
     "data": {
      "text/plain": [
       "1"
      ]
     },
     "execution_count": 94,
     "metadata": {},
     "output_type": "execute_result"
    }
   ],
   "source": [
    "''' \n",
    "Example 1:\n",
    "\n",
    "Input: nums = [2,2,1]\n",
    "\n",
    "Output: 1\n",
    "\n",
    "Example 2:\n",
    "\n",
    "Input: nums = [4,1,2,1,2]\n",
    "\n",
    "Output: 4\n",
    "'''\n",
    "from typing import List, Optional\n",
    "\n",
    "class Solution:\n",
    "    def singleNumber(self, nums: List[int]) -> int:\n",
    "        x = 0\n",
    "        for num in nums:\n",
    "            x = x ^ num \n",
    "        return x \n",
    "    \n",
    "solution = Solution()\n",
    "solution.singleNumber([2, 2, 1])"
   ]
  },
  {
   "cell_type": "code",
   "execution_count": 99,
   "id": "09085a34",
   "metadata": {},
   "outputs": [
    {
     "data": {
      "text/plain": [
       "2"
      ]
     },
     "execution_count": 99,
     "metadata": {},
     "output_type": "execute_result"
    }
   ],
   "source": [
    "'''\n",
    "n = 12 (1100)\n",
    "\n",
    "step-1: \n",
    "n & (n - 1)\n",
    "1100 & 1011 = 1000\n",
    "count = 1\n",
    "\n",
    "step-2:\n",
    "n = 1000\n",
    "n - 1 = 0111\n",
    "n = n & (n - 1) = 0000\n",
    "count = 2\n",
    "'''\n",
    "class Solution:\n",
    "    def hammingWeight(self, n: int) -> int:\n",
    "        count = 0\n",
    "        while n:\n",
    "            n = n & (n - 1)\n",
    "            count += 1\n",
    "        return count \n",
    "    \n",
    "solution = Solution()\n",
    "solution.hammingWeight(12)"
   ]
  },
  {
   "cell_type": "code",
   "execution_count": 101,
   "id": "3774114c",
   "metadata": {},
   "outputs": [
    {
     "data": {
      "text/plain": [
       "[0, 1, 1, 2, 1, 2]"
      ]
     },
     "execution_count": 101,
     "metadata": {},
     "output_type": "execute_result"
    }
   ],
   "source": [
    "class Solution:\n",
    "    \n",
    "    def countBits(self, n):\n",
    "        dp = [0] * (n + 1)\n",
    "        offset = 1\n",
    "        for i in range(1, n + 1):\n",
    "            if offset * 2 == i:\n",
    "                offset = i \n",
    "            dp[i] = 1 + dp[i - offset]\n",
    "        return dp\n",
    "    \n",
    "solution = Solution()\n",
    "solution.countBits(5)"
   ]
  },
  {
   "cell_type": "code",
   "execution_count": 102,
   "id": "c1f860f8",
   "metadata": {},
   "outputs": [
    {
     "data": {
      "text/plain": [
       "964176192"
      ]
     },
     "execution_count": 102,
     "metadata": {},
     "output_type": "execute_result"
    }
   ],
   "source": [
    "class Solution:\n",
    "    def reverseBits(self, n: int) -> int:\n",
    "        res = 0 \n",
    "        for i in range(32):\n",
    "            bit = (n >> i) & 1 \n",
    "            res = res | bit << (31 - i)\n",
    "        return res \n",
    "    \n",
    "solution = Solution()\n",
    "solution.reverseBits(43261596)"
   ]
  },
  {
   "cell_type": "code",
   "execution_count": 104,
   "id": "f6c68b4c",
   "metadata": {},
   "outputs": [
    {
     "name": "stdout",
     "output_type": "stream",
     "text": [
      "Binary '1011' to integer: 11\n",
      "Integer 11 to binary: 1011\n"
     ]
    }
   ],
   "source": [
    "def bin_to_int(binary_str: str) -> int:\n",
    "    \"\"\"\n",
    "    Converts a binary string to an integer.\n",
    "    Example: '1011' returns 11.\n",
    "    \"\"\"\n",
    "    return int(binary_str, 2)\n",
    "\n",
    "def int_to_bin(n: int) -> str:\n",
    "    return bin(n)[2:]\n",
    "\n",
    "\n",
    "# Example usage:\n",
    "binary_str = \"1011\"\n",
    "converted_int = bin_to_int(binary_str)\n",
    "print(f\"Binary '{binary_str}' to integer:\", converted_int)\n",
    "\n",
    "integer_number = 11\n",
    "converted_binary = int_to_bin(integer_number)\n",
    "print(f\"Integer {integer_number} to binary:\", converted_binary)"
   ]
  },
  {
   "cell_type": "code",
   "execution_count": 105,
   "id": "c15410f6",
   "metadata": {},
   "outputs": [
    {
     "data": {
      "text/plain": [
       "3"
      ]
     },
     "execution_count": 105,
     "metadata": {},
     "output_type": "execute_result"
    }
   ],
   "source": [
    "''' \n",
    "Input: a = 1, b = 2\n",
    "Output: 3\n",
    "'''\n",
    "\n",
    "class Solution:\n",
    "    def getSum(self, a: int, b: int) -> int:\n",
    "        while b:\n",
    "            temp = (a & b) << 1\n",
    "            a = a ^ b \n",
    "            b = temp \n",
    "        return a \n",
    "    \n",
    "solution = Solution()\n",
    "solution.getSum(1, 2)"
   ]
  },
  {
   "cell_type": "code",
   "execution_count": 107,
   "id": "cb6d31e2",
   "metadata": {},
   "outputs": [
    {
     "data": {
      "text/plain": [
       "24"
      ]
     },
     "execution_count": 107,
     "metadata": {},
     "output_type": "execute_result"
    }
   ],
   "source": [
    "class Solution:\n",
    "    def rangeBitwiseAnd(self, left: int, right: int) -> int:\n",
    "        shift = 0\n",
    "        while left != right:\n",
    "            left = left >> 1 \n",
    "            right = right >> 1\n",
    "            shift += 1\n",
    "        return left << shift\n",
    "    \n",
    "\n",
    "solution = Solution()\n",
    "solution.rangeBitwiseAnd(26, 30)"
   ]
  },
  {
   "cell_type": "code",
   "execution_count": 108,
   "id": "cf3e8d97",
   "metadata": {},
   "outputs": [
    {
     "data": {
      "text/plain": [
       "['((()))', '(()())', '(())()', '()(())', '()()()']"
      ]
     },
     "execution_count": 108,
     "metadata": {},
     "output_type": "execute_result"
    }
   ],
   "source": [
    "''' \n",
    "Input: n = 3\n",
    "Output: [\"((()))\",\"(()())\",\"(())()\",\"()(())\",\"()()()\"]\n",
    "'''\n",
    "\n",
    "from typing import List\n",
    "\n",
    "class Solution:\n",
    "    def generateParenthesis(self, n: int) -> List[str]:\n",
    "        res = []\n",
    "        def backtrack(left_count, right_count, path):\n",
    "            if left_count == right_count == n:\n",
    "                res.append(path)\n",
    "                return\n",
    "\n",
    "            if left_count < n:\n",
    "                backtrack(left_count + 1, right_count, path + '(')\n",
    "\n",
    "            if right_count < left_count:\n",
    "                backtrack(left_count, right_count + 1, path + ')')\n",
    "        backtrack(0, 0, '')\n",
    "        return res \n",
    "\n",
    "solution = Solution()\n",
    "solution.generateParenthesis(3) \n"
   ]
  },
  {
   "cell_type": "code",
   "execution_count": null,
   "id": "9642e037",
   "metadata": {},
   "outputs": [
    {
     "data": {
      "text/plain": [
       "[[1, 2, 3], [1, 3, 2], [2, 1, 3], [2, 3, 1], [3, 1, 2], [3, 2, 1]]"
      ]
     },
     "execution_count": 109,
     "metadata": {},
     "output_type": "execute_result"
    }
   ],
   "source": [
    "''' \n",
    "Input: nums = [1,2,3]\n",
    "Output: [[1,2,3],[1,3,2],[2,1,3],[2,3,1],[3,1,2],[3,2,1]]\n",
    "'''\n",
    "\n",
    "class Solution:\n",
    "    def permutations(self, nums: List[int]) -> List[int]:\n",
    "        res = []\n",
    "        n = len(nums)\n",
    "        def backtrack(path, used):\n",
    "            if len(path) == n:\n",
    "                res.append(path[:])\n",
    "                return\n",
    "            \n",
    "            for i in range(len(nums)):\n",
    "                if used[i]:\n",
    "                    continue\n",
    "                path.append(nums[i])\n",
    "                used[i] = True\n",
    "                backtrack(path, used)\n",
    "                used[i] = False\n",
    "                path.pop()\n",
    "        backtrack([], [False, False, False])\n",
    "        return res \n",
    "    \n",
    "solution = Solution()\n",
    "solution.permutations([1, 2, 3])\n"
   ]
  },
  {
   "cell_type": "code",
   "execution_count": 118,
   "id": "77e59f09",
   "metadata": {},
   "outputs": [
    {
     "data": {
      "text/plain": [
       "[[], [1], [1, 2], [1, 2, 3], [1, 3], [2], [2, 3], [3]]"
      ]
     },
     "execution_count": 118,
     "metadata": {},
     "output_type": "execute_result"
    }
   ],
   "source": [
    "''' \n",
    "Input: nums = [1,2,3]\n",
    "Output: [[],[1],[2],[1,2],[3],[1,3],[2,3],[1,2,3]]\n",
    "'''\n",
    "\n",
    "class Solution:\n",
    "    def subsets(self, nums: List[int]) -> List[int]:\n",
    "        res = []\n",
    "        def backtrack(start, path):\n",
    "            res.append(path[:])\n",
    "            for end in range(start, len(nums)):\n",
    "                path.append(nums[end])\n",
    "                backtrack(end + 1, path)\n",
    "                path.pop()\n",
    "        backtrack(0, [])\n",
    "        return res \n",
    "    \n",
    "solution = Solution()\n",
    "solution.subsets([1, 2, 3])\n"
   ]
  },
  {
   "cell_type": "code",
   "execution_count": 123,
   "id": "3658f1c0",
   "metadata": {},
   "outputs": [
    {
     "data": {
      "text/plain": [
       "[['a', 'a', 'b'], ['aa', 'b']]"
      ]
     },
     "execution_count": 123,
     "metadata": {},
     "output_type": "execute_result"
    }
   ],
   "source": [
    "''' \n",
    "Input: s = \"aab\"\n",
    "Output: [[\"a\",\"a\",\"b\"],[\"aa\",\"b\"]]\n",
    "'''\n",
    "\n",
    "class Solution:\n",
    "    def partition(self, s: str) -> List[List[str]]:\n",
    "\n",
    "        def is_palindrome(s):\n",
    "            return s == s[::-1]\n",
    "        \n",
    "        res = []\n",
    "        def backtrack(start, path):\n",
    "            if start == len(s):\n",
    "                res.append(path[:])\n",
    "                return\n",
    "            \n",
    "            for end in range(start, len(s)):\n",
    "                if is_palindrome(s[start:end + 1]):\n",
    "                    path.append(s[start:end + 1])\n",
    "                    backtrack(end + 1, path)\n",
    "                    path.pop()\n",
    "        backtrack(0, [])\n",
    "        return res \n",
    "    \n",
    "solution = Solution()\n",
    "solution.partition(\"aab\")"
   ]
  },
  {
   "cell_type": "code",
   "execution_count": 127,
   "id": "7bcbf734",
   "metadata": {},
   "outputs": [
    {
     "data": {
      "text/plain": [
       "[['.Q..', '...Q', 'Q...', '..Q.'], ['..Q.', 'Q...', '...Q', '.Q..']]"
      ]
     },
     "execution_count": 127,
     "metadata": {},
     "output_type": "execute_result"
    }
   ],
   "source": [
    "''' \n",
    "Input: n = 4\n",
    "Output: [[\".Q..\",\"...Q\",\"Q...\",\"..Q.\"],[\"..Q.\",\"Q...\",\"...Q\",\".Q..\"]]\n",
    "Explanation: There exist two distinct solutions to the 4-queens puzzle as shown above\n",
    "'''\n",
    "\n",
    "class Solution:\n",
    "    def solveNQueens(self, n: int) -> List[List[str]]:\n",
    "        col = set()\n",
    "        pos_diag = set()\n",
    "        neg_diag = set()\n",
    "        res = []\n",
    "        board = [[\".\"] * n for i in range(n)]\n",
    "        def backtrack(r):\n",
    "            if r == n:\n",
    "                copy = [\"\".join(row) for row in board]\n",
    "                res.append(copy)\n",
    "                return \n",
    "            \n",
    "            for c in range(n):\n",
    "                if c in col or (r - c) in neg_diag or (r + c) in pos_diag:\n",
    "                    continue\n",
    "\n",
    "                col.add(c)\n",
    "                pos_diag.add(r + c)\n",
    "                neg_diag.add(r - c)\n",
    "                board[r][c] = 'Q'\n",
    "                backtrack(r + 1)\n",
    "                col.remove(c)\n",
    "                pos_diag.remove(r + c)\n",
    "                neg_diag.remove(r - c)\n",
    "                board[r][c] = '.'\n",
    "        backtrack(0)\n",
    "        return res \n",
    "    \n",
    "solution = Solution()\n",
    "solution.solveNQueens(4)"
   ]
  },
  {
   "cell_type": "code",
   "execution_count": null,
   "id": "9ef68a50",
   "metadata": {},
   "outputs": [],
   "source": []
  },
  {
   "cell_type": "code",
   "execution_count": 135,
   "id": "f0bddfb3",
   "metadata": {},
   "outputs": [
    {
     "name": "stdout",
     "output_type": "stream",
     "text": [
      "4\n",
      "2\n",
      "5\n",
      "1\n",
      "3\n"
     ]
    }
   ],
   "source": [
    "class TreeNode:\n",
    "    def __init__(self, value):\n",
    "        self.left = None \n",
    "        self.value = value \n",
    "        self.right = None \n",
    "    \n",
    "class BinarySearchTree:\n",
    "    def __init__(self):\n",
    "        pass\n",
    "\n",
    "    def insert(self, root, value):\n",
    "        if root is None:\n",
    "            return TreeNode(value)\n",
    "        if root.value > value:\n",
    "            root.left = self.insert(root.left, value)\n",
    "        else:\n",
    "            root.right = self.insert(root.right, value)\n",
    "        return root \n",
    "    \n",
    "    def insert_without_recursion(self, root, value):\n",
    "        new_node = TreeNode(value)\n",
    "        if root is None:\n",
    "            root = new_node\n",
    "            return root\n",
    "        \n",
    "        curr = root\n",
    "        while True:\n",
    "            if curr.value > value:\n",
    "                if curr.left is None:\n",
    "                    curr.left = new_node\n",
    "                    break\n",
    "                curr = curr.left \n",
    "            else:\n",
    "                if curr.right is None:\n",
    "                    curr.right = new_node\n",
    "                    break\n",
    "                curr = curr.right \n",
    "        return root\n",
    "\n",
    "    def inorder(self, root):\n",
    "        if root:\n",
    "            self.inorder(root.left)\n",
    "            print(root.value)\n",
    "            self.inorder(root.right)\n",
    "    \n",
    "    def preorder(self, root):\n",
    "        if root:\n",
    "            print(root.value)\n",
    "            self.preorder(root.left)\n",
    "            self.preorder(root.right)\n",
    "    \n",
    "    def postorder(self, root):\n",
    "        if root:\n",
    "            self.postorder(root.left)\n",
    "            self.postorder(root.right)\n",
    "            print(root.value)\n",
    "    \n",
    "    def level_order(self, root):\n",
    "        if root is None:\n",
    "            return root\n",
    "        queue = deque([root])\n",
    "        while queue:\n",
    "            node = queue.popleft()\n",
    "            print(node.value)\n",
    "            if node.left:\n",
    "                queue.append(node.left)\n",
    "            if node.right:\n",
    "                queue.append(node.right)\n",
    "\n",
    "\n",
    "bst = BinarySearchTree()\n",
    "root = TreeNode(1)\n",
    "root.left = TreeNode(2)\n",
    "root.right = TreeNode(3)\n",
    "root.left.left = TreeNode(4)\n",
    "root.left.right = TreeNode(5)\n",
    "\n",
    "\n",
    "root = None\n",
    "values = [4, 2, 1, 3, 5]\n",
    "for value in values:\n",
    "    root = bst.insert_without_recursion(root, value)\n",
    "\n",
    "bst.level_order(root)\n"
   ]
  },
  {
   "cell_type": "code",
   "execution_count": 141,
   "id": "f1980ccc",
   "metadata": {},
   "outputs": [
    {
     "data": {
      "text/plain": [
       "[[3], [9, 20], [15, 7]]"
      ]
     },
     "execution_count": 141,
     "metadata": {},
     "output_type": "execute_result"
    }
   ],
   "source": [
    "''' \n",
    "Input: root = [3,9,20,null,null,15,7]\n",
    "Output: [[3],[9,20],[15,7]]\n",
    "'''\n",
    "from typing import List, Optional\n",
    "from collections import deque\n",
    "\n",
    "# Definition for a binary tree node.\n",
    "class TreeNode:\n",
    "    def __init__(self, val=0, left=None, right=None):\n",
    "        self.val = val\n",
    "        self.left = left\n",
    "        self.right = right\n",
    "\n",
    "class Solution:\n",
    "    def levelOrder(self, root: Optional[TreeNode]) -> List[List[int]]:\n",
    "        if not root:\n",
    "            return\n",
    "        queue = deque([root])\n",
    "        res = []\n",
    "        while queue:\n",
    "            level_size = len(queue)\n",
    "            level = []\n",
    "            for _ in range(level_size):\n",
    "                node = queue.popleft()\n",
    "                level.append(node.val)\n",
    "                if node.left:\n",
    "                    queue.append(node.left)\n",
    "                if node.right:\n",
    "                    queue.append(node.right)\n",
    "            res.append(level)\n",
    "        return res \n",
    "\n",
    "root = TreeNode(3)\n",
    "root.left = TreeNode(9)\n",
    "root.right = TreeNode(20, TreeNode(15), TreeNode(7))\n",
    "solution = Solution()\n",
    "solution.levelOrder(root)"
   ]
  },
  {
   "cell_type": "code",
   "execution_count": 143,
   "id": "86ee5036",
   "metadata": {},
   "outputs": [
    {
     "data": {
      "text/plain": [
       "[1, 3, 4]"
      ]
     },
     "execution_count": 143,
     "metadata": {},
     "output_type": "execute_result"
    }
   ],
   "source": [
    "''' \n",
    "Input: root = [1,2,3,null,5,null,4]\n",
    "\n",
    "Output: [1,3,4]\n",
    "'''\n",
    "\n",
    "class TreeNode:\n",
    "    def __init__(self, val=0, left=None, right=None):\n",
    "        self.val = val\n",
    "        self.left = left\n",
    "        self.right = right\n",
    "class Solution:\n",
    "    def rightSideView(self, root: Optional[TreeNode]) -> List[int]:\n",
    "        if not root:\n",
    "            return\n",
    "        queue = deque([root])\n",
    "        res = []\n",
    "        while queue:\n",
    "            level = []\n",
    "            level_size = len(queue)\n",
    "            for _ in range(level_size):\n",
    "                node = queue.popleft()\n",
    "                level.append(node.val)\n",
    "                if node.left:\n",
    "                    queue.append(node.left)\n",
    "                \n",
    "                if node.right:\n",
    "                    queue.append(node.right)\n",
    "            res.append(level[-1])\n",
    "        return res \n",
    "    \n",
    "\n",
    "solution = Solution()\n",
    "root = TreeNode(1, TreeNode(2, None, TreeNode(5)), TreeNode(3, None, TreeNode(4)))\n",
    "\n",
    "solution.rightSideView(root)"
   ]
  },
  {
   "cell_type": "code",
   "execution_count": 149,
   "id": "135325e4",
   "metadata": {},
   "outputs": [
    {
     "name": "stdout",
     "output_type": "stream",
     "text": [
      "Level order traversal using next pointers:\n",
      "1 -> None\n",
      "2 -> 3 -> None\n",
      "4 -> 5 -> 7 -> None\n",
      "5 -> 7 -> None\n",
      "7 -> None\n"
     ]
    }
   ],
   "source": [
    "from collections import deque\n",
    "\n",
    "# Definition for a Node.\n",
    "class Node:\n",
    "    def __init__(self, val=0, left=None, right=None, next=None):\n",
    "        self.val = val\n",
    "        self.left = left\n",
    "        self.right = right\n",
    "        self.next = next\n",
    "\n",
    "class Solution:\n",
    "    def connect(self, root: 'Node') -> 'Node':\n",
    "        if not root:\n",
    "            return\n",
    "        queue = deque([root])\n",
    "        while queue:\n",
    "            level = []\n",
    "            level_size = len(queue)\n",
    "            for i in range(level_size):\n",
    "                node = queue.popleft()\n",
    "                if i < level_size - 1:\n",
    "                    node.next = queue[0]\n",
    "                level.append(node.val)\n",
    "                if node.left:\n",
    "                    queue.append(node.left)\n",
    "                \n",
    "                if node.right:\n",
    "                    queue.append(node.right)\n",
    "        return root \n",
    "    \n",
    "\n",
    "def print_levels(root):\n",
    "    while root:\n",
    "        current = root\n",
    "        while current:\n",
    "            print(current.val, end=\" -> \")\n",
    "            current = current.next\n",
    "        print(\"None\")\n",
    "        # Move to the first node of the next level\n",
    "        if root.left:\n",
    "            root = root.left\n",
    "        elif root.right:\n",
    "            root = root.right\n",
    "        else:\n",
    "            root = root.next\n",
    "\n",
    "# Build example tree:\n",
    "#       1\n",
    "#      / \\\n",
    "#     2   3\n",
    "#    / \\    \\\n",
    "#   4   5    7\n",
    "\n",
    "root = Node(1)\n",
    "root.left = Node(2)\n",
    "root.right = Node(3)\n",
    "root.left.left = Node(4)\n",
    "root.left.right = Node(5)\n",
    "root.right.right = Node(7)\n",
    "\n",
    "# Apply the solution\n",
    "sol = Solution()\n",
    "sol.connect(root)\n",
    "\n",
    "# Print levels\n",
    "print(\"Level order traversal using next pointers:\")\n",
    "print_levels(root)"
   ]
  },
  {
   "cell_type": "code",
   "execution_count": 150,
   "id": "6a90ce80",
   "metadata": {},
   "outputs": [
    {
     "data": {
      "text/plain": [
       "[1, 3, 2]"
      ]
     },
     "execution_count": 150,
     "metadata": {},
     "output_type": "execute_result"
    }
   ],
   "source": [
    "''' \n",
    "Input: root = [1,null,2,3]\n",
    "\n",
    "Output: [1,3,2]\n",
    "'''\n",
    "\n",
    "class TreeNode:\n",
    "    def __init__(self, val=0, left=None, right=None):\n",
    "        self.val = val\n",
    "        self.left = left\n",
    "        self.right = right\n",
    "class Solution:\n",
    "    def inorderTraversal(self, root: Optional[TreeNode]) -> List[int]:\n",
    "        res = []\n",
    "        def dfs(node):\n",
    "            if not node:\n",
    "                return \n",
    "            dfs(node.left)\n",
    "            res.append(node.val)\n",
    "            dfs(node.right)\n",
    "        dfs(root)\n",
    "        return res \n",
    "    \n",
    "\n",
    "solution = Solution()\n",
    "solution.inorderTraversal(TreeNode(1, None, TreeNode(2, TreeNode(3))))"
   ]
  },
  {
   "cell_type": "code",
   "execution_count": 154,
   "id": "0d1c5e5d",
   "metadata": {},
   "outputs": [
    {
     "data": {
      "text/plain": [
       "True"
      ]
     },
     "execution_count": 154,
     "metadata": {},
     "output_type": "execute_result"
    }
   ],
   "source": [
    "'''\n",
    "\n",
    "A valid BST is defined as follows:\n",
    "\n",
    "The left subtree of a node contains only nodes with keys less than the node's key.\n",
    "The right subtree of a node contains only nodes with keys greater than the node's key.\n",
    "Both the left and right subtrees must also be binary search trees.\n",
    "\n",
    "\n",
    "Input: root = [2,1,3]\n",
    "Output: true\n",
    "'''\n",
    "\n",
    "class TreeNode:\n",
    "    def __init__(self, val=0, left=None, right=None):\n",
    "        self.val = val\n",
    "        self.left = left\n",
    "        self.right = right\n",
    "class Solution:\n",
    "    def isValidBST(self, root: Optional[TreeNode]) -> bool:\n",
    "        res = []\n",
    "        def dfs(node):\n",
    "            if not node:\n",
    "                return \n",
    "            dfs(node.left)\n",
    "            res.append(node.val)\n",
    "            dfs(node.right)\n",
    "        dfs(root)\n",
    "        prev = res[0]\n",
    "        for num in res[1:]:\n",
    "            if prev >= num:\n",
    "                return False \n",
    "        return True \n",
    "    \n",
    "solution = Solution()\n",
    "solution.isValidBST(TreeNode(2, TreeNode(1), TreeNode(3)))"
   ]
  },
  {
   "cell_type": "code",
   "execution_count": null,
   "id": "7c8e46f3",
   "metadata": {},
   "outputs": [],
   "source": [
    "''' \n",
    "Input: root = [3,1,4,null,2], k = 1\n",
    "Output: 1\n",
    "'''\n",
    "\n",
    "class TreeNode:\n",
    "    def __init__(self, val=0, left=None, right=None):\n",
    "        self.val = val\n",
    "        self.left = left\n",
    "        self.right = right\n",
    "class Solution:\n",
    "    def kthSmallest(self, root: Optional[TreeNode], k: int) -> int:\n",
    "        res = []\n",
    "        def inorder(node):\n",
    "            if not node:\n",
    "                return\n",
    "            inorder(node.left)\n",
    "            res.append(node.val)\n",
    "            inorder(node.right)\n",
    "        inorder(root)\n",
    "        return res[k - 1]\n",
    "    \n"
   ]
  },
  {
   "cell_type": "code",
   "execution_count": null,
   "id": "3ecac7b7",
   "metadata": {},
   "outputs": [],
   "source": [
    "''' \n",
    "Input\n",
    "[\"BSTIterator\", \"next\", \"next\", \"hasNext\", \"next\", \"hasNext\", \"next\", \"hasNext\", \"next\", \"hasNext\"]\n",
    "[[[7, 3, 15, null, null, 9, 20]], [], [], [], [], [], [], [], [], []]\n",
    "Output\n",
    "[null, 3, 7, true, 9, true, 15, true, 20, false]\n",
    "'''\n",
    "\n",
    "# Definition for a binary tree node.\n",
    "class TreeNode(object):\n",
    "    def __init__(self, val=0, left=None, right=None):\n",
    "        self.val = val\n",
    "        self.left = left\n",
    "        self.right = right\n",
    "class BSTIterator(object):\n",
    "\n",
    "    def __init__(self, root):\n",
    "        self.res = []\n",
    "        self.i = 0\n",
    "        self.inorder(root)\n",
    "\n",
    "    def inorder(self, node):\n",
    "        if not node:\n",
    "            return\n",
    "        self.inorder(node.left)\n",
    "        self.res.append(node.val)\n",
    "        self.inorder(node.right)\n",
    "    \n",
    "    def next(self):\n",
    "        self.i += 1\n",
    "        return self.res[self.i - 1]\n",
    "\n",
    "    def hasNext(self):\n",
    "        return self.i  < len(self.res)\n",
    "    \n"
   ]
  },
  {
   "cell_type": "code",
   "execution_count": 156,
   "metadata": {},
   "outputs": [
    {
     "data": {
      "text/plain": [
       "[3, 2, 1]"
      ]
     },
     "execution_count": 156,
     "metadata": {},
     "output_type": "execute_result"
    }
   ],
   "source": [
    "''' \n",
    "Input: root = [1,null,2,3]\n",
    "\n",
    "Output: [3,2,1]\n",
    "'''\n",
    "\n",
    "class TreeNode:\n",
    "    def __init__(self, val=0, left=None, right=None):\n",
    "        self.val = val\n",
    "        self.left = left\n",
    "        self.right = right\n",
    "class Solution:\n",
    "    def postorderTraversal(self, root: Optional[TreeNode]) -> List[int]:\n",
    "        res = []\n",
    "        def postorder(node):\n",
    "            if not node:\n",
    "                return \n",
    "            postorder(node.left)\n",
    "            postorder(node.right)\n",
    "            res.append(node.val)\n",
    "        postorder(root)\n",
    "        return res \n",
    "    \n",
    "solution = Solution()\n",
    "solution.postorderTraversal(TreeNode(1, None, TreeNode(2, TreeNode(3))))"
   ]
  },
  {
   "cell_type": "code",
   "execution_count": 161,
   "id": "f76bf9a3",
   "metadata": {},
   "outputs": [
    {
     "data": {
      "text/plain": [
       "<__main__.TreeNode at 0x25cee127650>"
      ]
     },
     "execution_count": 161,
     "metadata": {},
     "output_type": "execute_result"
    }
   ],
   "source": [
    "''' \n",
    "Input: root = [4,2,7,1,3,6,9]\n",
    "Output: [4,7,2,9,6,3,1]\n",
    "'''\n",
    "\n",
    "class TreeNode:\n",
    "    def __init__(self, val=0, left=None, right=None):\n",
    "        self.val = val\n",
    "        self.left = left\n",
    "        self.right = right\n",
    "class Solution:\n",
    "    def invertTree(self, root: Optional[TreeNode]) -> Optional[TreeNode]:\n",
    "        if not root:\n",
    "            return\n",
    "        temp = root.left\n",
    "        root.left = root.right\n",
    "        root.right = temp\n",
    "        root.left = self.invertTree(root.left)\n",
    "        root.right = self.invertTree(root.right)\n",
    "        return root \n",
    "        \n",
    "solution = Solution()\n",
    "solution.invertTree(TreeNode(4, TreeNode(2, TreeNode(1), TreeNode(3)), TreeNode(7, TreeNode(6), TreeNode(9))))"
   ]
  },
  {
   "cell_type": "code",
   "execution_count": 162,
   "metadata": {},
   "outputs": [],
   "source": [
    "''' \n",
    "Input: root = [6,2,8,0,4,7,9,null,null,3,5], p = 2, q = 8\n",
    "Output: 6\n",
    "Explanation: The LCA of nodes 2 and 8 is 6.\n",
    "'''\n",
    "\n",
    "# Definition for a binary tree node.\n",
    "# class TreeNode:\n",
    "#     def __init__(self, x):\n",
    "#         self.val = x\n",
    "#         self.left = None\n",
    "#         self.right = None\n",
    "\n",
    "class Solution:\n",
    "    def lowestCommonAncestor(self, root: 'TreeNode', p: 'TreeNode', q: 'TreeNode') -> 'TreeNode':\n",
    "        cur = root\n",
    "        while cur:\n",
    "            if p.val < cur.val and q.val < cur.val:\n",
    "                cur = cur.left \n",
    "            elif p.val > cur.val and q.val > cur.val:\n",
    "                cur = cur.right \n",
    "            else:\n",
    "                return cur"
   ]
  },
  {
   "cell_type": "code",
   "execution_count": null,
   "id": "21f6f89a",
   "metadata": {},
   "outputs": [],
   "source": [
    "''' \n",
    "Input: root = [3,5,1,6,2,0,8,null,null,7,4], p = 5, q = 1\n",
    "Output: 3\n",
    "Explanation: The LCA of nodes 5 and 1 is 3.\n",
    "'''\n",
    "\n",
    "class TreeNode:\n",
    "    def __init__(self, x):\n",
    "        self.val = x\n",
    "        self.left = None\n",
    "        self.right = None\n",
    "\n",
    "class Solution:\n",
    "    def lowestCommonAncestor(self, root: 'TreeNode', p: 'TreeNode', q: 'TreeNode') -> 'TreeNode':\n",
    "        if not root:\n",
    "            return None \n",
    "        \n",
    "        self.max_diameter = 0 \n",
    "        \n",
    "        def postorder(node):\n",
    "            if not node:\n",
    "                return 0 \n",
    "            \n",
    "            left_height = postorder(node.left)\n",
    "            right_height = postorder(node.right)\n",
    "\n",
    "            self.max_diameter = max(self.max_diameter, left_height + right_height)\n",
    "\n",
    "            return 1 + max(left_height, right_height)\n",
    "        postorder(root)\n",
    "        return self.max_diameter\n",
    "\n"
   ]
  },
  {
   "cell_type": "code",
   "execution_count": null,
   "id": "5b758d56",
   "metadata": {},
   "outputs": [],
   "source": [
    "# Definition for a binary tree node.\n",
    "class TreeNode:\n",
    "    def __init__(self, val=0, left=None, right=None):\n",
    "        self.val = val\n",
    "        self.left = left\n",
    "        self.right = right\n",
    "\n",
    "class Solution:\n",
    "    def maxPathSum(self, root: Optional[TreeNode]) -> int:\n",
    "        self.max_sum = float('-inf')  # initialize global maximum\n",
    "\n",
    "        def dfs(node):\n",
    "            if not node:\n",
    "                return \n",
    "            \n",
    "            left_max = max(dfs(node.left), 0)\n",
    "            right_max = max(dfs(node.right), 0)\n",
    "            self.max_sum = max(self.max_sum, node.val + left_max + right_max)\n",
    "            return node.val + max(left_max, right_max)\n",
    "        dfs(root)\n",
    "        return self.max_sum\n",
    "    \n"
   ]
  },
  {
   "cell_type": "code",
   "execution_count": 165,
   "id": "9620b2cb",
   "metadata": {},
   "outputs": [
    {
     "data": {
      "text/plain": [
       "[1, 2, 3]"
      ]
     },
     "execution_count": 165,
     "metadata": {},
     "output_type": "execute_result"
    }
   ],
   "source": [
    "''' \n",
    "Input: root = [1,null,2,3]\n",
    "\n",
    "Output: [1,2,3]\n",
    "'''\n",
    "\n",
    "class TreeNode:\n",
    "    def __init__(self, val=0, left=None, right=None):\n",
    "        self.val = val\n",
    "        self.left = left\n",
    "        self.right = right\n",
    "class Solution:\n",
    "    def preorderTraversal(self, root: Optional[TreeNode]) -> List[int]:\n",
    "        res = []\n",
    "        def preorder(node):\n",
    "            if not node:\n",
    "                return\n",
    "            res.append(node.val)\n",
    "            preorder(node.left)\n",
    "            preorder(node.right)\n",
    "        preorder(root)\n",
    "        return res \n",
    "    \n",
    "solution = Solution()\n",
    "solution.preorderTraversal(TreeNode(1, None, TreeNode(2, TreeNode(3))))"
   ]
  },
  {
   "cell_type": "code",
   "execution_count": null,
   "id": "8297f19a",
   "metadata": {},
   "outputs": [],
   "source": [
    "''' \n",
    "Input: root = [1,2,2,3,4,4,3]\n",
    "Output: true\n",
    "'''\n",
    "\n",
    "# class TreeNode:\n",
    "#     def __init__(self, val=0, left=None, right=None):\n",
    "#         self.val = val\n",
    "#         self.left = left\n",
    "#         self.right = right\n",
    "class Solution:\n",
    "    def isSymmetric(self, root: Optional[TreeNode]) -> bool:\n",
    "        def is_mirror(p, q):\n",
    "            if not p and not q:\n",
    "                return True \n",
    "            if not p or not q:\n",
    "                return False \n",
    "            return p.val == q.val and is_mirror(p.left, q.right) and is_mirror(p.right, q.left)\n",
    "\n",
    "        return is_mirror(root, root)\n"
   ]
  },
  {
   "cell_type": "code",
   "execution_count": null,
   "metadata": {},
   "outputs": [],
   "source": [
    "''' \n",
    "Input: nums = [-10,-3,0,5,9]\n",
    "Output: [0,-3,9,-10,null,5]\n",
    "Explanation: [0,-10,5,null,-3,null,9] is also accepted:\n",
    "'''\n",
    "\n",
    "class TreeNode:\n",
    "    def __init__(self, val=0, left=None, right=None):\n",
    "        self.val = val\n",
    "        self.left = left\n",
    "        self.right = right\n",
    "class Solution:\n",
    "    def sortedArrayToBST(self, nums: List[int]) -> Optional[TreeNode]:\n",
    "        if len(nums) == 0:\n",
    "            return\n",
    "        mid = len(nums) // 2\n",
    "        root = TreeNode(nums[mid])\n",
    "        root.left = self.sortedArrayToBST(nums[:mid])\n",
    "        root.right = self.sortedArrayToBST(nums[mid+1:])\n",
    "        return root\n"
   ]
  },
  {
   "cell_type": "code",
   "execution_count": null,
   "id": "d88fde25",
   "metadata": {},
   "outputs": [],
   "source": [
    "''' \n",
    "Input: preorder = [3,9,20,15,7], inorder = [9,3,15,20,7]\n",
    "Output: [3,9,20,null,null,15,7]\n",
    "'''\n",
    "\n",
    "class TreeNode:\n",
    "    def __init__(self, val=0, left=None, right=None):\n",
    "        self.val = val\n",
    "        self.left = left\n",
    "        self.right = right\n",
    "class Solution:\n",
    "    def buildTree(self, preorder: List[int], inorder: List[int]) -> Optional[TreeNode]:\n",
    "        if not preorder or not inorder:\n",
    "            return None\n",
    "        root = TreeNode(preorder[0])\n",
    "        mid = inorder.index(preorder[0])\n",
    "        root.left = self.buildTree(preorder[1:mid + 1], inorder[:mid])\n",
    "        root.right = self.buildTree(preorder[mid + 1:], inorder[mid + 1:])\n",
    "        return root \n"
   ]
  },
  {
   "cell_type": "code",
   "execution_count": null,
   "id": "3d547380",
   "metadata": {},
   "outputs": [],
   "source": [
    "''' \n",
    "Input: root = [1,2,3,null,null,4,5]\n",
    "Output: [1,2,3,null,null,4,5]\n",
    "'''\n",
    "\n",
    "class TreeNode(object):\n",
    "    def __init__(self, x):\n",
    "        self.val = x\n",
    "        self.left = None\n",
    "        self.right = None\n",
    "\n",
    "class Codec:\n",
    "\n",
    "    def serialize(self, root):\n",
    "        res = []\n",
    "\n",
    "        def dfs(node):\n",
    "            if not node:\n",
    "                res.append('N')\n",
    "                return\n",
    "            res.append(str(node.val))\n",
    "            dfs(node.left)\n",
    "            dfs(node.right)\n",
    "        dfs(root)\n",
    "        return \",\".join(res)\n",
    "    \n",
    "    def deserialize(self, data):\n",
    "        vals = data.split(',')\n",
    "        self.i = 0 \n",
    "\n",
    "        def dfs():\n",
    "            if vals[self.i] == 'N':\n",
    "                self.i += 1\n",
    "                return None \n",
    "            root = TreeNode(int(vals[self.i]))\n",
    "            self.i += 1\n",
    "            root.left = dfs()\n",
    "            root.right = dfs()\n",
    "            return root\n",
    "        return dfs()\n",
    "     \n",
    "    "
   ]
  },
  {
   "cell_type": "code",
   "execution_count": 170,
   "id": "e97e82f4",
   "metadata": {},
   "outputs": [],
   "source": [
    "''' \n",
    "Input: root = [10,5,-3,3,2,null,11,3,-2,null,1], targetSum = 8\n",
    "Output: 3\n",
    "Explanation: The paths that sum to 8 are shown.\n",
    "'''\n",
    "\n",
    "class Solution:\n",
    "    def pathSum(self, root: TreeNode, targetSum: int) -> int:\n",
    "        prefix_sum = {0 : -1}\n",
    "\n",
    "        def dfs(node, current_sum):\n",
    "            if not node:\n",
    "                return 0\n",
    "            current_sum += node.val \n",
    "            count = prefix_sum.get(current_sum - targetSum, 0)\n",
    "\n",
    "            prefix_sum[current_sum] = prefix_sum.get(current_sum, 0) + 1\n",
    "\n",
    "            count += dfs(node.left, current_sum)\n",
    "            count += dfs(node.right, current_sum)\n",
    "\n",
    "            prefix_sum[current_sum] -= 1\n",
    "            return count \n",
    "        \n",
    "        return dfs(root, 0)"
   ]
  },
  {
   "cell_type": "code",
   "execution_count": 171,
   "id": "b64b8a88",
   "metadata": {},
   "outputs": [
    {
     "name": "stdout",
     "output_type": "stream",
     "text": [
      "3\n"
     ]
    }
   ],
   "source": [
    "# Definition for a binary tree node.\n",
    "class TreeNode:\n",
    "    def __init__(self, val=0, left=None, right=None):\n",
    "        self.val = val\n",
    "        self.left = left\n",
    "        self.right = right\n",
    "\n",
    "# Function to convert list to binary tree\n",
    "from collections import deque\n",
    "def list_to_tree(arr):\n",
    "    if not arr:\n",
    "        return None\n",
    "    root = TreeNode(arr[0])\n",
    "    queue = deque([root])\n",
    "    i = 1\n",
    "    while queue and i < len(arr):\n",
    "        node = queue.popleft()\n",
    "        if i < len(arr) and arr[i] is not None:\n",
    "            node.left = TreeNode(arr[i])\n",
    "            queue.append(node.left)\n",
    "        i += 1\n",
    "        if i < len(arr) and arr[i] is not None:\n",
    "            node.right = TreeNode(arr[i])\n",
    "            queue.append(node.right)\n",
    "        i += 1\n",
    "    return root\n",
    "\n",
    "# Example\n",
    "arr = [10,5,-3,3,2,None,11,3,-2,None,1]\n",
    "root = list_to_tree(arr)\n",
    "\n",
    "# Now you can call your Path Sum III solution\n",
    "sol = Solution()\n",
    "print(sol.pathSum(root, 8))  # Expected output: 3\n"
   ]
  },
  {
   "cell_type": "code",
   "execution_count": null,
   "id": "50c54652",
   "metadata": {},
   "outputs": [
    {
     "data": {
      "text/plain": [
       "4"
      ]
     },
     "execution_count": 178,
     "metadata": {},
     "output_type": "execute_result"
    }
   ],
   "source": [
    "''' \n",
    "Input: heights = [4,2,7,6,9,14,12], bricks = 5, ladders = 1\n",
    "Output: 4\n",
    "Explanation: Starting at building 0, you can follow these steps:\n",
    "- Go to building 1 without using ladders nor bricks since 4 >= 2.\n",
    "- Go to building 2 using 5 bricks. You must use either bricks or ladders because 2 < 7.\n",
    "- Go to building 3 without using ladders nor bricks since 7 >= 6.\n",
    "- Go to building 4 using your only ladder. You must use either bricks or ladders because 6 < 9.\n",
    "It is impossible to go beyond building 4 because you do not have any more bricks or ladders.\n",
    "'''\n",
    "import heapq\n",
    "\n",
    "class Solution:\n",
    "\n",
    "    def furthestBuilding(self, heights, bricks, ladders):\n",
    "        min_heap = []\n",
    "        for i in range(len(heights) - 1):\n",
    "            diff = heights[i + 1] - heights[i]\n",
    "            if diff > 0:\n",
    "                heapq.heappush(min_heap, diff)\n",
    "                if len(min_heap) > ladders:\n",
    "                    bricks -= heapq.heappop(min_heap) \n",
    "                if bricks < 0:\n",
    "                    return i \n",
    "        return len(heights) - 1 \n",
    "    \n",
    "solution = Solution()\n",
    "solution.furthestBuilding([4,2,7,6,9,14,12], bricks = 5, ladders = 1)"
   ]
  },
  {
   "cell_type": "code",
   "execution_count": 3,
   "id": "b07995e1",
   "metadata": {},
   "outputs": [
    {
     "name": "stdout",
     "output_type": "stream",
     "text": [
      "[]\n",
      "[(2, 0)]\n",
      "[(2, 2), (4, 1)]\n",
      "[(1, 3), (4, 1)]\n",
      "[(4, 1)]\n"
     ]
    },
    {
     "data": {
      "text/plain": [
       "[0, 2, 3, 1]"
      ]
     },
     "execution_count": 3,
     "metadata": {},
     "output_type": "execute_result"
    }
   ],
   "source": [
    "''' \n",
    "Input: tasks = [[1,2],[2,4],[3,2],[4,1]]\n",
    "Output: [0,2,3,1]\n",
    "Explanation: The events go as follows: \n",
    "- At time = 1, task 0 is available to process. Available tasks = {0}.\n",
    "- Also at time = 1, the idle CPU starts processing task 0. Available tasks = {}.\n",
    "- At time = 2, task 1 is available to process. Available tasks = {1}.\n",
    "- At time = 3, task 2 is available to process. Available tasks = {1, 2}.\n",
    "- Also at time = 3, the CPU finishes task 0 and starts processing task 2 as it is the shortest. Available tasks = {1}.\n",
    "- At time = 4, task 3 is available to process. Available tasks = {1, 3}.\n",
    "- At time = 5, the CPU finishes task 2 and starts processing task 3 as it is the shortest. Available tasks = {1}.\n",
    "- At time = 6, the CPU finishes task 3 and starts processing task 1. Available tasks = {}.\n",
    "- At time = 10, the CPU finishes task 1 and becomes idle.\n",
    "'''\n",
    "\n",
    "import heapq\n",
    "\n",
    "class Solution:\n",
    "    def getOrder(self, tasks):\n",
    "        tasks = sorted([(et, pt, i) for i, (et, pt) in enumerate(tasks)])\n",
    "        min_heap = []\n",
    "        time = 0\n",
    "        res = []\n",
    "        i = 0\n",
    "        while min_heap or i < len(tasks):\n",
    "            while i < len(tasks) and tasks[i][0] <= time:\n",
    "                et, pt, idx = tasks[i]\n",
    "                heapq.heappush(min_heap, (pt, idx))\n",
    "                i += 1\n",
    "            print(min_heap)\n",
    "            if min_heap:\n",
    "                pt, idx = heapq.heappop(min_heap)\n",
    "                res.append(idx)\n",
    "                time += pt\n",
    "            else:\n",
    "                time = tasks[i][0]\n",
    "\n",
    "        return res \n",
    "    \n",
    "solution = Solution()\n",
    "solution.getOrder( [[1,2],[2,4],[3,2],[4,1]])\n",
    "        \n",
    "\n"
   ]
  },
  {
   "cell_type": "code",
   "execution_count": 9,
   "id": "056d2483",
   "metadata": {},
   "outputs": [
    {
     "data": {
      "text/plain": [
       "3"
      ]
     },
     "execution_count": 9,
     "metadata": {},
     "output_type": "execute_result"
    }
   ],
   "source": [
    "''' \n",
    "Input\n",
    "[\"MedianFinder\", \"addNum\", \"addNum\", \"findMedian\", \"addNum\", \"findMedian\"]\n",
    "[[], [1], [2], [], [3], []]\n",
    "Output\n",
    "[null, null, null, 1.5, null, 2.0]\n",
    "\n",
    "Explanation\n",
    "MedianFinder medianFinder = new MedianFinder();\n",
    "medianFinder.addNum(1);    // arr = [1]\n",
    "medianFinder.addNum(2);    // arr = [1, 2]\n",
    "medianFinder.findMedian(); // return 1.5 (i.e., (1 + 2) / 2)\n",
    "medianFinder.addNum(3);    // arr[1, 2, 3]\n",
    "medianFinder.findMedian(); // return 2.0\n",
    "'''\n",
    "\n",
    "''' \n",
    "Input\n",
    "[\"MedianFinder\", \"addNum\", \"addNum\", \"findMedian\", \"addNum\", \"findMedian\"]\n",
    "[[], [1], [2], [], [3], []]\n",
    "Output\n",
    "[null, null, null, 1.5, null, 2.0]\n",
    "\n",
    "Explanation\n",
    "MedianFinder medianFinder = new MedianFinder();\n",
    "medianFinder.addNum(1);    // arr = [1]\n",
    "medianFinder.addNum(2);    // arr = [1, 2]\n",
    "medianFinder.findMedian(); // return 1.5 (i.e., (1 + 2) / 2)\n",
    "medianFinder.addNum(3);    // arr[1, 2, 3]\n",
    "medianFinder.findMedian(); // return 2.0\n",
    "'''\n",
    "\n",
    "import heapq\n",
    "\n",
    "import heapq\n",
    "\n",
    "class MedianFinder:\n",
    "\n",
    "    def __init__(self):\n",
    "        self.min_heap = []\n",
    "        self.max_heap = []\n",
    "\n",
    "    def addNum(self, num):\n",
    "        heapq.heappush(self.min_heap, -1 * (num))\n",
    "\n",
    "        if self.min_heap and self.max_heap and (-1 * self.min_heap[0] > self.max_heap[0]):\n",
    "            heapq.heappush(self.max_heap, -1 * heapq.heappop(self.min_heap))\n",
    "\n",
    "        if len(self.min_heap) > len(self.max_heap) + 1:\n",
    "            heapq.heappush(self.max_heap, -1 * heapq.heappop(self.min_heap))\n",
    "        \n",
    "        if len(self.max_heap) > len(self.min_heap) + 1:\n",
    "            heapq.heappush(self.min_heap, -1 * heapq.heappop(self.max_heap))\n",
    "\n",
    "\n",
    "    def findMedian(self):\n",
    "        if len(self.min_heap) > len(self.max_heap):\n",
    "            return -1 * self.min_heap[0]\n",
    "        \n",
    "        if len(self.max_heap) > len(self.min_heap):\n",
    "            return self.max_heap[0]\n",
    "        \n",
    "        return ((-1 * self.min_heap[0]) + (self.max_heap[0])) / 2\n",
    "    \n",
    "\n",
    "obj = MedianFinder()\n",
    "obj.addNum(1)\n",
    "obj.addNum(2)\n",
    "obj.addNum(5)\n",
    "obj.addNum(3)\n",
    "obj.addNum(4)\n",
    "obj.findMedian()"
   ]
  },
  {
   "cell_type": "code",
   "execution_count": 26,
   "id": "a657afaa",
   "metadata": {},
   "outputs": [
    {
     "data": {
      "text/plain": [
       "8"
      ]
     },
     "execution_count": 26,
     "metadata": {},
     "output_type": "execute_result"
    }
   ],
   "source": [
    "''' \n",
    "Input:\n",
    "[\"KthLargest\", \"add\", \"add\", \"add\", \"add\", \"add\"]\n",
    "[[3, [4, 5, 8, 2]], [3], [5], [10], [9], [4]]\n",
    "\n",
    "Output: [null, 4, 5, 5, 8, 8]\n",
    "\n",
    "Explanation:\n",
    "\n",
    "KthLargest kthLargest = new KthLargest(3, [4, 5, 8, 2]);\n",
    "kthLargest.add(3); // return 4\n",
    "kthLargest.add(5); // return 5\n",
    "kthLargest.add(10); // return 5\n",
    "kthLargest.add(9); // return 8\n",
    "kthLargest.add(4); // return 8\n",
    "'''\n",
    "from typing import List\n",
    "import heapq\n",
    "\n",
    "class KthLargest:\n",
    "\n",
    "    def __init__(self, k: int, nums: List[int]):\n",
    "        self.k = k\n",
    "        self.min_heap = [num for num in nums]\n",
    "        heapq.heapify(self.min_heap)\n",
    "        while len(self.min_heap) > k:\n",
    "            heapq.heappop(self.min_heap)\n",
    "\n",
    "    def add(self, num):\n",
    "        heapq.heappush(self.min_heap, num)\n",
    "        if len(self.min_heap) > self.k:\n",
    "            heapq.heappop(self.min_heap)\n",
    "        return self.min_heap[0]\n",
    "    \n",
    "kthLargest= KthLargest(3, [4, 5, 8, 2])\n",
    "kthLargest.add(3)\n",
    "kthLargest.add(5)\n",
    "kthLargest.add(10)\n",
    "kthLargest.add(9)\n",
    "kthLargest.add(4)\n"
   ]
  },
  {
   "cell_type": "code",
   "execution_count": 31,
   "id": "6cfb8695",
   "metadata": {},
   "outputs": [
    {
     "data": {
      "text/plain": [
       "[2, 1]"
      ]
     },
     "execution_count": 31,
     "metadata": {},
     "output_type": "execute_result"
    }
   ],
   "source": [
    "''' \n",
    "Input: nums = [1,1,1,2,2,3], k = 2\n",
    "Output: [1,2]\n",
    "'''\n",
    "import heapq\n",
    "from collections import Counter\n",
    "\n",
    "class Solution:\n",
    "    def topKFrequent(self, nums, k):\n",
    "        counter = Counter(nums)\n",
    "        freq = [(value, key) for key, value in counter.items()]\n",
    "        heapq.heapify(freq)\n",
    "        while len(freq) > k:\n",
    "            heapq.heappop(freq)\n",
    "        return [key for value, key in freq]\n",
    "    \n",
    "solution = Solution()\n",
    "solution.topKFrequent([1,1,1,2,2,3], k = 2)"
   ]
  },
  {
   "cell_type": "code",
   "execution_count": 40,
   "id": "c8daecfe",
   "metadata": {},
   "outputs": [
    {
     "name": "stdout",
     "output_type": "stream",
     "text": [
      "[(-10, 1, 3)]\n",
      "[(-10, 1, 3), (-8, -2, 2)]\n"
     ]
    },
    {
     "data": {
      "text/plain": [
       "[[-2, 2]]"
      ]
     },
     "execution_count": 40,
     "metadata": {},
     "output_type": "execute_result"
    }
   ],
   "source": [
    "''' \n",
    "Input: points = [[1,3],[-2,2]], k = 1\n",
    "Output: [[-2,2]]\n",
    "Explanation:\n",
    "The distance between (1, 3) and the origin is sqrt(10).\n",
    "The distance between (-2, 2) and the origin is sqrt(8).\n",
    "Since sqrt(8) < sqrt(10), (-2, 2) is closer to the origin.\n",
    "We only want the closest k = 1 points from the origin, so the answer is just [[-2,2]].\n",
    "'''\n",
    "\n",
    "class Solution:\n",
    "    def kClosest(self, points: List[List[int]], k: int) -> List[List[int]]:\n",
    "        max_heap = []\n",
    "        for x, y in points:\n",
    "            dist = x * x + y * y\n",
    "            heapq.heappush(max_heap, (-dist, x, y))\n",
    "            print(max_heap)\n",
    "            if len(max_heap) > k:\n",
    "                heapq.heappop(max_heap)\n",
    "        return [[x, y] for dist, x, y in max_heap]\n",
    "    \n",
    "solution = Solution()\n",
    "solution.kClosest([[1,3],[-2,2]], k = 1)\n"
   ]
  },
  {
   "cell_type": "code",
   "execution_count": null,
   "id": "cfffb9c6",
   "metadata": {},
   "outputs": [
    {
     "data": {
      "text/plain": [
       "[[1, 3], [8, 10], [15, 18]]"
      ]
     },
     "execution_count": 43,
     "metadata": {},
     "output_type": "execute_result"
    }
   ],
   "source": [
    "''' \n",
    "Input: intervals = [[1,3],[2,6],[8,10],[15,18]]\n",
    "Output: [[1,6],[8,10],[15,18]]\n",
    "Explanation: Since intervals [1,3] and [2,6] overlap, merge them into [1,6].\n",
    "'''\n",
    "\n",
    "from typing import List\n",
    "\n",
    "class Solution:\n",
    "    def merge(self, intervals: List[List[int]]) -> List[List[int]]:\n",
    "        intervals.sort()\n",
    "        res = []\n",
    "        res.append(intervals[0])\n",
    "        for start, end in intervals[1:]:\n",
    "            prev_end = res[-1][-1]\n",
    "            if start >= prev_end:\n",
    "                res.append([start, end])\n",
    "            else:\n",
    "                res[-1][-1] = prev_end\n",
    "        return res \n",
    "    \n",
    "solution = Solution()\n",
    "solution.merge([[1,3],[2,6],[8,10],[15,18]])\n"
   ]
  },
  {
   "cell_type": "code",
   "execution_count": 54,
   "id": "8b04f4c8",
   "metadata": {},
   "outputs": [
    {
     "data": {
      "text/plain": [
       "[[1, 2], [3, 10], [12, 16]]"
      ]
     },
     "execution_count": 54,
     "metadata": {},
     "output_type": "execute_result"
    }
   ],
   "source": [
    "''' \n",
    "Input: intervals = [[1,2],[3,5],[6,7],[8,10],[12,16]], newInterval = [4,8]\n",
    "Output: [[1,2],[3,10],[12,16]]\n",
    "Explanation: Because the new interval [4,8] overlaps with [3,5],[6,7],[8,10].\n",
    "'''\n",
    "\n",
    "class Solution:\n",
    "    def insert(self, intervals: List[List[int]], newInterval: List[int]) -> List[List[int]]:\n",
    "        res = []\n",
    "        for i in range(len(intervals)):\n",
    "            if newInterval[1] < intervals[i][0]:\n",
    "                res.append(newInterval)\n",
    "                return res + intervals[i:]\n",
    "            elif newInterval[0] > intervals[i][1]:\n",
    "                res.append(intervals[i])\n",
    "            else:\n",
    "                newInterval = [min(newInterval[0], intervals[i][0]), max(newInterval[1], intervals[i][1])]\n",
    "        res.append(newInterval)\n",
    "        return res \n",
    "    \n",
    "solution = Solution()\n",
    "solution.insert([[1,2],[3,5],[6,7],[8,10],[12,16]], [4,8])"
   ]
  },
  {
   "cell_type": "code",
   "execution_count": null,
   "id": "a5d55944",
   "metadata": {},
   "outputs": [
    {
     "data": {
      "text/plain": [
       "1"
      ]
     },
     "execution_count": 57,
     "metadata": {},
     "output_type": "execute_result"
    }
   ],
   "source": [
    "''' \n",
    "Input: intervals = [[1,2],[2,3],[3,4],[1,3]]\n",
    "Output: 1\n",
    "Explanation: [1,3] can be removed and the rest of the intervals are non-overlapping.\n",
    "'''\n",
    "\n",
    "class Solution:\n",
    "    def eraseOverlapIntervals(self, intervals: List[List[int]]) -> int:\n",
    "        count = 0 \n",
    "        intervals.sort()\n",
    "        prev_end = intervals[0][-1]\n",
    "        for start, end in intervals[1:]:\n",
    "            if prev_end > start:\n",
    "                count += 1\n",
    "                prev_end = min(end, prev_end)\n",
    "            else:\n",
    "                prev_end = end\n",
    "        return count \n",
    "    \n",
    "solution = Solution()\n",
    "solution.eraseOverlapIntervals([[1,2],[2,3],[3,4],[1,3]])"
   ]
  },
  {
   "cell_type": "code",
   "execution_count": 63,
   "id": "26679b92",
   "metadata": {},
   "outputs": [
    {
     "name": "stdout",
     "output_type": "stream",
     "text": [
      "1\n",
      "1\n",
      "2\n",
      "3\n",
      "4\n",
      "4\n",
      "5\n",
      "6\n"
     ]
    }
   ],
   "source": [
    "''' \n",
    "Input: lists = [[1,4,5],[1,3,4],[2,6]]\n",
    "Output: [1,1,2,3,4,4,5,6]\n",
    "'''\n",
    "\n",
    "from typing import List, Optional\n",
    "\n",
    "class ListNode:\n",
    "    def __init__(self, val=0, next=None):\n",
    "        self.val = val\n",
    "        self.next = next\n",
    "class Solution:\n",
    "    def mergeKLists(self, lists: List[Optional[ListNode]]) -> Optional[ListNode]:\n",
    "        if not lists:\n",
    "            return \n",
    "        while len(lists) > 1: \n",
    "            merged = []\n",
    "            for i in range(0, len(lists), 2):\n",
    "                l1 = lists[i] \n",
    "                l2 = lists[i + 1] if i + 1 < len(lists) else None \n",
    "                merged.append(self.merge(l1, l2))\n",
    "            lists = merged\n",
    "        return lists[0]\n",
    "\n",
    "\n",
    "    def merge(self, l1, l2):\n",
    "        dummy = ListNode()\n",
    "        cur = dummy\n",
    "        while l1 and l2:\n",
    "            if l1.val < l2.val:\n",
    "                cur.next = l1 \n",
    "                l1 = l1.next \n",
    "            else:\n",
    "                cur.next = l2 \n",
    "                l2 = l2.next \n",
    "            cur = cur.next \n",
    "        if l1:\n",
    "            cur.next = l1 \n",
    "\n",
    "        if l2:\n",
    "            cur.next = l2 \n",
    "        return dummy.next\n",
    "    \n",
    "\n",
    "def print_list(node):\n",
    "    temp = node\n",
    "    while temp:\n",
    "        print(temp.val)\n",
    "        temp = temp.next\n",
    "\n",
    "\n",
    "            \n",
    "solution = Solution()\n",
    "res = solution.mergeKLists([\n",
    "    ListNode(1, ListNode(4, ListNode(5))),\n",
    "    ListNode(1, ListNode(3, ListNode(4))),\n",
    "    ListNode(2, ListNode(6))\n",
    "])\n",
    "print_list(res)"
   ]
  },
  {
   "cell_type": "code",
   "execution_count": 77,
   "id": "1fb7b1f0",
   "metadata": {},
   "outputs": [
    {
     "data": {
      "text/plain": [
       "'Dharani'"
      ]
     },
     "execution_count": 77,
     "metadata": {},
     "output_type": "execute_result"
    }
   ],
   "source": [
    "'''\n",
    "Example 1:\n",
    "\n",
    "Input\n",
    "[\"LRUCache\", \"put\", \"put\", \"get\", \"put\", \"get\", \"put\", \"get\", \"get\", \"get\"]\n",
    "[[2], [1, 1], [2, 2], [1], [3, 3], [2], [4, 4], [1], [3], [4]]\n",
    "Output\n",
    "[null, null, null, 1, null, -1, null, -1, 3, 4]\n",
    "\n",
    "Explanation\n",
    "LRUCache lRUCache = new LRUCache(2);\n",
    "lRUCache.put(1, 1); // cache is {1=1}\n",
    "lRUCache.put(2, 2); // cache is {1=1, 2=2}\n",
    "lRUCache.get(1);    // return 1\n",
    "lRUCache.put(3, 3); // LRU key was 2, evicts key 2, cache is {1=1, 3=3}\n",
    "lRUCache.get(2);    // returns -1 (not found)\n",
    "lRUCache.put(4, 4); // LRU key was 1, evicts key 1, cache is {4=4, 3=3}\n",
    "lRUCache.get(1);    // return -1 (not found)\n",
    "lRUCache.get(3);    // return 3\n",
    "lRUCache.get(4);    // return 4\n",
    "'''\n",
    "\n",
    "class Node:\n",
    "    def __init__(self, key = 0, value = 0):\n",
    "        self.key = key\n",
    "        self.value = value \n",
    "        self.prev = None \n",
    "        self.next = None\n",
    "\n",
    "class LRUCache:\n",
    "    def __init__(self, capacity: int):\n",
    "        self.capacity = capacity\n",
    "        self.cache = {}\n",
    "        self.head = Node()\n",
    "        self.tail = Node()\n",
    "        self.head.next = self.tail \n",
    "        self.tail.prev = self.head \n",
    "\n",
    "    def remove(self, node):\n",
    "        prev_node, next_node = node.prev, node.next \n",
    "        prev_node.next, next_node.prev = next_node, prev_node\n",
    "\n",
    "    def add(self, node):\n",
    "        node.prev, node.next = self.head, self.head.next\n",
    "        self.head.next.prev = node \n",
    "        self.head.next = node\n",
    "        \n",
    "    def get(self, key):\n",
    "        if key in self.cache:\n",
    "            node = self.cache[key]\n",
    "            self.remove(node)\n",
    "            self.add(node)\n",
    "            return node.value\n",
    "        return -1\n",
    "    \n",
    "    def put(self, key, value):\n",
    "        if key in self.cache:\n",
    "            node = self.cache[key]\n",
    "            self.remove(node)\n",
    "        self.cache[key] = Node(key, value)\n",
    "        self.add(self.cache[key])\n",
    "        if len(self.cache) > self.capacity:\n",
    "            lru_node = self.tail.prev \n",
    "            self.remove(lru_node)\n",
    "            del self.cache[lru_node.key]\n",
    "\n",
    "\n",
    "\n",
    "obj = LRUCache(3)\n",
    "obj.put('Name', 'Dharani')\n",
    "obj.put('Age', '25')\n",
    "obj.put('profession', 'IT')\n",
    "obj.put('profession', 'SMT')\n",
    "obj.get('profession')\n",
    "obj.get('Name')"
   ]
  },
  {
   "cell_type": "code",
   "execution_count": 83,
   "id": "83e0f43f",
   "metadata": {},
   "outputs": [
    {
     "data": {
      "text/plain": [
       "True"
      ]
     },
     "execution_count": 83,
     "metadata": {},
     "output_type": "execute_result"
    }
   ],
   "source": [
    "''' \n",
    "Input: nums = [2,3,1,1,4]\n",
    "Output: true\n",
    "Explanation: Jump 1 step from index 0 to 1, then 3 steps to the last index.\n",
    "'''\n",
    "\n",
    "from typing import List\n",
    "\n",
    "class Solution:\n",
    "    def canJump(self, nums: List[int]) -> bool:\n",
    "        max_reach = 0 \n",
    "        for i in range(len(nums)):\n",
    "            if max_reach < i:\n",
    "                return False \n",
    "            max_reach = max(max_reach, i + nums[i])\n",
    "            if max_reach >= len(nums) - 1:\n",
    "                return True \n",
    "        return True \n",
    "solution = Solution()\n",
    "solution.canJump([2,3,1,1,4])"
   ]
  },
  {
   "cell_type": "code",
   "execution_count": 87,
   "id": "300cdd4f",
   "metadata": {},
   "outputs": [
    {
     "data": {
      "text/plain": [
       "2"
      ]
     },
     "execution_count": 87,
     "metadata": {},
     "output_type": "execute_result"
    }
   ],
   "source": [
    "''' \n",
    "Input: nums = [2,3,1,1,4]\n",
    "Output: 2\n",
    "Explanation: The minimum number of jumps to reach the last index is 2. Jump 1 step from index 0 to 1, then 3 steps to the last index.\n",
    "'''\n",
    "from typing import List \n",
    "\n",
    "class Solution:\n",
    "    def jump(self, nums: List[int]) -> int:\n",
    "        cur_jump = 0 \n",
    "        max_jump = 0 \n",
    "        jumps = 0 \n",
    "        for i in range(len(nums)):\n",
    "            max_jump = max(max_jump, i + nums[i])\n",
    "            if cur_jump == i:\n",
    "                cur_jump = max_jump\n",
    "                jumps += 1\n",
    "            \n",
    "            if cur_jump >= len(nums) - 1:\n",
    "                return jumps\n",
    "        return jumps \n",
    "    \n",
    "solution = Solution()\n",
    "solution.jump([2,3,1,1,4])"
   ]
  },
  {
   "cell_type": "code",
   "execution_count": 95,
   "id": "10e01988",
   "metadata": {},
   "outputs": [
    {
     "data": {
      "text/plain": [
       "3"
      ]
     },
     "execution_count": 95,
     "metadata": {},
     "output_type": "execute_result"
    }
   ],
   "source": [
    "''' \n",
    "Input: gas = [1,2,3,4,5], cost = [3,4,5,1,2]\n",
    "Output: 3\n",
    "Explanation:\n",
    "Start at station 3 (index 3) and fill up with 4 unit of gas. Your tank = 0 + 4 = 4\n",
    "Travel to station 4. Your tank = 4 - 1 + 5 = 8\n",
    "Travel to station 0. Your tank = 8 - 2 + 1 = 7\n",
    "Travel to station 1. Your tank = 7 - 3 + 2 = 6\n",
    "Travel to station 2. Your tank = 6 - 4 + 3 = 5\n",
    "Travel to station 3. The cost is 5. Your gas is just enough to travel back to station 3.\n",
    "Therefore, return 3 as the starting index.\n",
    "'''\n",
    "\n",
    "class Solution:\n",
    "    def canCompleteCircuit(self, gas: List[int], cost: List[int]) -> int:\n",
    "        curr_gas = 0 \n",
    "        total_gas = 0 \n",
    "        res = 0\n",
    "        for i in range(len(gas)):\n",
    "            diff = gas[i] - cost[i] \n",
    "            total_gas += diff \n",
    "            curr_gas += diff \n",
    "            if curr_gas < 0:\n",
    "                curr_gas = 0\n",
    "                res = i + 1\n",
    "        return res if total_gas >= 0 else -1\n",
    "    \n",
    "solution = Solution()\n",
    "solution.canCompleteCircuit(gas = [1,2,3,4,5], cost = [3,4,5,1,2])"
   ]
  },
  {
   "cell_type": "code",
   "execution_count": 98,
   "id": "0ea4ba88",
   "metadata": {},
   "outputs": [
    {
     "data": {
      "text/plain": [
       "8"
      ]
     },
     "execution_count": 98,
     "metadata": {},
     "output_type": "execute_result"
    }
   ],
   "source": [
    "''' \n",
    "Input: tasks = [\"A\",\"A\",\"A\",\"B\",\"B\",\"B\"], n = 2\n",
    "\n",
    "Output: 8\n",
    "\n",
    "Explanation: A possible sequence is: A -> B -> idle -> A -> B -> idle -> A -> B.\n",
    "\n",
    "After completing task A, you must wait two intervals before doing A again. The same applies to task B. In the 3rd interval, neither A nor B can be done, so you idle. By the 4th interval, you can do A again as 2 intervals have passed.\n",
    "'''\n",
    "\n",
    "from collections import Counter\n",
    "from collections import deque \n",
    "import heapq\n",
    "\n",
    "class Solution:\n",
    "    def leastInterval(self, tasks: List[str], n: int) -> int:\n",
    "        counter = Counter(tasks)\n",
    "        max_heap = [-cnt for cnt in counter.values()]\n",
    "        heapq.heapify(max_heap)\n",
    "        queue = deque()\n",
    "        time = 0\n",
    "        while max_heap or queue:\n",
    "            time += 1\n",
    "            if max_heap:\n",
    "                cnt = 1 + heapq.heappop(max_heap) \n",
    "                if cnt:\n",
    "                    queue.append([cnt, time + n])\n",
    "            \n",
    "            if queue and queue[0][1] <= time:\n",
    "                heapq.heappush(max_heap, queue.popleft()[0])\n",
    "        return time \n",
    "    \n",
    "solution = Solution()\n",
    "solution.leastInterval(tasks = [\"A\",\"A\",\"A\",\"B\",\"B\",\"B\"], n = 2)\n",
    "            \n"
   ]
  },
  {
   "cell_type": "code",
   "execution_count": 126,
   "id": "111b9ad9",
   "metadata": {},
   "outputs": [
    {
     "name": "stdout",
     "output_type": "stream",
     "text": [
      "Key:  A values:  ['B']\n",
      "Key:  B values:  ['A', 'D']\n",
      "Key:  C values:  []\n",
      "Key:  D values:  ['B']\n",
      "###### After removing D Vertex ########\n",
      "Key:  A values:  ['B']\n",
      "Key:  B values:  ['A']\n",
      "Key:  C values:  []\n"
     ]
    }
   ],
   "source": [
    "from collections import deque\n",
    "\n",
    "class AdjacencyListGraph:\n",
    "    def __init__(self):\n",
    "        self.adj_list = {}\n",
    "\n",
    "    def add_vertex(self, vertex):\n",
    "        if vertex not in self.adj_list:\n",
    "            self.adj_list[vertex] = []\n",
    "            return True \n",
    "        return False\n",
    "    \n",
    "    def add_edge(self, v1, v2):\n",
    "        if v1 in self.adj_list and v2 in self.adj_list:\n",
    "            self.adj_list.get(v1).append(v2)\n",
    "            self.adj_list.get(v2).append(v1)\n",
    "            return True \n",
    "        return False\n",
    "    \n",
    "    def remove_vertex(self, vertex):\n",
    "        if vertex in self.adj_list:\n",
    "            for key in self.adj_list[vertex]:\n",
    "                self.adj_list.get(key).remove(vertex)\n",
    "            del self.adj_list[vertex]\n",
    "            return True \n",
    "        return False \n",
    "    \n",
    "    def remove_edge(self, v1, v2):\n",
    "        if v1 in self.adj_list and v2 in self.adj_list:\n",
    "            self.adj_list[v1].remove(v2)\n",
    "            self.adj_list[v2].remove(v1)\n",
    "            return True \n",
    "        return False \n",
    "    \n",
    "    def print_graph(self):\n",
    "        for key, values in self.adj_list.items():\n",
    "            print('Key: ', key, 'values: ', values)\n",
    "\n",
    "    def dfs_without_recursion(self, vertex):\n",
    "        visited = set()\n",
    "        res = []\n",
    "        stack = [vertex]\n",
    "        while stack:\n",
    "            v = stack.pop()\n",
    "            if v in visited:\n",
    "                continue \n",
    "            res.append(v)\n",
    "            visited.add(v)\n",
    "            neighbors = self.adj_list[v]\n",
    "            print(neighbors)\n",
    "            for neighbor in reversed(self.adj_list.get(v, [])):\n",
    "                if neighbor in visited:\n",
    "                    continue\n",
    "                stack.append(neighbor)\n",
    "        return res \n",
    "\n",
    "    def dfs_recursion(self, start_vertex):\n",
    "        visited = set()\n",
    "        res = []\n",
    "        def dfs(vertex):\n",
    "            if vertex in visited:\n",
    "                return\n",
    "            res.append(vertex)\n",
    "            visited.add(vertex)\n",
    "            neighbors = self.adj_list[vertex]\n",
    "            for neighbor in neighbors:\n",
    "                if neighbor in visited:\n",
    "                    continue\n",
    "                dfs(neighbor)\n",
    "        dfs(start_vertex)\n",
    "        return res \n",
    "    \n",
    "    def bfs_without_recursion(self, start_vertex):\n",
    "        visited = set()\n",
    "        res = []\n",
    "        queue = deque([start_vertex])\n",
    "        while queue:\n",
    "            vertex = queue.popleft()\n",
    "            if vertex in visited:\n",
    "                continue\n",
    "            res.append(vertex)\n",
    "            visited.add(vertex)\n",
    "            neighbors = self.adj_list[vertex]\n",
    "            for neighbor in neighbors:\n",
    "                if neighbor in visited:\n",
    "                    continue\n",
    "                queue.append(neighbor)\n",
    "        return res\n",
    "    \n",
    "    def bfs_recursion(self, start_vertex):\n",
    "        visited = set()\n",
    "        res = []\n",
    "        queue = deque([start_vertex])\n",
    "        def bfs(queue):\n",
    "            if not queue:\n",
    "                return\n",
    "            vertex = queue.popleft()\n",
    "            if vertex in visited:\n",
    "                return\n",
    "            res.append(vertex)\n",
    "            visited.add(vertex)\n",
    "            neighbors = self.adj_list[vertex]\n",
    "            for neighbor in neighbors:\n",
    "                if neighbor in visited:\n",
    "                    continue\n",
    "                queue.append(neighbor)\n",
    "                bfs(queue)\n",
    "        bfs(queue)\n",
    "        return res\n",
    "\n",
    "\n",
    "adjList = AdjacencyListGraph()\n",
    "\n",
    "adjList.add_vertex(\"A\")\n",
    "adjList.add_vertex(\"B\")\n",
    "adjList.add_vertex(\"C\")\n",
    "adjList.add_vertex(\"D\")\n",
    "adjList.add_edge(\"A\", \"B\")\n",
    "adjList.add_edge(\"B\", \"D\")\n",
    "adjList.print_graph()\n",
    "adjList.remove_vertex(\"D\")\n",
    "print(\"###### After removing D Vertex ########\")\n",
    "adjList.print_graph()"
   ]
  },
  {
   "cell_type": "code",
   "execution_count": 127,
   "id": "f6c743a2",
   "metadata": {},
   "outputs": [
    {
     "data": {
      "text/plain": [
       "['1', '2', '3', '5', '4', '6', '7']"
      ]
     },
     "execution_count": 127,
     "metadata": {},
     "output_type": "execute_result"
    }
   ],
   "source": [
    "# Example for DFS \n",
    "\n",
    "adjList = AdjacencyListGraph()\n",
    "adjList.add_vertex(\"1\")\n",
    "adjList.add_vertex(\"2\")\n",
    "adjList.add_vertex(\"3\")\n",
    "adjList.add_vertex(\"4\")\n",
    "adjList.add_vertex(\"5\")\n",
    "adjList.add_vertex(\"6\")\n",
    "adjList.add_vertex(\"7\")\n",
    "adjList.add_edge(\"1\", \"2\")\n",
    "adjList.add_edge(\"1\", \"3\")\n",
    "adjList.add_edge(\"1\", \"4\")\n",
    "adjList.add_edge(\"2\", \"3\")\n",
    "adjList.add_edge(\"2\", \"5\")\n",
    "adjList.add_edge(\"4\", \"6\")\n",
    "adjList.add_edge(\"4\", \"7\")\n",
    "adjList.add_edge(\"6\", \"7\")\n",
    "#adjList.dfs(\"1\")\n",
    "adjList.bfs_recursion(\"1\")\n"
   ]
  },
  {
   "cell_type": "code",
   "execution_count": 136,
   "id": "7b84c409",
   "metadata": {},
   "outputs": [
    {
     "data": {
      "text/plain": [
       "1"
      ]
     },
     "execution_count": 136,
     "metadata": {},
     "output_type": "execute_result"
    }
   ],
   "source": [
    "''' \n",
    "Input: grid = [\n",
    "  [\"1\",\"1\",\"1\",\"1\",\"0\"],\n",
    "  [\"1\",\"1\",\"0\",\"1\",\"0\"],\n",
    "  [\"1\",\"1\",\"0\",\"0\",\"0\"],\n",
    "  [\"0\",\"0\",\"0\",\"0\",\"0\"]\n",
    "]\n",
    "Output: 1\n",
    "'''\n",
    "from typing import List \n",
    "\n",
    "class Solution:\n",
    "    def numIslands(self, grid: List[List[str]]) -> int:\n",
    "        if not grid or len(grid) == 0 or len(grid[0]) == 0:\n",
    "            return 0 \n",
    "        \n",
    "        rows = len(grid)\n",
    "        cols = len(grid[0])\n",
    "        count = 0\n",
    "\n",
    "        def dfs(grid, row, col):\n",
    "            if 0 <= row < rows and 0 <= col < cols and grid[row][col] == '1':\n",
    "                grid[row][col] = '0'\n",
    "                directions = [(0, 1), (1, 0), (0, -1), (-1, 0)]\n",
    "                for dr, dc in directions:\n",
    "                    nr, nc = row + dr, col + dc \n",
    "                    dfs(grid, nr, nc)\n",
    "\n",
    "        for i in range(rows):\n",
    "            for j in range(cols):\n",
    "                if grid[i][j] == '1':\n",
    "                    dfs(grid, i, j)\n",
    "                    count += 1\n",
    "\n",
    "        return count \n",
    "    \n",
    "\n",
    "solution = Solution()\n",
    "solution.numIslands([\n",
    "  [\"1\",\"1\",\"1\",\"1\",\"0\"],\n",
    "  [\"1\",\"1\",\"0\",\"1\",\"0\"],\n",
    "  [\"1\",\"1\",\"0\",\"0\",\"0\"],\n",
    "  [\"0\",\"0\",\"0\",\"0\",\"0\"]\n",
    "])"
   ]
  },
  {
   "cell_type": "code",
   "execution_count": 137,
   "id": "9554fdac",
   "metadata": {},
   "outputs": [],
   "source": [
    "# Definition for a Node.\n",
    "class Node:\n",
    "    def __init__(self, val = 0, neighbors = None):\n",
    "        self.val = val\n",
    "        self.neighbors = neighbors if neighbors is not None else []\n",
    "\n",
    "\n",
    "from typing import Optional\n",
    "\n",
    "class Solution:\n",
    "    def cloneGraph(self, node: Optional['Node']) -> Optional['Node']:\n",
    "        if not node:\n",
    "            return None\n",
    "        \n",
    "        old_to_new = {}\n",
    "\n",
    "        def dfs(node):\n",
    "            if node in old_to_new:\n",
    "                return old_to_new[node]\n",
    "            \n",
    "            copy = Node(node.val)\n",
    "            old_to_new[node] = copy\n",
    "\n",
    "            for neighbor in node.neighbors:\n",
    "                copy.neighbors.append(dfs(neighbor))\n",
    "            return copy \n",
    "        return dfs(node)"
   ]
  },
  {
   "cell_type": "code",
   "execution_count": null,
   "id": "de67fb0d",
   "metadata": {},
   "outputs": [],
   "source": []
  },
  {
   "cell_type": "code",
   "execution_count": 148,
   "id": "320c7628",
   "metadata": {},
   "outputs": [
    {
     "data": {
      "text/plain": [
       "False"
      ]
     },
     "execution_count": 148,
     "metadata": {},
     "output_type": "execute_result"
    }
   ],
   "source": [
    "''' \n",
    "Input: graph = [[1,2,3],[0,2],[0,1,3],[0,2]]\n",
    "Output: false\n",
    "Explanation: There is no way to partition the nodes into two independent sets such that every edge connects a node in one and a node in the other.\n",
    "'''\n",
    "\n",
    "from collections import deque\n",
    "\n",
    "class Solution:\n",
    "    def isBipartite(self, graph):\n",
    "        n = len(graph)\n",
    "        color = [-1] * n\n",
    "\n",
    "        for start in range(n):\n",
    "            if color[start] == -1:\n",
    "                queue = deque([start])\n",
    "                color[start] = 0 \n",
    "\n",
    "            while queue:\n",
    "                node = queue.popleft()\n",
    "                for neighbor in graph[node]:\n",
    "                    if color[neighbor] == -1:\n",
    "                        color[neighbor] = 1 - color[node]\n",
    "                        queue.append(neighbor)\n",
    "                    elif color[neighbor] == color[node]:\n",
    "                            return False \n",
    "        return True \n",
    "    \n",
    "solution = Solution()\n",
    "solution.isBipartite([[1,2,3],[0,2],[0,1,3],[0,2]])"
   ]
  },
  {
   "cell_type": "code",
   "execution_count": 151,
   "id": "98082a33",
   "metadata": {},
   "outputs": [
    {
     "name": "stdout",
     "output_type": "stream",
     "text": [
      "False\n"
     ]
    }
   ],
   "source": [
    "from collections import deque\n",
    "\n",
    "class Solution:\n",
    "    def isBipartite(self, graph):\n",
    "        n = len(graph)\n",
    "        color = [-1] * n\n",
    "\n",
    "        for start in range(n):\n",
    "            if color[start] == -1:\n",
    "                queue = deque([start])\n",
    "                color[start] = 0 \n",
    "\n",
    "                while queue:\n",
    "                    node = queue.popleft()\n",
    "                    for neighbor in graph[node]:\n",
    "                        if color[neighbor] == -1:\n",
    "                            color[neighbor] = 1 - color[node]\n",
    "                            queue.append(neighbor)\n",
    "                        elif color[neighbor] == color[node]:\n",
    "                            return False \n",
    "        return True \n",
    "    \n",
    "solution = Solution()\n",
    "print(solution.isBipartite([[1,2,3],[0,2],[0,1,3],[0,2]]))\n"
   ]
  },
  {
   "cell_type": "code",
   "execution_count": 160,
   "id": "458506ae",
   "metadata": {},
   "outputs": [
    {
     "data": {
      "text/plain": [
       "4"
      ]
     },
     "execution_count": 160,
     "metadata": {},
     "output_type": "execute_result"
    }
   ],
   "source": [
    "''' \n",
    "Input: grid = [[2,1,1],[1,1,0],[0,1,1]]\n",
    "Output: 4\n",
    "'''\n",
    "from collections import deque\n",
    "class Solution:\n",
    "    def orangesRotting(self, grid: List[List[int]]) -> int:\n",
    "        fresh_count = 0 \n",
    "        minutes = 0 \n",
    "        queue = deque()\n",
    "\n",
    "        rows, cols = len(grid), len(grid[0])\n",
    "        for r in range(rows):\n",
    "            for c in range(cols):\n",
    "                if grid[r][c] == 2:\n",
    "                    queue.append([r, c, 0])\n",
    "                elif grid[r][c] == 1:\n",
    "                    fresh_count += 1 \n",
    "        \n",
    "        if fresh_count == 0:\n",
    "            return 0 \n",
    "        \n",
    "        \n",
    "        directions = [(0, 1), (1, 0), (0, -1), (-1, 0)]\n",
    "        \n",
    "        while queue:\n",
    "            r, c, minutes = queue.popleft()\n",
    "            for dr, dc in directions:\n",
    "                nr, nc = r + dr, c + dc \n",
    "                if 0 <= nr < rows and 0 <= nc < cols and grid[nr][nc] == 1:\n",
    "                    grid[nr][nc] = 2\n",
    "                    queue.append([nr, nc, 1 + minutes])\n",
    "                    fresh_count -= 1\n",
    "        return minutes if fresh_count == 0 else -1 \n",
    "    \n",
    "solution = Solution()\n",
    "solution.orangesRotting([[2,1,1],[1,1,0],[0,1,1]])\n"
   ]
  },
  {
   "cell_type": "code",
   "execution_count": null,
   "id": "8155a969",
   "metadata": {},
   "outputs": [],
   "source": []
  },
  {
   "cell_type": "code",
   "execution_count": 162,
   "id": "74f3d42d",
   "metadata": {},
   "outputs": [
    {
     "data": {
      "text/plain": [
       "4"
      ]
     },
     "execution_count": 162,
     "metadata": {},
     "output_type": "execute_result"
    }
   ],
   "source": [
    "'''\n",
    "Example 1:\n",
    "\n",
    "Input: nums = [1,2,3,1]\n",
    "Output: 4\n",
    "Explanation: Rob house 1 (money = 1) and then rob house 3 (money = 3).\n",
    "Total amount you can rob = 1 + 3 = 4.\n",
    "'''\n",
    "from typing import List \n",
    "\n",
    "class Solution:\n",
    "    def rob(self, nums: List[int]) -> int:\n",
    "        if len(nums) < 2:\n",
    "            return nums[0]\n",
    "        dp = [0] * len(nums)\n",
    "        dp[0] = nums[0]\n",
    "        dp[1] = max(nums[0], nums[1])\n",
    "        for i in range(2, len(nums)):\n",
    "            dp[i] = max(nums[i] + dp[i - 2], dp[i - 1])\n",
    "        return dp[i - 1]\n",
    "    \n",
    "solution = Solution()\n",
    "solution.rob([1, 2, 3, 1])"
   ]
  },
  {
   "cell_type": "code",
   "execution_count": 170,
   "id": "091d6d38",
   "metadata": {},
   "outputs": [
    {
     "data": {
      "text/plain": [
       "3"
      ]
     },
     "execution_count": 170,
     "metadata": {},
     "output_type": "execute_result"
    }
   ],
   "source": [
    "''' \n",
    "Input: nums = [2,3,2]\n",
    "Output: 3\n",
    "Explanation: You cannot rob house 1 (money = 2) and then rob house 3 (money = 2), because they are adjacent houses.\n",
    "'''\n",
    "\n",
    "class Solution:\n",
    "    def rob(self, nums: List[int]) -> int:\n",
    "        if len(nums) < 2:\n",
    "            return nums[0]\n",
    "        prefix = self.rob_helper(nums[:len(nums) - 1])\n",
    "        suffix = self.rob_helper(nums[1:])\n",
    "        return max(prefix, suffix)\n",
    "\n",
    "\n",
    "    def rob_helper(self, nums):\n",
    "        if len(nums) < 2:\n",
    "            return dp[0]\n",
    "        dp = [0] * len(nums)\n",
    "        dp[0] = nums[0]\n",
    "        dp[1] = max(nums[0], nums[1])\n",
    "        for i in range(2, len(nums)):\n",
    "            dp[i] = max(nums[i] + dp[i - 2], dp[i - 1])\n",
    "        return dp[-1]\n",
    "    \n",
    "\n",
    "solution = Solution()\n",
    "solution.rob([2, 3, 2])"
   ]
  },
  {
   "cell_type": "code",
   "execution_count": null,
   "id": "30a19b44",
   "metadata": {},
   "outputs": [
    {
     "data": {
      "text/plain": [
       "3"
      ]
     },
     "execution_count": 178,
     "metadata": {},
     "output_type": "execute_result"
    }
   ],
   "source": [
    "''' \n",
    "Input: coins = [1,2,5], amount = 11\n",
    "Output: 3\n",
    "Explanation: 11 = 5 + 5 + 1\n",
    "'''\n",
    "\n",
    "class Solution:\n",
    "    def coinChange(self, coins: List[int], amount: int) -> int:\n",
    "        dp = [float('inf')] * (amount + 1)\n",
    "        dp[0] = 0\n",
    "        for a in range(amount + 1):\n",
    "            for c in coins:\n",
    "                if c <= a and dp[a - c] != float('inf'):\n",
    "                    dp[a] = min(dp[a], 1 + dp[a - c])\n",
    "        return dp[-1] if dp[-1] != float('inf') else -1\n",
    "    \n",
    "    def coinChange(self, coins: List[int], amount: int) -> int:\n",
    "        dp = [float('inf')] * (amount + 1)\n",
    "        dp[0] = 0\n",
    "        for c in coins:\n",
    "            for a in range(amount + 1):\n",
    "                dp[a] = min(dp[a], 1 + dp[a - c])\n",
    "        return dp[-1] if dp[-1] != float('inf') else -1\n",
    "    \n",
    "solution = Solution()\n",
    "solution.coinChange([1, 2, 5], 11)"
   ]
  },
  {
   "cell_type": "code",
   "execution_count": 182,
   "id": "f89b6f2b",
   "metadata": {},
   "outputs": [
    {
     "data": {
      "text/plain": [
       "4"
      ]
     },
     "execution_count": 182,
     "metadata": {},
     "output_type": "execute_result"
    }
   ],
   "source": [
    "''' \n",
    "Input: nums = [10,9,2,5,3,7,101,18]\n",
    "Output: 4\n",
    "Explanation: The longest increasing subsequence is [2,3,7,101], therefore the length is 4.\n",
    "'''\n",
    "\n",
    "class Solution:\n",
    "    def lengthOfLIS(self, nums: List[int]) -> int:\n",
    "        n = len(nums)\n",
    "        dp = [1] * (n + 1)\n",
    "        dp[0] = 0 \n",
    "\n",
    "        for i in range(1, n):\n",
    "            for j in range(i):\n",
    "                if nums[j] < nums[i] and dp[j] >= dp[i]:\n",
    "                    dp[i] = 1 + dp[j]\n",
    "        return max(dp)\n",
    "    \n",
    "solution = Solution()\n",
    "solution.lengthOfLIS([10,9,2,5,3,7,101,18])"
   ]
  },
  {
   "cell_type": "code",
   "execution_count": 192,
   "id": "9ac27ec5",
   "metadata": {},
   "outputs": [
    {
     "data": {
      "text/plain": [
       "7"
      ]
     },
     "execution_count": 192,
     "metadata": {},
     "output_type": "execute_result"
    }
   ],
   "source": [
    "''' \n",
    "Input: grid = [[1,3,1],[1,5,1],[4,2,1]]\n",
    "Output: 7\n",
    "Explanation: Because the path 1 → 3 → 1 → 1 → 1 minimizes the sum.\n",
    "\n",
    "      0     1     2     3\n",
    "   -------------------------\n",
    "0 | inf | inf | inf | inf |\n",
    "1 | inf | inf | inf | inf |\n",
    "2 | inf | inf | inf |  0  | ← dp[2][3] is now 0\n",
    "3 | inf | inf | inf | inf |\n",
    "\n",
    "'''\n",
    "\n",
    "class Solution:\n",
    "    def minPathSum(self, grid: List[List[int]]) -> int:\n",
    "        rows = len(grid)\n",
    "        cols = len(grid[0])\n",
    "        dp = [[float('inf')] * (cols + 1) for _ in range(rows + 1)]\n",
    "        dp[rows - 1][cols] = 0 \n",
    "        for row in range(rows - 1, -1, -1):\n",
    "            for col in range(cols - 1, -1, -1):\n",
    "                dp[row][col] = grid[row][col] + min(dp[row][col + 1], dp[row + 1][col])\n",
    "        return dp[0][0]\n",
    "    \n",
    "solution = Solution()\n",
    "solution.minPathSum([[1,3,1],[1,5,1],[4,2,1]])"
   ]
  },
  {
   "cell_type": "code",
   "execution_count": 212,
   "id": "d99b8b36",
   "metadata": {},
   "outputs": [
    {
     "data": {
      "text/plain": [
       "3"
      ]
     },
     "execution_count": 212,
     "metadata": {},
     "output_type": "execute_result"
    }
   ],
   "source": [
    "''' \n",
    "Input: text1 = \"abcde\", text2 = \"ace\" \n",
    "Output: 3  \n",
    "Explanation: The longest common subsequence is \"ace\" and its length is 3.\n",
    "'''\n",
    "\n",
    "class Solution:\n",
    "    def longestCommonSubsequence(self, text1: str, text2: str) -> int:\n",
    "        dp = [[0] * (len(text2) + 1) for _ in range(len(text1) + 1)]\n",
    "        \n",
    "        for i in range(1, len(text1) + 1):\n",
    "            for j in range(1, len(text2) + 1):\n",
    "                #print(text1[i - 1], text2[j - 1])\n",
    "                if text1[i - 1] == text2[j - 1]:\n",
    "                    dp[i][j] = 1 + dp[i - 1][j - 1]\n",
    "                else:\n",
    "                    dp[i][j] = max(dp[i - 1][j], dp[i][j - 1])\n",
    "        return dp[-1][-1]\n",
    "    \n",
    "solution = Solution()\n",
    "solution.longestCommonSubsequence(text1 = \"abcde\", text2 = \"ace\" )"
   ]
  },
  {
   "cell_type": "code",
   "execution_count": 210,
   "id": "835976fb",
   "metadata": {},
   "outputs": [
    {
     "data": {
      "text/plain": [
       "[[0, 0, 0, 0],\n",
       " [0, 0, 0, 0],\n",
       " [0, 0, 0, 0],\n",
       " [0, 0, 0, 0],\n",
       " [0, 0, 0, 0],\n",
       " [0, 0, 0, 0]]"
      ]
     },
     "execution_count": 210,
     "metadata": {},
     "output_type": "execute_result"
    }
   ],
   "source": [
    "text1 = \"abcde\"\n",
    "text2 = \"ace\" \n",
    "dp = [[0] * (len(text2) + 1) for _ in range(len(text1) + 1)]\n",
    "dp"
   ]
  },
  {
   "cell_type": "code",
   "execution_count": 234,
   "id": "b24859b9",
   "metadata": {},
   "outputs": [
    {
     "data": {
      "text/plain": [
       "True"
      ]
     },
     "execution_count": 234,
     "metadata": {},
     "output_type": "execute_result"
    }
   ],
   "source": [
    "''' \n",
    "Input: s = \"applepenapple\", wordDict = [\"apple\",\"pen\"]\n",
    "Output: true\n",
    "Explanation: Return true because \"applepenapple\" can be segmented as \"apple pen apple\".\n",
    "Note that you are allowed to reuse a dictionary word.\n",
    "\n",
    "Input: s = \"catsandog\", wordDict = [\"cats\",\"dog\",\"sand\",\"and\",\"cat\"]\n",
    "Output: false\n",
    "'''\n",
    "\n",
    "class Solution:\n",
    "    def wordBreak(self, s: str, wordDict: List[str]) -> bool:\n",
    "        dp = [False] * (len(s) + 1)\n",
    "        dp[0] = True \n",
    "        word_set = set(wordDict)\n",
    "        max_len = max(map(len, wordDict)) if word_set else 0\n",
    "        for i in range(len(s) + 1):\n",
    "            for j in range(max(0, i - max_len), i):\n",
    "                if dp[j] and s[j:i] in word_set:\n",
    "                    dp[i] = True \n",
    "                    break\n",
    "        return dp[-1]\n",
    "    \n",
    "solution = Solution()\n",
    "solution.wordBreak('applepenapple', [\"apple\",\"pen\"])\n",
    "\n",
    "\n"
   ]
  },
  {
   "cell_type": "code",
   "execution_count": 227,
   "id": "cf52ec43",
   "metadata": {},
   "outputs": [
    {
     "data": {
      "text/plain": [
       "5"
      ]
     },
     "execution_count": 227,
     "metadata": {},
     "output_type": "execute_result"
    }
   ],
   "source": [
    "max(map(len, (\"apple\",\"pen\")))"
   ]
  },
  {
   "cell_type": "code",
   "execution_count": 246,
   "id": "9c313c74",
   "metadata": {},
   "outputs": [
    {
     "data": {
      "text/plain": [
       "4"
      ]
     },
     "execution_count": 246,
     "metadata": {},
     "output_type": "execute_result"
    }
   ],
   "source": [
    "''' \n",
    "Input: matrix = [[9,9,4],[6,6,8],[2,1,1]]\n",
    "Output: 4\n",
    "Explanation: The longest increasing path is [1, 2, 6, 9].\n",
    "'''\n",
    "\n",
    "class Solution:\n",
    "    def longestIncreasingPath(self, matrix: List[List[int]]) -> int:\n",
    "        rows = len(matrix)\n",
    "        cols = len(matrix[0])\n",
    "        directions = [(0, 1), (1, 0), (0, -1), (-1, 0)]\n",
    "        dp = {}\n",
    "\n",
    "        def dfs(r, c):\n",
    "            if (r, c) in dp:\n",
    "                return dp[(r, c)]\n",
    "            max_len = 1\n",
    "            for dr, dc in directions:\n",
    "                nr, nc = r + dr, c + dc \n",
    "                if 0 <= nr < rows and 0 <= nc < cols and matrix[r][c] < matrix[nr][nc]:\n",
    "                    max_len = max(max_len, 1 + dfs(nr, nc))\n",
    "            dp[(r, c)] = max_len\n",
    "            return max_len\n",
    "        return max(dfs(r, c) for r in range(rows) for c in range(cols))\n",
    "    \n",
    "solution = Solution()\n",
    "solution.longestIncreasingPath([[9,9,4],[6,6,8],[2,1,1]])"
   ]
  },
  {
   "cell_type": "code",
   "execution_count": 250,
   "id": "cc2d0cfa",
   "metadata": {},
   "outputs": [
    {
     "data": {
      "text/plain": [
       "True"
      ]
     },
     "execution_count": 250,
     "metadata": {},
     "output_type": "execute_result"
    }
   ],
   "source": [
    "''' \n",
    "Input: nums = [1,5,11,5]\n",
    "Output: true\n",
    "Explanation: The array can be partitioned as [1, 5, 5] and [11].\n",
    "'''\n",
    "\n",
    "class Solution:\n",
    "    def canPartition(self, nums):\n",
    "        total = sum(nums) \n",
    "        if total % 2 != 0:\n",
    "            return False\n",
    "        target = total // 2\n",
    "        dp = [False] * (target + 1)\n",
    "        dp[0] = True \n",
    "\n",
    "        for num in nums:\n",
    "            for i in range(target, -1, -1):\n",
    "                dp[i] = dp[i] or dp[i - num]\n",
    "        return dp[target]\n",
    "solution = Solution()\n",
    "solution.canPartition([1, 5, 11, 5])"
   ]
  },
  {
   "cell_type": "code",
   "execution_count": 259,
   "id": "064d3dfc",
   "metadata": {},
   "outputs": [
    {
     "name": "stdout",
     "output_type": "stream",
     "text": [
      "defaultdict(<class 'list'>, {'*ot': ['hot', 'dot', 'lot'], 'h*t': ['hot', 'hit'], 'ho*': ['hot'], 'd*t': ['dot'], 'do*': ['dot', 'dog'], '*og': ['dog', 'log', 'cog'], 'd*g': ['dog'], 'l*t': ['lot'], 'lo*': ['lot', 'log'], 'l*g': ['log'], 'c*g': ['cog'], 'co*': ['cog'], '*it': ['hit'], 'hi*': ['hit']})\n",
      "deque([('hit', 1)])\n",
      "deque([('hot', 2)])\n",
      "deque([('dot', 3), ('lot', 3)])\n",
      "deque([('lot', 3), ('dog', 4)])\n",
      "deque([('dog', 4), ('log', 4)])\n"
     ]
    },
    {
     "data": {
      "text/plain": [
       "5"
      ]
     },
     "execution_count": 259,
     "metadata": {},
     "output_type": "execute_result"
    }
   ],
   "source": [
    "''' \n",
    "Input: beginWord = \"hit\", endWord = \"cog\", wordList = [\"hot\",\"dot\",\"dog\",\"lot\",\"log\",\"cog\"]\n",
    "Output: 5\n",
    "Explanation: One shortest transformation sequence is \"hit\" -> \"hot\" -> \"dot\" -> \"dog\" -> cog\", which is 5 words long.\n",
    "'''\n",
    "\n",
    "from collections import defaultdict, deque\n",
    "\n",
    "def ladderLength(beginWord, endWord, wordList):\n",
    "    if endWord not in wordList:\n",
    "        return \n",
    "    \n",
    "    L = len(endWord)\n",
    "\n",
    "    pattern_map = defaultdict(list)\n",
    "    wordList.append(beginWord)\n",
    "    for word in wordList:\n",
    "        for i in range(L):\n",
    "            pattern = word[:i] + '*' + word[i + 1:]\n",
    "            pattern_map[pattern].append(word)\n",
    "\n",
    "    queue = deque([(beginWord, 1)])\n",
    "    visited = set([beginWord])\n",
    "    print(pattern_map)\n",
    "\n",
    "    while queue:\n",
    "        print(queue)\n",
    "        word, level = queue.popleft()\n",
    "\n",
    "        for i in range(L):\n",
    "            pattern = word[:i] + '*' + word[i + 1:]\n",
    "            for neighbor in pattern_map[pattern]:\n",
    "                if neighbor == endWord:\n",
    "                    return level + 1\n",
    "                \n",
    "                if neighbor not in visited:\n",
    "                    visited.add(neighbor)\n",
    "                    queue.append((neighbor, level + 1))\n",
    "        pattern_map[pattern] = []\n",
    "    return -1 \n",
    "\n",
    "\n",
    "solution = Solution()\n",
    "ladderLength(beginWord = \"hit\", endWord = \"cog\", wordList = [\"hot\",\"dot\",\"dog\",\"lot\",\"log\",\"cog\"])\n",
    "                    \n",
    "\n"
   ]
  },
  {
   "cell_type": "code",
   "execution_count": 251,
   "id": "28a207a3",
   "metadata": {},
   "outputs": [
    {
     "name": "stdout",
     "output_type": "stream",
     "text": [
      "*ot\n",
      "h*t\n",
      "ho*\n"
     ]
    }
   ],
   "source": [
    "word = \"hot\"\n",
    "for i in range(len(word)):\n",
    "    pattern = word[:i] + '*' + word[i + 1:]\n",
    "    print(pattern)"
   ]
  },
  {
   "cell_type": "code",
   "execution_count": 260,
   "id": "9bde12a1",
   "metadata": {},
   "outputs": [
    {
     "data": {
      "text/plain": [
       "[0, 1, 2, 3]"
      ]
     },
     "execution_count": 260,
     "metadata": {},
     "output_type": "execute_result"
    }
   ],
   "source": [
    "''' \n",
    "Input: numCourses = 4, prerequisites = [[1,0],[2,0],[3,1],[3,2]]\n",
    "Output: [0,2,1,3] or [0, 1, 2, 3]\n",
    "Explanation: There are a total of 4 courses to take. To take course 3 you should have finished both courses 1 and 2. Both courses 1 and 2 should be taken after you finished course 0.\n",
    "So one correct course order is [0,1,2,3]. Another correct ordering is [0,2,1,3].\n",
    "'''\n",
    "\n",
    "from collections import defaultdict, deque\n",
    "\n",
    "def findOrder(numCourses, prerequisites):\n",
    "    graph = defaultdict(list)\n",
    "    indegree = [0] * numCourses\n",
    "    for dest, src in prerequisites:\n",
    "        graph[src].append(dest)\n",
    "        indegree[dest] += 1\n",
    "\n",
    "    queue = deque([i for i in range(numCourses) if indegree[i] == 0])\n",
    "    res = []\n",
    "    while queue:\n",
    "        course = queue.popleft()\n",
    "        res.append(course)\n",
    "\n",
    "        for neighbor in graph[course]:\n",
    "            indegree[neighbor] -= 1\n",
    "            if indegree[neighbor] == 0:\n",
    "                queue.append(neighbor)\n",
    "    return res if len(res) == numCourses else []\n",
    "\n",
    "\n",
    "solution = Solution()\n",
    "findOrder(4, [[1,0],[2,0],[3,1],[3,2]])\n",
    "        "
   ]
  },
  {
   "cell_type": "code",
   "execution_count": 273,
   "id": "83c0d39e",
   "metadata": {},
   "outputs": [
    {
     "data": {
      "text/plain": [
       "2"
      ]
     },
     "execution_count": 273,
     "metadata": {},
     "output_type": "execute_result"
    }
   ],
   "source": [
    "''' \n",
    "Input: isConnected = [[1,1,0],[1,1,0],[0,0,1]]\n",
    "1 ---> 2\n",
    "\n",
    "    3\n",
    "\n",
    "Output: 2\n",
    "\n",
    "'''\n",
    "\n",
    "class Solution:\n",
    "    class DSU:\n",
    "        def __init__(self, n):\n",
    "            self.parent = list(range(n))\n",
    "            self.rank = [1] * n \n",
    "        \n",
    "\n",
    "        def find(self, x):\n",
    "            if self.parent[x] != x:\n",
    "                x = self.parent[x]\n",
    "                return self.find(x)\n",
    "            return x\n",
    "        \n",
    "        def union(self, x, y):\n",
    "            px = self.find(x)\n",
    "            py = self.find(y)\n",
    "\n",
    "            if px == py:\n",
    "                return\n",
    "\n",
    "            x_rank = self.rank[x]\n",
    "            y_rank = self.rank[y]\n",
    "            if x_rank < y_rank:\n",
    "                self.parent[x] = y \n",
    "            elif x_rank > y_rank:\n",
    "                self.parent[y] = x\n",
    "            else:\n",
    "                self.parent[y] = x\n",
    "                self.rank[x] += 1\n",
    "        \n",
    "        def is_connected(self, x, y):\n",
    "            return self.find(x) == self.find(y)\n",
    "        \n",
    "\n",
    "    def findCircleNum(self, isConnected):\n",
    "        n = len(isConnected)\n",
    "        dsu = self.DSU(n)\n",
    "        for i in range(n):\n",
    "            for j in range(i + 1, n):\n",
    "                if isConnected[i][j] == 1:\n",
    "                    dsu.union(i, j)\n",
    "        return len(set(dsu.find(i) for i in range(n)))\n",
    "\n",
    "solution = Solution()\n",
    "solution.findCircleNum([[1,1,0],[1,1,0],[0,0,1]])\n",
    "\n"
   ]
  },
  {
   "cell_type": "code",
   "execution_count": 277,
   "id": "3d6f0fa3",
   "metadata": {},
   "outputs": [
    {
     "data": {
      "text/plain": [
       "20"
      ]
     },
     "execution_count": 277,
     "metadata": {},
     "output_type": "execute_result"
    }
   ],
   "source": [
    "''' \n",
    "Input: points = [[0,0],[2,2],[3,10],[5,2],[7,0]]\n",
    "Output: 20\n",
    "Explanation: \n",
    "\n",
    "We can connect the points as shown above to get the minimum cost of 20.\n",
    "Notice that there is a unique path between every pair of points.\n",
    "'''\n",
    "\n",
    "import heapq  # For using a priority queue (min-heap)\n",
    "\n",
    "class Solution:\n",
    "    def minCostConnectPoints(self, points: List[List[int]]) -> int:\n",
    "        min_heap = [(0, 0)]\n",
    "        visited = set()\n",
    "        n = len(points)\n",
    "        total_cost = 0\n",
    "        while len(visited) < n:\n",
    "            u, cost = heapq.heappop(min_heap)\n",
    "            if u in visited:\n",
    "                continue\n",
    "            visited.add(u)\n",
    "            total_cost += cost\n",
    "            for v in range(n):\n",
    "                if v in visited:\n",
    "                    continue\n",
    "                dist = abs(points[u][0] - points[v][0]) + abs(points[u][1] - points[v][1])\n",
    "                heapq.heappush(min_heap, (v, dist))\n",
    "        return total_cost \n",
    "    \n",
    "\n",
    "\n",
    "solution = Solution()\n",
    "solution.minCostConnectPoints([[0,0],[2,2],[3,10],[5,2],[7,0]])"
   ]
  },
  {
   "cell_type": "code",
   "execution_count": null,
   "id": "f1635fe0",
   "metadata": {},
   "outputs": [
    {
     "data": {
      "text/plain": [
       "700"
      ]
     },
     "execution_count": 278,
     "metadata": {},
     "output_type": "execute_result"
    }
   ],
   "source": [
    "''' \n",
    "Input: n = 4, flights = [[0,1,100],[1,2,100],[2,0,100],[1,3,600],[2,3,200]], src = 0, dst = 3, k = 1\n",
    "Output: 700\n",
    "Explanation:\n",
    "The graph is shown above.\n",
    "The optimal path with at most 1 stop from city 0 to 3 is marked in red and has cost 100 + 600 = 700.\n",
    "Note that the path through cities [0,1,2,3] is cheaper but is invalid because it uses 2 stops.\n",
    "'''\n",
    "class Solution:\n",
    "    def findCheapestPrice(self, n: int, flights: List[List[int]], src: int, dst: int, k: int) -> int:\n",
    "        prices = [float('inf')] * n \n",
    "        prices[src] = 0\n",
    "        for _ in range(k + 1):\n",
    "            temp_prices = prices.copy()\n",
    "            for u, v, cost in flights:\n",
    "                if cost + prices[u] < temp_prices[v]:\n",
    "                    temp_prices[v] = cost + prices[u]\n",
    "            prices = temp_prices\n",
    "        return prices[dst]\n",
    "    \n",
    "\n",
    "solution = Solution()\n",
    "solution.findCheapestPrice(n = 4, flights = [[0,1,100],[1,2,100],[2,0,100],[1,3,600],[2,3,200]], src = 0, dst = 3, k = 1)"
   ]
  },
  {
   "cell_type": "code",
   "execution_count": 286,
   "id": "7f39730e",
   "metadata": {},
   "outputs": [
    {
     "data": {
      "text/plain": [
       "-321"
      ]
     },
     "execution_count": 286,
     "metadata": {},
     "output_type": "execute_result"
    }
   ],
   "source": [
    "'''\n",
    "Input: x = 123\n",
    "Output: 321\n",
    "\n",
    "Given a signed 32-bit integer x, return x with its digits reversed. If reversing x causes the value to go outside the signed 32-bit integer range [-231, 231 - 1], then return 0.\n",
    "'''\n",
    "\n",
    "class Solution:\n",
    "    def reverse(self, x: int) -> int:\n",
    "        sign = -1 if x < 0 else 1 \n",
    "        MAX_INT = 2 ** 31 - 1\n",
    "        rev = 0\n",
    "        x = abs(x)\n",
    "        while x != 0:\n",
    "            rem = x % 10 \n",
    "            if rev > MAX_INT // 10:\n",
    "                return 0\n",
    "            rev = (rev * 10) + rem\n",
    "            x = x // 10\n",
    "        return rev * sign\n",
    "    \n",
    "\n",
    "solution = Solution()\n",
    "solution.reverse(-123)"
   ]
  },
  {
   "cell_type": "code",
   "execution_count": 294,
   "id": "127fa773",
   "metadata": {},
   "outputs": [
    {
     "name": "stdout",
     "output_type": "stream",
     "text": [
      "D\n",
      "  h\n",
      "    a\n",
      "      r\n",
      "        a\n",
      "          n\n",
      "            i *\n",
      "              1 *\n",
      "P\n",
      "  r\n",
      "    a\n",
      "      s\n",
      "        a\n",
      "          d *\n"
     ]
    }
   ],
   "source": [
    "''' \n",
    "Example 1:\n",
    "\n",
    "Input\n",
    "[\"Trie\", \"insert\", \"search\", \"search\", \"startsWith\", \"insert\", \"search\"]\n",
    "[[], [\"apple\"], [\"apple\"], [\"app\"], [\"app\"], [\"app\"], [\"app\"]]\n",
    "Output\n",
    "[null, null, true, false, true, null, true]\n",
    "\n",
    "Explanation\n",
    "Trie trie = new Trie();\n",
    "trie.insert(\"apple\");\n",
    "trie.search(\"apple\");   // return True\n",
    "trie.search(\"app\");     // return False\n",
    "trie.startsWith(\"app\"); // return True\n",
    "trie.insert(\"app\");\n",
    "trie.search(\"app\");     // return True\n",
    "'''\n",
    "\n",
    "class TrieNode:\n",
    "    def __init__(self):\n",
    "        self.children = {}\n",
    "        self.is_end = False \n",
    "\n",
    "class Trie:\n",
    "    def __init__(self):\n",
    "        self.root = TrieNode()\n",
    "\n",
    "    def insert(self, word):\n",
    "        node = self.root\n",
    "        for char in word:\n",
    "            if char not in node.children:\n",
    "                node.children[char] = TrieNode()\n",
    "            node = node.children[char]\n",
    "        node.is_end = True\n",
    "\n",
    "    \n",
    "    def search(self, word):\n",
    "        node = self.contains(word) \n",
    "        return node and node.is_end\n",
    "    \n",
    "    def startsWith(self, word):\n",
    "        node = self.contains(word)\n",
    "        return node is not None \n",
    "\n",
    "\n",
    "    def contains(self, word):\n",
    "        node = self.root\n",
    "        for char in word:\n",
    "            if char in node.children:\n",
    "                node = node.children[char]\n",
    "            else:\n",
    "                return None\n",
    "        return node\n",
    "    \n",
    "    def print_trie(self, node=None, prefix=\"\"):\n",
    "        if node is None:\n",
    "            node = self.root\n",
    "        for char, child in node.children.items():\n",
    "            end_marker = \" *\" if child.is_end else \"\"\n",
    "            print(prefix + char + end_marker)\n",
    "            self.print_trie(child, prefix + \"  \")\n",
    "\n",
    "\n",
    "obj = Trie()\n",
    "word = 'Dharani'\n",
    "obj.insert(word)\n",
    "obj.insert('Dharani1')\n",
    "obj.insert('Prasad')\n",
    "param_2 = obj.search(word)\n",
    "param_3 = obj.startsWith('Dh')\n",
    "obj.print_trie(obj.root)"
   ]
  },
  {
   "cell_type": "code",
   "execution_count": 7,
   "id": "1a5db1fa",
   "metadata": {},
   "outputs": [
    {
     "name": "stdout",
     "output_type": "stream",
     "text": [
      "['oath', 'eat']\n"
     ]
    }
   ],
   "source": [
    "from typing import List\n",
    "\n",
    "class TrieNode:\n",
    "    def __init__(self):\n",
    "        self.children = {}\n",
    "        self.is_end = None \n",
    "\n",
    "class Solution:\n",
    "    def findWords(self, board: List[List[str]], words: List[str]) -> List[str]:\n",
    "        root = TrieNode()\n",
    "        res = []\n",
    "\n",
    "        for word in words:\n",
    "            node = root \n",
    "            for char in word:\n",
    "                if char not in node.children:\n",
    "                    node.children[char] = TrieNode()\n",
    "                node = node.children[char]\n",
    "            node.is_end = word \n",
    "\n",
    "\n",
    "        rows = len(board)\n",
    "        cols = len(board[0])\n",
    "        directions = [(0, 1), (1, 0), (0, -1), (-1, 0)]\n",
    "\n",
    "        def dfs(r, c, node):\n",
    "            char = board[r][c]\n",
    "\n",
    "            if char not in node.children:\n",
    "                return\n",
    "            \n",
    "            next_node = node.children[char]\n",
    "\n",
    "            if next_node.is_end:\n",
    "                res.append(next_node.is_end)\n",
    "                next_node.is_end = None \n",
    "\n",
    "            board[r][c] = '#'\n",
    "\n",
    "            for dr, dc in directions:\n",
    "                nr, nc = r + dr, c + dc\n",
    "                if 0 <= nr < rows and 0 <= nc < cols and board[nr][nc] != '#':\n",
    "                    dfs(nr, nc, next_node)\n",
    "            board[r][c] = char\n",
    "        \n",
    "        for r in range(rows):\n",
    "            for c in range(cols):\n",
    "                dfs(r, c, root)\n",
    "\n",
    "        return res \n",
    "    \n",
    "\n",
    "solution = Solution()\n",
    "res = solution.findWords(board = [[\"o\",\"a\",\"a\",\"n\"],[\"e\",\"t\",\"a\",\"e\"],[\"i\",\"h\",\"k\",\"r\"],[\"i\",\"f\",\"l\",\"v\"]], words = [\"oath\",\"pea\",\"eat\",\"rain\"])\n",
    "print(res)"
   ]
  },
  {
   "cell_type": "code",
   "execution_count": 20,
   "id": "2e6c6408",
   "metadata": {},
   "outputs": [
    {
     "name": "stdout",
     "output_type": "stream",
     "text": [
      "3\n"
     ]
    }
   ],
   "source": [
    "from typing import List\n",
    "\n",
    "class Solution:\n",
    "    def maxPoints(self, points: List[List[int]]) -> int:\n",
    "        if len(points) <= 2:\n",
    "            return len(points)\n",
    "\n",
    "        res = 1\n",
    "        for i in range(len(points)):\n",
    "            p1 = points[i]\n",
    "            count = {}  # reset for each anchor point\n",
    "            for j in range(i + 1, len(points)):\n",
    "                p2 = points[j]\n",
    "                if p1[0] == p2[0]:\n",
    "                    slope = float('inf')\n",
    "                else:\n",
    "                    slope = (p2[1] - p1[1]) / (p2[0] - p1[0])\n",
    "\n",
    "                count[slope] = 1 + count.get(slope, 1)  # each slope starts with 2 points\n",
    "                res = max(res, count[slope])\n",
    "\n",
    "        return res\n",
    "\n",
    "solution = Solution()\n",
    "print(solution.maxPoints([[1,1],[2,2],[3,3]]))  # Output: 3\n"
   ]
  },
  {
   "cell_type": "code",
   "execution_count": 2,
   "id": "79d6a92b",
   "metadata": {},
   "outputs": [
    {
     "data": {
      "text/plain": [
       "4"
      ]
     },
     "execution_count": 2,
     "metadata": {},
     "output_type": "execute_result"
    }
   ],
   "source": [
    "'''\n",
    "Example 1:\n",
    "\n",
    "Input: nums = [1,2,3,1]\n",
    "Output: 4\n",
    "Explanation: Rob house 1 (money = 1) and then rob house 3 (money = 3).\n",
    "Total amount you can rob = 1 + 3 = 4.\n",
    "'''\n",
    "from typing import List \n",
    "\n",
    "class Solution:\n",
    "    def rob(self, nums: List[int]) -> int:\n",
    "        if len(nums) < 2:\n",
    "            return nums[0]\n",
    "        n = len(nums)\n",
    "        dp = [0] * n \n",
    "        dp[0] = nums[0]\n",
    "        dp[1] = max(nums[0], nums[1])\n",
    "        for i in range(2, len(nums)):\n",
    "            dp[i] = max(dp[i - 1], nums[i] + dp[i - 2])\n",
    "        return dp[-1]\n",
    "    \n",
    "\n",
    "solution = Solution()\n",
    "solution.rob([1, 2, 3, 1])"
   ]
  },
  {
   "cell_type": "code",
   "execution_count": 4,
   "id": "b0a62cc2",
   "metadata": {},
   "outputs": [
    {
     "data": {
      "text/plain": [
       "3"
      ]
     },
     "execution_count": 4,
     "metadata": {},
     "output_type": "execute_result"
    }
   ],
   "source": [
    "''' \n",
    "Input: nums = [2,3,2]\n",
    "Output: 3\n",
    "Explanation: You cannot rob house 1 (money = 2) and then rob house 3 (money = 2), because they are adjacent houses.\n",
    "'''\n",
    "\n",
    "class Solution:\n",
    "    def rob(self, nums: List[int]) -> int:\n",
    "        if len(nums) < 2:\n",
    "            return nums[0]\n",
    "        exclude_last = self.rob_helper(nums[:len(nums) - 1])\n",
    "        exclude_first = self.rob_helper(nums[1:])\n",
    "        return max(exclude_first, exclude_last)\n",
    "    \n",
    "    def rob_helper(self, nums):\n",
    "        if len(nums) < 2:\n",
    "            return nums[0]\n",
    "        n = len(nums)\n",
    "        dp = [0] * n \n",
    "        dp[0] = nums[0]\n",
    "        dp[1] = max(nums[0], nums[1])\n",
    "        for i in range(2, len(nums)):\n",
    "            dp[i] = max(dp[i - 1], nums[i] + dp[i - 2])\n",
    "        return dp[-1]\n",
    "    \n",
    "solution = Solution()\n",
    "solution.rob([2, 3, 2])"
   ]
  },
  {
   "cell_type": "code",
   "execution_count": 25,
   "id": "182bbff5",
   "metadata": {},
   "outputs": [
    {
     "data": {
      "text/plain": [
       "False"
      ]
     },
     "execution_count": 25,
     "metadata": {},
     "output_type": "execute_result"
    }
   ],
   "source": [
    "''' \n",
    "Input: nums = [1,5,11,5]\n",
    "Output: true\n",
    "Explanation: The array can be partitioned as [1, 5, 5] and [11].\n",
    "'''\n",
    "\n",
    "class Solution:\n",
    "    def canPartition(self, nums):\n",
    "        total_sum = sum(nums)\n",
    "        if total_sum % 2 != 0:\n",
    "            return False\n",
    "        target = total_sum // 2\n",
    "        dp = [False] * (target + 1)\n",
    "        dp[0] = True\n",
    "        for num in nums:\n",
    "            for i in range(target, num - 1, -1):\n",
    "                #print(num, i)\n",
    "                dp[i] = dp[i] or dp[i - num]\n",
    "        return dp[target]\n",
    "    \n",
    "solution = Solution()\n",
    "solution.canPartition([3, 3, 2])"
   ]
  },
  {
   "cell_type": "code",
   "execution_count": 27,
   "id": "827883e3",
   "metadata": {},
   "outputs": [
    {
     "data": {
      "text/plain": [
       "3"
      ]
     },
     "execution_count": 27,
     "metadata": {},
     "output_type": "execute_result"
    }
   ],
   "source": [
    "''' \n",
    "Input: coins = [1,2,5], amount = 11\n",
    "Output: 3\n",
    "Explanation: 11 = 5 + 5 + 1\n",
    "'''\n",
    "\n",
    "class Solution:\n",
    "    def coinChange(self, coins: List[int], amount: int) -> int:\n",
    "        dp = [float('inf')] * (amount + 1)\n",
    "        dp[0] = 0 \n",
    "        for i in range(1, amount + 1):\n",
    "            for coin in coins:\n",
    "                if coin <= i and (i - coin) != float('inf'):\n",
    "                    dp[i] = min(dp[i], 1 + dp[i - coin])\n",
    "        return dp[-1]\n",
    "    \n",
    "solution = Solution()\n",
    "solution.coinChange([1, 2, 5], 11)"
   ]
  },
  {
   "cell_type": "code",
   "execution_count": 30,
   "id": "6b10aa36",
   "metadata": {},
   "outputs": [
    {
     "data": {
      "text/plain": [
       "4"
      ]
     },
     "execution_count": 30,
     "metadata": {},
     "output_type": "execute_result"
    }
   ],
   "source": [
    "''' \n",
    "Input: nums = [10,9,2,5,3,7,101,18]\n",
    "Output: 4\n",
    "Explanation: The longest increasing subsequence is [2,3,7,101], therefore the length is 4.\n",
    "'''\n",
    "\n",
    "class Solution:\n",
    "    def lengthOfLIS(self, nums: List[int]) -> int:\n",
    "        n = len(nums)\n",
    "        dp = [1] * n\n",
    "        for i in range(1, n):\n",
    "            for j in range(i):\n",
    "                if nums[i] > nums[j] and dp[i] >= dp[j]:\n",
    "                    dp[i] = 1 + dp[j]\n",
    "        return max(dp)\n",
    "\n",
    "\n",
    "solution = Solution()\n",
    "solution.lengthOfLIS([10,9,2,5,3,7,101,18])"
   ]
  },
  {
   "cell_type": "code",
   "execution_count": 36,
   "id": "626a4fcd",
   "metadata": {},
   "outputs": [
    {
     "data": {
      "text/plain": [
       "3"
      ]
     },
     "execution_count": 36,
     "metadata": {},
     "output_type": "execute_result"
    }
   ],
   "source": [
    "''' \n",
    "Input: text1 = \"abcde\", text2 = \"ace\" \n",
    "Output: 3  \n",
    "Explanation: The longest common subsequence is \"ace\" and its length is 3.\n",
    "'''\n",
    "\n",
    "class Solution:\n",
    "    def longestCommonSubsequence(self, text1: str, text2: str) -> int:\n",
    "        dp = [[0] * (len(text2) + 1) for _ in range(len(text1) + 1)]\n",
    "        for i in range(1, len(text1) + 1):\n",
    "            for j in range(1, len(text2) + 1):\n",
    "                if text1[i - 1] == text2[j - 1]:\n",
    "                    dp[i][j] = 1 + dp[i - 1][j - 1]\n",
    "                else:\n",
    "                    dp[i][j] = max(dp[i - 1][j], dp[i][j - 1])\n",
    "        return dp[-1][-1]\n",
    "\n",
    "solution = Solution()\n",
    "solution.longestCommonSubsequence(\"abcde\", \"ace\")"
   ]
  },
  {
   "cell_type": "code",
   "execution_count": 55,
   "id": "1a7038c1",
   "metadata": {},
   "outputs": [
    {
     "data": {
      "text/plain": [
       "True"
      ]
     },
     "execution_count": 55,
     "metadata": {},
     "output_type": "execute_result"
    }
   ],
   "source": [
    "''' \n",
    "Input: s = \"applepenapple\", wordDict = [\"apple\",\"pen\"]\n",
    "Output: true\n",
    "Explanation: Return true because \"applepenapple\" can be segmented as \"apple pen apple\".\n",
    "Note that you are allowed to reuse a dictionary word.\n",
    "\n",
    "Input: s = \"catsandog\", wordDict = [\"cats\",\"dog\",\"sand\",\"and\",\"cat\"]\n",
    "Output: false\n",
    "'''\n",
    "\n",
    "class Solution:\n",
    "    def wordBreak(self, s: str, wordDict: List[str]) -> bool:\n",
    "        wordDict = set(wordDict)\n",
    "        dp = [False] * (len(s) + 1)\n",
    "        dp[0] = True \n",
    "        max_len = max(map(len, wordDict))\n",
    "        for i in range(len(s) + 1):\n",
    "            for j in range(max(0, i - max_len), i):\n",
    "                if dp[j] and s[j:i] in wordDict:  \n",
    "                    dp[i] = True \n",
    "                    break\n",
    "        return dp[-1]\n",
    "\n",
    "solution = Solution()\n",
    "solution.wordBreak(s = \"applepenapple\", wordDict = [\"apple\",\"pen\"])"
   ]
  },
  {
   "cell_type": "code",
   "execution_count": 57,
   "id": "79e5d7bc",
   "metadata": {},
   "outputs": [
    {
     "data": {
      "text/plain": [
       "7"
      ]
     },
     "execution_count": 57,
     "metadata": {},
     "output_type": "execute_result"
    }
   ],
   "source": [
    "''' \n",
    "Input: grid = [[1,3,1],[1,5,1],[4,2,1]]\n",
    "Output: 7\n",
    "Explanation: Because the path 1 → 3 → 1 → 1 → 1 minimizes the sum.\n",
    "\n",
    "      0     1     2     3\n",
    "   -------------------------\n",
    "0 | inf | inf | inf | inf |\n",
    "1 | inf | inf | inf | inf |\n",
    "2 | inf | inf | inf |  0  | ← dp[2][3] is now 0\n",
    "3 | inf | inf | inf | inf |\n",
    "\n",
    "'''\n",
    "\n",
    "class Solution:\n",
    "    def minPathSum(self, grid: List[List[int]]) -> int:\n",
    "        rows = len(grid)\n",
    "        cols = len(grid[0])\n",
    "\n",
    "        dp = [[float('inf')] * (rows + 1) for _ in range(cols + 1)]\n",
    "        dp[rows - 1][cols] = 0 \n",
    "\n",
    "        for i in range(rows - 1, -1, -1):\n",
    "            for j in range(cols - 1, -1, -1):\n",
    "                dp[i][j] = grid[i][j] + min(dp[i + 1][j], dp[i][j + 1])\n",
    "        return dp[0][0]\n",
    "    \n",
    "solution = Solution()\n",
    "solution.minPathSum([[1,3,1],[1,5,1],[4,2,1]])"
   ]
  },
  {
   "cell_type": "code",
   "execution_count": 59,
   "id": "de7c3fcb",
   "metadata": {},
   "outputs": [
    {
     "data": {
      "text/plain": [
       "4"
      ]
     },
     "execution_count": 59,
     "metadata": {},
     "output_type": "execute_result"
    }
   ],
   "source": [
    "''' \n",
    "Input: matrix = [[9,9,4],[6,6,8],[2,1,1]]\n",
    "Output: 4\n",
    "Explanation: The longest increasing path is [1, 2, 6, 9].\n",
    "'''\n",
    "\n",
    "class Solution:\n",
    "    def longestIncreasingPath(self, matrix: List[List[int]]) -> int:\n",
    "        dp = {}\n",
    "        rows = len(matrix)\n",
    "        cols = len(matrix[0])\n",
    "\n",
    "        directions = [(1, 0), (0, 1), (-1, 0), (0, -1)]\n",
    "        def dfs(r, c):\n",
    "            if (r, c) in dp:\n",
    "                return dp[(r, c)]\n",
    "            \n",
    "            max_len = 1 \n",
    "            for dr, dc in directions:\n",
    "                nr, nc = r + dr, c + dc \n",
    "                if 0 <= nr < rows and 0 <= nc < cols and matrix[nr][nc] > matrix[r][c]:\n",
    "                    max_len = max(max_len, 1 + dfs(nr, nc))\n",
    "            dp[(r, c)] = max_len\n",
    "            return max_len\n",
    "        for i in range(rows):\n",
    "            for j in range(cols):\n",
    "                dfs(i, j)\n",
    "        return max(dp.values())\n",
    "                \n",
    "solution = Solution()\n",
    "solution.longestIncreasingPath([[9,9,4],[6,6,8],[2,1,1]])"
   ]
  },
  {
   "cell_type": "code",
   "execution_count": null,
   "id": "eb4a7e7f",
   "metadata": {},
   "outputs": [],
   "source": []
  },
  {
   "cell_type": "code",
   "execution_count": 68,
   "id": "32120502",
   "metadata": {},
   "outputs": [
    {
     "data": {
      "text/plain": [
       "1"
      ]
     },
     "execution_count": 68,
     "metadata": {},
     "output_type": "execute_result"
    }
   ],
   "source": [
    "''' \n",
    "Input: grid = [\n",
    "  [\"1\",\"1\",\"1\",\"1\",\"0\"],\n",
    "  [\"1\",\"1\",\"0\",\"1\",\"0\"],\n",
    "  [\"1\",\"1\",\"0\",\"0\",\"0\"],\n",
    "  [\"0\",\"0\",\"0\",\"0\",\"0\"]\n",
    "]\n",
    "Output: 1\n",
    "'''\n",
    "from typing import List \n",
    "\n",
    "class Solution:\n",
    "    def numIslands(self, grid: List[List[str]]) -> int:\n",
    "        rows = len(grid) \n",
    "        cols = len(grid[0])\n",
    "        directions = [(0, 1), (1, 0), (0, -1), (-1, 0)]\n",
    "        \n",
    "\n",
    "        def dfs(r, c):\n",
    "            grid[r][c] = '0'\n",
    "            for dr, dc in directions:\n",
    "                nr, nc = r + dr, c + dc\n",
    "                if 0 <= nr < rows and 0 <= nc < cols and grid[nr][nc] == '1': \n",
    "                    dfs(nr, nc)\n",
    "        count = 0\n",
    "        for i in range(rows):\n",
    "            for j in range(cols):\n",
    "                if grid[i][j] == '1':\n",
    "                    dfs(i, j)\n",
    "                    count += 1\n",
    "        return count \n",
    "    \n",
    "solution = Solution()\n",
    "solution.numIslands([\n",
    "  [\"1\",\"1\",\"1\",\"1\",\"0\"],\n",
    "  [\"1\",\"1\",\"0\",\"1\",\"0\"],\n",
    "  [\"1\",\"1\",\"0\",\"0\",\"0\"],\n",
    "  [\"0\",\"0\",\"0\",\"0\",\"0\"]\n",
    "])"
   ]
  },
  {
   "cell_type": "code",
   "execution_count": null,
   "id": "cfd660c6",
   "metadata": {},
   "outputs": [],
   "source": [
    "from typing import Optional\n",
    "\n",
    "class Node:\n",
    "    def __init__(self, val, neighbors = None):\n",
    "        self.val = val\n",
    "        self.neighbors = neighbors if neighbors else []\n",
    "\n",
    "class Solution:\n",
    "    def cloneGraph(self, node: Optional['Node']) -> Optional['Node']:\n",
    "        if not node:\n",
    "            return None \n",
    "        \n",
    "        old_to_new = {}\n",
    "\n",
    "        def dfs(node):\n",
    "            if node in old_to_new:\n",
    "                return old_to_new[node]\n",
    "            \n",
    "            copy = Node(node.val)\n",
    "            old_to_new[node] = copy\n",
    "\n",
    "            for neighbour in node.neighbors:\n",
    "                copy.neigbors.append(dfs(neighbour))\n",
    "            return copy\n",
    "        return dfs(node)\n",
    "        "
   ]
  },
  {
   "cell_type": "code",
   "execution_count": 75,
   "id": "bbad6c75",
   "metadata": {},
   "outputs": [
    {
     "data": {
      "text/plain": [
       "True"
      ]
     },
     "execution_count": 75,
     "metadata": {},
     "output_type": "execute_result"
    }
   ],
   "source": [
    "''' \n",
    "Input: graph = [[1,2,3],[0,2],[0,1,3],[0,2]]\n",
    "Output: false\n",
    "Explanation: There is no way to partition the nodes into two independent sets such that every edge connects a node in one and a node in the other.\n",
    "'''\n",
    "\n",
    "from collections import deque\n",
    "\n",
    "class Solution:\n",
    "    def isBipartite(self, graph):\n",
    "        n = len(graph)\n",
    "        color = [-1] * n \n",
    "        queue = deque([])\n",
    "        for start in range(n):\n",
    "            if color[start] == -1:\n",
    "                color[start] = 0\n",
    "                queue.append(start)\n",
    "            \n",
    "            while queue:\n",
    "                node = queue.popleft()\n",
    "                for neighbor in graph[node]:\n",
    "                    if color[neighbor] == -1:\n",
    "                        queue.append(neighbor)\n",
    "                        color[neighbor] = 1- color[node]\n",
    "                    elif color[neighbor] == color[node]:\n",
    "                            return False \n",
    "                            \n",
    "        return True \n",
    "    \n",
    "solution = Solution()\n",
    "solution.isBipartite([[1,3],[0,2],[1,3],[0,2]])                    "
   ]
  },
  {
   "cell_type": "code",
   "execution_count": 78,
   "id": "15fb4415",
   "metadata": {},
   "outputs": [
    {
     "data": {
      "text/plain": [
       "4"
      ]
     },
     "execution_count": 78,
     "metadata": {},
     "output_type": "execute_result"
    }
   ],
   "source": [
    "''' \n",
    "You are given an m x n grid where each cell can have one of three values:\n",
    "\n",
    "0 representing an empty cell,\n",
    "1 representing a fresh orange, or\n",
    "2 representing a rotten orange.\n",
    "Every minute, any fresh orange that is 4-directionally adjacent to a rotten orange becomes rotten.\n",
    "\n",
    "Return the minimum number of minutes that must elapse until no cell has a fresh orange. If this is impossible, return -1.\n",
    "'''\n",
    "\n",
    "''' \n",
    "Input: grid = [[2,1,1],[1,1,0],[0,1,1]]\n",
    "Output: 4\n",
    "'''\n",
    "from collections import deque\n",
    "class Solution:\n",
    "    def orangesRotting(self, grid: List[List[int]]) -> int:\n",
    "        rows = len(grid)\n",
    "        cols = len(grid[0])\n",
    "        fresh_count = 0\n",
    "        minutes = 0\n",
    "        queue = deque([])\n",
    "        for i in range(rows):\n",
    "            for j in range(cols):\n",
    "                if grid[i][j] == 1:\n",
    "                    fresh_count += 1\n",
    "                elif grid[i][j] == 2:\n",
    "                    queue.append((i, j, 0))\n",
    "\n",
    "        directions = [(0, 1), (1, 0), (0, -1), (-1, 0)]\n",
    "        while queue:\n",
    "            r, c, minutes = queue.popleft()\n",
    "            for dr, dc in directions:\n",
    "                nr, nc = r + dr, c + dc\n",
    "                if 0 <= nr < rows and 0 <= nc < cols and grid[nr][nc] == 1:\n",
    "                    grid[nr][nc] = 2\n",
    "                    fresh_count -= 1\n",
    "                    queue.append((nr, nc, 1 + minutes))\n",
    "        return minutes if fresh_count == 0 else -1\n",
    "\n",
    "solution = Solution()\n",
    "solution.orangesRotting([[2,1,1],[1,1,0],[0,1,1]])  "
   ]
  },
  {
   "cell_type": "code",
   "execution_count": 85,
   "id": "f0655892",
   "metadata": {},
   "outputs": [
    {
     "data": {
      "text/plain": [
       "5"
      ]
     },
     "execution_count": 85,
     "metadata": {},
     "output_type": "execute_result"
    }
   ],
   "source": [
    "''' \n",
    "A transformation sequence from word beginWord to word endWord using a dictionary wordList is a sequence of words beginWord -> s1 -> s2 -> ... -> sk such that:\n",
    "\n",
    "Every adjacent pair of words differs by a single letter.\n",
    "Every si for 1 <= i <= k is in wordList. Note that beginWord does not need to be in wordList.\n",
    "sk == endWord\n",
    "Given two words, beginWord and endWord, and a dictionary wordList, return the number of words in the shortest transformation sequence from beginWord to endWord, or 0 if no such sequence exists.\n",
    "'''\n",
    "\n",
    "''' \n",
    "Input: beginWord = \"hit\", endWord = \"cog\", wordList = [\"hot\",\"dot\",\"dog\",\"lot\",\"log\",\"cog\"]\n",
    "Output: 5\n",
    "Explanation: One shortest transformation sequence is \"hit\" -> \"hot\" -> \"dot\" -> \"dog\" -> cog\", which is 5 words long.\n",
    "'''\n",
    "\n",
    "from collections import defaultdict, deque\n",
    "\n",
    "class Solution:\n",
    "    def ladderLength(self, beginWord: str, endWord: str, wordList: list) -> int:\n",
    "        if endWord not in wordList:\n",
    "            return -1 \n",
    "        \n",
    "        wordList.append(beginWord)\n",
    "        pattern_map = defaultdict(list)\n",
    "        L = len(endWord)\n",
    "        for word in wordList:\n",
    "            for i in range(L):\n",
    "                pattern = word[:i] + '*' + word[i + 1:]\n",
    "                pattern_map[pattern].append(word)\n",
    "        #print(pattern_map)\n",
    "        queue = deque([(beginWord, 1)])\n",
    "        visited = set(beginWord)\n",
    "        while queue:\n",
    "            word, level = queue.popleft()\n",
    "            if word in visited:\n",
    "                continue\n",
    "            \n",
    "            visited.add(word)\n",
    "            for i in range(L):\n",
    "                pattern = word[:i] + '*' + word[i + 1:]\n",
    "                for neighbor in pattern_map[pattern]:\n",
    "                    if neighbor == endWord:\n",
    "                        break \n",
    "                    queue.append((neighbor, level + 1))\n",
    "            pattern_map[word] = []\n",
    "        return level \n",
    "solution = Solution()\n",
    "solution.ladderLength(beginWord = \"hit\", endWord = \"cog\", wordList = [\"hot\",\"dot\",\"dog\",\"lot\",\"log\",\"cog\"])\n"
   ]
  },
  {
   "cell_type": "code",
   "execution_count": 90,
   "id": "e881a8d4",
   "metadata": {},
   "outputs": [
    {
     "name": "stdout",
     "output_type": "stream",
     "text": [
      "defaultdict(<class 'list'>, {0: [1, 2], 1: [3], 2: [3]})\n",
      "[0, 1, 1, 2]\n"
     ]
    },
    {
     "data": {
      "text/plain": [
       "[0, 1, 2, 3]"
      ]
     },
     "execution_count": 90,
     "metadata": {},
     "output_type": "execute_result"
    }
   ],
   "source": [
    "''' \n",
    "Input: numCourses = 4, prerequisites = [[1,0],[2,0],[3,1],[3,2]]\n",
    "Output: [0,2,1,3] or [0, 1, 2, 3]\n",
    "Explanation: There are a total of 4 courses to take. To take course 3 you should have finished both courses 1 and 2. Both courses 1 and 2 should be taken after you finished course 0.\n",
    "So one correct course order is [0,1,2,3]. Another correct ordering is [0,2,1,3].\n",
    "'''\n",
    "\n",
    "from collections import defaultdict, deque\n",
    "\n",
    "def findOrder(numCourses, prerequisites):\n",
    "    graph = defaultdict(list)\n",
    "    indegree = [0] * numCourses \n",
    "    for dst, src in prerequisites:\n",
    "        graph[src].append(dst)\n",
    "        indegree[dst] += 1\n",
    "    print(graph)\n",
    "    print(indegree)\n",
    "    queue = deque([i for i in range(numCourses) if indegree[i] == 0])\n",
    "    order = []\n",
    "    while queue:\n",
    "        node = queue.popleft()\n",
    "        order.append(node)\n",
    "        for neighbor in graph[node]:\n",
    "            indegree[neighbor] -= 1\n",
    "            if indegree[neighbor] == 0:\n",
    "                queue.append(neighbor)\n",
    "    return order \n",
    "\n",
    "findOrder(numCourses = 4, prerequisites = [[1,0],[2,0],[3,1],[3,2]])\n"
   ]
  },
  {
   "cell_type": "code",
   "execution_count": 105,
   "id": "ba55dee0",
   "metadata": {},
   "outputs": [
    {
     "name": "stdout",
     "output_type": "stream",
     "text": [
      "[(4, 1), (7, 4), (7, 3), (13, 2)]\n",
      "[(3, 3), (7, 3), (7, 4), (9, 2), (7, 4), (13, 2)]\n",
      "[(4, 4), (7, 4), (7, 3), (9, 2), (13, 2), (10, 2), (7, 4)]\n",
      "[(7, 3), (7, 4), (7, 4), (9, 2), (13, 2), (10, 2), (14, 2)]\n",
      "[(10, 2), (13, 2), (14, 2)]\n"
     ]
    },
    {
     "data": {
      "text/plain": [
       "20"
      ]
     },
     "execution_count": 105,
     "metadata": {},
     "output_type": "execute_result"
    }
   ],
   "source": [
    "''' \n",
    "Input: points = [[0,0],[2,2],[3,10],[5,2],[7,0]]\n",
    "Output: 20\n",
    "Explanation: \n",
    "\n",
    "We can connect the points as shown above to get the minimum cost of 20.\n",
    "Notice that there is a unique path between every pair of points.\n",
    "'''\n",
    "\n",
    "import heapq  # For using a priority queue (min-heap)\n",
    "\n",
    "class Solution:\n",
    "    def minCostConnectPoints(self, points: List[List[int]]) -> int:\n",
    "        min_heap = [(0, 0)]\n",
    "        heapq.heapify(min_heap)\n",
    "        visited = set()\n",
    "        total_cost = 0 \n",
    "        n = len(points)\n",
    "        while min_heap:\n",
    "            cost, u = heapq.heappop(min_heap)\n",
    "            #print(min_heap)\n",
    "\n",
    "            if u in visited:\n",
    "                continue \n",
    "            total_cost += cost\n",
    "            visited.add(u)\n",
    "\n",
    "            for v in range(n):\n",
    "                if v not in visited:\n",
    "                    dist = (abs(points[u][0] - points[v][0]) + abs(points[u][1] - points[v][1]))\n",
    "                    heapq.heappush(min_heap, (dist, v))\n",
    "            print(min_heap)\n",
    "        return total_cost\n",
    "    \n",
    "solution = Solution()\n",
    "solution.minCostConnectPoints([[0,0],[2,2],[3,10],[5,2],[7,0]])"
   ]
  },
  {
   "cell_type": "code",
   "execution_count": 112,
   "id": "0576b8f0",
   "metadata": {},
   "outputs": [
    {
     "data": {
      "text/plain": [
       "700"
      ]
     },
     "execution_count": 112,
     "metadata": {},
     "output_type": "execute_result"
    }
   ],
   "source": [
    "''' \n",
    "Input: n = 4, flights = [[0,1,100],[1,2,100],[2,0,100],[1,3,600],[2,3,200]], src = 0, dst = 3, k = 1\n",
    "Output: 700\n",
    "Explanation:\n",
    "The graph is shown above.\n",
    "The optimal path with at most 1 stop from city 0 to 3 is marked in red and has cost 100 + 600 = 700.\n",
    "Note that the path through cities [0,1,2,3] is cheaper but is invalid because it uses 2 stops.\n",
    "'''\n",
    "class Solution:\n",
    "    def findCheapestPrice(self, n: int, flights: List[List[int]], src: int, dst: int, k: int) -> int:\n",
    "        prices = [float('inf')] * n \n",
    "        prices[src] = 0 \n",
    "\n",
    "        for _ in range(k + 1):\n",
    "            temp_prices = prices.copy()\n",
    "            for u, v, price in flights:\n",
    "                if prices[src] == float('inf'):\n",
    "                    continue\n",
    "\n",
    "                cost = prices[u] + price\n",
    "                if cost < temp_prices[v]:\n",
    "                    temp_prices[v] = cost \n",
    "            prices = temp_prices\n",
    "        return prices[dst] if prices[dst] != float('inf') else -1 \n",
    " \n",
    "solution = Solution()\n",
    "solution.findCheapestPrice(n = 4, flights = [[0,1,100],[1,2,100],[2,0,100],[1,3,600],[2,3,200]], src = 0, dst = 3, k = 1)"
   ]
  },
  {
   "cell_type": "code",
   "execution_count": 113,
   "id": "07cf7f78",
   "metadata": {},
   "outputs": [
    {
     "data": {
      "text/plain": [
       "[0, 1, 2, 3]"
      ]
     },
     "execution_count": 113,
     "metadata": {},
     "output_type": "execute_result"
    }
   ],
   "source": [
    "n = 4 \n",
    "list(range(n))"
   ]
  },
  {
   "cell_type": "code",
   "execution_count": 118,
   "id": "ac894175",
   "metadata": {},
   "outputs": [
    {
     "name": "stdout",
     "output_type": "stream",
     "text": [
      "[1, 1, 2]\n"
     ]
    },
    {
     "data": {
      "text/plain": [
       "2"
      ]
     },
     "execution_count": 118,
     "metadata": {},
     "output_type": "execute_result"
    }
   ],
   "source": [
    "''' \n",
    "Input: isConnected = [[1,1,0],[1,1,0],[0,0,1]]\n",
    "1 ---> 2\n",
    "\n",
    "    3\n",
    "\n",
    "Output: 2\n",
    "\n",
    "'''\n",
    "\n",
    "class Solution:\n",
    "    class DSU:\n",
    "        def __init__(self, n):\n",
    "            self.parent = list(range(n))\n",
    "            self.rank = [1] * n \n",
    "\n",
    "        def find(self, x):\n",
    "            if self.parent[x] != x:\n",
    "                x = self.parent[x]\n",
    "                return self.find(x)\n",
    "            return x \n",
    "        \n",
    "        def union(self, x, y):\n",
    "            px = self.find(x)\n",
    "            py = self.find(y)\n",
    "\n",
    "            if px == py:\n",
    "                return \n",
    "            \n",
    "            if self.parent[px] > self.parent[py]:\n",
    "                self.parent[py] = px \n",
    "            elif self.parent[py] > self.parent[px]:\n",
    "                self.parent[px] = py \n",
    "            else:\n",
    "                self.parent[py] = px\n",
    "                self.rank[px] += 1\n",
    "            \n",
    "        def is_connected(self, x, y):\n",
    "            return self.find(x) == self.find(y)\n",
    "        \n",
    "    \n",
    "    def findCircleNum(self, isConnected):\n",
    "        n = len(isConnected)\n",
    "        dsu = self.DSU(n)\n",
    "\n",
    "        for i in range(n):\n",
    "            for j in range(i + 1, n):\n",
    "                if isConnected[i][j] == 1:\n",
    "                    dsu.union(i, j)\n",
    "        list = [dsu.find(i) for i in range(n)]\n",
    "        print(list)\n",
    "        return len(set(list))\n",
    "    \n",
    "\n",
    "solution = Solution()\n",
    "solution.findCircleNum([[1,1,0],[1,1,0],[0,0,1]])"
   ]
  },
  {
   "cell_type": "code",
   "execution_count": null,
   "id": "315eb0d3",
   "metadata": {},
   "outputs": [],
   "source": []
  },
  {
   "cell_type": "code",
   "execution_count": 14,
   "id": "80beb69a",
   "metadata": {},
   "outputs": [
    {
     "data": {
      "text/plain": [
       "[1, 3, 12, 0, 0]"
      ]
     },
     "execution_count": 14,
     "metadata": {},
     "output_type": "execute_result"
    }
   ],
   "source": [
    "''' \n",
    "Input: nums = [0,1,0,3,12]\n",
    "Output: [1,3,12,0,0]\n",
    "'''\n",
    "\n",
    "class Solution:\n",
    "    def move_zeros(self, nums):\n",
    "        l = 0\n",
    "        for r in range(len(nums)):\n",
    "            if nums[l] == 0 and nums[r] != 0:\n",
    "                nums[r], nums[l] = nums[l], nums[r]\n",
    "            if nums[l] != 0:\n",
    "                l += 1\n",
    "        return nums \n",
    "    \n",
    "solution = Solution()\n",
    "solution.move_zeros([0, 1, 0, 3, 12])"
   ]
  },
  {
   "cell_type": "code",
   "execution_count": 18,
   "id": "b30f2ac7",
   "metadata": {},
   "outputs": [
    {
     "data": {
      "text/plain": [
       "2"
      ]
     },
     "execution_count": 18,
     "metadata": {},
     "output_type": "execute_result"
    }
   ],
   "source": [
    "''' \n",
    "Example 1:\n",
    "\n",
    "Input: nums = [3,2,3]\n",
    "Output: 3\n",
    "Example 2:\n",
    "\n",
    "Input: nums = [2,2,1,1,1,2,2]\n",
    "Output: 2\n",
    "\n",
    "The majority element is the element that appears more than ⌊n / 2⌋ times. You may assume that the majority element always exists in the array.\n",
    "'''\n",
    "import heapq\n",
    "\n",
    "class Solution:\n",
    "    def majorityElement(self, nums):\n",
    "        map = {}\n",
    "        for num in nums:\n",
    "            map[num] = map.get(num, 0) + 1\n",
    "        arr = [(-value, key) for key, value in map.items()]\n",
    "        heapq.heapify(arr)\n",
    "        print(arr)\n",
    "        return arr[0][1]\n",
    "    \n",
    "    def majorityElement(self, nums):\n",
    "        nums.sort()\n",
    "        n = len(nums) // 2\n",
    "        return nums[n]\n",
    "\n",
    "solution = Solution()\n",
    "solution.majorityElement([2,2,1,1,1,2,2])\n"
   ]
  },
  {
   "cell_type": "code",
   "execution_count": 31,
   "id": "cfb6846c",
   "metadata": {},
   "outputs": [
    {
     "data": {
      "text/plain": [
       "[24, 12, 8, 6]"
      ]
     },
     "execution_count": 31,
     "metadata": {},
     "output_type": "execute_result"
    }
   ],
   "source": [
    "''' \n",
    "Input: nums = [1,2,3,4]\n",
    "Output: [24,12,8,6]\n",
    "'''\n",
    "\n",
    "class Solution:\n",
    "    def productOfArrayExceptSelf(self, nums):\n",
    "        n = len(nums)\n",
    "        res = [1] * n \n",
    "\n",
    "        for i in range(1, n):\n",
    "            res[i] = res[i - 1] * nums[i - 1]\n",
    "        prod = 1 \n",
    "\n",
    "        for i in range(len(nums) - 1, -1, -1):\n",
    "            res[i] *= prod\n",
    "            prod *= nums[i]\n",
    "        return res\n",
    "\n",
    "solution = Solution()\n",
    "solution.productOfArrayExceptSelf([1, 2, 3, 4]) "
   ]
  },
  {
   "cell_type": "code",
   "execution_count": 33,
   "id": "e6ec3f89",
   "metadata": {},
   "outputs": [
    {
     "data": {
      "text/plain": [
       "5"
      ]
     },
     "execution_count": 33,
     "metadata": {},
     "output_type": "execute_result"
    }
   ],
   "source": [
    "''' \n",
    "Input: prices = [7,1,5,3,6,4]\n",
    "Output: 5\n",
    "Explanation: Buy on day 2 (price = 1) and sell on day 5 (price = 6), profit = 6-1 = 5.\n",
    "Note that buying on day 2 and selling on day 1 is not allowed because you must buy before you sell.\n",
    "'''\n",
    "from typing import List \n",
    "\n",
    "class Solution:\n",
    "    def maxProfit(self, prices: List[int]) -> int:\n",
    "        max_profit = 0 \n",
    "        l = 0 \n",
    "        for r in range(1, len(prices)):\n",
    "            if prices[r] > prices[l]:\n",
    "                profit = prices[r] - prices[l]\n",
    "                max_profit = max(max_profit, profit)\n",
    "            else: \n",
    "                l = r \n",
    "        return max_profit\n",
    "    \n",
    "solution = Solution()\n",
    "solution.maxProfit([7,1,5,3,6,4])"
   ]
  },
  {
   "cell_type": "code",
   "execution_count": 36,
   "id": "7a07685a",
   "metadata": {},
   "outputs": [
    {
     "data": {
      "text/plain": [
       "7"
      ]
     },
     "execution_count": 36,
     "metadata": {},
     "output_type": "execute_result"
    }
   ],
   "source": [
    "''' \n",
    "Input: prices = [7,1,5,3,6,4]\n",
    "Output: 7\n",
    "Explanation: Buy on day 2 (price = 1) and sell on day 3 (price = 5), profit = 5-1 = 4.\n",
    "Then buy on day 4 (price = 3) and sell on day 5 (price = 6), profit = 6-3 = 3.\n",
    "Total profit is 4 + 3 = 7.\n",
    "'''\n",
    "\n",
    "class Solution:\n",
    "    def maxProfit(self, prices):\n",
    "        total_profit = 0 \n",
    "        for i in range(1, len(prices)):\n",
    "            if prices[i] > prices[i - 1]:\n",
    "                total_profit += prices[i] - prices[i - 1] \n",
    "        return total_profit \n",
    "    \n",
    "solution = Solution()\n",
    "solution.maxProfit([7, 1, 5, 3, 6, 4])"
   ]
  },
  {
   "cell_type": "code",
   "execution_count": 54,
   "id": "fe6207ec",
   "metadata": {},
   "outputs": [
    {
     "name": "stdout",
     "output_type": "stream",
     "text": [
      "[-1, -4, -2, -3, 15]\n",
      "-1 1\n",
      "-4 2\n",
      "-2 3\n",
      "-3 4\n",
      "15 5\n"
     ]
    },
    {
     "data": {
      "text/plain": [
       "5"
      ]
     },
     "execution_count": 54,
     "metadata": {},
     "output_type": "execute_result"
    }
   ],
   "source": [
    "''' \n",
    "Input: nums = [1,2,0]\n",
    "Output: 3\n",
    "Explanation: The numbers in the range [1,2] are all in the array.\n",
    "'''\n",
    "from typing import List \n",
    "\n",
    "class Solution:\n",
    "    def firstMissingPositive(self, nums: List[int]) -> int:\n",
    "        n = len(nums)\n",
    "        for i in range(n):\n",
    "            if nums[i] < 0:\n",
    "                nums[i] = 0 \n",
    "            \n",
    "        for i in range(n):\n",
    "            val = abs(nums[i])\n",
    "            if 1 <= val <= n:\n",
    "                if nums[val - 1] > 0:\n",
    "                    nums[val - 1] *= -1 \n",
    "                elif nums[val - 1] == 0:\n",
    "                    nums[val - 1] = -1 * (n + 1)\n",
    "        print(nums)\n",
    "        for i in range(1, n + 1):\n",
    "            \n",
    "            print(nums[i - 1], i)\n",
    "            if nums[i - 1] >= 0:\n",
    "                return i \n",
    "        return n + 1 \n",
    "        \n",
    "solution = Solution()\n",
    "solution.firstMissingPositive([1, 4, 2, 3, 15])"
   ]
  },
  {
   "cell_type": "code",
   "execution_count": 65,
   "id": "c5ab07fa",
   "metadata": {},
   "outputs": [
    {
     "name": "stdout",
     "output_type": "stream",
     "text": [
      "[0, 1, 2, 3, 4, 0, 2, 1, 3, 1]\n"
     ]
    },
    {
     "data": {
      "text/plain": [
       "5"
      ]
     },
     "execution_count": 65,
     "metadata": {},
     "output_type": "execute_result"
    }
   ],
   "source": [
    "''' \n",
    "nums = [0,0,1,1,1,2,2,3,3,4]\n",
    "'''\n",
    "class Solution:\n",
    "    def removeDuplicates(self, nums: List[int]) -> int:\n",
    "        left = 0 \n",
    "        for right in range(1, len(nums)):\n",
    "            if nums[left] != nums[right]:\n",
    "                nums[left + 1], nums[right] = nums[right], nums[left + 1]\n",
    "                left += 1\n",
    "                \n",
    "        print(nums)\n",
    "        return left + 1\n",
    "    \n",
    "solution = Solution()\n",
    "solution.removeDuplicates([0,0,1,1,1,2,2,3,3,4])\n",
    "            "
   ]
  },
  {
   "cell_type": "code",
   "execution_count": 87,
   "id": "95da6858",
   "metadata": {},
   "outputs": [
    {
     "data": {
      "text/plain": [
       "[5, 6, 7, 1, 2, 3, 4]"
      ]
     },
     "execution_count": 87,
     "metadata": {},
     "output_type": "execute_result"
    }
   ],
   "source": [
    "''' \n",
    "Input: nums = [1,2,3,4,5,6,7], k = 3\n",
    "Output: [5,6,7,1,2,3,4]\n",
    "'''\n",
    "\n",
    "class Solution:\n",
    "    def rotateArray(self, nums, k):\n",
    "        n = len(nums)\n",
    "        k = k % n \n",
    "        temp = nums[-k:]\n",
    "        nums[k:] = nums[:-k]\n",
    "        nums[:k] = temp\n",
    "        return nums\n",
    "\n",
    "solution = Solution()\n",
    "solution.rotateArray([1,2,3,4,5,6,7], k = 3)\n"
   ]
  },
  {
   "cell_type": "code",
   "execution_count": 88,
   "id": "168e966a",
   "metadata": {},
   "outputs": [
    {
     "data": {
      "text/plain": [
       "6"
      ]
     },
     "execution_count": 88,
     "metadata": {},
     "output_type": "execute_result"
    }
   ],
   "source": [
    "''' \n",
    "Input: nums = [1,3,0,0,2,0,0,4]\n",
    "Output: 6\n",
    "Explanation: \n",
    "There are 4 occurrences of [0] as a subarray.\n",
    "There are 2 occurrences of [0,0] as a subarray.\n",
    "There is no occurrence of a subarray with a size more than 2 filled with 0. Therefore, we return 6.\n",
    "'''\n",
    "\n",
    "class Solution:\n",
    "    def zeroFilledSubarray(self, nums: List[int]) -> int:\n",
    "        total_count = 0\n",
    "        for num in nums: \n",
    "            if num == 0:\n",
    "                count += 1\n",
    "            else:\n",
    "                count = 0 \n",
    "            total_count += count \n",
    "        return total_count\n",
    "    \n",
    "solution = Solution()\n",
    "solution.zeroFilledSubarray([1,3,0,0,2,0,0,4])"
   ]
  },
  {
   "cell_type": "code",
   "execution_count": 91,
   "id": "b2d9a526",
   "metadata": {},
   "outputs": [
    {
     "data": {
      "text/plain": [
       "True"
      ]
     },
     "execution_count": 91,
     "metadata": {},
     "output_type": "execute_result"
    }
   ],
   "source": [
    "''' \n",
    "Input: nums = [1,2,3,4,5]\n",
    "Output: true\n",
    "Explanation: Any triplet where i < j < k is valid.\n",
    "'''\n",
    "\n",
    "class Solution:\n",
    "    def increasingTriplet(self, nums: List[int]) -> bool:\n",
    "        i = float('inf')\n",
    "        j = float('inf')\n",
    "        for num in nums:\n",
    "            if num <= i:\n",
    "                i = num \n",
    "            elif num <= j:\n",
    "                j = num \n",
    "            else:\n",
    "                return True \n",
    "        return False \n",
    "\n",
    "Solution().increasingTriplet([1, 2, 3, 4, 5])"
   ]
  },
  {
   "cell_type": "code",
   "execution_count": 92,
   "id": "bf3c3b74",
   "metadata": {},
   "outputs": [
    {
     "data": {
      "text/plain": [
       "True"
      ]
     },
     "execution_count": 92,
     "metadata": {},
     "output_type": "execute_result"
    }
   ],
   "source": [
    "''' \n",
    "Input: s = \"abc\", t = \"ahbgdc\"\n",
    "Output: true\n",
    "'''\n",
    "\n",
    "class Solution:\n",
    "    def isSubSequence(self, s, t):\n",
    "        total = len(s)\n",
    "        left = 0\n",
    "        for c in t:\n",
    "            if c == s[left]:\n",
    "                left += 1 \n",
    "                if left == total:\n",
    "                    return True \n",
    "        return False \n",
    "\n",
    "Solution().isSubSequence(\"abc\", \"ahbgdc\") "
   ]
  },
  {
   "cell_type": "code",
   "execution_count": 100,
   "id": "e21e9a85",
   "metadata": {},
   "outputs": [
    {
     "data": {
      "text/plain": [
       "True"
      ]
     },
     "execution_count": 100,
     "metadata": {},
     "output_type": "execute_result"
    }
   ],
   "source": [
    "''' \n",
    "Input: s = \"A man, a plan, a canal: Panama\"\n",
    "Output: true\n",
    "Explanation: \"amanaplanacanalpanama\" is a palindrome.\n",
    "'''\n",
    "\n",
    "class Solution:\n",
    "    def isPalindrome(self, s):\n",
    "        l, r = 0, len(s) - 1\n",
    "        while l < r:\n",
    "            while not s[l].isalnum():\n",
    "                l += 1\n",
    "            while not s[r].isalnum():\n",
    "                r -= 1\n",
    "            else:\n",
    "                if s[l].upper() != s[r].upper():\n",
    "                    return False \n",
    "                l += 1\n",
    "                r -= 1\n",
    "        return True \n",
    "Solution().isPalindrome(\"A man, a plan, a canal: Panama\")"
   ]
  },
  {
   "cell_type": "code",
   "execution_count": 108,
   "id": "9af0073d",
   "metadata": {},
   "outputs": [
    {
     "data": {
      "text/plain": [
       "'blue is sky the'"
      ]
     },
     "execution_count": 108,
     "metadata": {},
     "output_type": "execute_result"
    }
   ],
   "source": [
    "''' \n",
    "Input: s = \"the sky is blue\"\n",
    "Output: \"blue is sky the\"\n",
    "'''\n",
    "\n",
    "class Solution:\n",
    "    def reverseWords(self, s):\n",
    "        res = [i for i in s.split(\" \")][::-1]\n",
    "        return \" \".join(res)\n",
    "\n",
    "solution = Solution()\n",
    "solution.reverseWords(\"the sky is blue\")"
   ]
  },
  {
   "cell_type": "code",
   "execution_count": 113,
   "id": "a2904202",
   "metadata": {},
   "outputs": [
    {
     "data": {
      "text/plain": [
       "'fl'"
      ]
     },
     "execution_count": 113,
     "metadata": {},
     "output_type": "execute_result"
    }
   ],
   "source": [
    "''' \n",
    "Example 1:\n",
    "\n",
    "Input: strs = [\"flower\",\"flow\",\"flight\"]\n",
    "Output: \"fl\"\n",
    "Example 2:\n",
    "\n",
    "Input: strs = [\"dog\",\"racecar\",\"car\"]\n",
    "Output: \"\"\n",
    "Explanation: There is no common prefix among the input strings.\n",
    "'''\n",
    "\n",
    "class Solution:\n",
    "    def longestCommonPrefix(self, strs: List[str]) -> str:\n",
    "        strs.sort()\n",
    "        length = len(min(strs[0], strs[-1]))\n",
    "        for i in range(length):\n",
    "            if strs[0][i] != strs[-1][i]:\n",
    "                return strs[0][:i]\n",
    "        \n",
    "Solution().longestCommonPrefix([\"flower\",\"flow\",\"flight\"])\n"
   ]
  },
  {
   "cell_type": "code",
   "execution_count": 122,
   "id": "15186b69",
   "metadata": {},
   "outputs": [
    {
     "name": "stdout",
     "output_type": "stream",
     "text": [
      "['PAHN', 'APLSIIG', 'YIR']\n"
     ]
    },
    {
     "data": {
      "text/plain": [
       "'PAHNAPLSIIGYIR'"
      ]
     },
     "execution_count": 122,
     "metadata": {},
     "output_type": "execute_result"
    }
   ],
   "source": [
    "''' \n",
    "Input: s = \"PAYPALISHIRING\", numRows = 3\n",
    "Output: \"PAHNAPLSIIGYIR\"\n",
    "'''\n",
    "\n",
    "'''\n",
    "Index:   0 1 2 3 4 5 6 7 8 9 10 11 12 13\n",
    "Char:    P A Y P A L I S H I  R  I  N  G\n",
    "\n",
    "Row 0:   P   A   H   N\n",
    "Row 1:   A P L S I I G\n",
    "Row 2:   Y   I   R\n",
    "\n",
    "'''\n",
    "\n",
    "class Solution:\n",
    "    def convert(self, s: str, numRows: int) -> str:\n",
    "        res = [\"\"] * numRows\n",
    "        row = 0\n",
    "        step, row = 0, 0\n",
    "        for c in s:\n",
    "            res[row] += c \n",
    "            if row == 0:\n",
    "                step = 1\n",
    "            elif row == numRows - 1:\n",
    "                step = -1\n",
    "            row += step\n",
    "        print(res)\n",
    "        return \"\".join(res)\n",
    "    \n",
    "Solution().convert(\"PAYPALISHIRING\", numRows = 3)\n"
   ]
  },
  {
   "cell_type": "code",
   "execution_count": 131,
   "id": "04479fc4",
   "metadata": {},
   "outputs": [
    {
     "data": {
      "text/plain": [
       "'Dharani'"
      ]
     },
     "execution_count": 131,
     "metadata": {},
     "output_type": "execute_result"
    }
   ],
   "source": [
    "''' \n",
    "Input\n",
    "[\"MyHashMap\", \"put\", \"put\", \"get\", \"get\", \"put\", \"get\", \"remove\", \"get\"]\n",
    "[[], [1, 1], [2, 2], [1], [3], [2, 1], [2], [2], [2]]\n",
    "Output\n",
    "[null, null, null, 1, -1, null, 1, null, -1]\n",
    "\n",
    "'''\n",
    "\n",
    "class ListNode:\n",
    "    def __init__(self, key = 0, val = 0, next = None):\n",
    "        self.key = key\n",
    "        self.val = val \n",
    "        self.next = next \n",
    "\n",
    "class MyHashMap:\n",
    "\n",
    "    def __init__(self):\n",
    "        self.list = [ListNode() for _ in range(1000)]\n",
    "    \n",
    "    def _hash(self, key):\n",
    "        return key % len(self.list) \n",
    "\n",
    "    def put(self, key: int, value: int) -> None:\n",
    "        hash = self._hash(key)\n",
    "        cur = self.list[hash]\n",
    "        while cur.next:\n",
    "            if cur.next.key == key:\n",
    "                cur.next.val = value \n",
    "                return\n",
    "            cur = cur.next \n",
    "        else:\n",
    "            cur.next = ListNode(key, value)\n",
    "\n",
    "    def remove(self, key):\n",
    "        hash = self._hash(key)\n",
    "        cur = self.list[hash]\n",
    "        while cur.next:\n",
    "            if cur.next.key == key:\n",
    "                cur.next = cur.next.next\n",
    "                return True\n",
    "            cur = cur.next\n",
    "        return False\n",
    "\n",
    "    def get(self, key: int) -> int:\n",
    "        hash = self._hash(key)\n",
    "        cur = self.list[hash].next\n",
    "        while cur:\n",
    "            if cur.key == key:\n",
    "                return cur.val \n",
    "            cur = cur.next \n",
    "        return -1\n",
    "        \n",
    "\n",
    "solution = MyHashMap()\n",
    "solution.put(1, 'Dharani')\n",
    "solution.put(2, 25)\n",
    "solution.remove(2)\n",
    "solution.get(1)"
   ]
  },
  {
   "cell_type": "code",
   "execution_count": 134,
   "id": "a2a14be3",
   "metadata": {},
   "outputs": [
    {
     "data": {
      "text/plain": [
       "2"
      ]
     },
     "execution_count": 134,
     "metadata": {},
     "output_type": "execute_result"
    }
   ],
   "source": [
    "''' \n",
    "Input: text = \"loonbalxballpoon\"\n",
    "Output: 2\n",
    "'''\n",
    "\n",
    "from collections import Counter\n",
    "class Solution:\n",
    "    def maxNumberOfBalloons(self, text: str) -> int:\n",
    "        balloon_count = Counter('balloon')\n",
    "        text_count = Counter(text)\n",
    "        count = len(text)\n",
    "        for c in 'balloon':\n",
    "            count = min(count, text_count[c] // balloon_count[c])\n",
    "        return count\n",
    "    \n",
    "solution = Solution()\n",
    "solution.maxNumberOfBalloons(\"loonbalxballpoon\")"
   ]
  },
  {
   "cell_type": "code",
   "execution_count": 139,
   "id": "daa3bdd6",
   "metadata": {},
   "outputs": [
    {
     "data": {
      "text/plain": [
       "4"
      ]
     },
     "execution_count": 139,
     "metadata": {},
     "output_type": "execute_result"
    }
   ],
   "source": [
    "''' \n",
    "Input: nums = [1,2,3,1,1,3]\n",
    "Output: 4\n",
    "Explanation: There are 4 good pairs (0,3), (0,4), (3,4), (2,5) 0-indexed.\n",
    "\n",
    "A pair (i, j) is called good if nums[i] == nums[j] and i < j.\n",
    "'''\n",
    "from typing import List \n",
    "\n",
    "class Solution:\n",
    "    def numIdenticalPairs(self, nums: List[int]) -> int:\n",
    "        hash_map = {}\n",
    "        res = 0\n",
    "        for num in nums:\n",
    "            if num in hash_map:\n",
    "                res += hash_map[num]\n",
    "                hash_map[num] = hash_map.get(num) + 1\n",
    "\n",
    "            else:\n",
    "                hash_map[num] = 1\n",
    "\n",
    "        return res \n",
    "    \n",
    "solution = Solution()\n",
    "solution.numIdenticalPairs([1,2,3,1,1,3])"
   ]
  },
  {
   "cell_type": "code",
   "execution_count": 144,
   "id": "aad6b848",
   "metadata": {},
   "outputs": [
    {
     "data": {
      "text/plain": [
       "True"
      ]
     },
     "execution_count": 144,
     "metadata": {},
     "output_type": "execute_result"
    }
   ],
   "source": [
    "''' \n",
    "Input: s = \"egg\", t = \"add\"\n",
    "\n",
    "Output: true\n",
    "\n",
    "Two strings s and t are isomorphic if the characters in s can be replaced to get t.\n",
    "'''\n",
    "\n",
    "class Solution:\n",
    "    def isIsomorphic(self, s: str, t: str) -> bool:\n",
    "        s_map, t_map = {}, {}\n",
    "        \n",
    "        for s_char, t_char in zip(s, t):\n",
    "            # Check if mapping s→t is consistent\n",
    "            if s_char in s_map and s_map[s_char] != t_char:\n",
    "                return False\n",
    "            # Check if mapping t→s is consistent\n",
    "            if t_char in t_map and t_map[t_char] != s_char:\n",
    "                return False\n",
    "            \n",
    "            # Store mappings both ways\n",
    "            s_map[s_char] = t_char\n",
    "            t_map[t_char] = s_char\n",
    "        \n",
    "        return True\n",
    "\n",
    "    \n",
    "Solution().isIsomorphic(\"egg\", t = \"add\")\n"
   ]
  },
  {
   "cell_type": "code",
   "execution_count": 147,
   "id": "372e76a3",
   "metadata": {},
   "outputs": [
    {
     "data": {
      "text/plain": [
       "True"
      ]
     },
     "execution_count": 147,
     "metadata": {},
     "output_type": "execute_result"
    }
   ],
   "source": [
    "''' \n",
    "Input: ransomNote = \"aa\", magazine = \"aab\"\n",
    "Output: true\n",
    "\n",
    "Given two strings ransomNote and magazine, return true if ransomNote can be constructed by using the letters from magazine and false otherwise.\n",
    "\n",
    "Each letter in magazine can only be used once in ransomNote.\n",
    "'''\n",
    "\n",
    "class Solution:\n",
    "    def canConstruct(self, ransomNote: str, magazine: str) -> bool:\n",
    "        ransom_counter = Counter(ransomNote)\n",
    "        magazine_counter = Counter(magazine)\n",
    "        for c in ransomNote:\n",
    "            if c in magazine_counter and ransom_counter[c] <= magazine_counter[c]:\n",
    "                continue \n",
    "            else:\n",
    "                return False\n",
    "        return True \n",
    "    \n",
    "Solution().canConstruct(\"aa\", \"aab\")"
   ]
  },
  {
   "cell_type": "code",
   "execution_count": 148,
   "id": "07d6610e",
   "metadata": {},
   "outputs": [
    {
     "data": {
      "text/plain": [
       "True"
      ]
     },
     "execution_count": 148,
     "metadata": {},
     "output_type": "execute_result"
    }
   ],
   "source": [
    "''' \n",
    "Input: nums = [1,2,3,1], k = 3\n",
    "Output: true\n",
    "\n",
    "Given an integer array nums and an integer k, return true if there are two distinct indices i and j in the array such that nums[i] == nums[j] and abs(i - j) <= k.\n",
    "'''\n",
    "class Solution:\n",
    "    def containsNearbyDuplicate(self, nums: List[int], k: int) -> bool:\n",
    "        counter = {}\n",
    "        for i, num in enumerate(nums):\n",
    "            if num in counter and i - counter[num] <= k:\n",
    "                return True\n",
    "            else:\n",
    "                counter[num] = i \n",
    "        return False \n",
    "    \n",
    "Solution().containsNearbyDuplicate([1,2,3,1], k = 3)\n"
   ]
  },
  {
   "cell_type": "code",
   "execution_count": 154,
   "id": "997c3380",
   "metadata": {},
   "outputs": [
    {
     "data": {
      "text/plain": [
       "[['eat', 'tea', 'ate'], ['tan', 'nat'], ['bat']]"
      ]
     },
     "execution_count": 154,
     "metadata": {},
     "output_type": "execute_result"
    }
   ],
   "source": [
    "'''\n",
    "Input: strs = [\"eat\",\"tea\",\"tan\",\"ate\",\"nat\",\"bat\"]\n",
    "\n",
    "Output: [[\"bat\"],[\"nat\",\"tan\"],[\"ate\",\"eat\",\"tea\"]]\n",
    "'''\n",
    "\n",
    "class Solution:\n",
    "    def sort(self, string):\n",
    "        return \"\".join(sorted(string))\n",
    "    def groupAnagrams(self, strs):\n",
    "        hash_map = {}\n",
    "        for str in strs:\n",
    "            sorted_str = self.sort(str)\n",
    "            if sorted_str in hash_map:\n",
    "                hash_map[sorted_str].append(str)\n",
    "            else:\n",
    "                hash_map[sorted_str] = [str]\n",
    "        return list(hash_map.values())\n",
    "    \n",
    "Solution().groupAnagrams([\"eat\",\"tea\",\"tan\",\"ate\",\"nat\",\"bat\"])\n"
   ]
  },
  {
   "cell_type": "code",
   "execution_count": 156,
   "id": "50cd9c8a",
   "metadata": {},
   "outputs": [],
   "source": [
    "class Codec:\n",
    "\n",
    "    def __init__(self):\n",
    "        self.encode_map = {}\n",
    "        self.decode_map = {}\n",
    "        self.base = 'http://tinyurl.com/'\n",
    "\n",
    "    def encode(self, longUrl: str) -> str:\n",
    "        \"\"\"Encodes a URL to a shortened URL.\n",
    "        \"\"\"\n",
    "        if longUrl in self.encode_map:\n",
    "            return self.encode_map[longUrl]\n",
    "        else:\n",
    "            short_url = self.base + str(len(self.encode_map) + 1)\n",
    "            self.encode_map[longUrl] = short_url\n",
    "            self.decode_map[short_url] = longUrl\n",
    "    \n",
    "    def decode(self, shortUrl):\n",
    "        return self.decode_map[shortUrl]\n",
    "    \n"
   ]
  },
  {
   "cell_type": "code",
   "execution_count": 158,
   "id": "edb68bf1",
   "metadata": {},
   "outputs": [
    {
     "data": {
      "text/plain": [
       "4"
      ]
     },
     "execution_count": 158,
     "metadata": {},
     "output_type": "execute_result"
    }
   ],
   "source": [
    "''' \n",
    "Input: nums = [100,4,200,1,3,2]\n",
    "Output: 4\n",
    "Explanation: The longest consecutive elements sequence is [1, 2, 3, 4]. Therefore its length is 4.\n",
    "'''\n",
    "\n",
    "class Solution:\n",
    "    def longestConsecutive(self, nums: List[int]) -> int:\n",
    "        hash_set = set(nums)\n",
    "        max_length = 0 \n",
    "        for num in nums:\n",
    "            if num - 1 in hash_set:\n",
    "                continue\n",
    "            length = 0\n",
    "            while (num + length) in hash_set:\n",
    "                length += 1 \n",
    "            max_length = max(max_length, length)\n",
    "        return max_length\n",
    "    \n",
    "Solution().longestConsecutive([100,4,200,1,3,2])"
   ]
  },
  {
   "cell_type": "code",
   "execution_count": 161,
   "id": "3e040f74",
   "metadata": {},
   "outputs": [
    {
     "data": {
      "text/plain": [
       "'aba'"
      ]
     },
     "execution_count": 161,
     "metadata": {},
     "output_type": "execute_result"
    }
   ],
   "source": [
    "''' \n",
    "Example 1:\n",
    "\n",
    "Input: s = \"aab\"\n",
    "Output: \"aba\"\n",
    "\n",
    "Example 2:\n",
    "\n",
    "Input: s = \"aaab\"\n",
    "Output: \"\"\n",
    "'''\n",
    "import heapq \n",
    "from collections import Counter\n",
    "\n",
    "class Solution:\n",
    "    def reorganizeString(self, s: str) -> str:\n",
    "        counter = Counter(s)\n",
    "        max_heap = [(-cnt, key) for key, cnt in counter.items()]\n",
    "        prev = None\n",
    "        res = \"\"\n",
    "        while max_heap or prev:\n",
    "            if prev and not max_heap:\n",
    "                return \"\"\n",
    "            \n",
    "            cnt, key = heapq.heappop(max_heap)\n",
    "            res += key \n",
    "            cnt += 1 \n",
    "            if prev:\n",
    "                heapq.heappush(max_heap, prev)\n",
    "                prev = None\n",
    "            if cnt != 0:\n",
    "                prev = (cnt, key)\n",
    "        return res\n",
    "\n",
    "solution = Solution()\n",
    "solution.reorganizeString(\"aab\")"
   ]
  },
  {
   "cell_type": "code",
   "execution_count": 162,
   "id": "4511732d",
   "metadata": {},
   "outputs": [
    {
     "data": {
      "text/plain": [
       "True"
      ]
     },
     "execution_count": 162,
     "metadata": {},
     "output_type": "execute_result"
    }
   ],
   "source": [
    "''' \n",
    "Input: nums = [1,2,3,3,4,5]\n",
    "Output: true\n",
    "Explanation: nums can be split into the following subsequences:\n",
    "[1,2,3,3,4,5] --> 1, 2, 3\n",
    "[1,2,3,3,4,5] --> 3, 4, 5\n",
    "'''\n",
    "\n",
    "from collections import Counter\n",
    "class Solution:\n",
    "    def isPossible(self, nums):\n",
    "        freq = Counter(nums)\n",
    "        need = Counter()\n",
    "        for num in nums:\n",
    "            if freq[num] == 0:\n",
    "                continue \n",
    "            if need[num] > 0:\n",
    "                need[num] -= 1\n",
    "                need[num + 1] = 1\n",
    "            elif freq[num + 1] > 0 and freq[num + 2] > 0:\n",
    "                freq[num + 1] -= 1\n",
    "                freq[num + 2] -= 1\n",
    "                need[num + 3] = 1\n",
    "            else:\n",
    "                return False \n",
    "            freq[num] -= 1\n",
    "        return True \n",
    "\n",
    "Solution().isPossible([1,2,3,3,4,5])"
   ]
  },
  {
   "cell_type": "code",
   "execution_count": 167,
   "id": "7d2f619f",
   "metadata": {},
   "outputs": [
    {
     "data": {
      "text/plain": [
       "[1, 2, 2, 3, 5, 6]"
      ]
     },
     "execution_count": 167,
     "metadata": {},
     "output_type": "execute_result"
    }
   ],
   "source": [
    "'''\n",
    "Input: nums1 = [1,2,3,0,0,0], m = 3, nums2 = [2,5,6], n = 3\n",
    "Output: [1,2,2,3,5,6]\n",
    "Explanation: The arrays we are merging are [1,2,3] and [2,5,6].\n",
    "The result of the merge is [1,2,2,3,5,6] with the underlined elements coming from nums1.\n",
    "'''\n",
    "\n",
    "from typing import List\n",
    "\n",
    "class Solution:\n",
    "    def merge(self, nums1: List[int], m: int, nums2: List[int], n: int) -> None:\n",
    "        r = m + n - 1\n",
    "        while m > 0 and n > 0:\n",
    "            if nums1[m - 1] > nums2[n - 1]:\n",
    "                nums1[r] = nums1[m - 1]\n",
    "                m -= 1\n",
    "            else:\n",
    "                nums1[r] = nums2[n - 1]\n",
    "                n -= 1\n",
    "            r -= 1\n",
    "\n",
    "        while n > 0:\n",
    "            nums1[r] = nums2[n - 1]\n",
    "            n, r = n - 1, r - 1\n",
    "        return nums1\n",
    "\n",
    "\n",
    "solution = Solution()\n",
    "solution.merge([1,2,3,0,0,0], 3, [2, 5, 6], 3)"
   ]
  },
  {
   "cell_type": "code",
   "execution_count": 168,
   "id": "edd90319",
   "metadata": {},
   "outputs": [
    {
     "data": {
      "text/plain": [
       "[1, 2]"
      ]
     },
     "execution_count": 168,
     "metadata": {},
     "output_type": "execute_result"
    }
   ],
   "source": [
    "''' \n",
    "Input: numbers = [2,7,11,15], target = 9\n",
    "Output: [1,2]\n",
    "Explanation: The sum of 2 and 7 is 9. Therefore, index1 = 1, index2 = 2. We return [1, 2].\n",
    "'''\n",
    "\n",
    "class Solution:\n",
    "    def twoSum(self, numbers: List[int], target: int) -> List[int]:\n",
    "        l, r = 0, len(numbers) - 1\n",
    "        while l < r:\n",
    "            cur_sum = numbers[l] + numbers[r]\n",
    "            if cur_sum == target:\n",
    "                return [l + 1, r + 1]\n",
    "            elif cur_sum < target:\n",
    "                l += 1\n",
    "            else:\n",
    "                r -= 1\n",
    "        return [-1, -1]\n",
    "    \n",
    "Solution().twoSum(numbers = [2,7,11,15], target = 9)"
   ]
  },
  {
   "cell_type": "code",
   "execution_count": 171,
   "id": "3f82441d",
   "metadata": {},
   "outputs": [
    {
     "data": {
      "text/plain": [
       "49"
      ]
     },
     "execution_count": 171,
     "metadata": {},
     "output_type": "execute_result"
    }
   ],
   "source": [
    "''' \n",
    "Input: height = [1,8,6,2,5,4,8,3,7]\n",
    "Output: 49\n",
    "Explanation: The above vertical lines are represented by array [1,8,6,2,5,4,8,3,7]. In this case, the max area of water (blue section) the container can contain is 49.\n",
    "'''\n",
    "\n",
    "class Solution:\n",
    "    def maxArea(self, height: List[int]) -> int:\n",
    "        l, r = 0, len(height) - 1\n",
    "        max_area = 0\n",
    "        while l < r:\n",
    "            area = (r - l) * min(height[r], height[l])\n",
    "            max_area = max(max_area, area)\n",
    "            if height[l] > height[r]:\n",
    "                r -= 1 \n",
    "            else:\n",
    "                l += 1\n",
    "        return max_area\n",
    "\n",
    "Solution().maxArea([1,8,6,2,5,4,8,3,7])\n",
    "                "
   ]
  },
  {
   "cell_type": "code",
   "execution_count": 176,
   "id": "e7de494e",
   "metadata": {},
   "outputs": [
    {
     "data": {
      "text/plain": [
       "[[-1, -1, 2], [-1, 0, 1]]"
      ]
     },
     "execution_count": 176,
     "metadata": {},
     "output_type": "execute_result"
    }
   ],
   "source": [
    "''' \n",
    "Input: nums = [-1,0,1,2,-1,-4]\n",
    "Output: [[-1,-1,2],[-1,0,1]]\n",
    "Explanation: \n",
    "nums[0] + nums[1] + nums[2] = (-1) + 0 + 1 = 0.\n",
    "nums[1] + nums[2] + nums[4] = 0 + 1 + (-1) = 0.\n",
    "nums[0] + nums[3] + nums[4] = (-1) + 2 + (-1) = 0.\n",
    "The distinct triplets are [-1,0,1] and [-1,-1,2].\n",
    "Notice that the order of the output and the order of the triplets does not matter.\n",
    "'''\n",
    "\n",
    "class Solution:\n",
    "    def threeSum(self, nums: List[int]) -> List[List[int]]:\n",
    "        res = []\n",
    "        n = len(nums)\n",
    "        nums.sort()\n",
    "        for i in range(n - 2):\n",
    "            if i > 1 and nums[i] == nums[i - 1]:\n",
    "                continue\n",
    "            l, r = i + 1, n - 1\n",
    "            while l < r:\n",
    "                curr_sum = nums[i] + nums[l] + nums[r]\n",
    "                if curr_sum == 0:\n",
    "                    res.append([nums[i], nums[l], nums[r]])\n",
    "                    l += 1\n",
    "                    r -= 1\n",
    "                    while l < r and nums[l] == nums[l - 1]:\n",
    "                        l += 1\n",
    "                    while l < r and nums[r] == nums[r - 1]:\n",
    "                        r -= 1\n",
    "                    \n",
    "                elif curr_sum < 0:\n",
    "                    l += 1\n",
    "                else:\n",
    "                    r -= 1\n",
    "        return res \n",
    "\n",
    "    \n",
    "Solution().threeSum([-1,0,1,2,-1,-4])"
   ]
  },
  {
   "cell_type": "code",
   "execution_count": 177,
   "id": "75752de3",
   "metadata": {},
   "outputs": [
    {
     "data": {
      "text/plain": [
       "6"
      ]
     },
     "execution_count": 177,
     "metadata": {},
     "output_type": "execute_result"
    }
   ],
   "source": [
    "''' \n",
    "Input: height = [0,1,0,2,1,0,1,3,2,1,2,1]\n",
    "Output: 6\n",
    "'''\n",
    "\n",
    "class Solution:\n",
    "    def trap(self, height):\n",
    "        if not height: \n",
    "            return 0 \n",
    "\n",
    "        l, r = 0, len(height) - 1\n",
    "        res = 0\n",
    "        left_max, right_max = height[l], height[r]\n",
    "        while l < r:\n",
    "            if height[l] < height[r]:\n",
    "                l +=1\n",
    "                left_max = max(height[l], left_max) \n",
    "                res += left_max - height[l]\n",
    "            else:\n",
    "                r -= 1\n",
    "                right_max = max(right_max, height[r])\n",
    "                res += right_max - height[r]\n",
    "        return res\n",
    "\n",
    "Solution().trap([0,1,0,2,1,0,1,3,2,1,2,1]) \n"
   ]
  },
  {
   "cell_type": "code",
   "execution_count": null,
   "id": "8c9aaf6b",
   "metadata": {},
   "outputs": [],
   "source": []
  },
  {
   "cell_type": "code",
   "execution_count": 187,
   "id": "be7297cd",
   "metadata": {},
   "outputs": [
    {
     "name": "stdout",
     "output_type": "stream",
     "text": [
      "[-2, -2, 1, -4, -2, -3]\n"
     ]
    },
    {
     "data": {
      "text/plain": [
       "-1"
      ]
     },
     "execution_count": 187,
     "metadata": {},
     "output_type": "execute_result"
    }
   ],
   "source": [
    "''' \n",
    "303. Range Sum Query - Immutable\n",
    "\n",
    "[[[-2, 0, 3, -5, 2, -1]], [0, 2], [2, 5], [0, 5]]\n",
    "Output\n",
    "[null, 1, -1, -3]\n",
    "'''\n",
    "from typing import List \n",
    "\n",
    "\n",
    "class NumArray:\n",
    "\n",
    "    def __init__(self, nums: List[int]):\n",
    "        self.prefix_sum = []\n",
    "        cur_sum = 0\n",
    "        for num in nums:\n",
    "            cur_sum += num\n",
    "            self.prefix_sum.append(cur_sum)\n",
    "        print(self.prefix_sum)\n",
    "        \n",
    "\n",
    "    def sumRange(self, left: int, right: int) -> int:\n",
    "        if left <= 0:\n",
    "            return self.prefix_sum[right]\n",
    "        return self.prefix_sum[right] - self.prefix_sum[left - 1]\n",
    "    \n",
    "numArray = NumArray([-2, 0, 3, -5, 2, -1])\n",
    "numArray.sumRange(2, 5)"
   ]
  },
  {
   "cell_type": "code",
   "execution_count": 189,
   "id": "015e5301",
   "metadata": {},
   "outputs": [
    {
     "data": {
      "text/plain": [
       "2"
      ]
     },
     "execution_count": 189,
     "metadata": {},
     "output_type": "execute_result"
    }
   ],
   "source": [
    "''' \n",
    "Input: nums = [1,1,1], k = 2\n",
    "Output: 2\n",
    "'''\n",
    "\n",
    "class Solution:\n",
    "    def subarraySum(self, nums: List[int], k: int) -> int:\n",
    "        hash_map = {0 : 1}\n",
    "        cur_sum = 0 \n",
    "        prefix_sum = 0 \n",
    "        count = 0\n",
    "        for num in nums:\n",
    "            prefix_sum += num\n",
    "            if (prefix_sum - k) in hash_map:\n",
    "                count += hash_map.get(prefix_sum - k)\n",
    "            hash_map[prefix_sum] = hash_map.get(prefix_sum, 0) + 1\n",
    "        return count \n",
    "    \n",
    "\n",
    "solution = Solution()\n",
    "solution.subarraySum([1, 1, 1], 2)"
   ]
  },
  {
   "cell_type": "code",
   "execution_count": 194,
   "id": "4051e090",
   "metadata": {},
   "outputs": [
    {
     "data": {
      "text/plain": [
       "True"
      ]
     },
     "execution_count": 194,
     "metadata": {},
     "output_type": "execute_result"
    }
   ],
   "source": [
    "''' \n",
    "Input: nums = [23,2,4,6,7], k = 6\n",
    "Output: true\n",
    "Explanation: [2, 4] is a continuous subarray of size 2 whose elements sum up to 6.\n",
    "'''\n",
    "\n",
    "class Solution:\n",
    "    def checkSubarraySum(self, nums: List[int], k: int) -> bool:\n",
    "        mod_map = {0 : -1}\n",
    "        prefix_sum = 0\n",
    "        for i, num in enumerate(nums):\n",
    "            prefix_sum += num \n",
    "            mod = prefix_sum % k \n",
    "            if mod in mod_map:\n",
    "                 if i - mod_map[mod] > 1:\n",
    "                    return True \n",
    "            else:\n",
    "                mod_map[mod] = i\n",
    "        return False \n",
    "    \n",
    "\n",
    "Solution().checkSubarraySum([23,2,4,6,7], k = 6)"
   ]
  },
  {
   "cell_type": "code",
   "execution_count": 197,
   "id": "54fc16c3",
   "metadata": {},
   "outputs": [
    {
     "data": {
      "text/plain": [
       "6"
      ]
     },
     "execution_count": 197,
     "metadata": {},
     "output_type": "execute_result"
    }
   ],
   "source": [
    "''' \n",
    "Input: nums = [0,1]\n",
    "Output: 2\n",
    "Explanation: [0, 1] is the longest contiguous subarray with an equal number of 0 and 1.\n",
    "'''\n",
    "\n",
    "''' \n",
    "steps    input    prefix_sum   max_len         prefix_sum_map  \n",
    "0\t\t  0        -1           0               { 0: -1, -1: 0}\n",
    "1         1\t\t\t0\t\t\t1 - (-1) = 2\t{ 0: -1, -1: 0}\n",
    "2\t\t  1         1   \t\t2\t\t\t\t{ 0: -1, -1: 1: 2}\n",
    "3\t      1         2           2               { 0: -1, -1: 1: 2, 2: 3}\n",
    "4\t\t  1         3           2         \t    { 0: -1, -1: 1: 2, 2: 3, 3: 4}\n",
    "5\t\t  1         4           2               { 0: -1, -1: 1: 2, 2: 3, 3: 4, 4: 5}\n",
    "6         0         3           6 - (4) = 2\t\t{ 0: -1, -1: 1: 2, 2: 3, 3: 4, 4: 5}\n",
    "7         0         2           7 - (3) = 4\t\t{ 0: -1, -1: 1: 2, 2: 3, 3: 4, 4: 5}\n",
    "8         0         1           8 - (2) = 6\t    { 0: -1, -1: 1: 2, 2: 3, 3: 4, 4: 5}\n",
    "'''\n",
    "\n",
    "class Solution:\n",
    "    def findMaxLength(self, nums: List[int]) -> int:\n",
    "        prefix_map = {0 : 1}\n",
    "        prefix_sum = 0 \n",
    "        max_length = 0\n",
    "        for i, num in enumerate(nums):\n",
    "            prefix_sum += 1 if num == 1 else -1 \n",
    "            if prefix_sum in prefix_map:\n",
    "                max_length = max(max_length, i - prefix_map[prefix_sum])\n",
    "            else:\n",
    "                prefix_map[prefix_sum] = i\n",
    "        return max_length\n",
    "    \n",
    "Solution().findMaxLength([0,1,1,1,1,1,0,0,0])"
   ]
  },
  {
   "cell_type": "code",
   "execution_count": 198,
   "id": "f1a8c00d",
   "metadata": {},
   "outputs": [
    {
     "data": {
      "text/plain": [
       "[0, 6]"
      ]
     },
     "execution_count": 198,
     "metadata": {},
     "output_type": "execute_result"
    }
   ],
   "source": [
    "''' \n",
    "Input: s = \"cbaebabacd\", p = \"abc\"\n",
    "Output: [0,6]\n",
    "Explanation:\n",
    "The substring with start index = 0 is \"cba\", which is an anagram of \"abc\".\n",
    "The substring with start index = 6 is \"bac\", which is an anagram of \"abc\".\n",
    "'''\n",
    "from typing import List \n",
    "class Solution:\n",
    "    def findAnagrams(self, s: str, p: str) -> List[int]:\n",
    "        s_map, p_map = {}, {}\n",
    "        for i in range(len(p)):\n",
    "            s_map[s[i]] = s_map.get(s[i], 0) + 1\n",
    "            p_map[p[i]] = p_map.get(p[i], 0) + 1\n",
    "        res =[0] if s_map == p_map else []\n",
    "        l = 0\n",
    "        for i in range(len(p), len(s)):\n",
    "            s_map[s[l]] = s_map.get(s[l]) - 1\n",
    "            if s_map[s[l]] == 0:\n",
    "                del s_map[s[l]]\n",
    "            s_map[s[i]] = s_map.get(s[i], 0) + 1\n",
    "            l += 1\n",
    "            if p_map == s_map:\n",
    "                res.append(l)\n",
    "        return res \n",
    "\n",
    "Solution().findAnagrams(\"cbaebabacd\", p = \"abc\")"
   ]
  },
  {
   "cell_type": "code",
   "execution_count": 206,
   "id": "a99a7221",
   "metadata": {},
   "outputs": [
    {
     "data": {
      "text/plain": [
       "3"
      ]
     },
     "execution_count": 206,
     "metadata": {},
     "output_type": "execute_result"
    }
   ],
   "source": [
    "''' \n",
    "Input: s = \"abcabcbb\"\n",
    "Output: 3\n",
    "Explanation: The answer is \"abc\", with the length of 3.\n",
    "'''\n",
    "\n",
    "class Solution:\n",
    "    def lengthOfLongestSubstring(self, s: str) -> int:\n",
    "        s_map = {}\n",
    "        l = 0\n",
    "        s_map[s[0]] = 1\n",
    "        max_length = 1\n",
    "        for r in range(1, len(s)):\n",
    "            if s[r] in s_map:\n",
    "                del s_map[s[l]]\n",
    "                l += 1\n",
    "            s_map[s[r]] = 1\n",
    "            max_length = max(max_length, r - l + 1)\n",
    "        return max_length\n",
    "            \n",
    "                \n",
    "Solution().lengthOfLongestSubstring(\"abcabcbb\")"
   ]
  },
  {
   "cell_type": "code",
   "execution_count": 214,
   "id": "45670c20",
   "metadata": {},
   "outputs": [
    {
     "data": {
      "text/plain": [
       "'BANC'"
      ]
     },
     "execution_count": 214,
     "metadata": {},
     "output_type": "execute_result"
    }
   ],
   "source": [
    "''' \n",
    "Input: s = \"ADOBECODEBANC\", t = \"ABC\"\n",
    "Output: \"BANC\"\n",
    "Explanation: The minimum window substring \"BANC\" includes 'A', 'B', and 'C' from string t.\n",
    "'''\n",
    "\n",
    "from collections import Counter\n",
    "\n",
    "class Solution:\n",
    "    def minWindow(self, s: str, t: str) -> str:\n",
    "        t_counter = Counter(t)\n",
    "        s_counter = {}\n",
    "        have, need = 0, len(t_counter)\n",
    "        l = 0\n",
    "        res = []\n",
    "        min_length = float('inf')\n",
    "        for r, c in enumerate(s):\n",
    "            s_counter[c] = s_counter.get(c, 0) + 1\n",
    "            if c in t_counter and s_counter[c] == t_counter[c]:\n",
    "                have += 1\n",
    "            while have == need:\n",
    "                if min_length > r - l + 1:\n",
    "                    res = [l, r]\n",
    "                    min_length = r - l + 1\n",
    "                s_counter[s[l]] = s_counter.get(s[l], 0) - 1\n",
    "                if s[l] in t_counter and s_counter[s[l]] < t_counter[s[l]]:\n",
    "                    have -= 1\n",
    "                l += 1\n",
    "        l, r = res \n",
    "        return s[l: r + 1] if min_length != float('inf') else ''\n",
    "    \n",
    "Solution().minWindow(s = \"ADOBECODEBANC\", t = \"ABC\")"
   ]
  },
  {
   "cell_type": "code",
   "execution_count": 215,
   "id": "55a1327d",
   "metadata": {},
   "outputs": [
    {
     "data": {
      "text/plain": [
       "6"
      ]
     },
     "execution_count": 215,
     "metadata": {},
     "output_type": "execute_result"
    }
   ],
   "source": [
    "''' \n",
    "Input: nums = [-2,1,-3,4,-1,2,1,-5,4]\n",
    "Output: 6\n",
    "Explanation: The subarray [4,-1,2,1] has the largest sum 6.\n",
    "'''\n",
    "from typing import List\n",
    "\n",
    "class Solution:\n",
    "    def maxSubArray(self, nums: List[int]) -> int:\n",
    "        cur_sum = 0 \n",
    "        max_sum = 0 \n",
    "        for num in nums:\n",
    "            cur_sum = max(cur_sum + num, num)\n",
    "            max_sum = max(max_sum, cur_sum)\n",
    "        return max_sum\n",
    "\n",
    "Solution().maxSubArray([-2,1,-3,4,-1,2,1,-5,4])"
   ]
  },
  {
   "cell_type": "code",
   "execution_count": 216,
   "id": "a2361dba",
   "metadata": {},
   "outputs": [
    {
     "data": {
      "text/plain": [
       "6"
      ]
     },
     "execution_count": 216,
     "metadata": {},
     "output_type": "execute_result"
    }
   ],
   "source": [
    "''' \n",
    "Input: nums = [2,3,-2,4]\n",
    "Output: 6\n",
    "Explanation: [2,3] has the largest product 6.\n",
    "'''\n",
    "\n",
    "class Solution:\n",
    "    def maxProduct(self, nums):\n",
    "        prefix_prod = 1 \n",
    "        suffix_prod = 1\n",
    "        n = len(nums)\n",
    "        max_prod = float('-inf')\n",
    "        for i in range(n):\n",
    "            prefix_prod = 1 if prefix_prod == 0 else prefix_prod \n",
    "            suffix_prod = 1 if suffix_prod == 0 else suffix_prod \n",
    "            prefix_prod *= nums[i]\n",
    "            suffix_prod *= nums[n - i - 1]\n",
    "            max_prod = max(max_prod, max(prefix_prod, suffix_prod))\n",
    "        return max_prod\n",
    "    \n",
    "Solution().maxProduct([2,3,-2,4])"
   ]
  },
  {
   "cell_type": "code",
   "execution_count": 219,
   "id": "81f9855f",
   "metadata": {},
   "outputs": [
    {
     "data": {
      "text/plain": [
       "4"
      ]
     },
     "execution_count": 219,
     "metadata": {},
     "output_type": "execute_result"
    }
   ],
   "source": [
    "''' \n",
    "Example 1:\n",
    "\n",
    "Input: nums = [2,2,1]\n",
    "\n",
    "Output: 1\n",
    "\n",
    "Example 2:\n",
    "\n",
    "Input: nums = [4,1,2,1,2]\n",
    "\n",
    "Output: 4\n",
    "'''\n",
    "from typing import List, Optional\n",
    "\n",
    "class Solution:\n",
    "    def singleNumber(self, nums: List[int]) -> int:\n",
    "        res = 0\n",
    "        for num in nums:\n",
    "            res = res ^ num \n",
    "        return res\n",
    "    \n",
    "Solution().singleNumber([4,1,2,1,2])"
   ]
  },
  {
   "cell_type": "code",
   "execution_count": 223,
   "id": "8bfef3a2",
   "metadata": {},
   "outputs": [
    {
     "data": {
      "text/plain": [
       "2"
      ]
     },
     "execution_count": 223,
     "metadata": {},
     "output_type": "execute_result"
    }
   ],
   "source": [
    "'''\n",
    "n = 12 (1100)\n",
    "count = 2\n",
    "'''\n",
    "class Solution:\n",
    "    def hammingWeight(self, n: int) -> int:\n",
    "        count = 0\n",
    "        while n != 0:\n",
    "            count += 1\n",
    "            n = n & (n - 1)\n",
    "        return count\n",
    "\n",
    "Solution().hammingWeight(12)"
   ]
  },
  {
   "cell_type": "code",
   "execution_count": 229,
   "id": "037acbda",
   "metadata": {},
   "outputs": [
    {
     "data": {
      "text/plain": [
       "[0, 1, 1, 2, 1, 2]"
      ]
     },
     "execution_count": 229,
     "metadata": {},
     "output_type": "execute_result"
    }
   ],
   "source": [
    "''' \n",
    "Input: n = 5\n",
    "Output: [0,1,1,2,1,2]\n",
    "Explanation:\n",
    "0 --> 0\n",
    "1 --> 1\n",
    "2 --> 10\n",
    "3 --> 11\n",
    "4 --> 100\n",
    "5 --> 101\n",
    "'''\n",
    "\n",
    "class Solution:\n",
    "    def countBits(self, n: int) -> List[int]:\n",
    "        dp = [0] * (n + 1)\n",
    "        offset = 1\n",
    "        for i in range(1, n + 1):\n",
    "            if offset * 2 == i:\n",
    "                offset = i \n",
    "            dp[i] = 1 + dp[i - offset]\n",
    "        return dp\n",
    "Solution().countBits(5)"
   ]
  },
  {
   "cell_type": "code",
   "execution_count": 234,
   "id": "ce323732",
   "metadata": {},
   "outputs": [
    {
     "data": {
      "text/plain": [
       "964176192"
      ]
     },
     "execution_count": 234,
     "metadata": {},
     "output_type": "execute_result"
    }
   ],
   "source": [
    "''' \n",
    "Input: n = 00000010100101000001111010011100\n",
    "Output:    964176192 (00111001011110000010100101000000)\n",
    "Explanation: The input binary string 00000010100101000001111010011100 represents the unsigned integer 43261596, so return 964176192 which its binary representation is 00111001011110000010100101000000.\n",
    "'''\n",
    "\n",
    "class Solution:\n",
    "    def reverseBits(self, n: int) -> int:\n",
    "        res = 0\n",
    "        for i in range(32):\n",
    "            bit = (n >> i) & 1\n",
    "            res = res | bit << (31- i)\n",
    "        return res \n",
    "Solution().reverseBits(43261596)"
   ]
  },
  {
   "cell_type": "code",
   "execution_count": 237,
   "id": "330034d3",
   "metadata": {},
   "outputs": [
    {
     "data": {
      "text/plain": [
       "24"
      ]
     },
     "execution_count": 237,
     "metadata": {},
     "output_type": "execute_result"
    }
   ],
   "source": [
    "class Solution:\n",
    "    def rangeBitwiseAnd(self, left: int, right: int) -> int:\n",
    "        shift = 0\n",
    "        while left != right:\n",
    "            left = left >> 1\n",
    "            right = right >> 1\n",
    "            shift += 1\n",
    "        return left << shift \n",
    "    \n",
    "Solution().rangeBitwiseAnd(26, 30)"
   ]
  },
  {
   "cell_type": "code",
   "execution_count": 238,
   "id": "d6e3630e",
   "metadata": {},
   "outputs": [
    {
     "data": {
      "text/plain": [
       "3"
      ]
     },
     "execution_count": 238,
     "metadata": {},
     "output_type": "execute_result"
    }
   ],
   "source": [
    "''' \n",
    "Input: a = 1, b = 2\n",
    "Output: 3\n",
    "'''\n",
    "\n",
    "class Solution:\n",
    "    def getSum(self, a: int, b: int) -> int:\n",
    "        while b != 0:\n",
    "            temp = (a & b) << 1 \n",
    "            a = a ^ b \n",
    "            b = temp \n",
    "        return a \n",
    "    \n",
    "Solution().getSum(1, 2)"
   ]
  },
  {
   "cell_type": "code",
   "execution_count": 239,
   "id": "6467f639",
   "metadata": {},
   "outputs": [
    {
     "data": {
      "text/plain": [
       "[3, 5]"
      ]
     },
     "execution_count": 239,
     "metadata": {},
     "output_type": "execute_result"
    }
   ],
   "source": [
    "''' \n",
    "Input: nums = [1,2,1,3,2,5]\n",
    "Output: [3,5]\n",
    "Explanation:  [5, 3] is also a valid answer.\n",
    "'''\n",
    "from typing import List\n",
    "\n",
    "class Solution:\n",
    "    def singleNumber(self, nums: List[int]) -> List[int]:\n",
    "        xor = 0\n",
    "        for num in nums:\n",
    "            xor = xor ^ num \n",
    "        \n",
    "        diff_bit = 1\n",
    "        while not (diff_bit & xor):\n",
    "            diff_bit = diff_bit << 1\n",
    "        a, b = 0, 0\n",
    "        for num in nums:\n",
    "            if num & diff_bit:\n",
    "                a = a ^ num \n",
    "            else:\n",
    "                b = b ^ num \n",
    "        return [a, b]\n",
    "Solution().singleNumber([1,2,1,3,2,5])"
   ]
  },
  {
   "cell_type": "code",
   "execution_count": null,
   "id": "02fba7d1",
   "metadata": {},
   "outputs": [],
   "source": []
  },
  {
   "cell_type": "code",
   "execution_count": 242,
   "id": "81a1a848",
   "metadata": {},
   "outputs": [
    {
     "data": {
      "text/plain": [
       "[1, 2, 3, 4, 8, 12, 11, 10, 9, 5, 6, 7]"
      ]
     },
     "execution_count": 242,
     "metadata": {},
     "output_type": "execute_result"
    }
   ],
   "source": [
    "''' \n",
    "Input: matrix = [[1,2,3],[4,5,6],[7,8,9]]\n",
    "Output: [1,2,3,6,9,8,7,4,5]\n",
    "'''\n",
    "class Solution:\n",
    "    def spiralOrder(self, matrix: List[List[int]]) -> List[int]:\n",
    "        top, bottom = 0, len(matrix)\n",
    "        left, right = 0, len(matrix[0])\n",
    "        res = []\n",
    "        while left < right and top < bottom:\n",
    "            for i in range(left, right):\n",
    "                res.append(matrix[top][i])\n",
    "            top +=1\n",
    "\n",
    "            for i in range(top, bottom):\n",
    "                res.append(matrix[i][right - 1])\n",
    "            right -= 1\n",
    "\n",
    "            if not (top < bottom and left < right):\n",
    "                break\n",
    "\n",
    "            for i in range(right - 1, left - 1, -1):\n",
    "                res.append(matrix[bottom - 1][i])\n",
    "            bottom -= 1\n",
    "\n",
    "            for i in range(bottom - 1, top - 1, -1):\n",
    "                res.append(matrix[i][left])\n",
    "            left += 1\n",
    "        return res \n",
    "    \n",
    "Solution().spiralOrder([[1,2,3,4],[5,6,7,8],[9,10,11,12]])\n",
    "        "
   ]
  },
  {
   "cell_type": "code",
   "execution_count": 246,
   "id": "ded6155e",
   "metadata": {},
   "outputs": [
    {
     "data": {
      "text/plain": [
       "[[7, 4, 1], [8, 5, 2], [9, 6, 3]]"
      ]
     },
     "execution_count": 246,
     "metadata": {},
     "output_type": "execute_result"
    }
   ],
   "source": [
    "'''\n",
    "Input: matrix = [[1,2,3],[4,5,6],[7,8,9]]\n",
    "Output: [[7,4,1],[8,5,2],[9,6,3]]\n",
    "'''\n",
    "\n",
    "class Solution:\n",
    "    def rotate(self, matrix: List[List[int]]) -> None:\n",
    "        \"\"\"\n",
    "        Do not return anything, modify matrix in-place instead.\n",
    "        \"\"\"\n",
    "        left, right = 0, len(matrix) - 1\n",
    "        while left < right:\n",
    "            top, bottom = left, right\n",
    "            for i in range(right - left):\n",
    "\n",
    "                temp = matrix[top][left + i]\n",
    "                matrix[top][left + i] = matrix[bottom - i][left] \n",
    "                matrix[bottom - i][left] = matrix[bottom][right - i]\n",
    "                matrix[bottom][right - i] = matrix[top + i][right]\n",
    "                matrix[top + i][right] = temp\n",
    "            left += 1\n",
    "            right -= 1\n",
    "        return matrix\n",
    "\n",
    "\n",
    "solution = Solution()\n",
    "solution.rotate([[1,2,3],[4,5,6],[7,8,9]])  # For loop is to go element by element within that layer\n",
    "#solution.rotate([[15,13,2,5],[14,3,4,1],[12,6,8,9],[16,7,10,11]]) # while loop is for going layer by layer\n",
    "        "
   ]
  },
  {
   "cell_type": "code",
   "execution_count": 251,
   "id": "fc85d1fb",
   "metadata": {},
   "outputs": [
    {
     "data": {
      "text/plain": [
       "[[1, 0, 1], [0, 0, 0], [1, 0, 1]]"
      ]
     },
     "execution_count": 251,
     "metadata": {},
     "output_type": "execute_result"
    }
   ],
   "source": [
    "''' \n",
    "Input: matrix = [[1,1,1],[1,0,1],[1,1,1]]\n",
    "Output: [[1,0,1],[0,0,0],[1,0,1]]\n",
    "'''\n",
    "\n",
    "class Solution:\n",
    "    def setZeroes(self, matrix: List[List[int]]) -> None:\n",
    "        \"\"\"\n",
    "        Do not return anything, modify matrix in-place instead.\n",
    "        \"\"\"\n",
    "        first_col, first_row = False, False\n",
    "        row, col = len(matrix), len(matrix[0])\n",
    "        for i in range(row):\n",
    "            for j in range(col):\n",
    "                if matrix[i][j] == 0:\n",
    "                    if i == 0:\n",
    "                        first_row = True\n",
    "                    if j == 0:\n",
    "                        first_col = True \n",
    "                    matrix[0][j] = 0\n",
    "                    matrix[i][0] = 0\n",
    "        \n",
    "        for i in range(row):\n",
    "            for j in range(col):\n",
    "                if matrix[i][0] == 0 or matrix[0][j] == 0:\n",
    "                    matrix[i][j] = 0\n",
    "        \n",
    "        if first_col:\n",
    "            for i in range(row):\n",
    "                matrix[i][0] = 0 \n",
    "\n",
    "        if first_row:\n",
    "            for j in range(col):\n",
    "                matrix[0][j] = 0\n",
    "        return matrix\n",
    "    \n",
    "Solution().setZeroes([[1,1,1],[1,0,1],[1,1,1]])\n"
   ]
  },
  {
   "cell_type": "code",
   "execution_count": 252,
   "id": "bea0a84d",
   "metadata": {},
   "outputs": [
    {
     "data": {
      "text/plain": [
       "8"
      ]
     },
     "execution_count": 252,
     "metadata": {},
     "output_type": "execute_result"
    }
   ],
   "source": [
    "''' \n",
    "Input: intersectVal = 8, listA = [4,1,8,4,5], listB = [5,6,1,8,4,5], skipA = 2, skipB = 3\n",
    "Output: Intersected at '8'\n",
    "'''\n",
    "from typing import List, Optional\n",
    "\n",
    "# Definition for singly-linked list.\n",
    "class ListNode:\n",
    "    def __init__(self, x, next = None):\n",
    "        self.val = x\n",
    "        self.next = next\n",
    "\n",
    "class Solution:\n",
    "    def getIntersectionNode(self, headA: ListNode, headB: ListNode) -> Optional[ListNode]:\n",
    "        l1 = headA \n",
    "        l2 = headB\n",
    "        while l1 != l2:\n",
    "            l1 = l1.next if l1 else headB\n",
    "            l2 = l2.next if l2 else headA\n",
    "        return l1\n",
    "\n",
    "solution = Solution()\n",
    "# Create the shared part of the list.\n",
    "shared = ListNode(8, ListNode(4, ListNode(5)))\n",
    "\n",
    "# Build listA and listB so that they converge at 'shared'\n",
    "listA = ListNode(4, ListNode(1, shared))\n",
    "listB = ListNode(5, ListNode(6, ListNode(1, shared)))\n",
    "solution.getIntersectionNode(listA, listB).val"
   ]
  },
  {
   "cell_type": "code",
   "execution_count": 263,
   "id": "ed661a51",
   "metadata": {},
   "outputs": [
    {
     "name": "stdout",
     "output_type": "stream",
     "text": [
      "1\n",
      "2\n",
      "3\n",
      "4\n"
     ]
    }
   ],
   "source": [
    "''' \n",
    "Input: head = [1,2,3,4,5], n = 2\n",
    "Output: [1,2,3,5]\n",
    "'''\n",
    "\n",
    "class ListNode:\n",
    "    def __init__(self, val=0, next=None):\n",
    "        self.val = val\n",
    "        self.next = next\n",
    "class Solution:\n",
    "    def removeNthFromEnd(self, head, n):\n",
    "        dummy = ListNode(0, head)\n",
    "        fast = slow = dummy\n",
    "        for _ in range(n + 1):\n",
    "            if fast:\n",
    "                fast = fast.next\n",
    "            else:\n",
    "                return head\n",
    "            \n",
    "        while fast:\n",
    "            fast = fast.next \n",
    "            slow = slow.next \n",
    "\n",
    "        if slow.next:\n",
    "            slow.next = slow.next.next \n",
    "        return dummy.next\n",
    "\n",
    "def print_list(head): \n",
    "    temp = head \n",
    "    while temp:\n",
    "        print(temp.val)\n",
    "        temp = temp.next\n",
    "    \n",
    "    \n",
    "solution = Solution()\n",
    "res = solution.removeNthFromEnd(ListNode(1, ListNode(2, ListNode(3, ListNode(4, ListNode(5))))), 1)\n",
    "print_list(res)"
   ]
  },
  {
   "cell_type": "code",
   "execution_count": 264,
   "id": "7487385f",
   "metadata": {},
   "outputs": [
    {
     "name": "stdout",
     "output_type": "stream",
     "text": [
      "2\n",
      "1\n",
      "4\n",
      "3\n"
     ]
    }
   ],
   "source": [
    "''' \n",
    "Input: head = [1,2,3,4]\n",
    "\n",
    "Output: [2,1,4,3]\n",
    "'''\n",
    "\n",
    "class ListNode:\n",
    "    def __init__(self, val=0, next=None):\n",
    "        self.val = val\n",
    "        self.next = next\n",
    "class Solution:\n",
    "    def swapPairs(self, head: Optional[ListNode]) -> Optional[ListNode]:\n",
    "        dummy = ListNode(0, head)\n",
    "        prev = dummy \n",
    "        cur = dummy.next \n",
    "        while cur and cur.next:\n",
    "            first = cur \n",
    "            second = cur.next \n",
    "\n",
    "            prev.next = second \n",
    "            first.next = second.next \n",
    "            second.next = first \n",
    "\n",
    "            prev = cur\n",
    "            cur = first.next\n",
    "        return dummy.next\n",
    "    \n",
    "solution = Solution()\n",
    "res = solution.swapPairs(ListNode(1, ListNode(2, ListNode(3, ListNode(4)))))\n",
    "print_list(res)"
   ]
  },
  {
   "cell_type": "code",
   "execution_count": 271,
   "id": "a2a1026f",
   "metadata": {},
   "outputs": [
    {
     "name": "stdout",
     "output_type": "stream",
     "text": [
      "7\n",
      "0\n",
      "8\n"
     ]
    }
   ],
   "source": [
    "''' \n",
    "Input: l1 = [2,4,3], l2 = [5,6,4]\n",
    "Output: [7,0,8]\n",
    "Explanation: 342 + 465 = 807.\n",
    "'''\n",
    "\n",
    "class ListNode:\n",
    "    def __init__(self, val=0, next=None):\n",
    "        self.val = val\n",
    "        self.next = next\n",
    "class Solution:\n",
    "    def addTwoNumbers(self, l1: Optional[ListNode], l2: Optional[ListNode]) -> Optional[ListNode]:\n",
    "        dummy = ListNode()\n",
    "        carry = 0\n",
    "        cur = dummy \n",
    "        while l1 or l2 or carry:\n",
    "            val1 = l1.val if l1 else 0 \n",
    "            val2 = l2.val if l2 else 0\n",
    "\n",
    "            total_sum = val1 + val2 + carry\n",
    "            cur_sum = total_sum % 10\n",
    "            carry = total_sum // 10\n",
    "            cur.next = ListNode(cur_sum)\n",
    "\n",
    "            l1 = l1.next if l1 else None \n",
    "            l2 = l2.next if l2 else None \n",
    "            cur = cur.next\n",
    "        return dummy.next\n",
    "    \n",
    "\n",
    "solution = Solution()\n",
    "res = solution.addTwoNumbers(ListNode(2, ListNode(4, ListNode(3))), ListNode(5, ListNode(6, ListNode(4))))\n",
    "print_list(res)\n",
    "\n",
    "            "
   ]
  },
  {
   "cell_type": "code",
   "execution_count": 274,
   "id": "289674a2",
   "metadata": {},
   "outputs": [
    {
     "name": "stdout",
     "output_type": "stream",
     "text": [
      "length:  5\n",
      "4\n",
      "5\n",
      "1\n",
      "2\n",
      "3\n"
     ]
    }
   ],
   "source": [
    "''' \n",
    "Input: head = [1,2,3,4,5], k = 2\n",
    "Output: [4,5,1,2,3]\n",
    "'''\n",
    "\n",
    "class ListNode:\n",
    "    def __init__(self, val=0, next=None):\n",
    "        self.val = val\n",
    "        self.next = next\n",
    "class Solution:\n",
    "    def rotateRight(self, head: Optional[ListNode], k: int) -> Optional[ListNode]:\n",
    "\n",
    "        length = 1 \n",
    "        tail = head\n",
    "        while tail.next:\n",
    "            length += 1\n",
    "            tail = tail.next \n",
    "        k = k % length\n",
    "        if k == 0:\n",
    "            return head \n",
    "        new_tail = head \n",
    "        print('length: ', length)\n",
    "        for _ in range(length - k - 1):\n",
    "            new_tail = new_tail.next \n",
    "        \n",
    "        new_head = new_tail.next \n",
    "        new_tail.next = None\n",
    "        tail.next = head\n",
    "        return new_head\n",
    "\n",
    "\n",
    "        \n",
    "solution = Solution()\n",
    "res = solution.rotateRight(ListNode(1, ListNode(2, ListNode(3, ListNode(4, ListNode(5))))), 2)\n",
    "print_list(res)"
   ]
  },
  {
   "cell_type": "code",
   "execution_count": 275,
   "id": "5037d3d1",
   "metadata": {},
   "outputs": [
    {
     "data": {
      "text/plain": [
       "3"
      ]
     },
     "execution_count": 275,
     "metadata": {},
     "output_type": "execute_result"
    }
   ],
   "source": [
    "''' \n",
    "Input: head = [1,2,3,4,5]\n",
    "Output: [3,4,5]\n",
    "Explanation: The middle node of the list is node 3.\n",
    "'''\n",
    "\n",
    "class ListNode:\n",
    "    def __init__(self, val=0, next=None):\n",
    "        self.val = val\n",
    "        self.next = next\n",
    "class Solution:\n",
    "    def middleNode(self, head: Optional[ListNode]) -> Optional[ListNode]:\n",
    "        slow = fast = head \n",
    "        while fast and fast.next:\n",
    "            fast = fast.next.next \n",
    "            slow = slow.next \n",
    "        return slow\n",
    "\n",
    "solution = Solution()\n",
    "solution.middleNode(ListNode(1, ListNode(2, ListNode(3, ListNode(4, ListNode(5)))))).val"
   ]
  },
  {
   "cell_type": "code",
   "execution_count": 277,
   "id": "34897347",
   "metadata": {},
   "outputs": [
    {
     "name": "stdout",
     "output_type": "stream",
     "text": [
      "2\n"
     ]
    }
   ],
   "source": [
    "''' \n",
    "Input: head = [3,2,0,-4], pos = 1\n",
    "Output: tail connects to node index 1\n",
    "Explanation: There is a cycle in the linked list, where tail connects to the second node.\n",
    "'''\n",
    "\n",
    "class ListNode:\n",
    "    def __init__(self, x, next = None):\n",
    "        self.val = x\n",
    "        self.next = next\n",
    "\n",
    "class Solution:\n",
    "    def detectCycle(self, head: Optional[ListNode]) -> Optional[ListNode]:\n",
    "        slow = fast = head \n",
    "\n",
    "        while fast and fast.next:\n",
    "            slow = slow.next \n",
    "            fast = fast.next.next \n",
    "            if slow == fast:\n",
    "                break\n",
    "        else:\n",
    "            return None\n",
    "        fast = head \n",
    "        while fast != slow:\n",
    "            slow = slow.next \n",
    "            fast = fast.next \n",
    "        return slow\n",
    "\n",
    "# Define nodes\n",
    "node4 = ListNode(-4)\n",
    "node3 = ListNode(0, node4)\n",
    "node2 = ListNode(2, node3)\n",
    "node1 = ListNode(3, node2)\n",
    "\n",
    "# Create the cycle: last node points back to node2\n",
    "node4.next = node2\n",
    "\n",
    "# Now test\n",
    "solution = Solution()\n",
    "cycle_start = solution.detectCycle(node1)\n",
    "print(cycle_start.val if cycle_start else None)"
   ]
  },
  {
   "cell_type": "code",
   "execution_count": 284,
   "id": "0423d2f6",
   "metadata": {},
   "outputs": [
    {
     "name": "stdout",
     "output_type": "stream",
     "text": [
      "5\n",
      "4\n",
      "3\n",
      "2\n",
      "1\n"
     ]
    }
   ],
   "source": [
    "''' \n",
    "Input: head = [1,2,3,4,5]\n",
    "Output: [5,4,3,2,1]\n",
    "'''\n",
    "\n",
    "class ListNode:\n",
    "    def __init__(self, val=0, next=None):\n",
    "        self.val = val\n",
    "        self.next = next\n",
    "class Solution:\n",
    "    def reverseList(self, head: Optional[ListNode]) -> Optional[ListNode]:\n",
    "        before = None \n",
    "        cur = head \n",
    "        while cur:\n",
    "            temp = cur.next \n",
    "            cur.next = before\n",
    "            before = cur \n",
    "            cur = temp\n",
    "        return before\n",
    "\n",
    "solution = Solution()\n",
    "res = solution.reverseList(ListNode(1, ListNode(2, ListNode(3, ListNode(4, ListNode(5))))))\n",
    "print_list(res)"
   ]
  },
  {
   "cell_type": "code",
   "execution_count": 293,
   "id": "6f249290",
   "metadata": {},
   "outputs": [
    {
     "name": "stdout",
     "output_type": "stream",
     "text": [
      "2\n",
      "1\n",
      "4\n",
      "3\n",
      "5\n"
     ]
    }
   ],
   "source": [
    "''' \n",
    "Input: head = [1,2,3,4,5], k = 2\n",
    "Output: [2,1,4,3,5]\n",
    "'''\n",
    "\n",
    "class ListNode:\n",
    "    def __init__(self, val=0, next=None):\n",
    "        self.val = val\n",
    "        self.next = next\n",
    "class Solution:\n",
    "    def reverseKGroup(self, head, k):\n",
    "        def get_kth_node(node, k):\n",
    "            while node and k > 0:\n",
    "                node = node.next \n",
    "                k -= 1\n",
    "            return node\n",
    "        dummy = ListNode(0, head)\n",
    "        grp_prev = dummy \n",
    "        while True:\n",
    "            kth = get_kth_node(grp_prev, k)\n",
    "            if not kth:\n",
    "                break\n",
    "            grp_next = kth.next\n",
    "            prev, cur = grp_next, grp_prev.next \n",
    "            while cur != grp_next:\n",
    "                temp = cur.next \n",
    "                cur.next = prev \n",
    "                prev = cur \n",
    "                cur = temp \n",
    "            temp = grp_prev.next \n",
    "            grp_prev.next = kth \n",
    "            grp_prev = temp \n",
    "        return dummy.next \n",
    "    \n",
    "solution = Solution()\n",
    "res = solution.reverseKGroup(ListNode(1, ListNode(2, ListNode(3, ListNode(4, ListNode(5))))), 2)\n",
    "print_list(res)\n"
   ]
  },
  {
   "cell_type": "code",
   "execution_count": 299,
   "id": "7ab4654c",
   "metadata": {},
   "outputs": [
    {
     "name": "stdout",
     "output_type": "stream",
     "text": [
      "3\n",
      "3\n",
      "2\n",
      "[1, 1, 2, 3, 4, 4, 5, 6]\n"
     ]
    }
   ],
   "source": [
    "''' \n",
    "Input: lists = [[1,4,5],[1,3,4],[2,6]]\n",
    "Output: [1,1,2,3,4,4,5,6]\n",
    "Explanation: The linked-lists are:\n",
    "[\n",
    "  1->4->5,\n",
    "  1->3->4,\n",
    "  2->6\n",
    "]\n",
    "merging them into one sorted list:\n",
    "1->1->2->3->4->4->5->6\n",
    "'''\n",
    "\n",
    "from typing import List, Optional\n",
    "\n",
    "class ListNode:\n",
    "    def __init__(self, val=0, next=None):\n",
    "        self.val = val\n",
    "        self.next = next\n",
    "class Solution:\n",
    "    def mergeKLists(self, lists: List[Optional[ListNode]]) -> Optional[ListNode]:\n",
    "        res = []\n",
    "        while len(lists) > 1:\n",
    "            res = []\n",
    "            for i in range(0, len(lists), 2):\n",
    "                print(len(lists))\n",
    "                l1 = lists[i]\n",
    "                l2 = lists[i + 1] if (i + 1) < len(lists) else None\n",
    "                res.append(self.merge(l1, l2))\n",
    "            lists = res\n",
    "        return lists[0]\n",
    "\n",
    "\n",
    "    def merge(self, l1, l2):\n",
    "        dummy = ListNode()\n",
    "        cur = dummy \n",
    "        while l1 and l2:\n",
    "            if l1.val < l2.val:\n",
    "                cur.next = l1 \n",
    "                l1 = l1.next \n",
    "            else:\n",
    "                cur.next = l2\n",
    "                l2 = l2.next \n",
    "            cur = cur.next \n",
    "        cur.next = l1 if l1 else l2\n",
    "        return dummy.next\n",
    "    \n",
    "def build_linked_list(arr):\n",
    "    dummy = ListNode()\n",
    "    curr = dummy\n",
    "    for num in arr:\n",
    "        curr.next = ListNode(num)\n",
    "        curr = curr.next\n",
    "    return dummy.next\n",
    "\n",
    "def print_linked_list(head):\n",
    "    result = []\n",
    "    while head:\n",
    "        result.append(head.val)\n",
    "        head = head.next\n",
    "    print(result)\n",
    "\n",
    "\n",
    "lists = [[1,4,5],[1,3,4],[2,6]]\n",
    "linked_lists = [build_linked_list(lst) for lst in lists]\n",
    "\n",
    "solution = Solution()\n",
    "merged_head = solution.mergeKLists(linked_lists)\n",
    "print_linked_list(merged_head)  # Output should be [1,1,2,3,4,4,5,6]"
   ]
  },
  {
   "cell_type": "code",
   "execution_count": 304,
   "id": "2a3b54d6",
   "metadata": {},
   "outputs": [
    {
     "data": {
      "text/plain": [
       "True"
      ]
     },
     "execution_count": 304,
     "metadata": {},
     "output_type": "execute_result"
    }
   ],
   "source": [
    "''' \n",
    "Input: s = \"()[]{}\"\n",
    "\n",
    "Output: true\n",
    "'''\n",
    "\n",
    "class Solution:\n",
    "    def isValid(self, s: str) -> bool:\n",
    "        stack = []\n",
    "        for c in s:\n",
    "            if c in '({[':\n",
    "                stack.append(c)\n",
    "            else:\n",
    "                if len(stack) > 0 and ((c == ')' and stack[-1] == '(') or (c == ']' and stack[-1] == '[') or (c == '}' and stack[-1] == '{')):\n",
    "                    stack.pop()\n",
    "                else:\n",
    "                    return False \n",
    "        return len(stack) == 0\n",
    "\n",
    "Solution().isValid(\"()[]{}\")"
   ]
  },
  {
   "cell_type": "code",
   "execution_count": 305,
   "id": "5dc507a8",
   "metadata": {},
   "outputs": [
    {
     "data": {
      "text/plain": [
       "'ca'"
      ]
     },
     "execution_count": 305,
     "metadata": {},
     "output_type": "execute_result"
    }
   ],
   "source": [
    "''' \n",
    "Input: s = \"abbaca\"\n",
    "Output: \"ca\"\n",
    "Explanation: \n",
    "For example, in \"abbaca\" we could remove \"bb\" since the letters are adjacent and equal, and this is the only possible move.  The result of this move is that the string is \"aaca\", of which only \"aa\" is possible, so the final string is \"ca\".\n",
    "'''\n",
    "\n",
    "class Solution:\n",
    "    def removeDuplicates(self, s: str) -> str:\n",
    "        stack = []\n",
    "        for c in s:\n",
    "            if stack and stack[-1] == c:\n",
    "                stack.pop()\n",
    "            else:\n",
    "                stack.append(c)\n",
    "        return \"\".join(stack)\n",
    "\n",
    "Solution().removeDuplicates(\"abbaca\")"
   ]
  },
  {
   "cell_type": "code",
   "execution_count": 308,
   "metadata": {},
   "outputs": [
    {
     "name": "stdout",
     "output_type": "stream",
     "text": [
      "[0, 0]\n",
      "1 0\n",
      "0\n"
     ]
    }
   ],
   "source": [
    "''' \n",
    "Input\n",
    "[\"MinStack\",\"push\",\"push\",\"push\",\"getMin\",\"pop\",\"top\",\"getMin\"]\n",
    "[[],[-2],[0],[-3],[],[],[],[]]\n",
    "\n",
    "Output\n",
    "[null,null,null,null,-3,null,0,-2]\n",
    "\n",
    "Explanation\n",
    "MinStack minStack = new MinStack();\n",
    "minStack.push(-2);\n",
    "minStack.push(0);\n",
    "minStack.push(-3);\n",
    "minStack.getMin(); // return -3\n",
    "minStack.pop();\n",
    "minStack.top();    // return 0\n",
    "minStack.getMin(); // return -2\n",
    "'''\n",
    "\n",
    "class MinStack:\n",
    "\n",
    "    def __init__(self):\n",
    "        self.min_stack = []\n",
    "        self.stack = []\n",
    "\n",
    "    def push(self, num):\n",
    "        self.stack.append(num)\n",
    "        while self.min_stack and self.min_stack[-1] > num:\n",
    "            self.min_stack.pop()\n",
    "        self.min_stack.append(num) \n",
    "    \n",
    "    def pop(self):\n",
    "        val = self.stack.pop()\n",
    "        if self.min_stack[-1] and self.min_stack[-1] == val:\n",
    "            self.min_stack.pop()\n",
    "    \n",
    "    def top(self):\n",
    "        return self.stack[-1]\n",
    "    \n",
    "    def getMin(self):\n",
    "        return self.min_stack[-1]\n",
    "    \n",
    "obj = MinStack()\n",
    "obj.push(0)\n",
    "obj.push(1)\n",
    "obj.push(0)\n",
    "print(obj.min_stack)\n",
    "param_4 = obj.getMin()\n",
    "obj.pop()\n",
    "param_3 = obj.top()\n",
    "print(param_3, param_4)\n",
    "print(obj.getMin())"
   ]
  },
  {
   "cell_type": "code",
   "execution_count": 310,
   "id": "674795b2",
   "metadata": {},
   "outputs": [
    {
     "data": {
      "text/plain": [
       "'lecoe'"
      ]
     },
     "execution_count": 310,
     "metadata": {},
     "output_type": "execute_result"
    }
   ],
   "source": [
    "''' \n",
    "Input: s = \"leet**cod*e\"\n",
    "Output: \"lecoe\"\n",
    "Explanation: Performing the removals from left to right:\n",
    "- The closest character to the 1st star is 't' in \"leet**cod*e\". s becomes \"lee*cod*e\".\n",
    "- The closest character to the 2nd star is 'e' in \"lee*cod*e\". s becomes \"lecod*e\".\n",
    "- The closest character to the 3rd star is 'd' in \"lecod*e\". s becomes \"lecoe\".\n",
    "There are no more stars, so we return \"lecoe\".\n",
    "'''\n",
    "\n",
    "class Solution:\n",
    "    def removeStars(self, s: str) -> str:\n",
    "        stack = []\n",
    "        for c in s:\n",
    "            if c == '*':\n",
    "                stack.pop()\n",
    "            else:\n",
    "                stack.append(c)\n",
    "        return \"\".join(stack)\n",
    "\n",
    "Solution().removeStars(\"leet**cod*e\")"
   ]
  },
  {
   "cell_type": "code",
   "execution_count": 311,
   "id": "62247cf0",
   "metadata": {},
   "outputs": [
    {
     "data": {
      "text/plain": [
       "9"
      ]
     },
     "execution_count": 311,
     "metadata": {},
     "output_type": "execute_result"
    }
   ],
   "source": [
    "''' \n",
    "Input: tokens = [\"2\",\"1\",\"+\",\"3\",\"*\"]\n",
    "Output: 9\n",
    "Explanation: ((2 + 1) * 3) = 9\n",
    "'''\n",
    "\n",
    "class Solution(object):\n",
    "    def evalRPN(self, tokens):\n",
    "        stack = []\n",
    "        for t in tokens:\n",
    "            if t not in '+-*/%':\n",
    "                stack.append(int(t))\n",
    "            else:\n",
    "                val1 = stack.pop()\n",
    "                val2 = stack.pop()\n",
    "                if t == '+':\n",
    "                    val = val1 + val2\n",
    "                elif t == '-':\n",
    "                    val = val1 - val2\n",
    "                elif t == '*':\n",
    "                    val = val1 * val2 \n",
    "                else:\n",
    "                    val = val / val2 \n",
    "                stack.append(val)\n",
    "        return stack[-1]\n",
    "    \n",
    "Solution().evalRPN([\"2\",\"1\",\"+\",\"3\",\"*\"])\n"
   ]
  },
  {
   "cell_type": "code",
   "execution_count": 322,
   "metadata": {},
   "outputs": [
    {
     "data": {
      "text/plain": [
       "80"
      ]
     },
     "execution_count": 322,
     "metadata": {},
     "output_type": "execute_result"
    }
   ],
   "source": [
    "''' \n",
    "Input: \"12 + 34 * 2\"\n",
    "Output: \"\"\n",
    "'''\n",
    "\n",
    "class Solution:\n",
    "    def calculate(self, s: str) -> int:\n",
    "        sign = '+'\n",
    "        stack = []\n",
    "        num = 0\n",
    "        for i, c in enumerate(s):\n",
    "            if c.isnumeric():\n",
    "                num = (num * 10) + int(c)\n",
    "            if (not c.isdigit() and c != ' ') or i == len(s) - 1:\n",
    "                if sign == '+':\n",
    "                    stack.append(num)\n",
    "                elif sign == '-':\n",
    "                    stack.append(-num)\n",
    "                elif sign == '*':\n",
    "                    stack.append(stack.pop() * num)\n",
    "                elif sign == '/':\n",
    "                    stack.append(stack.pop() / num)\n",
    "                sign = c\n",
    "                num = 0 \n",
    "\n",
    "        return sum(stack)\n",
    "    \n",
    "\n",
    "Solution().calculate(\"12 + 34 * 2\")"
   ]
  },
  {
   "cell_type": "code",
   "execution_count": 324,
   "id": "a8559d85",
   "metadata": {},
   "outputs": [
    {
     "data": {
      "text/plain": [
       "4"
      ]
     },
     "execution_count": 324,
     "metadata": {},
     "output_type": "execute_result"
    }
   ],
   "source": [
    "''' \n",
    "Input: s = \")()())\"\n",
    "Output: 4\n",
    "Explanation: The longest valid parentheses substring is \"()()\".\n",
    "'''\n",
    "\n",
    "class Solution:\n",
    "    def longestValidParentheses(self, s: str) -> int:\n",
    "        stack = [-1]\n",
    "        max_count = 0\n",
    "        for i, c in enumerate(s):\n",
    "            if c == '(':\n",
    "                stack.append(i)\n",
    "            else:\n",
    "                stack.pop()\n",
    "                if not stack:\n",
    "                    stack.append(i)\n",
    "                else:\n",
    "                    max_count = max(max_count, i - stack[-1])\n",
    "        return max_count\n",
    "    \n",
    "Solution().longestValidParentheses(\")()())\")"
   ]
  },
  {
   "cell_type": "code",
   "execution_count": 328,
   "id": "d2bfbe3b",
   "metadata": {},
   "outputs": [
    {
     "data": {
      "text/plain": [
       "'abc'"
      ]
     },
     "execution_count": 328,
     "metadata": {},
     "output_type": "execute_result"
    }
   ],
   "source": [
    "''' \n",
    "Input: s = \"bcabc\"\n",
    "Output: \"abc\"\n",
    "'''\n",
    "from collections import Counter\n",
    "class Solution:\n",
    "    def removeDuplicateLetters(self, s: str) -> str:\n",
    "        s_counter = {}\n",
    "        for i, c in enumerate(s):\n",
    "            s_counter[c] = i\n",
    "        s_set = set()\n",
    "        stack = []\n",
    "        for i, c in enumerate(s):\n",
    "            if c in s_set:\n",
    "                continue\n",
    "            else:\n",
    "                while len(stack) > 0 and stack[-1] > c and s_counter[stack[-1]] > i:\n",
    "                    s_set.remove(stack[-1])\n",
    "                    stack.pop()\n",
    "                stack.append(c)\n",
    "                s_set.add(c)\n",
    "        return \"\".join(stack)\n",
    "\n",
    "\n",
    "Solution().removeDuplicateLetters('bcabc')\n"
   ]
  },
  {
   "cell_type": "code",
   "execution_count": 334,
   "id": "3e7b8639",
   "metadata": {},
   "outputs": [
    {
     "name": "stdout",
     "output_type": "stream",
     "text": [
      "{1: 3, 3: 4}\n"
     ]
    },
    {
     "data": {
      "text/plain": [
       "[-1, 3, -1]"
      ]
     },
     "execution_count": 334,
     "metadata": {},
     "output_type": "execute_result"
    }
   ],
   "source": [
    "''' \n",
    "Input: nums1 = [4,1,2], nums2 = [1,3,4,2]\n",
    "Output: [-1,3,-1]\n",
    "Explanation: The next greater element for each value of nums1 is as follows:\n",
    "- 4 is underlined in nums2 = [1,3,4,2]. There is no next greater element, so the answer is -1.\n",
    "- 1 is underlined in nums2 = [1,3,4,2]. The next greater element is 3.\n",
    "- 2 is underlined in nums2 = [1,3,4,2]. There is no next greater element, so the answer is -1.\n",
    "'''\n",
    "from typing import List\n",
    "\n",
    "class Solution:\n",
    "    def nextGreaterElement(self, nums1: List[int], nums2: List[int]) -> List[int]:\n",
    "        hash_map = {}\n",
    "        stack = []\n",
    "        for num in nums2:\n",
    "            while stack and stack[-1] < num:\n",
    "                hash_map[stack.pop()] = num \n",
    "            stack.append(num)\n",
    "        print(hash_map)\n",
    "        return [hash_map.get(num, -1) for num in nums1]\n",
    "\n",
    "Solution().nextGreaterElement(nums1 = [4,1,2], nums2 = [1,3,4,2])"
   ]
  },
  {
   "cell_type": "code",
   "execution_count": 336,
   "id": "431ad3d2",
   "metadata": {},
   "outputs": [
    {
     "data": {
      "text/plain": [
       "[1, 1, 4, 2, 1, 1, 0, 0]"
      ]
     },
     "execution_count": 336,
     "metadata": {},
     "output_type": "execute_result"
    }
   ],
   "source": [
    "''' \n",
    "Input: temperatures = [73,74,75,71,69,72,76,73]\n",
    "Output: [1,1,4,2,1,1,0,0]\n",
    "\n",
    "Given an array of integers temperatures represents the daily temperatures, \n",
    "return an array answer such that answer[i] is the number of days you have to wait after the ith day to get a warmer temperature. \n",
    "If there is no future day for which this is possible, keep answer[i] == 0 instead.\n",
    "'''\n",
    "\n",
    "from typing import List\n",
    "\n",
    "class Solution:\n",
    "    def dailyTemperatures(self, temperatures: List[int]) -> List[int]:\n",
    "        n = len(temperatures)\n",
    "        res = [0] * n \n",
    "        stack = []\n",
    "        for i in range(n - 1, -1, -1):\n",
    "            while stack and temperatures[stack[-1]] < temperatures[i]:\n",
    "                stack.pop()\n",
    "            \n",
    "            if stack:\n",
    "                res[i] = stack[-1] - i \n",
    "            stack.append(i)\n",
    "        return res \n",
    "    \n",
    "\n",
    "Solution().dailyTemperatures([73,74,75,71,69,72,76,73])\n",
    "            "
   ]
  },
  {
   "cell_type": "code",
   "execution_count": 339,
   "id": "ece1913c",
   "metadata": {},
   "outputs": [
    {
     "name": "stdout",
     "output_type": "stream",
     "text": [
      "1\n",
      "1\n",
      "1\n",
      "2\n",
      "1\n",
      "4\n",
      "6\n"
     ]
    }
   ],
   "source": [
    "''' \n",
    "Input\n",
    "[\"StockSpanner\", \"next\", \"next\", \"next\", \"next\", \"next\", \"next\", \"next\"]\n",
    "[[], [100], [80], [60], [70], [60], [75], [85]]\n",
    "Output\n",
    "[null, 1, 1, 1, 2, 1, 4, 6]\n",
    "\n",
    "Explanation\n",
    "StockSpanner stockSpanner = new StockSpanner();\n",
    "stockSpanner.next(100); // return 1\n",
    "stockSpanner.next(80);  // return 1\n",
    "stockSpanner.next(60);  // return 1\n",
    "stockSpanner.next(70);  // return 2\n",
    "stockSpanner.next(60);  // return 1\n",
    "stockSpanner.next(75);  // return 4, because the last 4 prices (including today's price of 75) were less than or equal to today's price.\n",
    "stockSpanner.next(85);  // return 6\n",
    "'''\n",
    "\n",
    "class StockSpanner:\n",
    "\n",
    "    def __init__(self):\n",
    "        self.stack = []\n",
    "\n",
    "    def next(self, num):\n",
    "        span = 1 \n",
    "        while self.stack and self.stack[-1][0] <= num:\n",
    "            span += self.stack[-1][1]\n",
    "            self.stack.pop()\n",
    "        self.stack.append([num, span])\n",
    "        return span \n",
    "\n",
    "stockSpanner = StockSpanner()\n",
    "print(stockSpanner.next(100)); \n",
    "print(stockSpanner.next(80)); \n",
    "print(stockSpanner.next(60)); \n",
    "print(stockSpanner.next(70)); \n",
    "print(stockSpanner.next(60)); \n",
    "print(stockSpanner.next(75))\n",
    "print(stockSpanner.next(85)) "
   ]
  },
  {
   "cell_type": "code",
   "execution_count": 340,
   "id": "75aa57c6",
   "metadata": {},
   "outputs": [
    {
     "data": {
      "text/plain": [
       "True"
      ]
     },
     "execution_count": 340,
     "metadata": {},
     "output_type": "execute_result"
    }
   ],
   "source": [
    "''' \n",
    "Given an array of n integers nums, a 132 pattern is a subsequence of three integers nums[i], nums[j] and nums[k] such that i < j < k and nums[i] < nums[k] < nums[j].\n",
    "\n",
    "Return true if there is a 132 pattern in nums, otherwise, return false.\n",
    "\n",
    "Input: nums = [1,2,3,4]\n",
    "Output: false\n",
    "Explanation: There is no 132 pattern in the sequence.\n",
    "'''\n",
    "\n",
    "from typing import List\n",
    "\n",
    "class Solution:\n",
    "    def find132pattern(self, nums: List[int]) -> bool:\n",
    "        j = float('-inf')\n",
    "        stack = []\n",
    "        for i in range(len(nums) -1, -1, -1):\n",
    "            if nums[i] > j:\n",
    "                return True\n",
    "            \n",
    "            while stack and stack[-1] > nums[i]:\n",
    "                j = stack.pop()\n",
    "            stack.append(nums[i])\n",
    "        return False \n",
    "    \n",
    "\n",
    "Solution().find132pattern([1, 2, 3, 4])"
   ]
  },
  {
   "cell_type": "code",
   "execution_count": 342,
   "id": "8289c348",
   "metadata": {},
   "outputs": [
    {
     "data": {
      "text/plain": [
       "[3, 1, 2, 1, 1, 0]"
      ]
     },
     "execution_count": 342,
     "metadata": {},
     "output_type": "execute_result"
    }
   ],
   "source": [
    "''' \n",
    "Input: heights = [10,6,8,5,11,9]\n",
    "Output: [3,1,2,1,1,0]\n",
    "Explanation:\n",
    "Person 0 can see person 1, 2, and 4.\n",
    "Person 1 can see person 2.\n",
    "Person 2 can see person 3 and 4.\n",
    "Person 3 can see person 4.\n",
    "Person 4 can see person 5.\n",
    "Person 5 can see no one since nobody is to the right of them.\n",
    "'''\n",
    "\n",
    "class Solution:\n",
    "    def canSeePersonsCount(self, heights: List[int]) -> List[int]:\n",
    "        res = [0] * len(heights)\n",
    "        stack = []\n",
    "        for i in range(len(heights) - 1, -1, -1):\n",
    "            count = 0\n",
    "            while stack and stack[-1] < heights[i]:\n",
    "                stack.pop()\n",
    "                count += 1\n",
    "\n",
    "            if stack:\n",
    "                count += 1\n",
    "            \n",
    "            res[i] = count \n",
    "            stack.append(heights[i])\n",
    "        return res \n",
    "\n",
    "\n",
    "Solution().canSeePersonsCount([10,6,8,5,11,9])\n"
   ]
  },
  {
   "cell_type": "code",
   "execution_count": 349,
   "id": "b7a6dbae",
   "metadata": {},
   "outputs": [
    {
     "data": {
      "text/plain": [
       "10"
      ]
     },
     "execution_count": 349,
     "metadata": {},
     "output_type": "execute_result"
    }
   ],
   "source": [
    "''' \n",
    "Input: heights = [2,1,5,6,2,3]\n",
    "Output: 10\n",
    "Explanation: The above is a histogram where width of each bar is 1.\n",
    "The largest rectangle is shown in the red area, which has an area = 10 units.\n",
    "'''\n",
    "\n",
    "from typing import List\n",
    "\n",
    "class Solution:\n",
    "    def largestRectangleArea(self, heights: List[int]) -> int:\n",
    "        stack = []\n",
    "        max_height = 0 \n",
    "        for i in range(len(heights) - 1):\n",
    "            start = i \n",
    "            while stack and stack[-1][0] > heights[i]:\n",
    "                h, index = stack.pop()\n",
    "                max_height = max(max_height, h * (i - index))\n",
    "                start = index\n",
    "            stack.append((heights[i], start))\n",
    "        \n",
    "        for i, h in stack:\n",
    "            max_height = max(max_height, h * (len(heights) - i))\n",
    "        return max_height\n",
    "    \n",
    "Solution().largestRectangleArea([2,1,5,6,2,3])"
   ]
  },
  {
   "cell_type": "code",
   "execution_count": 362,
   "id": "db73e299",
   "metadata": {},
   "outputs": [
    {
     "data": {
      "text/plain": [
       "1"
      ]
     },
     "execution_count": 362,
     "metadata": {},
     "output_type": "execute_result"
    }
   ],
   "source": [
    "''' \n",
    "Input\n",
    "[\"RecentCounter\", \"ping\", \"ping\", \"ping\", \"ping\"]\n",
    "[[], [1], [100], [3001], [3002]]\n",
    "Output\n",
    "[null, 1, 2, 3, 3]\n",
    "\n",
    "Explanation\n",
    "RecentCounter recentCounter = new RecentCounter();\n",
    "recentCounter.ping(1);     // requests = [1], range is [-2999,1], return 1\n",
    "recentCounter.ping(100);   // requests = [1, 100], range is [-2900,100], return 2\n",
    "recentCounter.ping(3001);  // requests = [1, 100, 3001], range is [1,3001], return 3\n",
    "recentCounter.ping(3002);  // requests = [1, 100, 3001, 3002], range is [2,3002], return 3\n",
    "'''\n",
    "from collections import deque\n",
    "\n",
    "class RecentCounter(object):\n",
    "    def __init__(self):\n",
    "        self.queue = []\n",
    "        self.start = 0\n",
    "\n",
    "    def ping(self, num):\n",
    "        self.queue.append(num)\n",
    "        while self.queue and self.queue[self.start] < num - 3000:\n",
    "            self.start += 1\n",
    "\n",
    "        return len(self.queue) - self.start\n",
    "\n",
    "r = RecentCounter()\n",
    "r.ping(1)\n",
    "r.ping(100)\n",
    "r.ping(3001)\n",
    "r.ping(3002)\n",
    "r.ping(6003)"
   ]
  },
  {
   "cell_type": "code",
   "execution_count": 372,
   "id": "7ce3a982",
   "metadata": {},
   "outputs": [
    {
     "data": {
      "text/plain": [
       "6"
      ]
     },
     "execution_count": 372,
     "metadata": {},
     "output_type": "execute_result"
    }
   ],
   "source": [
    "''' \n",
    "Input: tickets = [2,3,2], k = 2\n",
    "\n",
    "Output: 6\n",
    "\n",
    "Explanation:\n",
    "\n",
    "The queue starts as [2,3,2], where the kth person is underlined.\n",
    "After the person at the front has bought a ticket, the queue becomes [3,2,1] at 1 second.\n",
    "Continuing this process, the queue becomes [2,1,2] at 2 seconds.\n",
    "Continuing this process, the queue becomes [1,2,1] at 3 seconds.\n",
    "Continuing this process, the queue becomes [2,1] at 4 seconds. Note: the person at the front left the queue.\n",
    "Continuing this process, the queue becomes [1,1] at 5 seconds.\n",
    "Continuing this process, the queue becomes [1] at 6 seconds. The kth person has bought all their tickets, so return 6.\n",
    "'''\n",
    "\n",
    "from collections import deque\n",
    "from typing import List\n",
    "\n",
    "class Solution:\n",
    "    # Using deque for efficient popping from the front\n",
    "    def timeRequiredToBuy(self, tickets: List[int], k: int) -> int:\n",
    "        queue = deque([(ticket, index) for index,ticket in enumerate(tickets)])\n",
    "        time = 0\n",
    "        while queue:\n",
    "            ticket, index = queue.popleft()\n",
    "            ticket -= 1\n",
    "            time += 1\n",
    "            if ticket == 0 and index == k:\n",
    "                return time\n",
    "            \n",
    "            if ticket != 0:\n",
    "                queue.append((ticket, index))\n",
    "            \n",
    "        return time \n",
    "    \n",
    "    def timeRequiredToBuy(self, tickets: List[int], k: int) -> int:\n",
    "        total = 0\n",
    "        for i in range(len(tickets)):\n",
    "            if i <= k:\n",
    "                total += min(tickets[i], tickets[k])\n",
    "            else:\n",
    "                total += min(tickets[i], tickets[k] - 1)\n",
    "        return total\n",
    "\n",
    "\n",
    "Solution().timeRequiredToBuy([2, 3, 2], 2)\n"
   ]
  },
  {
   "cell_type": "code",
   "execution_count": 375,
   "id": "c047a20f",
   "metadata": {},
   "outputs": [
    {
     "data": {
      "text/plain": [
       "[2, 13, 3, 11, 5, 17, 7]"
      ]
     },
     "execution_count": 375,
     "metadata": {},
     "output_type": "execute_result"
    }
   ],
   "source": [
    "''' \n",
    "Input: deck = [17,13,11,2,3,5,7]\n",
    "Output: [2,13,3,11,5,17,7]\n",
    "Explanation: \n",
    "We get the deck in the order [17,13,11,2,3,5,7] (this order does not matter), and reorder it.\n",
    "After reordering, the deck starts as [2,13,3,11,5,17,7], where 2 is the top of the deck.\n",
    "We reveal 2, and move 13 to the bottom.  The deck is now [3,11,5,17,7,13].\n",
    "We reveal 3, and move 11 to the bottom.  The deck is now [5,17,7,13,11].\n",
    "We reveal 5, and move 17 to the bottom.  The deck is now [7,13,11,17].\n",
    "We reveal 7, and move 13 to the bottom.  The deck is now [11,17,13].\n",
    "We reveal 11, and move 17 to the bottom.  The deck is now [13,17].\n",
    "We reveal 13, and move 17 to the bottom.  The deck is now [17].\n",
    "We reveal 17.\n",
    "Since all the cards revealed are in increasing order, the answer is correct.\n",
    "'''\n",
    "\n",
    "from collections import deque\n",
    "from typing import List\n",
    "\n",
    "class Solution:\n",
    "    def deckRevealedIncreasing(self, deck: List[int]) -> List[int]:\n",
    "        deck.sort()\n",
    "        queue = deque([i for i in range(len(deck))])\n",
    "        res = [0] * len(deck)\n",
    "        for n in deck:\n",
    "            res[queue.popleft()] = n\n",
    "\n",
    "            if queue:\n",
    "                queue.append(queue.popleft())\n",
    "        return res \n",
    "\n",
    "Solution().deckRevealedIncreasing([17,13,11,2,3,5,7])\n"
   ]
  },
  {
   "cell_type": "code",
   "execution_count": 393,
   "id": "c3b07a5b",
   "metadata": {},
   "outputs": [
    {
     "data": {
      "text/plain": [
       "[3, 3, 5, 5, 6, 7]"
      ]
     },
     "execution_count": 393,
     "metadata": {},
     "output_type": "execute_result"
    }
   ],
   "source": [
    "''' \n",
    "Input: nums = [1,3,-1,-3,5,3,6,7], k = 3\n",
    "Output: [3,3,5,5,6,7]\n",
    "Explanation: \n",
    "Window position                Max\n",
    "---------------               -----\n",
    "[1  3  -1] -3  5  3  6  7       3\n",
    " 1 [3  -1  -3] 5  3  6  7       3\n",
    " 1  3 [-1  -3  5] 3  6  7       5\n",
    " 1  3  -1 [-3  5  3] 6  7       5\n",
    " 1  3  -1  -3 [5  3  6] 7       6\n",
    " 1  3  -1  -3  5 [3  6  7]      7\n",
    "'''\n",
    "\n",
    "from collections import deque\n",
    "from typing import List\n",
    "\n",
    "class Solution:\n",
    "    def maxSlidingWindow(self, nums: List[int], k: int) -> List[int]:\n",
    "        queue = deque([])\n",
    "        res = []\n",
    "\n",
    "        for i, n in enumerate(nums):\n",
    "            if queue and queue[0] < i - k + 1:\n",
    "                queue.popleft()\n",
    "            \n",
    "            while queue and nums[queue[-1]] < n:\n",
    "                queue.popleft()\n",
    "            queue.append(i)\n",
    "            if i >= k - 1:\n",
    "                res.append(nums[queue[0]])\n",
    "        return res \n",
    "\n",
    "Solution().maxSlidingWindow([1,3,-1,-3,5,3,6,7],  3)"
   ]
  },
  {
   "cell_type": "code",
   "execution_count": 404,
   "id": "420ae37b",
   "metadata": {},
   "outputs": [
    {
     "data": {
      "text/plain": [
       "2"
      ]
     },
     "execution_count": 404,
     "metadata": {},
     "output_type": "execute_result"
    }
   ],
   "source": [
    "''' \n",
    "Input: nums = [8,2,4,7], limit = 4\n",
    "Output: 2 \n",
    "Explanation: All subarrays are: \n",
    "[8] with maximum absolute diff |8-8| = 0 <= 4.\n",
    "[8,2] with maximum absolute diff |8-2| = 6 > 4. \n",
    "[8,2,4] with maximum absolute diff |8-2| = 6 > 4.\n",
    "[8,2,4,7] with maximum absolute diff |8-2| = 6 > 4.\n",
    "[2] with maximum absolute diff |2-2| = 0 <= 4.\n",
    "[2,4] with maximum absolute diff |2-4| = 2 <= 4.\n",
    "[2,4,7] with maximum absolute diff |2-7| = 5 > 4.\n",
    "[4] with maximum absolute diff |4-4| = 0 <= 4.\n",
    "[4,7] with maximum absolute diff |4-7| = 3 <= 4.\n",
    "[7] with maximum absolute diff |7-7| = 0 <= 4. \n",
    "Therefore, the size of the longest subarray is 2.\n",
    "'''\n",
    "\n",
    "from collections import deque\n",
    "from typing import List\n",
    "\n",
    "class Solution:\n",
    "    def longestSubarray(self, nums: List[int], limit: int) -> int:\n",
    "        max_queue = deque() # num, index\n",
    "        min_queue = deque()\n",
    "        max_res = 0\n",
    "        left = 0 \n",
    "        for right in range(len(nums)):\n",
    "            while max_queue and max_queue[-1][0] < nums[right]:\n",
    "                max_queue.pop()\n",
    "\n",
    "            while min_queue and min_queue[-1][0] > nums[right]:\n",
    "                min_queue.pop()\n",
    "\n",
    "            max_queue.append([nums[right], right])\n",
    "            min_queue.append([nums[right], right])\n",
    "            \n",
    "            while max_queue and min_queue and max_queue[0][0] - min_queue[0][0] > limit:\n",
    "                left += 1\n",
    "            \n",
    "                if max_queue[0][1] < left:\n",
    "                    max_queue.popleft()\n",
    "                \n",
    "                if min_queue[0][1] < left:\n",
    "                    min_queue.popleft()\n",
    "                \n",
    "            max_res = max(max_res, right - left + 1)\n",
    "        return max_res\n",
    "    \n",
    "Solution().longestSubarray([8,2,4,7], limit = 4)"
   ]
  },
  {
   "cell_type": "code",
   "execution_count": 410,
   "id": "5f2e9be1",
   "metadata": {},
   "outputs": [
    {
     "name": "stdout",
     "output_type": "stream",
     "text": [
      "0\n",
      "-1\n",
      "4\n",
      "-3\n",
      "7\n",
      "[1, 0, -1, 4, -3, 7]\n"
     ]
    },
    {
     "data": {
      "text/plain": [
       "7"
      ]
     },
     "execution_count": 410,
     "metadata": {},
     "output_type": "execute_result"
    }
   ],
   "source": [
    "''' \n",
    "Input: nums = [1,-1,-2,4,-7,3], k = 2\n",
    "Output: 7\n",
    "Explanation: You can choose your jumps forming the subsequence [1,-1,4,3] (underlined above). The sum is 7.\n",
    "'''\n",
    "\n",
    "from collections import deque\n",
    "from typing import List\n",
    "\n",
    "class Solution:\n",
    "    def maxResult(self, nums: List[int], k: int) -> int:\n",
    "        queue = deque([0])\n",
    "\n",
    "        for i in range(1, len(nums)):\n",
    "            nums[i] += nums[queue[0]]\n",
    "            print(nums[i])\n",
    "\n",
    "            while queue and queue[0] < i - k + 1:\n",
    "                queue.popleft()\n",
    "\n",
    "            while queue and nums[queue[-1]] <= nums[i]:\n",
    "                queue.pop()\n",
    "            \n",
    "            queue.append(i)\n",
    "\n",
    "        print(nums)\n",
    "        return nums[-1] \n",
    "\n",
    "Solution().maxResult([1,-1,-2,4,-7,3], k = 2)\n"
   ]
  },
  {
   "cell_type": "code",
   "execution_count": 413,
   "id": "aa1ffc10",
   "metadata": {},
   "outputs": [
    {
     "data": {
      "text/plain": [
       "4"
      ]
     },
     "execution_count": 413,
     "metadata": {},
     "output_type": "execute_result"
    }
   ],
   "source": [
    "from collections import deque\n",
    "\n",
    "class Solution:\n",
    "    def findMaxValueOfEquation(self, points, k):\n",
    "        queue = deque() #(yi - xi, xi)\n",
    "        max_val = 0\n",
    "\n",
    "        for x, y in points:\n",
    "            while queue and x - queue[-1][0] > k:\n",
    "                queue.popleft()\n",
    "\n",
    "            if queue:\n",
    "                max_val = max(max_val, x + y + queue[0][0])\n",
    "            \n",
    "            while queue and queue[-1][0] <= y - x:\n",
    "                queue.popleft()\n",
    "\n",
    "            queue.append([y - x, x])\n",
    "        return max_val\n",
    "    \n",
    "Solution().findMaxValueOfEquation([[1,3],[2,0],[5,10],[6,-10]], 1)"
   ]
  },
  {
   "cell_type": "code",
   "execution_count": 416,
   "metadata": {},
   "outputs": [
    {
     "data": {
      "text/plain": [
       "[1, 2]"
      ]
     },
     "execution_count": 416,
     "metadata": {},
     "output_type": "execute_result"
    }
   ],
   "source": [
    "''' \n",
    "Input: nums = [1,1,1,2,2,3], k = 2\n",
    "Output: [1,2]\n",
    "'''\n",
    "\n",
    "from typing import List, Optional\n",
    "from collections import Counter \n",
    "\n",
    "class Solution:\n",
    "    def topKFrequent(self, nums: List[int], k: int) -> List[int]:\n",
    "        counter = Counter(nums)\n",
    "        n = len(nums)\n",
    "        buckets = [[] for _ in range(n + 1)]\n",
    "        res = []\n",
    "\n",
    "        for key, value in counter.items():\n",
    "            buckets[value].append(key)\n",
    "\n",
    "        for i in range(len(buckets) - 1, -1, -1):\n",
    "            for element in buckets[i]:\n",
    "                res.append(element)\n",
    "                if len(res) == k:\n",
    "                    return res\n",
    "        return res \n",
    "\n",
    "Solution().topKFrequent(nums = [1,1,1,2,2,3], k = 2)"
   ]
  },
  {
   "cell_type": "code",
   "execution_count": 418,
   "id": "1a8f4aaf",
   "metadata": {},
   "outputs": [
    {
     "name": "stdout",
     "output_type": "stream",
     "text": [
      "1\n",
      "2\n",
      "3\n",
      "4\n",
      "5\n",
      "6\n"
     ]
    }
   ],
   "source": [
    "class ListNode:\n",
    "    def __init__(self, val = 0, next = None):\n",
    "        self.val = val \n",
    "        self.next = next \n",
    "\n",
    "class Solution:\n",
    "    def mergeTwoLists(self, list1: Optional[ListNode], list2: Optional[ListNode]) -> Optional[ListNode]:\n",
    "        dummy = ListNode()\n",
    "        cur = dummy\n",
    "        while list1 and list2:\n",
    "            if list1.val < list2.val:\n",
    "                cur.next = list1 \n",
    "                list1 = list1.next \n",
    "            else:\n",
    "                cur.next = list2 \n",
    "                list2 = list2.next\n",
    "            cur = cur.next \n",
    "        cur.next = list1 if list1 else list2 \n",
    "        return dummy.next\n",
    "\n",
    "    def mergeTwoListsWithRecursion(self, list1: Optional[ListNode], list2: Optional[ListNode]) -> Optional[ListNode]: \n",
    "        if not list1 or not list2:\n",
    "            return list1 if list1 else list2 \n",
    "        \n",
    "        if list1.val > list2.val:\n",
    "            list2, list1 = list2, list1 \n",
    "        \n",
    "        list1.next = self.mergeTwoListsWithRecursion(list1.next, list2)\n",
    "        return list1 \n",
    "         \n",
    "    \n",
    "    def print_list(self, node):\n",
    "        temp = node\n",
    "        while temp:\n",
    "            print(temp.val)\n",
    "            temp = temp.next \n",
    "\n",
    "\n",
    "solution = Solution()\n",
    "res = solution.mergeTwoLists(ListNode(2, ListNode(4, ListNode(5))), ListNode(1, ListNode(3, ListNode(6))))\n",
    "solution.print_list(res)\n",
    "            \n"
   ]
  },
  {
   "cell_type": "code",
   "execution_count": 423,
   "id": "567aba49",
   "metadata": {},
   "outputs": [
    {
     "name": "stdout",
     "output_type": "stream",
     "text": [
      "1 2 3 4 \n"
     ]
    }
   ],
   "source": [
    "from typing import Optional\n",
    "\n",
    "class Solution:\n",
    "    def sortList(self, head: Optional[ListNode]) -> Optional[ListNode]:\n",
    "        if not head or not head.next:\n",
    "            return head \n",
    "        \n",
    "        mid = self.get_mid(head)\n",
    "        list2 = mid.next \n",
    "        mid.next = None\n",
    "        list1 = head \n",
    "\n",
    "        list1 = self.sortList(list1)\n",
    "        list2 = self.sortList(list2)\n",
    "        return self.merge(list1, list2)\n",
    "\n",
    "    def get_mid(self, head):\n",
    "        slow, fast = head, head.next \n",
    "        while fast and fast.next:\n",
    "            slow = slow.next \n",
    "            fast = fast.next.next \n",
    "        return slow\n",
    "    \n",
    "    def merge(self, list1: Optional[ListNode], list2: Optional[ListNode]) -> Optional[ListNode]:\n",
    "        dummy = ListNode()\n",
    "        cur = dummy\n",
    "        while list1 and list2:\n",
    "            if list1.val < list2.val:\n",
    "                cur.next = list1 \n",
    "                list1 = list1.next \n",
    "            else:\n",
    "                cur.next = list2 \n",
    "                list2 = list2.next\n",
    "            cur = cur.next \n",
    "        cur.next = list1 if list1 else list2 \n",
    "        return dummy.next\n",
    "    \n",
    "    def print_list(self, node):\n",
    "        while node:\n",
    "            print(node.val, end=\" \")\n",
    "            node = node.next\n",
    "        print()\n",
    "\n",
    "\n",
    "solution = Solution()\n",
    "res = solution.sortList(ListNode(4, ListNode(2, ListNode(1, ListNode(3)))))\n",
    "solution.print_list(res)"
   ]
  },
  {
   "cell_type": "code",
   "execution_count": 425,
   "id": "bd623990",
   "metadata": {},
   "outputs": [
    {
     "data": {
      "text/plain": [
       "[0, 0, 1, 1, 2, 2]"
      ]
     },
     "execution_count": 425,
     "metadata": {},
     "output_type": "execute_result"
    }
   ],
   "source": [
    "''' \n",
    "Input: nums = [2,0,2,1,1,0]\n",
    "Output: [0,0,1,1,2,2]\n",
    "'''\n",
    "\n",
    "class Solution:\n",
    "    def sortColors(self, nums: List[int]) -> None:\n",
    "        low, mid, high = 0, 0, len(nums) - 1\n",
    "        while mid < high:\n",
    "            if nums[mid] == 0:\n",
    "                nums[low], nums[mid] = nums[low], nums[mid]\n",
    "                low += 1\n",
    "                mid += 1 \n",
    "            elif nums[mid] == 1:\n",
    "                mid += 1 \n",
    "            else:\n",
    "                nums[mid], nums[high] = nums[high], nums[mid]\n",
    "                high -= 1\n",
    "        return nums\n",
    "\n",
    "\n",
    "Solution().sortColors([2,0,2,1,1,0])"
   ]
  },
  {
   "cell_type": "code",
   "execution_count": 452,
   "id": "aa2d5777",
   "metadata": {},
   "outputs": [
    {
     "name": "stdout",
     "output_type": "stream",
     "text": [
      "4\n",
      "[3, 2, 1, 4, 6, 5]\n",
      "5\n",
      "[3, 2, 1, 4, 5, 6]\n",
      "5\n",
      "[3, 2, 1, 4, 5, 6]\n"
     ]
    },
    {
     "data": {
      "text/plain": [
       "5"
      ]
     },
     "execution_count": 452,
     "metadata": {},
     "output_type": "execute_result"
    }
   ],
   "source": [
    "''' \n",
    "Input: nums = [3,2,1,5,6,4], k = 2\n",
    "Output: 5\n",
    "'''\n",
    "import heapq\n",
    "\n",
    "def findKthLargest(nums: List[int], k: int) -> int:\n",
    "    l = [-num for num in nums]\n",
    "    heapq.heapify(l)\n",
    "    while k > 0:\n",
    "        res = -heapq.heappop(l)\n",
    "        k -= 1\n",
    "    return res\n",
    "\n",
    "def findKthLargest1(nums: List[int], k: int) -> int:\n",
    "    k = len(nums) - k\n",
    "\n",
    "    def quickSelect(left, right):            \n",
    "        pivot = nums[right]\n",
    "        low = left\n",
    "        high = right\n",
    "\n",
    "        while low <= high:\n",
    "            while low <= high and nums[low] < pivot:\n",
    "                low += 1\n",
    "            while low <= high and nums[high] > pivot:\n",
    "                high -= 1\n",
    "            if low <= high:\n",
    "                nums[low], nums[high] = nums[high], nums[low]\n",
    "                low += 1\n",
    "                high -= 1\n",
    "        print(pivot)\n",
    "        print(nums)\n",
    "        if k <= high:\n",
    "            return quickSelect(left, high)\n",
    "        elif k >= low:\n",
    "            return quickSelect(low, right)\n",
    "        else:\n",
    "            return nums[k]\n",
    "\n",
    "    return quickSelect(0, len(nums) - 1)\n",
    "\n",
    "\n",
    "findKthLargest1(nums = [3,2,1,5,6,4], k = 2)\n"
   ]
  },
  {
   "cell_type": "code",
   "execution_count": 461,
   "id": "d02218e2",
   "metadata": {},
   "outputs": [
    {
     "data": {
      "text/plain": [
       "[3, 4]"
      ]
     },
     "execution_count": 461,
     "metadata": {},
     "output_type": "execute_result"
    }
   ],
   "source": [
    "''' \n",
    "Input: nums = [5,7,7,8,8,10], target = 8\n",
    "Output: [3,4]\n",
    "'''\n",
    "from typing import List, Optional \n",
    "\n",
    "class Solution:\n",
    "    def searchRange(self, nums: List[int], target: int) -> List[int]:\n",
    "        left = self.binary_search(nums, 0, len(nums) - 1, target, True)\n",
    "        right = self.binary_search(nums, 0, len(nums) - 1, target, False)\n",
    "        return [left, right]\n",
    "\n",
    "    def binary_search(self, nums, left, right, target, left_mod):\n",
    "        res = -1\n",
    "        while left <= right:\n",
    "            mid = left + (right - left) // 2 \n",
    "            if target < nums[mid]:\n",
    "                right = mid - 1\n",
    "            elif target > nums[mid]:\n",
    "                left = mid + 1\n",
    "            else:\n",
    "                res = mid \n",
    "                if left_mod:\n",
    "                    right = mid - 1\n",
    "                else:\n",
    "                    left = mid + 1\n",
    "        return res\n",
    "Solution().searchRange([5,7,7,8,8,10], target = 8)"
   ]
  },
  {
   "cell_type": "code",
   "execution_count": 463,
   "id": "f9959490",
   "metadata": {},
   "outputs": [
    {
     "data": {
      "text/plain": [
       "4"
      ]
     },
     "execution_count": 463,
     "metadata": {},
     "output_type": "execute_result"
    }
   ],
   "source": [
    "''' \n",
    "Input: nums = [4,5,6,7,0,1,2], target = 0\n",
    "Output: 4\n",
    "'''\n",
    "\n",
    "class Solution:\n",
    "    def search(self, nums: List[int], target: int) -> int:\n",
    "        return self.binary_search(nums, 0, len(nums) - 1, target)\n",
    "    \n",
    "    def binary_search(self, nums, left, right, target):\n",
    "        if left > right:\n",
    "            return -1 \n",
    "        \n",
    "        mid = left + (right - left) // 2\n",
    "        if nums[mid] == target:\n",
    "            return mid \n",
    "        if nums[mid] > nums[left]:\n",
    "            if nums[left] <= target <= nums[mid]:\n",
    "                return self.binary_search(nums, left, mid, target)\n",
    "            else:\n",
    "                return self.binary_search(nums, mid + 1, right, target)\n",
    "        else:\n",
    "            if nums[mid] <= target <= nums[right]:\n",
    "                return self.binary_search(nums, mid, right, target)\n",
    "            else:\n",
    "                return self.binary_search(nums, left, mid, target)\n",
    "            \n",
    "Solution().search([4,5,6,7,0,1,2], target = 0)\n",
    "            \n"
   ]
  },
  {
   "cell_type": "code",
   "execution_count": 465,
   "id": "4573ce59",
   "metadata": {},
   "outputs": [
    {
     "data": {
      "text/plain": [
       "2"
      ]
     },
     "execution_count": 465,
     "metadata": {},
     "output_type": "execute_result"
    }
   ],
   "source": [
    "''' \n",
    "Input: nums = [1,2,3,1]\n",
    "Output: 2\n",
    "Explanation: 3 is a peak element and your function should return the index number 2.\n",
    "'''\n",
    "\n",
    "class Solution:\n",
    "    def findPeakElement(self, nums: List[int]) -> int:\n",
    "        left, right = 0, len(nums) - 1\n",
    "        while left < right:\n",
    "            mid = left + (right - left) // 2\n",
    "            if nums[mid] > nums[mid + 1]:\n",
    "                right = mid \n",
    "            else:\n",
    "                left = mid + 1\n",
    "        return right \n",
    "\n",
    "Solution().findPeakElement([1, 2, 3, 1])"
   ]
  },
  {
   "cell_type": "code",
   "execution_count": 6,
   "metadata": {},
   "outputs": [
    {
     "data": {
      "text/plain": [
       "4"
      ]
     },
     "execution_count": 6,
     "metadata": {},
     "output_type": "execute_result"
    }
   ],
   "source": [
    "''' \n",
    "Input: piles = [3,6,7,11], h = 8\n",
    "Output: 4\n",
    "'''\n",
    "import math\n",
    "class Solution:\n",
    "    def minEatingSpeed(self, piles, h):\n",
    "        left = 1\n",
    "        right = max(piles)\n",
    "        res = right \n",
    "        while left < right:\n",
    "            mid = left + (right - left) // 2\n",
    "            hours = 0\n",
    "            for pile in piles:\n",
    "                hours += math.ceil(pile / mid) \n",
    "            if hours <= h:\n",
    "                res = min(res, mid)\n",
    "                right = mid - 1\n",
    "            else:\n",
    "                left = mid + 1\n",
    "        return res\n",
    "\n",
    "Solution().minEatingSpeed([3,6,7,11], h = 8)"
   ]
  },
  {
   "cell_type": "code",
   "execution_count": 7,
   "id": "a1312660",
   "metadata": {},
   "outputs": [
    {
     "data": {
      "text/plain": [
       "4"
      ]
     },
     "execution_count": 7,
     "metadata": {},
     "output_type": "execute_result"
    }
   ],
   "source": [
    "''' \n",
    "Input: piles = [3,6,7,11], h = 8\n",
    "Output: 4\n",
    "'''\n",
    "import math\n",
    "class Solution:\n",
    "    def minEatingSpeed(self, piles, h):\n",
    "        l = 1 \n",
    "        r = max(piles)\n",
    "        res = r \n",
    "        while l < r:\n",
    "            mid = l + (r - l) // 2\n",
    "            hours = 0\n",
    "            for pile in piles:\n",
    "                hours += math.ceil(pile / mid)\n",
    "            if hours <= h:\n",
    "                res = min(res, mid)\n",
    "                r = mid - 1\n",
    "            else:\n",
    "                l = mid + 1\n",
    "        return res\n",
    "    \n",
    "Solution().minEatingSpeed([3,6,7,11], h = 8)\n"
   ]
  },
  {
   "cell_type": "code",
   "execution_count": 13,
   "id": "6695ca8f",
   "metadata": {},
   "outputs": [
    {
     "data": {
      "text/plain": [
       "True"
      ]
     },
     "execution_count": 13,
     "metadata": {},
     "output_type": "execute_result"
    }
   ],
   "source": [
    "''' \n",
    "Input: matrix = [[1,3,5,7],[10,11,16,20],[23,30,34,60]], target = 3\n",
    "Output: true\n",
    "\n",
    "'''\n",
    "\n",
    "from typing import List, Optional\n",
    "\n",
    "class Solution:\n",
    "    def searchMatrix(self, matrix: List[List[int]], target: int) -> bool:\n",
    "        row = self.find_pottential_row(matrix, target)\n",
    "        if row != -1:\n",
    "            return self.binary_search(row, matrix, target)\n",
    "        return False\n",
    "\n",
    "    def find_pottential_row(self, matrix, target):\n",
    "        left = 0 \n",
    "        right = len(matrix) - 1\n",
    "        while left <= right:\n",
    "            mid = left + (right - left) // 2\n",
    "            if matrix[mid][0] <= target <= matrix[mid][-1]:\n",
    "                return mid \n",
    "            elif  matrix[mid][0] < target:\n",
    "                left = mid + 1\n",
    "            else:\n",
    "                right = mid - 1\n",
    "        return -1\n",
    "\n",
    "    def binary_search(self, row, matrix, target):\n",
    "        left = 0\n",
    "        right = len(matrix[row])\n",
    "        while left <= right:\n",
    "            mid = left + (right - left) // 2\n",
    "            if matrix[row][mid] == target:\n",
    "                return True \n",
    "            elif matrix[row][mid] > target:\n",
    "                right = mid - 1\n",
    "            else:\n",
    "                left = mid + 1\n",
    "        return False\n",
    "\n",
    "Solution().searchMatrix(matrix = [[1,3,5,7],[10,11,16,20],[23,30,34,60]], target = 3)"
   ]
  },
  {
   "cell_type": "code",
   "execution_count": null,
   "id": "8021bdd0",
   "metadata": {},
   "outputs": [],
   "source": []
  }
 ],
 "metadata": {
  "kernelspec": {
   "display_name": "Python 3",
   "language": "python",
   "name": "python3"
  },
  "language_info": {
   "codemirror_mode": {
    "name": "ipython",
    "version": 3
   },
   "file_extension": ".py",
   "mimetype": "text/x-python",
   "name": "python",
   "nbconvert_exporter": "python",
   "pygments_lexer": "ipython3",
   "version": "3.12.6"
  }
 },
 "nbformat": 4,
 "nbformat_minor": 5
}
