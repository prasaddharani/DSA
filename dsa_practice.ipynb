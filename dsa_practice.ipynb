{
 "cells": [
  {
   "cell_type": "code",
   "execution_count": 1,
   "id": "58a2679e",
   "metadata": {},
   "outputs": [
    {
     "data": {
      "text/plain": [
       "4"
      ]
     },
     "execution_count": 1,
     "metadata": {},
     "output_type": "execute_result"
    }
   ],
   "source": [
    "''' \n",
    "Input: nums = [1,2,3,1]\n",
    "Output: 4\n",
    "Explanation: Rob house 1 (money = 1) and then rob house 3 (money = 3).\n",
    "Total amount you can rob = 1 + 3 = 4.\n",
    "'''\n",
    "from typing import List\n",
    "class Solution:\n",
    "    def rob(self, nums: List[int]) -> int:\n",
    "        n = len(nums)\n",
    "        if n < 2:\n",
    "            return nums[0]\n",
    "        dp = [0] * n \n",
    "        dp[0] = nums[0]\n",
    "        dp[1] = max(nums[0], nums[1])\n",
    "        for i in range(2, n):\n",
    "            dp[i] = max(dp[i - 1], dp[i - 2] + nums[i])\n",
    "        return dp[-1]\n",
    "    \n",
    "solution = Solution()\n",
    "solution.rob([1, 2, 3, 1])\n"
   ]
  },
  {
   "cell_type": "code",
   "execution_count": 5,
   "id": "2a36c8f3",
   "metadata": {},
   "outputs": [
    {
     "name": "stdout",
     "output_type": "stream",
     "text": [
      "[2, 3]\n",
      "[3, 2]\n"
     ]
    },
    {
     "data": {
      "text/plain": [
       "3"
      ]
     },
     "execution_count": 5,
     "metadata": {},
     "output_type": "execute_result"
    }
   ],
   "source": [
    "''' \n",
    "Input: nums = [2,3,2]\n",
    "Output: 3\n",
    "'''\n",
    "class Solution:\n",
    "    def rob(self, nums: List[int]) -> int:\n",
    "        n = len(nums)\n",
    "        exclude_last = self.rob_helper(nums[:n - 1])\n",
    "        exclude_first = self.rob_helper(nums[1:])\n",
    "        return max(exclude_first, exclude_last)\n",
    "\n",
    "    def rob_helper(self, nums):\n",
    "        print(nums)\n",
    "        n = len(nums)\n",
    "        if n < 2:\n",
    "            return nums[0]\n",
    "        dp = [0] * n \n",
    "        dp[0] = nums[0]\n",
    "        dp[1] = max(nums[0], nums[1])\n",
    "        for i in range(2, n):\n",
    "            dp[i] = max(dp[i - 1], dp[i - 2] + nums[i])\n",
    "        return dp[-1]\n",
    "    \n",
    "solution = Solution()\n",
    "solution.rob([2, 3, 2])"
   ]
  },
  {
   "cell_type": "code",
   "execution_count": 11,
   "id": "f3873b2c",
   "metadata": {},
   "outputs": [
    {
     "data": {
      "text/plain": [
       "True"
      ]
     },
     "execution_count": 11,
     "metadata": {},
     "output_type": "execute_result"
    }
   ],
   "source": [
    "''' \n",
    "Input: nums = [1,5,11,5]\n",
    "Output: true\n",
    "Explanation: The array can be partitioned as [1, 5, 5] and [11].\n",
    "'''\n",
    "\n",
    "class Solution:\n",
    "    def canPartition(self, nums):\n",
    "        total = sum(nums)\n",
    "        if total % 2 != 0:\n",
    "            return False \n",
    "        \n",
    "        target = total // 2\n",
    "        dp = [False] * (target + 1)\n",
    "        dp[0] = True \n",
    "        for num in nums:\n",
    "            for i in range(target, num - 1, -1):\n",
    "                dp[i] = dp[i] or dp[i - num]\n",
    "        return dp[target]\n",
    "\n",
    "solution = Solution()\n",
    "solution.canPartition([1, 5, 11, 5])\n"
   ]
  },
  {
   "cell_type": "code",
   "execution_count": 15,
   "id": "4a9fdca3",
   "metadata": {},
   "outputs": [
    {
     "data": {
      "text/plain": [
       "3"
      ]
     },
     "execution_count": 15,
     "metadata": {},
     "output_type": "execute_result"
    }
   ],
   "source": [
    "''' \n",
    "Input: coins = [1,2,5], amount = 11\n",
    "Output: 3\n",
    "Explanation: 11 = 5 + 5 + 1\n",
    "'''\n",
    "\n",
    "class Solution:\n",
    "    def coinChange(self, coins: List[int], amount: int) -> int:\n",
    "        if amount < 0:\n",
    "            return 0\n",
    "        dp = [float('inf')] * (amount + 1)\n",
    "        dp[0] = 0\n",
    "        for i in range(1, amount + 1):\n",
    "            for coin in coins:\n",
    "                if coin <= i and dp[i - coin] != float('inf'):\n",
    "                    dp[i] = min(dp[i], 1 + dp[i - coin])\n",
    "        return dp[-1]\n",
    "solution = Solution()\n",
    "solution.coinChange([1, 2, 5], 11)"
   ]
  },
  {
   "cell_type": "code",
   "execution_count": 17,
   "id": "d7c5d480",
   "metadata": {},
   "outputs": [
    {
     "data": {
      "text/plain": [
       "4"
      ]
     },
     "execution_count": 17,
     "metadata": {},
     "output_type": "execute_result"
    }
   ],
   "source": [
    "''' \n",
    "Input: nums = [10,9,2,5,3,7,101,18]\n",
    "Output: 4\n",
    "Explanation: The longest increasing subsequence is [2,3,7,101], therefore the length is 4.\n",
    "'''\n",
    "\n",
    "class Solution:\n",
    "    def lengthOfLIS(self, nums: List[int]) -> int:\n",
    "        dp = [1] * len(nums)\n",
    "        for i in range(len(nums)):\n",
    "            for j in range(i):\n",
    "                if nums[i] > nums[j] and dp[i] >= dp[j]:\n",
    "                    dp[i] = 1 + dp[j]\n",
    "        return max(dp)\n",
    "    \n",
    "solution = Solution()\n",
    "solution.lengthOfLIS([10,9,2,5,3,7,101,18])"
   ]
  },
  {
   "cell_type": "code",
   "execution_count": 23,
   "id": "bd49bdc9",
   "metadata": {},
   "outputs": [
    {
     "data": {
      "text/plain": [
       "3"
      ]
     },
     "execution_count": 23,
     "metadata": {},
     "output_type": "execute_result"
    }
   ],
   "source": [
    "''' \n",
    "Input: text1 = \"abcde\", text2 = \"ace\" \n",
    "Output: 3  \n",
    "Explanation: The longest common subsequence is \"ace\" and its length is 3.\n",
    "'''\n",
    "\n",
    "class Solution:\n",
    "    def longestCommonSubsequence(self, text1: str, text2: str) -> int:\n",
    "        dp = [[0 for _ in range(len(text2) + 1)] for _ in range(len(text1) + 1)]\n",
    "        for i in range(1, len(text1) + 1):\n",
    "            for j in range(1, len(text2) + 1):\n",
    "                if text1[i - 1] == text2[j - 1]:\n",
    "                    dp[i][j] = 1 + dp[i - 1][j - 1]\n",
    "                else:\n",
    "                    dp[i][j] = max(dp[i - 1][j], dp[i][j - 1])\n",
    "        return dp[-1][-1]\n",
    "solution = Solution()\n",
    "solution.longestCommonSubsequence(\"abcde\", \"ace\")"
   ]
  },
  {
   "cell_type": "code",
   "execution_count": 25,
   "id": "ddb495fb",
   "metadata": {},
   "outputs": [
    {
     "data": {
      "text/plain": [
       "[[0, 0, 0, 0],\n",
       " [0, 0, 0, 0],\n",
       " [0, 0, 0, 0],\n",
       " [0, 0, 0, 0],\n",
       " [0, 0, 0, 0],\n",
       " [0, 0, 0, 0]]"
      ]
     },
     "execution_count": 25,
     "metadata": {},
     "output_type": "execute_result"
    }
   ],
   "source": [
    "text1 = 'abcde'\n",
    "text2 = 'ace'\n",
    "dp = [[0 for _ in range(len(text2) + 1)] for _ in range(len(text1) + 1)]\n",
    "dp"
   ]
  },
  {
   "cell_type": "code",
   "execution_count": 31,
   "id": "9641b76c",
   "metadata": {},
   "outputs": [
    {
     "name": "stdout",
     "output_type": "stream",
     "text": [
      "cat True\n",
      "[True, False, False, True, False, False, False, False, False, False]\n",
      "catsandog\n",
      "cats True\n",
      "[True, False, False, True, True, False, False, False, False, False]\n",
      "catsandog\n",
      "sand True\n",
      "[True, False, False, True, True, False, False, True, False, False]\n",
      "catsandog\n"
     ]
    },
    {
     "data": {
      "text/plain": [
       "False"
      ]
     },
     "execution_count": 31,
     "metadata": {},
     "output_type": "execute_result"
    }
   ],
   "source": [
    "''' \n",
    "Input: s = \"applepenapple\", wordDict = [\"apple\",\"pen\"]\n",
    "Output: true\n",
    "Explanation: Return true because \"applepenapple\" can be segmented as \"apple pen apple\".\n",
    "Note that you are allowed to reuse a dictionary word.\n",
    "\n",
    "Input: s = \"catsandog\", wordDict = [\"cats\",\"dog\",\"sand\",\"and\",\"cat\"]\n",
    "Output: false\n",
    "'''\n",
    "\n",
    "class Solution:\n",
    "    def wordBreak(self, s: str, wordDict: List[str]) -> bool:\n",
    "        wordDict = set(wordDict)\n",
    "        dp = [False] * (len(s) + 1)\n",
    "        dp[0] = True\n",
    "        max_len = max(map(len, wordDict))\n",
    "        for i in range(len(s) + 1):\n",
    "            for j in range(max(0, i - max_len), i):\n",
    "                if s[j:i] in wordDict and dp[j]:\n",
    "                    dp[i] = True \n",
    "                    print(s[j:i], dp[j])\n",
    "                    print(dp)\n",
    "                    print(s)\n",
    "                    break\n",
    "        return dp[-1]\n",
    "solution = Solution()\n",
    "solution.wordBreak(\"catsandog\", wordDict = [\"cats\",\"dog\",\"sand\",\"and\",\"cat\"])\n",
    "\n"
   ]
  },
  {
   "cell_type": "code",
   "execution_count": 33,
   "id": "104b7756",
   "metadata": {},
   "outputs": [
    {
     "data": {
      "text/plain": [
       "7"
      ]
     },
     "execution_count": 33,
     "metadata": {},
     "output_type": "execute_result"
    }
   ],
   "source": [
    "''' \n",
    "Input: grid = [[1,3,1],[1,5,1],[4,2,1]]\n",
    "Output: 7\n",
    "Explanation: Because the path 1 → 3 → 1 → 1 → 1 minimizes the sum.\n",
    "\n",
    "      0     1     2     3\n",
    "   -------------------------\n",
    "0 | inf | inf | inf | inf |\n",
    "1 | inf | inf | inf | inf |\n",
    "2 | inf | inf | inf |  0  | ← dp[2][3] is now 0\n",
    "3 | inf | inf | inf | inf |\n",
    "\n",
    "'''\n",
    "\n",
    "class Solution:\n",
    "    def minPathSum(self, grid: List[List[int]]) -> int:\n",
    "        rows = len(grid)\n",
    "        cols = len(grid[0])\n",
    "        dp = [[float('inf') for _ in range(cols + 1)] for _ in range(rows + 1)]\n",
    "        dp[rows - 1][cols] = 0\n",
    "        for i in range(rows - 1, -1, -1):\n",
    "            for j in range(cols - 1, -1 , -1):\n",
    "                dp[i][j] = grid[i][j] + min(dp[i + 1][j], dp[i][j + 1])\n",
    "        return dp[0][0]\n",
    "    \n",
    "solution = Solution()\n",
    "solution.minPathSum([[1,3,1],[1,5,1],[4,2,1]])"
   ]
  },
  {
   "cell_type": "code",
   "execution_count": 36,
   "id": "3903f3ad",
   "metadata": {},
   "outputs": [
    {
     "data": {
      "text/plain": [
       "4"
      ]
     },
     "execution_count": 36,
     "metadata": {},
     "output_type": "execute_result"
    }
   ],
   "source": [
    "''' \n",
    "Input: matrix = [[9,9,4],[6,6,8],[2,1,1]]\n",
    "Output: 4\n",
    "Explanation: The longest increasing path is [1, 2, 6, 9].\n",
    "'''\n",
    "\n",
    "class Solution:\n",
    "    def longestIncreasingPath(self, matrix: List[List[int]]) -> int:\n",
    "        rows = len(matrix)\n",
    "        cols = len(matrix[0])\n",
    "        dp = {}\n",
    "\n",
    "        directions = [(0, 1), (1, 0), (0, -1), (-1, 0)]\n",
    "\n",
    "        def dfs(r, c):\n",
    "            if (r, c) in dp:\n",
    "                return dp[(r, c)]\n",
    "            \n",
    "            max_len = 1\n",
    "            for dr, dc in directions:\n",
    "                nr, nc = r + dr, c + dc \n",
    "                if 0 <= nr < rows and 0 <= nc < cols and matrix[nr][nc] > matrix[r][c]:\n",
    "                    max_len = max(max_len, 1 + dfs(nr, nc))\n",
    "            dp[(r, c)] = max_len\n",
    "            return max_len \n",
    "        \n",
    "        return max(dfs(r, c) for r in range(rows) for c in range(cols))\n",
    "    \n",
    "solution = Solution()\n",
    "solution.longestIncreasingPath([[9,9,4],[6,6,8],[2,1,1]])"
   ]
  },
  {
   "cell_type": "code",
   "execution_count": 40,
   "id": "ce5cca6e",
   "metadata": {},
   "outputs": [
    {
     "data": {
      "text/plain": [
       "4"
      ]
     },
     "execution_count": 40,
     "metadata": {},
     "output_type": "execute_result"
    }
   ],
   "source": [
    "class Solution:\n",
    "    def longestIncreasingPath(self, matrix: List[List[int]]) -> int:\n",
    "        rows = len(matrix)\n",
    "        cols = len(matrix[0])\n",
    "        dp = {}\n",
    "        directions = [(0, 1), (1, 0), (0, -1), (-1, 0)]\n",
    "        def dfs(r, c):\n",
    "            if (r, c) in dp:\n",
    "                return dp[(r, c)]\n",
    "\n",
    "            max_len = 1 \n",
    "            for dr, dc in directions:\n",
    "                nr, nc = r + dr, c + dc\n",
    "                if 0 <= nr < rows and 0 <= nc < cols and matrix[nr][nc] > matrix[r][c]:\n",
    "                    max_len = max(max_len, 1 + dfs(nr, nc))\n",
    "            dp[(r, c)] = max_len\n",
    "            return max_len\n",
    "        \n",
    "        return max(dfs(r, c) for r in range(rows) for c in range(cols))\n",
    "\n",
    "\n",
    "solution = Solution()\n",
    "solution.longestIncreasingPath([[9,9,4],[6,6,8],[2,1,1]])"
   ]
  },
  {
   "cell_type": "code",
   "execution_count": 42,
   "id": "20db2fad",
   "metadata": {},
   "outputs": [
    {
     "data": {
      "text/plain": [
       "3"
      ]
     },
     "execution_count": 42,
     "metadata": {},
     "output_type": "execute_result"
    }
   ],
   "source": [
    "''' \n",
    "Input: coins = [1,2,5], amount = 11\n",
    "Output: 3\n",
    "Explanation: 11 = 5 + 5 + 1\n",
    "'''\n",
    "\n",
    "class Solution:\n",
    "    def coinChange(self, coins: List[int], amount: int) -> int:\n",
    "        if amount < 0:\n",
    "            return 0 \n",
    "        dp = [float('inf')] * (amount + 1)\n",
    "        dp[0] = 0\n",
    "\n",
    "        for i in range(amount + 1):\n",
    "            for coin in coins:\n",
    "                if i >= coin and dp[i - coin] != float('inf'):\n",
    "                    dp[i] = min(dp[i], 1 + dp[i - coin])\n",
    "        return dp[-1]\n",
    "\n",
    "solution = Solution()\n",
    "solution.coinChange([1, 2, 5], 11)"
   ]
  },
  {
   "cell_type": "code",
   "execution_count": 48,
   "id": "9af68aae",
   "metadata": {},
   "outputs": [
    {
     "data": {
      "text/plain": [
       "4"
      ]
     },
     "execution_count": 48,
     "metadata": {},
     "output_type": "execute_result"
    }
   ],
   "source": [
    "''' \n",
    "Input: nums = [10,9,2,5,3,7,101,18]\n",
    "Output: 4\n",
    "Explanation: The longest increasing subsequence is [2,3,7,101], therefore the length is 4.\n",
    "'''\n",
    "\n",
    "class Solution:\n",
    "    def lengthOfLIS(self, nums: List[int]) -> int:\n",
    "        n = len(nums)\n",
    "        dp = [1] * n\n",
    "        for i in range(1, n):\n",
    "            for j in range(i):\n",
    "                if nums[i] > nums[j] and dp[j] >= dp[i]:\n",
    "                    dp[i] = 1 + dp[j] \n",
    "        return max(dp)\n",
    "    \n",
    "solution = Solution()\n",
    "solution.lengthOfLIS([10,9,2,5,3,7,101,18])\n"
   ]
  },
  {
   "cell_type": "code",
   "execution_count": 50,
   "id": "a4f81dc4",
   "metadata": {},
   "outputs": [
    {
     "data": {
      "text/plain": [
       "3"
      ]
     },
     "execution_count": 50,
     "metadata": {},
     "output_type": "execute_result"
    }
   ],
   "source": [
    "''' \n",
    "Input: text1 = \"abcde\", text2 = \"ace\" \n",
    "Output: 3  \n",
    "Explanation: The longest common subsequence is \"ace\" and its length is 3.\n",
    "'''\n",
    "\n",
    "class Solution:\n",
    "    def longestCommonSubsequence(self, text1: str, text2: str) -> int:\n",
    "        dp = [[0 for _ in range(len(text2) + 1)] for _ in range(len(text1) + 1)]\n",
    "        for i in range(1, len(text1) + 1):\n",
    "            for j in range(1, len(text2) + 1):\n",
    "                if text1[i - 1] == text2[j - 1]:\n",
    "                    dp[i][j] = 1 + dp[i - 1][j - 1]\n",
    "                else:\n",
    "                    dp[i][j] = max(dp[i - 1][j], dp[i][j - 1])\n",
    "        return dp[-1][-1]\n",
    "    \n",
    "solution = Solution()\n",
    "solution.longestCommonSubsequence(\"abcde\", \"ace\")"
   ]
  },
  {
   "cell_type": "code",
   "execution_count": 54,
   "id": "139c4ff8",
   "metadata": {},
   "outputs": [
    {
     "data": {
      "text/plain": [
       "True"
      ]
     },
     "execution_count": 54,
     "metadata": {},
     "output_type": "execute_result"
    }
   ],
   "source": [
    "''' \n",
    "Input: nums = [1,5,11,5]\n",
    "Output: true\n",
    "Explanation: The array can be partitioned as [1, 5, 5] and [11].\n",
    "'''\n",
    "\n",
    "class Solution:\n",
    "    def canPartition(self, nums):\n",
    "        total = sum(nums) \n",
    "\n",
    "        if total % 2 != 0:\n",
    "            return False \n",
    "        \n",
    "        target = total // 2\n",
    "        \n",
    "        dp = [False] * (target + 1)\n",
    "        dp[0] = True \n",
    "        for num in nums:\n",
    "            for i in range(target, -1, -1):\n",
    "                dp[i] = dp[i] or dp[i - num]\n",
    "        return dp[target]\n",
    "        \n",
    "solution = Solution()\n",
    "solution.canPartition([1, 5 , 11, 5])"
   ]
  },
  {
   "cell_type": "code",
   "execution_count": null,
   "id": "30fe3b0d",
   "metadata": {},
   "outputs": [
    {
     "data": {
      "text/plain": [
       "321"
      ]
     },
     "execution_count": 63,
     "metadata": {},
     "output_type": "execute_result"
    }
   ],
   "source": [
    "class Solution:\n",
    "    def reverse(self, x: int) -> int:\n",
    "        sign = -1 if x < 0 else 1 \n",
    "        x = abs(x)\n",
    "        rev = 0\n",
    "        MAX_INT = 2 ** 31 - 1\n",
    "\n",
    "        while x != 0:\n",
    "            rem = x % 10 \n",
    "            if rev > MAX_INT // 10:  # if  rev * 10 > MAX_INT\n",
    "                return 0\n",
    "            rev = (rev * 10) + rem \n",
    "            x = x // 10 \n",
    "        return rev * sign\n",
    "    \n",
    "solution = Solution()\n",
    "solution.reverse(123)"
   ]
  },
  {
   "cell_type": "code",
   "execution_count": 71,
   "id": "7648943f",
   "metadata": {},
   "outputs": [
    {
     "data": {
      "text/plain": [
       "3"
      ]
     },
     "execution_count": 71,
     "metadata": {},
     "output_type": "execute_result"
    }
   ],
   "source": [
    "''' \n",
    "Input: points = [[1,1],[2,2],[3,3]]\n",
    "Output: 3\n",
    "'''\n",
    "\n",
    "class Solution:\n",
    "    def maxPoints(self, points: List[List[int]]) -> int:\n",
    "        res = 1\n",
    "        for i in range(len(points)):\n",
    "            p1 = points[i]\n",
    "            count = {}\n",
    "            for j in range(i + 1, len(points)):\n",
    "                p2 = points[j]\n",
    "                if p1[0] == p2[0]:\n",
    "                    slope = float('inf')\n",
    "                else:\n",
    "                    slope = (p2[1] - p1[1]) / (p2[0] - p1[0])\n",
    "                count[slope] = 1 + count.get(slope, 0)\n",
    "                res = max(res, 1 + count[slope])\n",
    "        return res \n",
    "    \n",
    "solution = Solution()\n",
    "solution.maxPoints([[1,1],[2,2],[3,3]])"
   ]
  },
  {
   "cell_type": "code",
   "execution_count": 73,
   "id": "4bafa7d7",
   "metadata": {},
   "outputs": [
    {
     "data": {
      "text/plain": [
       "True"
      ]
     },
     "execution_count": 73,
     "metadata": {},
     "output_type": "execute_result"
    }
   ],
   "source": [
    "from typing import List\n",
    "\n",
    "class Solution:\n",
    "    def canJump(self, nums: List[int]) -> bool:\n",
    "        max_reach = 0 \n",
    "        for i in range(len(nums)):\n",
    "            if max_reach < i:\n",
    "                return False \n",
    "            \n",
    "            max_reach = max(max_reach, i + nums[i])\n",
    "            if max_reach >= len(nums) - 1:\n",
    "                return True \n",
    "        return True \n",
    "\n",
    "\n",
    "nums = [2,3,1,1,4]\n",
    "solution = Solution()\n",
    "solution.canJump(nums)"
   ]
  },
  {
   "cell_type": "code",
   "execution_count": 78,
   "id": "a97a5e29",
   "metadata": {},
   "outputs": [
    {
     "data": {
      "text/plain": [
       "2"
      ]
     },
     "execution_count": 78,
     "metadata": {},
     "output_type": "execute_result"
    }
   ],
   "source": [
    "from typing import List\n",
    "\n",
    "class Solution:\n",
    "    def canJump(self, nums: List[int]) -> bool:\n",
    "        max_reach = 0 \n",
    "        current_jump_end = 0\n",
    "        count = 0\n",
    "        for i in range(len(nums)):\n",
    "            max_reach = max(max_reach, i + nums[i])\n",
    "            if current_jump_end == i:\n",
    "                current_jump_end = max_reach\n",
    "                count += 1\n",
    "                \n",
    "            if current_jump_end >= len(nums) - 1:\n",
    "                return count \n",
    "        return count \n",
    "\n",
    "\n",
    "nums = [2,3,1,1,4]\n",
    "solution = Solution()\n",
    "solution.canJump(nums)"
   ]
  },
  {
   "cell_type": "code",
   "execution_count": 79,
   "id": "210d2959",
   "metadata": {},
   "outputs": [
    {
     "data": {
      "text/plain": [
       "3"
      ]
     },
     "execution_count": 79,
     "metadata": {},
     "output_type": "execute_result"
    }
   ],
   "source": [
    "''' \n",
    "Input: gas = [1,2,3,4,5], cost = [3,4,5,1,2]\n",
    "Output: 3\n",
    "'''\n",
    "\n",
    "class Solution:\n",
    "    def canCompleteCircuit(self, gas: List[int], cost: List[int]) -> int:\n",
    "        total_gas = 0 \n",
    "        current_gas = 0\n",
    "        start_station = 0 \n",
    "\n",
    "        for i in range(len(gas)):\n",
    "            balance = gas[i] - cost[i]\n",
    "            total_gas += balance \n",
    "            current_gas += balance \n",
    "\n",
    "            if balance < 0:\n",
    "                start_station = i + 1\n",
    "                balance = 0 \n",
    "                current_gas = 0\n",
    "        return start_station if total_gas >=0 else -1\n",
    "    \n",
    "solution = Solution()\n",
    "solution.canCompleteCircuit(gas = [1,2,3,4,5], cost = [3,4,5,1,2])\n",
    "\n"
   ]
  },
  {
   "cell_type": "code",
   "execution_count": 81,
   "id": "f00d1f92",
   "metadata": {},
   "outputs": [
    {
     "data": {
      "text/plain": [
       "8"
      ]
     },
     "execution_count": 81,
     "metadata": {},
     "output_type": "execute_result"
    }
   ],
   "source": [
    "from collections import Counter, deque\n",
    "import heapq\n",
    "\n",
    "class Solution:\n",
    "    def leastInterval(self, tasks: List[str], n: int) -> int:\n",
    "        counter = Counter(tasks)\n",
    "        max_heap = [-cnt for cnt in counter.values()]\n",
    "        heapq.heapify(max_heap)\n",
    "        queue = deque() \n",
    "        time = 0\n",
    "        while max_heap or queue:\n",
    "            time += 1\n",
    "            if max_heap:\n",
    "                cnt = 1 + heapq.heappop(max_heap)\n",
    "                if cnt:\n",
    "                    queue.append([cnt, time + n])\n",
    "                \n",
    "            if queue and queue[0][1] <= time:\n",
    "                heapq.heappush(max_heap, queue.popleft()[0])\n",
    "        return time\n",
    "    \n",
    "solution = Solution()\n",
    "solution.leastInterval([\"A\",\"A\",\"A\",\"B\",\"B\",\"B\"], n = 2)\n"
   ]
  },
  {
   "cell_type": "code",
   "execution_count": null,
   "id": "2eac2867",
   "metadata": {},
   "outputs": [],
   "source": []
  },
  {
   "cell_type": "code",
   "execution_count": null,
   "id": "97b0ed56",
   "metadata": {},
   "outputs": [
    {
     "data": {
      "text/plain": [
       "'IT'"
      ]
     },
     "execution_count": 86,
     "metadata": {},
     "output_type": "execute_result"
    }
   ],
   "source": [
    "''' \n",
    "[\"LRUCache\", \"put\", \"put\", \"get\", \"put\", \"get\", \"put\", \"get\", \"get\", \"get\"]\n",
    "[[2], [1, 1], [2, 2], [1], [3, 3], [2], [4, 4], [1], [3], [4]]\n",
    "Output\n",
    "[null, null, null, 1, null, -1, null, -1, 3, 4]\n",
    "'''\n",
    "\n",
    "class Node:\n",
    "    def __init__(self, key = 0, value = 0):\n",
    "        self.prev = None \n",
    "        self.key = key\n",
    "        self.value = value\n",
    "        self.next = None \n",
    "\n",
    "class LRUCache:\n",
    "    def __init__(self, capacity):\n",
    "        self.capacity = capacity\n",
    "        self.cache = {}\n",
    "        self.head = Node()\n",
    "        self.tail = Node()\n",
    "        self.head.next, self.tail.prev = self.tail, self.head\n",
    "\n",
    "    def add_to_the_front(self, node):\n",
    "        node.prev, node.next = self.head, self.head.next\n",
    "        self.head.next.prev = node\n",
    "        self.head.next = node\n",
    "\n",
    "    def remove(self, node):\n",
    "        prev_node, next_node = node.prev, node.next \n",
    "        prev_node.next, next_node.prev = next_node, prev_node\n",
    "\n",
    "\n",
    "    def get(self, key: int) -> int:\n",
    "        if key in self.cache:\n",
    "            node = self.cache[key]\n",
    "            self.remove(node)\n",
    "            self.add_to_the_front(node)\n",
    "            return node.value\n",
    "        return -1\n",
    "\n",
    "    \n",
    "    def put(self, key: int, value: int) -> None:\n",
    "        if key in self.cache:\n",
    "            node = self.cache[key]\n",
    "            node.value = value \n",
    "            self.remove(node)\n",
    "            self.add_to_the_front(node)\n",
    "        else:\n",
    "            node = Node(key, value)\n",
    "            self.cache[key] = node\n",
    "            self.add_to_the_front(node)\n",
    "            if len(self.cache) > self.capacity:\n",
    "                lru_node = self.tail.prev\n",
    "                self.remove(lru_node)\n",
    "                del self.cache[lru_node.key]\n",
    "\n",
    "\n",
    "obj = LRUCache(3)\n",
    "obj.put('Name', 'Dharani')\n",
    "obj.put('Age', '25')\n",
    "obj.put('profession', 'IT')\n",
    "obj.put('profession', 'SMT')\n",
    "obj.get('profession')\n",
    "        "
   ]
  },
  {
   "cell_type": "code",
   "execution_count": 90,
   "id": "825fb6fe",
   "metadata": {},
   "outputs": [
    {
     "data": {
      "text/plain": [
       "[[1, 6], [8, 10], [15, 18]]"
      ]
     },
     "execution_count": 90,
     "metadata": {},
     "output_type": "execute_result"
    }
   ],
   "source": [
    "''' \n",
    "Input: intervals = [[1,3],[2,6],[8,10],[15,18]]\n",
    "Output: [[1,6],[8,10],[15,18]]\n",
    "Explanation: Since intervals [1,3] and [2,6] overlap, merge them into [1,6].\n",
    "'''\n",
    "\n",
    "from typing import List\n",
    "\n",
    "class Solution:\n",
    "    def merge(self, intervals: List[List[int]]) -> List[List[int]]:\n",
    "        res = []\n",
    "        intervals.sort()\n",
    "        res.append(intervals[0])\n",
    "        for s, e in intervals[1:]: \n",
    "            prev_end = res[-1][1]\n",
    "            if prev_end >= s:\n",
    "                res[-1][1] = max(prev_end, e)\n",
    "            else:\n",
    "                res.append([s, e])\n",
    "        return res \n",
    "    \n",
    "solution = Solution()\n",
    "solution.merge([[1,3],[2,6],[8,10],[15,18]])"
   ]
  },
  {
   "cell_type": "code",
   "execution_count": 102,
   "id": "bbb0656d",
   "metadata": {},
   "outputs": [
    {
     "data": {
      "text/plain": [
       "[[1, 2], [3, 10], [12, 16]]"
      ]
     },
     "execution_count": 102,
     "metadata": {},
     "output_type": "execute_result"
    }
   ],
   "source": [
    "''' \n",
    "Input: intervals = [[1,2],[3,5],[6,7],[8,10],[12,16]], newInterval = [4,8]\n",
    "Output: [[1,2],[3,10],[12,16]]\n",
    "Explanation: Because the new interval [4,8] overlaps with [3,5],[6,7],[8,10].\n",
    "'''\n",
    "\n",
    "class Solution:\n",
    "    def insert(self, intervals: List[List[int]], newInterval: List[int]) -> List[List[int]]:\n",
    "        res = []\n",
    "        for i in range(len(intervals)):\n",
    "            if newInterval[1] < intervals[i][0]:\n",
    "                res.append(newInterval)\n",
    "                return res + intervals[i:]\n",
    "            elif newInterval[0] > intervals[i][1]:\n",
    "                res.append(intervals[i])\n",
    "            else:\n",
    "                newInterval = [min(newInterval[0], intervals[i][0]), max(newInterval[1], intervals[i][1])]\n",
    "        res.append(newInterval)\n",
    "        return res \n",
    "\n",
    "solution = Solution()\n",
    "solution.insert([[1,2],[3,5],[6,7],[8,10],[12,16]], [4,8])"
   ]
  },
  {
   "cell_type": "code",
   "execution_count": 103,
   "id": "76402394",
   "metadata": {},
   "outputs": [
    {
     "data": {
      "text/plain": [
       "1"
      ]
     },
     "execution_count": 103,
     "metadata": {},
     "output_type": "execute_result"
    }
   ],
   "source": [
    "''' \n",
    "Input: intervals = [[1,2],[2,3],[3,4],[1,3]]\n",
    "Output: 1\n",
    "Explanation: [1,3] can be removed and the rest of the intervals are non-overlapping.\n",
    "'''\n",
    "\n",
    "class Solution:\n",
    "    def eraseOverlapIntervals(self, intervals: List[List[int]]) -> int:\n",
    "        intervals.sort()\n",
    "        prev_end = intervals[0][1]\n",
    "        count = 0\n",
    "        for start, end in intervals[1:]:\n",
    "            if start >= prev_end:\n",
    "                prev_end = end \n",
    "            else:\n",
    "                prev_end = min(prev_end, end)\n",
    "                count += 1 \n",
    "        return count \n",
    "    \n",
    "solution = Solution()\n",
    "solution.eraseOverlapIntervals([[1,2],[2,3],[3,4],[1,3]])"
   ]
  },
  {
   "cell_type": "code",
   "execution_count": 105,
   "id": "4501c653",
   "metadata": {},
   "outputs": [
    {
     "name": "stdout",
     "output_type": "stream",
     "text": [
      "[1, 1, 2, 3, 4, 4, 5, 6]\n"
     ]
    }
   ],
   "source": [
    "''' \n",
    "Input: lists = [[1,4,5],[1,3,4],[2,6]]\n",
    "Output: [1,1,2,3,4,4,5,6]\n",
    "Explanation: The linked-lists are:\n",
    "[\n",
    "  1->4->5,\n",
    "  1->3->4,\n",
    "  2->6\n",
    "]\n",
    "merging them into one sorted list:\n",
    "1->1->2->3->4->4->5->6\n",
    "'''\n",
    "\n",
    "from typing import List, Optional\n",
    "\n",
    "class ListNode:\n",
    "    def __init__(self, val=0, next=None):\n",
    "        self.val = val\n",
    "        self.next = next\n",
    "class Solution:\n",
    "    def mergeKLists(self, lists: List[Optional[ListNode]]) -> Optional[ListNode]:\n",
    "        while len(lists) > 1:\n",
    "            merged_list = []\n",
    "            for i in range(0, len(lists), 2):\n",
    "                l1 = lists[i]\n",
    "                l2 = lists[i + 1] if (i + 1) < len(lists) else None \n",
    "                merged_list.append(self.merge(l1, l2))\n",
    "            lists = merged_list\n",
    "\n",
    "        return lists[0]\n",
    "    \n",
    "\n",
    "    def merge(self, l1, l2):\n",
    "        dummy = ListNode()\n",
    "        curr = dummy \n",
    "        while l1 and l2:\n",
    "            if l1.val < l2.val:\n",
    "                curr.next = l1 \n",
    "                l1 = l1.next \n",
    "            else:\n",
    "                curr.next = l2 \n",
    "                l2 = l2.next \n",
    "            curr = curr.next \n",
    "        \n",
    "        if l1:\n",
    "            curr.next = l1 \n",
    "        \n",
    "        if l2:\n",
    "            curr.next = l2 \n",
    "        \n",
    "        return dummy.next\n",
    "    \n",
    "\n",
    "def build_linked_list(arr):\n",
    "    dummy = ListNode()\n",
    "    curr = dummy\n",
    "    for num in arr:\n",
    "        curr.next = ListNode(num)\n",
    "        curr = curr.next\n",
    "    return dummy.next\n",
    "\n",
    "def print_linked_list(head):\n",
    "    result = []\n",
    "    while head:\n",
    "        result.append(head.val)\n",
    "        head = head.next\n",
    "    print(result)\n",
    "\n",
    "\n",
    "lists = [[1,4,5],[1,3,4],[2,6]]\n",
    "linked_lists = [build_linked_list(lst) for lst in lists]\n",
    "\n",
    "solution = Solution()\n",
    "merged_head = solution.mergeKLists(linked_lists)\n",
    "print_linked_list(merged_head)  # Output should be [1,1,2,3,4,4,5,6]"
   ]
  },
  {
   "cell_type": "code",
   "execution_count": 120,
   "id": "2b090fe3",
   "metadata": {},
   "outputs": [
    {
     "data": {
      "text/plain": [
       "[3]"
      ]
     },
     "execution_count": 120,
     "metadata": {},
     "output_type": "execute_result"
    }
   ],
   "source": [
    "''' \n",
    "Input: nums = [1,1,1,2,2,3], k = 2\n",
    "Output: [1,2]\n",
    "'''\n",
    "import heapq\n",
    "from collections import Counter\n",
    "\n",
    "class Solution:\n",
    "    def topKFrequent(self, nums, k):\n",
    "        counter = Counter(nums)\n",
    "        min_heap = []\n",
    "        for key, value in counter.items():\n",
    "            heapq.heappush(min_heap, (value, key))\n",
    "            if len(min_heap) > k:\n",
    "                heapq.heappop(min_heap)\n",
    "        return [key for value, key in min_heap]\n",
    "\n",
    "solution = Solution()\n",
    "solution.topKFrequent(nums = [1,1,1,1, 2,2, 2, 2,3, 3, 3, 3], k = 1)"
   ]
  },
  {
   "cell_type": "code",
   "execution_count": 122,
   "id": "a9205d24",
   "metadata": {},
   "outputs": [
    {
     "data": {
      "text/plain": [
       "[[-2, 2]]"
      ]
     },
     "execution_count": 122,
     "metadata": {},
     "output_type": "execute_result"
    }
   ],
   "source": [
    "''' \n",
    "Input: points = [[1,3],[-2,2]], k = 1\n",
    "Output: [[-2,2]]\n",
    "Explanation:\n",
    "The distance between (1, 3) and the origin is sqrt(10).\n",
    "The distance between (-2, 2) and the origin is sqrt(8).\n",
    "Since sqrt(8) < sqrt(10), (-2, 2) is closer to the origin.\n",
    "We only want the closest k = 1 points from the origin, so the answer is just [[-2,2]].\n",
    "'''\n",
    "\n",
    "class Solution:\n",
    "    def kClosest(self, points: List[List[int]], k: int) -> List[List[int]]:\n",
    "        min_heap = []\n",
    "        for x, y in points:\n",
    "            dist = x * x + y * y \n",
    "            heapq.heappush(min_heap, (dist, x, y))\n",
    "        res = []\n",
    "        while k > 0:\n",
    "            dist, x, y = heapq.heappop(min_heap)\n",
    "            res.append([x, y])\n",
    "            k -= 1 \n",
    "\n",
    "        return res \n",
    "\n",
    "solution = Solution()\n",
    "solution.kClosest([[1,3],[-2,2]], k = 1)"
   ]
  },
  {
   "cell_type": "code",
   "execution_count": 123,
   "id": "96db3d45",
   "metadata": {},
   "outputs": [
    {
     "data": {
      "text/plain": [
       "5"
      ]
     },
     "execution_count": 123,
     "metadata": {},
     "output_type": "execute_result"
    }
   ],
   "source": [
    "''' \n",
    "Input:\n",
    "[\"KthLargest\", \"add\", \"add\", \"add\", \"add\", \"add\"]\n",
    "[[3, [4, 5, 8, 2]], [3], [5], [10], [9], [4]]\n",
    "\n",
    "Output: [null, 4, 5, 5, 8, 8]\n",
    "\n",
    "Explanation:\n",
    "\n",
    "KthLargest kthLargest = new KthLargest(3, [4, 5, 8, 2]);\n",
    "kthLargest.add(3); // return 4\n",
    "kthLargest.add(5); // return 5\n",
    "kthLargest.add(10); // return 5\n",
    "kthLargest.add(9); // return 8\n",
    "kthLargest.add(4); // return 8\n",
    "'''\n",
    "from typing import List\n",
    "import heapq\n",
    "\n",
    "class KthLargest:\n",
    "\n",
    "    def __init__(self, k: int, nums: List[int]):\n",
    "        self.min_heap = []\n",
    "        self.k = k\n",
    "        for num in nums:\n",
    "            heapq.heappush(self.min_heap, num)\n",
    "        \n",
    "        while len(self.min_heap) > k:\n",
    "            heapq.heappop(self.min_heap)\n",
    "\n",
    "    def add(self, num):\n",
    "        heapq.heappush(self.min_heap, num)\n",
    "        if len(self.min_heap) > self.k:\n",
    "            heapq.heappop(self.min_heap)\n",
    "        return self.min_heap[0]\n",
    "\n",
    "\n",
    "solution = KthLargest(3, [4, 5, 8, 2])\n",
    "solution.add(3)\n",
    "solution.add(5)"
   ]
  },
  {
   "cell_type": "code",
   "execution_count": 130,
   "id": "c51e883d",
   "metadata": {},
   "outputs": [
    {
     "data": {
      "text/plain": [
       "4"
      ]
     },
     "execution_count": 130,
     "metadata": {},
     "output_type": "execute_result"
    }
   ],
   "source": [
    "''' \n",
    "Input: heights = [4,2,7,6,9,14,12], bricks = 5, ladders = 1\n",
    "Output: 4\n",
    "Explanation: Starting at building 0, you can follow these steps:\n",
    "- Go to building 1 without using ladders nor bricks since 4 >= 2.\n",
    "- Go to building 2 using 5 bricks. You must use either bricks or ladders because 2 < 7.\n",
    "- Go to building 3 without using ladders nor bricks since 7 >= 6.\n",
    "- Go to building 4 using your only ladder. You must use either bricks or ladders because 6 < 9.\n",
    "It is impossible to go beyond building 4 because you do not have any more bricks or ladders.\n",
    "'''\n",
    "import heapq\n",
    "\n",
    "class Solution:\n",
    "\n",
    "    def furthestBuilding(self, heights, bricks, ladders):\n",
    "        min_heap = []\n",
    "        n = len(heights) - 1\n",
    "        for i in range(n - 1):\n",
    "            diff = heights[i + 1] - heights[i]\n",
    "            if diff < 0:\n",
    "                continue\n",
    "            \n",
    "            heapq.heappush(min_heap, diff)\n",
    "\n",
    "            if len(min_heap) > ladders:\n",
    "                bricks -= heapq.heappop(min_heap)\n",
    "            \n",
    "            if bricks < 0:\n",
    "                return i \n",
    "        return n \n",
    "\n",
    "solution = Solution()\n",
    "solution.furthestBuilding([4,2,7,6,9,14,12], 5, 1)"
   ]
  },
  {
   "cell_type": "code",
   "execution_count": 135,
   "id": "144394cc",
   "metadata": {},
   "outputs": [
    {
     "data": {
      "text/plain": [
       "[0, 2, 3, 1]"
      ]
     },
     "execution_count": 135,
     "metadata": {},
     "output_type": "execute_result"
    }
   ],
   "source": [
    "''' \n",
    "Input: tasks = [[1,2],[2,4],[3,2],[4,1]]\n",
    "Output: [0,2,3,1]\n",
    "Explanation: The events go as follows: \n",
    "- At time = 1, task 0 is available to process. Available tasks = {0}.\n",
    "- Also at time = 1, the idle CPU starts processing task 0. Available tasks = {}.\n",
    "- At time = 2, task 1 is available to process. Available tasks = {1}.\n",
    "- At time = 3, task 2 is available to process. Available tasks = {1, 2}.\n",
    "- Also at time = 3, the CPU finishes task 0 and starts processing task 2 as it is the shortest. Available tasks = {1}.\n",
    "- At time = 4, task 3 is available to process. Available tasks = {1, 3}.\n",
    "- At time = 5, the CPU finishes task 2 and starts processing task 3 as it is the shortest. Available tasks = {1}.\n",
    "- At time = 6, the CPU finishes task 3 and starts processing task 1. Available tasks = {}.\n",
    "- At time = 10, the CPU finishes task 1 and becomes idle.\n",
    "'''\n",
    "\n",
    "import heapq\n",
    "\n",
    "class Solution:\n",
    "    def getOrder(self, tasks):\n",
    "        min_heap = []\n",
    "        res = []\n",
    "        time = 1\n",
    "        i = 0 \n",
    "        tasks = sorted([(et, pt, i) for i, (et, pt) in enumerate(tasks)])\n",
    "        while i < len(tasks) or min_heap:\n",
    "\n",
    "            while i < len(tasks) and tasks[i][0] <= time:\n",
    "                et, pt, idx = tasks[i]\n",
    "                heapq.heappush(min_heap, (pt, idx))\n",
    "                i += 1 \n",
    "            \n",
    "            if min_heap: \n",
    "                pt, idx = heapq.heappop(min_heap)\n",
    "                time += pt \n",
    "                res.append(idx)\n",
    "            else:\n",
    "                time = tasks[i][0]\n",
    "        return res \n",
    "    \n",
    "solution = Solution()\n",
    "solution.getOrder([[1,2],[2,4],[3,2],[4,1]])\n"
   ]
  },
  {
   "cell_type": "code",
   "execution_count": 138,
   "id": "eabe5973",
   "metadata": {},
   "outputs": [
    {
     "data": {
      "text/plain": [
       "3"
      ]
     },
     "execution_count": 138,
     "metadata": {},
     "output_type": "execute_result"
    }
   ],
   "source": [
    "''' \n",
    "Input\n",
    "[\"MedianFinder\", \"addNum\", \"addNum\", \"findMedian\", \"addNum\", \"findMedian\"]\n",
    "[[], [1], [2], [], [3], []]\n",
    "Output\n",
    "[null, null, null, 1.5, null, 2.0]\n",
    "\n",
    "Explanation\n",
    "MedianFinder medianFinder = new MedianFinder();\n",
    "medianFinder.addNum(1);    // arr = [1]\n",
    "medianFinder.addNum(2);    // arr = [1, 2]\n",
    "medianFinder.findMedian(); // return 1.5 (i.e., (1 + 2) / 2)\n",
    "medianFinder.addNum(3);    // arr[1, 2, 3]\n",
    "medianFinder.findMedian(); // return 2.0\n",
    "'''\n",
    "\n",
    "''' \n",
    "Input\n",
    "[\"MedianFinder\", \"addNum\", \"addNum\", \"findMedian\", \"addNum\", \"findMedian\"]\n",
    "[[], [1], [2], [], [3], []]\n",
    "Output\n",
    "[null, null, null, 1.5, null, 2.0]\n",
    "\n",
    "Explanation\n",
    "MedianFinder medianFinder = new MedianFinder();\n",
    "medianFinder.addNum(1);    // arr = [1]\n",
    "medianFinder.addNum(2);    // arr = [1, 2]\n",
    "medianFinder.findMedian(); // return 1.5 (i.e., (1 + 2) / 2)\n",
    "medianFinder.addNum(3);    // arr[1, 2, 3]\n",
    "medianFinder.findMedian(); // return 2.0\n",
    "'''\n",
    "\n",
    "import heapq\n",
    "\n",
    "import heapq\n",
    "\n",
    "class MedianFinder:\n",
    "\n",
    "    def __init__(self):\n",
    "        self.small = []\n",
    "        self.large = []\n",
    "\n",
    "    def addNum(self, num: int) -> None:\n",
    "        heapq.heappush(self.small, -1 * num)\n",
    "\n",
    "        if self.small and self.large and (-1 * self.small[0] > self.large[0]):\n",
    "            heapq.heappush(self.large, -1 * heapq.heappop(self.small))\n",
    "        \n",
    "        if len(self.small) > len(self.large) + 1:\n",
    "            heapq.heappush(self.large, -1 * heapq.heappop(self.small))\n",
    "\n",
    "        if len(self.large) > len(self.small) + 1:\n",
    "            heapq.heappush(self.small, -1 * heapq.heappop(self.large))\n",
    "\n",
    "    \n",
    "    def findMedian(self) -> float:\n",
    "        if len(self.small) > len(self.large):\n",
    "            return -1 * self.small[0]\n",
    "        \n",
    "        if len(self.large) > len(self.small):\n",
    "            return self.large[0]\n",
    "        \n",
    "        return (-1 * self.small[0] + self.large[0]) / 2\n",
    "    \n",
    "\n",
    "obj = MedianFinder()\n",
    "obj.addNum(1)\n",
    "obj.addNum(2)\n",
    "obj.addNum(5)\n",
    "obj.addNum(3)\n",
    "obj.addNum(4)\n",
    "obj.findMedian()"
   ]
  },
  {
   "cell_type": "code",
   "execution_count": 20,
   "id": "cd9701d5",
   "metadata": {},
   "outputs": [
    {
     "name": "stdout",
     "output_type": "stream",
     "text": [
      "4\n",
      "2\n",
      "5\n",
      "1\n",
      "3\n"
     ]
    }
   ],
   "source": [
    "from collections import deque \n",
    "\n",
    "class TreeNode:\n",
    "    def __init__(self, value):\n",
    "        self.left = None \n",
    "        self.value = value \n",
    "        self.right = None \n",
    "\n",
    "class BST:\n",
    "    def __init__(self):\n",
    "        pass\n",
    "\n",
    "    def insert(self, root, value):\n",
    "        if root is None:\n",
    "            return TreeNode(value)\n",
    "        if root.value > value:\n",
    "            root.left = self.insert(root.left, value)\n",
    "        else:\n",
    "            root.right = self.insert(root.right, value)\n",
    "        return root \n",
    "    \n",
    "    def insert_without_recursion(self, root, value):\n",
    "        if root is None:\n",
    "            return TreeNode(value)\n",
    "        cur = root\n",
    "        while True:\n",
    "            new_node = TreeNode(value)\n",
    "            if cur.value > value:\n",
    "                if cur.left is None:\n",
    "                    cur.left = new_node\n",
    "                    break\n",
    "                cur = cur.left \n",
    "            else:\n",
    "                if cur.right is None:\n",
    "                    cur.right = new_node \n",
    "                    break \n",
    "                cur = cur.right \n",
    "        return root \n",
    "    \n",
    "    # Depth First Seach \n",
    "    def inorder(self, root):\n",
    "        if root:\n",
    "            self.inorder(root.left)\n",
    "            print(root.value)\n",
    "            self.inorder(root.right)\n",
    "\n",
    "    def preorder(self, root):\n",
    "        if root:\n",
    "            print(root.value)\n",
    "            self.preorder(root.left)\n",
    "            self.preorder(root.right)\n",
    "\n",
    "    def postorder(self, root):\n",
    "        if root:\n",
    "            self.postorder(root.left)\n",
    "            self.postorder(root.right)\n",
    "            print(root.value)\n",
    "\n",
    "    def levelorder(self, root):\n",
    "        queue = deque([root])\n",
    "        while queue:\n",
    "            node = queue.popleft()\n",
    "            if node:\n",
    "                print(node.value)\n",
    "\n",
    "            if node.left:\n",
    "                queue.append(node.left)\n",
    "            \n",
    "            if node.right:\n",
    "                queue.append(node.right)\n",
    "            \n",
    "    \n",
    "\n",
    "bst = BST()\n",
    "root = None \n",
    "values = [4, 2, 1, 3, 5]\n",
    "for value in values:\n",
    "    root = bst.insert_without_recursion(root, value)\n",
    "\n",
    "bst.levelorder(root)"
   ]
  },
  {
   "cell_type": "code",
   "execution_count": null,
   "id": "bfe00426",
   "metadata": {},
   "outputs": [],
   "source": [
    "from collections import deque\n",
    "\n",
    "class TreeNode:\n",
    "    def __init__(self, val=0, left=None, right=None):\n",
    "        self.val = val\n",
    "        self.left = left\n",
    "        self.right = right\n",
    "class Solution:\n",
    "    def levelOrder(self, root: Optional[TreeNode]) -> List[List[int]]:\n",
    "        if not root:\n",
    "            return []\n",
    "        queue = deque([root])\n",
    "        res = []\n",
    "        while queue:\n",
    "            level = []\n",
    "            level_size = len(queue)\n",
    "            \n",
    "            for _ in range(level_size):\n",
    "                node = queue.popleft()\n",
    "                level.append(node.val)\n",
    "                \n",
    "                if node.left:\n",
    "                    queue.append(node.left)\n",
    "                \n",
    "                if node.right:\n",
    "                    queue.append(node.right)\n",
    "            res.append(level)\n",
    "        return res "
   ]
  },
  {
   "cell_type": "code",
   "execution_count": null,
   "id": "dfd1aa6f",
   "metadata": {},
   "outputs": [],
   "source": [
    "# Definition for a binary tree node.\n",
    "# class TreeNode:\n",
    "#     def __init__(self, val=0, left=None, right=None):\n",
    "#         self.val = val\n",
    "#         self.left = left\n",
    "#         self.right = right\n",
    "class Solution:\n",
    "    def rightSideView(self, root: Optional[TreeNode]) -> List[int]:\n",
    "        queue = deque([root])\n",
    "        res = []\n",
    "        while queue:\n",
    "            level = []\n",
    "            level_size = len(queue)\n",
    "\n",
    "            for _ in range(level_size):\n",
    "                node = queue.popleft()\n",
    "                level.append(node.val)\n",
    "\n",
    "                if node.left:\n",
    "                    queue.append(node.left)\n",
    "                \n",
    "                if node.right:\n",
    "                    queue.append(node.right)\n",
    "\n",
    "            if level:  \n",
    "                res.append(level[-1])\n",
    "        return res\n"
   ]
  },
  {
   "cell_type": "code",
   "execution_count": null,
   "id": "6b743dc5",
   "metadata": {},
   "outputs": [],
   "source": [
    "class Node:\n",
    "    def __init__(self, val=0, left=None, right=None, next=None):\n",
    "        self.val = val\n",
    "        self.left = left\n",
    "        self.right = right\n",
    "        self.next = next\n",
    "\n",
    "class Solution:\n",
    "    def connect(self, root: 'Node') -> 'Node':\n",
    "        if not root:\n",
    "            return None\n",
    "        queue = deque([root])\n",
    "        while queue:\n",
    "            level_size = len(queue)\n",
    "\n",
    "            for i in range(level_size):\n",
    "                node = queue.popleft()\n",
    "                if i < level_size - 1:\n",
    "                    node.next = queue[0]\n",
    "\n",
    "                if node.left:\n",
    "                    queue.append(node.left)\n",
    "                \n",
    "                if node.right:\n",
    "                    queue.append(node.right)\n",
    "\n",
    "        return root"
   ]
  },
  {
   "cell_type": "code",
   "execution_count": 23,
   "id": "d08ca582",
   "metadata": {},
   "outputs": [],
   "source": [
    "''' \n",
    "Input: root = [1,null,2,3]\n",
    "\n",
    "Output: [1,2,3]\n",
    "'''\n",
    "from typing import Optional, List\n",
    "\n",
    "class TreeNode:\n",
    "    def __init__(self, val=0, left=None, right=None):\n",
    "        self.val = val\n",
    "        self.left = left\n",
    "        self.right = right\n",
    "class Solution:\n",
    "    def preorderTraversal(self, root: Optional[TreeNode]) -> List[int]:\n",
    "        res = []\n",
    "        def dfs(node):\n",
    "            if not node:\n",
    "                return\n",
    "            res.append(node.val)\n",
    "            dfs(node.left)\n",
    "            dfs(node.right)\n",
    "        dfs(root)\n",
    "        return res"
   ]
  },
  {
   "cell_type": "code",
   "execution_count": 24,
   "id": "b0f10098",
   "metadata": {},
   "outputs": [],
   "source": [
    "class TreeNode:\n",
    "    def __init__(self, val=0, left=None, right=None):\n",
    "        self.val = val\n",
    "        self.left = left\n",
    "        self.right = right\n",
    "class Solution:\n",
    "    def isSymmetric(self, root: Optional[TreeNode]) -> bool:\n",
    "        def ismirror(t1, t2):\n",
    "            if t1 is None and t2 is None:\n",
    "                return True \n",
    "            \n",
    "            if t1 is None or t2 is None:\n",
    "                return False\n",
    "            \n",
    "            return t1.val == t2.val and ismirror(t1.left, t2.right) and ismirror(t1.right, t2.left)\n",
    "\n",
    "        ismirror(root, root)"
   ]
  },
  {
   "cell_type": "code",
   "execution_count": 26,
   "id": "59d265a0",
   "metadata": {},
   "outputs": [
    {
     "data": {
      "text/plain": [
       "<__main__.TreeNode at 0x21856300bf0>"
      ]
     },
     "execution_count": 26,
     "metadata": {},
     "output_type": "execute_result"
    }
   ],
   "source": [
    "''' \n",
    "Input: nums = [-10,-3,0,5,9]\n",
    "Output: [0,-3,9,-10,null,5]\n",
    "Explanation: [0,-10,5,null,-3,null,9] is also accepted:\n",
    "'''\n",
    "\n",
    "class TreeNode:\n",
    "    def __init__(self, val=0, left=None, right=None):\n",
    "        self.val = val\n",
    "        self.left = left\n",
    "        self.right = right\n",
    "class Solution:\n",
    "    def sortedArrayToBST(self, nums: List[int]) -> Optional[TreeNode]:\n",
    "        if len(nums) == 0:\n",
    "            return None\n",
    "        mid = len(nums) // 2 \n",
    "        root = TreeNode(nums[mid])\n",
    "        root.left = self.sortedArrayToBST(nums[:mid])\n",
    "        root.right = self.sortedArrayToBST(nums[mid + 1:])\n",
    "        return root\n",
    "\n",
    "solution = Solution()\n",
    "solution.sortedArrayToBST([-10,-3,0,5,9])"
   ]
  },
  {
   "cell_type": "code",
   "execution_count": 27,
   "id": "785575da",
   "metadata": {},
   "outputs": [],
   "source": [
    "class TreeNode:\n",
    "    def __init__(self, val=0, left=None, right=None):\n",
    "        self.val = val\n",
    "        self.left = left\n",
    "        self.right = right\n",
    "class Solution:\n",
    "    def buildTree(self, preorder: List[int], inorder: List[int]) -> Optional[TreeNode]:\n",
    "        if not preorder or not  inorder:\n",
    "            return None \n",
    "        \n",
    "        root = TreeNode(preorder[0])\n",
    "        index = inorder.index(preorder[0])\n",
    "        root.left = self.buildTree(preorder[1:index + 1], inorder[:index])\n",
    "        root.right = self.buildTree(preorder[index + 1:], inorder[index + 1:])\n",
    "        return root "
   ]
  },
  {
   "cell_type": "code",
   "execution_count": 28,
   "id": "2f414276",
   "metadata": {},
   "outputs": [],
   "source": [
    "class TreeNode(object):\n",
    "    def __init__(self, x):\n",
    "        self.val = x\n",
    "        self.left = None\n",
    "        self.right = None\n",
    "\n",
    "class Codec:\n",
    "\n",
    "    def serialize(self, root):\n",
    "        res = []\n",
    "        def dfs(node):\n",
    "            if node is None:\n",
    "                res.append(\"N\")\n",
    "                return \n",
    "            res.append(str(node.val))\n",
    "            dfs(node.left)\n",
    "            dfs(node.right)\n",
    "        dfs(root)\n",
    "        return \",\".join(res)\n",
    "    \n",
    "    def deserialize(self, data):\n",
    "        vals = data.split(\",\")\n",
    "        self.i = 0 \n",
    "        def dfs():\n",
    "            if vals[self.i] == 'N':\n",
    "                self.i += 1\n",
    "                return None \n",
    "            \n",
    "            node = TreeNode(int(vals[self.i]))\n",
    "            self.i += 1 \n",
    "            node.left = dfs()\n",
    "            node.right = dfs()\n",
    "            return node\n",
    "        return dfs()"
   ]
  },
  {
   "cell_type": "code",
   "execution_count": 29,
   "id": "7adcb2c9",
   "metadata": {},
   "outputs": [],
   "source": [
    "from collections import defaultdict\n",
    "\n",
    "class TreeNode:\n",
    "    def __init__(self, val=0, left=None, right=None):\n",
    "        self.val = val\n",
    "        self.left = left\n",
    "        self.right = right\n",
    "\n",
    "from collections import defaultdict\n",
    "\n",
    "class Solution:\n",
    "    def pathSum(self, root: Optional[TreeNode], targetSum: int) -> int:\n",
    "        prefix_sum = defaultdict(int)\n",
    "        prefix_sum[0] = 1 \n",
    "\n",
    "        def dfs(node, current_sum):\n",
    "            if not node:\n",
    "                return 0 \n",
    "            current_sum += node.val \n",
    "            needed_sum = current_sum - targetSum \n",
    "            paths = prefix_sum[needed_sum]\n",
    "            prefix_sum = prefix_sum[needed_sum] + 1 \n",
    "\n",
    "            paths += dfs(node.left, current_sum)\n",
    "            paths += dfs(node.right, current_sum)\n",
    "\n",
    "            prefix_sum = prefix_sum[needed_sum] - 1 \n",
    "            return paths\n",
    "        dfs(root, 0)\n",
    "\n"
   ]
  },
  {
   "cell_type": "code",
   "execution_count": 30,
   "id": "9895535e",
   "metadata": {},
   "outputs": [],
   "source": [
    "''' \n",
    "Input: root = [1,null,2,3]\n",
    "\n",
    "Output: [1,3,2]\n",
    "'''\n",
    "\n",
    "class TreeNode:\n",
    "    def __init__(self, val=0, left=None, right=None):\n",
    "        self.val = val\n",
    "        self.left = left\n",
    "        self.right = right\n",
    "class Solution:\n",
    "    def inorderTraversal(self, root: Optional[TreeNode]) -> List[int]:\n",
    "        res = []\n",
    "        def dfs(node):\n",
    "            if not node:\n",
    "                return None \n",
    "            dfs(node.left)\n",
    "            res.append(node.val)\n",
    "            dfs(node.right)\n",
    "        dfs(root)"
   ]
  },
  {
   "cell_type": "code",
   "execution_count": null,
   "id": "13665b31",
   "metadata": {},
   "outputs": [],
   "source": [
    "class TreeNode:\n",
    "    def __init__(self, val=0, left=None, right=None):\n",
    "        self.val = val\n",
    "        self.left = left\n",
    "        self.right = right\n",
    "class Solution:\n",
    "    def isValidBST(self, root: Optional[TreeNode]) -> bool:\n",
    "        res = []\n",
    "        def inorder(node):\n",
    "            if not node:\n",
    "                return None \n",
    "            inorder(node.left)\n",
    "            res.append(node.val)\n",
    "            inorder(node.right)\n",
    "        \n",
    "        prev = res[0]\n",
    "        for num in res[1:]:\n",
    "            if prev >= num:\n",
    "                return False \n",
    "            prev = num\n",
    "        return True"
   ]
  },
  {
   "cell_type": "code",
   "execution_count": null,
   "id": "80b0d455",
   "metadata": {},
   "outputs": [],
   "source": [
    "''' \n",
    "Input: root = [3,1,4,null,2], k = 1\n",
    "Output: 1\n",
    "'''\n",
    "\n",
    "class TreeNode:\n",
    "    def __init__(self, val=0, left=None, right=None):\n",
    "        self.val = val\n",
    "        self.left = left\n",
    "        self.right = right\n",
    "class Solution:\n",
    "    def kthSmallest(self, root: Optional[TreeNode], k: int) -> int:\n",
    "        res = []\n",
    "        def inorder(node):\n",
    "            if not node:\n",
    "                return None \n",
    "            inorder(node.left)\n",
    "            res.append(node.val)\n",
    "            inorder(node.right)\n",
    "        return res[k - 1]"
   ]
  },
  {
   "cell_type": "code",
   "execution_count": 32,
   "id": "4fe4db34",
   "metadata": {},
   "outputs": [],
   "source": [
    "# Definition for a binary tree node.\n",
    "class TreeNode:\n",
    "    def __init__(self, val=0, left=None, right=None):\n",
    "        self.val = val\n",
    "        self.left = left\n",
    "        self.right = right\n",
    "class BSTIterator:\n",
    "\n",
    "    def __init__(self, root: Optional[TreeNode]):\n",
    "        self.vals = []\n",
    "        self.i = 0 \n",
    "        self.inorder(root)\n",
    "    \n",
    "    def next(self) -> int:\n",
    "        self.i += 1\n",
    "        return self.vals[self.i - 1]\n",
    "\n",
    "    def hasNext(self) -> bool:\n",
    "        return len(self.vals) > self.i\n",
    "\n",
    "    def inorder(self, root):\n",
    "        if not root:\n",
    "            return None \n",
    "        self.inorder(root.left)\n",
    "        self.vals.append(root.val)\n",
    "        self.inorder(root.right)\n"
   ]
  },
  {
   "cell_type": "code",
   "execution_count": 33,
   "id": "ddb2f0c8",
   "metadata": {},
   "outputs": [],
   "source": [
    "''' \n",
    "Input: root = [1,null,2,3]\n",
    "\n",
    "Output: [3,2,1]\n",
    "'''\n",
    "\n",
    "class TreeNode:\n",
    "    def __init__(self, val=0, left=None, right=None):\n",
    "        self.val = val\n",
    "        self.left = left\n",
    "        self.right = right\n",
    "class Solution:\n",
    "    def postorderTraversal(self, root: Optional[TreeNode]) -> List[int]:\n",
    "        res = []\n",
    "        def postorder(node):\n",
    "            if not node:\n",
    "                return None \n",
    "            postorder(node.left)\n",
    "            postorder(node.right)\n",
    "            res.append(node.val)\n",
    "        postorder(root)\n",
    "        return res "
   ]
  },
  {
   "cell_type": "code",
   "execution_count": null,
   "id": "b8249578",
   "metadata": {},
   "outputs": [],
   "source": [
    "class TreeNode:\n",
    "    def __init__(self, val=0, left=None, right=None):\n",
    "        self.val = val\n",
    "        self.left = left\n",
    "        self.right = right\n",
    "class Solution:\n",
    "    def invertTree(self, root: Optional[TreeNode]) -> Optional[TreeNode]:\n",
    "        if not root:\n",
    "            return None \n",
    "        temp = root.left \n",
    "        root.left = root.right \n",
    "        root.right = temp \n",
    "        self.invertTree(root.left)\n",
    "        self.invertTree(root.right)\n",
    "        return root\n"
   ]
  },
  {
   "cell_type": "code",
   "execution_count": 34,
   "id": "2cd7fd7e",
   "metadata": {},
   "outputs": [],
   "source": [
    "class TreeNode:\n",
    "    def __init__(self, val=0, left=None, right=None):\n",
    "        self.val = val\n",
    "        self.left = left\n",
    "        self.right = right\n",
    "class Solution:\n",
    "    def diameterOfBinaryTree(self, root: Optional[TreeNode]) -> int:\n",
    "        self.max_diameter = 0 \n",
    "        def dfs(node):\n",
    "            if not node:\n",
    "                return 0 \n",
    "            \n",
    "            left_height = dfs(node.left)\n",
    "            right_height = dfs(node.right)\n",
    "\n",
    "            self.max_diameter = max(self.max_diameter, left_height + right_height)\n",
    "            return 1 + max(left_height, right_height)\n",
    "        return self.max_diameter"
   ]
  },
  {
   "cell_type": "code",
   "execution_count": 36,
   "id": "7ac5fceb",
   "metadata": {},
   "outputs": [],
   "source": [
    "class TreeNode:\n",
    "    def __init__(self, x):\n",
    "        self.val = x\n",
    "        self.left = None\n",
    "        self.right = None\n",
    "\n",
    "class Solution:\n",
    "    def lowestCommonAncestor(self, root: 'TreeNode', p: 'TreeNode', q: 'TreeNode') -> 'TreeNode':\n",
    "        if not root:\n",
    "            return None \n",
    "        \n",
    "        if root == p or root == q:\n",
    "            return root \n",
    "        \n",
    "        left = self.lowestCommonAncestor(root.left, p, q)\n",
    "        right = self.lowestCommonAncestor(root.right, p, q)\n",
    "\n",
    "        if left and right:\n",
    "            return root \n",
    "        \n",
    "        return left if left else right\n",
    "    \n",
    "class Solution:\n",
    "    def lowestCommonAncestor(self, root: 'TreeNode', p: 'TreeNode', q: 'TreeNode') -> 'TreeNode':\n",
    "        cur = root\n",
    "        while cur:\n",
    "            if cur.val < p.val and  cur.val < q.val:\n",
    "                cur = cur.right \n",
    "            elif cur.val > p.val and cur.val > q.val:\n",
    "                cur = cur.left \n",
    "            else:\n",
    "                return cur"
   ]
  },
  {
   "cell_type": "code",
   "execution_count": 38,
   "id": "39150b88",
   "metadata": {},
   "outputs": [],
   "source": [
    "class TreeNode:\n",
    "    def __init__(self, val=0, left=None, right=None):\n",
    "        self.val = val\n",
    "        self.left = left\n",
    "        self.right = right\n",
    "class Solution:\n",
    "    def maxPathSum(self, root: Optional[TreeNode]) -> int:\n",
    "        self.max_sum = float('-inf')  # initialize global maximum\n",
    "\n",
    "        def dfs(node):\n",
    "            if not node:\n",
    "                return 0 \n",
    "            \n",
    "            left_max = max(dfs(node.left), 0)\n",
    "            right_max = max(dfs(node.right), 0)\n",
    "            curr_max = node.val + left_max + right_max \n",
    "            self.max_sum = max(self.max_sum, curr_max)\n",
    "            return node.val + max(left_max, right_max)\n",
    "        dfs(root)\n",
    "        return self.max_sum"
   ]
  },
  {
   "cell_type": "code",
   "execution_count": 39,
   "id": "07c1cc05",
   "metadata": {},
   "outputs": [
    {
     "name": "stdout",
     "output_type": "stream",
     "text": [
      "True\n",
      "False\n",
      "True\n"
     ]
    }
   ],
   "source": [
    "class TreeNode:\n",
    "    def __init__(self, start, end):\n",
    "        self.left = None \n",
    "        self.right = None \n",
    "        self.start = start \n",
    "        self.end = end \n",
    "\n",
    "    def insert(self, start, end):\n",
    "        cur = self \n",
    "        while cur:\n",
    "            if cur.start >= end:\n",
    "                if not cur.left:\n",
    "                    cur.left = TreeNode(start, end) \n",
    "                    return True\n",
    "                cur = cur.left\n",
    "            elif cur.end <= start:\n",
    "                if not cur.right:\n",
    "                    cur.right = TreeNode(start, end) \n",
    "                    return True \n",
    "                cur = cur.right \n",
    "            else:\n",
    "                return False \n",
    "            \n",
    "class MyCalendar(object):\n",
    "\n",
    "    def __init__(self):\n",
    "        self.root = None \n",
    "    \n",
    "    def book(self, startTime, endTime):\n",
    "        if not self.root:\n",
    "            self.root = TreeNode(startTime, endTime)\n",
    "            return True \n",
    "        return self.root.insert(startTime, endTime)\n",
    "        \n",
    "\n",
    "cal = MyCalendar()\n",
    "print(cal.book(10, 20))  # True\n",
    "print(cal.book(15, 25))  # False (overlaps with 10-20)\n",
    "print(cal.book(20, 30))  # True (no overlap)"
   ]
  },
  {
   "cell_type": "code",
   "execution_count": 41,
   "id": "9875ed3c",
   "metadata": {},
   "outputs": [
    {
     "name": "stdout",
     "output_type": "stream",
     "text": [
      "True True False\n"
     ]
    }
   ],
   "source": [
    "class MyCalendarTwo:\n",
    "\n",
    "    def __init__(self):\n",
    "        self.bookings = []\n",
    "        self.overlap = []\n",
    "    \n",
    "    def book(self, start: int, end: int) -> bool:\n",
    "        for s, e in self.overlap:\n",
    "            if max(s, start) < min(e, end):\n",
    "                return False \n",
    "        \n",
    "        for s, e in self.bookings:\n",
    "            if max(s, start) < min(end, e):\n",
    "                self.overlap.append([max(start, s), min(end, e)])\n",
    "        \n",
    "        self.bookings.append([start, end])\n",
    "        return True \n",
    "    \n",
    "obj = MyCalendarTwo()\n",
    "param_1 = obj.book(10,30)\n",
    "param_2 = obj.book(25, 30)\n",
    "param_3 = obj.book(20, 30)\n",
    "print(param_1, param_2, param_3)"
   ]
  },
  {
   "cell_type": "code",
   "execution_count": 43,
   "id": "db2a626f",
   "metadata": {},
   "outputs": [
    {
     "name": "stdout",
     "output_type": "stream",
     "text": [
      "30 40 30\n",
      "30\n"
     ]
    }
   ],
   "source": [
    "import heapq \n",
    "\n",
    "class StockPrice:\n",
    "\n",
    "    def __init__(self):\n",
    "        self.min_price = []\n",
    "        self.max_price = []\n",
    "        self.latest_timestamp = 0 \n",
    "        self.timesstamp_price = {}\n",
    "\n",
    "    def update(self, timestamp: int, price: int) -> None:\n",
    "        if self.latest_timestamp < timestamp:\n",
    "            self.latest_timestamp = timestamp \n",
    "\n",
    "        heapq.heappush(self.min_price, [price, timestamp])\n",
    "        heapq.heappush(self.max_price, [-price, timestamp])\n",
    "        self.timesstamp_price[timestamp] = price\n",
    "\n",
    "    def current(self):\n",
    "        return self.timesstamp_price[self.latest_timestamp]\n",
    "    \n",
    "    def minimum(self):\n",
    "        while self.min_price:\n",
    "            price, time = self.min_price[0]\n",
    "            if price == self.timesstamp_price[time]:\n",
    "                return price\n",
    "            heapq.heappop(self.min_price)\n",
    "\n",
    "    def maximum(self):\n",
    "        while self.max_price:\n",
    "            price, time = self.max_price[0]\n",
    "            if -price == self.timesstamp_price[time]:\n",
    "                return -price\n",
    "            heapq.heappop(self.max_price)\n",
    "        \n",
    "obj = StockPrice()\n",
    "obj.update(10, 50)\n",
    "obj.update(20, 30)\n",
    "obj.update(10, 40)\n",
    "param_2 = obj.current()\n",
    "param_3 = obj.maximum()\n",
    "param_4 = obj.minimum()\n",
    "print(param_2, param_3, param_4)\n",
    "print(obj.current())"
   ]
  },
  {
   "cell_type": "code",
   "execution_count": 48,
   "metadata": {},
   "outputs": [
    {
     "name": "stdout",
     "output_type": "stream",
     "text": [
      "True True\n"
     ]
    }
   ],
   "source": [
    "''' \n",
    "Example 1:\n",
    "\n",
    "Input\n",
    "[\"Trie\", \"insert\", \"search\", \"search\", \"startsWith\", \"insert\", \"search\"]\n",
    "[[], [\"apple\"], [\"apple\"], [\"app\"], [\"app\"], [\"app\"], [\"app\"]]\n",
    "Output\n",
    "[null, null, true, false, true, null, true]\n",
    "\n",
    "Explanation\n",
    "Trie trie = new Trie();\n",
    "trie.insert(\"apple\");\n",
    "trie.search(\"apple\");   // return True\n",
    "trie.search(\"app\");     // return False\n",
    "trie.startsWith(\"app\"); // return True\n",
    "trie.insert(\"app\");\n",
    "trie.search(\"app\");     // return True\n",
    "'''\n",
    "class TrieNode:\n",
    "    def __init__(self):\n",
    "        self.children = {}\n",
    "        self.word = False \n",
    "\n",
    "class Trie:\n",
    "    def __init__(self):\n",
    "        self.root = TrieNode() \n",
    "\n",
    "    def insert(self, word):\n",
    "        node = self.root \n",
    "        for c in word:\n",
    "            if c not in node.children:\n",
    "                node.children[c] = TrieNode()\n",
    "            node = node.children[c]\n",
    "        node.word = True\n",
    "\n",
    "    def search(self, word):\n",
    "        node = self.find(word)\n",
    "        return node and node.word\n",
    "    \n",
    "    def startsWith(self, word):\n",
    "        node = self.find(word)\n",
    "        return node is not None\n",
    "    \n",
    "    def find(self, word):\n",
    "        node = self.root \n",
    "        for c in word:\n",
    "            if c not in node.children:\n",
    "                return None \n",
    "            node = node.children[c]\n",
    "        return node \n",
    "    \n",
    "\n",
    "obj = Trie()\n",
    "word = 'Dharani'\n",
    "obj.insert(word)\n",
    "obj.insert('Prasad')\n",
    "param_2 = obj.search(word)\n",
    "param_3 = obj.startsWith('Dh')\n",
    "print(param_2, param_3)\n"
   ]
  },
  {
   "cell_type": "code",
   "execution_count": 52,
   "metadata": {},
   "outputs": [
    {
     "data": {
      "text/plain": [
       "['oath', 'eat']"
      ]
     },
     "execution_count": 52,
     "metadata": {},
     "output_type": "execute_result"
    }
   ],
   "source": [
    "class TrieNode:\n",
    "    def __init__(self):\n",
    "        self.children = {}\n",
    "        self.word = None \n",
    "\n",
    "class Solution:\n",
    "    def findWords(self, board: List[List[str]], words: List[str]) -> List[str]:\n",
    "        root = TrieNode()\n",
    "\n",
    "        for word in words:\n",
    "            node = root\n",
    "            for c in word:\n",
    "                if c not in node.children:\n",
    "                    node.children[c] = TrieNode()\n",
    "                node = node.children[c]\n",
    "            node.word = word\n",
    "        \n",
    "        rows, cols = len(board), len(board[0])\n",
    "        res = []\n",
    "\n",
    "        def dfs(r, c, node):\n",
    "            char = board[r][c]\n",
    "            \n",
    "            if char not in node.children:\n",
    "                return \n",
    "            \n",
    "            next_node = node.children[char]\n",
    "            \n",
    "            if next_node.word is not None:\n",
    "                res.append(next_node.word)\n",
    "                next_node.word = None\n",
    "            \n",
    "            board[r][c] = '#'\n",
    "\n",
    "            directions = [(0, 1), (1, 0), (0, -1), (-1, 0)]\n",
    "\n",
    "            for dr, dc in directions:\n",
    "                nr, nc = r + dr, c + dc \n",
    "\n",
    "                if 0 <= nr < rows and 0 <= nc < cols and board[nr][nc] != '#':\n",
    "                    dfs(nr, nc, next_node)\n",
    "            \n",
    "            board[r][c] = char\n",
    "\n",
    "            if not next_node.children:\n",
    "                node.children.pop(char)\n",
    "        \n",
    "        for i in range(rows):\n",
    "            for j in range(cols):\n",
    "                dfs(i, j, root)\n",
    "\n",
    "        return res \n",
    "    \n",
    "board = [[\"o\",\"a\",\"a\",\"n\"],\n",
    "         [\"e\",\"t\",\"a\",\"e\"],\n",
    "         [\"i\",\"h\",\"k\",\"r\"],\n",
    "         [\"i\",\"f\",\"l\",\"v\"]]\n",
    "\n",
    "words = [\"oath\",\"pea\",\"eat\",\"rain\"]\n",
    "\n",
    "solution = Solution()\n",
    "solution.findWords(board, words)"
   ]
  },
  {
   "cell_type": "code",
   "execution_count": 55,
   "id": "8db7b2dc",
   "metadata": {},
   "outputs": [
    {
     "name": "stdout",
     "output_type": "stream",
     "text": [
      "A : ['B']\n",
      "B : ['A', 'D']\n",
      "C : []\n",
      "D : ['B']\n",
      "###### After removing D Vertex ########\n",
      "A : ['B']\n",
      "B : ['A']\n",
      "C : []\n"
     ]
    },
    {
     "data": {
      "text/plain": [
       "['A', 'B']"
      ]
     },
     "execution_count": 55,
     "metadata": {},
     "output_type": "execute_result"
    }
   ],
   "source": [
    "class AdjacencyListGraph:\n",
    "    def __init__(self):\n",
    "        self.adj_list = {}\n",
    "\n",
    "    def print_graph(self):\n",
    "        for vertex in self.adj_list:\n",
    "            print(vertex, ':', self.adj_list[vertex])\n",
    "    \n",
    "    def add_vertex(self, v1):\n",
    "        if v1 not in self.adj_list:\n",
    "            self.adj_list[v1] = []\n",
    "            return True \n",
    "        return False \n",
    "\n",
    "    def add_edge(self, v1, v2):\n",
    "        if v1 in self.adj_list and v2 in self.adj_list:\n",
    "            self.adj_list[v1].append(v2)\n",
    "            self.adj_list[v2].append(v1)\n",
    "            return True \n",
    "        return False \n",
    "\n",
    "    def remove_vertex(self, v1):\n",
    "        if v1 in self.adj_list:\n",
    "            for neighbour in self.adj_list[v1]:\n",
    "                self.adj_list[neighbour].remove(v1)\n",
    "            del self.adj_list[v1]\n",
    "            return True \n",
    "        return False\n",
    "\n",
    "    def remove_edge(self, v1, v2):\n",
    "        if v1 in self.adj_list and v2 in self.adj_list:\n",
    "            self.adj_list[v1].remove(v2)\n",
    "            self.adj_list[v2].remove(v1)\n",
    "            return True \n",
    "        return False\n",
    "\n",
    "    def dfs(self, start_vertex):\n",
    "        visited = set()\n",
    "        res = []\n",
    "        def dfs(vertex):\n",
    "            if vertex in visited:\n",
    "                return \n",
    "            \n",
    "            res.append(vertex)\n",
    "            visited.add(vertex)\n",
    "            for neighbour in self.adj_list[vertex]:\n",
    "                if neighbour in visited:\n",
    "                    continue\n",
    "                dfs(neighbour)\n",
    "            \n",
    "        dfs(start_vertex)\n",
    "        return res \n",
    "    \n",
    "    def dfs_without_recursion(self, start_vertex):\n",
    "        visited = set()\n",
    "        res = []\n",
    "        stack = []\n",
    "        stack.append(start_vertex)\n",
    "        while stack:\n",
    "            vertex = stack.pop()\n",
    "            if vertex in visited:\n",
    "                continue\n",
    "            res.append(vertex)\n",
    "            visited.add(vertex)\n",
    "            for neighbour in self.adj_list[vertex]:\n",
    "                if neighbour not in visited:\n",
    "                    stack.append(neighbour)\n",
    "        return res\n",
    "    \n",
    "    def bfs(self, start_vertex):\n",
    "        queue = deque([start_vertex])\n",
    "        res = []\n",
    "        visited = set()\n",
    "        def bfs(queue: deque):\n",
    "            if not queue:\n",
    "                return\n",
    "            vertex = queue.popleft()\n",
    "            if vertex in visited:\n",
    "                return\n",
    "             \n",
    "            res.append(vertex)\n",
    "            visited.add(vertex)\n",
    "            for neighbour in self.adj_list[vertex]:\n",
    "                if neighbour not in visited:\n",
    "                    queue.append(neighbour)\n",
    "                    bfs(queue)\n",
    "        bfs(queue)\n",
    "        return res \n",
    "    \n",
    "    def bfs_without_recursion(self, start_vertex):\n",
    "        queue = deque([start_vertex])\n",
    "        res = []\n",
    "        visited = set()\n",
    "        while queue:\n",
    "            vertex = queue.popleft()\n",
    "            if vertex in visited:\n",
    "                continue\n",
    "            res.append(vertex)\n",
    "            visited.add(vertex)\n",
    "            for neighbour in self.adj_list[vertex]:\n",
    "                if neighbour not in visited:\n",
    "                    queue.append(neighbour)\n",
    "        return res \n",
    "    \n",
    "\n",
    "adjList = AdjacencyListGraph()\n",
    "\n",
    "adjList.add_vertex(\"A\")\n",
    "adjList.add_vertex(\"B\")\n",
    "adjList.add_vertex(\"C\")\n",
    "adjList.add_vertex(\"D\")\n",
    "adjList.add_edge(\"A\", \"B\")\n",
    "adjList.add_edge(\"B\", \"D\")\n",
    "adjList.print_graph()\n",
    "adjList.remove_vertex(\"D\")\n",
    "print(\"###### After removing D Vertex ########\")\n",
    "adjList.print_graph()\n",
    "adjList.dfs(\"A\")\n",
    "adjList.bfs(\"A\")\n"
   ]
  },
  {
   "cell_type": "code",
   "execution_count": 56,
   "metadata": {},
   "outputs": [
    {
     "data": {
      "text/plain": [
       "['1', '2', '3', '5', '4', '6', '7']"
      ]
     },
     "execution_count": 56,
     "metadata": {},
     "output_type": "execute_result"
    }
   ],
   "source": [
    "# Example for DFS \n",
    "\n",
    "adjList = AdjacencyListGraph()\n",
    "adjList.add_vertex(\"1\")\n",
    "adjList.add_vertex(\"2\")\n",
    "adjList.add_vertex(\"3\")\n",
    "adjList.add_vertex(\"4\")\n",
    "adjList.add_vertex(\"5\")\n",
    "adjList.add_vertex(\"6\")\n",
    "adjList.add_vertex(\"7\")\n",
    "adjList.add_edge(\"1\", \"2\")\n",
    "adjList.add_edge(\"1\", \"3\")\n",
    "adjList.add_edge(\"1\", \"4\")\n",
    "adjList.add_edge(\"2\", \"3\")\n",
    "adjList.add_edge(\"2\", \"5\")\n",
    "adjList.add_edge(\"4\", \"6\")\n",
    "adjList.add_edge(\"4\", \"7\")\n",
    "adjList.add_edge(\"6\", \"7\")\n",
    "#adjList.dfs(\"1\")\n",
    "adjList.bfs(\"1\")\n"
   ]
  },
  {
   "cell_type": "code",
   "execution_count": 62,
   "metadata": {},
   "outputs": [
    {
     "data": {
      "text/plain": [
       "1"
      ]
     },
     "execution_count": 62,
     "metadata": {},
     "output_type": "execute_result"
    }
   ],
   "source": [
    "''' \n",
    "Input: grid = [\n",
    "  [\"1\",\"1\",\"1\",\"1\",\"0\"],\n",
    "  [\"1\",\"1\",\"0\",\"1\",\"0\"],\n",
    "  [\"1\",\"1\",\"0\",\"0\",\"0\"],\n",
    "  [\"0\",\"0\",\"0\",\"0\",\"0\"]\n",
    "]\n",
    "Output: 1\n",
    "'''\n",
    "from typing import List \n",
    "\n",
    "class Solution:\n",
    "    def numIslands(self, grid: List[List[str]]) -> int:\n",
    "        rows, cols = len(grid), len(grid[0])\n",
    "        \n",
    "        def dfs(r, c):\n",
    "            if 0 <= r < rows and 0 <= c < cols and grid[r][c] != '0':\n",
    "                grid[r][c] = '0'\n",
    "                directions = [(0, 1), (1, 0), (0, -1), (-1, 0)]\n",
    "                for dr, dc in directions:\n",
    "                    nr, nc = r + dr, c + dc \n",
    "                    dfs(nr, nc)\n",
    "        \n",
    "        count = 0\n",
    "        for r in range(rows):\n",
    "            for c in range(cols):\n",
    "                if grid[r][c] == '1':\n",
    "                    dfs(r, c)\n",
    "                    count += 1\n",
    "        \n",
    "        return count \n",
    "    \n",
    "solution = Solution()\n",
    "solution.numIslands([\n",
    "  [\"1\",\"1\",\"1\",\"1\",\"0\"],\n",
    "  [\"1\",\"1\",\"0\",\"1\",\"0\"],\n",
    "  [\"1\",\"1\",\"0\",\"0\",\"0\"],\n",
    "  [\"0\",\"0\",\"0\",\"0\",\"0\"]\n",
    "])\n"
   ]
  },
  {
   "cell_type": "code",
   "execution_count": 63,
   "id": "f01f7a9b",
   "metadata": {},
   "outputs": [],
   "source": [
    "class Node:\n",
    "    def __init__(self, val = 0, neighbors = None):\n",
    "        self.val = val\n",
    "        self.neighbors = neighbors if neighbors is not None else []\n",
    "\n",
    "\n",
    "from typing import Optional\n",
    "\n",
    "class Solution:\n",
    "    def cloneGraph(self, node: Optional['Node']) -> Optional['Node']:\n",
    "        if not node:\n",
    "            return \n",
    "        \n",
    "        old_to_new = {}\n",
    "        def dfs(node):\n",
    "            if node in old_to_new:\n",
    "                return old_to_new[node]\n",
    "            \n",
    "            copy = Node(node.val)\n",
    "            old_to_new[node] = copy \n",
    "            for neighbour in node.neighbors:\n",
    "                copy.neighbors.append(dfs(neighbour))\n",
    "            return copy \n",
    "        return dfs(node)\n"
   ]
  },
  {
   "cell_type": "code",
   "execution_count": 72,
   "id": "da9ff0ca",
   "metadata": {},
   "outputs": [
    {
     "name": "stdout",
     "output_type": "stream",
     "text": [
      "Node 1 with neighbors [2, 4]\n",
      "Node 2 with neighbors [1, 3]\n",
      "Node 4 with neighbors [1, 3]\n",
      "Node 3 with neighbors [2, 4]\n"
     ]
    }
   ],
   "source": [
    "from collections import deque\n",
    "from typing import Optional\n",
    "\n",
    "class Node:\n",
    "    def __init__(self, val=0, neighbors=None):\n",
    "        self.val = val\n",
    "        self.neighbors = neighbors if neighbors is not None else []\n",
    "\n",
    "class Solution:\n",
    "    def cloneGraph(self, node: Optional['Node']) -> Optional['Node']:\n",
    "        if not node:\n",
    "            return None\n",
    "\n",
    "        old_to_new = {node: Node(node.val)}\n",
    "        queue = deque([node])\n",
    "\n",
    "        while queue:\n",
    "            curr = queue.popleft()\n",
    "            for neighbor in curr.neighbors:\n",
    "                if neighbor not in old_to_new:\n",
    "                    old_to_new[neighbor] = Node(neighbor.val)\n",
    "                    queue.append(neighbor)\n",
    "                old_to_new[curr].neighbors.append(old_to_new[neighbor])\n",
    "\n",
    "        return old_to_new[node]\n",
    "\n",
    "    \n",
    "# Create the nodes\n",
    "node1 = Node(1)\n",
    "node2 = Node(2)\n",
    "node3 = Node(3)\n",
    "node4 = Node(4)\n",
    "\n",
    "# Connect neighbors (undirected graph)\n",
    "node1.neighbors = [node2, node4]\n",
    "node2.neighbors = [node1, node3]\n",
    "node3.neighbors = [node2, node4]\n",
    "node4.neighbors = [node1, node3]\n",
    "\n",
    "\n",
    "solution = Solution()\n",
    "res = solution.cloneGraph(node1)\n",
    "def print_graph(node):\n",
    "    visited = set()\n",
    "    queue = deque([node])\n",
    "    while queue:\n",
    "        current = queue.popleft()\n",
    "        if current in visited:\n",
    "            continue\n",
    "        visited.add(current)\n",
    "        print(f\"Node {current.val} with neighbors {[n.val for n in current.neighbors]}\")\n",
    "        for neighbor in current.neighbors:\n",
    "            if neighbor not in visited:\n",
    "                queue.append(neighbor)\n",
    "print_graph(res)\n"
   ]
  },
  {
   "cell_type": "code",
   "execution_count": 73,
   "id": "2f6ca67e",
   "metadata": {},
   "outputs": [
    {
     "data": {
      "text/plain": [
       "False"
      ]
     },
     "execution_count": 73,
     "metadata": {},
     "output_type": "execute_result"
    }
   ],
   "source": [
    "''' \n",
    "Input: graph = [[1,2,3],[0,2],[0,1,3],[0,2]]\n",
    "Output: false\n",
    "Explanation: There is no way to partition the nodes into two independent sets such that every edge connects a node in one and a node in the other.\n",
    "'''\n",
    "\n",
    "from collections import deque\n",
    "\n",
    "class Solution:\n",
    "    def isBipartite(self, graph):\n",
    "        n = len(graph)\n",
    "        color = [-1] * n \n",
    "        for start in range(n):\n",
    "            if color[start] == -1:\n",
    "                queue = deque([start])\n",
    "                color[start] = 0 \n",
    "            \n",
    "            while queue:\n",
    "                node = queue.popleft()\n",
    "                for neighbor in graph[node]:\n",
    "                    if neighbor == -1:\n",
    "                        color[neighbor] = 1 - color[node]\n",
    "                    elif color[neighbor] == color[node]:\n",
    "                        return False \n",
    "        return True\n",
    "    \n",
    "solution = Solution()\n",
    "solution.isBipartite([[1,2,3],[0,2],[0,1,3],[0,2]])\n",
    "\n",
    "    "
   ]
  },
  {
   "cell_type": "code",
   "execution_count": 78,
   "id": "9a7936db",
   "metadata": {},
   "outputs": [
    {
     "data": {
      "text/plain": [
       "4"
      ]
     },
     "execution_count": 78,
     "metadata": {},
     "output_type": "execute_result"
    }
   ],
   "source": [
    "''' \n",
    "You are given an m x n grid where each cell can have one of three values:\n",
    "\n",
    "0 representing an empty cell,\n",
    "1 representing a fresh orange, or\n",
    "2 representing a rotten orange.\n",
    "Every minute, any fresh orange that is 4-directionally adjacent to a rotten orange becomes rotten.\n",
    "\n",
    "Return the minimum number of minutes that must elapse until no cell has a fresh orange. If this is impossible, return -1.\n",
    "'''\n",
    "\n",
    "''' \n",
    "Input: grid = [[2,1,1],[1,1,0],[0,1,1]]\n",
    "Output: 4\n",
    "'''\n",
    "from collections import deque\n",
    "class Solution:\n",
    "    def orangesRotting(self, grid: List[List[int]]) -> int:\n",
    "        fresh_count = 0 \n",
    "        rows, cols = len(grid), len(grid[0])\n",
    "        queue = deque()\n",
    "\n",
    "        for r in range(rows):\n",
    "            for c in range(cols):\n",
    "                if grid[r][c] == 2:\n",
    "                    queue.append([r, c, 0])\n",
    "                elif grid[r][c] == 1:\n",
    "                    fresh_count += 1 \n",
    "        \n",
    "        if fresh_count == 0:\n",
    "            return 0\n",
    "        directions = [(0, 1), (1, 0), (0, -1), (-1, 0)]\n",
    "        minutes = 0 \n",
    "        while queue:\n",
    "            r, c, minutes = queue.popleft()\n",
    "            for dr, dc in directions:\n",
    "                nr, nc = r + dr, c + dc \n",
    "                if 0 <= nr < rows and 0 <= nc < cols and grid[nr][nc] == 1:\n",
    "                        grid[nr][nc] = 2\n",
    "                        fresh_count -= 1\n",
    "                        queue.append([nr, nc, 1 + minutes])\n",
    "        return minutes if fresh_count == 0 else 0 \n",
    "    \n",
    "solution = Solution()\n",
    "solution.orangesRotting([[2,1,1],[1,1,0],[0,1,1]])"
   ]
  },
  {
   "cell_type": "code",
   "execution_count": 6,
   "id": "d37e6eb1",
   "metadata": {},
   "outputs": [
    {
     "data": {
      "text/plain": [
       "5"
      ]
     },
     "execution_count": 6,
     "metadata": {},
     "output_type": "execute_result"
    }
   ],
   "source": [
    "from collections import defaultdict, deque\n",
    "\n",
    "def ladderLength(beginWord, endWord, wordList:list):\n",
    "    if endWord not in wordList:\n",
    "        return \n",
    "    wordList.append(endWord)\n",
    "    word_patterns = defaultdict(list)\n",
    "\n",
    "    L = len(beginWord)\n",
    "\n",
    "    for word in wordList:\n",
    "        for i in range(L):\n",
    "            pattern = word[:i] + '*' + word[i + 1:]\n",
    "            word_patterns[pattern].append(word)\n",
    "    \n",
    "    queue = deque([(beginWord, 1)])\n",
    "    visited = set([beginWord])\n",
    "\n",
    "    while queue:\n",
    "        word, level = queue.popleft()\n",
    "        for i in range(L):\n",
    "            pattern = word[:i] + '*' + word[i + 1:]\n",
    "            for neighbor in word_patterns[pattern]:\n",
    "                if neighbor == endWord:\n",
    "                    return level + 1 \n",
    "                if neighbor not in visited:\n",
    "                    queue.append((neighbor, level + 1))\n",
    "                    visited.add(neighbor)\n",
    "    return 0 \n",
    "\n",
    "ladderLength(\"hit\", \"cog\", [\"hot\",\"dot\",\"dog\",\"lot\",\"log\",\"cog\"]) \n",
    "\n",
    "\n"
   ]
  },
  {
   "cell_type": "code",
   "execution_count": null,
   "id": "6b4e6fbe",
   "metadata": {},
   "outputs": [],
   "source": []
  }
 ],
 "metadata": {
  "kernelspec": {
   "display_name": "Python 3",
   "language": "python",
   "name": "python3"
  },
  "language_info": {
   "codemirror_mode": {
    "name": "ipython",
    "version": 3
   },
   "file_extension": ".py",
   "mimetype": "text/x-python",
   "name": "python",
   "nbconvert_exporter": "python",
   "pygments_lexer": "ipython3",
   "version": "3.12.6"
  }
 },
 "nbformat": 4,
 "nbformat_minor": 5
}
